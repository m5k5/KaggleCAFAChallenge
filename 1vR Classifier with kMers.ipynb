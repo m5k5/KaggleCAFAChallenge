{
 "cells": [
  {
   "cell_type": "code",
   "execution_count": 1,
   "id": "9c1d77e7",
   "metadata": {},
   "outputs": [
    {
     "name": "stdout",
     "output_type": "stream",
     "text": [
      "/mnt/e/ML/cafa-5-protein-function-prediction\n"
     ]
    }
   ],
   "source": [
    "import os\n",
    "from dotenv import load_dotenv\n",
    "import numpy as np\n",
    "import pandas as pd\n",
    "import datetime\n",
    "\n",
    "# try:\n",
    "#   tf.config.experimental.set_memory_growth(physical_devices[0], True)\n",
    "# except:\n",
    "#   # Invalid device or cannot modify virtual devices once initialized.\n",
    "#   pass\n",
    "\n",
    "load_dotenv(override=True)\n",
    "\n",
    "DATA_PATH = os.getenv('DATA_PATH')\n",
    "print(DATA_PATH)\n",
    "\n",
    "# Choose subontology (CCO, MFO or BPO)\n",
    "SO = 'MFO'"
   ]
  },
  {
   "attachments": {},
   "cell_type": "markdown",
   "id": "e3544f8a",
   "metadata": {},
   "source": [
    "## Reading fasta, obo and tsv files"
   ]
  },
  {
   "cell_type": "code",
   "execution_count": 2,
   "id": "c8b515f2",
   "metadata": {},
   "outputs": [],
   "source": [
    "from Bio import SeqIO\n",
    "\n",
    "sequences = [rec.seq for rec in SeqIO.parse(os.path.join(DATA_PATH, \"Train/train_sequences.fasta\"),\"fasta\")]\n",
    "ids = [rec.id for rec in SeqIO.parse(os.path.join(DATA_PATH, \"Train/train_sequences.fasta\"),\"fasta\")]"
   ]
  },
  {
   "cell_type": "code",
   "execution_count": 3,
   "id": "2898414e",
   "metadata": {},
   "outputs": [],
   "source": [
    "import networkx\n",
    "import obonet\n",
    "\n",
    "# Read the taxrank ontology\n",
    "url = os.path.join(DATA_PATH, \"Train/go-basic.obo\")\n",
    "graph = obonet.read_obo(url)\n"
   ]
  },
  {
   "cell_type": "code",
   "execution_count": 4,
   "id": "9f4bf949",
   "metadata": {},
   "outputs": [
    {
     "name": "stdout",
     "output_type": "stream",
     "text": [
      "(670114, 3)\n"
     ]
    }
   ],
   "source": [
    "df = pd.read_csv(os.path.join(DATA_PATH, \"Train/train_terms.tsv\"), sep='\\t')\n",
    "\n",
    "dfSO = df.loc[df[\"aspect\"]==SO]\n",
    "uniqueTerms = dfSO[\"term\"].unique()\n",
    "termsArr = list(dfSO[\"term\"].to_numpy())\n",
    "\n",
    "uniqueTermsDict={}\n",
    "for i,el in enumerate(uniqueTerms):\n",
    "    uniqueTermsDict[el] = i\n",
    "    \n",
    "print(dfSO.shape)\n",
    "df=dfSO\n",
    "\n",
    "df.set_index(\"EntryID\", inplace=True)"
   ]
  },
  {
   "cell_type": "code",
   "execution_count": 5,
   "id": "e4dec705",
   "metadata": {},
   "outputs": [],
   "source": [
    "testID = df.index.to_list()[0]"
   ]
  },
  {
   "attachments": {},
   "cell_type": "markdown",
   "id": "5338b7f8",
   "metadata": {},
   "source": [
    "## GO analysis"
   ]
  },
  {
   "cell_type": "code",
   "execution_count": 6,
   "id": "1058ef1d",
   "metadata": {},
   "outputs": [],
   "source": [
    "item_counts = df[\"term\"].value_counts()"
   ]
  },
  {
   "cell_type": "code",
   "execution_count": 7,
   "id": "eb35584f",
   "metadata": {},
   "outputs": [],
   "source": [
    "id_to_name = {id_: data.get('name') for id_, data in graph.nodes(data=True)}\n",
    "name_to_id = {data['name']: id_ for id_, data in graph.nodes(data=True) if 'name' in data}"
   ]
  },
  {
   "cell_type": "code",
   "execution_count": 8,
   "id": "0b5b61a5",
   "metadata": {},
   "outputs": [],
   "source": [
    "dfGo = pd.read_csv(os.path.join(DATA_PATH, \"Train/train_terms.tsv\"), sep='\\t')\n",
    "\n",
    "dfGo = dfGo.loc[dfGo[\"aspect\"]==SO]\n",
    "\n",
    "dfGo.set_index(\"term\", inplace=True)"
   ]
  },
  {
   "attachments": {},
   "cell_type": "markdown",
   "id": "3c099fc2",
   "metadata": {},
   "source": [
    "## Label encoding"
   ]
  },
  {
   "attachments": {},
   "cell_type": "markdown",
   "id": "cae9a3b0",
   "metadata": {},
   "source": [
    "The task is a multilabel classification: The output has several possible targets (Gene Ontologies) but each can only be 1 (existing) or 0 (non existing)"
   ]
  },
  {
   "attachments": {},
   "cell_type": "markdown",
   "id": "c8e63ed9",
   "metadata": {},
   "source": [
    "Extract label weights from IA"
   ]
  },
  {
   "cell_type": "code",
   "execution_count": 9,
   "id": "c7e3c316",
   "metadata": {},
   "outputs": [
    {
     "name": "stdout",
     "output_type": "stream",
     "text": [
      "Not found GOs: 0 (set to 0)\n"
     ]
    }
   ],
   "source": [
    "dfIa = pd.read_csv(os.path.join(DATA_PATH, \"IA.txt\"), sep='\\t', header=None)\n",
    "\n",
    "dfIa.set_index(0, inplace=True)\n",
    "\n",
    "labelWeights=[]\n",
    "allIndices = dfIa.index.tolist()\n",
    "\n",
    "#TODO: Change the order of label weights in all the other models!!\n",
    "# it should be 'for go in mlb.classes_' \n",
    "\n",
    "notFound=0\n",
    "for go in item_counts.index.to_list():\n",
    "    if go in allIndices:\n",
    "        labelWeights.append(dfIa.loc[go].to_numpy()[0])\n",
    "    else:\n",
    "        notFound += 1\n",
    "        labelWeights.append(0)\n",
    "\n",
    "print(\"Not found GOs: {} (set to 0)\".format(notFound))"
   ]
  },
  {
   "cell_type": "code",
   "execution_count": 10,
   "id": "6d98d0df",
   "metadata": {},
   "outputs": [],
   "source": [
    "topGOs=item_counts.index.to_list()\n",
    "\n",
    "threshold=0\n",
    "labelWeights=np.array(labelWeights)\n",
    "selection = labelWeights>threshold\n",
    "topGOs=np.array(topGOs)[selection]\n",
    "\n",
    "if os.path.exists(os.path.join(DATA_PATH, \"GODataSizes_\"+SO+\".npy\")):\n",
    "    print(\"Loading presaved data\")\n",
    "    GODataSizes = np.load(os.path.join(DATA_PATH, \"GODataSizes_\"+SO+\".npy\"))\n",
    "else:\n",
    "    GODataSizes= [dfGo.loc[g].size for g in topGOs]\n",
    "    np.save(os.path.join(DATA_PATH, \"GODataSizes_\"+SO), GODataSizes)\n"
   ]
  },
  {
   "cell_type": "code",
   "execution_count": 11,
   "id": "41c9c9aa",
   "metadata": {},
   "outputs": [
    {
     "name": "stdout",
     "output_type": "stream",
     "text": [
      "2099\n"
     ]
    }
   ],
   "source": [
    "#At least 10 samples\n",
    "print(np.count_nonzero(np.array(GODataSizes)>20))\n",
    "GODataSizes= np.array(GODataSizes)\n",
    "GOsWithSufficientData = topGOs[GODataSizes>20]\n"
   ]
  },
  {
   "cell_type": "code",
   "execution_count": 12,
   "id": "99f6a6ca",
   "metadata": {},
   "outputs": [
    {
     "name": "stdout",
     "output_type": "stream",
     "text": [
      "['GO:0003674' 'GO:0003953' 'GO:0016787' 'GO:0016799' 'GO:0016798'\n",
      " 'GO:0003824']\n",
      "[[0 0 0 ... 0 0 0]]\n",
      "2099\n"
     ]
    },
    {
     "name": "stderr",
     "output_type": "stream",
     "text": [
      "/home/manuel/miniconda3/envs/tf/lib/python3.9/site-packages/sklearn/preprocessing/_label.py:895: UserWarning: unknown class(es) ['GO:0003674'] will be ignored\n",
      "  warnings.warn(\n"
     ]
    }
   ],
   "source": [
    "from sklearn.preprocessing import MultiLabelBinarizer\n",
    "import pickle\n",
    "\n",
    "\n",
    "mlb = MultiLabelBinarizer()\n",
    "mlb.fit([GOsWithSufficientData])\n",
    "\n",
    "dftest=df.loc[testID]\n",
    "indices = dftest[\"term\"].to_numpy()\n",
    "print(indices)\n",
    "print(mlb.transform([indices]))\n",
    "print(len(mlb.classes_))\n",
    "\n",
    "with open(os.path.join(DATA_PATH,'MLB_'+SO+'.pkl'), 'wb') as f:\n",
    "    pickle.dump(mlb, f)"
   ]
  },
  {
   "cell_type": "code",
   "execution_count": 13,
   "id": "98db10dc",
   "metadata": {},
   "outputs": [
    {
     "name": "stdout",
     "output_type": "stream",
     "text": [
      "Not found GOs: 0 (set to 0)\n"
     ]
    }
   ],
   "source": [
    "\n",
    "labelWeightsCorr=[]\n",
    "\n",
    "notFound=0\n",
    "for go in mlb.classes_:\n",
    "    if go in allIndices:\n",
    "        labelWeightsCorr.append(dfIa.loc[go].to_numpy()[0])\n",
    "    else:\n",
    "        notFound += 1\n",
    "        labelWeightsCorr.append(0)\n",
    "\n",
    "print(\"Not found GOs: {} (set to 0)\".format(notFound))\n",
    "labelWeightsCorr=np.array(labelWeightsCorr)"
   ]
  },
  {
   "attachments": {},
   "cell_type": "markdown",
   "id": "92019f8c",
   "metadata": {},
   "source": [
    "## Amino acids encoding"
   ]
  },
  {
   "cell_type": "code",
   "execution_count": 14,
   "id": "6e42462e",
   "metadata": {},
   "outputs": [],
   "source": [
    "aa_dict = {'A': 1, 'B':24, 'C': 2, 'D': 3, 'E': 4, 'F': 5, 'G': 6, 'H': 7, 'I': 8, 'K': 9, 'L': 10, 'M': 11, 'N': 12, 'O': 21, 'P': 13, 'Q': 14, 'R': 15, 'S': 16, 'T': 17, 'U': 22, 'V': 18, 'W': 19, 'Y': 20, 'X':30, 'Z':23}"
   ]
  },
  {
   "attachments": {},
   "cell_type": "markdown",
   "id": "bfd823ba",
   "metadata": {},
   "source": [
    "## Build Dataset"
   ]
  },
  {
   "cell_type": "code",
   "execution_count": 15,
   "id": "431f9df8",
   "metadata": {},
   "outputs": [
    {
     "name": "stdout",
     "output_type": "stream",
     "text": [
      "The max. length of the sequences is 35375\n"
     ]
    }
   ],
   "source": [
    "seqLengths = [len(seq) for seq in sequences]\n",
    "maxLen = max(seqLengths)\n",
    "print(\"The max. length of the sequences is {}\".format(maxLen))"
   ]
  },
  {
   "cell_type": "code",
   "execution_count": 16,
   "id": "e581e06c",
   "metadata": {},
   "outputs": [
    {
     "name": "stdout",
     "output_type": "stream",
     "text": [
      "['A0A009IHW8' 'A0A023FBW4' 'A0A023FBW7' ... 'X5L1L5' 'X5L565' 'X5M5N0']\n"
     ]
    }
   ],
   "source": [
    "\n",
    "dfAll=pd.read_csv(os.path.join(DATA_PATH, \"Train/train_terms.tsv\"), sep='\\t')\n",
    "\n",
    "soEntries = dfAll.loc[dfAll[\"aspect\"]==SO]\n",
    "soEntryIds = soEntries[\"EntryID\"].unique()\n",
    "\n",
    "# print(len(seqEntries))\n",
    "print(soEntryIds)\n",
    "\n",
    "# SoSequences = []\n",
    "# for entry in soEntryIds:\n",
    "#     SoSequences.append(sequences[ids.index(entry)])\n",
    "\n",
    "# print(len(SoSequences))\n",
    "dfAll.set_index(\"EntryID\", inplace=True)"
   ]
  },
  {
   "cell_type": "code",
   "execution_count": 17,
   "id": "44f722e8",
   "metadata": {},
   "outputs": [
    {
     "name": "stdout",
     "output_type": "stream",
     "text": [
      "99572\n"
     ]
    }
   ],
   "source": [
    "import warnings\n",
    "from itertools import product\n",
    "from tqdm import tqdm\n",
    "import os\n",
    "\n",
    "TRAIN_VAL_SPLIT = 0.7\n",
    "k = 3\n",
    "\n",
    "allAA = list(aa_dict.keys())\n",
    "allAA.sort()\n",
    "allCombinations= list(product(*(allAA for i in range(k))))\n",
    "allCombinations=np.array([''.join(el) for el in allCombinations])\n",
    "\n",
    "positionDict = dict(zip(allCombinations, np.arange(0,allCombinations.size).T))\n",
    "\n",
    "#Use numpy vectorize to speed up the mapping (hopefully)\n",
    "mapping = lambda x: aa_dict[x]\n",
    "vectMapping = np.vectorize(mapping)\n",
    "\n",
    "# Shuffle the data\n",
    "import random\n",
    "random.seed(516213)\n",
    "c = list(zip(sequences, ids))\n",
    "random.shuffle(c)\n",
    "sequencesShuffle, idsShuffle = zip(*c)\n",
    "\n",
    "\n",
    "#Train Validation Split\n",
    "split = int(np.floor(len(sequencesShuffle)*TRAIN_VAL_SPLIT))\n",
    "print(split)\n",
    "trainSeq = sequencesShuffle[0:split]\n",
    "valSeq = sequencesShuffle[split+1:]\n",
    "trainIds = idsShuffle[0:split]\n",
    "valIds = idsShuffle[split+1:]\n",
    "\n",
    "        "
   ]
  },
  {
   "attachments": {},
   "cell_type": "markdown",
   "id": "10c4a51a",
   "metadata": {},
   "source": [
    "## One-vs-Rest Classification"
   ]
  },
  {
   "cell_type": "code",
   "execution_count": 18,
   "id": "b6b71bb4",
   "metadata": {},
   "outputs": [
    {
     "name": "stderr",
     "output_type": "stream",
     "text": [
      "100%|██████████| 99572/99572 [01:20<00:00, 1243.30it/s]\n"
     ]
    }
   ],
   "source": [
    "target = mlb.classes_[671]\n",
    "\n",
    "def getKmers(seq):\n",
    "    kmers = [seq[j:j+k] if j < len(seq)-(k-1) else 0 for j,el in enumerate(seq)]\n",
    "    kmers = kmers[0:-(k-1)]\n",
    "    kmers = [str(el) for el in kmers]\n",
    "    values, counts = np.unique(kmers, return_counts=True)\n",
    "    freqVector=np.zeros(allCombinations.shape)\n",
    "    for l,v in enumerate(values):\n",
    "        freqVector[positionDict[v]] = counts[l]\n",
    "    return freqVector\n",
    "\n",
    "\n",
    "X=[]\n",
    "y=[]\n",
    "positiveClassCount=0\n",
    "\n",
    "for i,seq in enumerate(tqdm(trainSeq)):\n",
    "    entryId = trainIds[i]\n",
    "    if entryId in soEntryIds:\n",
    "        labelData = df.loc[entryId]\n",
    "        indices = labelData[\"term\"].to_numpy()\n",
    "    else: \n",
    "        indices=[]\n",
    "    if target in indices:\n",
    "        freqVector= getKmers(seq)\n",
    "        X.append(freqVector)\n",
    "        y.append(1)\n",
    "        positiveClassCount += 1\n",
    "    elif 0.2*len(y) < positiveClassCount:\n",
    "        freqVector= getKmers(seq)\n",
    "        X.append(freqVector)\n",
    "        y.append(0)\n",
    "    else:\n",
    "        continue\n",
    "\n",
    "X=np.array(X)\n",
    "y=np.array(y)\n",
    "\n",
    "    "
   ]
  },
  {
   "cell_type": "code",
   "execution_count": 19,
   "id": "0fb02e33",
   "metadata": {},
   "outputs": [
    {
     "name": "stderr",
     "output_type": "stream",
     "text": [
      "100%|██████████| 42673/42673 [00:34<00:00, 1251.01it/s]\n"
     ]
    }
   ],
   "source": [
    "\n",
    "Xval=[]\n",
    "yval=[]\n",
    "positiveClassCountVal=0\n",
    "for i,seq in enumerate(tqdm(valSeq)):\n",
    "    entryId = valIds[i]\n",
    "    if entryId in soEntryIds:\n",
    "        labelData = df.loc[entryId]\n",
    "        indices = labelData[\"term\"].to_numpy()\n",
    "    else: \n",
    "        indices=[]\n",
    "    if target in indices:\n",
    "        freqVector= getKmers(seq)\n",
    "        Xval.append(freqVector)\n",
    "        yval.append(1)\n",
    "        positiveClassCountVal += 1\n",
    "    elif len(yval)/2 < positiveClassCountVal:\n",
    "        freqVector= getKmers(seq)\n",
    "        Xval.append(freqVector)\n",
    "        yval.append(0)\n",
    "    else:\n",
    "        continue\n",
    "\n",
    "Xval=np.array(Xval)\n",
    "yval=np.array(yval)"
   ]
  },
  {
   "cell_type": "code",
   "execution_count": 20,
   "id": "9a6d82df",
   "metadata": {},
   "outputs": [
    {
     "name": "stdout",
     "output_type": "stream",
     "text": [
      "(140, 15625)\n",
      "(140,)\n",
      "28\n",
      "(16, 15625)\n",
      "(16,)\n",
      "8\n"
     ]
    }
   ],
   "source": [
    "print(X.shape)\n",
    "print(y.shape)\n",
    "print(np.count_nonzero(y))\n",
    "print(Xval.shape)\n",
    "print(yval.shape)\n",
    "print(np.count_nonzero(yval))"
   ]
  },
  {
   "cell_type": "code",
   "execution_count": 21,
   "id": "244b6936",
   "metadata": {},
   "outputs": [
    {
     "name": "stdout",
     "output_type": "stream",
     "text": [
      "0.75\n"
     ]
    }
   ],
   "source": [
    "from sklearn.linear_model import LogisticRegression\n",
    "from sklearn import svm\n",
    "from sklearn.neural_network import MLPClassifier\n",
    "from sklearn.model_selection import train_test_split\n",
    "from sklearn import preprocessing\n",
    "from sklearn.pipeline import make_pipeline\n",
    "from sklearn.ensemble import AdaBoostClassifier\n",
    "\n",
    "# clf = LogisticRegression().fit(X, y)\n",
    "# clf = svm.SVC(probability=True).fit(X, y)\n",
    "# clf = MLPClassifier(solver='lbfgs', alpha=1e-5,hidden_layer_sizes=(4, 64)).fit(X, y)\n",
    "clf = make_pipeline(preprocessing.StandardScaler(), LogisticRegression(solver=\"liblinear\"))\n",
    "# clf = make_pipeline(preprocessing.StandardScaler(), AdaBoostClassifier(n_estimators=50))\n",
    "# clf = make_pipeline(preprocessing.StandardScaler(), MLPClassifier(solver='lbfgs', random_state=854, hidden_layer_sizes=(32,32,32)))\n",
    "\n",
    "clf.fit(X, y)\n",
    "# print(clf.predict(Xval))\n",
    "# print(clf.predict_proba(Xval))\n",
    "print(clf.score(Xval, yval))"
   ]
  },
  {
   "cell_type": "code",
   "execution_count": 22,
   "id": "754d63ca",
   "metadata": {},
   "outputs": [],
   "source": [
    "def ClassificationScores(yTrue, yPred):\n",
    "    tp = np.sum(np.logical_and(np.array(yTrue, dtype=\"bool\") , np.array(yPred, dtype=\"bool\")))\n",
    "    fn = np.sum(np.logical_and(np.logical_not(yTrue) , np.array(yPred, dtype=\"bool\")))\n",
    "    fp = np.sum(np.logical_and(np.array(yTrue, dtype=\"bool\") , np.logical_not(yPred)))\n",
    "    prec = (tp)/(tp+fp+1e-20)\n",
    "    rec = tp/(tp+fn+1e-20)\n",
    "    f1 = 2*(prec*rec)/(prec+rec+1e-20)\n",
    "    return prec, rec, f1"
   ]
  },
  {
   "cell_type": "code",
   "execution_count": 23,
   "id": "45f835da",
   "metadata": {},
   "outputs": [
    {
     "data": {
      "text/plain": [
       "(0.875, 0.7, 0.7777777777777777)"
      ]
     },
     "execution_count": 23,
     "metadata": {},
     "output_type": "execute_result"
    }
   ],
   "source": [
    "ClassificationScores(yval, clf.predict(Xval))"
   ]
  },
  {
   "attachments": {},
   "cell_type": "markdown",
   "id": "a0a05488",
   "metadata": {},
   "source": [
    "----"
   ]
  },
  {
   "cell_type": "code",
   "execution_count": 24,
   "id": "aa5b236f",
   "metadata": {},
   "outputs": [
    {
     "name": "stdout",
     "output_type": "stream",
     "text": [
      "(670114, 3)\n"
     ]
    }
   ],
   "source": [
    "dfGo = pd.read_csv(os.path.join(DATA_PATH, \"Train/train_terms.tsv\"), sep='\\t')\n",
    "\n",
    "dfGo = dfGo.loc[dfGo[\"aspect\"]==SO]\n",
    "uniqueTerms = dfGo[\"term\"].unique()\n",
    "termsArr = list(dfGo[\"term\"].to_numpy())\n",
    "\n",
    "uniqueTermsDict={}\n",
    "for i,el in enumerate(uniqueTerms):\n",
    "    uniqueTermsDict[el] = i\n",
    "    \n",
    "print(dfGo.shape)\n",
    "\n",
    "dfGo.set_index(\"term\", inplace=True)"
   ]
  },
  {
   "cell_type": "code",
   "execution_count": 25,
   "id": "83b99443",
   "metadata": {},
   "outputs": [
    {
     "name": "stderr",
     "output_type": "stream",
     "text": [
      "100%|██████████| 2099/2099 [08:20<00:00,  4.19it/s]\n"
     ]
    }
   ],
   "source": [
    "seqDict = dict(zip(ids, sequences))\n",
    "classifiers = []\n",
    "scores=[]\n",
    "f1Scores=[]\n",
    "failedClasses=[]\n",
    "\n",
    "for l in tqdm(mlb.classes_, smoothing=0.1):\n",
    "    X=[]\n",
    "    y=[]\n",
    "    # if dfGo.loc[l].size<3:\n",
    "    #     classifiers.append(None)\n",
    "    #     f1Scores.append(0)\n",
    "    #     scores.append(0)\n",
    "    #     failedClasses.append({\"class\": l, \"reason\": \"data\"})\n",
    "    #     continue\n",
    "\n",
    "    relevantSequenceIds = dfGo.loc[l][\"EntryID\"].unique()\n",
    "    for seqId in relevantSequenceIds:\n",
    "        seq = seqDict[seqId]\n",
    "        X.append(getKmers(seq))\n",
    "        y.append(1)\n",
    "        if(len(y)>200):\n",
    "            break\n",
    "\n",
    "    nonRelSeqIds = dfGo.sample(n=len(X))[\"EntryID\"].unique()\n",
    "    for seqId in nonRelSeqIds:\n",
    "        if seqId in relevantSequenceIds:\n",
    "            continue\n",
    "        seq = seqDict[seqId]\n",
    "        X.append(getKmers(seq))\n",
    "        y.append(0)\n",
    "    \n",
    "    X_train, X_test, y_train, y_test = train_test_split(X, y, test_size=0.25, random_state=42)\n",
    "    try:\n",
    "        # clf = make_pipeline(preprocessing.StandardScaler(), MLPClassifier(solver='lbfgs', random_state=854, hidden_layer_sizes=(32,32,32)))\n",
    "        clf = make_pipeline(preprocessing.StandardScaler(), LogisticRegression(solver=\"liblinear\"))\n",
    "        clf = clf.fit(X_train, y_train)\n",
    "    except Exception as err:\n",
    "        classifiers.append(None)\n",
    "        f1Scores.append(0)\n",
    "        scores.append(0)\n",
    "        failedClasses.append({\"class\": l, \"reason\": err})\n",
    "    else:\n",
    "        classifiers.append(clf)\n",
    "        f1Scores.append(ClassificationScores(y_test, clf.predict(X_test)))\n",
    "        # print(clf.predict_proba(Xval))\n",
    "        scores.append(clf.score(X_test, y_test))\n",
    "\n"
   ]
  },
  {
   "cell_type": "code",
   "execution_count": 26,
   "id": "a7ef48af",
   "metadata": {},
   "outputs": [],
   "source": [
    "with open(os.path.join(DATA_PATH,\"ClassifierArray_\"+SO+\".bin\"), \"wb\") as f: \n",
    "    pickle.dump(classifiers, f)"
   ]
  },
  {
   "cell_type": "code",
   "execution_count": 27,
   "id": "cb0c6be5",
   "metadata": {},
   "outputs": [
    {
     "data": {
      "text/plain": [
       "(array([  6.,   4.,  15.,  25.,  81., 172., 388., 398., 572., 438.]),\n",
       " array([0.14285714, 0.22857143, 0.31428571, 0.4       , 0.48571429,\n",
       "        0.57142857, 0.65714286, 0.74285714, 0.82857143, 0.91428571,\n",
       "        1.        ]),\n",
       " <BarContainer object of 10 artists>)"
      ]
     },
     "execution_count": 27,
     "metadata": {},
     "output_type": "execute_result"
    },
    {
     "data": {
      "image/png": "[encoded data removed]",
      "text/plain": [
       "<Figure size 640x480 with 1 Axes>"
      ]
     },
     "metadata": {},
     "output_type": "display_data"
    }
   ],
   "source": [
    "import matplotlib.pyplot as plt\n",
    "plt.hist(scores)"
   ]
  },
  {
   "cell_type": "code",
   "execution_count": 28,
   "id": "8f0c9aaf",
   "metadata": {},
   "outputs": [],
   "source": [
    "precisionValues = [el[0] if isinstance(el, tuple) else 0 for el in f1Scores]\n",
    "recValues = [el[1] if isinstance(el, tuple) else 0 for el in f1Scores]\n",
    "f1Values = [el[2] if isinstance(el, tuple) else 0 for el in f1Scores]"
   ]
  },
  {
   "cell_type": "code",
   "execution_count": 29,
   "id": "fc33ed1e",
   "metadata": {},
   "outputs": [
    {
     "data": {
      "text/plain": [
       "(array([ 24.,   1.,   8.,  15.,  49., 157., 274., 405., 650., 516.]),\n",
       " array([0. , 0.1, 0.2, 0.3, 0.4, 0.5, 0.6, 0.7, 0.8, 0.9, 1. ]),\n",
       " <BarContainer object of 10 artists>)"
      ]
     },
     "execution_count": 29,
     "metadata": {},
     "output_type": "execute_result"
    },
    {
     "data": {
      "image/png": "[encoded data removed]",
      "text/plain": [
       "<Figure size 640x480 with 3 Axes>"
      ]
     },
     "metadata": {},
     "output_type": "display_data"
    }
   ],
   "source": [
    "plt.subplot(2,2,1)\n",
    "plt.hist(precisionValues)\n",
    "plt.subplot(2,2,2)\n",
    "plt.hist(recValues)\n",
    "plt.subplot(2,2,3)\n",
    "plt.hist(f1Values)"
   ]
  },
  {
   "cell_type": "code",
   "execution_count": 30,
   "id": "5a3391fa",
   "metadata": {},
   "outputs": [
    {
     "data": {
      "text/plain": [
       "0.7653588106846742"
      ]
     },
     "execution_count": 30,
     "metadata": {},
     "output_type": "execute_result"
    }
   ],
   "source": [
    "np.sum(labelWeightsCorr*f1Values)/np.sum(labelWeightsCorr)"
   ]
  },
  {
   "attachments": {},
   "cell_type": "markdown",
   "id": "8a55b21d",
   "metadata": {},
   "source": [
    "----"
   ]
  },
  {
   "cell_type": "code",
   "execution_count": 31,
   "id": "7058360a",
   "metadata": {},
   "outputs": [
    {
     "data": {
      "text/plain": [
       "(array([], dtype=float64), array([], dtype=int64))"
      ]
     },
     "execution_count": 31,
     "metadata": {},
     "output_type": "execute_result"
    }
   ],
   "source": [
    "np.unique([el[\"reason\"] for el in failedClasses], return_counts=True)"
   ]
  },
  {
   "cell_type": "code",
   "execution_count": 32,
   "id": "1bf8f7d7",
   "metadata": {},
   "outputs": [
    {
     "ename": "IndexError",
     "evalue": "list index out of range",
     "output_type": "error",
     "traceback": [
      "\u001b[0;31m---------------------------------------------------------------------------\u001b[0m",
      "\u001b[0;31mIndexError\u001b[0m                                Traceback (most recent call last)",
      "Cell \u001b[0;32mIn[32], line 2\u001b[0m\n\u001b[1;32m      1\u001b[0m testDf \u001b[39m=\u001b[39m pd\u001b[39m.\u001b[39mread_csv(os\u001b[39m.\u001b[39mpath\u001b[39m.\u001b[39mjoin(DATA_PATH, \u001b[39m\"\u001b[39m\u001b[39mTrain/train_terms.tsv\u001b[39m\u001b[39m\"\u001b[39m), sep\u001b[39m=\u001b[39m\u001b[39m'\u001b[39m\u001b[39m\\t\u001b[39;00m\u001b[39m'\u001b[39m)\n\u001b[0;32m----> 2\u001b[0m testDf\u001b[39m.\u001b[39mloc[testDf[\u001b[39m\"\u001b[39m\u001b[39mterm\u001b[39m\u001b[39m\"\u001b[39m]\u001b[39m==\u001b[39mfailedClasses[\u001b[39m0\u001b[39;49m][\u001b[39m\"\u001b[39m\u001b[39mclass\u001b[39m\u001b[39m\"\u001b[39m]]\n",
      "\u001b[0;31mIndexError\u001b[0m: list index out of range"
     ]
    }
   ],
   "source": [
    "testDf = pd.read_csv(os.path.join(DATA_PATH, \"Train/train_terms.tsv\"), sep='\\t')\n",
    "testDf.loc[testDf[\"term\"]==failedClasses[0][\"class\"]]"
   ]
  },
  {
   "attachments": {},
   "cell_type": "markdown",
   "id": "dc64a4eb",
   "metadata": {},
   "source": [
    "1361 of the 1667 classes with score<0.1 have just one single sequence assigned. It is just not possible to fit any classifier to that besides maybe a knn approach"
   ]
  }
 ],
 "metadata": {
  "kernelspec": {
   "display_name": "Python 3 (ipykernel)",
   "language": "python",
   "name": "python3"
  },
  "language_info": {
   "codemirror_mode": {
    "name": "ipython",
    "version": 3
   },
   "file_extension": ".py",
   "mimetype": "text/x-python",
   "name": "python",
   "nbconvert_exporter": "python",
   "pygments_lexer": "ipython3",
   "version": "3.9.16"
  }
 },
 "nbformat": 4,
 "nbformat_minor": 5
}
