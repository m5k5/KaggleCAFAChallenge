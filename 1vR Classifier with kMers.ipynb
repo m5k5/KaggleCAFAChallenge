{
 "cells": [
  {
   "cell_type": "code",
   "execution_count": 1,
   "id": "9c1d77e7",
   "metadata": {},
   "outputs": [
    {
     "name": "stdout",
     "output_type": "stream",
     "text": [
      "/mnt/e/ML/cafa-5-protein-function-prediction\n"
     ]
    }
   ],
   "source": [
    "import os\n",
    "from dotenv import load_dotenv\n",
    "import numpy as np\n",
    "import pandas as pd\n",
    "import datetime\n",
    "\n",
    "# try:\n",
    "#   tf.config.experimental.set_memory_growth(physical_devices[0], True)\n",
    "# except:\n",
    "#   # Invalid device or cannot modify virtual devices once initialized.\n",
    "#   pass\n",
    "\n",
    "load_dotenv(override=True)\n",
    "\n",
    "DATA_PATH = os.getenv('DATA_PATH')\n",
    "print(DATA_PATH)\n",
    "\n",
    "# Choose subontology (CCO, MFO or BPO)\n",
    "SO = 'BPO'"
   ]
  },
  {
   "attachments": {},
   "cell_type": "markdown",
   "id": "e3544f8a",
   "metadata": {},
   "source": [
    "## Reading fasta, obo and tsv files"
   ]
  },
  {
   "cell_type": "code",
   "execution_count": 2,
   "id": "c8b515f2",
   "metadata": {},
   "outputs": [],
   "source": [
    "from Bio import SeqIO\n",
    "\n",
    "sequences = [rec.seq for rec in SeqIO.parse(os.path.join(DATA_PATH, \"Train/train_sequences.fasta\"),\"fasta\")]\n",
    "ids = [rec.id for rec in SeqIO.parse(os.path.join(DATA_PATH, \"Train/train_sequences.fasta\"),\"fasta\")]"
   ]
  },
  {
   "cell_type": "code",
   "execution_count": 3,
   "id": "2898414e",
   "metadata": {},
   "outputs": [],
   "source": [
    "import networkx\n",
    "import obonet\n",
    "\n",
    "# Read the taxrank ontology\n",
    "url = os.path.join(DATA_PATH, \"Train/go-basic.obo\")\n",
    "graph = obonet.read_obo(url)\n"
   ]
  },
  {
   "cell_type": "code",
   "execution_count": 4,
   "id": "9f4bf949",
   "metadata": {},
   "outputs": [
    {
     "name": "stdout",
     "output_type": "stream",
     "text": [
      "(3497732, 3)\n"
     ]
    }
   ],
   "source": [
    "df = pd.read_csv(os.path.join(DATA_PATH, \"Train/train_terms.tsv\"), sep='\\t')\n",
    "\n",
    "dfSO = df.loc[df[\"aspect\"]==SO]\n",
    "uniqueTerms = dfSO[\"term\"].unique()\n",
    "termsArr = list(dfSO[\"term\"].to_numpy())\n",
    "\n",
    "uniqueTermsDict={}\n",
    "for i,el in enumerate(uniqueTerms):\n",
    "    uniqueTermsDict[el] = i\n",
    "    \n",
    "print(dfSO.shape)\n",
    "df=dfSO\n",
    "\n",
    "df.set_index(\"EntryID\", inplace=True)"
   ]
  },
  {
   "cell_type": "code",
   "execution_count": 5,
   "id": "e4dec705",
   "metadata": {},
   "outputs": [],
   "source": [
    "testID = df.index.to_list()[0]"
   ]
  },
  {
   "attachments": {},
   "cell_type": "markdown",
   "id": "5338b7f8",
   "metadata": {},
   "source": [
    "## GO analysis"
   ]
  },
  {
   "cell_type": "code",
   "execution_count": 79,
   "id": "1058ef1d",
   "metadata": {},
   "outputs": [],
   "source": [
    "item_counts = df[\"term\"].value_counts()"
   ]
  },
  {
   "cell_type": "code",
   "execution_count": 7,
   "id": "eb35584f",
   "metadata": {},
   "outputs": [],
   "source": [
    "id_to_name = {id_: data.get('name') for id_, data in graph.nodes(data=True)}\n",
    "name_to_id = {data['name']: id_ for id_, data in graph.nodes(data=True) if 'name' in data}"
   ]
  },
  {
   "attachments": {},
   "cell_type": "markdown",
   "id": "3c099fc2",
   "metadata": {},
   "source": [
    "## Label encoding"
   ]
  },
  {
   "attachments": {},
   "cell_type": "markdown",
   "id": "cae9a3b0",
   "metadata": {},
   "source": [
    "The task is a multilabel classification: The output has several possible targets (Gene Ontologies) but each can only be 1 (existing) or 0 (non existing)"
   ]
  },
  {
   "attachments": {},
   "cell_type": "markdown",
   "id": "c8e63ed9",
   "metadata": {},
   "source": [
    "Extract label weights from IA"
   ]
  },
  {
   "cell_type": "code",
   "execution_count": 80,
   "id": "c7e3c316",
   "metadata": {},
   "outputs": [
    {
     "name": "stdout",
     "output_type": "stream",
     "text": [
      "Not found GOs: 0 (set to 0)\n"
     ]
    }
   ],
   "source": [
    "dfIa = pd.read_csv(os.path.join(DATA_PATH, \"IA.txt\"), sep='\\t', header=None)\n",
    "\n",
    "dfIa.set_index(0, inplace=True)\n",
    "\n",
    "labelWeights=[]\n",
    "allIndices = dfIa.index.tolist()\n",
    "\n",
    "#TODO: Change the order of label weights in all the other models!!\n",
    "# it should be 'for go in mlb.classes_' \n",
    "\n",
    "notFound=0\n",
    "for go in item_counts.index.to_list():\n",
    "    if go in allIndices:\n",
    "        labelWeights.append(dfIa.loc[go].to_numpy()[0])\n",
    "    else:\n",
    "        notFound += 1\n",
    "        labelWeights.append(0)\n",
    "\n",
    "print(\"Not found GOs: {} (set to 0)\".format(notFound))"
   ]
  },
  {
   "cell_type": "code",
   "execution_count": 81,
   "id": "99f6a6ca",
   "metadata": {},
   "outputs": [
    {
     "name": "stdout",
     "output_type": "stream",
     "text": [
      "['GO:0008152' 'GO:0034655' 'GO:0072523' 'GO:0044270' 'GO:0006753'\n",
      " 'GO:1901292' 'GO:0044237' 'GO:1901360' 'GO:0008150' 'GO:1901564'\n",
      " 'GO:1901565' 'GO:0009117' 'GO:0006139' 'GO:0044281' 'GO:0046496'\n",
      " 'GO:0019362' 'GO:0046483' 'GO:0055086' 'GO:0044248' 'GO:0019439'\n",
      " 'GO:0019637' 'GO:0006807' 'GO:0019677' 'GO:1901361' 'GO:0006163'\n",
      " 'GO:0046700' 'GO:0009987' 'GO:0006725' 'GO:0006796' 'GO:0034641'\n",
      " 'GO:0072521' 'GO:0071704' 'GO:0019364' 'GO:1901575' 'GO:0072526'\n",
      " 'GO:0046434' 'GO:0009166' 'GO:0072524' 'GO:0006195' 'GO:0009056'\n",
      " 'GO:0044238' 'GO:0006793' 'GO:0019674']\n",
      "[[0 0 0 ... 0 0 0]]\n",
      "14109\n"
     ]
    },
    {
     "name": "stderr",
     "output_type": "stream",
     "text": [
      "/home/manuel/miniconda3/envs/tf/lib/python3.9/site-packages/sklearn/preprocessing/_label.py:895: UserWarning: unknown class(es) ['GO:0006195', 'GO:0008150', 'GO:0019364', 'GO:1901292'] will be ignored\n",
      "  warnings.warn(\n"
     ]
    }
   ],
   "source": [
    "from sklearn.preprocessing import MultiLabelBinarizer\n",
    "import pickle\n",
    "\n",
    "topGOs= item_counts\n",
    "topGOs=topGOs.index.to_list()\n",
    "\n",
    "#Reduce possible GOs by label weight\n",
    "threshold=0\n",
    "labelWeights=np.array(labelWeights)\n",
    "selection = labelWeights>threshold\n",
    "topGOs=np.array(topGOs)[selection]\n",
    "labelWeights=labelWeights[selection]\n",
    "\n",
    "mlb = MultiLabelBinarizer()\n",
    "mlb.fit([topGOs])\n",
    "\n",
    "dftest=df.loc[testID]\n",
    "indices = dftest[\"term\"].to_numpy()\n",
    "print(indices)\n",
    "print(mlb.transform([indices]))\n",
    "print(len(mlb.classes_))\n",
    "\n",
    "with open(os.path.join(DATA_PATH,'MLB_'+SO+'.pkl'), 'wb') as f:\n",
    "    pickle.dump(mlb, f)"
   ]
  },
  {
   "cell_type": "code",
   "execution_count": 92,
   "id": "98db10dc",
   "metadata": {},
   "outputs": [
    {
     "name": "stdout",
     "output_type": "stream",
     "text": [
      "Not found GOs: 0 (set to 0)\n"
     ]
    }
   ],
   "source": [
    "\n",
    "labelWeightsCorr=[]\n",
    "\n",
    "notFound=0\n",
    "for go in mlb.classes_:\n",
    "    if go in allIndices:\n",
    "        labelWeightsCorr.append(dfIa.loc[go].to_numpy()[0])\n",
    "    else:\n",
    "        notFound += 1\n",
    "        labelWeightsCorr.append(0)\n",
    "\n",
    "print(\"Not found GOs: {} (set to 0)\".format(notFound))\n",
    "labelWeightsCorr=np.array(labelWeightsCorr)"
   ]
  },
  {
   "attachments": {},
   "cell_type": "markdown",
   "id": "92019f8c",
   "metadata": {},
   "source": [
    "## Amino acids encoding"
   ]
  },
  {
   "cell_type": "code",
   "execution_count": 71,
   "id": "6e42462e",
   "metadata": {},
   "outputs": [],
   "source": [
    "aa_dict = {'A': 1, 'B':24, 'C': 2, 'D': 3, 'E': 4, 'F': 5, 'G': 6, 'H': 7, 'I': 8, 'K': 9, 'L': 10, 'M': 11, 'N': 12, 'O': 21, 'P': 13, 'Q': 14, 'R': 15, 'S': 16, 'T': 17, 'U': 22, 'V': 18, 'W': 19, 'Y': 20, 'X':30, 'Z':23}"
   ]
  },
  {
   "attachments": {},
   "cell_type": "markdown",
   "id": "bfd823ba",
   "metadata": {},
   "source": [
    "## Build Dataset"
   ]
  },
  {
   "cell_type": "code",
   "execution_count": 85,
   "id": "431f9df8",
   "metadata": {},
   "outputs": [
    {
     "name": "stdout",
     "output_type": "stream",
     "text": [
      "The max. length of the sequences is 35375\n"
     ]
    }
   ],
   "source": [
    "seqLengths = [len(seq) for seq in sequences]\n",
    "maxLen = max(seqLengths)\n",
    "print(\"The max. length of the sequences is {}\".format(maxLen))"
   ]
  },
  {
   "cell_type": "code",
   "execution_count": 86,
   "id": "e581e06c",
   "metadata": {},
   "outputs": [
    {
     "name": "stdout",
     "output_type": "stream",
     "text": [
      "['A0A009IHW8' 'A0A021WW32' 'A0A023FFD0' ... 'X5L1L5' 'X5L565' 'X5M5N0']\n"
     ]
    }
   ],
   "source": [
    "\n",
    "dfAll=pd.read_csv(os.path.join(DATA_PATH, \"Train/train_terms.tsv\"), sep='\\t')\n",
    "\n",
    "soEntries = dfAll.loc[dfAll[\"aspect\"]==SO]\n",
    "soEntryIds = soEntries[\"EntryID\"].unique()\n",
    "\n",
    "# print(len(seqEntries))\n",
    "print(soEntryIds)\n",
    "\n",
    "# SoSequences = []\n",
    "# for entry in soEntryIds:\n",
    "#     SoSequences.append(sequences[ids.index(entry)])\n",
    "\n",
    "# print(len(SoSequences))\n",
    "dfAll.set_index(\"EntryID\", inplace=True)"
   ]
  },
  {
   "cell_type": "code",
   "execution_count": 87,
   "id": "44f722e8",
   "metadata": {},
   "outputs": [
    {
     "name": "stdout",
     "output_type": "stream",
     "text": [
      "99572\n"
     ]
    }
   ],
   "source": [
    "import warnings\n",
    "from itertools import product\n",
    "from tqdm import tqdm\n",
    "import os\n",
    "\n",
    "TRAIN_VAL_SPLIT = 0.7\n",
    "k = 3\n",
    "\n",
    "allAA = list(aa_dict.keys())\n",
    "allAA.sort()\n",
    "allCombinations= list(product(*(allAA for i in range(k))))\n",
    "allCombinations=np.array([''.join(el) for el in allCombinations])\n",
    "\n",
    "positionDict = dict(zip(allCombinations, np.arange(0,allCombinations.size).T))\n",
    "\n",
    "#Use numpy vectorize to speed up the mapping (hopefully)\n",
    "mapping = lambda x: aa_dict[x]\n",
    "vectMapping = np.vectorize(mapping)\n",
    "\n",
    "# Shuffle the data\n",
    "import random\n",
    "random.seed(516213)\n",
    "c = list(zip(sequences, ids))\n",
    "random.shuffle(c)\n",
    "sequencesShuffle, idsShuffle = zip(*c)\n",
    "\n",
    "\n",
    "#Train Validation Split\n",
    "split = int(np.floor(len(sequencesShuffle)*TRAIN_VAL_SPLIT))\n",
    "print(split)\n",
    "trainSeq = sequencesShuffle[0:split]\n",
    "valSeq = sequencesShuffle[split+1:]\n",
    "trainIds = idsShuffle[0:split]\n",
    "valIds = idsShuffle[split+1:]\n",
    "\n",
    "        "
   ]
  },
  {
   "attachments": {},
   "cell_type": "markdown",
   "id": "10c4a51a",
   "metadata": {},
   "source": [
    "## One-vs-Rest Classification"
   ]
  },
  {
   "cell_type": "code",
   "execution_count": null,
   "id": "b6b71bb4",
   "metadata": {},
   "outputs": [
    {
     "name": "stderr",
     "output_type": "stream",
     "text": [
      "100%|██████████| 99572/99572 [01:37<00:00, 1025.03it/s]\n"
     ]
    }
   ],
   "source": [
    "target = mlb.classes_[671]\n",
    "\n",
    "def getKmers(seq):\n",
    "    kmers = [seq[j:j+k] if j < len(seq)-(k-1) else 0 for j,el in enumerate(seq)]\n",
    "    kmers = kmers[0:-(k-1)]\n",
    "    kmers = [str(el) for el in kmers]\n",
    "    values, counts = np.unique(kmers, return_counts=True)\n",
    "    freqVector=np.zeros(allCombinations.shape)\n",
    "    for l,v in enumerate(values):\n",
    "        freqVector[positionDict[v]] = counts[l]\n",
    "    return freqVector\n",
    "\n",
    "\n",
    "X=[]\n",
    "y=[]\n",
    "positiveClassCount=0\n",
    "\n",
    "for i,seq in enumerate(tqdm(trainSeq)):\n",
    "    entryId = trainIds[i]\n",
    "    if entryId in soEntryIds:\n",
    "        labelData = df.loc[entryId]\n",
    "        indices = labelData[\"term\"].to_numpy()\n",
    "    else: \n",
    "        indices=[]\n",
    "    if target in indices:\n",
    "        freqVector= getKmers(seq)\n",
    "        X.append(freqVector)\n",
    "        y.append(1)\n",
    "        positiveClassCount += 1\n",
    "    elif 0.2*len(y) < positiveClassCount:\n",
    "        freqVector= getKmers(seq)\n",
    "        X.append(freqVector)\n",
    "        y.append(0)\n",
    "    else:\n",
    "        continue\n",
    "\n",
    "X=np.array(X)\n",
    "y=np.array(y)\n",
    "\n",
    "    "
   ]
  },
  {
   "cell_type": "code",
   "execution_count": null,
   "id": "0fb02e33",
   "metadata": {},
   "outputs": [
    {
     "name": "stderr",
     "output_type": "stream",
     "text": [
      "100%|██████████| 42673/42673 [00:41<00:00, 1032.80it/s]\n"
     ]
    }
   ],
   "source": [
    "\n",
    "Xval=[]\n",
    "yval=[]\n",
    "positiveClassCountVal=0\n",
    "for i,seq in enumerate(tqdm(valSeq)):\n",
    "    entryId = valIds[i]\n",
    "    if entryId in soEntryIds:\n",
    "        labelData = df.loc[entryId]\n",
    "        indices = labelData[\"term\"].to_numpy()\n",
    "    else: \n",
    "        indices=[]\n",
    "    if target in indices:\n",
    "        freqVector= getKmers(seq)\n",
    "        Xval.append(freqVector)\n",
    "        yval.append(1)\n",
    "        positiveClassCountVal += 1\n",
    "    elif len(yval)/2 < positiveClassCountVal:\n",
    "        freqVector= getKmers(seq)\n",
    "        Xval.append(freqVector)\n",
    "        yval.append(0)\n",
    "    else:\n",
    "        continue\n",
    "\n",
    "Xval=np.array(Xval)\n",
    "yval=np.array(yval)"
   ]
  },
  {
   "cell_type": "code",
   "execution_count": null,
   "id": "9a6d82df",
   "metadata": {},
   "outputs": [
    {
     "name": "stdout",
     "output_type": "stream",
     "text": [
      "(1365, 15625)\n",
      "(1365,)\n",
      "273\n",
      "(200, 15625)\n",
      "(200,)\n",
      "100\n"
     ]
    }
   ],
   "source": [
    "print(X.shape)\n",
    "print(y.shape)\n",
    "print(np.count_nonzero(y))\n",
    "print(Xval.shape)\n",
    "print(yval.shape)\n",
    "print(np.count_nonzero(yval))"
   ]
  },
  {
   "cell_type": "code",
   "execution_count": null,
   "id": "244b6936",
   "metadata": {},
   "outputs": [
    {
     "name": "stdout",
     "output_type": "stream",
     "text": [
      "0.725\n"
     ]
    }
   ],
   "source": [
    "from sklearn.linear_model import LogisticRegression\n",
    "from sklearn import svm\n",
    "from sklearn.neural_network import MLPClassifier\n",
    "from sklearn.model_selection import train_test_split\n",
    "from sklearn import preprocessing\n",
    "from sklearn.pipeline import make_pipeline\n",
    "\n",
    "# clf = LogisticRegression().fit(X, y)\n",
    "# clf = svm.SVC(probability=True).fit(X, y)\n",
    "# clf = MLPClassifier(solver='lbfgs', alpha=1e-5,hidden_layer_sizes=(4, 64)).fit(X, y)\n",
    "clf = make_pipeline(preprocessing.StandardScaler(), LogisticRegression(solver=\"liblinear\"))\n",
    "# clf = make_pipeline(preprocessing.StandardScaler(), MLPClassifier(solver='lbfgs', random_state=854, hidden_layer_sizes=(32,32,32)))\n",
    "clf.fit(X, y)\n",
    "# print(clf.predict(Xval))\n",
    "# print(clf.predict_proba(Xval))\n",
    "print(clf.score(Xval, yval))"
   ]
  },
  {
   "cell_type": "code",
   "execution_count": null,
   "id": "754d63ca",
   "metadata": {},
   "outputs": [],
   "source": [
    "def f1Score(yTrue, yPred):\n",
    "    tp = np.sum(np.logical_and(np.array(yTrue, dtype=\"bool\") , np.array(yPred, dtype=\"bool\")))\n",
    "    fn = np.sum(np.logical_and(np.logical_not(yTrue) , np.array(yPred, dtype=\"bool\")))\n",
    "    fp = np.sum(np.logical_and(np.array(yTrue, dtype=\"bool\") , np.logical_not(yPred)))\n",
    "    prec = (tp)/(tp+fp+1e-20)\n",
    "    rec = tp/(tp+fn+1e-20)\n",
    "    f1 = 2*(prec*rec)/(prec+rec+1e-20)\n",
    "    return prec, rec, f1"
   ]
  },
  {
   "cell_type": "code",
   "execution_count": null,
   "id": "45f835da",
   "metadata": {},
   "outputs": [
    {
     "data": {
      "text/plain": [
       "(0.61, 0.7922077922077922, 0.6892655367231638)"
      ]
     },
     "execution_count": 19,
     "metadata": {},
     "output_type": "execute_result"
    }
   ],
   "source": [
    "f1Score(yval, clf.predict(Xval))"
   ]
  },
  {
   "attachments": {},
   "cell_type": "markdown",
   "id": "a0a05488",
   "metadata": {},
   "source": [
    "----"
   ]
  },
  {
   "cell_type": "code",
   "execution_count": null,
   "id": "aa5b236f",
   "metadata": {},
   "outputs": [
    {
     "name": "stdout",
     "output_type": "stream",
     "text": [
      "(3497732, 3)\n"
     ]
    }
   ],
   "source": [
    "dfGo = pd.read_csv(os.path.join(DATA_PATH, \"Train/train_terms.tsv\"), sep='\\t')\n",
    "\n",
    "dfGo = dfGo.loc[dfGo[\"aspect\"]==SO]\n",
    "uniqueTerms = dfGo[\"term\"].unique()\n",
    "termsArr = list(dfGo[\"term\"].to_numpy())\n",
    "\n",
    "uniqueTermsDict={}\n",
    "for i,el in enumerate(uniqueTerms):\n",
    "    uniqueTermsDict[el] = i\n",
    "    \n",
    "print(dfGo.shape)\n",
    "\n",
    "dfGo.set_index(\"term\", inplace=True)"
   ]
  },
  {
   "cell_type": "code",
   "execution_count": null,
   "id": "83b99443",
   "metadata": {},
   "outputs": [
    {
     "name": "stderr",
     "output_type": "stream",
     "text": [
      "100%|██████████| 14109/14109 [1:01:33<00:00,  3.82it/s]\n"
     ]
    }
   ],
   "source": [
    "seqDict = dict(zip(ids, sequences))\n",
    "classifiers = []\n",
    "scores=[]\n",
    "f1Scores=[]\n",
    "failedClasses=[]\n",
    "\n",
    "for l in tqdm(mlb.classes_, smoothing=0.1):\n",
    "    X=[]\n",
    "    y=[]\n",
    "    if dfGo.loc[l].size<3:\n",
    "        classifiers.append(None)\n",
    "        f1Scores.append(0)\n",
    "        scores.append(0)\n",
    "        failedClasses.append({\"class\": l, \"reason\": \"data\"})\n",
    "        continue\n",
    "\n",
    "    relevantSequenceIds = dfGo.loc[l][\"EntryID\"].unique()\n",
    "    for seqId in relevantSequenceIds:\n",
    "        seq = seqDict[seqId]\n",
    "        X.append(getKmers(seq))\n",
    "        y.append(1)\n",
    "        if(len(y)>100):\n",
    "            break\n",
    "\n",
    "    nonRelSeqIds = dfGo.sample(n=len(X))[\"EntryID\"].unique()\n",
    "    for seqId in nonRelSeqIds:\n",
    "        if seqId in relevantSequenceIds:\n",
    "            continue\n",
    "        seq = seqDict[seqId]\n",
    "        X.append(getKmers(seq))\n",
    "        y.append(0)\n",
    "    \n",
    "    X_train, X_test, y_train, y_test = train_test_split(X, y, test_size=0.33, random_state=42)\n",
    "    try:\n",
    "        # clf = make_pipeline(preprocessing.StandardScaler(), MLPClassifier(solver='lbfgs', random_state=854, hidden_layer_sizes=(32,32,32)))\n",
    "        clf = make_pipeline(preprocessing.StandardScaler(), LogisticRegression(solver=\"liblinear\"))\n",
    "        clf = clf.fit(X_train, y_train)\n",
    "    except:\n",
    "        classifiers.append(None)\n",
    "        f1Scores.append(0)\n",
    "        scores.append(0)\n",
    "        failedClasses.append({\"class\": l, \"reason\": \"fit\"})\n",
    "    else:\n",
    "        classifiers.append(clf)\n",
    "        f1Scores.append(f1Score(y_test, clf.predict(X_test)))\n",
    "        # print(clf.predict_proba(Xval))\n",
    "        scores.append(clf.score(X_test, y_test))\n",
    "\n"
   ]
  },
  {
   "cell_type": "code",
   "execution_count": null,
   "id": "cb0c6be5",
   "metadata": {},
   "outputs": [
    {
     "data": {
      "text/plain": [
       "(array([1667.,   27.,  233.,  404.,  413., 3212., 2939., 2669., 1487.,\n",
       "        1058.]),\n",
       " array([0. , 0.1, 0.2, 0.3, 0.4, 0.5, 0.6, 0.7, 0.8, 0.9, 1. ]),\n",
       " <BarContainer object of 10 artists>)"
      ]
     },
     "execution_count": 25,
     "metadata": {},
     "output_type": "execute_result"
    },
    {
     "data": {
      "image/png": "[encoded data removed]",
      "text/plain": [
       "<Figure size 640x480 with 1 Axes>"
      ]
     },
     "metadata": {},
     "output_type": "display_data"
    }
   ],
   "source": [
    "import matplotlib.pyplot as plt\n",
    "plt.hist(scores)"
   ]
  },
  {
   "cell_type": "code",
   "execution_count": null,
   "id": "8f0c9aaf",
   "metadata": {},
   "outputs": [],
   "source": [
    "precisionValues = [el[0] if isinstance(el, tuple) else 0 for el in f1Scores]\n",
    "recValues = [el[1] if isinstance(el, tuple) else 0 for el in f1Scores]\n",
    "f1Values = [el[2] if isinstance(el, tuple) else 0 for el in f1Scores]"
   ]
  },
  {
   "cell_type": "code",
   "execution_count": null,
   "id": "fc33ed1e",
   "metadata": {},
   "outputs": [
    {
     "data": {
      "text/plain": [
       "(array([2667.,   11.,  122.,  232.,  590., 1806., 3415., 2450., 1713.,\n",
       "        1103.]),\n",
       " array([0. , 0.1, 0.2, 0.3, 0.4, 0.5, 0.6, 0.7, 0.8, 0.9, 1. ]),\n",
       " <BarContainer object of 10 artists>)"
      ]
     },
     "execution_count": 44,
     "metadata": {},
     "output_type": "execute_result"
    },
    {
     "data": {
      "image/png": "[encoded data removed]",
      "text/plain": [
       "<Figure size 640x480 with 3 Axes>"
      ]
     },
     "metadata": {},
     "output_type": "display_data"
    }
   ],
   "source": [
    "plt.subplot(2,2,1)\n",
    "plt.hist(precisionValues)\n",
    "plt.subplot(2,2,2)\n",
    "plt.hist(recValues)\n",
    "plt.subplot(2,2,3)\n",
    "plt.hist(f1Values)"
   ]
  },
  {
   "cell_type": "code",
   "execution_count": 93,
   "id": "5a3391fa",
   "metadata": {},
   "outputs": [
    {
     "data": {
      "text/plain": [
       "0.4981378321622221"
      ]
     },
     "execution_count": 93,
     "metadata": {},
     "output_type": "execute_result"
    }
   ],
   "source": [
    "np.sum(labelWeightsCorr*f1Values)/np.sum(labelWeightsCorr)"
   ]
  },
  {
   "cell_type": "code",
   "execution_count": null,
   "id": "7058360a",
   "metadata": {},
   "outputs": [
    {
     "data": {
      "text/plain": [
       "(array(['data'], dtype='<U4'), array([1361]))"
      ]
     },
     "execution_count": 24,
     "metadata": {},
     "output_type": "execute_result"
    }
   ],
   "source": [
    "np.unique([el[\"reason\"] for el in failedClasses], return_counts=True)"
   ]
  },
  {
   "cell_type": "code",
   "execution_count": null,
   "id": "1bf8f7d7",
   "metadata": {},
   "outputs": [
    {
     "data": {
      "text/html": [
       "<div>\n",
       "<style scoped>\n",
       "    .dataframe tbody tr th:only-of-type {\n",
       "        vertical-align: middle;\n",
       "    }\n",
       "\n",
       "    .dataframe tbody tr th {\n",
       "        vertical-align: top;\n",
       "    }\n",
       "\n",
       "    .dataframe thead th {\n",
       "        text-align: right;\n",
       "    }\n",
       "</style>\n",
       "<table border=\"1\" class=\"dataframe\">\n",
       "  <thead>\n",
       "    <tr style=\"text-align: right;\">\n",
       "      <th></th>\n",
       "      <th>EntryID</th>\n",
       "      <th>term</th>\n",
       "      <th>aspect</th>\n",
       "    </tr>\n",
       "  </thead>\n",
       "  <tbody>\n",
       "    <tr>\n",
       "      <th>683603</th>\n",
       "      <td>O35565</td>\n",
       "      <td>GO:0070343</td>\n",
       "      <td>BPO</td>\n",
       "    </tr>\n",
       "  </tbody>\n",
       "</table>\n",
       "</div>"
      ],
      "text/plain": [
       "       EntryID        term aspect\n",
       "683603  O35565  GO:0070343    BPO"
      ]
     },
     "execution_count": 42,
     "metadata": {},
     "output_type": "execute_result"
    }
   ],
   "source": [
    "testDf = pd.read_csv(os.path.join(DATA_PATH, \"Train/train_terms.tsv\"), sep='\\t')\n",
    "testDf.loc[testDf[\"term\"]==failedClasses[668][\"class\"]]"
   ]
  },
  {
   "attachments": {},
   "cell_type": "markdown",
   "id": "dc64a4eb",
   "metadata": {},
   "source": [
    "1361 of the 1667 classes with score<0.1 have just one single sequence assigned. It is just not possible to fit any classifier to that besides maybe a knn approach"
   ]
  },
  {
   "cell_type": "code",
   "execution_count": 94,
   "id": "544aa030",
   "metadata": {},
   "outputs": [
    {
     "data": {
      "text/plain": [
       "(array([492., 281., 239., 211., 147., 131., 101.,  48.,  15.,   2.]),\n",
       " array([ 0.13750352,  1.6730183 ,  3.20853307,  4.74404784,  6.27956261,\n",
       "         7.81507738,  9.35059215, 10.88610693, 12.4216217 , 13.95713647,\n",
       "        15.49265124]),\n",
       " <BarContainer object of 10 artists>)"
      ]
     },
     "execution_count": 94,
     "metadata": {},
     "output_type": "execute_result"
    },
    {
     "data": {
      "image/png": "[encoded data removed]",
      "text/plain": [
       "<Figure size 640x480 with 1 Axes>"
      ]
     },
     "metadata": {},
     "output_type": "display_data"
    }
   ],
   "source": [
    "badScores = [1 if (s>=0.0 and s<=0.1) else 0 for s in scores]\n",
    "badScorePos= np.argwhere(badScores)\n",
    "plt.hist(labelWeightsCorr[badScorePos])\n"
   ]
  },
  {
   "cell_type": "code",
   "execution_count": null,
   "id": "a7ef48af",
   "metadata": {},
   "outputs": [],
   "source": [
    "with open(os.path.join(DATA_PATH,\"ClassifierArray_\"+SO+\".bin\"), \"wb\") as f: \n",
    "    pickle.dump(classifiers, f)"
   ]
  }
 ],
 "metadata": {
  "kernelspec": {
   "display_name": "Python 3 (ipykernel)",
   "language": "python",
   "name": "python3"
  },
  "language_info": {
   "codemirror_mode": {
    "name": "ipython",
    "version": 3
   },
   "file_extension": ".py",
   "mimetype": "text/x-python",
   "name": "python",
   "nbconvert_exporter": "python",
   "pygments_lexer": "ipython3",
   "version": "3.9.16"
  }
 },
 "nbformat": 4,
 "nbformat_minor": 5
}
