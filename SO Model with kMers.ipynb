{
 "cells": [
  {
   "cell_type": "code",
   "execution_count": 1,
   "id": "9c1d77e7",
   "metadata": {},
   "outputs": [
    {
     "name": "stderr",
     "output_type": "stream",
     "text": [
      "2023-07-28 23:58:22.805716: I tensorflow/core/platform/cpu_feature_guard.cc:182] This TensorFlow binary is optimized to use available CPU instructions in performance-critical operations.\n",
      "To enable the following instructions: AVX2 FMA, in other operations, rebuild TensorFlow with the appropriate compiler flags.\n",
      "2023-07-28 23:58:23.265306: W tensorflow/compiler/tf2tensorrt/utils/py_utils.cc:38] TF-TRT Warning: Could not find TensorRT\n"
     ]
    },
    {
     "name": "stdout",
     "output_type": "stream",
     "text": [
      "Num GPUs Available:  1\n",
      "/mnt/e/ML/cafa-5-protein-function-prediction\n"
     ]
    },
    {
     "name": "stderr",
     "output_type": "stream",
     "text": [
      "2023-07-28 23:58:23.905412: I tensorflow/compiler/xla/stream_executor/cuda/cuda_gpu_executor.cc:982] could not open file to read NUMA node: /sys/bus/pci/devices/0000:2b:00.0/numa_node\n",
      "Your kernel may have been built without NUMA support.\n",
      "2023-07-28 23:58:23.922808: I tensorflow/compiler/xla/stream_executor/cuda/cuda_gpu_executor.cc:982] could not open file to read NUMA node: /sys/bus/pci/devices/0000:2b:00.0/numa_node\n",
      "Your kernel may have been built without NUMA support.\n",
      "2023-07-28 23:58:23.923140: I tensorflow/compiler/xla/stream_executor/cuda/cuda_gpu_executor.cc:982] could not open file to read NUMA node: /sys/bus/pci/devices/0000:2b:00.0/numa_node\n",
      "Your kernel may have been built without NUMA support.\n"
     ]
    }
   ],
   "source": [
    "import os\n",
    "from dotenv import load_dotenv\n",
    "import numpy as np\n",
    "import tensorflow as tf\n",
    "import pandas as pd\n",
    "import datetime\n",
    "\n",
    "physical_devices = tf.config.list_physical_devices('GPU')\n",
    "print(\"Num GPUs Available: \", len(physical_devices))\n",
    "# try:\n",
    "#   tf.config.experimental.set_memory_growth(physical_devices[0], True)\n",
    "# except:\n",
    "#   # Invalid device or cannot modify virtual devices once initialized.\n",
    "#   pass\n",
    "\n",
    "load_dotenv(override=True)\n",
    "\n",
    "DATA_PATH = os.getenv('DATA_PATH')\n",
    "print(DATA_PATH)\n",
    "\n",
    "# Choose subontology (CCO, MFO or BPO)\n",
    "SO = 'MFO'"
   ]
  },
  {
   "attachments": {},
   "cell_type": "markdown",
   "id": "e3544f8a",
   "metadata": {},
   "source": [
    "## Reading fasta, obo and tsv files"
   ]
  },
  {
   "cell_type": "code",
   "execution_count": 2,
   "id": "c8b515f2",
   "metadata": {},
   "outputs": [],
   "source": [
    "from Bio import SeqIO\n",
    "\n",
    "sequences = [rec.seq for rec in SeqIO.parse(os.path.join(DATA_PATH, \"Train/train_sequences.fasta\"),\"fasta\")]\n",
    "ids = [rec.id for rec in SeqIO.parse(os.path.join(DATA_PATH, \"Train/train_sequences.fasta\"),\"fasta\")]"
   ]
  },
  {
   "cell_type": "code",
   "execution_count": 3,
   "id": "2898414e",
   "metadata": {},
   "outputs": [],
   "source": [
    "import networkx\n",
    "import obonet\n",
    "\n",
    "# Read the taxrank ontology\n",
    "url = os.path.join(DATA_PATH, \"Train/go-basic.obo\")\n",
    "graph = obonet.read_obo(url)\n",
    "\n"
   ]
  },
  {
   "cell_type": "code",
   "execution_count": 4,
   "id": "9f4bf949",
   "metadata": {},
   "outputs": [
    {
     "name": "stdout",
     "output_type": "stream",
     "text": [
      "(670114, 3)\n"
     ]
    }
   ],
   "source": [
    "df = pd.read_csv(os.path.join(DATA_PATH, \"Train/train_terms.tsv\"), sep='\\t')\n",
    "\n",
    "dfSO = df.loc[df[\"aspect\"]==SO]\n",
    "uniqueTerms = dfSO[\"term\"].unique()\n",
    "termsArr = list(dfSO[\"term\"].to_numpy())\n",
    "\n",
    "uniqueTermsDict={}\n",
    "for i,el in enumerate(uniqueTerms):\n",
    "    uniqueTermsDict[el] = i\n",
    "    \n",
    "print(dfSO.shape)\n",
    "df=dfSO\n",
    "\n",
    "df.set_index(\"EntryID\", inplace=True)"
   ]
  },
  {
   "cell_type": "code",
   "execution_count": 5,
   "id": "e4dec705",
   "metadata": {},
   "outputs": [],
   "source": [
    "testID = df.index.to_list()[0]"
   ]
  },
  {
   "cell_type": "code",
   "execution_count": 6,
   "id": "7fff067f",
   "metadata": {},
   "outputs": [],
   "source": [
    "dfGo = pd.read_csv(os.path.join(DATA_PATH, \"Train/train_terms.tsv\"), sep='\\t')\n",
    "\n",
    "dfGo = dfGo.loc[dfGo[\"aspect\"]==SO]\n",
    "\n",
    "dfGo.set_index(\"term\", inplace=True)"
   ]
  },
  {
   "attachments": {},
   "cell_type": "markdown",
   "id": "5338b7f8",
   "metadata": {},
   "source": [
    "## GO analysis"
   ]
  },
  {
   "cell_type": "code",
   "execution_count": 7,
   "id": "1058ef1d",
   "metadata": {},
   "outputs": [],
   "source": [
    "item_counts = df[\"term\"].value_counts()"
   ]
  },
  {
   "cell_type": "code",
   "execution_count": 8,
   "id": "eb35584f",
   "metadata": {},
   "outputs": [],
   "source": [
    "id_to_name = {id_: data.get('name') for id_, data in graph.nodes(data=True)}\n",
    "name_to_id = {data['name']: id_ for id_, data in graph.nodes(data=True) if 'name' in data}"
   ]
  },
  {
   "cell_type": "code",
   "execution_count": 9,
   "id": "7651a3ec",
   "metadata": {},
   "outputs": [],
   "source": [
    "relevantNodes=[]\n",
    "for layer, nodes in enumerate(networkx.topological_generations(graph)):\n",
    "    if layer<20:\n",
    "        relevantNodes = relevantNodes + nodes"
   ]
  },
  {
   "attachments": {},
   "cell_type": "markdown",
   "id": "3c099fc2",
   "metadata": {},
   "source": [
    "## Label encoding"
   ]
  },
  {
   "attachments": {},
   "cell_type": "markdown",
   "id": "cae9a3b0",
   "metadata": {},
   "source": [
    "The task is a multilabel classification: The output has several possible targets (Gene Ontologies) but each can only be 1 (existing) or 0 (non existing)"
   ]
  },
  {
   "attachments": {},
   "cell_type": "markdown",
   "id": "c8e63ed9",
   "metadata": {},
   "source": [
    "Extract label weights from IA"
   ]
  },
  {
   "cell_type": "code",
   "execution_count": 10,
   "id": "c7e3c316",
   "metadata": {},
   "outputs": [
    {
     "name": "stdout",
     "output_type": "stream",
     "text": [
      "Not found GOs: 0 (set to 0)\n"
     ]
    }
   ],
   "source": [
    "dfIa = pd.read_csv(os.path.join(DATA_PATH, \"IA.txt\"), sep='\\t', header=None)\n",
    "\n",
    "dfIa.set_index(0, inplace=True)\n",
    "\n",
    "labelWeights=[]\n",
    "allIndices = dfIa.index.tolist()\n",
    "\n",
    "\n",
    "\n",
    "notFound=0\n",
    "for go in item_counts.index.to_list():\n",
    "    if go in allIndices:\n",
    "        labelWeights.append(dfIa.loc[go].to_numpy()[0])\n",
    "    else:\n",
    "        notFound += 1\n",
    "        labelWeights.append(0)\n",
    "\n",
    "print(\"Not found GOs: {} (set to 0)\".format(notFound))"
   ]
  },
  {
   "cell_type": "code",
   "execution_count": 11,
   "id": "caeee590",
   "metadata": {},
   "outputs": [
    {
     "name": "stdout",
     "output_type": "stream",
     "text": [
      "Loading presaved data\n"
     ]
    }
   ],
   "source": [
    "topGOs=item_counts.index.to_list()\n",
    "\n",
    "threshold=0\n",
    "labelWeights=np.array(labelWeights)\n",
    "selection = labelWeights>threshold\n",
    "topGOs=np.array(topGOs)[selection]\n",
    "\n",
    "if os.path.exists(os.path.join(DATA_PATH, \"GODataSizes_\"+SO+\".npy\")):\n",
    "    print(\"Loading presaved data\")\n",
    "    GODataSizes = np.load(os.path.join(DATA_PATH, \"GODataSizes_\"+SO+\".npy\"))\n",
    "else:\n",
    "    GODataSizes= [dfGo.loc[g].size for g in topGOs]\n",
    "    np.save(os.path.join(DATA_PATH, \"GODataSizes_\"+SO), GODataSizes)\n"
   ]
  },
  {
   "cell_type": "code",
   "execution_count": 12,
   "id": "3e87f301",
   "metadata": {},
   "outputs": [
    {
     "name": "stdout",
     "output_type": "stream",
     "text": [
      "2099\n"
     ]
    }
   ],
   "source": [
    "#At least 10 samples\n",
    "print(np.count_nonzero(np.array(GODataSizes)>20))\n",
    "GODataSizes= np.array(GODataSizes)\n",
    "GOsWithSufficientData = topGOs[GODataSizes>20]\n"
   ]
  },
  {
   "cell_type": "code",
   "execution_count": 13,
   "id": "61e2ef95",
   "metadata": {},
   "outputs": [
    {
     "name": "stdout",
     "output_type": "stream",
     "text": [
      "2099\n"
     ]
    }
   ],
   "source": [
    "#Reduce to relevant GOs (see Data Exploration.ipynb)\n",
    "\n",
    "finalGOSet =[]\n",
    "for g in GOsWithSufficientData:\n",
    "    if g in relevantNodes:\n",
    "        finalGOSet.append(g)\n",
    "\n",
    "print(len(finalGOSet))"
   ]
  },
  {
   "cell_type": "code",
   "execution_count": 14,
   "id": "99f6a6ca",
   "metadata": {},
   "outputs": [
    {
     "name": "stdout",
     "output_type": "stream",
     "text": [
      "['GO:0003674' 'GO:0003953' 'GO:0016787' 'GO:0016799' 'GO:0016798'\n",
      " 'GO:0003824']\n",
      "[[0 0 0 ... 0 0 0]]\n",
      "2099\n"
     ]
    },
    {
     "name": "stderr",
     "output_type": "stream",
     "text": [
      "/home/manuel/miniconda3/envs/tf/lib/python3.9/site-packages/sklearn/preprocessing/_label.py:895: UserWarning: unknown class(es) ['GO:0003674'] will be ignored\n",
      "  warnings.warn(\n"
     ]
    }
   ],
   "source": [
    "from sklearn.preprocessing import MultiLabelBinarizer\n",
    "import pickle\n",
    "\n",
    "\n",
    "mlb = MultiLabelBinarizer()\n",
    "mlb.fit([finalGOSet])\n",
    "\n",
    "dftest=df.loc[testID]\n",
    "indices = dftest[\"term\"].to_numpy()\n",
    "print(indices)\n",
    "print(mlb.transform([indices]))\n",
    "print(len(mlb.classes_))\n",
    "\n",
    "with open(os.path.join(DATA_PATH,'MLB_'+SO+'.pkl'), 'wb') as f:\n",
    "    pickle.dump(mlb, f)"
   ]
  },
  {
   "cell_type": "code",
   "execution_count": 15,
   "id": "fb189ff8",
   "metadata": {},
   "outputs": [
    {
     "name": "stdout",
     "output_type": "stream",
     "text": [
      "Not found GOs: 0 (set to 0)\n"
     ]
    }
   ],
   "source": [
    "labelWeightsCorr=[]\n",
    "\n",
    "notFound=0\n",
    "for go in mlb.classes_:\n",
    "    if go in allIndices:\n",
    "        labelWeightsCorr.append(dfIa.loc[go].to_numpy()[0])\n",
    "    else:\n",
    "        notFound += 1\n",
    "        labelWeightsCorr.append(0)\n",
    "\n",
    "print(\"Not found GOs: {} (set to 0)\".format(notFound))\n",
    "labelWeightsCorr=np.array(labelWeightsCorr)"
   ]
  },
  {
   "attachments": {},
   "cell_type": "markdown",
   "id": "92019f8c",
   "metadata": {},
   "source": [
    "## Amino acids encoding"
   ]
  },
  {
   "cell_type": "code",
   "execution_count": 16,
   "id": "6e42462e",
   "metadata": {},
   "outputs": [],
   "source": [
    "aa_dict = {'A': 1, 'B':24, 'C': 2, 'D': 3, 'E': 4, 'F': 5, 'G': 6, 'H': 7, 'I': 8, 'K': 9, 'L': 10, 'M': 11, 'N': 12, 'O': 21, 'P': 13, 'Q': 14, 'R': 15, 'S': 16, 'T': 17, 'U': 22, 'V': 18, 'W': 19, 'Y': 20, 'X':30, 'Z':23}"
   ]
  },
  {
   "attachments": {},
   "cell_type": "markdown",
   "id": "bfd823ba",
   "metadata": {},
   "source": [
    "## Build Dataset"
   ]
  },
  {
   "cell_type": "code",
   "execution_count": 17,
   "id": "431f9df8",
   "metadata": {},
   "outputs": [
    {
     "name": "stdout",
     "output_type": "stream",
     "text": [
      "The max. length of the sequences is 35375\n"
     ]
    }
   ],
   "source": [
    "seqLengths = [len(seq) for seq in sequences]\n",
    "maxLen = max(seqLengths)\n",
    "print(\"The max. length of the sequences is {}\".format(maxLen))"
   ]
  },
  {
   "cell_type": "code",
   "execution_count": 18,
   "id": "e581e06c",
   "metadata": {},
   "outputs": [
    {
     "name": "stdout",
     "output_type": "stream",
     "text": [
      "['A0A009IHW8' 'A0A023FBW4' 'A0A023FBW7' ... 'X5L1L5' 'X5L565' 'X5M5N0']\n"
     ]
    }
   ],
   "source": [
    "\n",
    "dfAll=pd.read_csv(os.path.join(DATA_PATH, \"Train/train_terms.tsv\"), sep='\\t')\n",
    "\n",
    "soEntries = dfAll.loc[dfAll[\"aspect\"]==SO]\n",
    "soEntryIds = soEntries[\"EntryID\"].unique()\n",
    "\n",
    "# print(len(seqEntries))\n",
    "print(soEntryIds)\n",
    "\n",
    "# SoSequences = []\n",
    "# for entry in soEntryIds:\n",
    "#     SoSequences.append(sequences[ids.index(entry)])\n",
    "\n",
    "# print(len(SoSequences))\n",
    "dfAll.set_index(\"EntryID\", inplace=True)"
   ]
  },
  {
   "cell_type": "code",
   "execution_count": 19,
   "id": "44f722e8",
   "metadata": {},
   "outputs": [
    {
     "name": "stdout",
     "output_type": "stream",
     "text": [
      "99572\n"
     ]
    }
   ],
   "source": [
    "import warnings\n",
    "from itertools import product\n",
    "from tqdm import tqdm\n",
    "import os\n",
    "\n",
    "TRAIN_VAL_SPLIT = 0.7\n",
    "nonRelevantThreshold=0.01\n",
    "k = 3\n",
    "\n",
    "allAA = list(aa_dict.keys())\n",
    "allAA.sort()\n",
    "allCombinations= list(product(*(allAA for i in range(k))))\n",
    "allCombinations=np.array([''.join(el) for el in allCombinations])\n",
    "\n",
    "positionDict = dict(zip(allCombinations, np.arange(0,allCombinations.size).T))\n",
    "\n",
    "#Use numpy vectorize to speed up the mapping (hopefully)\n",
    "mapping = lambda x: aa_dict[x]\n",
    "vectMapping = np.vectorize(mapping)\n",
    "\n",
    "# Shuffle the data\n",
    "import random\n",
    "random.seed(516213)\n",
    "c = list(zip(sequences, ids))\n",
    "random.shuffle(c)\n",
    "sequencesShuffle, idsShuffle = zip(*c)\n",
    "\n",
    "\n",
    "#Train Validation Split\n",
    "split = int(np.floor(len(sequencesShuffle)*TRAIN_VAL_SPLIT))\n",
    "print(split)\n",
    "trainSeq = sequencesShuffle[0:split]\n",
    "valSeq = sequencesShuffle[split+1:]\n",
    "trainIds = idsShuffle[0:split]\n",
    "valIds = idsShuffle[split+1:]\n",
    "\n",
    "\n",
    "def generator():\n",
    "  for i,seq in enumerate(trainSeq):\n",
    "      entryId = trainIds[i]\n",
    "      if entryId in soEntryIds:\n",
    "        labelData = df.loc[entryId]\n",
    "        # indices = labelData[\"termToken\"].to_numpy()\n",
    "        indices = labelData[\"term\"].to_numpy()\n",
    "      else: \n",
    "        indices=[]\n",
    "\n",
    "      with warnings.catch_warnings():\n",
    "          #supress the warnings for unknown classes\n",
    "          warnings.simplefilter(\"ignore\")\n",
    "          y = mlb.transform([indices])\n",
    "\n",
    "      # if np.count_nonzero(y)==0 and np.random.random()>nonRelevantThreshold:\n",
    "      #   continue\n",
    "\n",
    "      \n",
    "      kmers = [seq[j:j+k] if j < len(seq)-(k-1) else 0 for j,el in enumerate(seq)]\n",
    "      kmers = kmers[0:-(k-1)]\n",
    "      kmers = [str(el) for el in kmers]\n",
    "      values, counts = np.unique(kmers, return_counts=True)\n",
    "      freqVector=np.zeros(allCombinations.shape)\n",
    "      for l,v in enumerate(values):\n",
    "          freqVector[positionDict[v]] = counts[l]\n",
    "      yield (freqVector,y[0])\n",
    "\n",
    "\n",
    "def generatorVal():\n",
    "  for i,seq in enumerate(valSeq):\n",
    "      entryId = valIds[i]\n",
    "      if entryId in soEntryIds:\n",
    "        labelData = df.loc[entryId]\n",
    "        # indices = labelData[\"termToken\"].to_numpy()\n",
    "        indices = labelData[\"term\"].to_numpy()\n",
    "      else:\n",
    "        indices=[]\n",
    "\n",
    "      with warnings.catch_warnings():\n",
    "          #supress the warnings for unknown classes\n",
    "          warnings.simplefilter(\"ignore\")\n",
    "          y = mlb.transform([indices])\n",
    "\n",
    "      # if np.count_nonzero(y)==0 and np.random.random()>nonRelevantThreshold:\n",
    "      #   continue\n",
    "      \n",
    "      kmers = [seq[j:j+k] if j < len(seq)-(k-1) else 0 for j,el in enumerate(seq)]\n",
    "      kmers = kmers[0:-(k-1)]\n",
    "      kmers = [str(el) for el in kmers]\n",
    "      values, counts = np.unique(kmers, return_counts=True)\n",
    "      freqVector=np.zeros(allCombinations.shape)\n",
    "      for l,v in enumerate(values):\n",
    "          freqVector[positionDict[v]] = counts[l]\n",
    "      yield (freqVector,y[0])\n",
    "        "
   ]
  },
  {
   "cell_type": "code",
   "execution_count": 20,
   "id": "2727338a",
   "metadata": {},
   "outputs": [
    {
     "name": "stdout",
     "output_type": "stream",
     "text": [
      "The first sample: \n",
      "(15625,)\n",
      "[0. 0. 0. 1. 0. 1. 0. 0. 1. 0. 0. 0. 0. 0. 0. 0. 0. 0. 0. 0. 0. 0. 0. 0.\n",
      " 0. 0. 0. 0. 0. 0. 0. 0. 0. 0. 0. 0. 0. 0. 0. 0. 0. 0. 0. 0. 0. 0. 0. 0.\n",
      " 0. 0. 0. 0. 0. 0. 0. 0. 0. 0. 0. 0. 0. 0. 0. 0. 0. 0. 0. 0. 0. 0. 0. 0.\n",
      " 0. 0. 0. 1. 0. 0. 0. 1. 0. 0. 0. 0. 0. 0. 0. 0. 0. 0. 0. 0. 0. 0. 0. 0.\n",
      " 1. 0. 1. 0.]\n",
      "The first sample has 5 classes\n"
     ]
    }
   ],
   "source": [
    "g = generator()\n",
    "test = next(g)\n",
    "print(\"The first sample: \\n{}\\n{}\".format(test[0].shape, test[0][0:100]))\n",
    "print(\"The first sample has {} classes\".format(np.count_nonzero(test[1])))"
   ]
  },
  {
   "attachments": {},
   "cell_type": "markdown",
   "id": "10c4a51a",
   "metadata": {},
   "source": [
    "## Tensorflow Classification"
   ]
  },
  {
   "cell_type": "code",
   "execution_count": 21,
   "id": "63f0d2e0",
   "metadata": {},
   "outputs": [
    {
     "name": "stderr",
     "output_type": "stream",
     "text": [
      "2023-07-28 23:58:40.098826: I tensorflow/compiler/xla/stream_executor/cuda/cuda_gpu_executor.cc:982] could not open file to read NUMA node: /sys/bus/pci/devices/0000:2b:00.0/numa_node\n",
      "Your kernel may have been built without NUMA support.\n",
      "2023-07-28 23:58:40.099270: I tensorflow/compiler/xla/stream_executor/cuda/cuda_gpu_executor.cc:982] could not open file to read NUMA node: /sys/bus/pci/devices/0000:2b:00.0/numa_node\n",
      "Your kernel may have been built without NUMA support.\n",
      "2023-07-28 23:58:40.099583: I tensorflow/compiler/xla/stream_executor/cuda/cuda_gpu_executor.cc:982] could not open file to read NUMA node: /sys/bus/pci/devices/0000:2b:00.0/numa_node\n",
      "Your kernel may have been built without NUMA support.\n",
      "2023-07-28 23:58:40.550005: I tensorflow/compiler/xla/stream_executor/cuda/cuda_gpu_executor.cc:982] could not open file to read NUMA node: /sys/bus/pci/devices/0000:2b:00.0/numa_node\n",
      "Your kernel may have been built without NUMA support.\n",
      "2023-07-28 23:58:40.550415: I tensorflow/compiler/xla/stream_executor/cuda/cuda_gpu_executor.cc:982] could not open file to read NUMA node: /sys/bus/pci/devices/0000:2b:00.0/numa_node\n",
      "Your kernel may have been built without NUMA support.\n",
      "2023-07-28 23:58:40.550431: I tensorflow/core/common_runtime/gpu/gpu_device.cc:1722] Could not identify NUMA node of platform GPU id 0, defaulting to 0.  Your kernel may not have been built with NUMA support.\n",
      "2023-07-28 23:58:40.550771: I tensorflow/compiler/xla/stream_executor/cuda/cuda_gpu_executor.cc:982] could not open file to read NUMA node: /sys/bus/pci/devices/0000:2b:00.0/numa_node\n",
      "Your kernel may have been built without NUMA support.\n",
      "2023-07-28 23:58:40.550807: I tensorflow/core/common_runtime/gpu/gpu_device.cc:1635] Created device /job:localhost/replica:0/task:0/device:GPU:0 with 6567 MB memory:  -> device: 0, name: NVIDIA GeForce GTX 1070, pci bus id: 0000:2b:00.0, compute capability: 6.1\n"
     ]
    },
    {
     "name": "stdout",
     "output_type": "stream",
     "text": [
      "[(<tf.Tensor: shape=(15625,), dtype=int32, numpy=array([0, 0, 0, ..., 0, 0, 0], dtype=int32)>, <tf.Tensor: shape=(2099,), dtype=int32, numpy=array([0, 0, 0, ..., 0, 0, 0], dtype=int32)>)]\n"
     ]
    },
    {
     "name": "stderr",
     "output_type": "stream",
     "text": [
      "2023-07-28 23:58:40.958381: I tensorflow/core/common_runtime/executor.cc:1197] [/device:CPU:0] (DEBUG INFO) Executor start aborting (this does not indicate an error and you can ignore this message): INVALID_ARGUMENT: You must feed a value for placeholder tensor 'Placeholder/_0' with dtype int32\n",
      "\t [[{{node Placeholder/_0}}]]\n"
     ]
    }
   ],
   "source": [
    "\n",
    "xSize = allCombinations.shape[0]\n",
    "\n",
    "dataset = tf.data.Dataset.from_generator(generator, output_signature=(\n",
    "         tf.TensorSpec(shape=(xSize,), dtype=tf.int32),\n",
    "         tf.TensorSpec(shape=(len(mlb.classes_),), dtype=tf.int32)))\n",
    "print(list(dataset.take(1)))\n",
    "\n",
    "datasetVal = tf.data.Dataset.from_generator(generatorVal, output_signature=(\n",
    "         tf.TensorSpec(shape=(None,), dtype=tf.int32),\n",
    "         tf.TensorSpec(shape=(len(mlb.classes_),), dtype=tf.int32)))"
   ]
  },
  {
   "cell_type": "code",
   "execution_count": 22,
   "id": "f0a554f0",
   "metadata": {},
   "outputs": [],
   "source": [
    "%load_ext tensorboard\n"
   ]
  },
  {
   "cell_type": "code",
   "execution_count": 23,
   "id": "98752d7e",
   "metadata": {},
   "outputs": [],
   "source": [
    "from tensorflow.keras import layers\n",
    "\n",
    "VOCAB_SIZE=len(aa_dict)\n",
    "EMBED_DIM=10\n",
    "\n",
    "def createModel():\n",
    "    inputs = tf.keras.Input(shape=(xSize,))\n",
    "    # x=layers.Embedding(VOCAB_SIZE, EMBED_DIM, name=\"embedding\")(inputs)\n",
    "    x = layers.BatchNormalization()(tf.expand_dims(inputs,2))\n",
    "\n",
    "    x=layers.Conv1D(16, 7)(x)\n",
    "    x=layers.LeakyReLU()(x)\n",
    "    x = layers.BatchNormalization()(x)\n",
    "\n",
    "    x=layers.Conv1D(16, 7)(x)\n",
    "    x=layers.LeakyReLU()(x)\n",
    "    x = layers.BatchNormalization()(x)\n",
    "    \n",
    "    x=layers.Conv1D(16, 7)(x)\n",
    "    x=layers.LeakyReLU()(x)\n",
    "    x = layers.BatchNormalization()(x)\n",
    "\n",
    "    x=layers.Conv1D(32, 7)(x)\n",
    "    x=layers.LeakyReLU()(x)\n",
    "    x = layers.BatchNormalization()(x)\n",
    "\n",
    "    x=layers.Conv1D(32, 7,strides=2)(x)\n",
    "    x=layers.LeakyReLU()(x)\n",
    "    x = layers.BatchNormalization()(x)\n",
    "\n",
    "    x=layers.Conv1D(32, 7,strides=2)(x)\n",
    "    x=layers.LeakyReLU()(x)\n",
    "    x = layers.BatchNormalization()(x)\n",
    "    \n",
    "    x=layers.Conv1D(32, 7, strides=2)(x)\n",
    "    x=layers.LeakyReLU()(x)\n",
    "    x = layers.BatchNormalization()(x)\n",
    "    \n",
    "    x=layers.Conv1D(32, 7, strides=2)(x)\n",
    "    x=layers.LeakyReLU()(x)\n",
    "    x = layers.BatchNormalization()(x)\n",
    "    \n",
    "    \n",
    "\n",
    "    # x=layers.Conv1D(32, 5, activation=tf.keras.activations.relu)(x)\n",
    "    # x=layers.Conv1D(32, 5, activation=tf.keras.activations.relu)(x)\n",
    "    # x=layers.Conv1D(32, 5, activation=tf.keras.activations.relu)(x)\n",
    "    x=layers.Flatten()(x)\n",
    "    x=layers.Dense(64)(x)\n",
    "    x=layers.LeakyReLU()(x)\n",
    "    x=layers.Dense(64)(x)\n",
    "    x=layers.LeakyReLU()(x)\n",
    "    x=layers.Dense(64)(x)\n",
    "    x=layers.LeakyReLU()(x)\n",
    "    outputs=layers.Dense(len(mlb.classes_), activation=tf.keras.activations.sigmoid)(x)\n",
    "\n",
    "    return tf.keras.Model(inputs=inputs, outputs=outputs, name=\"embedConvModel\")\n",
    "\n",
    "# model = createModel()\n",
    "\n",
    "# model.summary()\n"
   ]
  },
  {
   "cell_type": "code",
   "execution_count": 24,
   "id": "a8d56de9",
   "metadata": {},
   "outputs": [
    {
     "name": "stdout",
     "output_type": "stream",
     "text": [
      "Model: \"DenseModelKmer\"\n",
      "_________________________________________________________________\n",
      " Layer (type)                Output Shape              Param #   \n",
      "=================================================================\n",
      " input_1 (InputLayer)        [(None, 15625)]           0         \n",
      "                                                                 \n",
      " dense (Dense)               (None, 512)               8000512   \n",
      "                                                                 \n",
      " leaky_re_lu (LeakyReLU)     (None, 512)               0         \n",
      "                                                                 \n",
      " batch_normalization (BatchN  (None, 512)              2048      \n",
      " ormalization)                                                   \n",
      "                                                                 \n",
      " dropout (Dropout)           (None, 512)               0         \n",
      "                                                                 \n",
      " dense_1 (Dense)             (None, 512)               262656    \n",
      "                                                                 \n",
      " leaky_re_lu_1 (LeakyReLU)   (None, 512)               0         \n",
      "                                                                 \n",
      " batch_normalization_1 (Batc  (None, 512)              2048      \n",
      " hNormalization)                                                 \n",
      "                                                                 \n",
      " dropout_1 (Dropout)         (None, 512)               0         \n",
      "                                                                 \n",
      " dense_2 (Dense)             (None, 2099)              1076787   \n",
      "                                                                 \n",
      "=================================================================\n",
      "Total params: 9,344,051\n",
      "Trainable params: 9,342,003\n",
      "Non-trainable params: 2,048\n",
      "_________________________________________________________________\n"
     ]
    }
   ],
   "source": [
    "from tensorflow.keras import layers\n",
    "\n",
    "VOCAB_SIZE=len(aa_dict)\n",
    "EMBED_DIM=10\n",
    "\n",
    "def createModel():\n",
    "    inputs = tf.keras.Input(shape=(xSize,))\n",
    "    # x=layers.Embedding(VOCAB_SIZE, EMBED_DIM, name=\"embedding\")(inputs)\n",
    "    # x = layers.BatchNormalization()(tf.expand_dims(inputs,2))\n",
    "\n",
    "    x=layers.Dense(512)(inputs)\n",
    "    x = layers.LeakyReLU()(x)\n",
    "    x = layers.BatchNormalization()(x)\n",
    "    x = layers.Dropout(0.1)(x)\n",
    "\n",
    "    x=layers.Dense(512)(x)\n",
    "    x = layers.LeakyReLU()(x)\n",
    "    x = layers.BatchNormalization()(x)\n",
    "    x = layers.Dropout(0.1)(x)\n",
    "\n",
    "    outputs=layers.Dense(len(mlb.classes_), activation=tf.keras.activations.sigmoid)(x)\n",
    "\n",
    "    return tf.keras.Model(inputs=inputs, outputs=outputs, name=\"DenseModelKmer\")\n",
    "\n",
    "model = createModel()\n",
    "\n",
    "model.summary()\n"
   ]
  },
  {
   "cell_type": "code",
   "execution_count": 25,
   "id": "5a3ddc20",
   "metadata": {},
   "outputs": [],
   "source": [
    "import matplotlib.pyplot as plt\n",
    "#Learning rate schedule\n",
    "initial_learning_rate = 0.001\n",
    "decaySteps=5000\n",
    "lr_schedule = tf.keras.optimizers.schedules.CosineDecayRestarts(initial_learning_rate, first_decay_steps=decaySteps,\n",
    "                                                                t_mul=2.0, m_mul=0.7)\n",
    "# lr_schedule = tf.keras.optimizers.schedules.CosineDecay(\n",
    "#     initial_learning_rate, decay_steps=decaySteps, alpha=0.01)\n",
    "# lr_schedule = tf.keras.optimizers.schedules.ExponentialDecay(\n",
    "#     initial_learning_rate,decay_steps=decaySteps,decay_rate=0.9,staircase=False)\n",
    "step = np.linspace(0,decaySteps*3)\n",
    "lr = lr_schedule(step)\n",
    "# plt.figure(figsize = (8,6))\n",
    "# # plt.yscale(\"log\")\n",
    "# plt.plot(step, lr)\n",
    "# plt.ylim([0,max(plt.ylim())])\n",
    "# plt.xlabel('step')\n",
    "# _ = plt.ylabel('Learning Rate')"
   ]
  },
  {
   "cell_type": "code",
   "execution_count": 26,
   "id": "d2f43e7c",
   "metadata": {},
   "outputs": [],
   "source": [
    "from utils import *"
   ]
  },
  {
   "cell_type": "code",
   "execution_count": 27,
   "id": "9113c4a7",
   "metadata": {},
   "outputs": [
    {
     "name": "stdout",
     "output_type": "stream",
     "text": [
      "\n",
      "Start of epoch 1\n"
     ]
    },
    {
     "name": "stderr",
     "output_type": "stream",
     "text": [
      "2023-07-28 23:58:41.365292: I tensorflow/core/common_runtime/executor.cc:1197] [/device:CPU:0] (DEBUG INFO) Executor start aborting (this does not indicate an error and you can ignore this message): INVALID_ARGUMENT: You must feed a value for placeholder tensor 'Placeholder/_0' with dtype int32\n",
      "\t [[{{node Placeholder/_0}}]]\n",
      "2023-07-28 23:58:43.302180: I tensorflow/compiler/xla/service/service.cc:169] XLA service 0x7fa993db0580 initialized for platform CUDA (this does not guarantee that XLA will be used). Devices:\n",
      "2023-07-28 23:58:43.302236: I tensorflow/compiler/xla/service/service.cc:177]   StreamExecutor device (0): NVIDIA GeForce GTX 1070, Compute Capability 6.1\n",
      "2023-07-28 23:58:43.305099: I tensorflow/compiler/mlir/tensorflow/utils/dump_mlir_util.cc:269] disabling MLIR crash reproducer, set env var `MLIR_CRASH_REPRODUCER_DIRECTORY` to enable.\n",
      "2023-07-28 23:58:43.414928: I tensorflow/compiler/xla/stream_executor/cuda/cuda_dnn.cc:424] Loaded cuDNN version 8600\n",
      "2023-07-28 23:58:43.502746: I ./tensorflow/compiler/jit/device_compiler.h:180] Compiled cluster using XLA!  This line is logged at most once for the lifetime of the process.\n"
     ]
    },
    {
     "name": "stdout",
     "output_type": "stream",
     "text": [
      "Epoch 1/Step 0, Loss: 0.00388, Accuracy: 0.50109, F1: 0.0017, Prec: 0.2887, Rec: 0.0009, lr: 0.00060\n",
      "Epoch 1/Step 20, Loss: 0.00404, Accuracy: 0.50577, F1: 0.0022, Prec: 0.3082, Rec: 0.0011, lr: 0.00060\n",
      "Epoch 1/Step 40, Loss: 0.00323, Accuracy: 0.51492, F1: 0.0024, Prec: 0.3271, Rec: 0.0012, lr: 0.00060\n",
      "Epoch 1/Step 60, Loss: 0.00330, Accuracy: 0.52782, F1: 0.0026, Prec: 0.3446, Rec: 0.0013, lr: 0.00060\n",
      "Epoch 1/Step 80, Loss: 0.00270, Accuracy: 0.55014, F1: 0.0029, Prec: 0.3582, Rec: 0.0015, lr: 0.00060\n",
      "Epoch 1/Step 100, Loss: 0.00211, Accuracy: 0.58160, F1: 0.0034, Prec: 0.3644, Rec: 0.0017, lr: 0.00060\n",
      "Epoch 1/Step 120, Loss: 0.00081, Accuracy: 0.62315, F1: 0.0046, Prec: 0.3693, Rec: 0.0023, lr: 0.00060\n",
      "Epoch 1/Step 140, Loss: -0.00038, Accuracy: 0.66462, F1: 0.0069, Prec: 0.3707, Rec: 0.0035, lr: 0.00060\n",
      "Epoch 1/Step 160, Loss: -0.00156, Accuracy: 0.69986, F1: 0.0096, Prec: 0.3715, Rec: 0.0049, lr: 0.00060\n",
      "Epoch 1/Step 180, Loss: -0.00646, Accuracy: 0.72907, F1: 0.0130, Prec: 0.3741, Rec: 0.0067, lr: 0.00060\n",
      "Epoch 1/Step 200, Loss: -0.00616, Accuracy: 0.75323, F1: 0.0160, Prec: 0.3743, Rec: 0.0084, lr: 0.00060\n",
      "Epoch 1/Step 220, Loss: -0.01560, Accuracy: 0.77351, F1: 0.0194, Prec: 0.3759, Rec: 0.0102, lr: 0.00060\n",
      "Epoch 1/Step 240, Loss: -0.03352, Accuracy: 0.79090, F1: 0.0234, Prec: 0.3772, Rec: 0.0124, lr: 0.00060\n",
      "Epoch 1/Step 260, Loss: -0.05203, Accuracy: 0.80614, F1: 0.0283, Prec: 0.3747, Rec: 0.0154, lr: 0.00060\n",
      "Epoch 1/Step 280, Loss: -0.08982, Accuracy: 0.81957, F1: 0.0353, Prec: 0.3689, Rec: 0.0201, lr: 0.00060\n",
      "Epoch 1/Step 300, Loss: -0.12426, Accuracy: 0.83136, F1: 0.0422, Prec: 0.3598, Rec: 0.0255, lr: 0.00060\n",
      "Epoch 1/Step 320, Loss: -0.14058, Accuracy: 0.84174, F1: 0.0499, Prec: 0.3501, Rec: 0.0329, lr: 0.00060\n",
      "Epoch 1/Step 340, Loss: -0.14910, Accuracy: 0.85093, F1: 0.0597, Prec: 0.3419, Rec: 0.0447, lr: 0.00060\n",
      "Epoch 1/Step 360, Loss: -0.13081, Accuracy: 0.85911, F1: 0.0681, Prec: 0.3327, Rec: 0.0575, lr: 0.00060\n",
      "Epoch 1/Step 380, Loss: -0.16290, Accuracy: 0.86644, F1: 0.0765, Prec: 0.3253, Rec: 0.0697, lr: 0.00060\n",
      "Epoch 1/Step 400, Loss: -0.13853, Accuracy: 0.87304, F1: 0.0839, Prec: 0.3183, Rec: 0.0807, lr: 0.00060\n",
      "Epoch 1/Step 420, Loss: -0.14063, Accuracy: 0.87901, F1: 0.0914, Prec: 0.3124, Rec: 0.0928, lr: 0.00060\n",
      "Epoch 1/Step 440, Loss: -0.15419, Accuracy: 0.88444, F1: 0.0980, Prec: 0.3069, Rec: 0.1032, lr: 0.00060\n",
      "Epoch 1/Step 460, Loss: -0.14298, Accuracy: 0.88940, F1: 0.1042, Prec: 0.3018, Rec: 0.1133, lr: 0.00060\n",
      "Epoch 1/Step 480, Loss: -0.14498, Accuracy: 0.89395, F1: 0.1097, Prec: 0.2972, Rec: 0.1220, lr: 0.00060\n",
      "Epoch 1/Step 500, Loss: -0.19193, Accuracy: 0.89813, F1: 0.1153, Prec: 0.2932, Rec: 0.1310, lr: 0.00060\n",
      "Epoch 1/Step 520, Loss: -0.13790, Accuracy: 0.90200, F1: 0.1201, Prec: 0.2893, Rec: 0.1387, lr: 0.00060\n",
      "Epoch 1/Step 540, Loss: -0.18412, Accuracy: 0.90557, F1: 0.1254, Prec: 0.2864, Rec: 0.1468, lr: 0.00060\n",
      "Epoch 1/Step 560, Loss: -0.12994, Accuracy: 0.90889, F1: 0.1306, Prec: 0.2839, Rec: 0.1547, lr: 0.00060\n",
      "Epoch 1/Step 580, Loss: -0.18185, Accuracy: 0.91199, F1: 0.1350, Prec: 0.2810, Rec: 0.1621, lr: 0.00060\n",
      "Epoch 1/Step 600, Loss: -0.17861, Accuracy: 0.91488, F1: 0.1394, Prec: 0.2787, Rec: 0.1694, lr: 0.00060\n",
      "Epoch 1/Step 620, Loss: -0.18378, Accuracy: 0.91758, F1: 0.1440, Prec: 0.2769, Rec: 0.1769, lr: 0.00060\n",
      "Epoch 1/Step 640, Loss: -0.14428, Accuracy: 0.92012, F1: 0.1471, Prec: 0.2741, Rec: 0.1824, lr: 0.00060\n",
      "Epoch 1/Step 660, Loss: -0.16834, Accuracy: 0.92249, F1: 0.1497, Prec: 0.2712, Rec: 0.1874, lr: 0.00060\n",
      "Epoch 1/Step 680, Loss: -0.17763, Accuracy: 0.92473, F1: 0.1526, Prec: 0.2691, Rec: 0.1919, lr: 0.00060\n",
      "Epoch 1/Step 700, Loss: -0.17191, Accuracy: 0.92685, F1: 0.1553, Prec: 0.2669, Rec: 0.1965, lr: 0.00060\n",
      "Epoch 1/Step 720, Loss: -0.18614, Accuracy: 0.92884, F1: 0.1583, Prec: 0.2655, Rec: 0.2004, lr: 0.00060\n",
      "Epoch 1/Step 740, Loss: -0.12802, Accuracy: 0.93073, F1: 0.1607, Prec: 0.2636, Rec: 0.2044, lr: 0.00060\n",
      "Epoch 1/Step 760, Loss: -0.18006, Accuracy: 0.93252, F1: 0.1631, Prec: 0.2620, Rec: 0.2081, lr: 0.00060\n",
      "Epoch 1/Step 780, Loss: -0.15013, Accuracy: 0.93422, F1: 0.1656, Prec: 0.2604, Rec: 0.2124, lr: 0.00060\n",
      "Epoch 1/Step 800, Loss: -0.18483, Accuracy: 0.93583, F1: 0.1674, Prec: 0.2584, Rec: 0.2160, lr: 0.00060\n",
      "Epoch 1/Step 820, Loss: -0.17130, Accuracy: 0.93737, F1: 0.1695, Prec: 0.2569, Rec: 0.2197, lr: 0.00060\n",
      "Epoch 1/Step 840, Loss: -0.17069, Accuracy: 0.93883, F1: 0.1716, Prec: 0.2555, Rec: 0.2234, lr: 0.00060\n",
      "Epoch 1/Step 860, Loss: -0.16723, Accuracy: 0.94022, F1: 0.1733, Prec: 0.2541, Rec: 0.2263, lr: 0.00060\n",
      "Epoch 1/Step 880, Loss: -0.15753, Accuracy: 0.94155, F1: 0.1752, Prec: 0.2528, Rec: 0.2293, lr: 0.00060\n",
      "Epoch 1/Step 900, Loss: -0.21650, Accuracy: 0.94282, F1: 0.1771, Prec: 0.2519, Rec: 0.2322, lr: 0.00060\n",
      "Epoch 1/Step 920, Loss: -0.17701, Accuracy: 0.94404, F1: 0.1787, Prec: 0.2506, Rec: 0.2351, lr: 0.00060\n",
      "Epoch 1/Step 940, Loss: -0.14458, Accuracy: 0.94520, F1: 0.1803, Prec: 0.2495, Rec: 0.2376, lr: 0.00060\n",
      "Epoch 1/Step 960, Loss: -0.16775, Accuracy: 0.94632, F1: 0.1819, Prec: 0.2485, Rec: 0.2403, lr: 0.00060\n",
      "Epoch 1/Step 980, Loss: -0.17350, Accuracy: 0.94739, F1: 0.1835, Prec: 0.2475, Rec: 0.2431, lr: 0.00060\n",
      "Epoch 1/Step 1000, Loss: -0.19083, Accuracy: 0.94841, F1: 0.1848, Prec: 0.2463, Rec: 0.2457, lr: 0.00060\n",
      "Epoch 1/Step 1020, Loss: -0.13841, Accuracy: 0.94940, F1: 0.1859, Prec: 0.2450, Rec: 0.2481, lr: 0.00060\n",
      "Epoch 1/Step 1040, Loss: -0.15854, Accuracy: 0.95035, F1: 0.1875, Prec: 0.2444, Rec: 0.2506, lr: 0.00060\n",
      "Epoch 1/Step 1060, Loss: -0.19931, Accuracy: 0.95126, F1: 0.1886, Prec: 0.2433, Rec: 0.2530, lr: 0.00060\n",
      "Epoch 1/Step 1080, Loss: -0.13801, Accuracy: 0.95214, F1: 0.1900, Prec: 0.2425, Rec: 0.2555, lr: 0.00060\n",
      "Epoch 1/Step 1100, Loss: -0.21552, Accuracy: 0.95299, F1: 0.1916, Prec: 0.2420, Rec: 0.2581, lr: 0.00060\n",
      "Epoch 1/Step 1120, Loss: -0.15725, Accuracy: 0.95381, F1: 0.1926, Prec: 0.2412, Rec: 0.2599, lr: 0.00060\n",
      "Epoch 1/Step 1140, Loss: -0.18602, Accuracy: 0.95460, F1: 0.1940, Prec: 0.2407, Rec: 0.2622, lr: 0.00060\n",
      "Epoch 1/Step 1160, Loss: -0.14350, Accuracy: 0.95536, F1: 0.1953, Prec: 0.2402, Rec: 0.2640, lr: 0.00060\n",
      "Epoch 1/Step 1180, Loss: -0.17822, Accuracy: 0.95610, F1: 0.1962, Prec: 0.2394, Rec: 0.2657, lr: 0.00060\n",
      "Epoch 1/Step 1200, Loss: -0.13565, Accuracy: 0.95681, F1: 0.1973, Prec: 0.2388, Rec: 0.2676, lr: 0.00060\n",
      "Epoch 1/Step 1220, Loss: -0.16779, Accuracy: 0.95750, F1: 0.1984, Prec: 0.2382, Rec: 0.2693, lr: 0.00060\n",
      "Epoch 1/Step 1240, Loss: -0.19529, Accuracy: 0.95816, F1: 0.1991, Prec: 0.2374, Rec: 0.2708, lr: 0.00060\n",
      "Epoch 1/Step 1260, Loss: -0.16789, Accuracy: 0.95881, F1: 0.2002, Prec: 0.2370, Rec: 0.2725, lr: 0.00060\n",
      "Epoch 1/Step 1280, Loss: -0.17287, Accuracy: 0.95943, F1: 0.2011, Prec: 0.2363, Rec: 0.2742, lr: 0.00060\n",
      "Epoch 1/Step 1300, Loss: -0.15213, Accuracy: 0.96004, F1: 0.2021, Prec: 0.2360, Rec: 0.2756, lr: 0.00060\n",
      "Epoch 1/Step 1320, Loss: -0.13307, Accuracy: 0.96063, F1: 0.2030, Prec: 0.2355, Rec: 0.2771, lr: 0.00060\n",
      "Epoch 1/Step 1340, Loss: -0.17290, Accuracy: 0.96120, F1: 0.2042, Prec: 0.2353, Rec: 0.2790, lr: 0.00060\n",
      "Epoch 1/Step 1360, Loss: -0.14916, Accuracy: 0.96175, F1: 0.2049, Prec: 0.2346, Rec: 0.2804, lr: 0.00060\n",
      "Epoch 1/Step 1380, Loss: -0.18779, Accuracy: 0.96229, F1: 0.2058, Prec: 0.2342, Rec: 0.2820, lr: 0.00060\n",
      "Epoch 1/Step 1400, Loss: -0.13607, Accuracy: 0.96281, F1: 0.2065, Prec: 0.2337, Rec: 0.2831, lr: 0.00060\n",
      "Epoch 1/Step 1420, Loss: -0.17054, Accuracy: 0.96332, F1: 0.2070, Prec: 0.2331, Rec: 0.2840, lr: 0.00060\n",
      "Epoch 1/Step 1440, Loss: -0.18267, Accuracy: 0.96381, F1: 0.2078, Prec: 0.2327, Rec: 0.2854, lr: 0.00060\n",
      "Epoch 1/Step 1460, Loss: -0.17813, Accuracy: 0.96429, F1: 0.2084, Prec: 0.2322, Rec: 0.2864, lr: 0.00060\n",
      "Epoch 1/Step 1480, Loss: -0.17545, Accuracy: 0.96475, F1: 0.2090, Prec: 0.2316, Rec: 0.2878, lr: 0.00060\n",
      "Epoch 1/Step 1500, Loss: -0.19312, Accuracy: 0.96521, F1: 0.2098, Prec: 0.2313, Rec: 0.2891, lr: 0.00060\n",
      "Epoch 1/Step 1520, Loss: -0.15055, Accuracy: 0.96565, F1: 0.2104, Prec: 0.2309, Rec: 0.2898, lr: 0.00060\n",
      "Epoch 1/Step 1540, Loss: -0.18689, Accuracy: 0.96608, F1: 0.2110, Prec: 0.2305, Rec: 0.2910, lr: 0.00060\n",
      "Epoch finished. Start validation\n"
     ]
    },
    {
     "name": "stderr",
     "output_type": "stream",
     "text": [
      "2023-07-29 00:01:55.676678: I tensorflow/core/common_runtime/executor.cc:1197] [/device:CPU:0] (DEBUG INFO) Executor start aborting (this does not indicate an error and you can ignore this message): INVALID_ARGUMENT: You must feed a value for placeholder tensor 'Placeholder/_0' with dtype int32\n",
      "\t [[{{node Placeholder/_0}}]]\n"
     ]
    },
    {
     "name": "stdout",
     "output_type": "stream",
     "text": [
      "Validation acc: 0.9989\n",
      "Validation f1: 0.2607\n",
      "Validation precision: 0.1996\n",
      "Validation recall: 0.3853\n",
      "\n",
      "Start of epoch 2\n",
      "Epoch 2/Step 0, Loss: -0.17515, Accuracy: 0.99889, F1: 0.2885, Prec: 0.2429, Rec: 0.3553, lr: 0.00060\n",
      "Epoch 2/Step 20, Loss: -0.16600, Accuracy: 0.99888, F1: 0.2640, Prec: 0.2087, Rec: 0.3686, lr: 0.00060\n",
      "Epoch 2/Step 40, Loss: -0.16332, Accuracy: 0.99885, F1: 0.2570, Prec: 0.2003, Rec: 0.3662, lr: 0.00060\n",
      "Epoch 2/Step 60, Loss: -0.16713, Accuracy: 0.99886, F1: 0.2631, Prec: 0.2053, Rec: 0.3738, lr: 0.00060\n",
      "Epoch 2/Step 80, Loss: -0.16860, Accuracy: 0.99886, F1: 0.2609, Prec: 0.2024, Rec: 0.3752, lr: 0.00060\n",
      "Epoch 2/Step 100, Loss: -0.15744, Accuracy: 0.99887, F1: 0.2591, Prec: 0.2006, Rec: 0.3730, lr: 0.00060\n",
      "Epoch 2/Step 120, Loss: -0.13181, Accuracy: 0.99886, F1: 0.2590, Prec: 0.1998, Rec: 0.3755, lr: 0.00060\n",
      "Epoch 2/Step 140, Loss: -0.16940, Accuracy: 0.99886, F1: 0.2590, Prec: 0.1999, Rec: 0.3758, lr: 0.00060\n",
      "Epoch 2/Step 160, Loss: -0.16950, Accuracy: 0.99885, F1: 0.2598, Prec: 0.2009, Rec: 0.3756, lr: 0.00060\n",
      "Epoch 2/Step 180, Loss: -0.19152, Accuracy: 0.99885, F1: 0.2614, Prec: 0.2024, Rec: 0.3773, lr: 0.00060\n",
      "Epoch 2/Step 200, Loss: -0.17315, Accuracy: 0.99885, F1: 0.2609, Prec: 0.2021, Rec: 0.3758, lr: 0.00060\n",
      "Epoch 2/Step 220, Loss: -0.23312, Accuracy: 0.99884, F1: 0.2616, Prec: 0.2025, Rec: 0.3777, lr: 0.00060\n",
      "Epoch 2/Step 240, Loss: -0.16506, Accuracy: 0.99884, F1: 0.2625, Prec: 0.2034, Rec: 0.3785, lr: 0.00060\n",
      "Epoch 2/Step 260, Loss: -0.16256, Accuracy: 0.99884, F1: 0.2630, Prec: 0.2038, Rec: 0.3789, lr: 0.00060\n",
      "Epoch 2/Step 280, Loss: -0.18118, Accuracy: 0.99883, F1: 0.2640, Prec: 0.2047, Rec: 0.3800, lr: 0.00060\n",
      "Epoch 2/Step 300, Loss: -0.19419, Accuracy: 0.99883, F1: 0.2632, Prec: 0.2041, Rec: 0.3791, lr: 0.00060\n",
      "Epoch 2/Step 320, Loss: -0.21571, Accuracy: 0.99884, F1: 0.2626, Prec: 0.2035, Rec: 0.3786, lr: 0.00060\n",
      "Epoch 2/Step 340, Loss: -0.20312, Accuracy: 0.99884, F1: 0.2635, Prec: 0.2042, Rec: 0.3800, lr: 0.00060\n",
      "Epoch 2/Step 360, Loss: -0.17343, Accuracy: 0.99884, F1: 0.2629, Prec: 0.2034, Rec: 0.3802, lr: 0.00060\n",
      "Epoch 2/Step 380, Loss: -0.20513, Accuracy: 0.99884, F1: 0.2634, Prec: 0.2040, Rec: 0.3800, lr: 0.00060\n",
      "Epoch 2/Step 400, Loss: -0.17433, Accuracy: 0.99885, F1: 0.2632, Prec: 0.2040, Rec: 0.3796, lr: 0.00060\n",
      "Epoch 2/Step 420, Loss: -0.18218, Accuracy: 0.99885, F1: 0.2634, Prec: 0.2041, Rec: 0.3798, lr: 0.00060\n",
      "Epoch 2/Step 440, Loss: -0.16851, Accuracy: 0.99885, F1: 0.2637, Prec: 0.2044, Rec: 0.3800, lr: 0.00060\n",
      "Epoch 2/Step 460, Loss: -0.16091, Accuracy: 0.99885, F1: 0.2641, Prec: 0.2048, Rec: 0.3802, lr: 0.00060\n",
      "Epoch 2/Step 480, Loss: -0.16485, Accuracy: 0.99885, F1: 0.2642, Prec: 0.2049, Rec: 0.3804, lr: 0.00060\n",
      "Epoch 2/Step 500, Loss: -0.21408, Accuracy: 0.99885, F1: 0.2646, Prec: 0.2051, Rec: 0.3811, lr: 0.00060\n",
      "Epoch 2/Step 520, Loss: -0.19292, Accuracy: 0.99885, F1: 0.2648, Prec: 0.2054, Rec: 0.3814, lr: 0.00060\n",
      "Epoch 2/Step 540, Loss: -0.21194, Accuracy: 0.99885, F1: 0.2657, Prec: 0.2061, Rec: 0.3823, lr: 0.00060\n",
      "Epoch 2/Step 560, Loss: -0.16194, Accuracy: 0.99885, F1: 0.2668, Prec: 0.2070, Rec: 0.3835, lr: 0.00060\n",
      "Epoch 2/Step 580, Loss: -0.20577, Accuracy: 0.99885, F1: 0.2672, Prec: 0.2074, Rec: 0.3840, lr: 0.00060\n",
      "Epoch 2/Step 600, Loss: -0.20924, Accuracy: 0.99885, F1: 0.2679, Prec: 0.2081, Rec: 0.3847, lr: 0.00060\n",
      "Epoch 2/Step 620, Loss: -0.22510, Accuracy: 0.99885, F1: 0.2693, Prec: 0.2092, Rec: 0.3866, lr: 0.00060\n",
      "Epoch 2/Step 640, Loss: -0.16478, Accuracy: 0.99885, F1: 0.2690, Prec: 0.2088, Rec: 0.3864, lr: 0.00060\n",
      "Epoch 2/Step 660, Loss: -0.19113, Accuracy: 0.99885, F1: 0.2687, Prec: 0.2084, Rec: 0.3867, lr: 0.00060\n",
      "Epoch 2/Step 680, Loss: -0.19955, Accuracy: 0.99885, F1: 0.2689, Prec: 0.2085, Rec: 0.3870, lr: 0.00060\n",
      "Epoch 2/Step 700, Loss: -0.20088, Accuracy: 0.99885, F1: 0.2689, Prec: 0.2085, Rec: 0.3870, lr: 0.00060\n",
      "Epoch 2/Step 720, Loss: -0.21655, Accuracy: 0.99886, F1: 0.2693, Prec: 0.2090, Rec: 0.3871, lr: 0.00060\n",
      "Epoch 2/Step 740, Loss: -0.15405, Accuracy: 0.99886, F1: 0.2693, Prec: 0.2089, Rec: 0.3871, lr: 0.00060\n",
      "Epoch 2/Step 760, Loss: -0.19609, Accuracy: 0.99886, F1: 0.2693, Prec: 0.2089, Rec: 0.3874, lr: 0.00060\n",
      "Epoch 2/Step 780, Loss: -0.14787, Accuracy: 0.99886, F1: 0.2694, Prec: 0.2089, Rec: 0.3877, lr: 0.00060\n",
      "Epoch 2/Step 800, Loss: -0.18849, Accuracy: 0.99886, F1: 0.2690, Prec: 0.2085, Rec: 0.3877, lr: 0.00060\n",
      "Epoch 2/Step 820, Loss: -0.20015, Accuracy: 0.99886, F1: 0.2691, Prec: 0.2084, Rec: 0.3879, lr: 0.00060\n",
      "Epoch 2/Step 840, Loss: -0.17940, Accuracy: 0.99886, F1: 0.2693, Prec: 0.2086, Rec: 0.3883, lr: 0.00060\n",
      "Epoch 2/Step 860, Loss: -0.18438, Accuracy: 0.99886, F1: 0.2692, Prec: 0.2085, Rec: 0.3880, lr: 0.00060\n",
      "Epoch 2/Step 880, Loss: -0.19934, Accuracy: 0.99886, F1: 0.2693, Prec: 0.2086, Rec: 0.3883, lr: 0.00060\n",
      "Epoch 2/Step 900, Loss: -0.23119, Accuracy: 0.99886, F1: 0.2695, Prec: 0.2089, Rec: 0.3883, lr: 0.00060\n",
      "Epoch 2/Step 920, Loss: -0.18157, Accuracy: 0.99886, F1: 0.2695, Prec: 0.2088, Rec: 0.3884, lr: 0.00060\n",
      "Epoch 2/Step 940, Loss: -0.18184, Accuracy: 0.99886, F1: 0.2694, Prec: 0.2088, Rec: 0.3882, lr: 0.00060\n",
      "Epoch 2/Step 960, Loss: -0.18636, Accuracy: 0.99886, F1: 0.2697, Prec: 0.2090, Rec: 0.3884, lr: 0.00060\n",
      "Epoch 2/Step 980, Loss: -0.19165, Accuracy: 0.99886, F1: 0.2697, Prec: 0.2089, Rec: 0.3890, lr: 0.00060\n",
      "Epoch 2/Step 1000, Loss: -0.20165, Accuracy: 0.99886, F1: 0.2696, Prec: 0.2087, Rec: 0.3891, lr: 0.00060\n",
      "Epoch 2/Step 1020, Loss: -0.15973, Accuracy: 0.99886, F1: 0.2694, Prec: 0.2083, Rec: 0.3895, lr: 0.00060\n",
      "Epoch 2/Step 1040, Loss: -0.17796, Accuracy: 0.99886, F1: 0.2697, Prec: 0.2086, Rec: 0.3899, lr: 0.00060\n",
      "Epoch 2/Step 1060, Loss: -0.21953, Accuracy: 0.99886, F1: 0.2696, Prec: 0.2084, Rec: 0.3900, lr: 0.00060\n",
      "Epoch 2/Step 1080, Loss: -0.15888, Accuracy: 0.99886, F1: 0.2696, Prec: 0.2084, Rec: 0.3901, lr: 0.00060\n",
      "Epoch 2/Step 1100, Loss: -0.23121, Accuracy: 0.99887, F1: 0.2701, Prec: 0.2088, Rec: 0.3907, lr: 0.00060\n",
      "Epoch 2/Step 1120, Loss: -0.17398, Accuracy: 0.99887, F1: 0.2700, Prec: 0.2087, Rec: 0.3907, lr: 0.00060\n",
      "Epoch 2/Step 1140, Loss: -0.19312, Accuracy: 0.99887, F1: 0.2703, Prec: 0.2090, Rec: 0.3913, lr: 0.00060\n",
      "Epoch 2/Step 1160, Loss: -0.17351, Accuracy: 0.99887, F1: 0.2705, Prec: 0.2092, Rec: 0.3913, lr: 0.00060\n",
      "Epoch 2/Step 1180, Loss: -0.20015, Accuracy: 0.99887, F1: 0.2704, Prec: 0.2090, Rec: 0.3913, lr: 0.00060\n",
      "Epoch 2/Step 1200, Loss: -0.15265, Accuracy: 0.99887, F1: 0.2705, Prec: 0.2091, Rec: 0.3915, lr: 0.00060\n",
      "Epoch 2/Step 1220, Loss: -0.19666, Accuracy: 0.99887, F1: 0.2707, Prec: 0.2092, Rec: 0.3917, lr: 0.00060\n",
      "Epoch 2/Step 1240, Loss: -0.22026, Accuracy: 0.99887, F1: 0.2705, Prec: 0.2090, Rec: 0.3917, lr: 0.00060\n",
      "Epoch 2/Step 1260, Loss: -0.18181, Accuracy: 0.99887, F1: 0.2706, Prec: 0.2091, Rec: 0.3919, lr: 0.00060\n",
      "Epoch 2/Step 1280, Loss: -0.19300, Accuracy: 0.99887, F1: 0.2707, Prec: 0.2091, Rec: 0.3920, lr: 0.00060\n",
      "Epoch 2/Step 1300, Loss: -0.15612, Accuracy: 0.99887, F1: 0.2709, Prec: 0.2094, Rec: 0.3921, lr: 0.00060\n",
      "Epoch 2/Step 1320, Loss: -0.15175, Accuracy: 0.99887, F1: 0.2710, Prec: 0.2095, Rec: 0.3923, lr: 0.00060\n",
      "Epoch 2/Step 1340, Loss: -0.19125, Accuracy: 0.99887, F1: 0.2714, Prec: 0.2098, Rec: 0.3927, lr: 0.00060\n",
      "Epoch 2/Step 1360, Loss: -0.16833, Accuracy: 0.99887, F1: 0.2713, Prec: 0.2096, Rec: 0.3928, lr: 0.00060\n",
      "Epoch 2/Step 1380, Loss: -0.19758, Accuracy: 0.99887, F1: 0.2714, Prec: 0.2097, Rec: 0.3931, lr: 0.00060\n",
      "Epoch 2/Step 1400, Loss: -0.15557, Accuracy: 0.99887, F1: 0.2714, Prec: 0.2097, Rec: 0.3930, lr: 0.00060\n",
      "Epoch 2/Step 1420, Loss: -0.19630, Accuracy: 0.99887, F1: 0.2712, Prec: 0.2095, Rec: 0.3926, lr: 0.00060\n",
      "Epoch 2/Step 1440, Loss: -0.18520, Accuracy: 0.99887, F1: 0.2712, Prec: 0.2096, Rec: 0.3928, lr: 0.00060\n",
      "Epoch 2/Step 1460, Loss: -0.19382, Accuracy: 0.99887, F1: 0.2713, Prec: 0.2096, Rec: 0.3929, lr: 0.00060\n",
      "Epoch 2/Step 1480, Loss: -0.18719, Accuracy: 0.99887, F1: 0.2712, Prec: 0.2095, Rec: 0.3929, lr: 0.00060\n",
      "Epoch 2/Step 1500, Loss: -0.19860, Accuracy: 0.99887, F1: 0.2713, Prec: 0.2096, Rec: 0.3931, lr: 0.00060\n",
      "Epoch 2/Step 1520, Loss: -0.16594, Accuracy: 0.99887, F1: 0.2713, Prec: 0.2096, Rec: 0.3930, lr: 0.00060\n",
      "Epoch 2/Step 1540, Loss: -0.20462, Accuracy: 0.99887, F1: 0.2714, Prec: 0.2096, Rec: 0.3931, lr: 0.00060\n",
      "Epoch finished. Start validation\n",
      "Validation acc: 0.9989\n",
      "Validation f1: 0.2598\n",
      "Validation precision: 0.1960\n",
      "Validation recall: 0.3946\n",
      "\n",
      "Start of epoch 3\n",
      "Epoch 3/Step 0, Loss: -0.19620, Accuracy: 0.99899, F1: 0.3012, Prec: 0.2496, Rec: 0.3795, lr: 0.00060\n",
      "Epoch 3/Step 20, Loss: -0.19368, Accuracy: 0.99894, F1: 0.2788, Prec: 0.2185, Rec: 0.3949, lr: 0.00060\n",
      "Epoch 3/Step 40, Loss: -0.17643, Accuracy: 0.99891, F1: 0.2701, Prec: 0.2091, Rec: 0.3898, lr: 0.00060\n",
      "Epoch 3/Step 60, Loss: -0.18968, Accuracy: 0.99891, F1: 0.2758, Prec: 0.2141, Rec: 0.3947, lr: 0.00060\n",
      "Epoch 3/Step 80, Loss: -0.16860, Accuracy: 0.99892, F1: 0.2734, Prec: 0.2111, Rec: 0.3954, lr: 0.00060\n",
      "Epoch 3/Step 100, Loss: -0.16377, Accuracy: 0.99892, F1: 0.2715, Prec: 0.2096, Rec: 0.3920, lr: 0.00060\n",
      "Epoch 3/Step 120, Loss: -0.15574, Accuracy: 0.99891, F1: 0.2711, Prec: 0.2087, Rec: 0.3939, lr: 0.00060\n",
      "Epoch 3/Step 140, Loss: -0.19555, Accuracy: 0.99891, F1: 0.2713, Prec: 0.2090, Rec: 0.3941, lr: 0.00060\n",
      "Epoch 3/Step 160, Loss: -0.18388, Accuracy: 0.99890, F1: 0.2725, Prec: 0.2103, Rec: 0.3945, lr: 0.00060\n",
      "Epoch 3/Step 180, Loss: -0.21404, Accuracy: 0.99890, F1: 0.2741, Prec: 0.2116, Rec: 0.3967, lr: 0.00060\n",
      "Epoch 3/Step 200, Loss: -0.19374, Accuracy: 0.99890, F1: 0.2732, Prec: 0.2112, Rec: 0.3943, lr: 0.00060\n",
      "Epoch 3/Step 220, Loss: -0.24551, Accuracy: 0.99889, F1: 0.2738, Prec: 0.2116, Rec: 0.3960, lr: 0.00060\n",
      "Epoch 3/Step 240, Loss: -0.18342, Accuracy: 0.99889, F1: 0.2749, Prec: 0.2124, Rec: 0.3974, lr: 0.00060\n",
      "Epoch 3/Step 260, Loss: -0.17944, Accuracy: 0.99889, F1: 0.2754, Prec: 0.2128, Rec: 0.3982, lr: 0.00060\n",
      "Epoch 3/Step 280, Loss: -0.19589, Accuracy: 0.99888, F1: 0.2761, Prec: 0.2133, Rec: 0.3992, lr: 0.00060\n",
      "Epoch 3/Step 300, Loss: -0.20686, Accuracy: 0.99889, F1: 0.2755, Prec: 0.2128, Rec: 0.3986, lr: 0.00060\n",
      "Epoch 3/Step 320, Loss: -0.22378, Accuracy: 0.99889, F1: 0.2750, Prec: 0.2124, Rec: 0.3979, lr: 0.00060\n",
      "Epoch 3/Step 340, Loss: -0.20931, Accuracy: 0.99889, F1: 0.2758, Prec: 0.2129, Rec: 0.3993, lr: 0.00060\n",
      "Epoch 3/Step 360, Loss: -0.19116, Accuracy: 0.99889, F1: 0.2750, Prec: 0.2120, Rec: 0.3992, lr: 0.00060\n",
      "Epoch 3/Step 380, Loss: -0.21636, Accuracy: 0.99889, F1: 0.2752, Prec: 0.2124, Rec: 0.3988, lr: 0.00060\n",
      "Epoch 3/Step 400, Loss: -0.18974, Accuracy: 0.99890, F1: 0.2751, Prec: 0.2124, Rec: 0.3985, lr: 0.00060\n",
      "Epoch 3/Step 420, Loss: -0.19953, Accuracy: 0.99890, F1: 0.2753, Prec: 0.2125, Rec: 0.3988, lr: 0.00060\n",
      "Epoch 3/Step 440, Loss: -0.18476, Accuracy: 0.99890, F1: 0.2756, Prec: 0.2128, Rec: 0.3990, lr: 0.00060\n",
      "Epoch 3/Step 460, Loss: -0.16752, Accuracy: 0.99890, F1: 0.2761, Prec: 0.2131, Rec: 0.3996, lr: 0.00060\n",
      "Epoch 3/Step 480, Loss: -0.17484, Accuracy: 0.99890, F1: 0.2759, Prec: 0.2130, Rec: 0.3997, lr: 0.00060\n",
      "Epoch 3/Step 500, Loss: -0.22525, Accuracy: 0.99890, F1: 0.2764, Prec: 0.2133, Rec: 0.4001, lr: 0.00060\n",
      "Epoch 3/Step 520, Loss: -0.19935, Accuracy: 0.99890, F1: 0.2764, Prec: 0.2134, Rec: 0.4005, lr: 0.00060\n",
      "Epoch 3/Step 540, Loss: -0.22342, Accuracy: 0.99890, F1: 0.2773, Prec: 0.2141, Rec: 0.4015, lr: 0.00060\n",
      "Epoch 3/Step 560, Loss: -0.17785, Accuracy: 0.99890, F1: 0.2782, Prec: 0.2148, Rec: 0.4025, lr: 0.00060\n",
      "Epoch 3/Step 580, Loss: -0.21394, Accuracy: 0.99890, F1: 0.2786, Prec: 0.2152, Rec: 0.4028, lr: 0.00060\n",
      "Epoch 3/Step 600, Loss: -0.20801, Accuracy: 0.99890, F1: 0.2791, Prec: 0.2158, Rec: 0.4031, lr: 0.00060\n",
      "Epoch 3/Step 620, Loss: -0.24015, Accuracy: 0.99890, F1: 0.2805, Prec: 0.2169, Rec: 0.4048, lr: 0.00060\n",
      "Epoch 3/Step 640, Loss: -0.17106, Accuracy: 0.99890, F1: 0.2800, Prec: 0.2164, Rec: 0.4045, lr: 0.00060\n",
      "Epoch 3/Step 660, Loss: -0.20575, Accuracy: 0.99890, F1: 0.2797, Prec: 0.2160, Rec: 0.4047, lr: 0.00060\n",
      "Epoch 3/Step 680, Loss: -0.21705, Accuracy: 0.99890, F1: 0.2800, Prec: 0.2162, Rec: 0.4052, lr: 0.00060\n",
      "Epoch 3/Step 700, Loss: -0.20074, Accuracy: 0.99890, F1: 0.2800, Prec: 0.2162, Rec: 0.4055, lr: 0.00060\n",
      "Epoch 3/Step 720, Loss: -0.21900, Accuracy: 0.99890, F1: 0.2804, Prec: 0.2166, Rec: 0.4054, lr: 0.00060\n",
      "Epoch 3/Step 740, Loss: -0.15633, Accuracy: 0.99890, F1: 0.2802, Prec: 0.2164, Rec: 0.4053, lr: 0.00060\n",
      "Epoch 3/Step 760, Loss: -0.20824, Accuracy: 0.99890, F1: 0.2801, Prec: 0.2163, Rec: 0.4054, lr: 0.00060\n",
      "Epoch 3/Step 780, Loss: -0.14746, Accuracy: 0.99890, F1: 0.2801, Prec: 0.2163, Rec: 0.4052, lr: 0.00060\n",
      "Epoch 3/Step 800, Loss: -0.19695, Accuracy: 0.99890, F1: 0.2797, Prec: 0.2159, Rec: 0.4051, lr: 0.00060\n",
      "Epoch 3/Step 820, Loss: -0.21558, Accuracy: 0.99890, F1: 0.2796, Prec: 0.2158, Rec: 0.4052, lr: 0.00060\n",
      "Epoch 3/Step 840, Loss: -0.19702, Accuracy: 0.99890, F1: 0.2798, Prec: 0.2159, Rec: 0.4054, lr: 0.00060\n",
      "Epoch 3/Step 860, Loss: -0.19053, Accuracy: 0.99891, F1: 0.2796, Prec: 0.2158, Rec: 0.4050, lr: 0.00060\n",
      "Epoch 3/Step 880, Loss: -0.20819, Accuracy: 0.99891, F1: 0.2796, Prec: 0.2158, Rec: 0.4052, lr: 0.00060\n"
     ]
    },
    {
     "ename": "KeyboardInterrupt",
     "evalue": "",
     "output_type": "error",
     "traceback": [
      "\u001b[0;31m---------------------------------------------------------------------------\u001b[0m",
      "\u001b[0;31mKeyboardInterrupt\u001b[0m                         Traceback (most recent call last)",
      "Cell \u001b[0;32mIn[27], line 76\u001b[0m\n\u001b[1;32m     73\u001b[0m \u001b[39mprint\u001b[39m(\u001b[39m\"\u001b[39m\u001b[39m\\n\u001b[39;00m\u001b[39mStart of epoch \u001b[39m\u001b[39m%d\u001b[39;00m\u001b[39m\"\u001b[39m \u001b[39m%\u001b[39m (epoch\u001b[39m+\u001b[39m\u001b[39m1\u001b[39m,))\n\u001b[1;32m     75\u001b[0m \u001b[39m# Iterate over the batches of the dataset.\u001b[39;00m\n\u001b[0;32m---> 76\u001b[0m \u001b[39mfor\u001b[39;00m step, (x_batch_train, y_batch_train) \u001b[39min\u001b[39;00m \u001b[39menumerate\u001b[39m(batchedDataset):\n\u001b[1;32m     78\u001b[0m     loss_value \u001b[39m=\u001b[39mtrainStep(x_batch_train,y_batch_train)\n\u001b[1;32m     80\u001b[0m     \u001b[39m# Log \u001b[39;00m\n",
      "File \u001b[0;32m~/miniconda3/envs/tf/lib/python3.9/site-packages/tensorflow/python/data/ops/iterator_ops.py:797\u001b[0m, in \u001b[0;36mOwnedIterator.__next__\u001b[0;34m(self)\u001b[0m\n\u001b[1;32m    795\u001b[0m \u001b[39mdef\u001b[39;00m \u001b[39m__next__\u001b[39m(\u001b[39mself\u001b[39m):\n\u001b[1;32m    796\u001b[0m   \u001b[39mtry\u001b[39;00m:\n\u001b[0;32m--> 797\u001b[0m     \u001b[39mreturn\u001b[39;00m \u001b[39mself\u001b[39;49m\u001b[39m.\u001b[39;49m_next_internal()\n\u001b[1;32m    798\u001b[0m   \u001b[39mexcept\u001b[39;00m errors\u001b[39m.\u001b[39mOutOfRangeError:\n\u001b[1;32m    799\u001b[0m     \u001b[39mraise\u001b[39;00m \u001b[39mStopIteration\u001b[39;00m\n",
      "File \u001b[0;32m~/miniconda3/envs/tf/lib/python3.9/site-packages/tensorflow/python/data/ops/iterator_ops.py:780\u001b[0m, in \u001b[0;36mOwnedIterator._next_internal\u001b[0;34m(self)\u001b[0m\n\u001b[1;32m    777\u001b[0m \u001b[39m# TODO(b/77291417): This runs in sync mode as iterators use an error status\u001b[39;00m\n\u001b[1;32m    778\u001b[0m \u001b[39m# to communicate that there is no more data to iterate over.\u001b[39;00m\n\u001b[1;32m    779\u001b[0m \u001b[39mwith\u001b[39;00m context\u001b[39m.\u001b[39mexecution_mode(context\u001b[39m.\u001b[39mSYNC):\n\u001b[0;32m--> 780\u001b[0m   ret \u001b[39m=\u001b[39m gen_dataset_ops\u001b[39m.\u001b[39;49miterator_get_next(\n\u001b[1;32m    781\u001b[0m       \u001b[39mself\u001b[39;49m\u001b[39m.\u001b[39;49m_iterator_resource,\n\u001b[1;32m    782\u001b[0m       output_types\u001b[39m=\u001b[39;49m\u001b[39mself\u001b[39;49m\u001b[39m.\u001b[39;49m_flat_output_types,\n\u001b[1;32m    783\u001b[0m       output_shapes\u001b[39m=\u001b[39;49m\u001b[39mself\u001b[39;49m\u001b[39m.\u001b[39;49m_flat_output_shapes)\n\u001b[1;32m    785\u001b[0m   \u001b[39mtry\u001b[39;00m:\n\u001b[1;32m    786\u001b[0m     \u001b[39m# Fast path for the case `self._structure` is not a nested structure.\u001b[39;00m\n\u001b[1;32m    787\u001b[0m     \u001b[39mreturn\u001b[39;00m \u001b[39mself\u001b[39m\u001b[39m.\u001b[39m_element_spec\u001b[39m.\u001b[39m_from_compatible_tensor_list(ret)  \u001b[39m# pylint: disable=protected-access\u001b[39;00m\n",
      "File \u001b[0;32m~/miniconda3/envs/tf/lib/python3.9/site-packages/tensorflow/python/ops/gen_dataset_ops.py:3011\u001b[0m, in \u001b[0;36miterator_get_next\u001b[0;34m(iterator, output_types, output_shapes, name)\u001b[0m\n\u001b[1;32m   3009\u001b[0m \u001b[39mif\u001b[39;00m tld\u001b[39m.\u001b[39mis_eager:\n\u001b[1;32m   3010\u001b[0m   \u001b[39mtry\u001b[39;00m:\n\u001b[0;32m-> 3011\u001b[0m     _result \u001b[39m=\u001b[39m pywrap_tfe\u001b[39m.\u001b[39;49mTFE_Py_FastPathExecute(\n\u001b[1;32m   3012\u001b[0m       _ctx, \u001b[39m\"\u001b[39;49m\u001b[39mIteratorGetNext\u001b[39;49m\u001b[39m\"\u001b[39;49m, name, iterator, \u001b[39m\"\u001b[39;49m\u001b[39moutput_types\u001b[39;49m\u001b[39m\"\u001b[39;49m, output_types,\n\u001b[1;32m   3013\u001b[0m       \u001b[39m\"\u001b[39;49m\u001b[39moutput_shapes\u001b[39;49m\u001b[39m\"\u001b[39;49m, output_shapes)\n\u001b[1;32m   3014\u001b[0m     \u001b[39mreturn\u001b[39;00m _result\n\u001b[1;32m   3015\u001b[0m   \u001b[39mexcept\u001b[39;00m _core\u001b[39m.\u001b[39m_NotOkStatusException \u001b[39mas\u001b[39;00m e:\n",
      "\u001b[0;31mKeyboardInterrupt\u001b[0m: "
     ]
    }
   ],
   "source": [
    "\n",
    "BATCH_SIZE=64\n",
    "LOG_INTERVAL=20\n",
    "epochs = 15\n",
    "saveModel=False\n",
    "\n",
    "\n",
    "log_dir = \"./logs/\"+model.name+\"/\" + datetime.datetime.now().strftime(\"%Y%m%d-%H%M%S\")+\"_\"+SO\n",
    "tensorboard_callback = tf.keras.callbacks.TensorBoard(log_dir=log_dir, histogram_freq=1,\n",
    "                                                      write_graph=True, update_freq=5)\n",
    "\n",
    "\n",
    "summary_writer = tf.summary.create_file_writer(log_dir)\n",
    "\n",
    "# Instantiate an optimizer .\n",
    "# optimizer = tf.keras.optimizers.SGD(learning_rate=lr_schedule)\n",
    "# optimizer = tf.keras.optimizers.SGD(learning_rate=1e-3)\n",
    "optimizer = tf.keras.optimizers.Adam(learning_rate=6e-4)\n",
    "\n",
    "# Instantiate a loss function.\n",
    "# loss_fn = tf.keras.losses.BinaryCrossentropy()\n",
    "# loss_fn = WeightedBinaryCE(np.ones(len(mlb.classes_)))\n",
    "# loss_fn = WeightedBinaryCE(labelWeightsCorr)\n",
    "# loss_fn = WeightedComboLoss(labelWeightsCorr, alpha=0.5, beta=0.5, labelSmoothing=0.05)\n",
    "loss_fn = WeightedComboLoss(labelWeightsCorr, alpha=0.5, beta=0.5)\n",
    "\n",
    "train_acc_metric = WeightedAccuracy(classWeights=labelWeightsCorr)\n",
    "train_f1_metric = WeightedF1(classWeights=labelWeightsCorr, threshold=0.5)\n",
    "train_prec = WeightedPrecision(classWeights=labelWeightsCorr)\n",
    "train_rec = WeightedRecall(classWeights=labelWeightsCorr)\n",
    "\n",
    "val_acc_metric = WeightedAccuracy(classWeights=labelWeightsCorr)\n",
    "val_f1_metric = WeightedF1(classWeights=labelWeightsCorr, threshold=0.5)\n",
    "val_prec = WeightedPrecision(classWeights=labelWeightsCorr)\n",
    "val_rec = WeightedRecall(classWeights=labelWeightsCorr)\n",
    "\n",
    "batchedDataset = dataset.batch(BATCH_SIZE, drop_remainder=False)\n",
    "batchedDatasetVal = datasetVal.batch(BATCH_SIZE, drop_remainder=False)\n",
    "\n",
    "# batchedDataset = batchedDataset.cache(os.path.join(DATA_PATH, \"datasetCache\"+SO))\n",
    "# batchedDatasetVal = batchedDatasetVal.cache(os.path.join(DATA_PATH, \"datasetCacheVal\"+SO))\n",
    "\n",
    "@tf.function()\n",
    "def trainStep(x_batch_train, y_batch_train):\n",
    "    with tf.GradientTape() as tape:\n",
    "\n",
    "        probs = model(x_batch_train, training=True) \n",
    "        loss_value = loss_fn(y_batch_train, probs)\n",
    "\n",
    "    grads = tape.gradient(loss_value, model.trainable_weights)\n",
    "    #Gradient clipping\n",
    "    # grads = [tf.clip_by_norm(g, 2.0) for g in grads]\n",
    "\n",
    "    train_acc_metric.update_state(y_batch_train, probs)\n",
    "    train_f1_metric.update_state(y_batch_train, probs)\n",
    "    train_prec.update_state(y_batch_train, probs)\n",
    "    train_rec.update_state(y_batch_train, probs)\n",
    "\n",
    "    optimizer.apply_gradients(zip(grads, model.trainable_weights)) \n",
    "    return loss_value\n",
    "\n",
    "@tf.function()\n",
    "def valStep(x_batch_val, y_batch_val):\n",
    "    valProbs = model(x_batch_val, training=False)\n",
    "    # Update val metrics\n",
    "    val_acc_metric.update_state(y_batch_val, valProbs)\n",
    "    val_f1_metric.update_state(y_batch_val, valProbs)\n",
    "    val_prec.update_state(y_batch_val, valProbs)\n",
    "    val_rec.update_state(y_batch_val, valProbs)\n",
    "\n",
    "maxStep=0\n",
    "\n",
    "for epoch in range(epochs):\n",
    "    print(\"\\nStart of epoch %d\" % (epoch+1,))\n",
    "\n",
    "    # Iterate over the batches of the dataset.\n",
    "    for step, (x_batch_train, y_batch_train) in enumerate(batchedDataset):\n",
    "\n",
    "        loss_value =trainStep(x_batch_train,y_batch_train)\n",
    "\n",
    "        # Log \n",
    "        if step % LOG_INTERVAL == 0:\n",
    "            template = 'Epoch {}/Step {}, Loss: {:.5f}, Accuracy: {:.5f}, F1: {:.4f}, Prec: {:.4f}, Rec: {:.4f}, lr: {:.5f}'\n",
    "            print(template.format(epoch+1, step,loss_value.numpy(), \n",
    "                                    train_acc_metric.result(),train_f1_metric.result(),\n",
    "                                    train_prec.result(), train_rec.result(), optimizer.learning_rate.numpy()))\n",
    "            \n",
    "            with summary_writer.as_default():\n",
    "                tf.summary.scalar('loss', loss_value, step=maxStep*epoch+step)\n",
    "                tf.summary.scalar('accuracy', train_acc_metric.result(), step=maxStep*epoch+step)\n",
    "                tf.summary.scalar('f1', train_f1_metric.result(), step=maxStep*epoch+step)\n",
    "                tf.summary.scalar('prec', train_prec.result(), step=maxStep*epoch+step)\n",
    "                tf.summary.scalar('rec', train_rec.result(), step=maxStep*epoch+step)\n",
    "                tf.summary.scalar('learning rate', optimizer.learning_rate.numpy(), step=maxStep*epoch+step)\n",
    "                summary_writer.flush()\n",
    "\n",
    "    \n",
    "    train_acc_metric.reset_states()\n",
    "    train_f1_metric.reset_states()\n",
    "    train_prec.reset_states()\n",
    "    train_rec.reset_states()\n",
    "\n",
    "    maxStep=step\n",
    "\n",
    "    print(\"Epoch finished. Start validation\")\n",
    "    for x_batch_val, y_batch_val in batchedDatasetVal:\n",
    "        valStep(x_batch_val, y_batch_val)\n",
    "    val_acc = val_acc_metric.result()\n",
    "    val_acc_metric.reset_states()\n",
    "    val_f1 = val_f1_metric.result()\n",
    "    val_f1_metric.reset_states()\n",
    "    val_precision = val_prec.result()\n",
    "    val_prec.reset_states()\n",
    "    val_recall = val_rec.result()\n",
    "    val_rec.reset_states()\n",
    "    print(\"Validation acc: %.4f\" % (float(val_acc),))\n",
    "    print(\"Validation f1: %.4f\" % (float(val_f1),))\n",
    "    print(\"Validation precision: %.4f\" % (float(val_precision),))\n",
    "    print(\"Validation recall: %.4f\" % (float(val_recall),))\n",
    "    with summary_writer.as_default():\n",
    "        tf.summary.scalar('valAcc', float(val_acc), step=epoch)\n",
    "        tf.summary.scalar('valF1', float(val_f1), step=epoch)\n",
    "        tf.summary.scalar('valPrecision', float(val_precision), step=epoch)\n",
    "        tf.summary.scalar('valRecall', float(val_recall), step=epoch)\n",
    "        summary_writer.flush()\n",
    "    if saveModel:\n",
    "      model.save(os.path.join(DATA_PATH, \"model_\"+SO+\"_epoch_{}_valF1Score{:.3f}\".format(epoch, float(val_f1))))"
   ]
  },
  {
   "cell_type": "code",
   "execution_count": null,
   "id": "374f7234",
   "metadata": {},
   "outputs": [],
   "source": [
    "\n",
    "# model.save(os.path.join(DATA_PATH, \"model_\"+SO+\"_epoch_{}_valf1Score{:.3f}\".format(epoch, float(val_f1))))"
   ]
  },
  {
   "cell_type": "code",
   "execution_count": null,
   "id": "cefc1f6a",
   "metadata": {},
   "outputs": [
    {
     "name": "stderr",
     "output_type": "stream",
     "text": [
      "2023-07-27 15:01:50.530641: I tensorflow/core/common_runtime/executor.cc:1197] [/device:CPU:0] (DEBUG INFO) Executor start aborting (this does not indicate an error and you can ignore this message): INVALID_ARGUMENT: You must feed a value for placeholder tensor 'Placeholder/_0' with dtype int32\n",
      "\t [[{{node Placeholder/_0}}]]\n"
     ]
    },
    {
     "name": "stdout",
     "output_type": "stream",
     "text": [
      "1/1 [==============================] - 0s 295ms/step\n",
      "[('GO:0005622', 'GO:0005634', 'GO:0005737', 'GO:0005829', 'GO:0005886', 'GO:0031410', 'GO:0031981', 'GO:0043226', 'GO:0043227', 'GO:0043229', 'GO:0043231', 'GO:0071944', 'GO:0110165', 'GO:0120025')]\n",
      "[1. 1. 1. 1. 1. 1. 1. 1. 1. 1. 1. 1. 1. 1.]\n"
     ]
    }
   ],
   "source": [
    "\n",
    "probs= model.predict(tf.expand_dims(list(datasetVal.take(32))[10][0], 0))\n",
    "prediction= [1 if p > 0.5 else 0 for p in probs[0]]\n",
    "probabilities= probs[probs>0.5]\n",
    "# classes = np.argwhere(prediction)\n",
    "print(mlb.inverse_transform(np.array([prediction])))\n",
    "print(probabilities)"
   ]
  }
 ],
 "metadata": {
  "kernelspec": {
   "display_name": "Python 3 (ipykernel)",
   "language": "python",
   "name": "python3"
  },
  "language_info": {
   "codemirror_mode": {
    "name": "ipython",
    "version": 3
   },
   "file_extension": ".py",
   "mimetype": "text/x-python",
   "name": "python",
   "nbconvert_exporter": "python",
   "pygments_lexer": "ipython3",
   "version": "3.9.16"
  }
 },
 "nbformat": 4,
 "nbformat_minor": 5
}
