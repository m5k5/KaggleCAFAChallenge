{
 "cells": [
  {
   "cell_type": "code",
   "execution_count": 1,
   "id": "9c1d77e7",
   "metadata": {},
   "outputs": [
    {
     "name": "stderr",
     "output_type": "stream",
     "text": [
      "2023-08-02 23:43:11.601384: I tensorflow/core/platform/cpu_feature_guard.cc:182] This TensorFlow binary is optimized to use available CPU instructions in performance-critical operations.\n",
      "To enable the following instructions: AVX2 FMA, in other operations, rebuild TensorFlow with the appropriate compiler flags.\n",
      "2023-08-02 23:43:12.294243: W tensorflow/compiler/tf2tensorrt/utils/py_utils.cc:38] TF-TRT Warning: Could not find TensorRT\n"
     ]
    },
    {
     "name": "stdout",
     "output_type": "stream",
     "text": [
      "Num GPUs Available:  1\n",
      "/mnt/e/ML/cafa-5-protein-function-prediction\n",
      "/mnt/e/ML/output\n"
     ]
    },
    {
     "name": "stderr",
     "output_type": "stream",
     "text": [
      "2023-08-02 23:43:13.716111: I tensorflow/compiler/xla/stream_executor/cuda/cuda_gpu_executor.cc:982] could not open file to read NUMA node: /sys/bus/pci/devices/0000:2b:00.0/numa_node\n",
      "Your kernel may have been built without NUMA support.\n",
      "2023-08-02 23:43:13.803164: I tensorflow/compiler/xla/stream_executor/cuda/cuda_gpu_executor.cc:982] could not open file to read NUMA node: /sys/bus/pci/devices/0000:2b:00.0/numa_node\n",
      "Your kernel may have been built without NUMA support.\n",
      "2023-08-02 23:43:13.803529: I tensorflow/compiler/xla/stream_executor/cuda/cuda_gpu_executor.cc:982] could not open file to read NUMA node: /sys/bus/pci/devices/0000:2b:00.0/numa_node\n",
      "Your kernel may have been built without NUMA support.\n"
     ]
    }
   ],
   "source": [
    "import os\n",
    "from dotenv import load_dotenv\n",
    "import numpy as np\n",
    "import tensorflow as tf\n",
    "import pandas as pd\n",
    "import datetime\n",
    "from tqdm.notebook import tqdm\n",
    "\n",
    "physical_devices = tf.config.list_physical_devices('GPU')\n",
    "print(\"Num GPUs Available: \", len(physical_devices))\n",
    "# try:\n",
    "#   tf.config.experimental.set_memory_growth(physical_devices[0], True)\n",
    "# except:\n",
    "#   # Invalid device or cannot modify virtual devices once initialized.\n",
    "#   pass\n",
    "\n",
    "load_dotenv(override=True)\n",
    "\n",
    "DATA_PATH = os.getenv('DATA_PATH')\n",
    "DATA_PATH_INTERPRO = os.getenv('DATA_PATH_INTERPRO')\n",
    "print(DATA_PATH)\n",
    "print(DATA_PATH_INTERPRO)\n",
    "\n",
    "# Choose subontology (CCO, MFO or BPO)\n",
    "SO = 'CCO'"
   ]
  },
  {
   "attachments": {},
   "cell_type": "markdown",
   "id": "e3544f8a",
   "metadata": {},
   "source": [
    "## Reading fasta, obo and tsv files"
   ]
  },
  {
   "cell_type": "code",
   "execution_count": 2,
   "id": "c8b515f2",
   "metadata": {},
   "outputs": [],
   "source": [
    "from Bio import SeqIO\n",
    "\n",
    "sequences = [rec.seq for rec in SeqIO.parse(os.path.join(DATA_PATH, \"Train/train_sequences.fasta\"),\"fasta\")]\n",
    "ids = [rec.id for rec in SeqIO.parse(os.path.join(DATA_PATH, \"Train/train_sequences.fasta\"),\"fasta\")]"
   ]
  },
  {
   "cell_type": "code",
   "execution_count": 3,
   "id": "2898414e",
   "metadata": {},
   "outputs": [],
   "source": [
    "import networkx\n",
    "import obonet\n",
    "\n",
    "# Read the taxrank ontology\n",
    "url = os.path.join(DATA_PATH, \"Train/go-basic.obo\")\n",
    "graph = obonet.read_obo(url)\n"
   ]
  },
  {
   "cell_type": "code",
   "execution_count": 4,
   "id": "9f4bf949",
   "metadata": {},
   "outputs": [
    {
     "name": "stdout",
     "output_type": "stream",
     "text": [
      "(1196017, 3)\n"
     ]
    }
   ],
   "source": [
    "df = pd.read_csv(os.path.join(DATA_PATH, \"Train/train_terms.tsv\"), sep='\\t')\n",
    "\n",
    "dfSO = df.loc[df[\"aspect\"]==SO]\n",
    "uniqueTerms = dfSO[\"term\"].unique()\n",
    "termsArr = list(dfSO[\"term\"].to_numpy())\n",
    "\n",
    "uniqueTermsDict={}\n",
    "for i,el in enumerate(uniqueTerms):\n",
    "    uniqueTermsDict[el] = i\n",
    "    \n",
    "print(dfSO.shape)\n",
    "df=dfSO\n",
    "\n",
    "df.set_index(\"EntryID\", inplace=True)"
   ]
  },
  {
   "cell_type": "code",
   "execution_count": 5,
   "id": "e4dec705",
   "metadata": {},
   "outputs": [],
   "source": [
    "testID = df.index.to_list()[0]"
   ]
  },
  {
   "cell_type": "code",
   "execution_count": 6,
   "id": "b181e117",
   "metadata": {},
   "outputs": [
    {
     "data": {
      "text/html": [
       "<div>\n",
       "<style scoped>\n",
       "    .dataframe tbody tr th:only-of-type {\n",
       "        vertical-align: middle;\n",
       "    }\n",
       "\n",
       "    .dataframe tbody tr th {\n",
       "        vertical-align: top;\n",
       "    }\n",
       "\n",
       "    .dataframe thead th {\n",
       "        text-align: right;\n",
       "    }\n",
       "</style>\n",
       "<table border=\"1\" class=\"dataframe\">\n",
       "  <thead>\n",
       "    <tr style=\"text-align: right;\">\n",
       "      <th></th>\n",
       "      <th>term</th>\n",
       "      <th>aspect</th>\n",
       "    </tr>\n",
       "    <tr>\n",
       "      <th>EntryID</th>\n",
       "      <th></th>\n",
       "      <th></th>\n",
       "    </tr>\n",
       "  </thead>\n",
       "  <tbody>\n",
       "    <tr>\n",
       "      <th>A0A021WW32</th>\n",
       "      <td>GO:0099086</td>\n",
       "      <td>CCO</td>\n",
       "    </tr>\n",
       "    <tr>\n",
       "      <th>A0A021WW32</th>\n",
       "      <td>GO:0000228</td>\n",
       "      <td>CCO</td>\n",
       "    </tr>\n",
       "    <tr>\n",
       "      <th>A0A021WW32</th>\n",
       "      <td>GO:0005622</td>\n",
       "      <td>CCO</td>\n",
       "    </tr>\n",
       "    <tr>\n",
       "      <th>A0A021WW32</th>\n",
       "      <td>GO:0043226</td>\n",
       "      <td>CCO</td>\n",
       "    </tr>\n",
       "    <tr>\n",
       "      <th>A0A021WW32</th>\n",
       "      <td>GO:0000792</td>\n",
       "      <td>CCO</td>\n",
       "    </tr>\n",
       "    <tr>\n",
       "      <th>A0A021WW32</th>\n",
       "      <td>GO:0000795</td>\n",
       "      <td>CCO</td>\n",
       "    </tr>\n",
       "    <tr>\n",
       "      <th>A0A021WW32</th>\n",
       "      <td>GO:0000785</td>\n",
       "      <td>CCO</td>\n",
       "    </tr>\n",
       "    <tr>\n",
       "      <th>A0A021WW32</th>\n",
       "      <td>GO:0043231</td>\n",
       "      <td>CCO</td>\n",
       "    </tr>\n",
       "    <tr>\n",
       "      <th>A0A021WW32</th>\n",
       "      <td>GO:0032991</td>\n",
       "      <td>CCO</td>\n",
       "    </tr>\n",
       "    <tr>\n",
       "      <th>A0A021WW32</th>\n",
       "      <td>GO:0043229</td>\n",
       "      <td>CCO</td>\n",
       "    </tr>\n",
       "    <tr>\n",
       "      <th>A0A021WW32</th>\n",
       "      <td>GO:0043232</td>\n",
       "      <td>CCO</td>\n",
       "    </tr>\n",
       "    <tr>\n",
       "      <th>A0A021WW32</th>\n",
       "      <td>GO:0005634</td>\n",
       "      <td>CCO</td>\n",
       "    </tr>\n",
       "    <tr>\n",
       "      <th>A0A021WW32</th>\n",
       "      <td>GO:0005705</td>\n",
       "      <td>CCO</td>\n",
       "    </tr>\n",
       "    <tr>\n",
       "      <th>A0A021WW32</th>\n",
       "      <td>GO:0043228</td>\n",
       "      <td>CCO</td>\n",
       "    </tr>\n",
       "    <tr>\n",
       "      <th>A0A021WW32</th>\n",
       "      <td>GO:0031981</td>\n",
       "      <td>CCO</td>\n",
       "    </tr>\n",
       "    <tr>\n",
       "      <th>A0A021WW32</th>\n",
       "      <td>GO:0000793</td>\n",
       "      <td>CCO</td>\n",
       "    </tr>\n",
       "    <tr>\n",
       "      <th>A0A021WW32</th>\n",
       "      <td>GO:0098687</td>\n",
       "      <td>CCO</td>\n",
       "    </tr>\n",
       "    <tr>\n",
       "      <th>A0A021WW32</th>\n",
       "      <td>GO:0043233</td>\n",
       "      <td>CCO</td>\n",
       "    </tr>\n",
       "    <tr>\n",
       "      <th>A0A021WW32</th>\n",
       "      <td>GO:0005700</td>\n",
       "      <td>CCO</td>\n",
       "    </tr>\n",
       "    <tr>\n",
       "      <th>A0A021WW32</th>\n",
       "      <td>GO:0005575</td>\n",
       "      <td>CCO</td>\n",
       "    </tr>\n",
       "    <tr>\n",
       "      <th>A0A021WW32</th>\n",
       "      <td>GO:0044815</td>\n",
       "      <td>CCO</td>\n",
       "    </tr>\n",
       "    <tr>\n",
       "      <th>A0A021WW32</th>\n",
       "      <td>GO:0005694</td>\n",
       "      <td>CCO</td>\n",
       "    </tr>\n",
       "    <tr>\n",
       "      <th>A0A021WW32</th>\n",
       "      <td>GO:0000794</td>\n",
       "      <td>CCO</td>\n",
       "    </tr>\n",
       "    <tr>\n",
       "      <th>A0A021WW32</th>\n",
       "      <td>GO:0008278</td>\n",
       "      <td>CCO</td>\n",
       "    </tr>\n",
       "    <tr>\n",
       "      <th>A0A021WW32</th>\n",
       "      <td>GO:0110165</td>\n",
       "      <td>CCO</td>\n",
       "    </tr>\n",
       "    <tr>\n",
       "      <th>A0A021WW32</th>\n",
       "      <td>GO:0005721</td>\n",
       "      <td>CCO</td>\n",
       "    </tr>\n",
       "    <tr>\n",
       "      <th>A0A021WW32</th>\n",
       "      <td>GO:0070013</td>\n",
       "      <td>CCO</td>\n",
       "    </tr>\n",
       "    <tr>\n",
       "      <th>A0A021WW32</th>\n",
       "      <td>GO:0043227</td>\n",
       "      <td>CCO</td>\n",
       "    </tr>\n",
       "    <tr>\n",
       "      <th>A0A021WW32</th>\n",
       "      <td>GO:0000775</td>\n",
       "      <td>CCO</td>\n",
       "    </tr>\n",
       "    <tr>\n",
       "      <th>A0A021WW32</th>\n",
       "      <td>GO:0031974</td>\n",
       "      <td>CCO</td>\n",
       "    </tr>\n",
       "  </tbody>\n",
       "</table>\n",
       "</div>"
      ],
      "text/plain": [
       "                  term aspect\n",
       "EntryID                      \n",
       "A0A021WW32  GO:0099086    CCO\n",
       "A0A021WW32  GO:0000228    CCO\n",
       "A0A021WW32  GO:0005622    CCO\n",
       "A0A021WW32  GO:0043226    CCO\n",
       "A0A021WW32  GO:0000792    CCO\n",
       "A0A021WW32  GO:0000795    CCO\n",
       "A0A021WW32  GO:0000785    CCO\n",
       "A0A021WW32  GO:0043231    CCO\n",
       "A0A021WW32  GO:0032991    CCO\n",
       "A0A021WW32  GO:0043229    CCO\n",
       "A0A021WW32  GO:0043232    CCO\n",
       "A0A021WW32  GO:0005634    CCO\n",
       "A0A021WW32  GO:0005705    CCO\n",
       "A0A021WW32  GO:0043228    CCO\n",
       "A0A021WW32  GO:0031981    CCO\n",
       "A0A021WW32  GO:0000793    CCO\n",
       "A0A021WW32  GO:0098687    CCO\n",
       "A0A021WW32  GO:0043233    CCO\n",
       "A0A021WW32  GO:0005700    CCO\n",
       "A0A021WW32  GO:0005575    CCO\n",
       "A0A021WW32  GO:0044815    CCO\n",
       "A0A021WW32  GO:0005694    CCO\n",
       "A0A021WW32  GO:0000794    CCO\n",
       "A0A021WW32  GO:0008278    CCO\n",
       "A0A021WW32  GO:0110165    CCO\n",
       "A0A021WW32  GO:0005721    CCO\n",
       "A0A021WW32  GO:0070013    CCO\n",
       "A0A021WW32  GO:0043227    CCO\n",
       "A0A021WW32  GO:0000775    CCO\n",
       "A0A021WW32  GO:0031974    CCO"
      ]
     },
     "execution_count": 6,
     "metadata": {},
     "output_type": "execute_result"
    }
   ],
   "source": [
    "df.loc[testID]"
   ]
  },
  {
   "cell_type": "code",
   "execution_count": 7,
   "id": "7fff067f",
   "metadata": {},
   "outputs": [],
   "source": [
    "dfGo = pd.read_csv(os.path.join(DATA_PATH, \"Train/train_terms.tsv\"), sep='\\t')\n",
    "\n",
    "dfGo = dfGo.loc[dfGo[\"aspect\"]==SO]\n",
    "\n",
    "dfGo.set_index(\"term\", inplace=True)"
   ]
  },
  {
   "attachments": {},
   "cell_type": "markdown",
   "id": "5338b7f8",
   "metadata": {},
   "source": [
    "## GO analysis"
   ]
  },
  {
   "cell_type": "code",
   "execution_count": 8,
   "id": "1058ef1d",
   "metadata": {},
   "outputs": [],
   "source": [
    "item_counts = df[\"term\"].value_counts()"
   ]
  },
  {
   "cell_type": "code",
   "execution_count": 9,
   "id": "eb35584f",
   "metadata": {},
   "outputs": [],
   "source": [
    "id_to_name = {id_: data.get('name') for id_, data in graph.nodes(data=True)}\n",
    "name_to_id = {data['name']: id_ for id_, data in graph.nodes(data=True) if 'name' in data}"
   ]
  },
  {
   "attachments": {},
   "cell_type": "markdown",
   "id": "3c099fc2",
   "metadata": {},
   "source": [
    "## Label encoding"
   ]
  },
  {
   "attachments": {},
   "cell_type": "markdown",
   "id": "cae9a3b0",
   "metadata": {},
   "source": [
    "The task is a multilabel classification: The output has several possible targets (Gene Ontologies) but each can only be 1 (existing) or 0 (non existing)"
   ]
  },
  {
   "attachments": {},
   "cell_type": "markdown",
   "id": "c8e63ed9",
   "metadata": {},
   "source": [
    "Extract label weights from IA"
   ]
  },
  {
   "cell_type": "code",
   "execution_count": 10,
   "id": "c7e3c316",
   "metadata": {},
   "outputs": [
    {
     "name": "stdout",
     "output_type": "stream",
     "text": [
      "Not found GOs: 0 (set to 0)\n"
     ]
    }
   ],
   "source": [
    "dfIa = pd.read_csv(os.path.join(DATA_PATH, \"IA.txt\"), sep='\\t', header=None)\n",
    "\n",
    "dfIa.set_index(0, inplace=True)\n",
    "\n",
    "labelWeights=[]\n",
    "allIndices = dfIa.index.tolist()\n",
    "\n",
    "\n",
    "\n",
    "notFound=0\n",
    "for go in item_counts.index.to_list():\n",
    "    if go in allIndices:\n",
    "        labelWeights.append(dfIa.loc[go].to_numpy()[0])\n",
    "    else:\n",
    "        notFound += 1\n",
    "        labelWeights.append(0)\n",
    "\n",
    "print(\"Not found GOs: {} (set to 0)\".format(notFound))"
   ]
  },
  {
   "cell_type": "code",
   "execution_count": 11,
   "id": "caeee590",
   "metadata": {},
   "outputs": [
    {
     "name": "stdout",
     "output_type": "stream",
     "text": [
      "Loading presaved data\n"
     ]
    }
   ],
   "source": [
    "topGOs=item_counts.index.to_list()\n",
    "\n",
    "threshold=0\n",
    "labelWeights=np.array(labelWeights)\n",
    "selection = labelWeights>threshold\n",
    "topGOs=np.array(topGOs)[selection]\n",
    "\n",
    "if os.path.exists(os.path.join(DATA_PATH, \"GODataSizes_\"+SO+\".npy\")):\n",
    "    print(\"Loading presaved data\")\n",
    "    GODataSizes = np.load(os.path.join(DATA_PATH, \"GODataSizes_\"+SO+\".npy\"))\n",
    "else:\n",
    "    GODataSizes= [dfGo.loc[g].size for g in topGOs]\n",
    "    np.save(os.path.join(DATA_PATH, \"GODataSizes_\"+SO), GODataSizes)\n"
   ]
  },
  {
   "cell_type": "code",
   "execution_count": 12,
   "id": "3e87f301",
   "metadata": {},
   "outputs": [
    {
     "name": "stdout",
     "output_type": "stream",
     "text": [
      "2055\n"
     ]
    }
   ],
   "source": [
    "#At least 10 samples\n",
    "print(np.count_nonzero(np.array(GODataSizes)>5))\n",
    "GODataSizes= np.array(GODataSizes)\n",
    "GOsWithSufficientData = topGOs[GODataSizes>5]\n"
   ]
  },
  {
   "cell_type": "code",
   "execution_count": 13,
   "id": "99f6a6ca",
   "metadata": {},
   "outputs": [
    {
     "name": "stdout",
     "output_type": "stream",
     "text": [
      "2567\n",
      "['GO:0099086' 'GO:0000228' 'GO:0005622' 'GO:0043226' 'GO:0000792'\n",
      " 'GO:0000795' 'GO:0000785' 'GO:0043231' 'GO:0032991' 'GO:0043229'\n",
      " 'GO:0043232' 'GO:0005634' 'GO:0005705' 'GO:0043228' 'GO:0031981'\n",
      " 'GO:0000793' 'GO:0098687' 'GO:0043233' 'GO:0005700' 'GO:0005575'\n",
      " 'GO:0044815' 'GO:0005694' 'GO:0000794' 'GO:0008278' 'GO:0110165'\n",
      " 'GO:0005721' 'GO:0070013' 'GO:0043227' 'GO:0000775' 'GO:0031974']\n",
      "[[0 0 0 ... 0 0 0]]\n",
      "2055\n"
     ]
    },
    {
     "name": "stderr",
     "output_type": "stream",
     "text": [
      "/home/manuel/miniconda3/envs/tf/lib/python3.9/site-packages/sklearn/preprocessing/_label.py:895: UserWarning: unknown class(es) ['GO:0005575', 'GO:0043232'] will be ignored\n",
      "  warnings.warn(\n"
     ]
    }
   ],
   "source": [
    "from sklearn.preprocessing import MultiLabelBinarizer\n",
    "import pickle\n",
    "\n",
    "print(len(topGOs))\n",
    "mlb = MultiLabelBinarizer()\n",
    "mlb.fit([GOsWithSufficientData])\n",
    "\n",
    "dftest=df.loc[testID]\n",
    "indices = dftest[\"term\"].to_numpy()\n",
    "print(indices)\n",
    "print(mlb.transform([indices]))\n",
    "print(len(mlb.classes_))\n",
    "\n",
    "with open(os.path.join(DATA_PATH,'MLB_'+SO+'.pkl'), 'wb') as f:\n",
    "    pickle.dump(mlb, f)"
   ]
  },
  {
   "cell_type": "code",
   "execution_count": 14,
   "id": "fb189ff8",
   "metadata": {},
   "outputs": [
    {
     "name": "stdout",
     "output_type": "stream",
     "text": [
      "Not found GOs: 0 (set to 0)\n"
     ]
    }
   ],
   "source": [
    "labelWeightsCorr=[]\n",
    "occurenceScores=[]\n",
    "termHist= df[\"term\"].value_counts()\n",
    "maxGoCount = termHist.max()\n",
    "\n",
    "notFound=0\n",
    "for go in mlb.classes_:\n",
    "    if go in allIndices:\n",
    "        occurenceScore = (maxGoCount-termHist[go])/maxGoCount\n",
    "        occurenceScores.append(occurenceScore)\n",
    "        labelWeightsCorr.append(dfIa.loc[go].to_numpy()[0])\n",
    "    else:\n",
    "        notFound += 1\n",
    "        labelWeightsCorr.append(0)\n",
    "\n",
    "print(\"Not found GOs: {} (set to 0)\".format(notFound))\n",
    "labelWeightsCorr=np.array(labelWeightsCorr)"
   ]
  },
  {
   "attachments": {},
   "cell_type": "markdown",
   "id": "92019f8c",
   "metadata": {},
   "source": [
    "## Amino acids encoding"
   ]
  },
  {
   "cell_type": "code",
   "execution_count": 15,
   "id": "6e42462e",
   "metadata": {},
   "outputs": [],
   "source": [
    "aa_dict = {'A': 1, 'B':24, 'C': 2, 'D': 3, 'E': 4, 'F': 5, 'G': 6, 'H': 7, 'I': 8, 'K': 9, 'L': 10, 'M': 11, 'N': 12, 'O': 21, 'P': 13, 'Q': 14, 'R': 15, 'S': 16, 'T': 17, 'U': 22, 'V': 18, 'W': 19, 'Y': 20, 'X':30, 'Z':23}"
   ]
  },
  {
   "cell_type": "markdown",
   "id": "d206203f",
   "metadata": {},
   "source": [
    "## Interpro Data"
   ]
  },
  {
   "cell_type": "code",
   "execution_count": 16,
   "id": "43765061",
   "metadata": {},
   "outputs": [],
   "source": [
    "import xml.etree.ElementTree as ET\n",
    "root = ET.parse(os.path.join(DATA_PATH, \"interpro.xml\")).getroot()"
   ]
  },
  {
   "cell_type": "code",
   "execution_count": 17,
   "id": "2e280b8f",
   "metadata": {},
   "outputs": [],
   "source": [
    "possibleDomains=[]\n",
    "for child in root:\n",
    "    if \"type\" in child.attrib:\n",
    "        if(child.attrib[\"type\"]==\"Domain\" or child.attrib[\"type\"]==\"Repeat\"):\n",
    "            # print(child.tag, child.attrib)\n",
    "            possibleDomains.append(child.attrib[\"id\"])"
   ]
  },
  {
   "cell_type": "code",
   "execution_count": 18,
   "id": "23b46e43",
   "metadata": {},
   "outputs": [
    {
     "name": "stdout",
     "output_type": "stream",
     "text": [
      "[[1 0 0 ... 0 0 0]]\n",
      "13153\n"
     ]
    }
   ],
   "source": [
    "len(possibleDomains)\n",
    "\n",
    "mlbInterPro = MultiLabelBinarizer()\n",
    "mlbInterPro.fit([possibleDomains])\n",
    "\n",
    "\n",
    "print(mlbInterPro.transform([[\"IPR000001\"]]))\n",
    "print(len(mlbInterPro.classes_))\n",
    "\n",
    "with open(os.path.join(DATA_PATH,'MLB_InterPro_'+SO+'.pkl'), 'wb') as f:\n",
    "    pickle.dump(mlbInterPro, f)"
   ]
  },
  {
   "cell_type": "code",
   "execution_count": 19,
   "id": "6cd8d58f",
   "metadata": {},
   "outputs": [],
   "source": [
    "import json\n",
    "\n",
    "with open(os.path.join(DATA_PATH_INTERPRO, \"train_sequences1.fasta.json\")) as f:\n",
    "    iprData1 = json.load(f)\n",
    "\n",
    "with open(os.path.join(DATA_PATH_INTERPRO, \"train_sequences2.fasta.json\")) as f:\n",
    "    iprData2 = json.load(f)"
   ]
  },
  {
   "cell_type": "code",
   "execution_count": 22,
   "id": "6e1c7d8e",
   "metadata": {},
   "outputs": [
    {
     "data": {
      "application/vnd.jupyter.widget-view+json": {
       "model_id": "33765a3048914da7bafe251147a8349d",
       "version_major": 2,
       "version_minor": 0
      },
      "text/plain": [
       "  0%|          | 0/140645 [00:00<?, ?it/s]"
      ]
     },
     "metadata": {},
     "output_type": "display_data"
    }
   ],
   "source": [
    "\n",
    "iprIds = {}\n",
    "\n",
    "\n",
    "for entry in tqdm([*iprData1[\"results\"], *iprData2[\"results\"]]):\n",
    "    entryId = entry[\"xref\"][0][\"id\"]\n",
    "    matches=[]\n",
    "    for match in entry[\"matches\"]:\n",
    "        sigEntry = match[\"signature\"][\"entry\"]\n",
    "        if(sigEntry):\n",
    "            type = sigEntry[\"type\"]\n",
    "            if type==\"DOMAIN\" or type==\"REPEAT\":\n",
    "                iprId = match[\"signature\"][\"entry\"][\"accession\"]\n",
    "                matches.append(iprId)\n",
    "    iprIds[entryId] = matches"
   ]
  },
  {
   "cell_type": "code",
   "execution_count": 23,
   "id": "c824d142",
   "metadata": {},
   "outputs": [
    {
     "data": {
      "text/plain": [
       "140645"
      ]
     },
     "execution_count": 23,
     "metadata": {},
     "output_type": "execute_result"
    }
   ],
   "source": [
    "len(iprIds)"
   ]
  },
  {
   "cell_type": "code",
   "execution_count": 24,
   "id": "1d2cd32c",
   "metadata": {},
   "outputs": [
    {
     "data": {
      "text/plain": [
       "8"
      ]
     },
     "execution_count": 24,
     "metadata": {},
     "output_type": "execute_result"
    }
   ],
   "source": [
    "testInput = mlbInterPro.transform([iprIds[\"Q8NDA2\"]])\n",
    "np.count_nonzero(testInput)"
   ]
  },
  {
   "cell_type": "markdown",
   "id": "c4e073e2",
   "metadata": {},
   "source": [
    "## Physiochemical Properties"
   ]
  },
  {
   "cell_type": "code",
   "execution_count": 25,
   "id": "07e0db99",
   "metadata": {},
   "outputs": [
    {
     "name": "stdout",
     "output_type": "stream",
     "text": [
      "Loading presaved data\n"
     ]
    }
   ],
   "source": [
    "\n",
    "from Bio.SeqUtils.ProtParam import ProteinAnalysis\n",
    "from Bio.Seq import MutableSeq, Seq\n",
    "from tqdm.notebook import tqdm\n",
    "import pickle\n",
    "\n",
    "if os.path.exists(os.path.join(DATA_PATH, \"PCDict\"+\".pkl\")):\n",
    "    print(\"Loading presaved data\")\n",
    "    with open(os.path.join(DATA_PATH, \"PCDict\"+\".pkl\"), 'rb') as f:\n",
    "        PCDict = pickle.load(f)\n",
    "else:\n",
    "    PCDict = {}\n",
    "\n",
    "    for i,seq in enumerate(tqdm(sequences)):\n",
    "\n",
    "        index = ids[i]\n",
    "        \n",
    "        X =ProteinAnalysis(seq)\n",
    "\n",
    "        if \"X\" in seq or \"U\" in seq or \"O\" in seq or \"B\" in seq or \"Z\" in seq:\n",
    "            cleanedSeq = seq.replace(\"X\", \"A\")\n",
    "            cleanedSeq = cleanedSeq.replace(\"U\", \"A\")\n",
    "            cleanedSeq = cleanedSeq.replace(\"O\", \"A\")\n",
    "            cleanedSeq = cleanedSeq.replace(\"B\", \"A\")\n",
    "            cleanedSeq = cleanedSeq.replace(\"Z\", \"A\")\n",
    "            XClean =ProteinAnalysis(cleanedSeq)\n",
    "            flex = XClean.flexibility()\n",
    "            molW = XClean.molecular_weight()\n",
    "            instabIdx = XClean.instability_index()\n",
    "            gravy = XClean.gravy()\n",
    "        else:\n",
    "            flex= X.flexibility()\n",
    "            molW = X.molecular_weight()\n",
    "            instabIdx = X.instability_index()\n",
    "            gravy = X.gravy()\n",
    "\n",
    "        if len(flex)>10:\n",
    "            idx = np.round(np.linspace(0, len(flex) - 1, 10)).astype(int)\n",
    "            flex = np.array(flex)[idx]\n",
    "        elif len(flex)<10:\n",
    "            flex = np.pad(flex, (0,10-len(flex)))\n",
    "\n",
    "        protS= X.protein_scale(aa_dict,100)\n",
    "        if len(protS)>10:\n",
    "            idx = np.round(np.linspace(0, len(protS) - 1, 10)).astype(int)\n",
    "            protS = np.array(protS)[idx]\n",
    "        elif len(protS)<10:\n",
    "            protS = np.pad(protS, (0,10-len(protS)))\n",
    "\n",
    "        #Adding all the physiochemical properties (N = 53)\n",
    "        PCDict[index] = [ molW, X.aromaticity(), instabIdx, *list(X.get_amino_acids_percent().values()),\n",
    "                *flex, gravy, *protS, X.isoelectric_point(), X.charge_at_pH(7), X.charge_at_pH(3), X.charge_at_pH(10), *X.molar_extinction_coefficient(),\n",
    "                *X.secondary_structure_fraction()]\n",
    "        \n",
    "    with open(os.path.join(DATA_PATH, \"PCDict\"+\".pkl\"), 'wb') as f:\n",
    "        pickle.dump(PCDict, f)\n",
    "    \n"
   ]
  },
  {
   "attachments": {},
   "cell_type": "markdown",
   "id": "bfd823ba",
   "metadata": {},
   "source": [
    "## Build Dataset"
   ]
  },
  {
   "cell_type": "code",
   "execution_count": 26,
   "id": "6ff7484e",
   "metadata": {},
   "outputs": [
    {
     "name": "stdout",
     "output_type": "stream",
     "text": [
      "['A0A021WW32' 'A0A021WZA4' 'A0A023GPJ3' ... 'X6RLP6' 'X6RLR1' 'X6RM59']\n"
     ]
    }
   ],
   "source": [
    "dfAll=pd.read_csv(os.path.join(DATA_PATH, \"Train/train_terms.tsv\"), sep='\\t')\n",
    "\n",
    "soEntries = dfAll.loc[dfAll[\"aspect\"]==SO]\n",
    "soEntryIds = soEntries[\"EntryID\"].unique()\n",
    "\n",
    "print(soEntryIds)\n",
    "\n",
    "dfAll.set_index(\"EntryID\", inplace=True)"
   ]
  },
  {
   "cell_type": "code",
   "execution_count": 27,
   "id": "44f722e8",
   "metadata": {},
   "outputs": [
    {
     "name": "stdout",
     "output_type": "stream",
     "text": [
      "99572\n"
     ]
    }
   ],
   "source": [
    "import warnings\n",
    "from itertools import product\n",
    "from tqdm import tqdm\n",
    "import os\n",
    "\n",
    "\n",
    "TRAIN_VAL_SPLIT = 0.7\n",
    "\n",
    "\n",
    "# Shuffle the data\n",
    "import random\n",
    "random.seed(516213)\n",
    "c = list(zip(sequences, ids))\n",
    "random.shuffle(c)\n",
    "sequencesShuffle, idsShuffle = zip(*c)\n",
    "\n",
    "\n",
    "#Train Validation Split\n",
    "split = int(np.floor(len(sequencesShuffle)*TRAIN_VAL_SPLIT))\n",
    "print(split)\n",
    "trainSeq = sequencesShuffle[0:split]\n",
    "valSeq = sequencesShuffle[split+1:]\n",
    "trainIds = idsShuffle[0:split]\n",
    "valIds = idsShuffle[split+1:]\n",
    "\n",
    "\n",
    "def generator():\n",
    "  for i,seq in enumerate(trainSeq):\n",
    "      entryId = trainIds[i]\n",
    "      if entryId in soEntryIds:\n",
    "        labelData = df.loc[entryId]\n",
    "        # indices = labelData[\"termToken\"].to_numpy()\n",
    "        indices = labelData[\"term\"].to_numpy()\n",
    "      else: \n",
    "        indices=[]\n",
    "\n",
    "      with warnings.catch_warnings():\n",
    "        #supress the warnings for unknown classes\n",
    "        warnings.simplefilter(\"ignore\")\n",
    "        y = mlb.transform([indices])\n",
    "\n",
    "      with warnings.catch_warnings():\n",
    "        #supress the warnings for unknown classes\n",
    "        warnings.simplefilter(\"ignore\")\n",
    "        if entryId in iprIds:\n",
    "          x  = mlbInterPro.transform([iprIds[entryId]])\n",
    "        else:\n",
    "          x  = mlbInterPro.transform([[]])\n",
    "      \n",
    "\n",
    "      #Adding all the physiochemical properties (N = 53)\n",
    "      pcProps = PCDict[entryId]\n",
    "      extended = [ *pcProps, *x[0]]\n",
    "     \n",
    "      yield (np.array(extended),y[0])\n",
    "\n",
    "\n",
    "def generatorVal():\n",
    "  for i,seq in enumerate(valSeq):\n",
    "      entryId = valIds[i]\n",
    "      if entryId in soEntryIds:\n",
    "        labelData = df.loc[entryId]\n",
    "        # indices = labelData[\"termToken\"].to_numpy()\n",
    "        indices = labelData[\"term\"].to_numpy()\n",
    "      else: \n",
    "        indices=[]\n",
    "\n",
    "      with warnings.catch_warnings():\n",
    "        #supress the warnings for unknown classes\n",
    "        warnings.simplefilter(\"ignore\")\n",
    "        y = mlb.transform([indices])\n",
    "\n",
    "      with warnings.catch_warnings():\n",
    "        #supress the warnings for unknown classes\n",
    "        warnings.simplefilter(\"ignore\")\n",
    "        if entryId in iprIds:\n",
    "          x  = mlbInterPro.transform([iprIds[entryId]])\n",
    "        else:\n",
    "          x  = mlbInterPro.transform([[]])\n",
    "\n",
    "      #Adding all the physiochemical properties (N = 53)\n",
    "      pcProps = PCDict[entryId]\n",
    "      extended = [ *pcProps, *x[0]]\n",
    "     \n",
    "      yield (np.array(extended),y[0])\n",
    "        "
   ]
  },
  {
   "cell_type": "code",
   "execution_count": 28,
   "id": "2727338a",
   "metadata": {},
   "outputs": [
    {
     "name": "stdout",
     "output_type": "stream",
     "text": [
      "The first sample: \n",
      "(13206,)\n",
      "[ 6.05124015e+04  9.88805970e-02  2.61261381e+01  6.71641791e-02\n",
      "  0.00000000e+00  6.90298507e-02  7.08955224e-02  5.22388060e-02\n",
      "  9.14179104e-02  2.98507463e-02  2.98507463e-02  4.10447761e-02\n",
      "  5.78358209e-02  2.23880597e-02  4.66417910e-02  6.15671642e-02\n",
      "  6.52985075e-02  7.08955224e-02  4.29104478e-02  6.34328358e-02\n",
      "  7.08955224e-02  1.49253731e-02  3.17164179e-02  1.05220238e+00\n",
      "  9.97142857e-01  9.78904762e-01  1.02989286e+00  1.01094048e+00\n",
      "  1.02457143e+00  1.04310714e+00  1.01715476e+00  1.01034524e+00\n",
      "  9.94714286e-01 -7.63059701e-01  1.04653465e+01  1.04554455e+01\n",
      "  1.02574257e+01  1.06237624e+01  1.06831683e+01  1.00495050e+01\n",
      "  1.03267327e+01  1.07326733e+01  1.02079208e+01  9.67326733e+00\n",
      "  5.58632946e+00 -1.39959336e+01  7.24334207e+01 -3.58735618e+01\n",
      "  6.93300000e+04  6.93300000e+04  2.57462687e-01  2.42537313e-01\n",
      "  2.18283582e-01  0.00000000e+00  0.00000000e+00  0.00000000e+00\n",
      "  0.00000000e+00  0.00000000e+00  0.00000000e+00  0.00000000e+00]\n",
      "The first sample has 54 input classes\n",
      "The first sample has 0 output classes\n"
     ]
    }
   ],
   "source": [
    "g = generator()\n",
    "test = next(g)\n",
    "print(\"The first sample: \\n{}\\n{}\".format(test[0].shape, test[0][0:60]))\n",
    "print(\"The first sample has {} input classes\".format(np.count_nonzero(test[0])))\n",
    "print(\"The first sample has {} output classes\".format(np.count_nonzero(test[1])))"
   ]
  },
  {
   "attachments": {},
   "cell_type": "markdown",
   "id": "10c4a51a",
   "metadata": {},
   "source": [
    "## Tensorflow Classification"
   ]
  },
  {
   "cell_type": "code",
   "execution_count": 29,
   "id": "63f0d2e0",
   "metadata": {},
   "outputs": [
    {
     "name": "stderr",
     "output_type": "stream",
     "text": [
      "2023-08-02 23:48:39.806680: I tensorflow/compiler/xla/stream_executor/cuda/cuda_gpu_executor.cc:982] could not open file to read NUMA node: /sys/bus/pci/devices/0000:2b:00.0/numa_node\n",
      "Your kernel may have been built without NUMA support.\n",
      "2023-08-02 23:48:39.807105: I tensorflow/compiler/xla/stream_executor/cuda/cuda_gpu_executor.cc:982] could not open file to read NUMA node: /sys/bus/pci/devices/0000:2b:00.0/numa_node\n",
      "Your kernel may have been built without NUMA support.\n",
      "2023-08-02 23:48:39.807470: I tensorflow/compiler/xla/stream_executor/cuda/cuda_gpu_executor.cc:982] could not open file to read NUMA node: /sys/bus/pci/devices/0000:2b:00.0/numa_node\n",
      "Your kernel may have been built without NUMA support.\n",
      "2023-08-02 23:48:40.678835: I tensorflow/compiler/xla/stream_executor/cuda/cuda_gpu_executor.cc:982] could not open file to read NUMA node: /sys/bus/pci/devices/0000:2b:00.0/numa_node\n",
      "Your kernel may have been built without NUMA support.\n",
      "2023-08-02 23:48:40.679216: I tensorflow/compiler/xla/stream_executor/cuda/cuda_gpu_executor.cc:982] could not open file to read NUMA node: /sys/bus/pci/devices/0000:2b:00.0/numa_node\n",
      "Your kernel may have been built without NUMA support.\n",
      "2023-08-02 23:48:40.679229: I tensorflow/core/common_runtime/gpu/gpu_device.cc:1722] Could not identify NUMA node of platform GPU id 0, defaulting to 0.  Your kernel may not have been built with NUMA support.\n",
      "2023-08-02 23:48:40.679544: I tensorflow/compiler/xla/stream_executor/cuda/cuda_gpu_executor.cc:982] could not open file to read NUMA node: /sys/bus/pci/devices/0000:2b:00.0/numa_node\n",
      "Your kernel may have been built without NUMA support.\n",
      "2023-08-02 23:48:40.679580: I tensorflow/core/common_runtime/gpu/gpu_device.cc:1635] Created device /job:localhost/replica:0/task:0/device:GPU:0 with 6569 MB memory:  -> device: 0, name: NVIDIA GeForce GTX 1070, pci bus id: 0000:2b:00.0, compute capability: 6.1\n"
     ]
    },
    {
     "name": "stdout",
     "output_type": "stream",
     "text": [
      "[(<tf.Tensor: shape=(13206,), dtype=int32, numpy=array([60512,     0,    26, ...,     0,     0,     0], dtype=int32)>, <tf.Tensor: shape=(2055,), dtype=int32, numpy=array([0, 0, 0, ..., 0, 0, 0], dtype=int32)>)]\n"
     ]
    },
    {
     "name": "stderr",
     "output_type": "stream",
     "text": [
      "2023-08-02 23:48:41.011685: I tensorflow/core/common_runtime/executor.cc:1197] [/device:CPU:0] (DEBUG INFO) Executor start aborting (this does not indicate an error and you can ignore this message): INVALID_ARGUMENT: You must feed a value for placeholder tensor 'Placeholder/_0' with dtype int32\n",
      "\t [[{{node Placeholder/_0}}]]\n"
     ]
    }
   ],
   "source": [
    "#Input = Interpro Domains + 53 physiochemical properties\n",
    "\n",
    "dataset = tf.data.Dataset.from_generator(generator, output_signature=(\n",
    "         tf.TensorSpec(shape=(len(mlbInterPro.classes_)+53,), dtype=tf.int32),\n",
    "         tf.TensorSpec(shape=(len(mlb.classes_),), dtype=tf.int32)))\n",
    "print(list(dataset.take(1)))\n",
    "\n",
    "datasetVal = tf.data.Dataset.from_generator(generatorVal, output_signature=(\n",
    "         tf.TensorSpec(shape=(len(mlbInterPro.classes_)+53,), dtype=tf.int32),\n",
    "         tf.TensorSpec(shape=(len(mlb.classes_),), dtype=tf.int32)))\n"
   ]
  },
  {
   "cell_type": "code",
   "execution_count": 30,
   "id": "f0a554f0",
   "metadata": {},
   "outputs": [],
   "source": [
    "%load_ext tensorboard\n"
   ]
  },
  {
   "cell_type": "code",
   "execution_count": 31,
   "id": "98752d7e",
   "metadata": {},
   "outputs": [
    {
     "name": "stdout",
     "output_type": "stream",
     "text": [
      "Model: \"DenseModelIpAndBioProps\"\n",
      "_________________________________________________________________\n",
      " Layer (type)                Output Shape              Param #   \n",
      "=================================================================\n",
      " input_1 (InputLayer)        [(None, 13206)]           0         \n",
      "                                                                 \n",
      " dense (Dense)               (None, 128)               1690496   \n",
      "                                                                 \n",
      " leaky_re_lu (LeakyReLU)     (None, 128)               0         \n",
      "                                                                 \n",
      " batch_normalization (BatchN  (None, 128)              512       \n",
      " ormalization)                                                   \n",
      "                                                                 \n",
      " dropout (Dropout)           (None, 128)               0         \n",
      "                                                                 \n",
      " dense_1 (Dense)             (None, 128)               16512     \n",
      "                                                                 \n",
      " leaky_re_lu_1 (LeakyReLU)   (None, 128)               0         \n",
      "                                                                 \n",
      " batch_normalization_1 (Batc  (None, 128)              512       \n",
      " hNormalization)                                                 \n",
      "                                                                 \n",
      " dropout_1 (Dropout)         (None, 128)               0         \n",
      "                                                                 \n",
      " dense_2 (Dense)             (None, 128)               16512     \n",
      "                                                                 \n",
      " leaky_re_lu_2 (LeakyReLU)   (None, 128)               0         \n",
      "                                                                 \n",
      " batch_normalization_2 (Batc  (None, 128)              512       \n",
      " hNormalization)                                                 \n",
      "                                                                 \n",
      " dropout_2 (Dropout)         (None, 128)               0         \n",
      "                                                                 \n",
      " dense_3 (Dense)             (None, 2055)              265095    \n",
      "                                                                 \n",
      "=================================================================\n",
      "Total params: 1,990,151\n",
      "Trainable params: 1,989,383\n",
      "Non-trainable params: 768\n",
      "_________________________________________________________________\n"
     ]
    }
   ],
   "source": [
    "from tensorflow.keras import layers\n",
    "\n",
    "VOCAB_SIZE=len(aa_dict)\n",
    "EMBED_DIM=10\n",
    "\n",
    "def createModel():\n",
    "    inputs = tf.keras.Input(shape=(len(mlbInterPro.classes_)+53,))\n",
    "    # x=layers.Embedding(VOCAB_SIZE, EMBED_DIM, name=\"embedding\")(inputs)\n",
    "  \n",
    "    x = layers.Dense(128)(inputs)\n",
    "    x = layers.LeakyReLU()(x)\n",
    "    x = layers.BatchNormalization()(x)\n",
    "    x = layers.Dropout(0.1)(x)\n",
    "\n",
    "    x = layers.Dense(128)(x)\n",
    "    x = layers.LeakyReLU()(x)\n",
    "    x = layers.BatchNormalization()(x)\n",
    "    x = layers.Dropout(0.1)(x)\n",
    "\n",
    "    x = layers.Dense(128)(x)\n",
    "    x = layers.LeakyReLU()(x)\n",
    "    x = layers.BatchNormalization()(x)\n",
    "    x = layers.Dropout(0.1)(x)\n",
    "\n",
    "    outputs=layers.Dense(len(mlb.classes_), activation=tf.keras.activations.sigmoid)(x)\n",
    "\n",
    "    return tf.keras.Model(inputs=inputs, outputs=outputs, name=\"DenseModelIpAndBioProps\")\n",
    "\n",
    "model = createModel()\n",
    "\n",
    "model.summary()\n"
   ]
  },
  {
   "cell_type": "code",
   "execution_count": 32,
   "id": "5a3ddc20",
   "metadata": {},
   "outputs": [],
   "source": [
    "import matplotlib.pyplot as plt\n",
    "#Learning rate schedule\n",
    "initial_learning_rate = 0.001\n",
    "decaySteps=5000\n",
    "lr_schedule = tf.keras.optimizers.schedules.CosineDecayRestarts(initial_learning_rate, first_decay_steps=decaySteps,\n",
    "                                                                t_mul=2.0, m_mul=0.7)\n",
    "# lr_schedule = tf.keras.optimizers.schedules.CosineDecay(\n",
    "#     initial_learning_rate, decay_steps=decaySteps, alpha=0.01)\n",
    "# lr_schedule = tf.keras.optimizers.schedules.ExponentialDecay(\n",
    "#     initial_learning_rate,decay_steps=decaySteps,decay_rate=0.9,staircase=False)\n",
    "step = np.linspace(0,decaySteps*3)\n",
    "lr = lr_schedule(step)\n",
    "# plt.figure(figsize = (8,6))\n",
    "# # plt.yscale(\"log\")\n",
    "# plt.plot(step, lr)\n",
    "# plt.ylim([0,max(plt.ylim())])\n",
    "# plt.xlabel('step')\n",
    "# _ = plt.ylabel('Learning Rate')"
   ]
  },
  {
   "cell_type": "code",
   "execution_count": 33,
   "id": "d2f43e7c",
   "metadata": {},
   "outputs": [],
   "source": [
    "from utils import *"
   ]
  },
  {
   "cell_type": "code",
   "execution_count": 34,
   "id": "9113c4a7",
   "metadata": {},
   "outputs": [
    {
     "name": "stdout",
     "output_type": "stream",
     "text": [
      "\n",
      "Start of epoch 1\n"
     ]
    },
    {
     "name": "stderr",
     "output_type": "stream",
     "text": [
      "2023-08-02 23:52:17.349979: I tensorflow/core/common_runtime/executor.cc:1197] [/device:CPU:0] (DEBUG INFO) Executor start aborting (this does not indicate an error and you can ignore this message): INVALID_ARGUMENT: You must feed a value for placeholder tensor 'Placeholder/_0' with dtype int32\n",
      "\t [[{{node Placeholder/_0}}]]\n",
      "2023-08-02 23:52:19.667102: I tensorflow/compiler/xla/service/service.cc:169] XLA service 0x7f5f5c1fd180 initialized for platform CUDA (this does not guarantee that XLA will be used). Devices:\n",
      "2023-08-02 23:52:19.667139: I tensorflow/compiler/xla/service/service.cc:177]   StreamExecutor device (0): NVIDIA GeForce GTX 1070, Compute Capability 6.1\n",
      "2023-08-02 23:52:19.687262: I tensorflow/compiler/mlir/tensorflow/utils/dump_mlir_util.cc:269] disabling MLIR crash reproducer, set env var `MLIR_CRASH_REPRODUCER_DIRECTORY` to enable.\n",
      "2023-08-02 23:52:19.871079: I tensorflow/compiler/xla/stream_executor/cuda/cuda_dnn.cc:424] Loaded cuDNN version 8600\n",
      "2023-08-02 23:52:20.043148: I ./tensorflow/compiler/jit/device_compiler.h:180] Compiled cluster using XLA!  This line is logged at most once for the lifetime of the process.\n"
     ]
    },
    {
     "name": "stdout",
     "output_type": "stream",
     "text": [
      "Epoch 1/Step 0, Loss: 0.00267, Accuracy: 0.50294, F1: 0.0015, Prec: 0.2435, Rec: 0.0008, lr: 0.00080\n",
      "Epoch 1/Step 20, Loss: 0.00164, Accuracy: 0.51463, F1: 0.0022, Prec: 0.3599, Rec: 0.0011, lr: 0.00080\n",
      "Epoch 1/Step 40, Loss: 0.00073, Accuracy: 0.53581, F1: 0.0024, Prec: 0.3748, Rec: 0.0012, lr: 0.00080\n",
      "Epoch 1/Step 60, Loss: 0.00133, Accuracy: 0.56875, F1: 0.0027, Prec: 0.3836, Rec: 0.0014, lr: 0.00080\n",
      "Epoch 1/Step 80, Loss: -0.00011, Accuracy: 0.60752, F1: 0.0036, Prec: 0.3962, Rec: 0.0018, lr: 0.00080\n",
      "Epoch 1/Step 100, Loss: 0.00052, Accuracy: 0.64409, F1: 0.0055, Prec: 0.4034, Rec: 0.0028, lr: 0.00080\n",
      "Epoch 1/Step 120, Loss: -0.00059, Accuracy: 0.68118, F1: 0.0086, Prec: 0.4103, Rec: 0.0044, lr: 0.00080\n",
      "Epoch 1/Step 140, Loss: -0.00170, Accuracy: 0.71675, F1: 0.0129, Prec: 0.4151, Rec: 0.0067, lr: 0.00080\n",
      "Epoch 1/Step 160, Loss: -0.00385, Accuracy: 0.74686, F1: 0.0180, Prec: 0.4194, Rec: 0.0094, lr: 0.00080\n",
      "Epoch 1/Step 180, Loss: -0.01030, Accuracy: 0.77157, F1: 0.0230, Prec: 0.4232, Rec: 0.0121, lr: 0.00080\n",
      "Epoch 1/Step 200, Loss: -0.01359, Accuracy: 0.79231, F1: 0.0283, Prec: 0.4298, Rec: 0.0150, lr: 0.00080\n",
      "Epoch 1/Step 220, Loss: -0.02438, Accuracy: 0.80977, F1: 0.0337, Prec: 0.4344, Rec: 0.0181, lr: 0.00080\n",
      "Epoch 1/Step 240, Loss: -0.05042, Accuracy: 0.82464, F1: 0.0396, Prec: 0.4376, Rec: 0.0215, lr: 0.00080\n",
      "Epoch 1/Step 260, Loss: -0.07093, Accuracy: 0.83751, F1: 0.0463, Prec: 0.4388, Rec: 0.0255, lr: 0.00080\n",
      "Epoch 1/Step 280, Loss: -0.15358, Accuracy: 0.84872, F1: 0.0551, Prec: 0.4372, Rec: 0.0313, lr: 0.00080\n",
      "Epoch 1/Step 300, Loss: -0.13750, Accuracy: 0.85855, F1: 0.0646, Prec: 0.4351, Rec: 0.0380, lr: 0.00080\n",
      "Epoch 1/Step 320, Loss: -0.17951, Accuracy: 0.86719, F1: 0.0743, Prec: 0.4313, Rec: 0.0454, lr: 0.00080\n",
      "Epoch 1/Step 340, Loss: -0.19860, Accuracy: 0.87484, F1: 0.0829, Prec: 0.4250, Rec: 0.0527, lr: 0.00080\n",
      "Epoch 1/Step 360, Loss: -0.20859, Accuracy: 0.88166, F1: 0.0912, Prec: 0.4185, Rec: 0.0601, lr: 0.00080\n",
      "Epoch 1/Step 380, Loss: -0.19718, Accuracy: 0.88778, F1: 0.0982, Prec: 0.4113, Rec: 0.0669, lr: 0.00080\n",
      "Epoch 1/Step 400, Loss: -0.19767, Accuracy: 0.89329, F1: 0.1048, Prec: 0.4043, Rec: 0.0737, lr: 0.00080\n",
      "Epoch 1/Step 420, Loss: -0.21432, Accuracy: 0.89828, F1: 0.1118, Prec: 0.3977, Rec: 0.0817, lr: 0.00080\n",
      "Epoch 1/Step 440, Loss: -0.20754, Accuracy: 0.90283, F1: 0.1174, Prec: 0.3892, Rec: 0.0902, lr: 0.00080\n",
      "Epoch 1/Step 460, Loss: -0.18363, Accuracy: 0.90699, F1: 0.1221, Prec: 0.3807, Rec: 0.0983, lr: 0.00080\n",
      "Epoch 1/Step 480, Loss: -0.24228, Accuracy: 0.91081, F1: 0.1266, Prec: 0.3726, Rec: 0.1071, lr: 0.00080\n",
      "Epoch 1/Step 500, Loss: -0.17532, Accuracy: 0.91432, F1: 0.1308, Prec: 0.3649, Rec: 0.1164, lr: 0.00080\n",
      "Epoch 1/Step 520, Loss: -0.20043, Accuracy: 0.91757, F1: 0.1345, Prec: 0.3572, Rec: 0.1259, lr: 0.00080\n",
      "Epoch 1/Step 540, Loss: -0.22418, Accuracy: 0.92057, F1: 0.1380, Prec: 0.3504, Rec: 0.1342, lr: 0.00080\n",
      "Epoch 1/Step 560, Loss: -0.21781, Accuracy: 0.92336, F1: 0.1405, Prec: 0.3434, Rec: 0.1413, lr: 0.00080\n",
      "Epoch 1/Step 580, Loss: -0.22875, Accuracy: 0.92596, F1: 0.1436, Prec: 0.3374, Rec: 0.1489, lr: 0.00080\n",
      "Epoch 1/Step 600, Loss: -0.22763, Accuracy: 0.92839, F1: 0.1462, Prec: 0.3317, Rec: 0.1558, lr: 0.00080\n",
      "Epoch 1/Step 620, Loss: -0.20803, Accuracy: 0.93065, F1: 0.1489, Prec: 0.3264, Rec: 0.1625, lr: 0.00080\n",
      "Epoch 1/Step 640, Loss: -0.19266, Accuracy: 0.93278, F1: 0.1510, Prec: 0.3211, Rec: 0.1689, lr: 0.00080\n",
      "Epoch 1/Step 660, Loss: -0.21145, Accuracy: 0.93478, F1: 0.1532, Prec: 0.3162, Rec: 0.1749, lr: 0.00080\n",
      "Epoch 1/Step 680, Loss: -0.21467, Accuracy: 0.93666, F1: 0.1553, Prec: 0.3118, Rec: 0.1804, lr: 0.00080\n",
      "Epoch 1/Step 700, Loss: -0.17615, Accuracy: 0.93844, F1: 0.1572, Prec: 0.3075, Rec: 0.1858, lr: 0.00080\n",
      "Epoch 1/Step 720, Loss: -0.20602, Accuracy: 0.94011, F1: 0.1591, Prec: 0.3036, Rec: 0.1907, lr: 0.00080\n",
      "Epoch 1/Step 740, Loss: -0.22803, Accuracy: 0.94170, F1: 0.1611, Prec: 0.3000, Rec: 0.1955, lr: 0.00080\n",
      "Epoch 1/Step 760, Loss: -0.22257, Accuracy: 0.94320, F1: 0.1630, Prec: 0.2966, Rec: 0.1999, lr: 0.00080\n",
      "Epoch 1/Step 780, Loss: -0.19873, Accuracy: 0.94462, F1: 0.1646, Prec: 0.2933, Rec: 0.2041, lr: 0.00080\n",
      "Epoch 1/Step 800, Loss: -0.21800, Accuracy: 0.94598, F1: 0.1663, Prec: 0.2902, Rec: 0.2086, lr: 0.00080\n",
      "Epoch 1/Step 820, Loss: -0.19504, Accuracy: 0.94727, F1: 0.1679, Prec: 0.2872, Rec: 0.2128, lr: 0.00080\n",
      "Epoch 1/Step 840, Loss: -0.21630, Accuracy: 0.94849, F1: 0.1691, Prec: 0.2841, Rec: 0.2166, lr: 0.00080\n",
      "Epoch 1/Step 860, Loss: -0.20597, Accuracy: 0.94966, F1: 0.1705, Prec: 0.2814, Rec: 0.2203, lr: 0.00080\n",
      "Epoch 1/Step 880, Loss: -0.21378, Accuracy: 0.95078, F1: 0.1718, Prec: 0.2787, Rec: 0.2238, lr: 0.00080\n",
      "Epoch 1/Step 900, Loss: -0.23000, Accuracy: 0.95185, F1: 0.1731, Prec: 0.2761, Rec: 0.2278, lr: 0.00080\n",
      "Epoch 1/Step 920, Loss: -0.20521, Accuracy: 0.95287, F1: 0.1740, Prec: 0.2734, Rec: 0.2311, lr: 0.00080\n",
      "Epoch 1/Step 940, Loss: -0.20568, Accuracy: 0.95385, F1: 0.1752, Prec: 0.2711, Rec: 0.2345, lr: 0.00080\n",
      "Epoch 1/Step 960, Loss: -0.21821, Accuracy: 0.95478, F1: 0.1763, Prec: 0.2689, Rec: 0.2375, lr: 0.00080\n",
      "Epoch 1/Step 980, Loss: -0.23160, Accuracy: 0.95568, F1: 0.1772, Prec: 0.2667, Rec: 0.2404, lr: 0.00080\n",
      "Epoch 1/Step 1000, Loss: -0.24531, Accuracy: 0.95655, F1: 0.1781, Prec: 0.2645, Rec: 0.2431, lr: 0.00080\n",
      "Epoch 1/Step 1020, Loss: -0.20895, Accuracy: 0.95737, F1: 0.1791, Prec: 0.2625, Rec: 0.2462, lr: 0.00080\n",
      "Epoch 1/Step 1040, Loss: -0.22350, Accuracy: 0.95817, F1: 0.1800, Prec: 0.2605, Rec: 0.2488, lr: 0.00080\n",
      "Epoch 1/Step 1060, Loss: -0.19208, Accuracy: 0.95894, F1: 0.1810, Prec: 0.2588, Rec: 0.2512, lr: 0.00080\n",
      "Epoch 1/Step 1080, Loss: -0.23840, Accuracy: 0.95968, F1: 0.1817, Prec: 0.2569, Rec: 0.2536, lr: 0.00080\n",
      "Epoch 1/Step 1100, Loss: -0.20479, Accuracy: 0.96039, F1: 0.1824, Prec: 0.2552, Rec: 0.2556, lr: 0.00080\n",
      "Epoch 1/Step 1120, Loss: -0.23273, Accuracy: 0.96108, F1: 0.1832, Prec: 0.2535, Rec: 0.2578, lr: 0.00080\n",
      "Epoch 1/Step 1140, Loss: -0.21914, Accuracy: 0.96174, F1: 0.1839, Prec: 0.2518, Rec: 0.2600, lr: 0.00080\n",
      "Epoch 1/Step 1160, Loss: -0.21447, Accuracy: 0.96238, F1: 0.1845, Prec: 0.2502, Rec: 0.2621, lr: 0.00080\n",
      "Epoch 1/Step 1180, Loss: -0.23128, Accuracy: 0.96300, F1: 0.1852, Prec: 0.2487, Rec: 0.2639, lr: 0.00080\n",
      "Epoch 1/Step 1200, Loss: -0.25801, Accuracy: 0.96359, F1: 0.1855, Prec: 0.2470, Rec: 0.2657, lr: 0.00080\n",
      "Epoch 1/Step 1220, Loss: -0.21413, Accuracy: 0.96417, F1: 0.1860, Prec: 0.2455, Rec: 0.2673, lr: 0.00080\n",
      "Epoch 1/Step 1240, Loss: -0.22087, Accuracy: 0.96473, F1: 0.1867, Prec: 0.2441, Rec: 0.2695, lr: 0.00080\n",
      "Epoch 1/Step 1260, Loss: -0.23560, Accuracy: 0.96527, F1: 0.1875, Prec: 0.2430, Rec: 0.2712, lr: 0.00080\n",
      "Epoch 1/Step 1280, Loss: -0.19364, Accuracy: 0.96580, F1: 0.1879, Prec: 0.2416, Rec: 0.2726, lr: 0.00080\n",
      "Epoch 1/Step 1300, Loss: -0.21582, Accuracy: 0.96630, F1: 0.1883, Prec: 0.2402, Rec: 0.2740, lr: 0.00080\n",
      "Epoch 1/Step 1320, Loss: -0.21541, Accuracy: 0.96680, F1: 0.1887, Prec: 0.2389, Rec: 0.2755, lr: 0.00080\n",
      "Epoch 1/Step 1340, Loss: -0.19356, Accuracy: 0.96728, F1: 0.1892, Prec: 0.2377, Rec: 0.2770, lr: 0.00080\n",
      "Epoch 1/Step 1360, Loss: -0.20710, Accuracy: 0.96774, F1: 0.1898, Prec: 0.2366, Rec: 0.2788, lr: 0.00080\n",
      "Epoch 1/Step 1380, Loss: -0.22802, Accuracy: 0.96819, F1: 0.1905, Prec: 0.2357, Rec: 0.2804, lr: 0.00080\n",
      "Epoch 1/Step 1400, Loss: -0.18993, Accuracy: 0.96863, F1: 0.1908, Prec: 0.2345, Rec: 0.2814, lr: 0.00080\n",
      "Epoch 1/Step 1420, Loss: -0.24988, Accuracy: 0.96905, F1: 0.1912, Prec: 0.2334, Rec: 0.2828, lr: 0.00080\n",
      "Epoch 1/Step 1440, Loss: -0.21662, Accuracy: 0.96947, F1: 0.1916, Prec: 0.2324, Rec: 0.2841, lr: 0.00080\n",
      "Epoch 1/Step 1460, Loss: -0.20881, Accuracy: 0.96987, F1: 0.1920, Prec: 0.2314, Rec: 0.2853, lr: 0.00080\n",
      "Epoch 1/Step 1480, Loss: -0.21003, Accuracy: 0.97026, F1: 0.1925, Prec: 0.2305, Rec: 0.2865, lr: 0.00080\n",
      "Epoch 1/Step 1500, Loss: -0.23587, Accuracy: 0.97064, F1: 0.1929, Prec: 0.2296, Rec: 0.2876, lr: 0.00080\n",
      "Epoch 1/Step 1520, Loss: -0.20777, Accuracy: 0.97101, F1: 0.1935, Prec: 0.2288, Rec: 0.2888, lr: 0.00080\n",
      "Epoch 1/Step 1540, Loss: -0.24123, Accuracy: 0.97137, F1: 0.1938, Prec: 0.2278, Rec: 0.2900, lr: 0.00080\n",
      "Epoch finished. Start validation\n"
     ]
    },
    {
     "name": "stderr",
     "output_type": "stream",
     "text": [
      "2023-08-02 23:57:05.242505: I tensorflow/core/common_runtime/executor.cc:1197] [/device:CPU:0] (DEBUG INFO) Executor start aborting (this does not indicate an error and you can ignore this message): INVALID_ARGUMENT: You must feed a value for placeholder tensor 'Placeholder/_0' with dtype int32\n",
      "\t [[{{node Placeholder/_0}}]]\n"
     ]
    },
    {
     "name": "stdout",
     "output_type": "stream",
     "text": [
      "Validation acc: 0.9989\n",
      "Validation f1: 0.2180\n",
      "Validation precision: 0.1559\n",
      "Validation recall: 0.3706\n",
      "\n",
      "Start of epoch 2\n",
      "Epoch 2/Step 0, Loss: -0.17524, Accuracy: 0.99899, F1: 0.1632, Prec: 0.1188, Rec: 0.2604, lr: 0.00080\n",
      "Epoch 2/Step 20, Loss: -0.24410, Accuracy: 0.99889, F1: 0.2368, Prec: 0.1746, Rec: 0.3748, lr: 0.00080\n",
      "Epoch 2/Step 40, Loss: -0.23292, Accuracy: 0.99890, F1: 0.2319, Prec: 0.1695, Rec: 0.3731, lr: 0.00080\n",
      "Epoch 2/Step 60, Loss: -0.23471, Accuracy: 0.99890, F1: 0.2274, Prec: 0.1657, Rec: 0.3682, lr: 0.00080\n",
      "Epoch 2/Step 80, Loss: -0.21370, Accuracy: 0.99890, F1: 0.2282, Prec: 0.1664, Rec: 0.3694, lr: 0.00080\n",
      "Epoch 2/Step 100, Loss: -0.21058, Accuracy: 0.99889, F1: 0.2250, Prec: 0.1631, Rec: 0.3697, lr: 0.00080\n",
      "Epoch 2/Step 120, Loss: -0.20813, Accuracy: 0.99889, F1: 0.2229, Prec: 0.1613, Rec: 0.3677, lr: 0.00080\n",
      "Epoch 2/Step 140, Loss: -0.24561, Accuracy: 0.99889, F1: 0.2201, Prec: 0.1585, Rec: 0.3682, lr: 0.00080\n",
      "Epoch 2/Step 160, Loss: -0.18404, Accuracy: 0.99889, F1: 0.2202, Prec: 0.1584, Rec: 0.3695, lr: 0.00080\n",
      "Epoch 2/Step 180, Loss: -0.20996, Accuracy: 0.99888, F1: 0.2197, Prec: 0.1580, Rec: 0.3687, lr: 0.00080\n",
      "Epoch 2/Step 200, Loss: -0.20080, Accuracy: 0.99888, F1: 0.2206, Prec: 0.1586, Rec: 0.3703, lr: 0.00080\n",
      "Epoch 2/Step 220, Loss: -0.19317, Accuracy: 0.99889, F1: 0.2200, Prec: 0.1578, Rec: 0.3715, lr: 0.00080\n",
      "Epoch 2/Step 240, Loss: -0.21631, Accuracy: 0.99888, F1: 0.2198, Prec: 0.1575, Rec: 0.3721, lr: 0.00080\n",
      "Epoch 2/Step 260, Loss: -0.21660, Accuracy: 0.99889, F1: 0.2192, Prec: 0.1570, Rec: 0.3712, lr: 0.00080\n",
      "Epoch 2/Step 280, Loss: -0.21663, Accuracy: 0.99889, F1: 0.2190, Prec: 0.1568, Rec: 0.3715, lr: 0.00080\n",
      "Epoch 2/Step 300, Loss: -0.21660, Accuracy: 0.99889, F1: 0.2190, Prec: 0.1567, Rec: 0.3719, lr: 0.00080\n",
      "Epoch 2/Step 320, Loss: -0.22762, Accuracy: 0.99888, F1: 0.2194, Prec: 0.1571, Rec: 0.3724, lr: 0.00080\n",
      "Epoch 2/Step 340, Loss: -0.24321, Accuracy: 0.99888, F1: 0.2198, Prec: 0.1572, Rec: 0.3734, lr: 0.00080\n",
      "Epoch 2/Step 360, Loss: -0.24456, Accuracy: 0.99888, F1: 0.2194, Prec: 0.1567, Rec: 0.3741, lr: 0.00080\n",
      "Epoch 2/Step 380, Loss: -0.23553, Accuracy: 0.99888, F1: 0.2197, Prec: 0.1569, Rec: 0.3747, lr: 0.00080\n",
      "Epoch 2/Step 400, Loss: -0.21168, Accuracy: 0.99888, F1: 0.2202, Prec: 0.1575, Rec: 0.3743, lr: 0.00080\n",
      "Epoch 2/Step 420, Loss: -0.23083, Accuracy: 0.99889, F1: 0.2210, Prec: 0.1582, Rec: 0.3749, lr: 0.00080\n",
      "Epoch 2/Step 440, Loss: -0.21728, Accuracy: 0.99888, F1: 0.2208, Prec: 0.1579, Rec: 0.3752, lr: 0.00080\n",
      "Epoch 2/Step 460, Loss: -0.18855, Accuracy: 0.99889, F1: 0.2203, Prec: 0.1576, Rec: 0.3741, lr: 0.00080\n",
      "Epoch 2/Step 480, Loss: -0.24784, Accuracy: 0.99889, F1: 0.2203, Prec: 0.1576, Rec: 0.3739, lr: 0.00080\n",
      "Epoch 2/Step 500, Loss: -0.17961, Accuracy: 0.99889, F1: 0.2203, Prec: 0.1576, Rec: 0.3742, lr: 0.00080\n",
      "Epoch 2/Step 520, Loss: -0.19734, Accuracy: 0.99889, F1: 0.2203, Prec: 0.1574, Rec: 0.3748, lr: 0.00080\n",
      "Epoch 2/Step 540, Loss: -0.22328, Accuracy: 0.99888, F1: 0.2202, Prec: 0.1574, Rec: 0.3747, lr: 0.00080\n",
      "Epoch 2/Step 560, Loss: -0.22039, Accuracy: 0.99889, F1: 0.2195, Prec: 0.1568, Rec: 0.3738, lr: 0.00080\n",
      "Epoch 2/Step 580, Loss: -0.22954, Accuracy: 0.99888, F1: 0.2197, Prec: 0.1570, Rec: 0.3740, lr: 0.00080\n",
      "Epoch 2/Step 600, Loss: -0.22978, Accuracy: 0.99888, F1: 0.2196, Prec: 0.1570, Rec: 0.3740, lr: 0.00080\n",
      "Epoch 2/Step 620, Loss: -0.20867, Accuracy: 0.99888, F1: 0.2198, Prec: 0.1571, Rec: 0.3741, lr: 0.00080\n",
      "Epoch 2/Step 640, Loss: -0.19417, Accuracy: 0.99888, F1: 0.2196, Prec: 0.1569, Rec: 0.3742, lr: 0.00080\n",
      "Epoch 2/Step 660, Loss: -0.21246, Accuracy: 0.99888, F1: 0.2197, Prec: 0.1569, Rec: 0.3742, lr: 0.00080\n",
      "Epoch 2/Step 680, Loss: -0.21422, Accuracy: 0.99888, F1: 0.2198, Prec: 0.1571, Rec: 0.3741, lr: 0.00080\n",
      "Epoch 2/Step 700, Loss: -0.17577, Accuracy: 0.99888, F1: 0.2199, Prec: 0.1572, Rec: 0.3741, lr: 0.00080\n",
      "Epoch 2/Step 720, Loss: -0.20695, Accuracy: 0.99888, F1: 0.2200, Prec: 0.1573, Rec: 0.3741, lr: 0.00080\n",
      "Epoch 2/Step 740, Loss: -0.22785, Accuracy: 0.99888, F1: 0.2203, Prec: 0.1576, Rec: 0.3742, lr: 0.00080\n",
      "Epoch 2/Step 760, Loss: -0.22391, Accuracy: 0.99888, F1: 0.2205, Prec: 0.1578, Rec: 0.3743, lr: 0.00080\n",
      "Epoch 2/Step 780, Loss: -0.19940, Accuracy: 0.99888, F1: 0.2205, Prec: 0.1579, Rec: 0.3742, lr: 0.00080\n",
      "Epoch 2/Step 800, Loss: -0.21789, Accuracy: 0.99888, F1: 0.2207, Prec: 0.1580, Rec: 0.3746, lr: 0.00080\n",
      "Epoch 2/Step 820, Loss: -0.19686, Accuracy: 0.99888, F1: 0.2209, Prec: 0.1582, Rec: 0.3749, lr: 0.00080\n",
      "Epoch 2/Step 840, Loss: -0.21662, Accuracy: 0.99888, F1: 0.2209, Prec: 0.1580, Rec: 0.3751, lr: 0.00080\n",
      "Epoch 2/Step 860, Loss: -0.20789, Accuracy: 0.99888, F1: 0.2211, Prec: 0.1582, Rec: 0.3754, lr: 0.00080\n",
      "Epoch 2/Step 880, Loss: -0.21584, Accuracy: 0.99888, F1: 0.2212, Prec: 0.1583, Rec: 0.3754, lr: 0.00080\n",
      "Epoch 2/Step 900, Loss: -0.23012, Accuracy: 0.99888, F1: 0.2213, Prec: 0.1583, Rec: 0.3762, lr: 0.00080\n",
      "Epoch 2/Step 920, Loss: -0.20318, Accuracy: 0.99888, F1: 0.2211, Prec: 0.1580, Rec: 0.3763, lr: 0.00080\n",
      "Epoch 2/Step 940, Loss: -0.20528, Accuracy: 0.99888, F1: 0.2213, Prec: 0.1582, Rec: 0.3768, lr: 0.00080\n",
      "Epoch 2/Step 960, Loss: -0.21774, Accuracy: 0.99888, F1: 0.2214, Prec: 0.1582, Rec: 0.3770, lr: 0.00080\n",
      "Epoch 2/Step 980, Loss: -0.23198, Accuracy: 0.99888, F1: 0.2213, Prec: 0.1581, Rec: 0.3773, lr: 0.00080\n",
      "Epoch 2/Step 1000, Loss: -0.24543, Accuracy: 0.99888, F1: 0.2213, Prec: 0.1581, Rec: 0.3773, lr: 0.00080\n",
      "Epoch 2/Step 1020, Loss: -0.20857, Accuracy: 0.99888, F1: 0.2214, Prec: 0.1580, Rec: 0.3779, lr: 0.00080\n",
      "Epoch 2/Step 1040, Loss: -0.22415, Accuracy: 0.99888, F1: 0.2213, Prec: 0.1580, Rec: 0.3781, lr: 0.00080\n",
      "Epoch 2/Step 1060, Loss: -0.19151, Accuracy: 0.99888, F1: 0.2215, Prec: 0.1582, Rec: 0.3782, lr: 0.00080\n",
      "Epoch 2/Step 1080, Loss: -0.23910, Accuracy: 0.99888, F1: 0.2214, Prec: 0.1580, Rec: 0.3784, lr: 0.00080\n",
      "Epoch 2/Step 1100, Loss: -0.20223, Accuracy: 0.99888, F1: 0.2214, Prec: 0.1581, Rec: 0.3783, lr: 0.00080\n",
      "Epoch 2/Step 1120, Loss: -0.23453, Accuracy: 0.99888, F1: 0.2215, Prec: 0.1581, Rec: 0.3785, lr: 0.00080\n",
      "Epoch 2/Step 1140, Loss: -0.21902, Accuracy: 0.99888, F1: 0.2215, Prec: 0.1580, Rec: 0.3786, lr: 0.00080\n",
      "Epoch 2/Step 1160, Loss: -0.21349, Accuracy: 0.99888, F1: 0.2214, Prec: 0.1580, Rec: 0.3787, lr: 0.00080\n",
      "Epoch 2/Step 1180, Loss: -0.23157, Accuracy: 0.99888, F1: 0.2214, Prec: 0.1580, Rec: 0.3786, lr: 0.00080\n",
      "Epoch 2/Step 1200, Loss: -0.25880, Accuracy: 0.99888, F1: 0.2211, Prec: 0.1577, Rec: 0.3785, lr: 0.00080\n",
      "Epoch 2/Step 1220, Loss: -0.21245, Accuracy: 0.99888, F1: 0.2211, Prec: 0.1577, Rec: 0.3782, lr: 0.00080\n",
      "Epoch 2/Step 1240, Loss: -0.22241, Accuracy: 0.99888, F1: 0.2212, Prec: 0.1578, Rec: 0.3786, lr: 0.00080\n",
      "Epoch 2/Step 1260, Loss: -0.23595, Accuracy: 0.99888, F1: 0.2213, Prec: 0.1579, Rec: 0.3787, lr: 0.00080\n",
      "Epoch 2/Step 1280, Loss: -0.19264, Accuracy: 0.99888, F1: 0.2213, Prec: 0.1578, Rec: 0.3785, lr: 0.00080\n",
      "Epoch 2/Step 1300, Loss: -0.21530, Accuracy: 0.99888, F1: 0.2211, Prec: 0.1577, Rec: 0.3784, lr: 0.00080\n",
      "Epoch 2/Step 1320, Loss: -0.21706, Accuracy: 0.99888, F1: 0.2210, Prec: 0.1576, Rec: 0.3784, lr: 0.00080\n",
      "Epoch 2/Step 1340, Loss: -0.19481, Accuracy: 0.99888, F1: 0.2210, Prec: 0.1576, Rec: 0.3784, lr: 0.00080\n",
      "Epoch 2/Step 1360, Loss: -0.20838, Accuracy: 0.99888, F1: 0.2211, Prec: 0.1576, Rec: 0.3787, lr: 0.00080\n",
      "Epoch 2/Step 1380, Loss: -0.22838, Accuracy: 0.99888, F1: 0.2212, Prec: 0.1578, Rec: 0.3789, lr: 0.00080\n",
      "Epoch 2/Step 1400, Loss: -0.18839, Accuracy: 0.99888, F1: 0.2211, Prec: 0.1577, Rec: 0.3786, lr: 0.00080\n",
      "Epoch 2/Step 1420, Loss: -0.25009, Accuracy: 0.99888, F1: 0.2210, Prec: 0.1576, Rec: 0.3787, lr: 0.00080\n",
      "Epoch 2/Step 1440, Loss: -0.21617, Accuracy: 0.99888, F1: 0.2210, Prec: 0.1575, Rec: 0.3787, lr: 0.00080\n",
      "Epoch 2/Step 1460, Loss: -0.20877, Accuracy: 0.99888, F1: 0.2209, Prec: 0.1575, Rec: 0.3786, lr: 0.00080\n",
      "Epoch 2/Step 1480, Loss: -0.20976, Accuracy: 0.99888, F1: 0.2209, Prec: 0.1575, Rec: 0.3786, lr: 0.00080\n",
      "Epoch 2/Step 1500, Loss: -0.23578, Accuracy: 0.99888, F1: 0.2209, Prec: 0.1575, Rec: 0.3785, lr: 0.00080\n",
      "Epoch 2/Step 1520, Loss: -0.20874, Accuracy: 0.99888, F1: 0.2211, Prec: 0.1577, Rec: 0.3786, lr: 0.00080\n",
      "Epoch 2/Step 1540, Loss: -0.24239, Accuracy: 0.99888, F1: 0.2210, Prec: 0.1576, Rec: 0.3787, lr: 0.00080\n",
      "Epoch finished. Start validation\n"
     ]
    },
    {
     "ename": "KeyboardInterrupt",
     "evalue": "",
     "output_type": "error",
     "traceback": [
      "\u001b[0;31m---------------------------------------------------------------------------\u001b[0m",
      "\u001b[0;31mKeyboardInterrupt\u001b[0m                         Traceback (most recent call last)",
      "Cell \u001b[0;32mIn[34], line 106\u001b[0m\n\u001b[1;32m    103\u001b[0m maxStep\u001b[39m=\u001b[39mstep\n\u001b[1;32m    105\u001b[0m \u001b[39mprint\u001b[39m(\u001b[39m\"\u001b[39m\u001b[39mEpoch finished. Start validation\u001b[39m\u001b[39m\"\u001b[39m)\n\u001b[0;32m--> 106\u001b[0m \u001b[39mfor\u001b[39;00m x_batch_val, y_batch_val \u001b[39min\u001b[39;00m batchedDatasetVal:\n\u001b[1;32m    107\u001b[0m     valStep(x_batch_val, y_batch_val)\n\u001b[1;32m    108\u001b[0m val_acc \u001b[39m=\u001b[39m val_acc_metric\u001b[39m.\u001b[39mresult()\n",
      "File \u001b[0;32m~/miniconda3/envs/tf/lib/python3.9/site-packages/tensorflow/python/data/ops/iterator_ops.py:797\u001b[0m, in \u001b[0;36mOwnedIterator.__next__\u001b[0;34m(self)\u001b[0m\n\u001b[1;32m    795\u001b[0m \u001b[39mdef\u001b[39;00m \u001b[39m__next__\u001b[39m(\u001b[39mself\u001b[39m):\n\u001b[1;32m    796\u001b[0m   \u001b[39mtry\u001b[39;00m:\n\u001b[0;32m--> 797\u001b[0m     \u001b[39mreturn\u001b[39;00m \u001b[39mself\u001b[39;49m\u001b[39m.\u001b[39;49m_next_internal()\n\u001b[1;32m    798\u001b[0m   \u001b[39mexcept\u001b[39;00m errors\u001b[39m.\u001b[39mOutOfRangeError:\n\u001b[1;32m    799\u001b[0m     \u001b[39mraise\u001b[39;00m \u001b[39mStopIteration\u001b[39;00m\n",
      "File \u001b[0;32m~/miniconda3/envs/tf/lib/python3.9/site-packages/tensorflow/python/data/ops/iterator_ops.py:780\u001b[0m, in \u001b[0;36mOwnedIterator._next_internal\u001b[0;34m(self)\u001b[0m\n\u001b[1;32m    777\u001b[0m \u001b[39m# TODO(b/77291417): This runs in sync mode as iterators use an error status\u001b[39;00m\n\u001b[1;32m    778\u001b[0m \u001b[39m# to communicate that there is no more data to iterate over.\u001b[39;00m\n\u001b[1;32m    779\u001b[0m \u001b[39mwith\u001b[39;00m context\u001b[39m.\u001b[39mexecution_mode(context\u001b[39m.\u001b[39mSYNC):\n\u001b[0;32m--> 780\u001b[0m   ret \u001b[39m=\u001b[39m gen_dataset_ops\u001b[39m.\u001b[39;49miterator_get_next(\n\u001b[1;32m    781\u001b[0m       \u001b[39mself\u001b[39;49m\u001b[39m.\u001b[39;49m_iterator_resource,\n\u001b[1;32m    782\u001b[0m       output_types\u001b[39m=\u001b[39;49m\u001b[39mself\u001b[39;49m\u001b[39m.\u001b[39;49m_flat_output_types,\n\u001b[1;32m    783\u001b[0m       output_shapes\u001b[39m=\u001b[39;49m\u001b[39mself\u001b[39;49m\u001b[39m.\u001b[39;49m_flat_output_shapes)\n\u001b[1;32m    785\u001b[0m   \u001b[39mtry\u001b[39;00m:\n\u001b[1;32m    786\u001b[0m     \u001b[39m# Fast path for the case `self._structure` is not a nested structure.\u001b[39;00m\n\u001b[1;32m    787\u001b[0m     \u001b[39mreturn\u001b[39;00m \u001b[39mself\u001b[39m\u001b[39m.\u001b[39m_element_spec\u001b[39m.\u001b[39m_from_compatible_tensor_list(ret)  \u001b[39m# pylint: disable=protected-access\u001b[39;00m\n",
      "File \u001b[0;32m~/miniconda3/envs/tf/lib/python3.9/site-packages/tensorflow/python/ops/gen_dataset_ops.py:3011\u001b[0m, in \u001b[0;36miterator_get_next\u001b[0;34m(iterator, output_types, output_shapes, name)\u001b[0m\n\u001b[1;32m   3009\u001b[0m \u001b[39mif\u001b[39;00m tld\u001b[39m.\u001b[39mis_eager:\n\u001b[1;32m   3010\u001b[0m   \u001b[39mtry\u001b[39;00m:\n\u001b[0;32m-> 3011\u001b[0m     _result \u001b[39m=\u001b[39m pywrap_tfe\u001b[39m.\u001b[39;49mTFE_Py_FastPathExecute(\n\u001b[1;32m   3012\u001b[0m       _ctx, \u001b[39m\"\u001b[39;49m\u001b[39mIteratorGetNext\u001b[39;49m\u001b[39m\"\u001b[39;49m, name, iterator, \u001b[39m\"\u001b[39;49m\u001b[39moutput_types\u001b[39;49m\u001b[39m\"\u001b[39;49m, output_types,\n\u001b[1;32m   3013\u001b[0m       \u001b[39m\"\u001b[39;49m\u001b[39moutput_shapes\u001b[39;49m\u001b[39m\"\u001b[39;49m, output_shapes)\n\u001b[1;32m   3014\u001b[0m     \u001b[39mreturn\u001b[39;00m _result\n\u001b[1;32m   3015\u001b[0m   \u001b[39mexcept\u001b[39;00m _core\u001b[39m.\u001b[39m_NotOkStatusException \u001b[39mas\u001b[39;00m e:\n",
      "\u001b[0;31mKeyboardInterrupt\u001b[0m: "
     ]
    }
   ],
   "source": [
    "\n",
    "BATCH_SIZE=64\n",
    "LOG_INTERVAL=20\n",
    "epochs = 15\n",
    "saveModel=False\n",
    "\n",
    "\n",
    "log_dir = \"./logs/\"+model.name+\"/\" + datetime.datetime.now().strftime(\"%Y%m%d-%H%M%S\")+\"_\"+SO\n",
    "tensorboard_callback = tf.keras.callbacks.TensorBoard(log_dir=log_dir, histogram_freq=1,\n",
    "                                                      write_graph=True, update_freq=5)\n",
    "\n",
    "\n",
    "summary_writer = tf.summary.create_file_writer(log_dir)\n",
    "\n",
    "# Instantiate an optimizer .\n",
    "# optimizer = tf.keras.optimizers.SGD(learning_rate=lr_schedule)\n",
    "# optimizer = tf.keras.optimizers.SGD(learning_rate=1e-3)\n",
    "optimizer = tf.keras.optimizers.Adam(learning_rate=8e-4)\n",
    "\n",
    "# Instantiate a loss function.\n",
    "# loss_fn = tf.keras.losses.BinaryCrossentropy()\n",
    "# loss_fn = WeightedBinaryCE(np.ones(len(mlb.classes_)))\n",
    "# loss_fn = WeightedBinaryCE(labelWeightsCorr)\n",
    "# loss_fn = WeightedComboLoss(labelWeightsCorr, alpha=0.5, beta=0.5, labelSmoothing=0.05)\n",
    "loss_fn = WeightedComboLoss(labelWeightsCorr/np.max(labelWeightsCorr)*occurenceScores, alpha=0.5, beta=0.5)\n",
    "# loss_fn = tf.keras.losses.BinaryFocalCrossentropy(apply_class_balancing=True, gamma=2)\n",
    "\n",
    "train_acc_metric = WeightedAccuracy(classWeights=labelWeightsCorr)\n",
    "train_f1_metric = WeightedF1(classWeights=labelWeightsCorr, threshold=0.5)\n",
    "train_prec = WeightedPrecision(classWeights=labelWeightsCorr)\n",
    "train_rec = WeightedRecall(classWeights=labelWeightsCorr)\n",
    "\n",
    "val_acc_metric = WeightedAccuracy(classWeights=labelWeightsCorr)\n",
    "val_f1_metric = WeightedF1(classWeights=labelWeightsCorr, threshold=0.5)\n",
    "val_prec = WeightedPrecision(classWeights=labelWeightsCorr)\n",
    "val_rec = WeightedRecall(classWeights=labelWeightsCorr)\n",
    "\n",
    "batchedDataset = dataset.batch(BATCH_SIZE, drop_remainder=False)\n",
    "batchedDatasetVal = datasetVal.batch(BATCH_SIZE, drop_remainder=False)\n",
    "\n",
    "# batchedDataset = batchedDataset.cache(os.path.join(DATA_PATH, \"datasetCache\"+SO))\n",
    "# batchedDatasetVal = batchedDatasetVal.cache(os.path.join(DATA_PATH, \"datasetCacheVal\"+SO))\n",
    "\n",
    "@tf.function()\n",
    "def trainStep(x_batch_train, y_batch_train):\n",
    "    with tf.GradientTape() as tape:\n",
    "\n",
    "        probs = model(x_batch_train, training=True) \n",
    "        loss_value = loss_fn(y_batch_train, probs)\n",
    "\n",
    "    grads = tape.gradient(loss_value, model.trainable_weights)\n",
    "    #Gradient clipping\n",
    "    # grads = [tf.clip_by_norm(g, 2.0) for g in grads]\n",
    "\n",
    "    train_acc_metric.update_state(y_batch_train, probs)\n",
    "    train_f1_metric.update_state(y_batch_train, probs)\n",
    "    train_prec.update_state(y_batch_train, probs)\n",
    "    train_rec.update_state(y_batch_train, probs)\n",
    "\n",
    "    optimizer.apply_gradients(zip(grads, model.trainable_weights)) \n",
    "    return loss_value\n",
    "\n",
    "@tf.function()\n",
    "def valStep(x_batch_val, y_batch_val):\n",
    "    valProbs = model(x_batch_val, training=False)\n",
    "    # Update val metrics\n",
    "    val_acc_metric.update_state(y_batch_val, valProbs)\n",
    "    val_f1_metric.update_state(y_batch_val, valProbs)\n",
    "    val_prec.update_state(y_batch_val, valProbs)\n",
    "    val_rec.update_state(y_batch_val, valProbs)\n",
    "\n",
    "maxStep=0\n",
    "\n",
    "for epoch in range(epochs):\n",
    "    print(\"\\nStart of epoch %d\" % (epoch+1,))\n",
    "\n",
    "    # Iterate over the batches of the dataset.\n",
    "    for step, (x_batch_train, y_batch_train) in enumerate(batchedDataset):\n",
    "\n",
    "        loss_value =trainStep(x_batch_train,y_batch_train)\n",
    "\n",
    "        # Log \n",
    "        if step % LOG_INTERVAL == 0:\n",
    "            template = 'Epoch {}/Step {}, Loss: {:.5f}, Accuracy: {:.5f}, F1: {:.4f}, Prec: {:.4f}, Rec: {:.4f}, lr: {:.5f}'\n",
    "            print(template.format(epoch+1, step,loss_value.numpy(), \n",
    "                                    train_acc_metric.result(),train_f1_metric.result(),\n",
    "                                    train_prec.result(), train_rec.result(), optimizer.learning_rate.numpy()))\n",
    "            \n",
    "            with summary_writer.as_default():\n",
    "                tf.summary.scalar('loss', loss_value, step=maxStep*epoch+step)\n",
    "                tf.summary.scalar('accuracy', train_acc_metric.result(), step=maxStep*epoch+step)\n",
    "                tf.summary.scalar('f1', train_f1_metric.result(), step=maxStep*epoch+step)\n",
    "                tf.summary.scalar('prec', train_prec.result(), step=maxStep*epoch+step)\n",
    "                tf.summary.scalar('rec', train_rec.result(), step=maxStep*epoch+step)\n",
    "                tf.summary.scalar('learning rate', optimizer.learning_rate.numpy(), step=maxStep*epoch+step)\n",
    "                summary_writer.flush()\n",
    "\n",
    "    \n",
    "    train_acc_metric.reset_states()\n",
    "    train_f1_metric.reset_states()\n",
    "    train_prec.reset_states()\n",
    "    train_rec.reset_states()\n",
    "\n",
    "    maxStep=step\n",
    "\n",
    "    print(\"Epoch finished. Start validation\")\n",
    "    for x_batch_val, y_batch_val in batchedDatasetVal:\n",
    "        valStep(x_batch_val, y_batch_val)\n",
    "    val_acc = val_acc_metric.result()\n",
    "    val_acc_metric.reset_states()\n",
    "    val_f1 = val_f1_metric.result()\n",
    "    val_f1_metric.reset_states()\n",
    "    val_precision = val_prec.result()\n",
    "    val_prec.reset_states()\n",
    "    val_recall = val_rec.result()\n",
    "    val_rec.reset_states()\n",
    "    print(\"Validation acc: %.4f\" % (float(val_acc),))\n",
    "    print(\"Validation f1: %.4f\" % (float(val_f1),))\n",
    "    print(\"Validation precision: %.4f\" % (float(val_precision),))\n",
    "    print(\"Validation recall: %.4f\" % (float(val_recall),))\n",
    "    with summary_writer.as_default():\n",
    "        tf.summary.scalar('valAcc', float(val_acc), step=epoch)\n",
    "        tf.summary.scalar('valF1', float(val_f1), step=epoch)\n",
    "        tf.summary.scalar('valPrecision', float(val_precision), step=epoch)\n",
    "        tf.summary.scalar('valRecall', float(val_recall), step=epoch)\n",
    "        summary_writer.flush()\n",
    "    if saveModel:\n",
    "      model.save(os.path.join(DATA_PATH, \"model_\"+SO+\"_epoch_{}_valF1Score{:.4f}\".format(epoch, float(val_f1))))"
   ]
  },
  {
   "cell_type": "code",
   "execution_count": null,
   "id": "374f7234",
   "metadata": {},
   "outputs": [],
   "source": [
    "\n",
    "# model.save(os.path.join(DATA_PATH, \"model_\"+SO+\"_epoch_{}_valf1Score{:.3f}\".format(epoch, float(val_f1))))"
   ]
  },
  {
   "cell_type": "code",
   "execution_count": null,
   "id": "cefc1f6a",
   "metadata": {},
   "outputs": [],
   "source": [
    "\n",
    "probs= model.predict(tf.expand_dims(list(datasetVal.take(32))[10][0], 0))\n",
    "prediction= [1 if p > 0.5 else 0 for p in probs[0]]\n",
    "probabilities= probs[probs>0.5]\n",
    "# classes = np.argwhere(prediction)\n",
    "print(mlb.inverse_transform(np.array([prediction])))\n",
    "print(probabilities)"
   ]
  }
 ],
 "metadata": {
  "kernelspec": {
   "display_name": "Python 3 (ipykernel)",
   "language": "python",
   "name": "python3"
  },
  "language_info": {
   "codemirror_mode": {
    "name": "ipython",
    "version": 3
   },
   "file_extension": ".py",
   "mimetype": "text/x-python",
   "name": "python",
   "nbconvert_exporter": "python",
   "pygments_lexer": "ipython3",
   "version": "3.9.16"
  }
 },
 "nbformat": 4,
 "nbformat_minor": 5
}
