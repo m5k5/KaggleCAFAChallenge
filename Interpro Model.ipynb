{
 "cells": [
  {
   "cell_type": "code",
   "execution_count": 2,
   "id": "9c1d77e7",
   "metadata": {},
   "outputs": [
    {
     "name": "stdout",
     "output_type": "stream",
     "text": [
      "Num GPUs Available:  1\n",
      "/mnt/e/ML/cafa-5-protein-function-prediction\n",
      "/mnt/e/ML/output\n"
     ]
    }
   ],
   "source": [
    "import os\n",
    "from dotenv import load_dotenv\n",
    "import numpy as np\n",
    "import tensorflow as tf\n",
    "import pandas as pd\n",
    "import datetime\n",
    "from tqdm.notebook import tqdm\n",
    "\n",
    "physical_devices = tf.config.list_physical_devices('GPU')\n",
    "print(\"Num GPUs Available: \", len(physical_devices))\n",
    "# try:\n",
    "#   tf.config.experimental.set_memory_growth(physical_devices[0], True)\n",
    "# except:\n",
    "#   # Invalid device or cannot modify virtual devices once initialized.\n",
    "#   pass\n",
    "\n",
    "load_dotenv(override=True)\n",
    "\n",
    "DATA_PATH = os.getenv('DATA_PATH')\n",
    "DATA_PATH_INTERPRO = os.getenv('DATA_PATH_INTERPRO')\n",
    "print(DATA_PATH)\n",
    "print(DATA_PATH_INTERPRO)\n",
    "\n",
    "# Choose subontology (CCO, MFO or BPO)\n",
    "SO = 'CCO'"
   ]
  },
  {
   "attachments": {},
   "cell_type": "markdown",
   "id": "e3544f8a",
   "metadata": {},
   "source": [
    "## Reading fasta, obo and tsv files"
   ]
  },
  {
   "cell_type": "code",
   "execution_count": 3,
   "id": "c8b515f2",
   "metadata": {},
   "outputs": [],
   "source": [
    "from Bio import SeqIO\n",
    "\n",
    "sequences = [rec.seq for rec in SeqIO.parse(os.path.join(DATA_PATH, \"Train/train_sequences.fasta\"),\"fasta\")]\n",
    "ids = [rec.id for rec in SeqIO.parse(os.path.join(DATA_PATH, \"Train/train_sequences.fasta\"),\"fasta\")]"
   ]
  },
  {
   "cell_type": "code",
   "execution_count": 4,
   "id": "2898414e",
   "metadata": {},
   "outputs": [],
   "source": [
    "import networkx\n",
    "import obonet\n",
    "\n",
    "# Read the taxrank ontology\n",
    "url = os.path.join(DATA_PATH, \"Train/go-basic.obo\")\n",
    "graph = obonet.read_obo(url)\n"
   ]
  },
  {
   "cell_type": "code",
   "execution_count": 5,
   "id": "9f4bf949",
   "metadata": {},
   "outputs": [
    {
     "name": "stdout",
     "output_type": "stream",
     "text": [
      "(1196017, 3)\n"
     ]
    }
   ],
   "source": [
    "df = pd.read_csv(os.path.join(DATA_PATH, \"Train/train_terms.tsv\"), sep='\\t')\n",
    "\n",
    "dfSO = df.loc[df[\"aspect\"]==SO]\n",
    "uniqueTerms = dfSO[\"term\"].unique()\n",
    "termsArr = list(dfSO[\"term\"].to_numpy())\n",
    "\n",
    "uniqueTermsDict={}\n",
    "for i,el in enumerate(uniqueTerms):\n",
    "    uniqueTermsDict[el] = i\n",
    "    \n",
    "print(dfSO.shape)\n",
    "df=dfSO\n",
    "\n",
    "df.set_index(\"EntryID\", inplace=True)"
   ]
  },
  {
   "cell_type": "code",
   "execution_count": 6,
   "id": "e4dec705",
   "metadata": {},
   "outputs": [],
   "source": [
    "testID = df.index.to_list()[0]"
   ]
  },
  {
   "cell_type": "code",
   "execution_count": 7,
   "id": "b181e117",
   "metadata": {},
   "outputs": [
    {
     "data": {
      "text/html": [
       "<div>\n",
       "<style scoped>\n",
       "    .dataframe tbody tr th:only-of-type {\n",
       "        vertical-align: middle;\n",
       "    }\n",
       "\n",
       "    .dataframe tbody tr th {\n",
       "        vertical-align: top;\n",
       "    }\n",
       "\n",
       "    .dataframe thead th {\n",
       "        text-align: right;\n",
       "    }\n",
       "</style>\n",
       "<table border=\"1\" class=\"dataframe\">\n",
       "  <thead>\n",
       "    <tr style=\"text-align: right;\">\n",
       "      <th></th>\n",
       "      <th>term</th>\n",
       "      <th>aspect</th>\n",
       "    </tr>\n",
       "    <tr>\n",
       "      <th>EntryID</th>\n",
       "      <th></th>\n",
       "      <th></th>\n",
       "    </tr>\n",
       "  </thead>\n",
       "  <tbody>\n",
       "    <tr>\n",
       "      <th>A0A021WW32</th>\n",
       "      <td>GO:0099086</td>\n",
       "      <td>CCO</td>\n",
       "    </tr>\n",
       "    <tr>\n",
       "      <th>A0A021WW32</th>\n",
       "      <td>GO:0000228</td>\n",
       "      <td>CCO</td>\n",
       "    </tr>\n",
       "    <tr>\n",
       "      <th>A0A021WW32</th>\n",
       "      <td>GO:0005622</td>\n",
       "      <td>CCO</td>\n",
       "    </tr>\n",
       "    <tr>\n",
       "      <th>A0A021WW32</th>\n",
       "      <td>GO:0043226</td>\n",
       "      <td>CCO</td>\n",
       "    </tr>\n",
       "    <tr>\n",
       "      <th>A0A021WW32</th>\n",
       "      <td>GO:0000792</td>\n",
       "      <td>CCO</td>\n",
       "    </tr>\n",
       "    <tr>\n",
       "      <th>A0A021WW32</th>\n",
       "      <td>GO:0000795</td>\n",
       "      <td>CCO</td>\n",
       "    </tr>\n",
       "    <tr>\n",
       "      <th>A0A021WW32</th>\n",
       "      <td>GO:0000785</td>\n",
       "      <td>CCO</td>\n",
       "    </tr>\n",
       "    <tr>\n",
       "      <th>A0A021WW32</th>\n",
       "      <td>GO:0043231</td>\n",
       "      <td>CCO</td>\n",
       "    </tr>\n",
       "    <tr>\n",
       "      <th>A0A021WW32</th>\n",
       "      <td>GO:0032991</td>\n",
       "      <td>CCO</td>\n",
       "    </tr>\n",
       "    <tr>\n",
       "      <th>A0A021WW32</th>\n",
       "      <td>GO:0043229</td>\n",
       "      <td>CCO</td>\n",
       "    </tr>\n",
       "    <tr>\n",
       "      <th>A0A021WW32</th>\n",
       "      <td>GO:0043232</td>\n",
       "      <td>CCO</td>\n",
       "    </tr>\n",
       "    <tr>\n",
       "      <th>A0A021WW32</th>\n",
       "      <td>GO:0005634</td>\n",
       "      <td>CCO</td>\n",
       "    </tr>\n",
       "    <tr>\n",
       "      <th>A0A021WW32</th>\n",
       "      <td>GO:0005705</td>\n",
       "      <td>CCO</td>\n",
       "    </tr>\n",
       "    <tr>\n",
       "      <th>A0A021WW32</th>\n",
       "      <td>GO:0043228</td>\n",
       "      <td>CCO</td>\n",
       "    </tr>\n",
       "    <tr>\n",
       "      <th>A0A021WW32</th>\n",
       "      <td>GO:0031981</td>\n",
       "      <td>CCO</td>\n",
       "    </tr>\n",
       "    <tr>\n",
       "      <th>A0A021WW32</th>\n",
       "      <td>GO:0000793</td>\n",
       "      <td>CCO</td>\n",
       "    </tr>\n",
       "    <tr>\n",
       "      <th>A0A021WW32</th>\n",
       "      <td>GO:0098687</td>\n",
       "      <td>CCO</td>\n",
       "    </tr>\n",
       "    <tr>\n",
       "      <th>A0A021WW32</th>\n",
       "      <td>GO:0043233</td>\n",
       "      <td>CCO</td>\n",
       "    </tr>\n",
       "    <tr>\n",
       "      <th>A0A021WW32</th>\n",
       "      <td>GO:0005700</td>\n",
       "      <td>CCO</td>\n",
       "    </tr>\n",
       "    <tr>\n",
       "      <th>A0A021WW32</th>\n",
       "      <td>GO:0005575</td>\n",
       "      <td>CCO</td>\n",
       "    </tr>\n",
       "    <tr>\n",
       "      <th>A0A021WW32</th>\n",
       "      <td>GO:0044815</td>\n",
       "      <td>CCO</td>\n",
       "    </tr>\n",
       "    <tr>\n",
       "      <th>A0A021WW32</th>\n",
       "      <td>GO:0005694</td>\n",
       "      <td>CCO</td>\n",
       "    </tr>\n",
       "    <tr>\n",
       "      <th>A0A021WW32</th>\n",
       "      <td>GO:0000794</td>\n",
       "      <td>CCO</td>\n",
       "    </tr>\n",
       "    <tr>\n",
       "      <th>A0A021WW32</th>\n",
       "      <td>GO:0008278</td>\n",
       "      <td>CCO</td>\n",
       "    </tr>\n",
       "    <tr>\n",
       "      <th>A0A021WW32</th>\n",
       "      <td>GO:0110165</td>\n",
       "      <td>CCO</td>\n",
       "    </tr>\n",
       "    <tr>\n",
       "      <th>A0A021WW32</th>\n",
       "      <td>GO:0005721</td>\n",
       "      <td>CCO</td>\n",
       "    </tr>\n",
       "    <tr>\n",
       "      <th>A0A021WW32</th>\n",
       "      <td>GO:0070013</td>\n",
       "      <td>CCO</td>\n",
       "    </tr>\n",
       "    <tr>\n",
       "      <th>A0A021WW32</th>\n",
       "      <td>GO:0043227</td>\n",
       "      <td>CCO</td>\n",
       "    </tr>\n",
       "    <tr>\n",
       "      <th>A0A021WW32</th>\n",
       "      <td>GO:0000775</td>\n",
       "      <td>CCO</td>\n",
       "    </tr>\n",
       "    <tr>\n",
       "      <th>A0A021WW32</th>\n",
       "      <td>GO:0031974</td>\n",
       "      <td>CCO</td>\n",
       "    </tr>\n",
       "  </tbody>\n",
       "</table>\n",
       "</div>"
      ],
      "text/plain": [
       "                  term aspect\n",
       "EntryID                      \n",
       "A0A021WW32  GO:0099086    CCO\n",
       "A0A021WW32  GO:0000228    CCO\n",
       "A0A021WW32  GO:0005622    CCO\n",
       "A0A021WW32  GO:0043226    CCO\n",
       "A0A021WW32  GO:0000792    CCO\n",
       "A0A021WW32  GO:0000795    CCO\n",
       "A0A021WW32  GO:0000785    CCO\n",
       "A0A021WW32  GO:0043231    CCO\n",
       "A0A021WW32  GO:0032991    CCO\n",
       "A0A021WW32  GO:0043229    CCO\n",
       "A0A021WW32  GO:0043232    CCO\n",
       "A0A021WW32  GO:0005634    CCO\n",
       "A0A021WW32  GO:0005705    CCO\n",
       "A0A021WW32  GO:0043228    CCO\n",
       "A0A021WW32  GO:0031981    CCO\n",
       "A0A021WW32  GO:0000793    CCO\n",
       "A0A021WW32  GO:0098687    CCO\n",
       "A0A021WW32  GO:0043233    CCO\n",
       "A0A021WW32  GO:0005700    CCO\n",
       "A0A021WW32  GO:0005575    CCO\n",
       "A0A021WW32  GO:0044815    CCO\n",
       "A0A021WW32  GO:0005694    CCO\n",
       "A0A021WW32  GO:0000794    CCO\n",
       "A0A021WW32  GO:0008278    CCO\n",
       "A0A021WW32  GO:0110165    CCO\n",
       "A0A021WW32  GO:0005721    CCO\n",
       "A0A021WW32  GO:0070013    CCO\n",
       "A0A021WW32  GO:0043227    CCO\n",
       "A0A021WW32  GO:0000775    CCO\n",
       "A0A021WW32  GO:0031974    CCO"
      ]
     },
     "execution_count": 7,
     "metadata": {},
     "output_type": "execute_result"
    }
   ],
   "source": [
    "df.loc[testID]"
   ]
  },
  {
   "cell_type": "code",
   "execution_count": 8,
   "id": "7fff067f",
   "metadata": {},
   "outputs": [],
   "source": [
    "dfGo = pd.read_csv(os.path.join(DATA_PATH, \"Train/train_terms.tsv\"), sep='\\t')\n",
    "\n",
    "dfGo = dfGo.loc[dfGo[\"aspect\"]==SO]\n",
    "\n",
    "dfGo.set_index(\"term\", inplace=True)"
   ]
  },
  {
   "attachments": {},
   "cell_type": "markdown",
   "id": "5338b7f8",
   "metadata": {},
   "source": [
    "## GO analysis"
   ]
  },
  {
   "cell_type": "code",
   "execution_count": 9,
   "id": "1058ef1d",
   "metadata": {},
   "outputs": [],
   "source": [
    "item_counts = df[\"term\"].value_counts()"
   ]
  },
  {
   "cell_type": "code",
   "execution_count": 10,
   "id": "eb35584f",
   "metadata": {},
   "outputs": [],
   "source": [
    "id_to_name = {id_: data.get('name') for id_, data in graph.nodes(data=True)}\n",
    "name_to_id = {data['name']: id_ for id_, data in graph.nodes(data=True) if 'name' in data}"
   ]
  },
  {
   "attachments": {},
   "cell_type": "markdown",
   "id": "3c099fc2",
   "metadata": {},
   "source": [
    "## Label encoding"
   ]
  },
  {
   "attachments": {},
   "cell_type": "markdown",
   "id": "cae9a3b0",
   "metadata": {},
   "source": [
    "The task is a multilabel classification: The output has several possible targets (Gene Ontologies) but each can only be 1 (existing) or 0 (non existing)"
   ]
  },
  {
   "attachments": {},
   "cell_type": "markdown",
   "id": "c8e63ed9",
   "metadata": {},
   "source": [
    "Extract label weights from IA"
   ]
  },
  {
   "cell_type": "code",
   "execution_count": 11,
   "id": "c7e3c316",
   "metadata": {},
   "outputs": [
    {
     "name": "stdout",
     "output_type": "stream",
     "text": [
      "Not found GOs: 0 (set to 0)\n"
     ]
    }
   ],
   "source": [
    "dfIa = pd.read_csv(os.path.join(DATA_PATH, \"IA.txt\"), sep='\\t', header=None)\n",
    "\n",
    "dfIa.set_index(0, inplace=True)\n",
    "\n",
    "labelWeights=[]\n",
    "allIndices = dfIa.index.tolist()\n",
    "\n",
    "\n",
    "\n",
    "notFound=0\n",
    "for go in item_counts.index.to_list():\n",
    "    if go in allIndices:\n",
    "        labelWeights.append(dfIa.loc[go].to_numpy()[0])\n",
    "    else:\n",
    "        notFound += 1\n",
    "        labelWeights.append(0)\n",
    "\n",
    "print(\"Not found GOs: {} (set to 0)\".format(notFound))"
   ]
  },
  {
   "cell_type": "code",
   "execution_count": 12,
   "id": "caeee590",
   "metadata": {},
   "outputs": [
    {
     "name": "stdout",
     "output_type": "stream",
     "text": [
      "Loading presaved data\n"
     ]
    }
   ],
   "source": [
    "topGOs=item_counts.index.to_list()\n",
    "\n",
    "threshold=0\n",
    "labelWeights=np.array(labelWeights)\n",
    "selection = labelWeights>threshold\n",
    "topGOs=np.array(topGOs)[selection]\n",
    "\n",
    "if os.path.exists(os.path.join(DATA_PATH, \"GODataSizes_\"+SO+\".npy\")):\n",
    "    print(\"Loading presaved data\")\n",
    "    GODataSizes = np.load(os.path.join(DATA_PATH, \"GODataSizes_\"+SO+\".npy\"))\n",
    "else:\n",
    "    GODataSizes= [dfGo.loc[g].size for g in topGOs]\n",
    "    np.save(os.path.join(DATA_PATH, \"GODataSizes_\"+SO), GODataSizes)\n"
   ]
  },
  {
   "cell_type": "code",
   "execution_count": 13,
   "id": "3e87f301",
   "metadata": {},
   "outputs": [
    {
     "name": "stdout",
     "output_type": "stream",
     "text": [
      "2055\n"
     ]
    }
   ],
   "source": [
    "#At least 10 samples\n",
    "print(np.count_nonzero(np.array(GODataSizes)>5))\n",
    "GODataSizes= np.array(GODataSizes)\n",
    "GOsWithSufficientData = topGOs[GODataSizes>5]\n"
   ]
  },
  {
   "cell_type": "code",
   "execution_count": 14,
   "id": "99f6a6ca",
   "metadata": {},
   "outputs": [
    {
     "name": "stdout",
     "output_type": "stream",
     "text": [
      "2567\n",
      "['GO:0099086' 'GO:0000228' 'GO:0005622' 'GO:0043226' 'GO:0000792'\n",
      " 'GO:0000795' 'GO:0000785' 'GO:0043231' 'GO:0032991' 'GO:0043229'\n",
      " 'GO:0043232' 'GO:0005634' 'GO:0005705' 'GO:0043228' 'GO:0031981'\n",
      " 'GO:0000793' 'GO:0098687' 'GO:0043233' 'GO:0005700' 'GO:0005575'\n",
      " 'GO:0044815' 'GO:0005694' 'GO:0000794' 'GO:0008278' 'GO:0110165'\n",
      " 'GO:0005721' 'GO:0070013' 'GO:0043227' 'GO:0000775' 'GO:0031974']\n",
      "[[0 0 0 ... 0 0 0]]\n",
      "2055\n"
     ]
    },
    {
     "name": "stderr",
     "output_type": "stream",
     "text": [
      "/home/manuel/miniconda3/envs/tf/lib/python3.9/site-packages/sklearn/preprocessing/_label.py:895: UserWarning: unknown class(es) ['GO:0005575', 'GO:0043232'] will be ignored\n",
      "  warnings.warn(\n"
     ]
    }
   ],
   "source": [
    "from sklearn.preprocessing import MultiLabelBinarizer\n",
    "import pickle\n",
    "\n",
    "print(len(topGOs))\n",
    "mlb = MultiLabelBinarizer()\n",
    "mlb.fit([GOsWithSufficientData])\n",
    "\n",
    "dftest=df.loc[testID]\n",
    "indices = dftest[\"term\"].to_numpy()\n",
    "print(indices)\n",
    "print(mlb.transform([indices]))\n",
    "print(len(mlb.classes_))\n",
    "\n",
    "with open(os.path.join(DATA_PATH,'MLB_'+SO+'.pkl'), 'wb') as f:\n",
    "    pickle.dump(mlb, f)"
   ]
  },
  {
   "cell_type": "code",
   "execution_count": 15,
   "id": "fb189ff8",
   "metadata": {},
   "outputs": [
    {
     "name": "stdout",
     "output_type": "stream",
     "text": [
      "Not found GOs: 0 (set to 0)\n"
     ]
    }
   ],
   "source": [
    "labelWeightsCorr=[]\n",
    "occurenceScores=[]\n",
    "termHist= df[\"term\"].value_counts()\n",
    "maxGoCount = termHist.max()\n",
    "\n",
    "notFound=0\n",
    "for go in mlb.classes_:\n",
    "    if go in allIndices:\n",
    "        occurenceScore = (maxGoCount-termHist[go])/maxGoCount\n",
    "        occurenceScores.append(occurenceScore)\n",
    "        labelWeightsCorr.append(dfIa.loc[go].to_numpy()[0])\n",
    "    else:\n",
    "        notFound += 1\n",
    "        labelWeightsCorr.append(0)\n",
    "\n",
    "print(\"Not found GOs: {} (set to 0)\".format(notFound))\n",
    "labelWeightsCorr=np.array(labelWeightsCorr)"
   ]
  },
  {
   "attachments": {},
   "cell_type": "markdown",
   "id": "92019f8c",
   "metadata": {},
   "source": [
    "## Amino acids encoding"
   ]
  },
  {
   "cell_type": "code",
   "execution_count": 16,
   "id": "6e42462e",
   "metadata": {},
   "outputs": [],
   "source": [
    "aa_dict = {'A': 1, 'B':24, 'C': 2, 'D': 3, 'E': 4, 'F': 5, 'G': 6, 'H': 7, 'I': 8, 'K': 9, 'L': 10, 'M': 11, 'N': 12, 'O': 21, 'P': 13, 'Q': 14, 'R': 15, 'S': 16, 'T': 17, 'U': 22, 'V': 18, 'W': 19, 'Y': 20, 'X':30, 'Z':23}"
   ]
  },
  {
   "cell_type": "markdown",
   "id": "d206203f",
   "metadata": {},
   "source": [
    "## Interpro Data"
   ]
  },
  {
   "cell_type": "code",
   "execution_count": 33,
   "id": "43765061",
   "metadata": {},
   "outputs": [],
   "source": [
    "import xml.etree.ElementTree as ET\n",
    "root = ET.parse(os.path.join(DATA_PATH, \"interpro.xml\")).getroot()"
   ]
  },
  {
   "cell_type": "code",
   "execution_count": 34,
   "id": "2e280b8f",
   "metadata": {},
   "outputs": [
    {
     "data": {
      "text/plain": [
       "{'Active_site',\n",
       " 'Binding_site',\n",
       " 'Conserved_site',\n",
       " 'Domain',\n",
       " 'Family',\n",
       " 'Homologous_superfamily',\n",
       " 'PTM',\n",
       " 'Repeat'}"
      ]
     },
     "execution_count": 34,
     "metadata": {},
     "output_type": "execute_result"
    }
   ],
   "source": [
    "possibleDomains=[]\n",
    "allIPTypes=[]\n",
    "for child in root:\n",
    "    if \"type\" in child.attrib:\n",
    "        allIPTypes.append(child.attrib[\"type\"])\n",
    "        if(child.attrib[\"type\"]==\"Domain\" or child.attrib[\"type\"]==\"Repeat\" or child.attrib[\"type\"]==\"Family\" or child.attrib[\"type\"]==\"Homologous_superfamily\"):\n",
    "            # print(child.tag, child.attrib)\n",
    "            possibleDomains.append(child.attrib[\"id\"])\n",
    "\n",
    "set(allIPTypes)"
   ]
  },
  {
   "cell_type": "code",
   "execution_count": 35,
   "id": "23b46e43",
   "metadata": {},
   "outputs": [
    {
     "name": "stdout",
     "output_type": "stream",
     "text": [
      "[[1 0 0 ... 0 0 0]]\n",
      "38293\n"
     ]
    }
   ],
   "source": [
    "len(possibleDomains)\n",
    "\n",
    "mlbInterPro = MultiLabelBinarizer()\n",
    "mlbInterPro.fit([possibleDomains])\n",
    "\n",
    "\n",
    "print(mlbInterPro.transform([[\"IPR000001\"]]))\n",
    "print(len(mlbInterPro.classes_))\n",
    "\n",
    "with open(os.path.join(DATA_PATH,'MLB_InterPro_'+SO+'.pkl'), 'wb') as f:\n",
    "    pickle.dump(mlbInterPro, f)"
   ]
  },
  {
   "cell_type": "code",
   "execution_count": 21,
   "id": "6cd8d58f",
   "metadata": {},
   "outputs": [
    {
     "name": "stdout",
     "output_type": "stream",
     "text": [
      "Processing  train_sequences0.fasta.json\n",
      "Processing  train_sequences1.fasta.json\n",
      "Processing  train_sequences2.fasta.json\n",
      "Processing  train_sequences3.fasta.json\n",
      "Processing  train_sequences4_1.fasta.json\n",
      "Processing  train_sequences4_2.fasta.json\n",
      "Processing  train_sequences4_3.fasta.json\n",
      "Processing  train_sequences4_4.fasta.json\n",
      "Processing  train_sequences5_1.fasta.json\n",
      "Processing  train_sequences5_2.fasta.json\n",
      "Processing  train_sequences5_3.fasta.json\n"
     ]
    }
   ],
   "source": [
    "import json\n",
    "\n",
    "allInterproData =[]\n",
    "\n",
    "for root,dirs,files in os.walk(os.path.join(DATA_PATH_INTERPRO, \"train\")):\n",
    "    for f in files:\n",
    "        if f.endswith(\".json\"):\n",
    "            print(\"Processing \", f)\n",
    "            with open(os.path.join(root, f)) as inputFile:\n",
    "                iprData = json.load(inputFile)\n",
    "            allInterproData=[*allInterproData, *iprData[\"results\"]]"
   ]
  },
  {
   "cell_type": "code",
   "execution_count": 36,
   "id": "6e1c7d8e",
   "metadata": {},
   "outputs": [
    {
     "name": "stderr",
     "output_type": "stream",
     "text": [
      "100%|██████████| 141650/141650 [00:01<00:00, 123977.10it/s]\n"
     ]
    }
   ],
   "source": [
    "\n",
    "iprIds = {}\n",
    "\n",
    "\n",
    "for entry in tqdm(allInterproData):\n",
    "    entryId = entry[\"xref\"][0][\"id\"]\n",
    "    matches=[]\n",
    "    for match in entry[\"matches\"]:\n",
    "        sigEntry = match[\"signature\"][\"entry\"]\n",
    "        if(sigEntry):\n",
    "            type = sigEntry[\"type\"]\n",
    "            if type==\"DOMAIN\" or type==\"REPEAT\" or type==\"FAMILY\" or type==\"HOMOLOGOUS_SUPERFAMILY\":\n",
    "                iprId = match[\"signature\"][\"entry\"][\"accession\"]\n",
    "                matches.append(iprId)\n",
    "    iprIds[entryId] = matches"
   ]
  },
  {
   "cell_type": "code",
   "execution_count": 37,
   "id": "c824d142",
   "metadata": {},
   "outputs": [
    {
     "data": {
      "text/plain": [
       "4"
      ]
     },
     "execution_count": 37,
     "metadata": {},
     "output_type": "execute_result"
    }
   ],
   "source": [
    "testInput = mlbInterPro.transform([iprIds[\"Q55G04\"]])\n",
    "np.count_nonzero(testInput)"
   ]
  },
  {
   "cell_type": "code",
   "execution_count": 38,
   "id": "1d2cd32c",
   "metadata": {},
   "outputs": [
    {
     "data": {
      "text/plain": [
       "14"
      ]
     },
     "execution_count": 38,
     "metadata": {},
     "output_type": "execute_result"
    }
   ],
   "source": [
    "testInput = mlbInterPro.transform([iprIds[\"Q8NDA2\"]])\n",
    "np.count_nonzero(testInput)"
   ]
  },
  {
   "cell_type": "markdown",
   "id": "c4e073e2",
   "metadata": {},
   "source": [
    "## Physiochemical Properties"
   ]
  },
  {
   "cell_type": "code",
   "execution_count": 25,
   "id": "07e0db99",
   "metadata": {},
   "outputs": [
    {
     "name": "stdout",
     "output_type": "stream",
     "text": [
      "Loading presaved data\n"
     ]
    }
   ],
   "source": [
    "\n",
    "from Bio.SeqUtils.ProtParam import ProteinAnalysis\n",
    "from Bio.Seq import MutableSeq, Seq\n",
    "from tqdm.notebook import tqdm\n",
    "import pickle\n",
    "\n",
    "if os.path.exists(os.path.join(DATA_PATH, \"PCDict\"+\".pkl\")):\n",
    "    print(\"Loading presaved data\")\n",
    "    with open(os.path.join(DATA_PATH, \"PCDict\"+\".pkl\"), 'rb') as f:\n",
    "        PCDict = pickle.load(f)\n",
    "else:\n",
    "    PCDict = {}\n",
    "\n",
    "    for i,seq in enumerate(tqdm(sequences)):\n",
    "\n",
    "        index = ids[i]\n",
    "        \n",
    "        X =ProteinAnalysis(seq)\n",
    "\n",
    "        if \"X\" in seq or \"U\" in seq or \"O\" in seq or \"B\" in seq or \"Z\" in seq:\n",
    "            cleanedSeq = seq.replace(\"X\", \"A\")\n",
    "            cleanedSeq = cleanedSeq.replace(\"U\", \"A\")\n",
    "            cleanedSeq = cleanedSeq.replace(\"O\", \"A\")\n",
    "            cleanedSeq = cleanedSeq.replace(\"B\", \"A\")\n",
    "            cleanedSeq = cleanedSeq.replace(\"Z\", \"A\")\n",
    "            XClean =ProteinAnalysis(cleanedSeq)\n",
    "            flex = XClean.flexibility()\n",
    "            molW = XClean.molecular_weight()\n",
    "            instabIdx = XClean.instability_index()\n",
    "            gravy = XClean.gravy()\n",
    "        else:\n",
    "            flex= X.flexibility()\n",
    "            molW = X.molecular_weight()\n",
    "            instabIdx = X.instability_index()\n",
    "            gravy = X.gravy()\n",
    "\n",
    "        if len(flex)>10:\n",
    "            idx = np.round(np.linspace(0, len(flex) - 1, 10)).astype(int)\n",
    "            flex = np.array(flex)[idx]\n",
    "        elif len(flex)<10:\n",
    "            flex = np.pad(flex, (0,10-len(flex)))\n",
    "\n",
    "        protS= X.protein_scale(aa_dict,100)\n",
    "        if len(protS)>10:\n",
    "            idx = np.round(np.linspace(0, len(protS) - 1, 10)).astype(int)\n",
    "            protS = np.array(protS)[idx]\n",
    "        elif len(protS)<10:\n",
    "            protS = np.pad(protS, (0,10-len(protS)))\n",
    "\n",
    "        #Adding all the physiochemical properties (N = 53)\n",
    "        PCDict[index] = [ molW, X.aromaticity(), instabIdx, *list(X.get_amino_acids_percent().values()),\n",
    "                *flex, gravy, *protS, X.isoelectric_point(), X.charge_at_pH(7), X.charge_at_pH(3), X.charge_at_pH(10), *X.molar_extinction_coefficient(),\n",
    "                *X.secondary_structure_fraction()]\n",
    "        \n",
    "    with open(os.path.join(DATA_PATH, \"PCDict\"+\".pkl\"), 'wb') as f:\n",
    "        pickle.dump(PCDict, f)\n",
    "    \n"
   ]
  },
  {
   "attachments": {},
   "cell_type": "markdown",
   "id": "bfd823ba",
   "metadata": {},
   "source": [
    "## Build Dataset"
   ]
  },
  {
   "cell_type": "code",
   "execution_count": 39,
   "id": "6ff7484e",
   "metadata": {},
   "outputs": [
    {
     "name": "stdout",
     "output_type": "stream",
     "text": [
      "['A0A021WW32' 'A0A021WZA4' 'A0A023GPJ3' ... 'X6RLP6' 'X6RLR1' 'X6RM59']\n"
     ]
    }
   ],
   "source": [
    "dfAll=pd.read_csv(os.path.join(DATA_PATH, \"Train/train_terms.tsv\"), sep='\\t')\n",
    "\n",
    "soEntries = dfAll.loc[dfAll[\"aspect\"]==SO]\n",
    "soEntryIds = soEntries[\"EntryID\"].unique()\n",
    "\n",
    "print(soEntryIds)\n",
    "\n",
    "dfAll.set_index(\"EntryID\", inplace=True)"
   ]
  },
  {
   "cell_type": "code",
   "execution_count": 40,
   "id": "44f722e8",
   "metadata": {},
   "outputs": [
    {
     "name": "stdout",
     "output_type": "stream",
     "text": [
      "99572\n"
     ]
    }
   ],
   "source": [
    "import warnings\n",
    "from itertools import product\n",
    "from tqdm import tqdm\n",
    "import os\n",
    "\n",
    "\n",
    "TRAIN_VAL_SPLIT = 0.7\n",
    "\n",
    "\n",
    "# Shuffle the data\n",
    "import random\n",
    "random.seed(516213)\n",
    "c = list(zip(sequences, ids))\n",
    "random.shuffle(c)\n",
    "sequencesShuffle, idsShuffle = zip(*c)\n",
    "\n",
    "\n",
    "#Train Validation Split\n",
    "split = int(np.floor(len(sequencesShuffle)*TRAIN_VAL_SPLIT))\n",
    "print(split)\n",
    "trainSeq = sequencesShuffle[0:split]\n",
    "valSeq = sequencesShuffle[split+1:]\n",
    "trainIds = idsShuffle[0:split]\n",
    "valIds = idsShuffle[split+1:]\n",
    "\n",
    "\n",
    "def generator():\n",
    "  for i,seq in enumerate(trainSeq):\n",
    "      entryId = trainIds[i]\n",
    "      if entryId in soEntryIds:\n",
    "        labelData = df.loc[entryId]\n",
    "        # indices = labelData[\"termToken\"].to_numpy()\n",
    "        indices = labelData[\"term\"].to_numpy()\n",
    "      else: \n",
    "        indices=[]\n",
    "\n",
    "      with warnings.catch_warnings():\n",
    "        #supress the warnings for unknown classes\n",
    "        warnings.simplefilter(\"ignore\")\n",
    "        y = mlb.transform([indices])\n",
    "\n",
    "      with warnings.catch_warnings():\n",
    "        #supress the warnings for unknown classes\n",
    "        warnings.simplefilter(\"ignore\")\n",
    "        if entryId in iprIds:\n",
    "          x  = mlbInterPro.transform([iprIds[entryId]])\n",
    "        else:\n",
    "          x  = mlbInterPro.transform([[]])\n",
    "      \n",
    "\n",
    "      #Adding all the physiochemical properties (N = 53)\n",
    "      pcProps = PCDict[entryId]\n",
    "      extended = [ *pcProps, *x[0]]\n",
    "     \n",
    "      yield (np.array(extended),y[0])\n",
    "\n",
    "\n",
    "def generatorVal():\n",
    "  for i,seq in enumerate(valSeq):\n",
    "      entryId = valIds[i]\n",
    "      if entryId in soEntryIds:\n",
    "        labelData = df.loc[entryId]\n",
    "        # indices = labelData[\"termToken\"].to_numpy()\n",
    "        indices = labelData[\"term\"].to_numpy()\n",
    "      else: \n",
    "        indices=[]\n",
    "\n",
    "      with warnings.catch_warnings():\n",
    "        #supress the warnings for unknown classes\n",
    "        warnings.simplefilter(\"ignore\")\n",
    "        y = mlb.transform([indices])\n",
    "\n",
    "      with warnings.catch_warnings():\n",
    "        #supress the warnings for unknown classes\n",
    "        warnings.simplefilter(\"ignore\")\n",
    "        if entryId in iprIds:\n",
    "          x  = mlbInterPro.transform([iprIds[entryId]])\n",
    "        else:\n",
    "          x  = mlbInterPro.transform([[]])\n",
    "\n",
    "      #Adding all the physiochemical properties (N = 53)\n",
    "      pcProps = PCDict[entryId]\n",
    "      extended = [ *pcProps, *x[0]]\n",
    "     \n",
    "      yield (np.array(extended),y[0])\n",
    "        "
   ]
  },
  {
   "cell_type": "code",
   "execution_count": 41,
   "id": "2727338a",
   "metadata": {},
   "outputs": [
    {
     "name": "stdout",
     "output_type": "stream",
     "text": [
      "The first sample: \n",
      "(38346,)\n",
      "[ 6.05124015e+04  9.88805970e-02  2.61261381e+01  6.71641791e-02\n",
      "  0.00000000e+00  6.90298507e-02  7.08955224e-02  5.22388060e-02\n",
      "  9.14179104e-02  2.98507463e-02  2.98507463e-02  4.10447761e-02\n",
      "  5.78358209e-02  2.23880597e-02  4.66417910e-02  6.15671642e-02\n",
      "  6.52985075e-02  7.08955224e-02  4.29104478e-02  6.34328358e-02\n",
      "  7.08955224e-02  1.49253731e-02  3.17164179e-02  1.05220238e+00\n",
      "  9.97142857e-01  9.78904762e-01  1.02989286e+00  1.01094048e+00\n",
      "  1.02457143e+00  1.04310714e+00  1.01715476e+00  1.01034524e+00\n",
      "  9.94714286e-01 -7.63059701e-01  1.04653465e+01  1.04554455e+01\n",
      "  1.02574257e+01  1.06237624e+01  1.06831683e+01  1.00495050e+01\n",
      "  1.03267327e+01  1.07326733e+01  1.02079208e+01  9.67326733e+00\n",
      "  5.58632946e+00 -1.39959336e+01  7.24334207e+01 -3.58735618e+01\n",
      "  6.93300000e+04  6.93300000e+04  2.57462687e-01  2.42537313e-01\n",
      "  2.18283582e-01  0.00000000e+00  0.00000000e+00  0.00000000e+00\n",
      "  0.00000000e+00  0.00000000e+00  0.00000000e+00  0.00000000e+00]\n",
      "The first sample has 56 input classes\n",
      "The first sample has 0 output classes\n"
     ]
    }
   ],
   "source": [
    "g = generator()\n",
    "test = next(g)\n",
    "print(\"The first sample: \\n{}\\n{}\".format(test[0].shape, test[0][0:60]))\n",
    "print(\"The first sample has {} input classes\".format(np.count_nonzero(test[0])))\n",
    "print(\"The first sample has {} output classes\".format(np.count_nonzero(test[1])))"
   ]
  },
  {
   "attachments": {},
   "cell_type": "markdown",
   "id": "10c4a51a",
   "metadata": {},
   "source": [
    "## Tensorflow Classification"
   ]
  },
  {
   "cell_type": "code",
   "execution_count": 42,
   "id": "63f0d2e0",
   "metadata": {},
   "outputs": [
    {
     "name": "stdout",
     "output_type": "stream",
     "text": [
      "[(<tf.Tensor: shape=(38346,), dtype=int32, numpy=array([60512,     0,    26, ...,     0,     0,     0], dtype=int32)>, <tf.Tensor: shape=(2055,), dtype=int32, numpy=array([0, 0, 0, ..., 0, 0, 0], dtype=int32)>)]\n"
     ]
    }
   ],
   "source": [
    "#Input = Interpro Domains + 53 physiochemical properties\n",
    "\n",
    "dataset = tf.data.Dataset.from_generator(generator, output_signature=(\n",
    "         tf.TensorSpec(shape=(len(mlbInterPro.classes_)+53,), dtype=tf.int32),\n",
    "         tf.TensorSpec(shape=(len(mlb.classes_),), dtype=tf.int32)))\n",
    "print(list(dataset.take(1)))\n",
    "\n",
    "datasetVal = tf.data.Dataset.from_generator(generatorVal, output_signature=(\n",
    "         tf.TensorSpec(shape=(len(mlbInterPro.classes_)+53,), dtype=tf.int32),\n",
    "         tf.TensorSpec(shape=(len(mlb.classes_),), dtype=tf.int32)))\n"
   ]
  },
  {
   "cell_type": "code",
   "execution_count": 30,
   "id": "f0a554f0",
   "metadata": {},
   "outputs": [],
   "source": [
    "%load_ext tensorboard\n"
   ]
  },
  {
   "cell_type": "code",
   "execution_count": 50,
   "id": "98752d7e",
   "metadata": {},
   "outputs": [
    {
     "name": "stdout",
     "output_type": "stream",
     "text": [
      "Model: \"DenseModelIpAndBioProps\"\n",
      "_________________________________________________________________\n",
      " Layer (type)                Output Shape              Param #   \n",
      "=================================================================\n",
      " input_4 (InputLayer)        [(None, 38346)]           0         \n",
      "                                                                 \n",
      " dense_12 (Dense)            (None, 128)               4908416   \n",
      "                                                                 \n",
      " leaky_re_lu_9 (LeakyReLU)   (None, 128)               0         \n",
      "                                                                 \n",
      " batch_normalization_9 (Bat  (None, 128)               512       \n",
      " chNormalization)                                                \n",
      "                                                                 \n",
      " dropout_9 (Dropout)         (None, 128)               0         \n",
      "                                                                 \n",
      " dense_13 (Dense)            (None, 128)               16512     \n",
      "                                                                 \n",
      " leaky_re_lu_10 (LeakyReLU)  (None, 128)               0         \n",
      "                                                                 \n",
      " batch_normalization_10 (Ba  (None, 128)               512       \n",
      " tchNormalization)                                               \n",
      "                                                                 \n",
      " dropout_10 (Dropout)        (None, 128)               0         \n",
      "                                                                 \n",
      " dense_14 (Dense)            (None, 128)               16512     \n",
      "                                                                 \n",
      " leaky_re_lu_11 (LeakyReLU)  (None, 128)               0         \n",
      "                                                                 \n",
      " batch_normalization_11 (Ba  (None, 128)               512       \n",
      " tchNormalization)                                               \n",
      "                                                                 \n",
      " dropout_11 (Dropout)        (None, 128)               0         \n",
      "                                                                 \n",
      " dense_15 (Dense)            (None, 2055)              265095    \n",
      "                                                                 \n",
      "=================================================================\n",
      "Total params: 5208071 (19.87 MB)\n",
      "Trainable params: 5207303 (19.86 MB)\n",
      "Non-trainable params: 768 (3.00 KB)\n",
      "_________________________________________________________________\n"
     ]
    },
    {
     "data": {
      "image/png": "[encoded data removed]",
      "text/plain": [
       "<IPython.core.display.Image object>"
      ]
     },
     "execution_count": 50,
     "metadata": {},
     "output_type": "execute_result"
    }
   ],
   "source": [
    "from tensorflow.keras import layers\n",
    "\n",
    "VOCAB_SIZE=len(aa_dict)\n",
    "EMBED_DIM=10\n",
    "\n",
    "def createModel():\n",
    "    inputs = tf.keras.Input(shape=(len(mlbInterPro.classes_)+53,))\n",
    "    # x=layers.Embedding(VOCAB_SIZE, EMBED_DIM, name=\"embedding\")(inputs)\n",
    "  \n",
    "    x = layers.Dense(128, kernel_regularizer=tf.keras.regularizers.L2(l2=0.05))(inputs)\n",
    "    x = layers.LeakyReLU()(x)\n",
    "    x = layers.BatchNormalization()(x)\n",
    "    x = layers.Dropout(0.3)(x)\n",
    "\n",
    "    x = layers.Dense(128, kernel_regularizer=tf.keras.regularizers.L2(l2=0.05))(x)\n",
    "    x = layers.LeakyReLU()(x)\n",
    "    x = layers.BatchNormalization()(x)\n",
    "    x = layers.Dropout(0.3)(x)\n",
    "\n",
    "    x = layers.Dense(128, kernel_regularizer=tf.keras.regularizers.L2(l2=0.05))(x)\n",
    "    x = layers.LeakyReLU()(x)\n",
    "    x = layers.BatchNormalization()(x)\n",
    "    x = layers.Dropout(0.3)(x)\n",
    "\n",
    "    outputs=layers.Dense(len(mlb.classes_), activation=tf.keras.activations.sigmoid)(x)\n",
    "\n",
    "    return tf.keras.Model(inputs=inputs, outputs=outputs, name=\"DenseModelIpAndBioProps\")\n",
    "\n",
    "model = createModel()\n",
    "\n",
    "model.summary()\n",
    "\n",
    "dot_img_file = './'+model.name +'.png'\n",
    "tf.keras.utils.plot_model(model, to_file=dot_img_file, show_shapes=True)"
   ]
  },
  {
   "cell_type": "code",
   "execution_count": 44,
   "id": "5a3ddc20",
   "metadata": {},
   "outputs": [],
   "source": [
    "import matplotlib.pyplot as plt\n",
    "#Learning rate schedule\n",
    "initial_learning_rate = 0.001\n",
    "decaySteps=5000\n",
    "lr_schedule = tf.keras.optimizers.schedules.CosineDecayRestarts(initial_learning_rate, first_decay_steps=decaySteps,\n",
    "                                                                t_mul=2.0, m_mul=0.7)\n",
    "# lr_schedule = tf.keras.optimizers.schedules.CosineDecay(\n",
    "#     initial_learning_rate, decay_steps=decaySteps, alpha=0.01)\n",
    "# lr_schedule = tf.keras.optimizers.schedules.ExponentialDecay(\n",
    "#     initial_learning_rate,decay_steps=decaySteps,decay_rate=0.9,staircase=False)\n",
    "step = np.linspace(0,decaySteps*3)\n",
    "lr = lr_schedule(step)\n",
    "# plt.figure(figsize = (8,6))\n",
    "# # plt.yscale(\"log\")\n",
    "# plt.plot(step, lr)\n",
    "# plt.ylim([0,max(plt.ylim())])\n",
    "# plt.xlabel('step')\n",
    "# _ = plt.ylabel('Learning Rate')"
   ]
  },
  {
   "cell_type": "code",
   "execution_count": 45,
   "id": "d2f43e7c",
   "metadata": {},
   "outputs": [],
   "source": [
    "from utils import *"
   ]
  },
  {
   "cell_type": "code",
   "execution_count": 51,
   "id": "9113c4a7",
   "metadata": {},
   "outputs": [
    {
     "name": "stdout",
     "output_type": "stream",
     "text": [
      "\n",
      "Start of epoch 1\n",
      "Epoch 1/Step 0, Loss: 0.20483, Accuracy: 0.50227, F1: 0.0017, Prec: 0.2595, Rec: 0.0008, lr: 0.00080\n",
      "Epoch 1/Step 20, Loss: 0.18167, Accuracy: 0.51405, F1: 0.0020, Prec: 0.3263, Rec: 0.0010, lr: 0.00080\n",
      "Epoch 1/Step 40, Loss: 0.17121, Accuracy: 0.53697, F1: 0.0020, Prec: 0.3125, Rec: 0.0010, lr: 0.00080\n",
      "Epoch 1/Step 60, Loss: 0.15651, Accuracy: 0.58098, F1: 0.0021, Prec: 0.2892, Rec: 0.0010, lr: 0.00080\n",
      "Epoch 1/Step 80, Loss: 0.13550, Accuracy: 0.63918, F1: 0.0028, Prec: 0.2621, Rec: 0.0015, lr: 0.00080\n",
      "Epoch 1/Step 100, Loss: 0.11203, Accuracy: 0.69317, F1: 0.0161, Prec: 0.2344, Rec: 0.0130, lr: 0.00080\n",
      "Epoch 1/Step 120, Loss: 0.07614, Accuracy: 0.73916, F1: 0.0313, Prec: 0.2076, Rec: 0.0534, lr: 0.00080\n",
      "Epoch 1/Step 140, Loss: 0.05573, Accuracy: 0.77410, F1: 0.0376, Prec: 0.1842, Rec: 0.1054, lr: 0.00080\n",
      "Epoch 1/Step 160, Loss: 0.03536, Accuracy: 0.80121, F1: 0.0415, Prec: 0.1659, Rec: 0.1506, lr: 0.00080\n",
      "Epoch 1/Step 180, Loss: 0.02296, Accuracy: 0.82258, F1: 0.0442, Prec: 0.1516, Rec: 0.1903, lr: 0.00080\n",
      "Epoch 1/Step 200, Loss: 0.01732, Accuracy: 0.83971, F1: 0.0471, Prec: 0.1404, Rec: 0.2250, lr: 0.00080\n",
      "Epoch 1/Step 220, Loss: 0.01238, Accuracy: 0.85399, F1: 0.0486, Prec: 0.1308, Rec: 0.2538, lr: 0.00080\n",
      "Epoch 1/Step 240, Loss: 0.01072, Accuracy: 0.86587, F1: 0.0498, Prec: 0.1227, Rec: 0.2771, lr: 0.00080\n",
      "Epoch 1/Step 260, Loss: 0.00911, Accuracy: 0.87597, F1: 0.0501, Prec: 0.1155, Rec: 0.2958, lr: 0.00080\n",
      "Epoch 1/Step 280, Loss: 0.00957, Accuracy: 0.88470, F1: 0.0498, Prec: 0.1090, Rec: 0.3132, lr: 0.00080\n",
      "Epoch 1/Step 300, Loss: 0.00754, Accuracy: 0.89224, F1: 0.0502, Prec: 0.1037, Rec: 0.3294, lr: 0.00080\n",
      "Epoch 1/Step 320, Loss: 0.00594, Accuracy: 0.89887, F1: 0.0511, Prec: 0.0994, Rec: 0.3425, lr: 0.00080\n",
      "Epoch 1/Step 340, Loss: 0.00719, Accuracy: 0.90473, F1: 0.0520, Prec: 0.0956, Rec: 0.3550, lr: 0.00080\n",
      "Epoch 1/Step 360, Loss: 0.00831, Accuracy: 0.90989, F1: 0.0523, Prec: 0.0921, Rec: 0.3659, lr: 0.00080\n",
      "Epoch 1/Step 380, Loss: 0.00714, Accuracy: 0.91455, F1: 0.0528, Prec: 0.0890, Rec: 0.3753, lr: 0.00080\n",
      "Epoch 1/Step 400, Loss: 0.00575, Accuracy: 0.91876, F1: 0.0532, Prec: 0.0862, Rec: 0.3835, lr: 0.00080\n",
      "Epoch 1/Step 420, Loss: 0.00473, Accuracy: 0.92255, F1: 0.0536, Prec: 0.0836, Rec: 0.3927, lr: 0.00080\n",
      "Epoch 1/Step 440, Loss: 0.00585, Accuracy: 0.92601, F1: 0.0543, Prec: 0.0815, Rec: 0.3999, lr: 0.00080\n",
      "Epoch 1/Step 460, Loss: 0.00511, Accuracy: 0.92915, F1: 0.0545, Prec: 0.0793, Rec: 0.4056, lr: 0.00080\n",
      "Epoch 1/Step 480, Loss: 0.00447, Accuracy: 0.93205, F1: 0.0540, Prec: 0.0769, Rec: 0.4120, lr: 0.00080\n",
      "Epoch 1/Step 500, Loss: 0.00405, Accuracy: 0.93472, F1: 0.0543, Prec: 0.0752, Rec: 0.4171, lr: 0.00080\n",
      "Epoch 1/Step 520, Loss: 0.00475, Accuracy: 0.93718, F1: 0.0544, Prec: 0.0735, Rec: 0.4222, lr: 0.00080\n",
      "Epoch 1/Step 540, Loss: 0.00437, Accuracy: 0.93944, F1: 0.0546, Prec: 0.0719, Rec: 0.4267, lr: 0.00080\n",
      "Epoch 1/Step 560, Loss: 0.00669, Accuracy: 0.94154, F1: 0.0540, Prec: 0.0700, Rec: 0.4310, lr: 0.00080\n",
      "Epoch 1/Step 580, Loss: 0.00458, Accuracy: 0.94351, F1: 0.0536, Prec: 0.0684, Rec: 0.4358, lr: 0.00080\n",
      "Epoch 1/Step 600, Loss: 0.00459, Accuracy: 0.94536, F1: 0.0535, Prec: 0.0670, Rec: 0.4403, lr: 0.00080\n",
      "Epoch 1/Step 620, Loss: 0.00445, Accuracy: 0.94708, F1: 0.0534, Prec: 0.0657, Rec: 0.4444, lr: 0.00080\n",
      "Epoch 1/Step 640, Loss: 0.00520, Accuracy: 0.94870, F1: 0.0534, Prec: 0.0646, Rec: 0.4479, lr: 0.00080\n",
      "Epoch 1/Step 660, Loss: 0.00441, Accuracy: 0.95022, F1: 0.0538, Prec: 0.0636, Rec: 0.4512, lr: 0.00080\n",
      "Epoch 1/Step 680, Loss: 0.00406, Accuracy: 0.95164, F1: 0.0538, Prec: 0.0626, Rec: 0.4548, lr: 0.00080\n",
      "Epoch 1/Step 700, Loss: 0.00456, Accuracy: 0.95299, F1: 0.0535, Prec: 0.0615, Rec: 0.4579, lr: 0.00080\n",
      "Epoch 1/Step 720, Loss: 0.00454, Accuracy: 0.95427, F1: 0.0532, Prec: 0.0604, Rec: 0.4610, lr: 0.00080\n",
      "Epoch 1/Step 740, Loss: 0.00507, Accuracy: 0.95547, F1: 0.0531, Prec: 0.0594, Rec: 0.4641, lr: 0.00080\n",
      "Epoch 1/Step 760, Loss: 0.00533, Accuracy: 0.95661, F1: 0.0533, Prec: 0.0587, Rec: 0.4669, lr: 0.00080\n",
      "Epoch 1/Step 780, Loss: 0.00508, Accuracy: 0.95769, F1: 0.0534, Prec: 0.0580, Rec: 0.4694, lr: 0.00080\n",
      "Epoch 1/Step 800, Loss: 0.00525, Accuracy: 0.95872, F1: 0.0537, Prec: 0.0574, Rec: 0.4720, lr: 0.00080\n",
      "Epoch 1/Step 820, Loss: 0.00323, Accuracy: 0.95970, F1: 0.0541, Prec: 0.0570, Rec: 0.4741, lr: 0.00080\n",
      "Epoch 1/Step 840, Loss: 0.00441, Accuracy: 0.96062, F1: 0.0543, Prec: 0.0564, Rec: 0.4758, lr: 0.00080\n",
      "Epoch 1/Step 860, Loss: 0.00361, Accuracy: 0.96151, F1: 0.0544, Prec: 0.0558, Rec: 0.4778, lr: 0.00080\n",
      "Epoch 1/Step 880, Loss: 0.00431, Accuracy: 0.96236, F1: 0.0545, Prec: 0.0553, Rec: 0.4801, lr: 0.00080\n",
      "Epoch 1/Step 900, Loss: 0.00375, Accuracy: 0.96317, F1: 0.0547, Prec: 0.0548, Rec: 0.4821, lr: 0.00080\n",
      "Epoch 1/Step 920, Loss: 0.00332, Accuracy: 0.96395, F1: 0.0548, Prec: 0.0543, Rec: 0.4843, lr: 0.00080\n",
      "Epoch 1/Step 940, Loss: 0.00409, Accuracy: 0.96470, F1: 0.0551, Prec: 0.0539, Rec: 0.4861, lr: 0.00080\n",
      "Epoch 1/Step 960, Loss: 0.00429, Accuracy: 0.96541, F1: 0.0553, Prec: 0.0535, Rec: 0.4879, lr: 0.00080\n",
      "Epoch 1/Step 980, Loss: 0.00435, Accuracy: 0.96609, F1: 0.0555, Prec: 0.0531, Rec: 0.4896, lr: 0.00080\n",
      "Epoch 1/Step 1000, Loss: 0.00514, Accuracy: 0.96675, F1: 0.0555, Prec: 0.0526, Rec: 0.4914, lr: 0.00080\n",
      "Epoch 1/Step 1020, Loss: 0.00470, Accuracy: 0.96738, F1: 0.0557, Prec: 0.0523, Rec: 0.4932, lr: 0.00080\n",
      "Epoch 1/Step 1040, Loss: 0.00537, Accuracy: 0.96798, F1: 0.0562, Prec: 0.0521, Rec: 0.4941, lr: 0.00080\n",
      "Epoch 1/Step 1060, Loss: 0.00396, Accuracy: 0.96857, F1: 0.0565, Prec: 0.0519, Rec: 0.4954, lr: 0.00080\n",
      "Epoch 1/Step 1080, Loss: 0.00432, Accuracy: 0.96913, F1: 0.0564, Prec: 0.0514, Rec: 0.4969, lr: 0.00080\n",
      "Epoch 1/Step 1100, Loss: 0.00349, Accuracy: 0.96967, F1: 0.0564, Prec: 0.0510, Rec: 0.4981, lr: 0.00080\n",
      "Epoch 1/Step 1120, Loss: 0.00361, Accuracy: 0.97019, F1: 0.0564, Prec: 0.0507, Rec: 0.4993, lr: 0.00080\n",
      "Epoch 1/Step 1140, Loss: 0.00448, Accuracy: 0.97069, F1: 0.0565, Prec: 0.0503, Rec: 0.5002, lr: 0.00080\n",
      "Epoch 1/Step 1160, Loss: 0.00575, Accuracy: 0.97118, F1: 0.0565, Prec: 0.0500, Rec: 0.5013, lr: 0.00080\n",
      "Epoch 1/Step 1180, Loss: 0.00368, Accuracy: 0.97165, F1: 0.0564, Prec: 0.0496, Rec: 0.5023, lr: 0.00080\n",
      "Epoch 1/Step 1200, Loss: 0.00456, Accuracy: 0.97210, F1: 0.0562, Prec: 0.0492, Rec: 0.5035, lr: 0.00080\n",
      "Epoch 1/Step 1220, Loss: 0.00372, Accuracy: 0.97254, F1: 0.0561, Prec: 0.0488, Rec: 0.5047, lr: 0.00080\n",
      "Epoch 1/Step 1240, Loss: 0.00416, Accuracy: 0.97296, F1: 0.0561, Prec: 0.0485, Rec: 0.5061, lr: 0.00080\n",
      "Epoch 1/Step 1260, Loss: 0.00425, Accuracy: 0.97337, F1: 0.0564, Prec: 0.0484, Rec: 0.5070, lr: 0.00080\n",
      "Epoch 1/Step 1280, Loss: 0.00421, Accuracy: 0.97377, F1: 0.0564, Prec: 0.0480, Rec: 0.5078, lr: 0.00080\n",
      "Epoch 1/Step 1300, Loss: 0.00368, Accuracy: 0.97416, F1: 0.0562, Prec: 0.0477, Rec: 0.5086, lr: 0.00080\n",
      "Epoch 1/Step 1320, Loss: 0.00429, Accuracy: 0.97454, F1: 0.0559, Prec: 0.0473, Rec: 0.5097, lr: 0.00080\n",
      "Epoch 1/Step 1340, Loss: 0.00462, Accuracy: 0.97490, F1: 0.0560, Prec: 0.0470, Rec: 0.5105, lr: 0.00080\n",
      "Epoch 1/Step 1360, Loss: 0.00357, Accuracy: 0.97525, F1: 0.0563, Prec: 0.0469, Rec: 0.5116, lr: 0.00080\n",
      "Epoch 1/Step 1380, Loss: 0.00383, Accuracy: 0.97560, F1: 0.0564, Prec: 0.0468, Rec: 0.5121, lr: 0.00080\n",
      "Epoch 1/Step 1400, Loss: 0.00387, Accuracy: 0.97593, F1: 0.0564, Prec: 0.0465, Rec: 0.5128, lr: 0.00080\n",
      "Epoch 1/Step 1420, Loss: 0.00378, Accuracy: 0.97625, F1: 0.0562, Prec: 0.0462, Rec: 0.5138, lr: 0.00080\n",
      "Epoch 1/Step 1440, Loss: 0.00373, Accuracy: 0.97657, F1: 0.0563, Prec: 0.0460, Rec: 0.5145, lr: 0.00080\n",
      "Epoch 1/Step 1460, Loss: 0.00412, Accuracy: 0.97687, F1: 0.0562, Prec: 0.0457, Rec: 0.5154, lr: 0.00080\n",
      "Epoch 1/Step 1480, Loss: 0.00467, Accuracy: 0.97717, F1: 0.0561, Prec: 0.0454, Rec: 0.5162, lr: 0.00080\n",
      "Epoch 1/Step 1500, Loss: 0.00423, Accuracy: 0.97746, F1: 0.0560, Prec: 0.0452, Rec: 0.5168, lr: 0.00080\n",
      "Epoch 1/Step 1520, Loss: 0.00351, Accuracy: 0.97774, F1: 0.0561, Prec: 0.0450, Rec: 0.5175, lr: 0.00080\n",
      "Epoch 1/Step 1540, Loss: 0.00337, Accuracy: 0.97802, F1: 0.0558, Prec: 0.0447, Rec: 0.5186, lr: 0.00080\n",
      "Epoch finished. Start validation\n",
      "Validation acc: 0.9990\n",
      "Validation f1: 0.0719\n",
      "Validation precision: 0.0387\n",
      "Validation recall: 0.5248\n",
      "\n",
      "Start of epoch 2\n",
      "Epoch 2/Step 0, Loss: 0.00433, Accuracy: 0.99915, F1: 0.0711, Prec: 0.0394, Rec: 0.3677, lr: 0.00080\n",
      "Epoch 2/Step 20, Loss: 0.00349, Accuracy: 0.99897, F1: 0.0773, Prec: 0.0419, Rec: 0.5432, lr: 0.00080\n",
      "Epoch 2/Step 40, Loss: 0.00424, Accuracy: 0.99896, F1: 0.0678, Prec: 0.0364, Rec: 0.5544, lr: 0.00080\n",
      "Epoch 2/Step 60, Loss: 0.00355, Accuracy: 0.99896, F1: 0.0630, Prec: 0.0337, Rec: 0.5509, lr: 0.00080\n",
      "Epoch 2/Step 80, Loss: 0.00435, Accuracy: 0.99885, F1: 0.0595, Prec: 0.0317, Rec: 0.5584, lr: 0.00080\n",
      "Epoch 2/Step 100, Loss: 0.00371, Accuracy: 0.99886, F1: 0.0589, Prec: 0.0313, Rec: 0.5577, lr: 0.00080\n",
      "Epoch 2/Step 120, Loss: 0.00373, Accuracy: 0.99889, F1: 0.0561, Prec: 0.0298, Rec: 0.5572, lr: 0.00080\n",
      "Epoch 2/Step 140, Loss: 0.00293, Accuracy: 0.99889, F1: 0.0526, Prec: 0.0279, Rec: 0.5600, lr: 0.00080\n",
      "Epoch 2/Step 160, Loss: 0.00342, Accuracy: 0.99890, F1: 0.0532, Prec: 0.0282, Rec: 0.5597, lr: 0.00080\n",
      "Epoch 2/Step 180, Loss: 0.00491, Accuracy: 0.99890, F1: 0.0522, Prec: 0.0276, Rec: 0.5626, lr: 0.00080\n",
      "Epoch 2/Step 200, Loss: 0.00386, Accuracy: 0.99891, F1: 0.0525, Prec: 0.0277, Rec: 0.5644, lr: 0.00080\n",
      "Epoch 2/Step 220, Loss: 0.00431, Accuracy: 0.99891, F1: 0.0535, Prec: 0.0283, Rec: 0.5624, lr: 0.00080\n",
      "Epoch 2/Step 240, Loss: 0.00386, Accuracy: 0.99891, F1: 0.0529, Prec: 0.0280, Rec: 0.5633, lr: 0.00080\n",
      "Epoch 2/Step 260, Loss: 0.00304, Accuracy: 0.99892, F1: 0.0520, Prec: 0.0275, Rec: 0.5636, lr: 0.00080\n",
      "Epoch 2/Step 280, Loss: 0.00601, Accuracy: 0.99891, F1: 0.0506, Prec: 0.0267, Rec: 0.5655, lr: 0.00080\n",
      "Epoch 2/Step 300, Loss: 0.00321, Accuracy: 0.99891, F1: 0.0509, Prec: 0.0269, Rec: 0.5659, lr: 0.00080\n",
      "Epoch 2/Step 320, Loss: 0.00309, Accuracy: 0.99891, F1: 0.0517, Prec: 0.0273, Rec: 0.5656, lr: 0.00080\n",
      "Epoch 2/Step 340, Loss: 0.00326, Accuracy: 0.99891, F1: 0.0519, Prec: 0.0274, Rec: 0.5662, lr: 0.00080\n",
      "Epoch 2/Step 360, Loss: 0.00375, Accuracy: 0.99892, F1: 0.0518, Prec: 0.0274, Rec: 0.5672, lr: 0.00080\n",
      "Epoch 2/Step 380, Loss: 0.00355, Accuracy: 0.99892, F1: 0.0522, Prec: 0.0276, Rec: 0.5669, lr: 0.00080\n",
      "Epoch 2/Step 400, Loss: 0.00360, Accuracy: 0.99892, F1: 0.0523, Prec: 0.0276, Rec: 0.5675, lr: 0.00080\n",
      "Epoch 2/Step 420, Loss: 0.00332, Accuracy: 0.99892, F1: 0.0526, Prec: 0.0278, Rec: 0.5693, lr: 0.00080\n",
      "Epoch 2/Step 440, Loss: 0.00375, Accuracy: 0.99892, F1: 0.0534, Prec: 0.0282, Rec: 0.5688, lr: 0.00080\n",
      "Epoch 2/Step 460, Loss: 0.00356, Accuracy: 0.99893, F1: 0.0531, Prec: 0.0281, Rec: 0.5683, lr: 0.00080\n",
      "Epoch 2/Step 480, Loss: 0.00346, Accuracy: 0.99893, F1: 0.0526, Prec: 0.0278, Rec: 0.5685, lr: 0.00080\n",
      "Epoch 2/Step 500, Loss: 0.00375, Accuracy: 0.99893, F1: 0.0533, Prec: 0.0282, Rec: 0.5674, lr: 0.00080\n",
      "Epoch 2/Step 520, Loss: 0.00400, Accuracy: 0.99893, F1: 0.0534, Prec: 0.0283, Rec: 0.5675, lr: 0.00080\n",
      "Epoch 2/Step 540, Loss: 0.00387, Accuracy: 0.99893, F1: 0.0537, Prec: 0.0284, Rec: 0.5672, lr: 0.00080\n",
      "Epoch 2/Step 560, Loss: 0.00445, Accuracy: 0.99893, F1: 0.0529, Prec: 0.0280, Rec: 0.5667, lr: 0.00080\n",
      "Epoch 2/Step 580, Loss: 0.00372, Accuracy: 0.99893, F1: 0.0527, Prec: 0.0279, Rec: 0.5673, lr: 0.00080\n",
      "Epoch 2/Step 600, Loss: 0.00369, Accuracy: 0.99893, F1: 0.0525, Prec: 0.0278, Rec: 0.5675, lr: 0.00080\n",
      "Epoch 2/Step 620, Loss: 0.00407, Accuracy: 0.99893, F1: 0.0524, Prec: 0.0277, Rec: 0.5678, lr: 0.00080\n",
      "Epoch 2/Step 640, Loss: 0.00494, Accuracy: 0.99893, F1: 0.0522, Prec: 0.0276, Rec: 0.5679, lr: 0.00080\n",
      "Epoch 2/Step 660, Loss: 0.00409, Accuracy: 0.99893, F1: 0.0523, Prec: 0.0276, Rec: 0.5677, lr: 0.00080\n",
      "Epoch 2/Step 680, Loss: 0.00343, Accuracy: 0.99893, F1: 0.0523, Prec: 0.0276, Rec: 0.5681, lr: 0.00080\n",
      "Epoch 2/Step 700, Loss: 0.00423, Accuracy: 0.99893, F1: 0.0519, Prec: 0.0274, Rec: 0.5682, lr: 0.00080\n",
      "Epoch 2/Step 720, Loss: 0.00404, Accuracy: 0.99893, F1: 0.0516, Prec: 0.0273, Rec: 0.5683, lr: 0.00080\n",
      "Epoch 2/Step 740, Loss: 0.00465, Accuracy: 0.99893, F1: 0.0516, Prec: 0.0273, Rec: 0.5684, lr: 0.00080\n",
      "Epoch 2/Step 760, Loss: 0.00413, Accuracy: 0.99893, F1: 0.0519, Prec: 0.0274, Rec: 0.5688, lr: 0.00080\n",
      "Epoch 2/Step 780, Loss: 0.00493, Accuracy: 0.99891, F1: 0.0522, Prec: 0.0276, Rec: 0.5686, lr: 0.00080\n",
      "Epoch 2/Step 800, Loss: 0.00556, Accuracy: 0.99891, F1: 0.0524, Prec: 0.0277, Rec: 0.5688, lr: 0.00080\n",
      "Epoch 2/Step 820, Loss: 0.00312, Accuracy: 0.99892, F1: 0.0529, Prec: 0.0279, Rec: 0.5688, lr: 0.00080\n",
      "Epoch 2/Step 840, Loss: 0.00445, Accuracy: 0.99892, F1: 0.0530, Prec: 0.0280, Rec: 0.5683, lr: 0.00080\n",
      "Epoch 2/Step 860, Loss: 0.00337, Accuracy: 0.99892, F1: 0.0531, Prec: 0.0281, Rec: 0.5681, lr: 0.00080\n",
      "Epoch 2/Step 880, Loss: 0.00395, Accuracy: 0.99892, F1: 0.0532, Prec: 0.0281, Rec: 0.5684, lr: 0.00080\n"
     ]
    },
    {
     "ename": "KeyboardInterrupt",
     "evalue": "",
     "output_type": "error",
     "traceback": [
      "\u001b[0;31m---------------------------------------------------------------------------\u001b[0m",
      "\u001b[0;31mKeyboardInterrupt\u001b[0m                         Traceback (most recent call last)",
      "Cell \u001b[0;32mIn[51], line 77\u001b[0m\n\u001b[1;32m     74\u001b[0m \u001b[39mprint\u001b[39m(\u001b[39m\"\u001b[39m\u001b[39m\\n\u001b[39;00m\u001b[39mStart of epoch \u001b[39m\u001b[39m%d\u001b[39;00m\u001b[39m\"\u001b[39m \u001b[39m%\u001b[39m (epoch\u001b[39m+\u001b[39m\u001b[39m1\u001b[39m,))\n\u001b[1;32m     76\u001b[0m \u001b[39m# Iterate over the batches of the dataset.\u001b[39;00m\n\u001b[0;32m---> 77\u001b[0m \u001b[39mfor\u001b[39;00m step, (x_batch_train, y_batch_train) \u001b[39min\u001b[39;00m \u001b[39menumerate\u001b[39m(batchedDataset):\n\u001b[1;32m     79\u001b[0m     loss_value \u001b[39m=\u001b[39mtrainStep(x_batch_train,y_batch_train)\n\u001b[1;32m     81\u001b[0m     \u001b[39m# Log \u001b[39;00m\n",
      "File \u001b[0;32m~/miniconda3/envs/tf/lib/python3.9/site-packages/tensorflow/python/data/ops/iterator_ops.py:814\u001b[0m, in \u001b[0;36mOwnedIterator.__next__\u001b[0;34m(self)\u001b[0m\n\u001b[1;32m    812\u001b[0m \u001b[39mdef\u001b[39;00m \u001b[39m__next__\u001b[39m(\u001b[39mself\u001b[39m):\n\u001b[1;32m    813\u001b[0m   \u001b[39mtry\u001b[39;00m:\n\u001b[0;32m--> 814\u001b[0m     \u001b[39mreturn\u001b[39;00m \u001b[39mself\u001b[39;49m\u001b[39m.\u001b[39;49m_next_internal()\n\u001b[1;32m    815\u001b[0m   \u001b[39mexcept\u001b[39;00m errors\u001b[39m.\u001b[39mOutOfRangeError:\n\u001b[1;32m    816\u001b[0m     \u001b[39mraise\u001b[39;00m \u001b[39mStopIteration\u001b[39;00m\n",
      "File \u001b[0;32m~/miniconda3/envs/tf/lib/python3.9/site-packages/tensorflow/python/data/ops/iterator_ops.py:777\u001b[0m, in \u001b[0;36mOwnedIterator._next_internal\u001b[0;34m(self)\u001b[0m\n\u001b[1;32m    774\u001b[0m \u001b[39m# TODO(b/77291417): This runs in sync mode as iterators use an error status\u001b[39;00m\n\u001b[1;32m    775\u001b[0m \u001b[39m# to communicate that there is no more data to iterate over.\u001b[39;00m\n\u001b[1;32m    776\u001b[0m \u001b[39mwith\u001b[39;00m context\u001b[39m.\u001b[39mexecution_mode(context\u001b[39m.\u001b[39mSYNC):\n\u001b[0;32m--> 777\u001b[0m   ret \u001b[39m=\u001b[39m gen_dataset_ops\u001b[39m.\u001b[39;49miterator_get_next(\n\u001b[1;32m    778\u001b[0m       \u001b[39mself\u001b[39;49m\u001b[39m.\u001b[39;49m_iterator_resource,\n\u001b[1;32m    779\u001b[0m       output_types\u001b[39m=\u001b[39;49m\u001b[39mself\u001b[39;49m\u001b[39m.\u001b[39;49m_flat_output_types,\n\u001b[1;32m    780\u001b[0m       output_shapes\u001b[39m=\u001b[39;49m\u001b[39mself\u001b[39;49m\u001b[39m.\u001b[39;49m_flat_output_shapes)\n\u001b[1;32m    782\u001b[0m   \u001b[39mtry\u001b[39;00m:\n\u001b[1;32m    783\u001b[0m     \u001b[39m# Fast path for the case `self._structure` is not a nested structure.\u001b[39;00m\n\u001b[1;32m    784\u001b[0m     \u001b[39mreturn\u001b[39;00m \u001b[39mself\u001b[39m\u001b[39m.\u001b[39m_element_spec\u001b[39m.\u001b[39m_from_compatible_tensor_list(ret)  \u001b[39m# pylint: disable=protected-access\u001b[39;00m\n",
      "File \u001b[0;32m~/miniconda3/envs/tf/lib/python3.9/site-packages/tensorflow/python/ops/gen_dataset_ops.py:3023\u001b[0m, in \u001b[0;36miterator_get_next\u001b[0;34m(iterator, output_types, output_shapes, name)\u001b[0m\n\u001b[1;32m   3021\u001b[0m \u001b[39mif\u001b[39;00m tld\u001b[39m.\u001b[39mis_eager:\n\u001b[1;32m   3022\u001b[0m   \u001b[39mtry\u001b[39;00m:\n\u001b[0;32m-> 3023\u001b[0m     _result \u001b[39m=\u001b[39m pywrap_tfe\u001b[39m.\u001b[39;49mTFE_Py_FastPathExecute(\n\u001b[1;32m   3024\u001b[0m       _ctx, \u001b[39m\"\u001b[39;49m\u001b[39mIteratorGetNext\u001b[39;49m\u001b[39m\"\u001b[39;49m, name, iterator, \u001b[39m\"\u001b[39;49m\u001b[39moutput_types\u001b[39;49m\u001b[39m\"\u001b[39;49m, output_types,\n\u001b[1;32m   3025\u001b[0m       \u001b[39m\"\u001b[39;49m\u001b[39moutput_shapes\u001b[39;49m\u001b[39m\"\u001b[39;49m, output_shapes)\n\u001b[1;32m   3026\u001b[0m     \u001b[39mreturn\u001b[39;00m _result\n\u001b[1;32m   3027\u001b[0m   \u001b[39mexcept\u001b[39;00m _core\u001b[39m.\u001b[39m_NotOkStatusException \u001b[39mas\u001b[39;00m e:\n",
      "\u001b[0;31mKeyboardInterrupt\u001b[0m: "
     ]
    }
   ],
   "source": [
    "\n",
    "BATCH_SIZE=64\n",
    "LOG_INTERVAL=20\n",
    "epochs = 15\n",
    "saveModel=False\n",
    "\n",
    "\n",
    "log_dir = \"./logs/\"+model.name+\"/\" + datetime.datetime.now().strftime(\"%Y%m%d-%H%M%S\")+\"_\"+SO\n",
    "tensorboard_callback = tf.keras.callbacks.TensorBoard(log_dir=log_dir, histogram_freq=1,\n",
    "                                                      write_graph=True, update_freq=5)\n",
    "\n",
    "\n",
    "summary_writer = tf.summary.create_file_writer(log_dir)\n",
    "\n",
    "# Instantiate an optimizer .\n",
    "# optimizer = tf.keras.optimizers.SGD(learning_rate=lr_schedule)\n",
    "# optimizer = tf.keras.optimizers.SGD(learning_rate=1e-3)\n",
    "optimizer = tf.keras.optimizers.Adam(learning_rate=8e-4)\n",
    "\n",
    "# Instantiate a loss function.\n",
    "# loss_fn = tf.keras.losses.BinaryCrossentropy()\n",
    "# loss_fn = WeightedBinaryCE(np.ones(len(mlb.classes_)))\n",
    "# loss_fn = WeightedBinaryCE(labelWeightsCorr)\n",
    "# loss_fn = WeightedComboLoss(labelWeightsCorr, alpha=0.5, beta=0.5, labelSmoothing=0.05)\n",
    "# loss_fn = WeightedComboLoss(labelWeightsCorr/np.max(labelWeightsCorr)*occurenceScores, alpha=0.5, beta=0.5)\n",
    "loss_fn = tf.keras.losses.BinaryFocalCrossentropy(gamma=2)\n",
    "\n",
    "train_acc_metric = WeightedAccuracy(classWeights=labelWeightsCorr)\n",
    "train_f1_metric = WeightedF1(classWeights=labelWeightsCorr, threshold=0.5)\n",
    "train_prec = WeightedPrecision(classWeights=labelWeightsCorr)\n",
    "train_rec = WeightedRecall(classWeights=labelWeightsCorr)\n",
    "\n",
    "val_acc_metric = WeightedAccuracy(classWeights=labelWeightsCorr)\n",
    "val_f1_metric = WeightedF1(classWeights=labelWeightsCorr, threshold=0.5)\n",
    "val_prec = WeightedPrecision(classWeights=labelWeightsCorr)\n",
    "val_rec = WeightedRecall(classWeights=labelWeightsCorr)\n",
    "\n",
    "batchedDataset = dataset.batch(BATCH_SIZE, drop_remainder=False)\n",
    "batchedDatasetVal = datasetVal.batch(BATCH_SIZE, drop_remainder=False)\n",
    "\n",
    "# batchedDataset = batchedDataset.cache(os.path.join(DATA_PATH, \"datasetCache\"+SO))\n",
    "# batchedDatasetVal = batchedDatasetVal.cache(os.path.join(DATA_PATH, \"datasetCacheVal\"+SO))\n",
    "\n",
    "@tf.function()\n",
    "def trainStep(x_batch_train, y_batch_train):\n",
    "    with tf.GradientTape() as tape:\n",
    "\n",
    "        probs = model(x_batch_train, training=True) \n",
    "        loss_value = loss_fn(y_batch_train, probs)\n",
    "\n",
    "    grads = tape.gradient(loss_value, model.trainable_weights)\n",
    "    #Gradient clipping\n",
    "    # grads = [tf.clip_by_norm(g, 2.0) for g in grads]\n",
    "\n",
    "    train_acc_metric.update_state(y_batch_train, probs)\n",
    "    train_f1_metric.update_state(y_batch_train, probs)\n",
    "    train_prec.update_state(y_batch_train, probs)\n",
    "    train_rec.update_state(y_batch_train, probs)\n",
    "\n",
    "    optimizer.apply_gradients(zip(grads, model.trainable_weights)) \n",
    "    return loss_value\n",
    "\n",
    "@tf.function()\n",
    "def valStep(x_batch_val, y_batch_val):\n",
    "    valProbs = model(x_batch_val, training=False)\n",
    "    # Update val metrics\n",
    "    val_acc_metric.update_state(y_batch_val, valProbs)\n",
    "    val_f1_metric.update_state(y_batch_val, valProbs)\n",
    "    val_prec.update_state(y_batch_val, valProbs)\n",
    "    val_rec.update_state(y_batch_val, valProbs)\n",
    "\n",
    "maxStep=0\n",
    "\n",
    "for epoch in range(epochs):\n",
    "    print(\"\\nStart of epoch %d\" % (epoch+1,))\n",
    "\n",
    "    # Iterate over the batches of the dataset.\n",
    "    for step, (x_batch_train, y_batch_train) in enumerate(batchedDataset):\n",
    "\n",
    "        loss_value =trainStep(x_batch_train,y_batch_train)\n",
    "\n",
    "        # Log \n",
    "        if step % LOG_INTERVAL == 0:\n",
    "            template = 'Epoch {}/Step {}, Loss: {:.5f}, Accuracy: {:.5f}, F1: {:.4f}, Prec: {:.4f}, Rec: {:.4f}, lr: {:.5f}'\n",
    "            print(template.format(epoch+1, step,loss_value.numpy(), \n",
    "                                    train_acc_metric.result(),train_f1_metric.result(),\n",
    "                                    train_prec.result(), train_rec.result(), optimizer.learning_rate.numpy()))\n",
    "            \n",
    "            with summary_writer.as_default():\n",
    "                tf.summary.scalar('loss', loss_value, step=maxStep*epoch+step)\n",
    "                tf.summary.scalar('accuracy', train_acc_metric.result(), step=maxStep*epoch+step)\n",
    "                tf.summary.scalar('f1', train_f1_metric.result(), step=maxStep*epoch+step)\n",
    "                tf.summary.scalar('prec', train_prec.result(), step=maxStep*epoch+step)\n",
    "                tf.summary.scalar('rec', train_rec.result(), step=maxStep*epoch+step)\n",
    "                tf.summary.scalar('learning rate', optimizer.learning_rate.numpy(), step=maxStep*epoch+step)\n",
    "                summary_writer.flush()\n",
    "\n",
    "    \n",
    "    train_acc_metric.reset_states()\n",
    "    train_f1_metric.reset_states()\n",
    "    train_prec.reset_states()\n",
    "    train_rec.reset_states()\n",
    "\n",
    "    maxStep=step\n",
    "\n",
    "    print(\"Epoch finished. Start validation\")\n",
    "    for x_batch_val, y_batch_val in batchedDatasetVal:\n",
    "        valStep(x_batch_val, y_batch_val)\n",
    "    val_acc = val_acc_metric.result()\n",
    "    val_acc_metric.reset_states()\n",
    "    val_f1 = val_f1_metric.result()\n",
    "    val_f1_metric.reset_states()\n",
    "    val_precision = val_prec.result()\n",
    "    val_prec.reset_states()\n",
    "    val_recall = val_rec.result()\n",
    "    val_rec.reset_states()\n",
    "    print(\"Validation acc: %.4f\" % (float(val_acc),))\n",
    "    print(\"Validation f1: %.4f\" % (float(val_f1),))\n",
    "    print(\"Validation precision: %.4f\" % (float(val_precision),))\n",
    "    print(\"Validation recall: %.4f\" % (float(val_recall),))\n",
    "    with summary_writer.as_default():\n",
    "        tf.summary.scalar('valAcc', float(val_acc), step=epoch)\n",
    "        tf.summary.scalar('valF1', float(val_f1), step=epoch)\n",
    "        tf.summary.scalar('valPrecision', float(val_precision), step=epoch)\n",
    "        tf.summary.scalar('valRecall', float(val_recall), step=epoch)\n",
    "        summary_writer.flush()\n",
    "    if saveModel:\n",
    "      model.save(os.path.join(DATA_PATH, \"model_\"+SO+\"_epoch_{}_valF1Score{:.4f}\".format(epoch, float(val_f1))))"
   ]
  },
  {
   "cell_type": "code",
   "execution_count": null,
   "id": "374f7234",
   "metadata": {},
   "outputs": [],
   "source": [
    "\n",
    "# model.save(os.path.join(DATA_PATH, \"model_\"+SO+\"_epoch_{}_valf1Score{:.3f}\".format(epoch, float(val_f1))))"
   ]
  },
  {
   "cell_type": "code",
   "execution_count": null,
   "id": "cefc1f6a",
   "metadata": {},
   "outputs": [],
   "source": [
    "\n",
    "probs= model.predict(tf.expand_dims(list(datasetVal.take(32))[10][0], 0))\n",
    "prediction= [1 if p > 0.5 else 0 for p in probs[0]]\n",
    "probabilities= probs[probs>0.5]\n",
    "# classes = np.argwhere(prediction)\n",
    "print(mlb.inverse_transform(np.array([prediction])))\n",
    "print(probabilities)"
   ]
  }
 ],
 "metadata": {
  "kernelspec": {
   "display_name": "Python 3 (ipykernel)",
   "language": "python",
   "name": "python3"
  },
  "language_info": {
   "codemirror_mode": {
    "name": "ipython",
    "version": 3
   },
   "file_extension": ".py",
   "mimetype": "text/x-python",
   "name": "python",
   "nbconvert_exporter": "python",
   "pygments_lexer": "ipython3",
   "version": "3.9.16"
  }
 },
 "nbformat": 4,
 "nbformat_minor": 5
}
