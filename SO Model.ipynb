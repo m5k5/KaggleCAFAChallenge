{
 "cells": [
  {
   "cell_type": "code",
   "execution_count": null,
   "id": "9c1d77e7",
   "metadata": {},
   "outputs": [],
   "source": [
    "import os\n",
    "from dotenv import load_dotenv\n",
    "import numpy as np\n",
    "import tensorflow as tf\n",
    "import pandas as pd\n",
    "import datetime\n",
    "\n",
    "load_dotenv(override=True)\n",
    "\n",
    "DATA_PATH = os.getenv('DATA_PATH')\n",
    "print(DATA_PATH)\n",
    "\n",
    "# Choose subontology (CCO, MFO or BPO)\n",
    "SO = 'MFO'"
   ]
  },
  {
   "attachments": {},
   "cell_type": "markdown",
   "id": "e3544f8a",
   "metadata": {},
   "source": [
    "## Reading fasta, obo and tsv files"
   ]
  },
  {
   "cell_type": "code",
   "execution_count": null,
   "id": "c8b515f2",
   "metadata": {},
   "outputs": [],
   "source": [
    "from Bio import SeqIO\n",
    "\n",
    "sequences = [rec.seq for rec in SeqIO.parse(os.path.join(DATA_PATH, \"Train/train_sequences.fasta\"),\"fasta\")]\n",
    "ids = [rec.id for rec in SeqIO.parse(os.path.join(DATA_PATH, \"Train/train_sequences.fasta\"),\"fasta\")]"
   ]
  },
  {
   "cell_type": "code",
   "execution_count": null,
   "id": "e492f673",
   "metadata": {},
   "outputs": [],
   "source": [
    "print(\"There are {} sequences in the dataset.\".format(len(sequences)))"
   ]
  },
  {
   "cell_type": "code",
   "execution_count": null,
   "id": "2898414e",
   "metadata": {},
   "outputs": [],
   "source": [
    "import networkx\n",
    "import obonet\n",
    "\n",
    "# Read the taxrank ontology\n",
    "url = os.path.join(DATA_PATH, \"Train/go-basic.obo\")\n",
    "graph = obonet.read_obo(url)\n",
    "\n"
   ]
  },
  {
   "cell_type": "code",
   "execution_count": null,
   "id": "9f4bf949",
   "metadata": {},
   "outputs": [],
   "source": [
    "df = pd.read_csv(os.path.join(DATA_PATH, \"Train/train_terms.tsv\"), sep='\\t')\n",
    "\n",
    "dfSO = df.loc[df[\"aspect\"]==SO]\n",
    "uniqueTerms = dfSO[\"term\"].unique()\n",
    "termsArr = list(dfSO[\"term\"].to_numpy())\n",
    "\n",
    "uniqueTermsDict={}\n",
    "for i,el in enumerate(uniqueTerms):\n",
    "    uniqueTermsDict[el] = i\n",
    "    \n",
    "print(dfSO.shape)\n",
    "df=dfSO"
   ]
  },
  {
   "attachments": {},
   "cell_type": "markdown",
   "id": "29043526",
   "metadata": {},
   "source": [
    "Test for the first entry:"
   ]
  },
  {
   "cell_type": "code",
   "execution_count": null,
   "id": "af3cf1b5",
   "metadata": {},
   "outputs": [],
   "source": [
    "df.set_index(\"EntryID\", inplace=True)\n",
    "df.head(10)"
   ]
  },
  {
   "cell_type": "code",
   "execution_count": null,
   "id": "e4dec705",
   "metadata": {},
   "outputs": [],
   "source": [
    "testID = df.index.to_list()[0]"
   ]
  },
  {
   "cell_type": "code",
   "execution_count": null,
   "id": "c5777789",
   "metadata": {},
   "outputs": [],
   "source": [
    "%timeit df.loc[testID]"
   ]
  },
  {
   "cell_type": "code",
   "execution_count": null,
   "id": "3cb2bccb",
   "metadata": {},
   "outputs": [],
   "source": [
    "df.loc[testID]"
   ]
  },
  {
   "cell_type": "code",
   "execution_count": null,
   "id": "184631e1",
   "metadata": {},
   "outputs": [],
   "source": [
    "np.unique(df[\"aspect\"].to_numpy())"
   ]
  },
  {
   "attachments": {},
   "cell_type": "markdown",
   "id": "5338b7f8",
   "metadata": {},
   "source": [
    "## GO analysis"
   ]
  },
  {
   "cell_type": "code",
   "execution_count": null,
   "id": "1058ef1d",
   "metadata": {},
   "outputs": [],
   "source": [
    "item_counts = df[\"term\"].value_counts()\n",
    "print(item_counts[0:20])"
   ]
  },
  {
   "cell_type": "code",
   "execution_count": null,
   "id": "eb35584f",
   "metadata": {},
   "outputs": [],
   "source": [
    "id_to_name = {id_: data.get('name') for id_, data in graph.nodes(data=True)}\n",
    "name_to_id = {data['name']: id_ for id_, data in graph.nodes(data=True) if 'name' in data}\n",
    "print(id_to_name['GO:0031981'] )"
   ]
  },
  {
   "attachments": {},
   "cell_type": "markdown",
   "id": "3c099fc2",
   "metadata": {},
   "source": [
    "## Label encoding"
   ]
  },
  {
   "attachments": {},
   "cell_type": "markdown",
   "id": "cae9a3b0",
   "metadata": {},
   "source": [
    "The task is a multilabel classification: The output has several possible targets (Gene Ontologies) but each can only be 1 (existing) or 0 (non existing)"
   ]
  },
  {
   "cell_type": "code",
   "execution_count": null,
   "id": "99f6a6ca",
   "metadata": {},
   "outputs": [],
   "source": [
    "from sklearn.preprocessing import MultiLabelBinarizer\n",
    "import pickle\n",
    "\n",
    "topGOs= item_counts\n",
    "topGOs=topGOs.index.to_list()\n",
    "\n",
    "mlb = MultiLabelBinarizer()\n",
    "mlb.fit([topGOs])\n",
    "\n",
    "dftest=df.loc[testID]\n",
    "indices = dftest[\"term\"].to_numpy()\n",
    "print(indices)\n",
    "print(mlb.transform([indices]))\n",
    "print(len(mlb.classes_))\n",
    "\n",
    "with open(os.path.join(DATA_PATH,'MLB_'+SO+'.pkl'), 'wb') as f:\n",
    "    pickle.dump(mlb, f)"
   ]
  },
  {
   "attachments": {},
   "cell_type": "markdown",
   "id": "c8e63ed9",
   "metadata": {},
   "source": [
    "Extract label weights from IA"
   ]
  },
  {
   "cell_type": "code",
   "execution_count": null,
   "id": "c7e3c316",
   "metadata": {},
   "outputs": [],
   "source": [
    "dfIa = pd.read_csv(os.path.join(DATA_PATH, \"IA.txt\"), sep='\\t', header=None)\n",
    "\n",
    "dfIa.set_index(0, inplace=True)\n",
    "\n",
    "labelWeights=[]\n",
    "allIndices = dfIa.index.tolist()\n",
    "\n",
    "\n",
    "for go in topGOs:\n",
    "    if go in allIndices:\n",
    "        labelWeights.append(dfIa.loc[go].to_numpy()[0])\n",
    "    else:\n",
    "        labelWeights.append(1)"
   ]
  },
  {
   "cell_type": "code",
   "execution_count": null,
   "id": "ff2a6f2a",
   "metadata": {},
   "outputs": [],
   "source": [
    "len(labelWeights)"
   ]
  },
  {
   "attachments": {},
   "cell_type": "markdown",
   "id": "92019f8c",
   "metadata": {},
   "source": [
    "## Amino acids encoding"
   ]
  },
  {
   "cell_type": "code",
   "execution_count": null,
   "id": "b747477d",
   "metadata": {},
   "outputs": [],
   "source": [
    "aminos_list = ['A', 'B', 'C', 'D', 'E', 'F', 'G', 'H', 'I', 'K', 'L', 'M', 'N', 'O', 'P', 'Q', 'R', 'S', 'T', 'U', 'V', 'W', 'Y', 'X']"
   ]
  },
  {
   "cell_type": "code",
   "execution_count": null,
   "id": "6e42462e",
   "metadata": {},
   "outputs": [],
   "source": [
    "aa_dict = {'A': 1, 'B':24, 'C': 2, 'D': 3, 'E': 4, 'F': 5, 'G': 6, 'H': 7, 'I': 8, 'K': 9, 'L': 10, 'M': 11, 'N': 12, 'O': 21, 'P': 13, 'Q': 14, 'R': 15, 'S': 16, 'T': 17, 'U': 22, 'V': 18, 'W': 19, 'Y': 20, 'X':30, 'Z':23}"
   ]
  },
  {
   "attachments": {},
   "cell_type": "markdown",
   "id": "bfd823ba",
   "metadata": {},
   "source": [
    "## Build Dataset"
   ]
  },
  {
   "cell_type": "code",
   "execution_count": null,
   "id": "431f9df8",
   "metadata": {},
   "outputs": [],
   "source": [
    "seqLengths = [len(seq) for seq in sequences]\n",
    "maxLen = max(seqLengths)\n",
    "print(\"The max. length of the sequences is {}\".format(maxLen))"
   ]
  },
  {
   "cell_type": "code",
   "execution_count": null,
   "id": "e581e06c",
   "metadata": {},
   "outputs": [],
   "source": [
    "\n",
    "dfAll=pd.read_csv(os.path.join(DATA_PATH, \"Train/train_terms.tsv\"), sep='\\t')\n",
    "\n",
    "soEntries = dfAll.loc[dfAll[\"aspect\"]==SO]\n",
    "soEntryIds = soEntries[\"EntryID\"].unique()\n",
    "\n",
    "# print(len(seqEntries))\n",
    "print(soEntryIds)\n",
    "\n",
    "SoSequences = []\n",
    "for entry in soEntryIds:\n",
    "    SoSequences.append(sequences[ids.index(entry)])\n",
    "\n",
    "print(len(SoSequences))\n",
    "dfAll.set_index(\"EntryID\", inplace=True)"
   ]
  },
  {
   "cell_type": "code",
   "execution_count": null,
   "id": "44f722e8",
   "metadata": {},
   "outputs": [],
   "source": [
    "import warnings\n",
    "\n",
    "TRAIN_VAL_SPLIT = 0.7\n",
    "\n",
    "#Use numpy vectorize to speed up the mapping (hopefully)\n",
    "mapping = lambda x: aa_dict[x]\n",
    "vectMapping = np.vectorize(mapping)\n",
    "\n",
    "# Shuffle the data\n",
    "import random\n",
    "random.seed(516213)\n",
    "c = list(zip(sequences, ids))\n",
    "random.shuffle(c)\n",
    "sequencesShuffle, idsShuffle = zip(*c)\n",
    "\n",
    "#reduce data for now\n",
    "# sequencesShuffle = sequencesShuffle[0:10000]\n",
    "# idsShuffle = idsShuffle[0:10000]\n",
    "\n",
    "#Train Validation Split\n",
    "split = int(np.floor(len(sequencesShuffle)*TRAIN_VAL_SPLIT))\n",
    "print(split)\n",
    "trainSeq = sequencesShuffle[0:split]\n",
    "valSeq = sequencesShuffle[split+1:]\n",
    "trainIds = idsShuffle[0:split]\n",
    "valIds = idsShuffle[split+1:]\n",
    "\n",
    "\n",
    "def generator(padding=True):\n",
    "    for i,seq in enumerate(trainSeq):\n",
    "        entryId = trainIds[i]\n",
    "        \n",
    "        if entryId in soEntryIds:\n",
    "          labelData = df.loc[entryId]\n",
    "          # indices = labelData[\"termToken\"].to_numpy()\n",
    "          indices = labelData[\"term\"].to_numpy()\n",
    "        else:\n",
    "          indices=[]\n",
    "\n",
    "        with warnings.catch_warnings():\n",
    "            #supress the warnings for unknown classes\n",
    "            warnings.simplefilter(\"ignore\")\n",
    "            y = mlb.transform([indices])\n",
    "        \n",
    "        arr = np.array(seq)\n",
    "        mappedArr = vectMapping(arr)\n",
    "        if padding:\n",
    "            padWidth = maxLen - arr.size\n",
    "            mappedArr = np.pad(mappedArr, (0, padWidth))\n",
    "        yield mappedArr,y[0]\n",
    "\n",
    "def generatorVal(padding=True):\n",
    "    for i,seq in enumerate(valSeq):\n",
    "        entryId = valIds[i]\n",
    "        if entryId in soEntryIds:\n",
    "          labelData = df.loc[entryId]\n",
    "          # indices = labelData[\"termToken\"].to_numpy()\n",
    "          indices = labelData[\"term\"].to_numpy()\n",
    "        else:\n",
    "          indices=[]\n",
    "\n",
    "        with warnings.catch_warnings():\n",
    "            #supress the warnings for unknown classes\n",
    "            warnings.simplefilter(\"ignore\")\n",
    "            y = mlb.transform([indices])\n",
    "        \n",
    "        arr = np.array(seq)\n",
    "        mappedArr = vectMapping(arr)\n",
    "        if padding:\n",
    "            padWidth = maxLen - arr.size\n",
    "            mappedArr = np.pad(mappedArr, (0, padWidth))\n",
    "        yield mappedArr,y[0]\n",
    "        "
   ]
  },
  {
   "cell_type": "code",
   "execution_count": null,
   "id": "bd15e8fd",
   "metadata": {},
   "outputs": [],
   "source": [
    "g = generator()\n",
    "test = next(g)\n",
    "print(\"The first sample sequence: {}\".format(test[0]))\n",
    "print(\"The first sample has {} classes\".format(np.count_nonzero(test[1])))"
   ]
  },
  {
   "attachments": {},
   "cell_type": "markdown",
   "id": "10c4a51a",
   "metadata": {},
   "source": [
    "## Tensorflow Classification"
   ]
  },
  {
   "cell_type": "code",
   "execution_count": null,
   "id": "63f0d2e0",
   "metadata": {},
   "outputs": [],
   "source": [
    "import tensorflow as tf\n",
    "\n",
    "\n",
    "dataset = tf.data.Dataset.from_generator(generator, output_signature=(\n",
    "         tf.TensorSpec(shape=(maxLen,), dtype=tf.int32),\n",
    "         tf.TensorSpec(shape=(len(mlb.classes_),), dtype=tf.int32)))\n",
    "print(list(dataset.take(1)))\n",
    "\n",
    "datasetVal = tf.data.Dataset.from_generator(generatorVal, output_signature=(\n",
    "         tf.TensorSpec(shape=(None,), dtype=tf.int32),\n",
    "         tf.TensorSpec(shape=(len(mlb.classes_),), dtype=tf.int32)))"
   ]
  },
  {
   "cell_type": "code",
   "execution_count": null,
   "id": "f0a554f0",
   "metadata": {},
   "outputs": [],
   "source": [
    "%load_ext tensorboard\n"
   ]
  },
  {
   "cell_type": "code",
   "execution_count": null,
   "id": "98752d7e",
   "metadata": {},
   "outputs": [],
   "source": [
    "from tensorflow.keras import layers\n",
    "\n",
    "VOCAB_SIZE=len(aa_dict)\n",
    "EMBED_DIM=100\n",
    "\n",
    "def createModel():\n",
    "    inputs = tf.keras.Input(shape=(maxLen,))\n",
    "    x=layers.Embedding(VOCAB_SIZE, EMBED_DIM, mask_zero=True, name=\"embedding\")(inputs)\n",
    "    x=layers.GlobalAveragePooling1D()(x)\n",
    "    x=layers.Reshape((EMBED_DIM,1))(x)\n",
    "    x=layers.Conv1D(8, 7)(x)\n",
    "    x=layers.Conv1D(8, 7)(x)\n",
    "    x=layers.Conv1D(8, 7)(x)\n",
    "    x=layers.Conv1D(16, 7)(x)\n",
    "    x=layers.Conv1D(16, 7)(x)\n",
    "    x=layers.Conv1D(16, 7, strides=2)(x)\n",
    "    x=layers.Conv1D(16, 7, strides=2)(x)\n",
    "    # x=layers.Conv1D(32, 5, activation=tf.keras.activations.relu)(x)\n",
    "    # x=layers.Conv1D(32, 5, activation=tf.keras.activations.relu)(x)\n",
    "    # x=layers.Conv1D(32, 5, activation=tf.keras.activations.relu)(x)\n",
    "    x=layers.Flatten()(x)\n",
    "    x=layers.Dense(32)(x)\n",
    "    x=layers.LeakyReLU()(x)\n",
    "    x=layers.Dense(32)(x)\n",
    "    x=layers.LeakyReLU()(x)\n",
    "    outputs=layers.Dense(len(mlb.classes_), activation=tf.keras.activations.sigmoid)(x)\n",
    "    # outputs=layers.Softmax()(x)\n",
    "\n",
    "    return tf.keras.Model(inputs=inputs, outputs=outputs, name=\"embedConvModel\")\n",
    "\n",
    "model = createModel()\n",
    "\n",
    "model.summary()\n"
   ]
  },
  {
   "cell_type": "code",
   "execution_count": null,
   "id": "73140569",
   "metadata": {},
   "outputs": [],
   "source": [
    "\n",
    "VOCAB_SIZE=len(aa_dict)\n",
    "EMBED_DIM=100\n",
    "\n",
    "def createRnnModel():\n",
    "    inputs = tf.keras.Input(shape=(maxLen,))\n",
    "    x = tf.keras.layers.Masking(0)(inputs)\n",
    "    x=layers.Embedding(VOCAB_SIZE, EMBED_DIM, name=\"embedding\")(x)\n",
    "\n",
    "    # x = layers.Bidirectional(layers.LSTM(32, return_sequences=True))(x)\n",
    "    # x = layers.Bidirectional(layers.GRU(16, return_sequences=True))(x)\n",
    "    x = layers.Bidirectional(layers.GRU(16))(x)\n",
    "    # x = layers.LSTM(32)(x)\n",
    "    x = layers.Dense(16)(x)\n",
    "    x = layers.LeakyReLU()(x)\n",
    "    outputs=layers.Dense(len(mlb.classes_), activation=tf.keras.activations.sigmoid)(x)\n",
    "    # outputs=layers.Softmax()(x)\n",
    "\n",
    "    return tf.keras.Model(inputs=inputs, outputs=outputs, name=\"embedRnnModel\")\n",
    "\n",
    "# model = createRnnModel()\n",
    "\n",
    "# model.summary()"
   ]
  },
  {
   "cell_type": "code",
   "execution_count": null,
   "id": "5a3ddc20",
   "metadata": {},
   "outputs": [],
   "source": [
    "import matplotlib.pyplot as plt\n",
    "#Learning rate schedule\n",
    "initial_learning_rate = 0.01\n",
    "decaySteps=5000\n",
    "lr_schedule = tf.keras.optimizers.schedules.CosineDecayRestarts(initial_learning_rate, first_decay_steps=decaySteps/4,\n",
    "                                                                t_mul=2.0, m_mul=0.7, alpha=0.001)\n",
    "# lr_schedule = tf.keras.optimizers.schedules.CosineDecay(\n",
    "#     initial_learning_rate, decay_steps=decaySteps, alpha=0.01)\n",
    "# lr_schedule = tf.keras.optimizers.schedules.ExponentialDecay(\n",
    "#     initial_learning_rate,decay_steps=decaySteps,decay_rate=0.9,staircase=False)\n",
    "step = np.linspace(0,decaySteps)\n",
    "lr = lr_schedule(step)\n",
    "plt.figure(figsize = (8,6))\n",
    "# plt.yscale(\"log\")\n",
    "plt.plot(step, lr)\n",
    "plt.ylim([0,max(plt.ylim())])\n",
    "plt.xlabel('step')\n",
    "_ = plt.ylabel('Learning Rate')"
   ]
  },
  {
   "cell_type": "code",
   "execution_count": null,
   "id": "c4760b66",
   "metadata": {},
   "outputs": [],
   "source": [
    "from tensorflow.keras.losses import Loss\n",
    "\n",
    "class WeightedBinaryCE(Loss):\n",
    "    # initialize instance attributes\n",
    "    def __init__(self, classWeights):\n",
    "        super(WeightedBinaryCE, self).__init__()\n",
    "        self.classWeights= tf.constant(classWeights, dtype=tf.dtypes.float32)\n",
    "        \n",
    "    # Compute loss\n",
    "    def call(self, y_true, y_pred):\n",
    "        y_true = tf.cast(y_true, tf.float32)\n",
    "        y_pred = tf.cast(y_pred, tf.float32)\n",
    "        y_pred = tf.clip_by_value(y_pred,tf.keras.backend.epsilon(), 1 - tf.keras.backend.epsilon())\n",
    "        term_0 = tf.math.multiply(self.classWeights * tf.math.subtract(1.0 , y_true), tf.math.log(tf.math.subtract(1.0, y_pred) + tf.keras.backend.epsilon()))\n",
    "        term_1 = tf.math.multiply(self.classWeights * y_true, tf.math.log(y_pred + tf.keras.backend.epsilon()))\n",
    "        losses = term_0 + term_1\n",
    "        return -tf.reduce_mean(losses, axis=0)\n",
    "    \n",
    "\n",
    "testLoss = WeightedBinaryCE([1,1,0.5])\n",
    "labelsTrue = tf.constant([[1,0,1], [1,1,0]])\n",
    "labelsPred = tf.constant([[0.9,0.1,0.9], [0.99,0.1,0.1]])\n",
    "\n",
    "testLoss(labelsTrue, labelsPred)"
   ]
  },
  {
   "cell_type": "code",
   "execution_count": null,
   "id": "e7880ac9",
   "metadata": {},
   "outputs": [],
   "source": [
    "\n",
    "\n",
    "class WeightedF1(tf.keras.metrics.Metric):\n",
    "    def __init__(self, classWeights, threshold=0.5):\n",
    "        super(WeightedF1, self).__init__()\n",
    "        self.classWeights= tf.constant(classWeights, dtype=tf.dtypes.float32)\n",
    "        self.threshold= tf.constant(threshold, dtype=tf.dtypes.float32)\n",
    "        self.f1 = self.add_weight(name='f1', initializer='zeros')\n",
    "        self.total = self.add_weight('total', initializer='zeros')\n",
    "\n",
    "    def update_state(self, y_true, y_pred):\n",
    "        m = tf.math.count_nonzero(tf.reduce_min(y_pred, axis=1))\n",
    "        n = tf.shape(y_pred)[0]\n",
    "        y_true = tf.cast(y_true, tf.bool)\n",
    "        y_pred = tf.math.greater_equal(y_pred,self.threshold)\n",
    "   \n",
    "\n",
    "        tp = tf.math.logical_and(tf.equal(y_true, True), tf.equal(y_pred, True))\n",
    "        tp = tf.cast(tp, self.dtype)\n",
    "        tp = tf.math.multiply(tp, self.classWeights)\n",
    "        tp = tf.cast(tp, self.dtype)\n",
    "\n",
    "        tn = tf.math.logical_and(tf.equal(y_true, False), tf.equal(y_pred, False))\n",
    "        tn = tf.cast(tn, self.dtype)\n",
    "        tn = tf.math.multiply(tn, self.classWeights)\n",
    "        tn = tf.cast(tn, self.dtype)\n",
    "\n",
    "        fp = tf.math.logical_and(tf.equal(y_true, True), tf.equal(y_pred, False))\n",
    "        fp = tf.cast(fp, self.dtype)\n",
    "        fp = tf.math.multiply(fp, self.classWeights)\n",
    "        fp = tf.cast(fp, self.dtype)\n",
    "\n",
    "        fn = tf.math.logical_and(tf.equal(y_true, False), tf.equal(y_pred, True))\n",
    "        fn = tf.cast(fn, self.dtype)\n",
    "        fn = tf.math.multiply(fn, self.classWeights)\n",
    "        fn = tf.cast(fn, self.dtype)\n",
    "\n",
    "        pr = tf.math.divide(tf.math.reduce_sum(tp, axis=1),tf.math.reduce_sum(tp+fp+tf.keras.backend.epsilon(), axis=1))\n",
    "        m = tf.cast(m, pr.dtype)\n",
    "        if(m>0):\n",
    "            wPr = tf.math.reduce_sum(pr)/m\n",
    "        else:\n",
    "            wPr = tf.constant(0, tf.dtypes.float32)\n",
    "\n",
    "        re = tf.math.divide(tf.math.reduce_sum(tp, axis=1),tf.math.reduce_sum(tp+fn+tf.keras.backend.epsilon(), axis=1))\n",
    "        n = tf.cast(n, re.dtype)\n",
    "        wRe = tf.math.reduce_sum(re)/n\n",
    "\n",
    "        res = tf.math.divide(2*wPr*wRe, wPr + wRe + tf.keras.backend.epsilon())\n",
    "\n",
    "        self.f1.assign_add(res)\n",
    "        self.total.assign_add(1)\n",
    "\n",
    "    def result(self):\n",
    "        return tf.math.divide(self.f1, self.total)\n",
    "\n",
    "testM = WeightedF1(classWeights=[1,1,2])\n",
    "labelsTrue = tf.constant([[1,0,1], [1,1,0]])\n",
    "labelsPred = tf.constant([[0.8,0.1,0.9], [0.9,0.9,0.6]])\n",
    "\n",
    "testM.update_state(labelsTrue, labelsPred)\n",
    "testM.result()"
   ]
  },
  {
   "cell_type": "code",
   "execution_count": null,
   "id": "9113c4a7",
   "metadata": {},
   "outputs": [],
   "source": [
    "import tensorflow_addons as tfa\n",
    "\n",
    "BATCH_SIZE=32\n",
    "LOG_INTERVAL=10\n",
    "epochs = 10\n",
    "saveModel=False\n",
    "\n",
    "\n",
    "print(\"Num GPUs Available: \", len(tf.config.list_physical_devices('GPU')))\n",
    "\n",
    "log_dir = \"./logs/\"+model.name+\"/\" + datetime.datetime.now().strftime(\"%Y%m%d-%H%M%S\")+\"_\"+SO\n",
    "tensorboard_callback = tf.keras.callbacks.TensorBoard(log_dir=log_dir, histogram_freq=1,\n",
    "                                                      write_graph=True, update_freq=5)\n",
    "\n",
    "\n",
    "summary_writer = tf.summary.create_file_writer(log_dir)\n",
    "\n",
    "# Instantiate an optimizer .\n",
    "# optimizer = tf.keras.optimizers.SGD(learning_rate=lr_schedule)\n",
    "# optimizer = tf.keras.optimizers.SGD(learning_rate=1e-3)\n",
    "optimizer = tf.keras.optimizers.AdamW(learning_rate=lr_schedule)\n",
    "\n",
    "# Instantiate a loss function.\n",
    "# loss_fn = tf.keras.losses.BinaryCrossentropy()\n",
    "loss_fn = WeightedBinaryCE(labelWeights)\n",
    "\n",
    "train_acc_metric = tf.keras.metrics.BinaryAccuracy()\n",
    "train_f1_metric = WeightedF1(classWeights=labelWeights, threshold=0.5)\n",
    "# train_f1_metric = tfa.metrics.F1Score(num_classes=len(mlb.classes_), threshold=0.5, average=\"macro\")\n",
    "val_acc_metric = tf.keras.metrics.BinaryAccuracy()\n",
    "val_f1_metric = WeightedF1(classWeights=labelWeights, threshold=0.5)\n",
    "# val_f1_metric = tfa.metrics.F1Score(num_classes=len(mlb.classes_), threshold=0.5, average=\"macro\")\n",
    "\n",
    "batchedDataset = dataset.batch(BATCH_SIZE, drop_remainder=False)\n",
    "batchedDatasetVal = datasetVal.batch(BATCH_SIZE, drop_remainder=False)\n",
    "\n",
    "batchedDataset = batchedDataset.cache(os.path.join(DATA_PATH, \"datasetCache\"+SO))\n",
    "batchedDatasetVal = batchedDatasetVal.cache(os.path.join(DATA_PATH, \"datasetCacheVal\"+SO))\n",
    "\n",
    "@tf.function()\n",
    "def trainStep(x_batch_train, y_batch_train):\n",
    "    # Open a GradientTape to record the operations run\n",
    "    # during the forward pass, which enables auto-differentiation.\n",
    "    with tf.GradientTape() as tape:\n",
    "\n",
    "        # Run the forward pass of the layer.\n",
    "        # The operations that the layer applies\n",
    "        # to its inputs are going to be recorded\n",
    "        # on the GradientTape.\n",
    "        probs = model(x_batch_train, training=True) \n",
    "\n",
    "        # Compute the loss value for this minibatch.\n",
    "        loss_value = loss_fn(y_batch_train, probs)\n",
    "\n",
    "    # Use the gradient tape to automatically retrieve\n",
    "    # the gradients of the trainable variables with respect to the loss.\n",
    "    grads = tape.gradient(loss_value, model.trainable_weights)\n",
    "    #Gradient clipping\n",
    "    # grads = [tf.clip_by_norm(g, 2.0) for g in grads]\n",
    "\n",
    "    # Run one step of gradient descent by updating\n",
    "    # the value of the variables to minimize the loss.\n",
    "    optimizer.apply_gradients(zip(grads, model.trainable_weights))\n",
    "\n",
    "    train_acc_metric.update_state(y_batch_train, probs)\n",
    "    train_f1_metric.update_state(y_batch_train, probs)\n",
    "    return loss_value, grads\n",
    "\n",
    "maxStep=0\n",
    "\n",
    "for epoch in range(epochs):\n",
    "    print(\"\\nStart of epoch %d\" % (epoch+1,))\n",
    "\n",
    "    # Iterate over the batches of the dataset.\n",
    "    for step, (x_batch_train, y_batch_train) in enumerate(batchedDataset):\n",
    "\n",
    "        loss_value, grads=trainStep(x_batch_train,y_batch_train)\n",
    "\n",
    "        # Log \n",
    "        if step % LOG_INTERVAL == 0:\n",
    "            template = 'Epoch {}/Step {}, Loss: {:.5f}, Accuracy: {:.5f}, F1: {:.4f}, lr: {:.5f}'\n",
    "            print (template.format(epoch+1, step,loss_value, \n",
    "                                    train_acc_metric.result(),train_f1_metric.result(), optimizer.learning_rate.numpy()))\n",
    "            # print([tf.norm(grad, ord=2).numpy() for grad in grads])\n",
    "            with summary_writer.as_default():\n",
    "                tf.summary.scalar('loss', loss_value, step=maxStep*epoch+step)\n",
    "                tf.summary.scalar('accuracy', train_acc_metric.result(), step=maxStep*epoch+step)\n",
    "                tf.summary.scalar('f1', train_f1_metric.result(), step=maxStep*epoch+step)\n",
    "                tf.summary.scalar('learning rate', optimizer.learning_rate.numpy(), step=maxStep*epoch+step)\n",
    "                summary_writer.flush()\n",
    "\n",
    "    \n",
    "    train_acc_metric.reset_states()\n",
    "    train_f1_metric.reset_states()\n",
    "\n",
    "    maxStep=step\n",
    "\n",
    "    print(\"Epoch finished. Start validation\")\n",
    "    for x_batch_val, y_batch_val in batchedDatasetVal:\n",
    "        valProbs = model(x_batch_val, training=False)\n",
    "        # Update val metrics\n",
    "        val_acc_metric.update_state(y_batch_val, valProbs)\n",
    "        val_f1_metric.update_state(y_batch_val, valProbs)\n",
    "    val_acc = val_acc_metric.result()\n",
    "    val_acc_metric.reset_states()\n",
    "    val_f1 = val_f1_metric.result()\n",
    "    val_f1_metric.reset_states()\n",
    "    print(\"Validation acc: %.4f\" % (float(val_acc),))\n",
    "    print(\"Validation f1: %.4f\" % (float(val_f1),))\n",
    "    with summary_writer.as_default():\n",
    "        tf.summary.scalar('valAcc', float(val_acc), step=epoch)\n",
    "        tf.summary.scalar('valF1', float(val_f1), step=epoch)\n",
    "        summary_writer.flush()\n",
    "    if saveModel:\n",
    "      model.save(os.path.join(DATA_PATH, \"model_\"+SO+\"_epoch_{}_valAcc{:.3f}\".format(epoch, float(val_acc))))"
   ]
  },
  {
   "cell_type": "code",
   "execution_count": null,
   "id": "374f7234",
   "metadata": {},
   "outputs": [],
   "source": [
    "# for layer in model.layers: print(layer.get_config(), layer.get_weights())"
   ]
  },
  {
   "cell_type": "code",
   "execution_count": null,
   "id": "cefc1f6a",
   "metadata": {},
   "outputs": [],
   "source": [
    "\n",
    "probs= model.predict(tf.expand_dims(list(datasetVal.take(32))[10][0], 0))\n",
    "prediction= [1 if p > 0.5 else 0 for p in probs[0]]\n",
    "probabilities= probs[probs>0.5]\n",
    "# classes = np.argwhere(prediction)\n",
    "print(mlb.inverse_transform(np.array([prediction])))\n",
    "print(probabilities)"
   ]
  }
 ],
 "metadata": {
  "kernelspec": {
   "display_name": "Python 3 (ipykernel)",
   "language": "python",
   "name": "python3"
  },
  "language_info": {
   "codemirror_mode": {
    "name": "ipython",
    "version": 3
   },
   "file_extension": ".py",
   "mimetype": "text/x-python",
   "name": "python",
   "nbconvert_exporter": "python",
   "pygments_lexer": "ipython3",
   "version": "3.9.16"
  }
 },
 "nbformat": 4,
 "nbformat_minor": 5
}
