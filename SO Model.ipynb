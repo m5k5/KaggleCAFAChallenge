{
 "cells": [
  {
   "cell_type": "code",
   "execution_count": 1,
   "id": "9c1d77e7",
   "metadata": {},
   "outputs": [
    {
     "name": "stderr",
     "output_type": "stream",
     "text": [
      "2023-08-21 14:38:57.039758: I tensorflow/core/platform/cpu_feature_guard.cc:182] This TensorFlow binary is optimized to use available CPU instructions in performance-critical operations.\n",
      "To enable the following instructions: AVX2 FMA, in other operations, rebuild TensorFlow with the appropriate compiler flags.\n",
      "2023-08-21 14:38:57.640753: W tensorflow/compiler/tf2tensorrt/utils/py_utils.cc:38] TF-TRT Warning: Could not find TensorRT\n"
     ]
    },
    {
     "name": "stdout",
     "output_type": "stream",
     "text": [
      "Num GPUs Available:  1\n",
      "/mnt/e/ML/cafa-5-protein-function-prediction\n"
     ]
    },
    {
     "name": "stderr",
     "output_type": "stream",
     "text": [
      "2023-08-21 14:38:58.405980: I tensorflow/compiler/xla/stream_executor/cuda/cuda_gpu_executor.cc:981] could not open file to read NUMA node: /sys/bus/pci/devices/0000:2b:00.0/numa_node\n",
      "Your kernel may have been built without NUMA support.\n",
      "2023-08-21 14:38:58.424960: I tensorflow/compiler/xla/stream_executor/cuda/cuda_gpu_executor.cc:981] could not open file to read NUMA node: /sys/bus/pci/devices/0000:2b:00.0/numa_node\n",
      "Your kernel may have been built without NUMA support.\n",
      "2023-08-21 14:38:58.425315: I tensorflow/compiler/xla/stream_executor/cuda/cuda_gpu_executor.cc:981] could not open file to read NUMA node: /sys/bus/pci/devices/0000:2b:00.0/numa_node\n",
      "Your kernel may have been built without NUMA support.\n"
     ]
    }
   ],
   "source": [
    "import os\n",
    "from dotenv import load_dotenv\n",
    "import numpy as np\n",
    "import tensorflow as tf\n",
    "import pandas as pd\n",
    "import datetime\n",
    "\n",
    "physical_devices = tf.config.list_physical_devices('GPU')\n",
    "print(\"Num GPUs Available: \", len(physical_devices))\n",
    "try:\n",
    "  tf.config.experimental.set_memory_growth(physical_devices[0], True)\n",
    "except:\n",
    "  # Invalid device or cannot modify virtual devices once initialized.\n",
    "  pass\n",
    "\n",
    "load_dotenv(override=True)\n",
    "\n",
    "DATA_PATH = os.getenv('DATA_PATH')\n",
    "print(DATA_PATH)\n",
    "\n",
    "# Choose subontology (CCO, MFO or BPO)\n",
    "SO = 'MFO'"
   ]
  },
  {
   "attachments": {},
   "cell_type": "markdown",
   "id": "e3544f8a",
   "metadata": {},
   "source": [
    "## Reading fasta, obo and tsv files"
   ]
  },
  {
   "cell_type": "code",
   "execution_count": 2,
   "id": "c8b515f2",
   "metadata": {},
   "outputs": [],
   "source": [
    "from Bio import SeqIO\n",
    "\n",
    "sequences = [rec.seq for rec in SeqIO.parse(os.path.join(DATA_PATH, \"Train/train_sequences.fasta\"),\"fasta\")]\n",
    "ids = [rec.id for rec in SeqIO.parse(os.path.join(DATA_PATH, \"Train/train_sequences.fasta\"),\"fasta\")]"
   ]
  },
  {
   "cell_type": "code",
   "execution_count": 3,
   "id": "e492f673",
   "metadata": {},
   "outputs": [
    {
     "name": "stdout",
     "output_type": "stream",
     "text": [
      "There are 142246 sequences in the dataset.\n"
     ]
    }
   ],
   "source": [
    "print(\"There are {} sequences in the dataset.\".format(len(sequences)))"
   ]
  },
  {
   "cell_type": "code",
   "execution_count": 4,
   "id": "2898414e",
   "metadata": {},
   "outputs": [],
   "source": [
    "import networkx\n",
    "import obonet\n",
    "\n",
    "# Read the taxrank ontology\n",
    "url = os.path.join(DATA_PATH, \"Train/go-basic.obo\")\n",
    "graph = obonet.read_obo(url)\n",
    "\n"
   ]
  },
  {
   "cell_type": "code",
   "execution_count": 5,
   "id": "9f4bf949",
   "metadata": {},
   "outputs": [
    {
     "name": "stdout",
     "output_type": "stream",
     "text": [
      "(670114, 3)\n"
     ]
    }
   ],
   "source": [
    "df = pd.read_csv(os.path.join(DATA_PATH, \"Train/train_terms.tsv\"), sep='\\t')\n",
    "\n",
    "dfSO = df.loc[df[\"aspect\"]==SO]\n",
    "uniqueTerms = dfSO[\"term\"].unique()\n",
    "termsArr = list(dfSO[\"term\"].to_numpy())\n",
    "\n",
    "uniqueTermsDict={}\n",
    "for i,el in enumerate(uniqueTerms):\n",
    "    uniqueTermsDict[el] = i\n",
    "    \n",
    "print(dfSO.shape)\n",
    "df=dfSO"
   ]
  },
  {
   "attachments": {},
   "cell_type": "markdown",
   "id": "29043526",
   "metadata": {},
   "source": [
    "Test for the first entry:"
   ]
  },
  {
   "cell_type": "code",
   "execution_count": 6,
   "id": "af3cf1b5",
   "metadata": {},
   "outputs": [
    {
     "data": {
      "text/html": [
       "<div>\n",
       "<style scoped>\n",
       "    .dataframe tbody tr th:only-of-type {\n",
       "        vertical-align: middle;\n",
       "    }\n",
       "\n",
       "    .dataframe tbody tr th {\n",
       "        vertical-align: top;\n",
       "    }\n",
       "\n",
       "    .dataframe thead th {\n",
       "        text-align: right;\n",
       "    }\n",
       "</style>\n",
       "<table border=\"1\" class=\"dataframe\">\n",
       "  <thead>\n",
       "    <tr style=\"text-align: right;\">\n",
       "      <th></th>\n",
       "      <th>term</th>\n",
       "      <th>aspect</th>\n",
       "    </tr>\n",
       "    <tr>\n",
       "      <th>EntryID</th>\n",
       "      <th></th>\n",
       "      <th></th>\n",
       "    </tr>\n",
       "  </thead>\n",
       "  <tbody>\n",
       "    <tr>\n",
       "      <th>A0A009IHW8</th>\n",
       "      <td>GO:0003674</td>\n",
       "      <td>MFO</td>\n",
       "    </tr>\n",
       "    <tr>\n",
       "      <th>A0A009IHW8</th>\n",
       "      <td>GO:0003953</td>\n",
       "      <td>MFO</td>\n",
       "    </tr>\n",
       "    <tr>\n",
       "      <th>A0A009IHW8</th>\n",
       "      <td>GO:0016787</td>\n",
       "      <td>MFO</td>\n",
       "    </tr>\n",
       "    <tr>\n",
       "      <th>A0A009IHW8</th>\n",
       "      <td>GO:0016799</td>\n",
       "      <td>MFO</td>\n",
       "    </tr>\n",
       "    <tr>\n",
       "      <th>A0A009IHW8</th>\n",
       "      <td>GO:0016798</td>\n",
       "      <td>MFO</td>\n",
       "    </tr>\n",
       "    <tr>\n",
       "      <th>A0A009IHW8</th>\n",
       "      <td>GO:0003824</td>\n",
       "      <td>MFO</td>\n",
       "    </tr>\n",
       "    <tr>\n",
       "      <th>A0A023FBW4</th>\n",
       "      <td>GO:0019956</td>\n",
       "      <td>MFO</td>\n",
       "    </tr>\n",
       "    <tr>\n",
       "      <th>A0A023FBW4</th>\n",
       "      <td>GO:0005488</td>\n",
       "      <td>MFO</td>\n",
       "    </tr>\n",
       "    <tr>\n",
       "      <th>A0A023FBW4</th>\n",
       "      <td>GO:0003674</td>\n",
       "      <td>MFO</td>\n",
       "    </tr>\n",
       "    <tr>\n",
       "      <th>A0A023FBW4</th>\n",
       "      <td>GO:0019955</td>\n",
       "      <td>MFO</td>\n",
       "    </tr>\n",
       "  </tbody>\n",
       "</table>\n",
       "</div>"
      ],
      "text/plain": [
       "                  term aspect\n",
       "EntryID                      \n",
       "A0A009IHW8  GO:0003674    MFO\n",
       "A0A009IHW8  GO:0003953    MFO\n",
       "A0A009IHW8  GO:0016787    MFO\n",
       "A0A009IHW8  GO:0016799    MFO\n",
       "A0A009IHW8  GO:0016798    MFO\n",
       "A0A009IHW8  GO:0003824    MFO\n",
       "A0A023FBW4  GO:0019956    MFO\n",
       "A0A023FBW4  GO:0005488    MFO\n",
       "A0A023FBW4  GO:0003674    MFO\n",
       "A0A023FBW4  GO:0019955    MFO"
      ]
     },
     "execution_count": 6,
     "metadata": {},
     "output_type": "execute_result"
    }
   ],
   "source": [
    "df.set_index(\"EntryID\", inplace=True)\n",
    "df.head(10)"
   ]
  },
  {
   "cell_type": "code",
   "execution_count": 7,
   "id": "e4dec705",
   "metadata": {},
   "outputs": [],
   "source": [
    "testID = df.index.to_list()[0]"
   ]
  },
  {
   "cell_type": "code",
   "execution_count": 8,
   "id": "c5777789",
   "metadata": {},
   "outputs": [
    {
     "name": "stdout",
     "output_type": "stream",
     "text": [
      "20.9 µs ± 805 ns per loop (mean ± std. dev. of 7 runs, 10,000 loops each)\n"
     ]
    }
   ],
   "source": [
    "%timeit df.loc[testID]"
   ]
  },
  {
   "cell_type": "code",
   "execution_count": 9,
   "id": "3cb2bccb",
   "metadata": {},
   "outputs": [
    {
     "data": {
      "text/html": [
       "<div>\n",
       "<style scoped>\n",
       "    .dataframe tbody tr th:only-of-type {\n",
       "        vertical-align: middle;\n",
       "    }\n",
       "\n",
       "    .dataframe tbody tr th {\n",
       "        vertical-align: top;\n",
       "    }\n",
       "\n",
       "    .dataframe thead th {\n",
       "        text-align: right;\n",
       "    }\n",
       "</style>\n",
       "<table border=\"1\" class=\"dataframe\">\n",
       "  <thead>\n",
       "    <tr style=\"text-align: right;\">\n",
       "      <th></th>\n",
       "      <th>term</th>\n",
       "      <th>aspect</th>\n",
       "    </tr>\n",
       "    <tr>\n",
       "      <th>EntryID</th>\n",
       "      <th></th>\n",
       "      <th></th>\n",
       "    </tr>\n",
       "  </thead>\n",
       "  <tbody>\n",
       "    <tr>\n",
       "      <th>A0A009IHW8</th>\n",
       "      <td>GO:0003674</td>\n",
       "      <td>MFO</td>\n",
       "    </tr>\n",
       "    <tr>\n",
       "      <th>A0A009IHW8</th>\n",
       "      <td>GO:0003953</td>\n",
       "      <td>MFO</td>\n",
       "    </tr>\n",
       "    <tr>\n",
       "      <th>A0A009IHW8</th>\n",
       "      <td>GO:0016787</td>\n",
       "      <td>MFO</td>\n",
       "    </tr>\n",
       "    <tr>\n",
       "      <th>A0A009IHW8</th>\n",
       "      <td>GO:0016799</td>\n",
       "      <td>MFO</td>\n",
       "    </tr>\n",
       "    <tr>\n",
       "      <th>A0A009IHW8</th>\n",
       "      <td>GO:0016798</td>\n",
       "      <td>MFO</td>\n",
       "    </tr>\n",
       "    <tr>\n",
       "      <th>A0A009IHW8</th>\n",
       "      <td>GO:0003824</td>\n",
       "      <td>MFO</td>\n",
       "    </tr>\n",
       "  </tbody>\n",
       "</table>\n",
       "</div>"
      ],
      "text/plain": [
       "                  term aspect\n",
       "EntryID                      \n",
       "A0A009IHW8  GO:0003674    MFO\n",
       "A0A009IHW8  GO:0003953    MFO\n",
       "A0A009IHW8  GO:0016787    MFO\n",
       "A0A009IHW8  GO:0016799    MFO\n",
       "A0A009IHW8  GO:0016798    MFO\n",
       "A0A009IHW8  GO:0003824    MFO"
      ]
     },
     "execution_count": 9,
     "metadata": {},
     "output_type": "execute_result"
    }
   ],
   "source": [
    "df.loc[testID]"
   ]
  },
  {
   "cell_type": "code",
   "execution_count": 10,
   "id": "184631e1",
   "metadata": {},
   "outputs": [
    {
     "data": {
      "text/plain": [
       "array(['MFO'], dtype=object)"
      ]
     },
     "execution_count": 10,
     "metadata": {},
     "output_type": "execute_result"
    }
   ],
   "source": [
    "np.unique(df[\"aspect\"].to_numpy())"
   ]
  },
  {
   "attachments": {},
   "cell_type": "markdown",
   "id": "5338b7f8",
   "metadata": {},
   "source": [
    "## GO analysis"
   ]
  },
  {
   "cell_type": "code",
   "execution_count": 11,
   "id": "1058ef1d",
   "metadata": {},
   "outputs": [
    {
     "name": "stdout",
     "output_type": "stream",
     "text": [
      "GO:0003674    78637\n",
      "GO:0005488    57380\n",
      "GO:0005515    47987\n",
      "GO:0003824    25324\n",
      "GO:0097159    12889\n",
      "GO:1901363    12694\n",
      "GO:0003676    10236\n",
      "GO:0016740     9868\n",
      "GO:0016787     7887\n",
      "GO:0140096     7099\n",
      "GO:0003677     6249\n",
      "GO:0042802     5630\n",
      "GO:0043167     5408\n",
      "GO:0005215     4754\n",
      "GO:0016491     4571\n",
      "GO:0022857     4499\n",
      "GO:0043565     4452\n",
      "GO:0003723     4189\n",
      "GO:0016772     4134\n",
      "GO:0019899     3895\n",
      "Name: term, dtype: int64\n"
     ]
    }
   ],
   "source": [
    "item_counts = df[\"term\"].value_counts()\n",
    "print(item_counts[0:20])"
   ]
  },
  {
   "cell_type": "code",
   "execution_count": 12,
   "id": "eb35584f",
   "metadata": {},
   "outputs": [
    {
     "name": "stdout",
     "output_type": "stream",
     "text": [
      "nuclear lumen\n"
     ]
    }
   ],
   "source": [
    "id_to_name = {id_: data.get('name') for id_, data in graph.nodes(data=True)}\n",
    "name_to_id = {data['name']: id_ for id_, data in graph.nodes(data=True) if 'name' in data}\n",
    "print(id_to_name['GO:0031981'] )"
   ]
  },
  {
   "attachments": {},
   "cell_type": "markdown",
   "id": "3c099fc2",
   "metadata": {},
   "source": [
    "## Label encoding"
   ]
  },
  {
   "attachments": {},
   "cell_type": "markdown",
   "id": "cae9a3b0",
   "metadata": {},
   "source": [
    "The task is a multilabel classification: The output has several possible targets (Gene Ontologies) but each can only be 1 (existing) or 0 (non existing)"
   ]
  },
  {
   "attachments": {},
   "cell_type": "markdown",
   "id": "c8e63ed9",
   "metadata": {},
   "source": [
    "Extract label weights from IA"
   ]
  },
  {
   "cell_type": "code",
   "execution_count": 13,
   "id": "c7e3c316",
   "metadata": {},
   "outputs": [],
   "source": [
    "dfIa = pd.read_csv(os.path.join(DATA_PATH, \"IA.txt\"), sep='\\t', header=None)\n",
    "\n",
    "dfIa.set_index(0, inplace=True)\n",
    "\n",
    "labelWeights=[]\n",
    "allIndices = dfIa.index.tolist()\n",
    "\n",
    "\n",
    "for go in item_counts.index.to_list():\n",
    "    if go in allIndices:\n",
    "        labelWeights.append(dfIa.loc[go].to_numpy()[0])\n",
    "    else:\n",
    "        labelWeights.append(1)"
   ]
  },
  {
   "cell_type": "code",
   "execution_count": 14,
   "id": "ff2a6f2a",
   "metadata": {},
   "outputs": [
    {
     "data": {
      "text/plain": [
       "7224"
      ]
     },
     "execution_count": 14,
     "metadata": {},
     "output_type": "execute_result"
    }
   ],
   "source": [
    "len(labelWeights)"
   ]
  },
  {
   "cell_type": "code",
   "execution_count": 15,
   "id": "99f6a6ca",
   "metadata": {},
   "outputs": [
    {
     "name": "stdout",
     "output_type": "stream",
     "text": [
      "['GO:0003674' 'GO:0003953' 'GO:0016787' 'GO:0016799' 'GO:0016798'\n",
      " 'GO:0003824']\n",
      "[[0 0 0 ... 0 0 0]]\n",
      "7224\n"
     ]
    }
   ],
   "source": [
    "from sklearn.preprocessing import MultiLabelBinarizer\n",
    "import pickle\n",
    "\n",
    "topGOs= item_counts\n",
    "topGOs=topGOs.index.to_list()\n",
    "\n",
    "mlb = MultiLabelBinarizer()\n",
    "mlb.fit([topGOs])\n",
    "\n",
    "dftest=df.loc[testID]\n",
    "indices = dftest[\"term\"].to_numpy()\n",
    "print(indices)\n",
    "print(mlb.transform([indices]))\n",
    "print(len(mlb.classes_))\n",
    "\n",
    "with open(os.path.join(DATA_PATH,'MLB_'+SO+'.pkl'), 'wb') as f:\n",
    "    pickle.dump(mlb, f)"
   ]
  },
  {
   "cell_type": "code",
   "execution_count": 16,
   "id": "f483691e",
   "metadata": {},
   "outputs": [
    {
     "name": "stdout",
     "output_type": "stream",
     "text": [
      "Not found GOs: 0 (set to 0)\n"
     ]
    }
   ],
   "source": [
    "labelWeightsCorr=[]\n",
    "\n",
    "notFound=0\n",
    "for go in mlb.classes_:\n",
    "    if go in allIndices:\n",
    "        labelWeightsCorr.append(dfIa.loc[go].to_numpy()[0])\n",
    "    else:\n",
    "        notFound += 1\n",
    "        labelWeightsCorr.append(0)\n",
    "\n",
    "print(\"Not found GOs: {} (set to 0)\".format(notFound))\n",
    "labelWeightsCorr=np.array(labelWeightsCorr)"
   ]
  },
  {
   "attachments": {},
   "cell_type": "markdown",
   "id": "92019f8c",
   "metadata": {},
   "source": [
    "## Amino acids encoding"
   ]
  },
  {
   "cell_type": "code",
   "execution_count": 17,
   "id": "b747477d",
   "metadata": {},
   "outputs": [],
   "source": [
    "aminos_list = ['A', 'B', 'C', 'D', 'E', 'F', 'G', 'H', 'I', 'K', 'L', 'M', 'N', 'O', 'P', 'Q', 'R', 'S', 'T', 'U', 'V', 'W', 'Y', 'X']"
   ]
  },
  {
   "cell_type": "code",
   "execution_count": 18,
   "id": "6e42462e",
   "metadata": {},
   "outputs": [],
   "source": [
    "aa_dict = {'A': 1, 'B':24, 'C': 2, 'D': 3, 'E': 4, 'F': 5, 'G': 6, 'H': 7, 'I': 8, 'K': 9, 'L': 10, 'M': 11, 'N': 12, 'O': 21, 'P': 13, 'Q': 14, 'R': 15, 'S': 16, 'T': 17, 'U': 22, 'V': 18, 'W': 19, 'Y': 20, 'X':30, 'Z':23}"
   ]
  },
  {
   "attachments": {},
   "cell_type": "markdown",
   "id": "bfd823ba",
   "metadata": {},
   "source": [
    "## Build Dataset"
   ]
  },
  {
   "cell_type": "code",
   "execution_count": 19,
   "id": "431f9df8",
   "metadata": {},
   "outputs": [
    {
     "name": "stdout",
     "output_type": "stream",
     "text": [
      "The max. length of the sequences is 35375\n"
     ]
    }
   ],
   "source": [
    "seqLengths = [len(seq) for seq in sequences]\n",
    "maxLen = max(seqLengths)\n",
    "print(\"The max. length of the sequences is {}\".format(maxLen))"
   ]
  },
  {
   "cell_type": "code",
   "execution_count": 20,
   "id": "e581e06c",
   "metadata": {},
   "outputs": [
    {
     "name": "stdout",
     "output_type": "stream",
     "text": [
      "['A0A009IHW8' 'A0A023FBW4' 'A0A023FBW7' ... 'X5L1L5' 'X5L565' 'X5M5N0']\n",
      "78637\n"
     ]
    }
   ],
   "source": [
    "\n",
    "dfAll=pd.read_csv(os.path.join(DATA_PATH, \"Train/train_terms.tsv\"), sep='\\t')\n",
    "\n",
    "soEntries = dfAll.loc[dfAll[\"aspect\"]==SO]\n",
    "soEntryIds = soEntries[\"EntryID\"].unique()\n",
    "\n",
    "# print(len(seqEntries))\n",
    "print(soEntryIds)\n",
    "\n",
    "SoSequences = []\n",
    "for entry in soEntryIds:\n",
    "    SoSequences.append(sequences[ids.index(entry)])\n",
    "\n",
    "print(len(SoSequences))\n",
    "dfAll.set_index(\"EntryID\", inplace=True)"
   ]
  },
  {
   "cell_type": "code",
   "execution_count": 21,
   "id": "44f722e8",
   "metadata": {},
   "outputs": [
    {
     "name": "stdout",
     "output_type": "stream",
     "text": [
      "99572\n"
     ]
    }
   ],
   "source": [
    "import warnings\n",
    "\n",
    "TRAIN_VAL_SPLIT = 0.7\n",
    "TRUNCATE = 5000\n",
    "\n",
    "#Use numpy vectorize to speed up the mapping (hopefully)\n",
    "mapping = lambda x: aa_dict[x]\n",
    "vectMapping = np.vectorize(mapping)\n",
    "\n",
    "# Shuffle the data\n",
    "import random\n",
    "random.seed(516213)\n",
    "c = list(zip(sequences, ids))\n",
    "random.shuffle(c)\n",
    "sequencesShuffle, idsShuffle = zip(*c)\n",
    "\n",
    "#reduce data for now\n",
    "# sequencesShuffle = sequencesShuffle[0:10000]\n",
    "# idsShuffle = idsShuffle[0:10000]\n",
    "\n",
    "#Train Validation Split\n",
    "split = int(np.floor(len(sequencesShuffle)*TRAIN_VAL_SPLIT))\n",
    "print(split)\n",
    "trainSeq = sequencesShuffle[0:split]\n",
    "valSeq = sequencesShuffle[split+1:]\n",
    "trainIds = idsShuffle[0:split]\n",
    "valIds = idsShuffle[split+1:]\n",
    "\n",
    "\n",
    "def generator():\n",
    "    for i,seq in enumerate(trainSeq):\n",
    "        entryId = trainIds[i]\n",
    "        \n",
    "        if entryId in soEntryIds:\n",
    "          labelData = df.loc[entryId]\n",
    "          # indices = labelData[\"termToken\"].to_numpy()\n",
    "          indices = labelData[\"term\"].to_numpy()\n",
    "        else:\n",
    "          indices=[]\n",
    "\n",
    "        with warnings.catch_warnings():\n",
    "            #supress the warnings for unknown classes\n",
    "            warnings.simplefilter(\"ignore\")\n",
    "            y = mlb.transform([indices])\n",
    "        \n",
    "        arr = np.array(seq)\n",
    "        mappedArr = vectMapping(arr)\n",
    "        if arr.size>=TRUNCATE:\n",
    "          mappedArr=mappedArr[0:TRUNCATE]\n",
    "        else:\n",
    "            padWidth = TRUNCATE - arr.size\n",
    "            mappedArr = np.pad(mappedArr, (0, padWidth))\n",
    "        yield (mappedArr,y[0])\n",
    "\n",
    "def generatorVal():\n",
    "    for i,seq in enumerate(valSeq):\n",
    "        entryId = valIds[i]\n",
    "        if entryId in soEntryIds:\n",
    "          labelData = df.loc[entryId]\n",
    "          # indices = labelData[\"termToken\"].to_numpy()\n",
    "          indices = labelData[\"term\"].to_numpy()\n",
    "        else:\n",
    "          indices=[]\n",
    "\n",
    "        with warnings.catch_warnings():\n",
    "            #supress the warnings for unknown classes\n",
    "            warnings.simplefilter(\"ignore\")\n",
    "            y = mlb.transform([indices])\n",
    "        \n",
    "        arr = np.array(seq)\n",
    "        mappedArr = vectMapping(arr)\n",
    "        if arr.size>=TRUNCATE:\n",
    "          mappedArr=mappedArr[0:TRUNCATE]\n",
    "        else:\n",
    "            padWidth = TRUNCATE - arr.size\n",
    "            mappedArr = np.pad(mappedArr, (0, padWidth))\n",
    "        yield (mappedArr,y[0])\n",
    "        "
   ]
  },
  {
   "cell_type": "code",
   "execution_count": 22,
   "id": "bd15e8fd",
   "metadata": {},
   "outputs": [
    {
     "name": "stdout",
     "output_type": "stream",
     "text": [
      "The first sample: (array([11, 16,  3, ...,  0,  0,  0]), array([0, 0, 0, ..., 0, 0, 0]))\n",
      "The first sample has 7 classes\n"
     ]
    }
   ],
   "source": [
    "g = generator()\n",
    "test = next(g)\n",
    "print(\"The first sample: {}\".format(test))\n",
    "print(\"The first sample has {} classes\".format(np.count_nonzero(test[1])))"
   ]
  },
  {
   "attachments": {},
   "cell_type": "markdown",
   "id": "10c4a51a",
   "metadata": {},
   "source": [
    "## Tensorflow Classification"
   ]
  },
  {
   "cell_type": "code",
   "execution_count": 23,
   "id": "63f0d2e0",
   "metadata": {},
   "outputs": [
    {
     "name": "stdout",
     "output_type": "stream",
     "text": [
      "[(<tf.Tensor: shape=(5000,), dtype=int32, numpy=array([11, 16,  3, ...,  0,  0,  0], dtype=int32)>, <tf.Tensor: shape=(7224,), dtype=int32, numpy=array([0, 0, 0, ..., 0, 0, 0], dtype=int32)>)]\n"
     ]
    },
    {
     "name": "stderr",
     "output_type": "stream",
     "text": [
      "2023-08-21 14:40:00.057103: I tensorflow/compiler/xla/stream_executor/cuda/cuda_gpu_executor.cc:981] could not open file to read NUMA node: /sys/bus/pci/devices/0000:2b:00.0/numa_node\n",
      "Your kernel may have been built without NUMA support.\n",
      "2023-08-21 14:40:00.057686: I tensorflow/compiler/xla/stream_executor/cuda/cuda_gpu_executor.cc:981] could not open file to read NUMA node: /sys/bus/pci/devices/0000:2b:00.0/numa_node\n",
      "Your kernel may have been built without NUMA support.\n",
      "2023-08-21 14:40:00.058128: I tensorflow/compiler/xla/stream_executor/cuda/cuda_gpu_executor.cc:981] could not open file to read NUMA node: /sys/bus/pci/devices/0000:2b:00.0/numa_node\n",
      "Your kernel may have been built without NUMA support.\n",
      "2023-08-21 14:40:00.514605: I tensorflow/compiler/xla/stream_executor/cuda/cuda_gpu_executor.cc:981] could not open file to read NUMA node: /sys/bus/pci/devices/0000:2b:00.0/numa_node\n",
      "Your kernel may have been built without NUMA support.\n",
      "2023-08-21 14:40:00.514978: I tensorflow/compiler/xla/stream_executor/cuda/cuda_gpu_executor.cc:981] could not open file to read NUMA node: /sys/bus/pci/devices/0000:2b:00.0/numa_node\n",
      "Your kernel may have been built without NUMA support.\n",
      "2023-08-21 14:40:00.514991: I tensorflow/core/common_runtime/gpu/gpu_device.cc:1726] Could not identify NUMA node of platform GPU id 0, defaulting to 0.  Your kernel may not have been built with NUMA support.\n",
      "2023-08-21 14:40:00.515299: I tensorflow/compiler/xla/stream_executor/cuda/cuda_gpu_executor.cc:981] could not open file to read NUMA node: /sys/bus/pci/devices/0000:2b:00.0/numa_node\n",
      "Your kernel may have been built without NUMA support.\n",
      "2023-08-21 14:40:00.515332: I tensorflow/core/common_runtime/gpu/gpu_device.cc:1639] Created device /job:localhost/replica:0/task:0/device:GPU:0 with 6073 MB memory:  -> device: 0, name: NVIDIA GeForce GTX 1070, pci bus id: 0000:2b:00.0, compute capability: 6.1\n"
     ]
    }
   ],
   "source": [
    "import tensorflow as tf\n",
    "\n",
    "\n",
    "dataset = tf.data.Dataset.from_generator(generator, output_signature=(\n",
    "         tf.TensorSpec(shape=(TRUNCATE,), dtype=tf.int32),\n",
    "         tf.TensorSpec(shape=(len(mlb.classes_),), dtype=tf.int32)))\n",
    "print(list(dataset.take(1)))\n",
    "\n",
    "datasetVal = tf.data.Dataset.from_generator(generatorVal, output_signature=(\n",
    "         tf.TensorSpec(shape=(None,), dtype=tf.int32),\n",
    "         tf.TensorSpec(shape=(len(mlb.classes_),), dtype=tf.int32)))"
   ]
  },
  {
   "cell_type": "code",
   "execution_count": 24,
   "id": "f0a554f0",
   "metadata": {},
   "outputs": [],
   "source": [
    "%load_ext tensorboard\n"
   ]
  },
  {
   "cell_type": "code",
   "execution_count": 49,
   "id": "98752d7e",
   "metadata": {},
   "outputs": [
    {
     "name": "stdout",
     "output_type": "stream",
     "text": [
      "Model: \"embedConvModel\"\n",
      "_________________________________________________________________\n",
      " Layer (type)                Output Shape              Param #   \n",
      "=================================================================\n",
      " input_15 (InputLayer)       [(None, 5000)]            0         \n",
      "                                                                 \n",
      " embedding (Embedding)       (None, 5000, 100)         2500      \n",
      "                                                                 \n",
      " global_average_pooling1d_4  (None, 100)               0         \n",
      "  (GlobalAveragePooling1D)                                       \n",
      "                                                                 \n",
      " reshape_11 (Reshape)        (None, 100, 1)            0         \n",
      "                                                                 \n",
      " conv1d_60 (Conv1D)          (None, 94, 8)             64        \n",
      "                                                                 \n",
      " conv1d_61 (Conv1D)          (None, 88, 8)             456       \n",
      "                                                                 \n",
      " conv1d_62 (Conv1D)          (None, 41, 16)            912       \n",
      "                                                                 \n",
      " conv1d_63 (Conv1D)          (None, 35, 16)            1808      \n",
      "                                                                 \n",
      " conv1d_64 (Conv1D)          (None, 15, 32)            3616      \n",
      "                                                                 \n",
      " conv1d_65 (Conv1D)          (None, 9, 32)             7200      \n",
      "                                                                 \n",
      " flatten_9 (Flatten)         (None, 288)               0         \n",
      "                                                                 \n",
      " dense_27 (Dense)            (None, 16)                4624      \n",
      "                                                                 \n",
      " leaky_re_lu_18 (LeakyReLU)  (None, 16)                0         \n",
      "                                                                 \n",
      " dense_28 (Dense)            (None, 16)                272       \n",
      "                                                                 \n",
      " leaky_re_lu_19 (LeakyReLU)  (None, 16)                0         \n",
      "                                                                 \n",
      " dense_29 (Dense)            (None, 7224)              122808    \n",
      "                                                                 \n",
      "=================================================================\n",
      "Total params: 144260 (563.52 KB)\n",
      "Trainable params: 144260 (563.52 KB)\n",
      "Non-trainable params: 0 (0.00 Byte)\n",
      "_________________________________________________________________\n"
     ]
    },
    {
     "data": {
      "image/png": "[encoded data removed]",
      "text/plain": [
       "<IPython.core.display.Image object>"
      ]
     },
     "execution_count": 49,
     "metadata": {},
     "output_type": "execute_result"
    }
   ],
   "source": [
    "from tensorflow.keras import layers\n",
    "\n",
    "VOCAB_SIZE=len(aa_dict)\n",
    "EMBED_DIM=100\n",
    "\n",
    "def createModel():\n",
    "    inputs = tf.keras.Input(shape=(TRUNCATE,))\n",
    "    x=layers.Embedding(VOCAB_SIZE, EMBED_DIM, mask_zero=True, name=\"embedding\")(inputs)\n",
    "    x=layers.GlobalAveragePooling1D()(x)\n",
    "    x=layers.Reshape((EMBED_DIM,1))(x)\n",
    "    x=layers.Conv1D(8, 7, activation=tf.keras.activations.relu)(x)\n",
    "    x=layers.Conv1D(8, 7, activation=tf.keras.activations.relu)(x)\n",
    "    x=layers.Conv1D(16, 7, strides=2, activation=tf.keras.activations.relu)(x)\n",
    "    x=layers.Conv1D(16, 7, activation=tf.keras.activations.relu)(x)\n",
    "    x=layers.Conv1D(32, 7, activation=tf.keras.activations.relu, strides=2)(x)\n",
    "    x=layers.Conv1D(32, 7, activation=tf.keras.activations.relu)(x)\n",
    "    # x=layers.Conv1D(32, 5, activation=tf.keras.activations.relu)(x)\n",
    "    # x=layers.Conv1D(32, 5, activation=tf.keras.activations.relu)(x)\n",
    "    # x=layers.Conv1D(32, 5, activation=tf.keras.activations.relu)(x)\n",
    "    x=layers.Flatten()(x)\n",
    "    x=layers.Dense(16)(x)\n",
    "    x=layers.LeakyReLU()(x)\n",
    "    x=layers.Dense(16)(x)\n",
    "    x=layers.LeakyReLU()(x)\n",
    "    outputs=layers.Dense(len(mlb.classes_), activation=tf.keras.activations.sigmoid)(x)\n",
    "    # outputs=layers.Softmax()(x)\n",
    "\n",
    "    return tf.keras.Model(inputs=inputs, outputs=outputs, name=\"embedConvModel\")\n",
    "\n",
    "model = createModel()\n",
    "\n",
    "model.summary()\n",
    "\n",
    "dot_img_file = './'+model.name +'.png'\n",
    "tf.keras.utils.plot_model(model, to_file=dot_img_file, show_shapes=True)"
   ]
  },
  {
   "cell_type": "code",
   "execution_count": 35,
   "id": "73140569",
   "metadata": {},
   "outputs": [],
   "source": [
    "\n",
    "VOCAB_SIZE=len(aa_dict)\n",
    "EMBED_DIM=500\n",
    "OUT_SEQ_LENGTH=10\n",
    "\n",
    "def createRnnModel():\n",
    "    inputs = tf.keras.Input(shape=(TRUNCATE,))\n",
    "    # x = tf.keras.layers.Masking(0)(inputs)\n",
    "    x=layers.Embedding(VOCAB_SIZE, EMBED_DIM, mask_zero=True, name=\"embedding\")(inputs)\n",
    "\n",
    "    # x = layers.RepeatVector(OUT_SEQ_LENGTH)(x)\n",
    "\n",
    "    x = layers.Bidirectional(layers.LSTM(200, return_sequences=True))(x)\n",
    "    x = layers.Bidirectional(layers.LSTM(200))(x)\n",
    "    # x = layers.LSTM(64)(x)\n",
    "    x = layers.Dense(500)(x)\n",
    "    x = layers.LeakyReLU()(x)\n",
    "    x = layers.Dense(500)(x)\n",
    "    outputs=layers.Dense(len(mlb.classes_), activation=tf.keras.activations.sigmoid)(x)\n",
    "    # outputs=layers.Softmax()(x)\n",
    "\n",
    "    return tf.keras.Model(inputs=inputs, outputs=outputs, name=\"embedRnnModel\")\n",
    "\n",
    "# model = createRnnModel()\n",
    "\n",
    "# model.summary()"
   ]
  },
  {
   "cell_type": "code",
   "execution_count": 36,
   "id": "5a3ddc20",
   "metadata": {},
   "outputs": [],
   "source": [
    "import matplotlib.pyplot as plt\n",
    "#Learning rate schedule\n",
    "initial_learning_rate = 0.01\n",
    "decaySteps=5000\n",
    "lr_schedule = tf.keras.optimizers.schedules.CosineDecayRestarts(initial_learning_rate, first_decay_steps=decaySteps/4,\n",
    "                                                                t_mul=2.0, m_mul=0.7, alpha=0.001)\n",
    "# lr_schedule = tf.keras.optimizers.schedules.CosineDecay(\n",
    "#     initial_learning_rate, decay_steps=decaySteps, alpha=0.01)\n",
    "# lr_schedule = tf.keras.optimizers.schedules.ExponentialDecay(\n",
    "#     initial_learning_rate,decay_steps=decaySteps,decay_rate=0.9,staircase=False)\n",
    "step = np.linspace(0,decaySteps)\n",
    "lr = lr_schedule(step)\n",
    "# plt.figure(figsize = (8,6))\n",
    "# # plt.yscale(\"log\")\n",
    "# plt.plot(step, lr)\n",
    "# plt.ylim([0,max(plt.ylim())])\n",
    "# plt.xlabel('step')\n",
    "# _ = plt.ylabel('Learning Rate')"
   ]
  },
  {
   "cell_type": "code",
   "execution_count": 37,
   "id": "c4760b66",
   "metadata": {},
   "outputs": [
    {
     "name": "stdout",
     "output_type": "stream",
     "text": [
      "tf.Tensor(0.6762641, shape=(), dtype=float32)\n",
      "tf.Tensor(0.6762641, shape=(), dtype=float32)\n"
     ]
    }
   ],
   "source": [
    "from tensorflow.keras.losses import Loss\n",
    "\n",
    "class WeightedBinaryCE(Loss):\n",
    "    # initialize instance attributes\n",
    "    def __init__(self, classWeights, labelSmoothing=0.0):\n",
    "        super(WeightedBinaryCE, self).__init__()\n",
    "        self.labelSmoothing = tf.constant(labelSmoothing, dtype=tf.dtypes.float32)\n",
    "        self.classWeights= tf.constant(classWeights, dtype=tf.dtypes.float32)\n",
    "        \n",
    "    # Compute loss\n",
    "    def call(self, y_true, y_pred):\n",
    "        y_true = tf.cast(y_true, tf.float32)\n",
    "        if(self.labelSmoothing>0):\n",
    "            y_true = y_true*(1-self.labelSmoothing)+self.labelSmoothing/2\n",
    "        y_pred = tf.cast(y_pred, tf.float32)\n",
    "        y_pred = tf.clip_by_value(y_pred,tf.keras.backend.epsilon(), 1 - tf.keras.backend.epsilon())\n",
    "        term_0 = tf.math.multiply(self.classWeights * tf.math.subtract(1.0 , y_true), tf.math.log(tf.math.subtract(1.0, y_pred) + tf.keras.backend.epsilon()))\n",
    "        term_1 = tf.math.multiply(self.classWeights * y_true, tf.math.log(y_pred + tf.keras.backend.epsilon()))\n",
    "        losses = term_0 + term_1\n",
    "        return -tf.reduce_mean(losses, axis=0)\n",
    "    \n",
    "\n",
    "testLoss = WeightedBinaryCE([1,1,1])\n",
    "labelsTrue = tf.constant([[1,0,1], [1,1,0]])\n",
    "labelsPred = tf.constant([[0.42,0.111,0.957], [0.877,0.121,0.544]])\n",
    "\n",
    "print(testLoss(labelsTrue, labelsPred))\n",
    "kerasCE = tf.keras.losses.BinaryCrossentropy()\n",
    "print(kerasCE(labelsTrue, labelsPred))\n"
   ]
  },
  {
   "cell_type": "code",
   "execution_count": 38,
   "id": "5b3c7a7f",
   "metadata": {},
   "outputs": [
    {
     "name": "stdout",
     "output_type": "stream",
     "text": [
      "tf.Tensor(0.058596253, shape=(), dtype=float32)\n"
     ]
    }
   ],
   "source": [
    "\n",
    "\n",
    "class DiceLoss(Loss):\n",
    "    # initialize instance attributes\n",
    "    def __init__(self):\n",
    "        super(DiceLoss, self).__init__()\n",
    "        \n",
    "    # Compute loss\n",
    "    def call(self, y_true, y_pred, smooth=1e-6):\n",
    "      inputs = tf.squeeze(tf.cast(y_pred, tf.dtypes.float32))\n",
    "      targets = tf.squeeze(tf.cast(y_true, tf.dtypes.float32))\n",
    "    \n",
    "      intersection = tf.math.reduce_sum(tf.math.multiply(targets, inputs))\n",
    "      dice = (2*intersection + smooth) / (tf.math.reduce_sum(targets) + tf.math.reduce_sum(inputs) + smooth)\n",
    "      return 1 - dice\n",
    "    \n",
    "\n",
    "testLoss = DiceLoss()\n",
    "labelsTrue = tf.constant([[1,0,1], [1,1,0]])\n",
    "labelsPred = tf.constant([[0.9,0.01,0.957], [0.877,0.921,0.1]])\n",
    "\n",
    "print(testLoss(labelsTrue, labelsPred))\n"
   ]
  },
  {
   "cell_type": "code",
   "execution_count": 39,
   "id": "2c21d9da",
   "metadata": {},
   "outputs": [
    {
     "name": "stdout",
     "output_type": "stream",
     "text": [
      "tf.Tensor(-0.4285214, shape=(), dtype=float32)\n"
     ]
    }
   ],
   "source": [
    "\n",
    "\n",
    "# α controls the amount of Dice term contribution in the loss f\n",
    "# β ∈ [0, 1] controls the level of model penalization for false positives/negatives: when β is set to\n",
    "# a value smaller than 0.5, FP are penalized more than FN\n",
    "\n",
    "\n",
    "class WeightedComboLoss(Loss):\n",
    "    # initialize instance attributes\n",
    "    def __init__(self, labelWeights, alpha=0.5, beta=0.5):\n",
    "        super(WeightedComboLoss, self).__init__()\n",
    "        self.classWeights = tf.constant(labelWeights, dtype=tf.dtypes.float32)\n",
    "        self.alpha=tf.constant(alpha, dtype=tf.dtypes.float32)\n",
    "        self.beta=tf.constant(beta, dtype=tf.dtypes.float32)\n",
    "        \n",
    "    # Compute loss\n",
    "    def call(self, y_true, y_pred, smooth=1e-6):\n",
    "      inputs = tf.squeeze(tf.cast(y_pred, tf.dtypes.float32))\n",
    "      targets = tf.squeeze(tf.cast(y_true, tf.dtypes.float32))\n",
    "    \n",
    "      intersection = tf.math.reduce_sum(tf.math.multiply(targets, inputs))\n",
    "      dice = (2*intersection + smooth) / (tf.math.reduce_sum(targets) + tf.math.reduce_sum(inputs) + smooth)\n",
    "     \n",
    "      y_true = tf.cast(y_true, tf.float32)\n",
    "      y_pred = tf.cast(y_pred, tf.float32)\n",
    "      y_pred = tf.clip_by_value(y_pred,tf.keras.backend.epsilon(), 1 - tf.keras.backend.epsilon())\n",
    "      term_0 = tf.math.multiply((1-self.beta) * self.classWeights * tf.math.subtract(1.0 , y_true), tf.math.log(tf.math.subtract(1.0, y_pred) + tf.keras.backend.epsilon()))\n",
    "      term_1 = tf.math.multiply(self.beta * self.classWeights * y_true, tf.math.log(y_pred + tf.keras.backend.epsilon()))\n",
    "      losses = term_0 + term_1\n",
    "      weightedCE = -tf.reduce_mean(losses, axis=0)\n",
    "\n",
    "      combo = (self.alpha * weightedCE) - ((1 - self.alpha) * dice)\n",
    "\n",
    "      return combo\n",
    "    \n",
    "\n",
    "testLoss = WeightedComboLoss([1,1,1])\n",
    "labelsTrue = tf.constant([[1,0,1], [1,1,0]])\n",
    "labelsPred = tf.constant([[0.9,0.1,0.9], [0.8,0.9,0.05]])\n",
    "\n",
    "print(testLoss(labelsTrue, labelsPred))\n"
   ]
  },
  {
   "cell_type": "code",
   "execution_count": 40,
   "id": "e7880ac9",
   "metadata": {},
   "outputs": [
    {
     "data": {
      "text/plain": [
       "<tf.Tensor: shape=(), dtype=float32, numpy=0.85714275>"
      ]
     },
     "execution_count": 40,
     "metadata": {},
     "output_type": "execute_result"
    }
   ],
   "source": [
    "\n",
    "\n",
    "class WeightedF1(tf.keras.metrics.Metric):\n",
    "    def __init__(self, classWeights, threshold=0.5):\n",
    "        super(WeightedF1, self).__init__()\n",
    "        self.classWeights= tf.constant(classWeights, dtype=tf.dtypes.float32)\n",
    "        self.threshold= tf.constant(threshold, dtype=tf.dtypes.float32)\n",
    "        self.f1 = self.add_weight(name='f1', initializer='zeros')\n",
    "        self.total = self.add_weight('total', initializer='zeros')\n",
    "\n",
    "    def update_state(self, y_true, y_pred, sample_weight=None):\n",
    "        m = tf.math.count_nonzero(tf.reduce_min(y_pred, axis=1))\n",
    "        n = tf.shape(y_pred)[0]\n",
    "        y_true = tf.cast(y_true, tf.bool)\n",
    "        y_pred = tf.math.greater_equal(y_pred,self.threshold)\n",
    "   \n",
    "\n",
    "        tp = tf.math.logical_and(tf.equal(y_true, True), tf.equal(y_pred, True))\n",
    "        tp = tf.cast(tp, self.dtype)\n",
    "        tp = tf.math.multiply(tp, self.classWeights)\n",
    "        tp = tf.cast(tp, self.dtype)\n",
    "\n",
    "        tn = tf.math.logical_and(tf.equal(y_true, False), tf.equal(y_pred, False))\n",
    "        tn = tf.cast(tn, self.dtype)\n",
    "        tn = tf.math.multiply(tn, self.classWeights)\n",
    "        tn = tf.cast(tn, self.dtype)\n",
    "\n",
    "        fp = tf.math.logical_and(tf.equal(y_true, True), tf.equal(y_pred, False))\n",
    "        fp = tf.cast(fp, self.dtype)\n",
    "        fp = tf.math.multiply(fp, self.classWeights)\n",
    "        fp = tf.cast(fp, self.dtype)\n",
    "\n",
    "        fn = tf.math.logical_and(tf.equal(y_true, False), tf.equal(y_pred, True))\n",
    "        fn = tf.cast(fn, self.dtype)\n",
    "        fn = tf.math.multiply(fn, self.classWeights)\n",
    "        fn = tf.cast(fn, self.dtype)\n",
    "\n",
    "        pr = tf.math.divide(tf.math.reduce_sum(tp, axis=1),tf.math.reduce_sum(tp+fp+tf.keras.backend.epsilon(), axis=1))\n",
    "        m = tf.cast(m, pr.dtype)\n",
    "        if(m>0):\n",
    "            wPr = tf.math.reduce_sum(pr)/m\n",
    "        else:\n",
    "            wPr = tf.constant(0, tf.dtypes.float32)\n",
    "\n",
    "        re = tf.math.divide(tf.math.reduce_sum(tp, axis=1),tf.math.reduce_sum(tp+fn+tf.keras.backend.epsilon(), axis=1))\n",
    "        n = tf.cast(n, re.dtype)\n",
    "        wRe = tf.math.reduce_sum(re)/n\n",
    "\n",
    "        res = tf.math.divide(2*wPr*wRe, wPr + wRe + tf.keras.backend.epsilon())\n",
    "\n",
    "        self.f1.assign_add(res)\n",
    "        self.total.assign_add(1)\n",
    "\n",
    "    def result(self):\n",
    "        return tf.math.divide(self.f1, self.total)\n",
    "\n",
    "testM = WeightedF1(classWeights=[1,1,2])\n",
    "labelsTrue = tf.constant([[1,0,1], [1,1,0]])\n",
    "labelsPred = tf.constant([[0.8,0.1,0.9], [0.9,0.9,0.6]])\n",
    "\n",
    "testM.update_state(labelsTrue, labelsPred)\n",
    "testM.result()"
   ]
  },
  {
   "cell_type": "code",
   "execution_count": 44,
   "id": "32e59c8c",
   "metadata": {},
   "outputs": [],
   "source": [
    "from utils import *"
   ]
  },
  {
   "cell_type": "code",
   "execution_count": 29,
   "id": "d2f43e7c",
   "metadata": {},
   "outputs": [],
   "source": [
    "# BATCH_SIZE=32\n",
    "\n",
    "# batchedDataset = dataset.batch(BATCH_SIZE, drop_remainder=False)\n",
    "# batchedDatasetVal = datasetVal.batch(BATCH_SIZE, drop_remainder=False)\n",
    "\n",
    "# batchedDataset = batchedDataset.cache(os.path.join(DATA_PATH, \"datasetCache\"+SO))\n",
    "# batchedDatasetVal = batchedDatasetVal.cache(os.path.join(DATA_PATH, \"datasetCacheVal\"+SO))\n",
    "\n",
    "# optimizer = tf.keras.optimizers.AdamW(learning_rate=lr_schedule)\n",
    "\n",
    "# loss_fn = WeightedBinaryCE(labelWeights)\n",
    "\n",
    "# train_acc_metric = tf.keras.metrics.BinaryAccuracy()\n",
    "# train_f1_metric = WeightedF1(classWeights=labelWeights, threshold=0.5)\n",
    "# train_prec = tf.keras.metrics.Precision()\n",
    "# train_rec = tf.keras.metrics.Recall()\n",
    "\n",
    "# model.compile(optimizer, loss_fn, metrics=[train_acc_metric,train_prec,train_f1_metric,train_rec ])\n",
    "\n",
    "# model.fit(batchedDataset, epochs=1, validation_data=batchedDatasetVal)"
   ]
  },
  {
   "cell_type": "code",
   "execution_count": 50,
   "id": "9113c4a7",
   "metadata": {},
   "outputs": [
    {
     "name": "stdout",
     "output_type": "stream",
     "text": [
      "\n",
      "Start of epoch 1\n",
      "Epoch 1/Step 0, Loss: 0.00090, Accuracy: 0.50627, F1: 0.0005, Prec: 0.0006, Rec: 0.4762 lr: 0.00050\n",
      "Epoch 1/Step 10, Loss: 0.00094, Accuracy: 0.85829, F1: 0.0096, Prec: 0.0033, Rec: 0.7601 lr: 0.00050\n",
      "Epoch 1/Step 20, Loss: 0.00105, Accuracy: 0.88065, F1: 0.0116, Prec: 0.0041, Rec: 0.7915 lr: 0.00050\n",
      "Epoch 1/Step 30, Loss: 0.00078, Accuracy: 0.88860, F1: 0.0127, Prec: 0.0045, Rec: 0.8122 lr: 0.00050\n",
      "Epoch 1/Step 40, Loss: 0.00089, Accuracy: 0.89252, F1: 0.0137, Prec: 0.0048, Rec: 0.8212 lr: 0.00050\n",
      "Epoch 1/Step 50, Loss: 0.00079, Accuracy: 0.89374, F1: 0.0136, Prec: 0.0049, Rec: 0.8252 lr: 0.00050\n",
      "Epoch 1/Step 60, Loss: 0.00094, Accuracy: 0.89267, F1: 0.0132, Prec: 0.0049, Rec: 0.8286 lr: 0.00050\n",
      "Epoch 1/Step 70, Loss: 0.00081, Accuracy: 0.88879, F1: 0.0124, Prec: 0.0047, Rec: 0.8291 lr: 0.00050\n",
      "Epoch 1/Step 80, Loss: 0.00089, Accuracy: 0.88141, F1: 0.0114, Prec: 0.0044, Rec: 0.8300 lr: 0.00050\n",
      "Epoch 1/Step 90, Loss: 0.00105, Accuracy: 0.86847, F1: 0.0104, Prec: 0.0040, Rec: 0.8292 lr: 0.00050\n",
      "Epoch 1/Step 100, Loss: 0.00078, Accuracy: 0.85175, F1: 0.0095, Prec: 0.0035, Rec: 0.8282 lr: 0.00050\n",
      "Epoch 1/Step 110, Loss: -0.00029, Accuracy: 0.84085, F1: 0.0088, Prec: 0.0033, Rec: 0.8283 lr: 0.00050\n",
      "Epoch 1/Step 120, Loss: -0.00559, Accuracy: 0.84384, F1: 0.0088, Prec: 0.0034, Rec: 0.8270 lr: 0.00050\n",
      "Epoch 1/Step 130, Loss: -0.01855, Accuracy: 0.85304, F1: 0.0101, Prec: 0.0036, Rec: 0.8226 lr: 0.00050\n",
      "Epoch 1/Step 140, Loss: -0.02627, Accuracy: 0.86215, F1: 0.0123, Prec: 0.0038, Rec: 0.8154 lr: 0.00050\n",
      "Epoch 1/Step 150, Loss: -0.04063, Accuracy: 0.87032, F1: 0.0153, Prec: 0.0040, Rec: 0.8064 lr: 0.00050\n",
      "Epoch 1/Step 160, Loss: -0.02567, Accuracy: 0.87752, F1: 0.0176, Prec: 0.0042, Rec: 0.7980 lr: 0.00050\n",
      "Epoch 1/Step 170, Loss: -0.02867, Accuracy: 0.88388, F1: 0.0200, Prec: 0.0044, Rec: 0.7908 lr: 0.00050\n",
      "Epoch 1/Step 180, Loss: -0.04001, Accuracy: 0.88954, F1: 0.0220, Prec: 0.0046, Rec: 0.7849 lr: 0.00050\n",
      "Epoch 1/Step 190, Loss: -0.03275, Accuracy: 0.89460, F1: 0.0237, Prec: 0.0047, Rec: 0.7797 lr: 0.00050\n",
      "Epoch 1/Step 200, Loss: -0.03034, Accuracy: 0.89916, F1: 0.0255, Prec: 0.0049, Rec: 0.7736 lr: 0.00050\n",
      "Epoch 1/Step 210, Loss: -0.02921, Accuracy: 0.90329, F1: 0.0271, Prec: 0.0051, Rec: 0.7691 lr: 0.00050\n",
      "Epoch 1/Step 220, Loss: -0.03559, Accuracy: 0.90704, F1: 0.0287, Prec: 0.0053, Rec: 0.7648 lr: 0.00050\n",
      "Epoch 1/Step 230, Loss: -0.02919, Accuracy: 0.91047, F1: 0.0298, Prec: 0.0055, Rec: 0.7608 lr: 0.00050\n",
      "Epoch 1/Step 240, Loss: -0.03888, Accuracy: 0.91362, F1: 0.0312, Prec: 0.0057, Rec: 0.7573 lr: 0.00050\n",
      "Epoch 1/Step 250, Loss: -0.02817, Accuracy: 0.91651, F1: 0.0323, Prec: 0.0058, Rec: 0.7540 lr: 0.00050\n",
      "Epoch 1/Step 260, Loss: -0.03270, Accuracy: 0.91918, F1: 0.0333, Prec: 0.0060, Rec: 0.7513 lr: 0.00050\n",
      "Epoch 1/Step 270, Loss: -0.02661, Accuracy: 0.92166, F1: 0.0345, Prec: 0.0062, Rec: 0.7489 lr: 0.00050\n",
      "Epoch 1/Step 280, Loss: -0.03341, Accuracy: 0.92396, F1: 0.0352, Prec: 0.0064, Rec: 0.7456 lr: 0.00050\n",
      "Epoch 1/Step 290, Loss: -0.02229, Accuracy: 0.92610, F1: 0.0357, Prec: 0.0065, Rec: 0.7428 lr: 0.00050\n",
      "Epoch 1/Step 300, Loss: -0.03669, Accuracy: 0.92809, F1: 0.0364, Prec: 0.0067, Rec: 0.7398 lr: 0.00050\n",
      "Epoch 1/Step 310, Loss: -0.02479, Accuracy: 0.92996, F1: 0.0371, Prec: 0.0068, Rec: 0.7378 lr: 0.00050\n",
      "Epoch 1/Step 320, Loss: -0.03326, Accuracy: 0.93172, F1: 0.0378, Prec: 0.0070, Rec: 0.7365 lr: 0.00050\n",
      "Epoch 1/Step 330, Loss: -0.04380, Accuracy: 0.93337, F1: 0.0384, Prec: 0.0072, Rec: 0.7345 lr: 0.00050\n",
      "Epoch 1/Step 340, Loss: -0.02676, Accuracy: 0.93492, F1: 0.0391, Prec: 0.0073, Rec: 0.7331 lr: 0.00050\n",
      "Epoch 1/Step 350, Loss: -0.04181, Accuracy: 0.93638, F1: 0.0396, Prec: 0.0075, Rec: 0.7315 lr: 0.00050\n",
      "Epoch 1/Step 360, Loss: -0.03734, Accuracy: 0.93776, F1: 0.0401, Prec: 0.0076, Rec: 0.7297 lr: 0.00050\n",
      "Epoch 1/Step 370, Loss: -0.02512, Accuracy: 0.93907, F1: 0.0404, Prec: 0.0078, Rec: 0.7289 lr: 0.00050\n",
      "Epoch 1/Step 380, Loss: -0.03351, Accuracy: 0.94031, F1: 0.0409, Prec: 0.0079, Rec: 0.7276 lr: 0.00050\n",
      "Epoch 1/Step 390, Loss: -0.03416, Accuracy: 0.94148, F1: 0.0412, Prec: 0.0080, Rec: 0.7262 lr: 0.00050\n",
      "Epoch 1/Step 400, Loss: -0.02364, Accuracy: 0.94260, F1: 0.0416, Prec: 0.0082, Rec: 0.7256 lr: 0.00050\n",
      "Epoch 1/Step 410, Loss: -0.03750, Accuracy: 0.94366, F1: 0.0419, Prec: 0.0083, Rec: 0.7248 lr: 0.00050\n",
      "Epoch 1/Step 420, Loss: -0.03331, Accuracy: 0.94467, F1: 0.0423, Prec: 0.0085, Rec: 0.7235 lr: 0.00050\n",
      "Epoch 1/Step 430, Loss: -0.02959, Accuracy: 0.94564, F1: 0.0426, Prec: 0.0086, Rec: 0.7225 lr: 0.00050\n",
      "Epoch 1/Step 440, Loss: -0.02967, Accuracy: 0.94656, F1: 0.0429, Prec: 0.0087, Rec: 0.7220 lr: 0.00050\n",
      "Epoch 1/Step 450, Loss: -0.02793, Accuracy: 0.94744, F1: 0.0433, Prec: 0.0089, Rec: 0.7208 lr: 0.00050\n",
      "Epoch 1/Step 460, Loss: -0.02559, Accuracy: 0.94828, F1: 0.0435, Prec: 0.0090, Rec: 0.7199 lr: 0.00050\n",
      "Epoch 1/Step 470, Loss: -0.02764, Accuracy: 0.94909, F1: 0.0438, Prec: 0.0091, Rec: 0.7192 lr: 0.00050\n",
      "Epoch 1/Step 480, Loss: -0.02393, Accuracy: 0.94986, F1: 0.0442, Prec: 0.0092, Rec: 0.7186 lr: 0.00050\n",
      "Epoch 1/Step 490, Loss: -0.03375, Accuracy: 0.95060, F1: 0.0445, Prec: 0.0094, Rec: 0.7181 lr: 0.00050\n",
      "Epoch 1/Step 500, Loss: -0.03788, Accuracy: 0.95131, F1: 0.0447, Prec: 0.0095, Rec: 0.7169 lr: 0.00050\n",
      "Epoch 1/Step 510, Loss: -0.01950, Accuracy: 0.95200, F1: 0.0450, Prec: 0.0096, Rec: 0.7162 lr: 0.00050\n",
      "Epoch 1/Step 520, Loss: -0.02180, Accuracy: 0.95265, F1: 0.0453, Prec: 0.0098, Rec: 0.7151 lr: 0.00050\n",
      "Epoch 1/Step 530, Loss: -0.03153, Accuracy: 0.95329, F1: 0.0456, Prec: 0.0099, Rec: 0.7141 lr: 0.00050\n",
      "Epoch 1/Step 540, Loss: -0.03355, Accuracy: 0.95389, F1: 0.0459, Prec: 0.0100, Rec: 0.7130 lr: 0.00050\n",
      "Epoch 1/Step 550, Loss: -0.04186, Accuracy: 0.95448, F1: 0.0461, Prec: 0.0102, Rec: 0.7124 lr: 0.00050\n",
      "Epoch 1/Step 560, Loss: -0.03191, Accuracy: 0.95505, F1: 0.0463, Prec: 0.0103, Rec: 0.7117 lr: 0.00050\n",
      "Epoch 1/Step 570, Loss: -0.02608, Accuracy: 0.95559, F1: 0.0464, Prec: 0.0104, Rec: 0.7112 lr: 0.00050\n",
      "Epoch 1/Step 580, Loss: -0.03312, Accuracy: 0.95612, F1: 0.0466, Prec: 0.0105, Rec: 0.7106 lr: 0.00050\n",
      "Epoch 1/Step 590, Loss: -0.03234, Accuracy: 0.95663, F1: 0.0468, Prec: 0.0106, Rec: 0.7106 lr: 0.00050\n",
      "Epoch 1/Step 600, Loss: -0.03186, Accuracy: 0.95713, F1: 0.0469, Prec: 0.0107, Rec: 0.7101 lr: 0.00050\n",
      "Epoch 1/Step 610, Loss: -0.03676, Accuracy: 0.95760, F1: 0.0472, Prec: 0.0109, Rec: 0.7095 lr: 0.00050\n",
      "Epoch 1/Step 620, Loss: -0.03936, Accuracy: 0.95806, F1: 0.0475, Prec: 0.0110, Rec: 0.7091 lr: 0.00050\n",
      "Epoch 1/Step 630, Loss: -0.03195, Accuracy: 0.95851, F1: 0.0477, Prec: 0.0111, Rec: 0.7087 lr: 0.00050\n",
      "Epoch 1/Step 640, Loss: -0.03480, Accuracy: 0.95894, F1: 0.0478, Prec: 0.0112, Rec: 0.7080 lr: 0.00050\n",
      "Epoch 1/Step 650, Loss: -0.02757, Accuracy: 0.95936, F1: 0.0480, Prec: 0.0113, Rec: 0.7077 lr: 0.00050\n",
      "Epoch 1/Step 660, Loss: -0.03269, Accuracy: 0.95977, F1: 0.0482, Prec: 0.0114, Rec: 0.7073 lr: 0.00050\n",
      "Epoch 1/Step 670, Loss: -0.02864, Accuracy: 0.96017, F1: 0.0484, Prec: 0.0116, Rec: 0.7067 lr: 0.00050\n",
      "Epoch 1/Step 680, Loss: -0.02854, Accuracy: 0.96055, F1: 0.0485, Prec: 0.0117, Rec: 0.7065 lr: 0.00050\n",
      "Epoch 1/Step 690, Loss: -0.02802, Accuracy: 0.96092, F1: 0.0486, Prec: 0.0118, Rec: 0.7063 lr: 0.00050\n",
      "Epoch 1/Step 700, Loss: -0.03679, Accuracy: 0.96128, F1: 0.0488, Prec: 0.0119, Rec: 0.7059 lr: 0.00050\n",
      "Epoch 1/Step 710, Loss: -0.03738, Accuracy: 0.96163, F1: 0.0489, Prec: 0.0120, Rec: 0.7056 lr: 0.00050\n",
      "Epoch 1/Step 720, Loss: -0.03515, Accuracy: 0.96197, F1: 0.0489, Prec: 0.0121, Rec: 0.7052 lr: 0.00050\n",
      "Epoch 1/Step 730, Loss: -0.02419, Accuracy: 0.96231, F1: 0.0490, Prec: 0.0122, Rec: 0.7050 lr: 0.00050\n",
      "Epoch 1/Step 740, Loss: -0.02773, Accuracy: 0.96263, F1: 0.0491, Prec: 0.0123, Rec: 0.7043 lr: 0.00050\n",
      "Epoch 1/Step 750, Loss: -0.02653, Accuracy: 0.96294, F1: 0.0492, Prec: 0.0123, Rec: 0.7045 lr: 0.00050\n",
      "Epoch 1/Step 760, Loss: -0.03267, Accuracy: 0.96325, F1: 0.0493, Prec: 0.0124, Rec: 0.7039 lr: 0.00050\n",
      "Epoch 1/Step 770, Loss: -0.02791, Accuracy: 0.96355, F1: 0.0493, Prec: 0.0125, Rec: 0.7035 lr: 0.00050\n",
      "Epoch 1/Step 780, Loss: -0.03312, Accuracy: 0.96384, F1: 0.0494, Prec: 0.0126, Rec: 0.7030 lr: 0.00050\n",
      "Epoch 1/Step 790, Loss: -0.02506, Accuracy: 0.96412, F1: 0.0495, Prec: 0.0127, Rec: 0.7027 lr: 0.00050\n",
      "Epoch 1/Step 800, Loss: -0.02844, Accuracy: 0.96440, F1: 0.0496, Prec: 0.0128, Rec: 0.7023 lr: 0.00050\n",
      "Epoch 1/Step 810, Loss: -0.03326, Accuracy: 0.96467, F1: 0.0498, Prec: 0.0129, Rec: 0.7021 lr: 0.00050\n",
      "Epoch 1/Step 820, Loss: -0.02663, Accuracy: 0.96493, F1: 0.0498, Prec: 0.0130, Rec: 0.7020 lr: 0.00050\n",
      "Epoch 1/Step 830, Loss: -0.02577, Accuracy: 0.96519, F1: 0.0499, Prec: 0.0131, Rec: 0.7016 lr: 0.00050\n",
      "Epoch 1/Step 840, Loss: -0.03651, Accuracy: 0.96544, F1: 0.0501, Prec: 0.0132, Rec: 0.7014 lr: 0.00050\n",
      "Epoch 1/Step 850, Loss: -0.03161, Accuracy: 0.96568, F1: 0.0501, Prec: 0.0133, Rec: 0.7012 lr: 0.00050\n",
      "Epoch 1/Step 860, Loss: -0.02923, Accuracy: 0.96592, F1: 0.0502, Prec: 0.0133, Rec: 0.7010 lr: 0.00050\n",
      "Epoch 1/Step 870, Loss: -0.03418, Accuracy: 0.96616, F1: 0.0503, Prec: 0.0134, Rec: 0.7009 lr: 0.00050\n",
      "Epoch 1/Step 880, Loss: -0.03207, Accuracy: 0.96638, F1: 0.0504, Prec: 0.0135, Rec: 0.7007 lr: 0.00050\n",
      "Epoch 1/Step 890, Loss: -0.03137, Accuracy: 0.96661, F1: 0.0504, Prec: 0.0136, Rec: 0.7002 lr: 0.00050\n",
      "Epoch 1/Step 900, Loss: -0.02732, Accuracy: 0.96682, F1: 0.0505, Prec: 0.0137, Rec: 0.7002 lr: 0.00050\n",
      "Epoch 1/Step 910, Loss: -0.03590, Accuracy: 0.96704, F1: 0.0506, Prec: 0.0138, Rec: 0.7000 lr: 0.00050\n",
      "Epoch 1/Step 920, Loss: -0.03627, Accuracy: 0.96725, F1: 0.0507, Prec: 0.0139, Rec: 0.6995 lr: 0.00050\n",
      "Epoch 1/Step 930, Loss: -0.03391, Accuracy: 0.96745, F1: 0.0508, Prec: 0.0140, Rec: 0.6994 lr: 0.00050\n",
      "Epoch 1/Step 940, Loss: -0.02719, Accuracy: 0.96765, F1: 0.0508, Prec: 0.0140, Rec: 0.6991 lr: 0.00050\n",
      "Epoch 1/Step 950, Loss: -0.02584, Accuracy: 0.96785, F1: 0.0509, Prec: 0.0141, Rec: 0.6991 lr: 0.00050\n",
      "Epoch 1/Step 960, Loss: -0.03957, Accuracy: 0.96804, F1: 0.0510, Prec: 0.0142, Rec: 0.6989 lr: 0.00050\n",
      "Epoch 1/Step 970, Loss: -0.03425, Accuracy: 0.96823, F1: 0.0510, Prec: 0.0143, Rec: 0.6986 lr: 0.00050\n",
      "Epoch 1/Step 980, Loss: -0.03575, Accuracy: 0.96841, F1: 0.0511, Prec: 0.0143, Rec: 0.6982 lr: 0.00050\n",
      "Epoch 1/Step 990, Loss: -0.01818, Accuracy: 0.96859, F1: 0.0512, Prec: 0.0144, Rec: 0.6978 lr: 0.00050\n",
      "Epoch 1/Step 1000, Loss: -0.03082, Accuracy: 0.96877, F1: 0.0512, Prec: 0.0145, Rec: 0.6977 lr: 0.00050\n",
      "Epoch 1/Step 1010, Loss: -0.03730, Accuracy: 0.96894, F1: 0.0514, Prec: 0.0146, Rec: 0.6976 lr: 0.00050\n",
      "Epoch 1/Step 1020, Loss: -0.03146, Accuracy: 0.96911, F1: 0.0514, Prec: 0.0147, Rec: 0.6973 lr: 0.00050\n",
      "Epoch 1/Step 1030, Loss: -0.02665, Accuracy: 0.96927, F1: 0.0514, Prec: 0.0147, Rec: 0.6973 lr: 0.00050\n",
      "Epoch 1/Step 1040, Loss: -0.02862, Accuracy: 0.96944, F1: 0.0515, Prec: 0.0148, Rec: 0.6971 lr: 0.00050\n",
      "Epoch 1/Step 1050, Loss: -0.02792, Accuracy: 0.96960, F1: 0.0516, Prec: 0.0149, Rec: 0.6970 lr: 0.00050\n",
      "Epoch 1/Step 1060, Loss: -0.03306, Accuracy: 0.96975, F1: 0.0516, Prec: 0.0149, Rec: 0.6966 lr: 0.00050\n",
      "Epoch 1/Step 1070, Loss: -0.02788, Accuracy: 0.96991, F1: 0.0516, Prec: 0.0150, Rec: 0.6962 lr: 0.00050\n",
      "Epoch 1/Step 1080, Loss: -0.03203, Accuracy: 0.97006, F1: 0.0517, Prec: 0.0151, Rec: 0.6960 lr: 0.00050\n",
      "Epoch 1/Step 1090, Loss: -0.02305, Accuracy: 0.97021, F1: 0.0517, Prec: 0.0151, Rec: 0.6958 lr: 0.00050\n",
      "Epoch 1/Step 1100, Loss: -0.03244, Accuracy: 0.97035, F1: 0.0517, Prec: 0.0152, Rec: 0.6957 lr: 0.00050\n",
      "Epoch 1/Step 1110, Loss: -0.03180, Accuracy: 0.97050, F1: 0.0518, Prec: 0.0153, Rec: 0.6953 lr: 0.00050\n",
      "Epoch 1/Step 1120, Loss: -0.02513, Accuracy: 0.97064, F1: 0.0518, Prec: 0.0153, Rec: 0.6953 lr: 0.00050\n",
      "Epoch 1/Step 1130, Loss: -0.04338, Accuracy: 0.97078, F1: 0.0519, Prec: 0.0154, Rec: 0.6954 lr: 0.00050\n",
      "Epoch 1/Step 1140, Loss: -0.02974, Accuracy: 0.97091, F1: 0.0519, Prec: 0.0155, Rec: 0.6952 lr: 0.00050\n",
      "Epoch 1/Step 1150, Loss: -0.02643, Accuracy: 0.97104, F1: 0.0520, Prec: 0.0156, Rec: 0.6951 lr: 0.00050\n",
      "Epoch 1/Step 1160, Loss: -0.03178, Accuracy: 0.97117, F1: 0.0520, Prec: 0.0156, Rec: 0.6949 lr: 0.00050\n",
      "Epoch 1/Step 1170, Loss: -0.02869, Accuracy: 0.97130, F1: 0.0520, Prec: 0.0157, Rec: 0.6948 lr: 0.00050\n",
      "Epoch 1/Step 1180, Loss: -0.03208, Accuracy: 0.97143, F1: 0.0520, Prec: 0.0157, Rec: 0.6947 lr: 0.00050\n",
      "Epoch 1/Step 1190, Loss: -0.02429, Accuracy: 0.97155, F1: 0.0521, Prec: 0.0158, Rec: 0.6946 lr: 0.00050\n",
      "Epoch 1/Step 1200, Loss: -0.02610, Accuracy: 0.97168, F1: 0.0522, Prec: 0.0159, Rec: 0.6945 lr: 0.00050\n",
      "Epoch 1/Step 1210, Loss: -0.02908, Accuracy: 0.97180, F1: 0.0522, Prec: 0.0160, Rec: 0.6945 lr: 0.00050\n",
      "Epoch 1/Step 1220, Loss: -0.02841, Accuracy: 0.97192, F1: 0.0522, Prec: 0.0160, Rec: 0.6946 lr: 0.00050\n",
      "Epoch 1/Step 1230, Loss: -0.02743, Accuracy: 0.97203, F1: 0.0522, Prec: 0.0161, Rec: 0.6945 lr: 0.00050\n",
      "Epoch 1/Step 1240, Loss: -0.03608, Accuracy: 0.97215, F1: 0.0522, Prec: 0.0161, Rec: 0.6941 lr: 0.00050\n",
      "Epoch 1/Step 1250, Loss: -0.02944, Accuracy: 0.97226, F1: 0.0523, Prec: 0.0162, Rec: 0.6937 lr: 0.00050\n",
      "Epoch 1/Step 1260, Loss: -0.02917, Accuracy: 0.97237, F1: 0.0523, Prec: 0.0162, Rec: 0.6936 lr: 0.00050\n",
      "Epoch 1/Step 1270, Loss: -0.02684, Accuracy: 0.97248, F1: 0.0524, Prec: 0.0163, Rec: 0.6935 lr: 0.00050\n",
      "Epoch 1/Step 1280, Loss: -0.03683, Accuracy: 0.97259, F1: 0.0525, Prec: 0.0164, Rec: 0.6934 lr: 0.00050\n",
      "Epoch 1/Step 1290, Loss: -0.03314, Accuracy: 0.97269, F1: 0.0525, Prec: 0.0165, Rec: 0.6934 lr: 0.00050\n",
      "Epoch 1/Step 1300, Loss: -0.02039, Accuracy: 0.97280, F1: 0.0525, Prec: 0.0165, Rec: 0.6933 lr: 0.00050\n",
      "Epoch 1/Step 1310, Loss: -0.03349, Accuracy: 0.97290, F1: 0.0525, Prec: 0.0166, Rec: 0.6932 lr: 0.00050\n",
      "Epoch 1/Step 1320, Loss: -0.02325, Accuracy: 0.97300, F1: 0.0525, Prec: 0.0166, Rec: 0.6930 lr: 0.00050\n",
      "Epoch 1/Step 1330, Loss: -0.03281, Accuracy: 0.97310, F1: 0.0526, Prec: 0.0167, Rec: 0.6928 lr: 0.00050\n",
      "Epoch 1/Step 1340, Loss: -0.03096, Accuracy: 0.97320, F1: 0.0526, Prec: 0.0167, Rec: 0.6928 lr: 0.00050\n",
      "Epoch 1/Step 1350, Loss: -0.03691, Accuracy: 0.97329, F1: 0.0526, Prec: 0.0168, Rec: 0.6928 lr: 0.00050\n",
      "Epoch 1/Step 1360, Loss: -0.02713, Accuracy: 0.97339, F1: 0.0527, Prec: 0.0168, Rec: 0.6927 lr: 0.00050\n",
      "Epoch 1/Step 1370, Loss: -0.02514, Accuracy: 0.97348, F1: 0.0527, Prec: 0.0169, Rec: 0.6926 lr: 0.00050\n",
      "Epoch 1/Step 1380, Loss: -0.03112, Accuracy: 0.97358, F1: 0.0528, Prec: 0.0170, Rec: 0.6925 lr: 0.00050\n",
      "Epoch 1/Step 1390, Loss: -0.03049, Accuracy: 0.97367, F1: 0.0528, Prec: 0.0170, Rec: 0.6924 lr: 0.00050\n",
      "Epoch 1/Step 1400, Loss: -0.02637, Accuracy: 0.97376, F1: 0.0528, Prec: 0.0171, Rec: 0.6922 lr: 0.00050\n",
      "Epoch 1/Step 1410, Loss: -0.04145, Accuracy: 0.97385, F1: 0.0528, Prec: 0.0171, Rec: 0.6921 lr: 0.00050\n",
      "Epoch 1/Step 1420, Loss: -0.02832, Accuracy: 0.97393, F1: 0.0528, Prec: 0.0172, Rec: 0.6920 lr: 0.00050\n"
     ]
    },
    {
     "ename": "KeyboardInterrupt",
     "evalue": "",
     "output_type": "error",
     "traceback": [
      "\u001b[0;31m---------------------------------------------------------------------------\u001b[0m",
      "\u001b[0;31mKeyboardInterrupt\u001b[0m                         Traceback (most recent call last)",
      "\u001b[0;32m/tmp/ipykernel_23450/1162003252.py\u001b[0m in \u001b[0;36m?\u001b[0;34m()\u001b[0m\n\u001b[1;32m     77\u001b[0m \u001b[0mBATCH_SIZE\u001b[0m\u001b[0;34m=\u001b[0m\u001b[0;36m64\u001b[0m\u001b[0;34m\u001b[0m\u001b[0;34m\u001b[0m\u001b[0m\n\u001b[1;32m     78\u001b[0m \u001b[0mLOG_INTERVAL\u001b[0m\u001b[0;34m=\u001b[0m\u001b[0;36m10\u001b[0m\u001b[0;34m\u001b[0m\u001b[0;34m\u001b[0m\u001b[0m\n\u001b[1;32m     79\u001b[0m \u001b[0mepochs\u001b[0m \u001b[0;34m=\u001b[0m \u001b[0;36m10\u001b[0m\u001b[0;34m\u001b[0m\u001b[0;34m\u001b[0m\u001b[0m\n\u001b[1;32m     80\u001b[0m \u001b[0msaveModel\u001b[0m\u001b[0;34m=\u001b[0m\u001b[0;32mFalse\u001b[0m\u001b[0;34m\u001b[0m\u001b[0;34m\u001b[0m\u001b[0m\n\u001b[0;32m---> 81\u001b[0;31m \u001b[0;34m\u001b[0m\u001b[0m\n\u001b[0m\u001b[1;32m     82\u001b[0m \u001b[0;34m\u001b[0m\u001b[0m\n\u001b[1;32m     83\u001b[0m \u001b[0mlog_dir\u001b[0m \u001b[0;34m=\u001b[0m \u001b[0;34m\"./logs/\"\u001b[0m\u001b[0;34m+\u001b[0m\u001b[0mmodel\u001b[0m\u001b[0;34m.\u001b[0m\u001b[0mname\u001b[0m\u001b[0;34m+\u001b[0m\u001b[0;34m\"/\"\u001b[0m \u001b[0;34m+\u001b[0m \u001b[0mdatetime\u001b[0m\u001b[0;34m.\u001b[0m\u001b[0mdatetime\u001b[0m\u001b[0;34m.\u001b[0m\u001b[0mnow\u001b[0m\u001b[0;34m(\u001b[0m\u001b[0;34m)\u001b[0m\u001b[0;34m.\u001b[0m\u001b[0mstrftime\u001b[0m\u001b[0;34m(\u001b[0m\u001b[0;34m\"%Y%m%d-%H%M%S\"\u001b[0m\u001b[0;34m)\u001b[0m\u001b[0;34m+\u001b[0m\u001b[0;34m\"_\"\u001b[0m\u001b[0;34m+\u001b[0m\u001b[0mSO\u001b[0m\u001b[0;34m\u001b[0m\u001b[0;34m\u001b[0m\u001b[0m\n\u001b[1;32m     84\u001b[0m tensorboard_callback = tf.keras.callbacks.TensorBoard(log_dir=log_dir, histogram_freq=1,\n",
      "\u001b[0;32m/tmp/ipykernel_23450/1162003252.py\u001b[0m in \u001b[0;36m?\u001b[0;34m(x_batch_train, y_batch_train)\u001b[0m\n\u001b[1;32m     54\u001b[0m         \u001b[0;31m# on the GradientTape.\u001b[0m\u001b[0;34m\u001b[0m\u001b[0;34m\u001b[0m\u001b[0m\n\u001b[1;32m     55\u001b[0m         \u001b[0mprobs\u001b[0m \u001b[0;34m=\u001b[0m \u001b[0mmodel\u001b[0m\u001b[0;34m(\u001b[0m\u001b[0mx_batch_train\u001b[0m\u001b[0;34m,\u001b[0m \u001b[0mtraining\u001b[0m\u001b[0;34m=\u001b[0m\u001b[0;32mTrue\u001b[0m\u001b[0;34m)\u001b[0m\u001b[0;34m\u001b[0m\u001b[0;34m\u001b[0m\u001b[0m\n\u001b[1;32m     56\u001b[0m \u001b[0;34m\u001b[0m\u001b[0m\n\u001b[1;32m     57\u001b[0m         \u001b[0;31m# Compute the loss value for this minibatch.\u001b[0m\u001b[0;34m\u001b[0m\u001b[0;34m\u001b[0m\u001b[0m\n\u001b[0;32m---> 58\u001b[0;31m         \u001b[0mloss_value\u001b[0m \u001b[0;34m=\u001b[0m \u001b[0mloss_fn\u001b[0m\u001b[0;34m(\u001b[0m\u001b[0my_batch_train\u001b[0m\u001b[0;34m,\u001b[0m \u001b[0mprobs\u001b[0m\u001b[0;34m)\u001b[0m\u001b[0;34m\u001b[0m\u001b[0;34m\u001b[0m\u001b[0m\n\u001b[0m\u001b[1;32m     59\u001b[0m \u001b[0;34m\u001b[0m\u001b[0m\n\u001b[1;32m     60\u001b[0m     \u001b[0;31m# Use the gradient tape to automatically retrieve\u001b[0m\u001b[0;34m\u001b[0m\u001b[0;34m\u001b[0m\u001b[0m\n\u001b[1;32m     61\u001b[0m     \u001b[0;31m# the gradients of the trainable variables with respect to the loss.\u001b[0m\u001b[0;34m\u001b[0m\u001b[0;34m\u001b[0m\u001b[0m\n",
      "\u001b[0;32m~/miniconda3/envs/tf/lib/python3.9/site-packages/keras/src/losses.py\u001b[0m in \u001b[0;36m?\u001b[0;34m(self, y_true, y_pred, sample_weight)\u001b[0m\n\u001b[1;32m    156\u001b[0m             \u001b[0mreduction\u001b[0m \u001b[0;34m=\u001b[0m \u001b[0mself\u001b[0m\u001b[0;34m.\u001b[0m\u001b[0m_get_reduction\u001b[0m\u001b[0;34m(\u001b[0m\u001b[0;34m)\u001b[0m\u001b[0;34m\u001b[0m\u001b[0;34m\u001b[0m\u001b[0m\n\u001b[1;32m    157\u001b[0m             sample_weight = losses_utils.apply_valid_mask(\n\u001b[1;32m    158\u001b[0m                 \u001b[0mlosses\u001b[0m\u001b[0;34m,\u001b[0m \u001b[0msample_weight\u001b[0m\u001b[0;34m,\u001b[0m \u001b[0mmask\u001b[0m\u001b[0;34m,\u001b[0m \u001b[0mreduction\u001b[0m\u001b[0;34m\u001b[0m\u001b[0;34m\u001b[0m\u001b[0m\n\u001b[1;32m    159\u001b[0m             )\n\u001b[0;32m--> 160\u001b[0;31m             return losses_utils.compute_weighted_loss(\n\u001b[0m\u001b[1;32m    161\u001b[0m                 \u001b[0mlosses\u001b[0m\u001b[0;34m,\u001b[0m \u001b[0msample_weight\u001b[0m\u001b[0;34m,\u001b[0m \u001b[0mreduction\u001b[0m\u001b[0;34m=\u001b[0m\u001b[0mreduction\u001b[0m\u001b[0;34m\u001b[0m\u001b[0;34m\u001b[0m\u001b[0m\n\u001b[1;32m    162\u001b[0m             )\n",
      "\u001b[0;32m/mnt/c/Users/Manuel/Documents/KaggleCAFAChallenge/utils.py\u001b[0m in \u001b[0;36m?\u001b[0;34m(self, y_true, y_pred, smooth)\u001b[0m\n\u001b[1;32m     62\u001b[0m     \u001b[0;32mdef\u001b[0m \u001b[0mcall\u001b[0m\u001b[0;34m(\u001b[0m\u001b[0mself\u001b[0m\u001b[0;34m,\u001b[0m \u001b[0my_true\u001b[0m\u001b[0;34m,\u001b[0m \u001b[0my_pred\u001b[0m\u001b[0;34m,\u001b[0m \u001b[0msmooth\u001b[0m\u001b[0;34m=\u001b[0m\u001b[0;36m1e-6\u001b[0m\u001b[0;34m)\u001b[0m\u001b[0;34m:\u001b[0m\u001b[0;34m\u001b[0m\u001b[0;34m\u001b[0m\u001b[0m\n\u001b[1;32m     63\u001b[0m         \u001b[0minputs\u001b[0m \u001b[0;34m=\u001b[0m \u001b[0mtf\u001b[0m\u001b[0;34m.\u001b[0m\u001b[0msqueeze\u001b[0m\u001b[0;34m(\u001b[0m\u001b[0mtf\u001b[0m\u001b[0;34m.\u001b[0m\u001b[0mcast\u001b[0m\u001b[0;34m(\u001b[0m\u001b[0my_pred\u001b[0m\u001b[0;34m,\u001b[0m \u001b[0mtf\u001b[0m\u001b[0;34m.\u001b[0m\u001b[0mdtypes\u001b[0m\u001b[0;34m.\u001b[0m\u001b[0mfloat32\u001b[0m\u001b[0;34m)\u001b[0m\u001b[0;34m)\u001b[0m\u001b[0;34m\u001b[0m\u001b[0;34m\u001b[0m\u001b[0m\n\u001b[0;32m---> 64\u001b[0;31m         \u001b[0mtargets\u001b[0m \u001b[0;34m=\u001b[0m \u001b[0mtf\u001b[0m\u001b[0;34m.\u001b[0m\u001b[0msqueeze\u001b[0m\u001b[0;34m(\u001b[0m\u001b[0mtf\u001b[0m\u001b[0;34m.\u001b[0m\u001b[0mcast\u001b[0m\u001b[0;34m(\u001b[0m\u001b[0my_true\u001b[0m\u001b[0;34m,\u001b[0m \u001b[0mtf\u001b[0m\u001b[0;34m.\u001b[0m\u001b[0mdtypes\u001b[0m\u001b[0;34m.\u001b[0m\u001b[0mfloat32\u001b[0m\u001b[0;34m)\u001b[0m\u001b[0;34m)\u001b[0m\u001b[0;34m\u001b[0m\u001b[0;34m\u001b[0m\u001b[0m\n\u001b[0m\u001b[1;32m     65\u001b[0m \u001b[0;34m\u001b[0m\u001b[0m\n\u001b[1;32m     66\u001b[0m         \u001b[0mintersection\u001b[0m \u001b[0;34m=\u001b[0m \u001b[0mtf\u001b[0m\u001b[0;34m.\u001b[0m\u001b[0mmath\u001b[0m\u001b[0;34m.\u001b[0m\u001b[0mreduce_sum\u001b[0m\u001b[0;34m(\u001b[0m\u001b[0mtf\u001b[0m\u001b[0;34m.\u001b[0m\u001b[0mmath\u001b[0m\u001b[0;34m.\u001b[0m\u001b[0mmultiply\u001b[0m\u001b[0;34m(\u001b[0m\u001b[0mtargets\u001b[0m\u001b[0;34m,\u001b[0m \u001b[0minputs\u001b[0m\u001b[0;34m)\u001b[0m\u001b[0;34m)\u001b[0m\u001b[0;34m\u001b[0m\u001b[0;34m\u001b[0m\u001b[0m\n\u001b[1;32m     67\u001b[0m         dice = (2 * intersection + smooth) / (\n",
      "\u001b[0;32m~/miniconda3/envs/tf/lib/python3.9/site-packages/tensorflow/python/util/traceback_utils.py\u001b[0m in \u001b[0;36m?\u001b[0;34m(*args, **kwargs)\u001b[0m\n\u001b[1;32m    151\u001b[0m     \u001b[0;32mexcept\u001b[0m \u001b[0mException\u001b[0m \u001b[0;32mas\u001b[0m \u001b[0me\u001b[0m\u001b[0;34m:\u001b[0m\u001b[0;34m\u001b[0m\u001b[0;34m\u001b[0m\u001b[0m\n\u001b[1;32m    152\u001b[0m       \u001b[0mfiltered_tb\u001b[0m \u001b[0;34m=\u001b[0m \u001b[0m_process_traceback_frames\u001b[0m\u001b[0;34m(\u001b[0m\u001b[0me\u001b[0m\u001b[0;34m.\u001b[0m\u001b[0m__traceback__\u001b[0m\u001b[0;34m)\u001b[0m\u001b[0;34m\u001b[0m\u001b[0;34m\u001b[0m\u001b[0m\n\u001b[1;32m    153\u001b[0m       \u001b[0;32mraise\u001b[0m \u001b[0me\u001b[0m\u001b[0;34m.\u001b[0m\u001b[0mwith_traceback\u001b[0m\u001b[0;34m(\u001b[0m\u001b[0mfiltered_tb\u001b[0m\u001b[0;34m)\u001b[0m \u001b[0;32mfrom\u001b[0m \u001b[0;32mNone\u001b[0m\u001b[0;34m\u001b[0m\u001b[0;34m\u001b[0m\u001b[0m\n\u001b[1;32m    154\u001b[0m     \u001b[0;32mfinally\u001b[0m\u001b[0;34m:\u001b[0m\u001b[0;34m\u001b[0m\u001b[0;34m\u001b[0m\u001b[0m\n\u001b[0;32m--> 155\u001b[0;31m       \u001b[0;32mdel\u001b[0m \u001b[0mfiltered_tb\u001b[0m\u001b[0;34m\u001b[0m\u001b[0;34m\u001b[0m\u001b[0m\n\u001b[0m",
      "\u001b[0;32m~/miniconda3/envs/tf/lib/python3.9/site-packages/tensorflow/python/util/dispatch.py\u001b[0m in \u001b[0;36m?\u001b[0;34m(*args, **kwargs)\u001b[0m\n\u001b[1;32m   1180\u001b[0m         \u001b[0mresult\u001b[0m \u001b[0;34m=\u001b[0m \u001b[0mdispatch\u001b[0m\u001b[0;34m(\u001b[0m\u001b[0mop_dispatch_handler\u001b[0m\u001b[0;34m,\u001b[0m \u001b[0margs\u001b[0m\u001b[0;34m,\u001b[0m \u001b[0mkwargs\u001b[0m\u001b[0;34m)\u001b[0m\u001b[0;34m\u001b[0m\u001b[0;34m\u001b[0m\u001b[0m\n\u001b[1;32m   1181\u001b[0m         \u001b[0;32mif\u001b[0m \u001b[0mresult\u001b[0m \u001b[0;32mis\u001b[0m \u001b[0;32mnot\u001b[0m \u001b[0mOpDispatcher\u001b[0m\u001b[0;34m.\u001b[0m\u001b[0mNOT_SUPPORTED\u001b[0m\u001b[0;34m:\u001b[0m\u001b[0;34m\u001b[0m\u001b[0;34m\u001b[0m\u001b[0m\n\u001b[1;32m   1182\u001b[0m           \u001b[0;32mreturn\u001b[0m \u001b[0mresult\u001b[0m\u001b[0;34m\u001b[0m\u001b[0;34m\u001b[0m\u001b[0m\n\u001b[1;32m   1183\u001b[0m         \u001b[0;32melse\u001b[0m\u001b[0;34m:\u001b[0m\u001b[0;34m\u001b[0m\u001b[0;34m\u001b[0m\u001b[0m\n\u001b[0;32m-> 1184\u001b[0;31m           \u001b[0;32mraise\u001b[0m\u001b[0;34m\u001b[0m\u001b[0;34m\u001b[0m\u001b[0m\n\u001b[0m",
      "\u001b[0;32m~/miniconda3/envs/tf/lib/python3.9/site-packages/tensorflow/python/ops/math_ops.py\u001b[0m in \u001b[0;36m?\u001b[0;34m(x, dtype, name)\u001b[0m\n\u001b[1;32m   1015\u001b[0m             \u001b[0;34m\"intended.\"\u001b[0m\u001b[0;34m\u001b[0m\u001b[0;34m\u001b[0m\u001b[0m\n\u001b[1;32m   1016\u001b[0m         )\n\u001b[1;32m   1017\u001b[0m       \u001b[0;32mif\u001b[0m \u001b[0mx\u001b[0m\u001b[0;34m.\u001b[0m\u001b[0mdtype\u001b[0m \u001b[0;34m!=\u001b[0m \u001b[0mbase_type\u001b[0m\u001b[0;34m:\u001b[0m\u001b[0;34m\u001b[0m\u001b[0;34m\u001b[0m\u001b[0m\n\u001b[1;32m   1018\u001b[0m         \u001b[0mx\u001b[0m \u001b[0;34m=\u001b[0m \u001b[0mgen_math_ops\u001b[0m\u001b[0;34m.\u001b[0m\u001b[0mcast\u001b[0m\u001b[0;34m(\u001b[0m\u001b[0mx\u001b[0m\u001b[0;34m,\u001b[0m \u001b[0mbase_type\u001b[0m\u001b[0;34m,\u001b[0m \u001b[0mname\u001b[0m\u001b[0;34m=\u001b[0m\u001b[0mname\u001b[0m\u001b[0;34m)\u001b[0m\u001b[0;34m\u001b[0m\u001b[0;34m\u001b[0m\u001b[0m\n\u001b[0;32m-> 1019\u001b[0;31m     \u001b[0;32mreturn\u001b[0m \u001b[0mx\u001b[0m\u001b[0;34m\u001b[0m\u001b[0;34m\u001b[0m\u001b[0m\n\u001b[0m",
      "\u001b[0;32m~/miniconda3/envs/tf/lib/python3.9/site-packages/tensorflow/python/ops/gen_math_ops.py\u001b[0m in \u001b[0;36m?\u001b[0;34m(x, DstT, Truncate, name)\u001b[0m\n\u001b[1;32m   1999\u001b[0m       \u001b[0;32mreturn\u001b[0m \u001b[0m_result\u001b[0m\u001b[0;34m\u001b[0m\u001b[0;34m\u001b[0m\u001b[0m\n\u001b[1;32m   2000\u001b[0m     \u001b[0;32mexcept\u001b[0m \u001b[0m_core\u001b[0m\u001b[0;34m.\u001b[0m\u001b[0m_NotOkStatusException\u001b[0m \u001b[0;32mas\u001b[0m \u001b[0me\u001b[0m\u001b[0;34m:\u001b[0m\u001b[0;34m\u001b[0m\u001b[0;34m\u001b[0m\u001b[0m\n\u001b[1;32m   2001\u001b[0m       \u001b[0m_ops\u001b[0m\u001b[0;34m.\u001b[0m\u001b[0mraise_from_not_ok_status\u001b[0m\u001b[0;34m(\u001b[0m\u001b[0me\u001b[0m\u001b[0;34m,\u001b[0m \u001b[0mname\u001b[0m\u001b[0;34m)\u001b[0m\u001b[0;34m\u001b[0m\u001b[0;34m\u001b[0m\u001b[0m\n\u001b[1;32m   2002\u001b[0m     \u001b[0;32mexcept\u001b[0m \u001b[0m_core\u001b[0m\u001b[0;34m.\u001b[0m\u001b[0m_FallbackException\u001b[0m\u001b[0;34m:\u001b[0m\u001b[0;34m\u001b[0m\u001b[0;34m\u001b[0m\u001b[0m\n\u001b[0;32m-> 2003\u001b[0;31m       \u001b[0;32mpass\u001b[0m\u001b[0;34m\u001b[0m\u001b[0;34m\u001b[0m\u001b[0m\n\u001b[0m\u001b[1;32m   2004\u001b[0m     \u001b[0;32mtry\u001b[0m\u001b[0;34m:\u001b[0m\u001b[0;34m\u001b[0m\u001b[0;34m\u001b[0m\u001b[0m\n\u001b[1;32m   2005\u001b[0m       return cast_eager_fallback(\n\u001b[1;32m   2006\u001b[0m           x, DstT=DstT, Truncate=Truncate, name=name, ctx=_ctx)\n",
      "\u001b[0;31mKeyboardInterrupt\u001b[0m: "
     ]
    }
   ],
   "source": [
    "# import tensorflow_addons as tfa\n",
    "\n",
    "BATCH_SIZE=64\n",
    "LOG_INTERVAL=10\n",
    "epochs = 10\n",
    "saveModel=False\n",
    "\n",
    "\n",
    "log_dir = \"./logs/\"+model.name+\"/\" + datetime.datetime.now().strftime(\"%Y%m%d-%H%M%S\")+\"_\"+SO\n",
    "tensorboard_callback = tf.keras.callbacks.TensorBoard(log_dir=log_dir, histogram_freq=1,\n",
    "                                                      write_graph=True, update_freq=5)\n",
    "\n",
    "\n",
    "summary_writer = tf.summary.create_file_writer(log_dir)\n",
    "\n",
    "# Instantiate an optimizer .\n",
    "# optimizer = tf.keras.optimizers.SGD(learning_rate=lr_schedule)\n",
    "# optimizer = tf.keras.optimizers.SGD(learning_rate=1e-3)\n",
    "optimizer = tf.keras.optimizers.AdamW(learning_rate=5e-4)\n",
    "\n",
    "# Instantiate a loss function.\n",
    "# loss_fn = tf.keras.losses.BinaryCrossentropy()\n",
    "# loss_fn = WeightedBinaryCE(np.ones(len(mlb.classes_)))\n",
    "# loss_fn = WeightedBinaryCE(labelWeightsCorr)\n",
    "loss_fn = WeightedComboLoss(labelWeightsCorr)\n",
    "\n",
    "train_acc_metric = tf.keras.metrics.BinaryAccuracy()\n",
    "train_f1_metric = WeightedF1(classWeights=labelWeightsCorr, threshold=0.5)\n",
    "train_prec = tf.keras.metrics.Precision()\n",
    "train_rec = tf.keras.metrics.Recall()\n",
    "# train_f1_metric = tfa.metrics.F1Score(num_classes=len(mlb.classes_), threshold=0.5, average=\"macro\")\n",
    "\n",
    "val_acc_metric = tf.keras.metrics.BinaryAccuracy()\n",
    "val_f1_metric = WeightedF1(classWeights=labelWeightsCorr, threshold=0.5)\n",
    "# val_f1_metric = tfa.metrics.F1Score(num_classes=len(mlb.classes_), threshold=0.5, average=\"macro\")\n",
    "val_prec = tf.keras.metrics.Precision()\n",
    "val_rec = tf.keras.metrics.Recall()\n",
    "\n",
    "batchedDataset = dataset.batch(BATCH_SIZE, drop_remainder=False)\n",
    "batchedDatasetVal = datasetVal.batch(BATCH_SIZE, drop_remainder=False)\n",
    "\n",
    "# batchedDataset = batchedDataset.cache(os.path.join(DATA_PATH, \"datasetCache\"+SO))\n",
    "# batchedDatasetVal = batchedDatasetVal.cache(os.path.join(DATA_PATH, \"datasetCacheVal\"+SO))\n",
    "\n",
    "# @tf.function()\n",
    "def trainStep(x_batch_train, y_batch_train):\n",
    "    # Open a GradientTape to record the operations run\n",
    "    # during the forward pass, which enables auto-differentiation.\n",
    "    with tf.GradientTape() as tape:\n",
    "\n",
    "        # Run the forward pass of the layer.\n",
    "        # The operations that the layer applies\n",
    "        # to its inputs are going to be recorded\n",
    "        # on the GradientTape.\n",
    "        probs = model(x_batch_train, training=True) \n",
    "\n",
    "        # Compute the loss value for this minibatch.\n",
    "        loss_value = loss_fn(y_batch_train, probs)\n",
    "\n",
    "    # Use the gradient tape to automatically retrieve\n",
    "    # the gradients of the trainable variables with respect to the loss.\n",
    "    grads = tape.gradient(loss_value, model.trainable_weights)\n",
    "    #Gradient clipping\n",
    "    # grads = [tf.clip_by_norm(g, 2.0) for g in grads]\n",
    "\n",
    "    # Run one step of gradient descent by updating\n",
    "    # the value of the variables to minimize the loss.\n",
    "    optimizer.apply_gradients(zip(grads, model.trainable_weights))\n",
    "\n",
    "    \n",
    "    return loss_value, probs\n",
    "\n",
    "maxStep=0\n",
    "\n",
    "for epoch in range(epochs):\n",
    "    print(\"\\nStart of epoch %d\" % (epoch+1,))\n",
    "\n",
    "    # Iterate over the batches of the dataset.\n",
    "    for step, (x_batch_train, y_batch_train) in enumerate(batchedDataset):\n",
    "\n",
    "        loss_value, probs=trainStep(x_batch_train,y_batch_train)\n",
    "\n",
    "        train_acc_metric.update_state(y_batch_train, probs)\n",
    "        train_f1_metric.update_state(y_batch_train, probs)\n",
    "        train_prec.update_state(y_batch_train, probs)\n",
    "        train_rec.update_state(y_batch_train, probs)\n",
    "\n",
    "        # Log \n",
    "        if step % LOG_INTERVAL == 0:\n",
    "            template = 'Epoch {}/Step {}, Loss: {:.5f}, Accuracy: {:.5f}, F1: {:.4f}, Prec: {:.4f}, Rec: {:.4f} lr: {:.5f}'\n",
    "            print (template.format(epoch+1, step,loss_value, \n",
    "                                    train_acc_metric.result(),train_f1_metric.result(),\n",
    "                                    train_prec.result(), train_rec.result(), optimizer.learning_rate.numpy()))\n",
    "            \n",
    "            with summary_writer.as_default():\n",
    "                tf.summary.scalar('loss', loss_value, step=maxStep*epoch+step)\n",
    "                tf.summary.scalar('accuracy', train_acc_metric.result(), step=maxStep*epoch+step)\n",
    "                tf.summary.scalar('f1', train_f1_metric.result(), step=maxStep*epoch+step)\n",
    "                tf.summary.scalar('prec', train_prec.result(), step=maxStep*epoch+step)\n",
    "                tf.summary.scalar('rec', train_rec.result(), step=maxStep*epoch+step)\n",
    "                tf.summary.scalar('learning rate', optimizer.learning_rate.numpy(), step=maxStep*epoch+step)\n",
    "                summary_writer.flush()\n",
    "\n",
    "    \n",
    "    train_acc_metric.reset_states()\n",
    "    train_f1_metric.reset_states()\n",
    "    train_prec.reset_states()\n",
    "    train_rec.reset_states()\n",
    "\n",
    "    maxStep=step\n",
    "\n",
    "    print(\"Epoch finished. Start validation\")\n",
    "    for x_batch_val, y_batch_val in batchedDatasetVal:\n",
    "        valProbs = model(x_batch_val, training=False)\n",
    "        # Update val metrics\n",
    "        val_acc_metric.update_state(y_batch_val, valProbs)\n",
    "        val_f1_metric.update_state(y_batch_val, valProbs)\n",
    "        val_prec.update_state(y_batch_val, valProbs)\n",
    "        val_rec.update_state(y_batch_val, valProbs)\n",
    "    val_acc = val_acc_metric.result()\n",
    "    val_acc_metric.reset_states()\n",
    "    val_f1 = val_f1_metric.result()\n",
    "    val_f1_metric.reset_states()\n",
    "    val_precision = val_prec.result()\n",
    "    val_prec.reset_states()\n",
    "    val_recall = val_rec.result()\n",
    "    val_rec.reset_states()\n",
    "    print(\"Validation acc: %.4f\" % (float(val_acc),))\n",
    "    print(\"Validation f1: %.4f\" % (float(val_f1),))\n",
    "    print(\"Validation precision: %.4f\" % (float(val_precision),))\n",
    "    print(\"Validation recall: %.4f\" % (float(val_recall),))\n",
    "    with summary_writer.as_default():\n",
    "        tf.summary.scalar('valAcc', float(val_acc), step=epoch)\n",
    "        tf.summary.scalar('valF1', float(val_f1), step=epoch)\n",
    "        tf.summary.scalar('valPrecision', float(val_precision), step=epoch)\n",
    "        tf.summary.scalar('valRecall', float(val_recall), step=epoch)\n",
    "        summary_writer.flush()\n",
    "    if saveModel:\n",
    "      model.save(os.path.join(DATA_PATH, \"model_\"+SO+\"_epoch_{}_valAcc{:.3f}\".format(epoch, float(val_acc))))"
   ]
  },
  {
   "cell_type": "code",
   "execution_count": null,
   "id": "cefc1f6a",
   "metadata": {},
   "outputs": [],
   "source": [
    "\n",
    "probs= model.predict(tf.expand_dims(list(datasetVal.take(32))[10][0], 0))\n",
    "prediction= [1 if p > 0.5 else 0 for p in probs[0]]\n",
    "probabilities= probs[probs>0.5]\n",
    "# classes = np.argwhere(prediction)\n",
    "print(mlb.inverse_transform(np.array([prediction])))\n",
    "print(probabilities)"
   ]
  }
 ],
 "metadata": {
  "kernelspec": {
   "display_name": "Python 3 (ipykernel)",
   "language": "python",
   "name": "python3"
  },
  "language_info": {
   "codemirror_mode": {
    "name": "ipython",
    "version": 3
   },
   "file_extension": ".py",
   "mimetype": "text/x-python",
   "name": "python",
   "nbconvert_exporter": "python",
   "pygments_lexer": "ipython3",
   "version": "3.9.16"
  }
 },
 "nbformat": 4,
 "nbformat_minor": 5
}
