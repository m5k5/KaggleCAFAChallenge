{
 "cells": [
  {
   "cell_type": "code",
   "execution_count": 1,
   "id": "9c1d77e7",
   "metadata": {},
   "outputs": [
    {
     "name": "stderr",
     "output_type": "stream",
     "text": [
      "2023-05-17 00:05:01.974059: I tensorflow/core/platform/cpu_feature_guard.cc:182] This TensorFlow binary is optimized to use available CPU instructions in performance-critical operations.\n",
      "To enable the following instructions: AVX2 FMA, in other operations, rebuild TensorFlow with the appropriate compiler flags.\n",
      "2023-05-17 00:05:02.414492: W tensorflow/compiler/tf2tensorrt/utils/py_utils.cc:38] TF-TRT Warning: Could not find TensorRT\n"
     ]
    },
    {
     "name": "stdout",
     "output_type": "stream",
     "text": [
      "/mnt/e/ML/cafa-5-protein-function-prediction\n"
     ]
    }
   ],
   "source": [
    "import os\n",
    "from dotenv import load_dotenv\n",
    "import numpy as np\n",
    "import tensorflow as tf\n",
    "import pandas as pd\n",
    "import datetime\n",
    "\n",
    "load_dotenv(override=True)\n",
    "\n",
    "DATA_PATH = os.getenv('DATA_PATH')\n",
    "print(DATA_PATH)\n",
    "\n",
    "# Choose subontology (CCO, MFO or BPO)\n",
    "SO = 'CCO'"
   ]
  },
  {
   "attachments": {},
   "cell_type": "markdown",
   "id": "e3544f8a",
   "metadata": {},
   "source": [
    "## Reading fasta, obo and tsv files"
   ]
  },
  {
   "cell_type": "code",
   "execution_count": 2,
   "id": "c8b515f2",
   "metadata": {},
   "outputs": [],
   "source": [
    "from Bio import SeqIO\n",
    "\n",
    "sequences = [rec.seq for rec in SeqIO.parse(os.path.join(DATA_PATH, \"Train/train_sequences.fasta\"),\"fasta\")]\n",
    "ids = [rec.id for rec in SeqIO.parse(os.path.join(DATA_PATH, \"Train/train_sequences.fasta\"),\"fasta\")]"
   ]
  },
  {
   "cell_type": "code",
   "execution_count": 3,
   "id": "e492f673",
   "metadata": {},
   "outputs": [
    {
     "name": "stdout",
     "output_type": "stream",
     "text": [
      "There are 142246 sequences in the dataset.\n"
     ]
    }
   ],
   "source": [
    "print(\"There are {} sequences in the dataset.\".format(len(sequences)))"
   ]
  },
  {
   "cell_type": "code",
   "execution_count": 4,
   "id": "2898414e",
   "metadata": {},
   "outputs": [],
   "source": [
    "import networkx\n",
    "import obonet\n",
    "\n",
    "# Read the taxrank ontology\n",
    "url = os.path.join(DATA_PATH, \"Train/go-basic.obo\")\n",
    "graph = obonet.read_obo(url)\n",
    "\n"
   ]
  },
  {
   "cell_type": "code",
   "execution_count": 5,
   "id": "9f4bf949",
   "metadata": {},
   "outputs": [
    {
     "name": "stdout",
     "output_type": "stream",
     "text": [
      "(1196017, 3)\n"
     ]
    }
   ],
   "source": [
    "df = pd.read_csv(os.path.join(DATA_PATH, \"Train/train_terms.tsv\"), sep='\\t')\n",
    "\n",
    "dfSO = df.loc[df[\"aspect\"]==SO]\n",
    "uniqueTerms = dfSO[\"term\"].unique()\n",
    "termsArr = list(dfSO[\"term\"].to_numpy())\n",
    "\n",
    "uniqueTermsDict={}\n",
    "for i,el in enumerate(uniqueTerms):\n",
    "    uniqueTermsDict[el] = i\n",
    "    \n",
    "print(dfSO.shape)\n",
    "df=dfSO"
   ]
  },
  {
   "attachments": {},
   "cell_type": "markdown",
   "id": "29043526",
   "metadata": {},
   "source": [
    "Test for the first entry:"
   ]
  },
  {
   "cell_type": "code",
   "execution_count": 6,
   "id": "af3cf1b5",
   "metadata": {},
   "outputs": [
    {
     "data": {
      "text/html": [
       "<div>\n",
       "<style scoped>\n",
       "    .dataframe tbody tr th:only-of-type {\n",
       "        vertical-align: middle;\n",
       "    }\n",
       "\n",
       "    .dataframe tbody tr th {\n",
       "        vertical-align: top;\n",
       "    }\n",
       "\n",
       "    .dataframe thead th {\n",
       "        text-align: right;\n",
       "    }\n",
       "</style>\n",
       "<table border=\"1\" class=\"dataframe\">\n",
       "  <thead>\n",
       "    <tr style=\"text-align: right;\">\n",
       "      <th></th>\n",
       "      <th>term</th>\n",
       "      <th>aspect</th>\n",
       "    </tr>\n",
       "    <tr>\n",
       "      <th>EntryID</th>\n",
       "      <th></th>\n",
       "      <th></th>\n",
       "    </tr>\n",
       "  </thead>\n",
       "  <tbody>\n",
       "    <tr>\n",
       "      <th>A0A021WW32</th>\n",
       "      <td>GO:0099086</td>\n",
       "      <td>CCO</td>\n",
       "    </tr>\n",
       "    <tr>\n",
       "      <th>A0A021WW32</th>\n",
       "      <td>GO:0000228</td>\n",
       "      <td>CCO</td>\n",
       "    </tr>\n",
       "    <tr>\n",
       "      <th>A0A021WW32</th>\n",
       "      <td>GO:0005622</td>\n",
       "      <td>CCO</td>\n",
       "    </tr>\n",
       "    <tr>\n",
       "      <th>A0A021WW32</th>\n",
       "      <td>GO:0043226</td>\n",
       "      <td>CCO</td>\n",
       "    </tr>\n",
       "    <tr>\n",
       "      <th>A0A021WW32</th>\n",
       "      <td>GO:0000792</td>\n",
       "      <td>CCO</td>\n",
       "    </tr>\n",
       "    <tr>\n",
       "      <th>A0A021WW32</th>\n",
       "      <td>GO:0000795</td>\n",
       "      <td>CCO</td>\n",
       "    </tr>\n",
       "    <tr>\n",
       "      <th>A0A021WW32</th>\n",
       "      <td>GO:0000785</td>\n",
       "      <td>CCO</td>\n",
       "    </tr>\n",
       "    <tr>\n",
       "      <th>A0A021WW32</th>\n",
       "      <td>GO:0043231</td>\n",
       "      <td>CCO</td>\n",
       "    </tr>\n",
       "    <tr>\n",
       "      <th>A0A021WW32</th>\n",
       "      <td>GO:0032991</td>\n",
       "      <td>CCO</td>\n",
       "    </tr>\n",
       "    <tr>\n",
       "      <th>A0A021WW32</th>\n",
       "      <td>GO:0043229</td>\n",
       "      <td>CCO</td>\n",
       "    </tr>\n",
       "  </tbody>\n",
       "</table>\n",
       "</div>"
      ],
      "text/plain": [
       "                  term aspect\n",
       "EntryID                      \n",
       "A0A021WW32  GO:0099086    CCO\n",
       "A0A021WW32  GO:0000228    CCO\n",
       "A0A021WW32  GO:0005622    CCO\n",
       "A0A021WW32  GO:0043226    CCO\n",
       "A0A021WW32  GO:0000792    CCO\n",
       "A0A021WW32  GO:0000795    CCO\n",
       "A0A021WW32  GO:0000785    CCO\n",
       "A0A021WW32  GO:0043231    CCO\n",
       "A0A021WW32  GO:0032991    CCO\n",
       "A0A021WW32  GO:0043229    CCO"
      ]
     },
     "execution_count": 6,
     "metadata": {},
     "output_type": "execute_result"
    }
   ],
   "source": [
    "df.set_index(\"EntryID\", inplace=True)\n",
    "df.head(10)"
   ]
  },
  {
   "cell_type": "code",
   "execution_count": 7,
   "id": "c5777789",
   "metadata": {},
   "outputs": [
    {
     "name": "stdout",
     "output_type": "stream",
     "text": [
      "20.8 µs ± 619 ns per loop (mean ± std. dev. of 7 runs, 10,000 loops each)\n"
     ]
    }
   ],
   "source": [
    "%timeit df.loc[\"A0A021WW32\"]"
   ]
  },
  {
   "cell_type": "code",
   "execution_count": 8,
   "id": "e4dec705",
   "metadata": {},
   "outputs": [],
   "source": [
    "testID = df.index.to_list()[0]"
   ]
  },
  {
   "cell_type": "code",
   "execution_count": 9,
   "id": "3cb2bccb",
   "metadata": {},
   "outputs": [
    {
     "data": {
      "text/html": [
       "<div>\n",
       "<style scoped>\n",
       "    .dataframe tbody tr th:only-of-type {\n",
       "        vertical-align: middle;\n",
       "    }\n",
       "\n",
       "    .dataframe tbody tr th {\n",
       "        vertical-align: top;\n",
       "    }\n",
       "\n",
       "    .dataframe thead th {\n",
       "        text-align: right;\n",
       "    }\n",
       "</style>\n",
       "<table border=\"1\" class=\"dataframe\">\n",
       "  <thead>\n",
       "    <tr style=\"text-align: right;\">\n",
       "      <th></th>\n",
       "      <th>term</th>\n",
       "      <th>aspect</th>\n",
       "    </tr>\n",
       "    <tr>\n",
       "      <th>EntryID</th>\n",
       "      <th></th>\n",
       "      <th></th>\n",
       "    </tr>\n",
       "  </thead>\n",
       "  <tbody>\n",
       "    <tr>\n",
       "      <th>A0A021WW32</th>\n",
       "      <td>GO:0099086</td>\n",
       "      <td>CCO</td>\n",
       "    </tr>\n",
       "    <tr>\n",
       "      <th>A0A021WW32</th>\n",
       "      <td>GO:0000228</td>\n",
       "      <td>CCO</td>\n",
       "    </tr>\n",
       "    <tr>\n",
       "      <th>A0A021WW32</th>\n",
       "      <td>GO:0005622</td>\n",
       "      <td>CCO</td>\n",
       "    </tr>\n",
       "    <tr>\n",
       "      <th>A0A021WW32</th>\n",
       "      <td>GO:0043226</td>\n",
       "      <td>CCO</td>\n",
       "    </tr>\n",
       "    <tr>\n",
       "      <th>A0A021WW32</th>\n",
       "      <td>GO:0000792</td>\n",
       "      <td>CCO</td>\n",
       "    </tr>\n",
       "    <tr>\n",
       "      <th>A0A021WW32</th>\n",
       "      <td>GO:0000795</td>\n",
       "      <td>CCO</td>\n",
       "    </tr>\n",
       "    <tr>\n",
       "      <th>A0A021WW32</th>\n",
       "      <td>GO:0000785</td>\n",
       "      <td>CCO</td>\n",
       "    </tr>\n",
       "    <tr>\n",
       "      <th>A0A021WW32</th>\n",
       "      <td>GO:0043231</td>\n",
       "      <td>CCO</td>\n",
       "    </tr>\n",
       "    <tr>\n",
       "      <th>A0A021WW32</th>\n",
       "      <td>GO:0032991</td>\n",
       "      <td>CCO</td>\n",
       "    </tr>\n",
       "    <tr>\n",
       "      <th>A0A021WW32</th>\n",
       "      <td>GO:0043229</td>\n",
       "      <td>CCO</td>\n",
       "    </tr>\n",
       "    <tr>\n",
       "      <th>A0A021WW32</th>\n",
       "      <td>GO:0043232</td>\n",
       "      <td>CCO</td>\n",
       "    </tr>\n",
       "    <tr>\n",
       "      <th>A0A021WW32</th>\n",
       "      <td>GO:0005634</td>\n",
       "      <td>CCO</td>\n",
       "    </tr>\n",
       "    <tr>\n",
       "      <th>A0A021WW32</th>\n",
       "      <td>GO:0005705</td>\n",
       "      <td>CCO</td>\n",
       "    </tr>\n",
       "    <tr>\n",
       "      <th>A0A021WW32</th>\n",
       "      <td>GO:0043228</td>\n",
       "      <td>CCO</td>\n",
       "    </tr>\n",
       "    <tr>\n",
       "      <th>A0A021WW32</th>\n",
       "      <td>GO:0031981</td>\n",
       "      <td>CCO</td>\n",
       "    </tr>\n",
       "    <tr>\n",
       "      <th>A0A021WW32</th>\n",
       "      <td>GO:0000793</td>\n",
       "      <td>CCO</td>\n",
       "    </tr>\n",
       "    <tr>\n",
       "      <th>A0A021WW32</th>\n",
       "      <td>GO:0098687</td>\n",
       "      <td>CCO</td>\n",
       "    </tr>\n",
       "    <tr>\n",
       "      <th>A0A021WW32</th>\n",
       "      <td>GO:0043233</td>\n",
       "      <td>CCO</td>\n",
       "    </tr>\n",
       "    <tr>\n",
       "      <th>A0A021WW32</th>\n",
       "      <td>GO:0005700</td>\n",
       "      <td>CCO</td>\n",
       "    </tr>\n",
       "    <tr>\n",
       "      <th>A0A021WW32</th>\n",
       "      <td>GO:0005575</td>\n",
       "      <td>CCO</td>\n",
       "    </tr>\n",
       "    <tr>\n",
       "      <th>A0A021WW32</th>\n",
       "      <td>GO:0044815</td>\n",
       "      <td>CCO</td>\n",
       "    </tr>\n",
       "    <tr>\n",
       "      <th>A0A021WW32</th>\n",
       "      <td>GO:0005694</td>\n",
       "      <td>CCO</td>\n",
       "    </tr>\n",
       "    <tr>\n",
       "      <th>A0A021WW32</th>\n",
       "      <td>GO:0000794</td>\n",
       "      <td>CCO</td>\n",
       "    </tr>\n",
       "    <tr>\n",
       "      <th>A0A021WW32</th>\n",
       "      <td>GO:0008278</td>\n",
       "      <td>CCO</td>\n",
       "    </tr>\n",
       "    <tr>\n",
       "      <th>A0A021WW32</th>\n",
       "      <td>GO:0110165</td>\n",
       "      <td>CCO</td>\n",
       "    </tr>\n",
       "    <tr>\n",
       "      <th>A0A021WW32</th>\n",
       "      <td>GO:0005721</td>\n",
       "      <td>CCO</td>\n",
       "    </tr>\n",
       "    <tr>\n",
       "      <th>A0A021WW32</th>\n",
       "      <td>GO:0070013</td>\n",
       "      <td>CCO</td>\n",
       "    </tr>\n",
       "    <tr>\n",
       "      <th>A0A021WW32</th>\n",
       "      <td>GO:0043227</td>\n",
       "      <td>CCO</td>\n",
       "    </tr>\n",
       "    <tr>\n",
       "      <th>A0A021WW32</th>\n",
       "      <td>GO:0000775</td>\n",
       "      <td>CCO</td>\n",
       "    </tr>\n",
       "    <tr>\n",
       "      <th>A0A021WW32</th>\n",
       "      <td>GO:0031974</td>\n",
       "      <td>CCO</td>\n",
       "    </tr>\n",
       "  </tbody>\n",
       "</table>\n",
       "</div>"
      ],
      "text/plain": [
       "                  term aspect\n",
       "EntryID                      \n",
       "A0A021WW32  GO:0099086    CCO\n",
       "A0A021WW32  GO:0000228    CCO\n",
       "A0A021WW32  GO:0005622    CCO\n",
       "A0A021WW32  GO:0043226    CCO\n",
       "A0A021WW32  GO:0000792    CCO\n",
       "A0A021WW32  GO:0000795    CCO\n",
       "A0A021WW32  GO:0000785    CCO\n",
       "A0A021WW32  GO:0043231    CCO\n",
       "A0A021WW32  GO:0032991    CCO\n",
       "A0A021WW32  GO:0043229    CCO\n",
       "A0A021WW32  GO:0043232    CCO\n",
       "A0A021WW32  GO:0005634    CCO\n",
       "A0A021WW32  GO:0005705    CCO\n",
       "A0A021WW32  GO:0043228    CCO\n",
       "A0A021WW32  GO:0031981    CCO\n",
       "A0A021WW32  GO:0000793    CCO\n",
       "A0A021WW32  GO:0098687    CCO\n",
       "A0A021WW32  GO:0043233    CCO\n",
       "A0A021WW32  GO:0005700    CCO\n",
       "A0A021WW32  GO:0005575    CCO\n",
       "A0A021WW32  GO:0044815    CCO\n",
       "A0A021WW32  GO:0005694    CCO\n",
       "A0A021WW32  GO:0000794    CCO\n",
       "A0A021WW32  GO:0008278    CCO\n",
       "A0A021WW32  GO:0110165    CCO\n",
       "A0A021WW32  GO:0005721    CCO\n",
       "A0A021WW32  GO:0070013    CCO\n",
       "A0A021WW32  GO:0043227    CCO\n",
       "A0A021WW32  GO:0000775    CCO\n",
       "A0A021WW32  GO:0031974    CCO"
      ]
     },
     "execution_count": 9,
     "metadata": {},
     "output_type": "execute_result"
    }
   ],
   "source": [
    "df.loc[testID]"
   ]
  },
  {
   "cell_type": "code",
   "execution_count": 10,
   "id": "184631e1",
   "metadata": {},
   "outputs": [
    {
     "data": {
      "text/plain": [
       "array(['CCO'], dtype=object)"
      ]
     },
     "execution_count": 10,
     "metadata": {},
     "output_type": "execute_result"
    }
   ],
   "source": [
    "np.unique(df[\"aspect\"].to_numpy())"
   ]
  },
  {
   "attachments": {},
   "cell_type": "markdown",
   "id": "5338b7f8",
   "metadata": {},
   "source": [
    "## GO analysis"
   ]
  },
  {
   "cell_type": "code",
   "execution_count": 11,
   "id": "1058ef1d",
   "metadata": {},
   "outputs": [
    {
     "name": "stdout",
     "output_type": "stream",
     "text": [
      "GO:0005575    92912\n",
      "GO:0110165    91286\n",
      "GO:0005622    70785\n",
      "GO:0043226    60883\n",
      "GO:0043229    58315\n",
      "GO:0043227    55452\n",
      "GO:0005737    53193\n",
      "GO:0043231    52218\n",
      "GO:0005634    28932\n",
      "GO:0016020    25768\n",
      "GO:0071944    20467\n",
      "GO:0005829    18216\n",
      "GO:0005886    16738\n",
      "GO:0032991    16657\n",
      "GO:0043228    16145\n",
      "GO:0043232    16124\n",
      "GO:0031974    15696\n",
      "GO:0043233    15694\n",
      "GO:0070013    15688\n",
      "GO:0031981    13510\n",
      "Name: term, dtype: int64\n"
     ]
    }
   ],
   "source": [
    "item_counts = df[\"term\"].value_counts()\n",
    "print(item_counts[0:20])"
   ]
  },
  {
   "cell_type": "code",
   "execution_count": 12,
   "id": "eb35584f",
   "metadata": {},
   "outputs": [
    {
     "name": "stdout",
     "output_type": "stream",
     "text": [
      "nuclear lumen\n"
     ]
    }
   ],
   "source": [
    "id_to_name = {id_: data.get('name') for id_, data in graph.nodes(data=True)}\n",
    "name_to_id = {data['name']: id_ for id_, data in graph.nodes(data=True) if 'name' in data}\n",
    "print(id_to_name['GO:0031981'] )"
   ]
  },
  {
   "cell_type": "code",
   "execution_count": 13,
   "id": "85b2429c",
   "metadata": {},
   "outputs": [
    {
     "name": "stdout",
     "output_type": "stream",
     "text": [
      "intracellular organelle lumen\n",
      "{'GO:0016605', 'GO:0000328', 'GO:0005655', 'GO:0034423', 'GO:0005674', 'GO:0048188', 'GO:0014803', 'GO:0031093', 'GO:0035363', 'GO:0031096', 'GO:0031601', 'GO:0033018', 'GO:0034492', 'GO:0106055', 'GO:0005775', 'GO:0030869', 'GO:0016591', 'GO:0016581', 'GO:0034493', 'GO:0005673', 'GO:0005715', 'GO:0005788', 'GO:0043625', 'GO:1904813', 'GO:0001651', 'GO:0035808', 'GO:0070860', 'GO:0097486', 'GO:0043599', 'GO:0005638', 'GO:0034456', 'GO:0008622', 'GO:0031610', 'GO:0070985', 'GO:0031981', 'GO:0034422', 'GO:0070449', 'GO:0016607', 'GO:0120282', 'GO:0098899', 'GO:0005759', 'GO:0000801', 'GO:0034455', 'GO:0005713', 'GO:0008024', 'GO:0097013', 'GO:0005763', 'GO:0005675', 'GO:0034388', 'GO:0070311', 'GO:0001650', 'GO:0009353', 'GO:0072589', 'GO:0000228', 'GO:0061773', 'GO:0062113', 'GO:0034457', 'GO:0031979', 'GO:0016580', 'GO:0071601', 'GO:0030998', 'GO:1990251', 'GO:0005736', 'GO:0044666', 'GO:0016606', 'GO:0005730', 'GO:0005726', 'GO:0031906', 'GO:0110129', 'GO:0070517', 'GO:0042382', 'GO:1990826', 'GO:0000812', 'GO:0034974', 'GO:0033698', 'GO:0099086', 'GO:0071339', 'GO:0005712', 'GO:1990934', 'GO:0033276', 'GO:0000795', 'GO:0030874', 'GO:0000800', 'GO:0015030', 'GO:0106069', 'GO:0031908', 'GO:0070823', 'GO:1904856', 'GO:0035098', 'GO:0034495', 'GO:0031613', 'GO:0000802', 'GO:0070082', 'GO:0044842', 'GO:0033985', 'GO:0005967', 'GO:0005782', 'GO:0031904', 'GO:0034466', 'GO:0031970', 'GO:0001652', 'GO:0036224', 'GO:0031604', 'GO:0036014', 'GO:0019910', 'GO:0070211', 'GO:0031595', 'GO:0005652', 'GO:0034777', 'GO:0106174', 'GO:0031011', 'GO:0010445', 'GO:0034774', 'GO:0000262', 'GO:0005796', 'GO:0001405', 'GO:0016507', 'GO:0106172', 'GO:0042719', 'GO:0032021', 'GO:0000438', 'GO:0005662', 'GO:0032798', 'GO:0043596', 'GO:0005714', 'GO:0009841', 'GO:0048237', 'GO:0016363', 'GO:0016593', 'GO:0043160', 'GO:0062246', 'GO:0005947', 'GO:0005665', 'GO:0034099', 'GO:0034467', 'GO:0060202', 'GO:0000811', 'GO:0016604', 'GO:0031089', 'GO:0060204', 'GO:0034468', 'GO:0000120', 'GO:0030958', 'GO:0036021', 'GO:0070692', 'GO:0098898', 'GO:0070210', 'GO:0042645', 'GO:0001740', 'GO:0045244', 'GO:0005664', 'GO:0008023', 'GO:0035062', 'GO:0035097', 'GO:0099020', 'GO:0000817', 'GO:0034592', 'GO:0031298', 'GO:0034494', 'GO:0033557', 'GO:0034985', 'GO:0034967', 'GO:0005761', 'GO:0017087', 'GO:0043294', 'GO:0035580', 'GO:0005731', 'GO:0032044', 'GO:0060205', 'GO:0071682', 'GO:0005762', 'GO:0000118', 'GO:0005669', 'GO:0106173', 'GO:0101019', 'GO:0032783', 'GO:0043601', 'GO:0031598', 'GO:1990483', 'GO:0070931', 'GO:0097504', 'GO:0070822', 'GO:0098564', 'GO:0000330', 'GO:0097424', 'GO:0005654', 'GO:0099013', 'GO:0005658', 'GO:0000794', 'GO:0031905', 'GO:0044665', 'GO:0014804', 'GO:0000446', 'GO:0062238', 'GO:0035101', 'GO:0061201', 'GO:0030875', 'GO:0005962', 'GO:0000176', 'GO:0031907', 'GO:0097489', 'GO:0005760', 'GO:0097356', 'GO:0031973', 'GO:1904724', 'GO:0106176', 'GO:0035061', 'GO:0031261', 'GO:0030685', 'GO:0030896', 'GO:0030062', 'GO:0071920', 'GO:0110145', 'GO:0110016', 'GO:0005668', 'GO:0070824', 'GO:0031607', 'GO:1990836', 'GO:0034399', 'GO:0070556', 'GO:0034469', 'GO:0070545', 'GO:0070691', 'GO:0000500', 'GO:0106098', 'GO:0043202', 'GO:0031429', 'GO:0071162', 'GO:0009529', 'GO:0005656', 'GO:0032221', 'GO:0048238', 'GO:0005672', 'GO:0017133', 'GO:0005758', 'GO:0005641', 'GO:0031972', 'GO:0035578', 'GO:0099021', 'GO:0043494', 'GO:0098566'}\n",
      "{'GO:0043226', 'GO:0110165', 'GO:0043229', 'GO:0043233', 'GO:0005622', 'GO:0005575', 'GO:0031974'}\n"
     ]
    }
   ],
   "source": [
    "print(id_to_name['GO:0070013'] )\n",
    "print(networkx.ancestors(graph, 'GO:0070013'))\n",
    "print(networkx.descendants(graph, 'GO:0070013'))\n",
    "\n",
    "paths = networkx.all_simple_paths(\n",
    "    graph,\n",
    "    source='GO:0070013',\n",
    "    target=name_to_id['molecular_function']\n",
    ")\n",
    "\n",
    "for path in paths:\n",
    "    print('•', ' ⟶ '.join(id_to_name[node] for node in path))"
   ]
  },
  {
   "attachments": {},
   "cell_type": "markdown",
   "id": "3c099fc2",
   "metadata": {},
   "source": [
    "## Label encoding"
   ]
  },
  {
   "attachments": {},
   "cell_type": "markdown",
   "id": "cae9a3b0",
   "metadata": {},
   "source": [
    "The task is a multilabel classification: The output has several possible targets (Gene Ontologies) but each can only be 1 (existing) or 0 (non existing)"
   ]
  },
  {
   "cell_type": "code",
   "execution_count": 14,
   "id": "99f6a6ca",
   "metadata": {},
   "outputs": [
    {
     "name": "stdout",
     "output_type": "stream",
     "text": [
      "['GO:0099086' 'GO:0000228' 'GO:0005622' 'GO:0043226' 'GO:0000792'\n",
      " 'GO:0000795' 'GO:0000785' 'GO:0043231' 'GO:0032991' 'GO:0043229'\n",
      " 'GO:0043232' 'GO:0005634' 'GO:0005705' 'GO:0043228' 'GO:0031981'\n",
      " 'GO:0000793' 'GO:0098687' 'GO:0043233' 'GO:0005700' 'GO:0005575'\n",
      " 'GO:0044815' 'GO:0005694' 'GO:0000794' 'GO:0008278' 'GO:0110165'\n",
      " 'GO:0005721' 'GO:0070013' 'GO:0043227' 'GO:0000775' 'GO:0031974']\n",
      "[[0 0 0 ... 0 0 0]]\n",
      "2957\n"
     ]
    }
   ],
   "source": [
    "from sklearn.preprocessing import MultiLabelBinarizer\n",
    "\n",
    "topGOs= item_counts\n",
    "topGOs=topGOs.index.to_list()\n",
    "\n",
    "mlb = MultiLabelBinarizer()\n",
    "mlb.fit([topGOs])\n",
    "\n",
    "dftest=df.loc[testID]\n",
    "indices = dftest[\"term\"].to_numpy()\n",
    "print(indices)\n",
    "print(mlb.transform([indices]))\n",
    "print(len(mlb.classes_))"
   ]
  },
  {
   "attachments": {},
   "cell_type": "markdown",
   "id": "92019f8c",
   "metadata": {},
   "source": [
    "## Amino acids encoding"
   ]
  },
  {
   "cell_type": "code",
   "execution_count": 15,
   "id": "b747477d",
   "metadata": {},
   "outputs": [],
   "source": [
    "aminos_list = ['A', 'B', 'C', 'D', 'E', 'F', 'G', 'H', 'I', 'K', 'L', 'M', 'N', 'O', 'P', 'Q', 'R', 'S', 'T', 'U', 'V', 'W', 'Y', 'X']"
   ]
  },
  {
   "cell_type": "code",
   "execution_count": 16,
   "id": "6e42462e",
   "metadata": {},
   "outputs": [],
   "source": [
    "aa_dict = {'A': 1, 'B':24, 'C': 2, 'D': 3, 'E': 4, 'F': 5, 'G': 6, 'H': 7, 'I': 8, 'K': 9, 'L': 10, 'M': 11, 'N': 12, 'O': 21, 'P': 13, 'Q': 14, 'R': 15, 'S': 16, 'T': 17, 'U': 22, 'V': 18, 'W': 19, 'Y': 20, 'X':30, 'Z':23}"
   ]
  },
  {
   "attachments": {},
   "cell_type": "markdown",
   "id": "bfd823ba",
   "metadata": {},
   "source": [
    "## Build Dataset"
   ]
  },
  {
   "cell_type": "code",
   "execution_count": 17,
   "id": "431f9df8",
   "metadata": {},
   "outputs": [
    {
     "name": "stdout",
     "output_type": "stream",
     "text": [
      "The max. length of the sequences is 35375\n"
     ]
    }
   ],
   "source": [
    "seqLengths = [len(seq) for seq in sequences]\n",
    "maxLen = max(seqLengths)\n",
    "print(\"The max. length of the sequences is {}\".format(maxLen))"
   ]
  },
  {
   "attachments": {},
   "cell_type": "markdown",
   "id": "bc5cd8f5",
   "metadata": {},
   "source": [
    "Get the sequences that have at least one GO of the sub-ontology "
   ]
  },
  {
   "cell_type": "code",
   "execution_count": 18,
   "id": "e581e06c",
   "metadata": {},
   "outputs": [
    {
     "name": "stdout",
     "output_type": "stream",
     "text": [
      "['A0A021WW32' 'A0A021WZA4' 'A0A023GPJ3' ... 'X6RLP6' 'X6RLR1' 'X6RM59']\n",
      "92912\n"
     ]
    }
   ],
   "source": [
    "\n",
    "dfAll=pd.read_csv(os.path.join(DATA_PATH, \"Train/train_terms.tsv\"), sep='\\t')\n",
    "\n",
    "soEntries = dfAll.loc[dfAll[\"aspect\"]==SO]\n",
    "soEntryIds = soEntries[\"EntryID\"].unique()\n",
    "\n",
    "# print(len(seqEntries))\n",
    "print(soEntryIds)\n",
    "\n",
    "SoSequences = []\n",
    "for entry in soEntryIds:\n",
    "    SoSequences.append(sequences[ids.index(entry)])\n",
    "\n",
    "print(len(SoSequences))\n",
    "dfAll.set_index(\"EntryID\", inplace=True)"
   ]
  },
  {
   "cell_type": "code",
   "execution_count": 19,
   "id": "44f722e8",
   "metadata": {},
   "outputs": [
    {
     "name": "stdout",
     "output_type": "stream",
     "text": [
      "99572\n"
     ]
    }
   ],
   "source": [
    "import warnings\n",
    "\n",
    "TRAIN_VAL_SPLIT = 0.7\n",
    "\n",
    "#Use numpy vectorize to speed up the mapping (hopefully)\n",
    "mapping = lambda x: aa_dict[x]\n",
    "vectMapping = np.vectorize(mapping)\n",
    "\n",
    "# Shuffle the data\n",
    "import random\n",
    "random.seed(516213)\n",
    "c = list(zip(sequences, ids))\n",
    "random.shuffle(c)\n",
    "sequencesShuffle, idsShuffle = zip(*c)\n",
    "\n",
    "#reduce data for now\n",
    "# sequencesShuffle = sequencesShuffle[0:10000]\n",
    "# idsShuffle = idsShuffle[0:10000]\n",
    "\n",
    "#Train Validation Split\n",
    "split = int(np.floor(len(sequencesShuffle)*TRAIN_VAL_SPLIT))\n",
    "print(split)\n",
    "trainSeq = sequencesShuffle[0:split]\n",
    "valSeq = sequencesShuffle[split+1:]\n",
    "trainIds = idsShuffle[0:split]\n",
    "valIds = idsShuffle[split+1:]\n",
    "\n",
    "\n",
    "def generator(padding=True):\n",
    "    for i,seq in enumerate(trainSeq):\n",
    "        entryId = trainIds[i]\n",
    "        \n",
    "        labelData = dfAll.loc[entryId]\n",
    "        # indices = labelData[\"termToken\"].to_numpy()\n",
    "        indices = labelData[\"term\"].to_numpy()\n",
    "\n",
    "        with warnings.catch_warnings():\n",
    "            #supress the warnings for unknown classes\n",
    "            warnings.simplefilter(\"ignore\")\n",
    "            y = mlb.transform([indices])\n",
    "        \n",
    "        arr = np.array(seq)\n",
    "        mappedArr = vectMapping(arr)\n",
    "        if padding:\n",
    "            padWidth = maxLen - arr.size\n",
    "            mappedArr = np.pad(mappedArr, (0, padWidth))\n",
    "        yield mappedArr,y[0]\n",
    "\n",
    "def generatorVal(padding=True):\n",
    "    for i,seq in enumerate(valSeq):\n",
    "        entryId = valIds[i]\n",
    "        labelData = dfAll.loc[entryId]\n",
    "        \n",
    "        # indices = labelData[\"termToken\"].to_numpy()\n",
    "        indices = labelData[\"term\"].to_numpy()\n",
    "\n",
    "        with warnings.catch_warnings():\n",
    "            #supress the warnings for unknown classes\n",
    "            warnings.simplefilter(\"ignore\")\n",
    "            y = mlb.transform([indices])\n",
    "        \n",
    "        arr = np.array(seq)\n",
    "        mappedArr = vectMapping(arr)\n",
    "        if padding:\n",
    "            padWidth = maxLen - arr.size\n",
    "            mappedArr = np.pad(mappedArr, (0, padWidth))\n",
    "        yield mappedArr,y[0]\n",
    "        "
   ]
  },
  {
   "cell_type": "code",
   "execution_count": 20,
   "id": "bd15e8fd",
   "metadata": {},
   "outputs": [
    {
     "name": "stdout",
     "output_type": "stream",
     "text": [
      "The first sample sequence: [11 16  3 ...  0  0  0]\n",
      "The first sample has 0 classes\n"
     ]
    }
   ],
   "source": [
    "g = generator()\n",
    "test = next(g)\n",
    "print(\"The first sample sequence: {}\".format(test[0]))\n",
    "print(\"The first sample has {} classes\".format(np.count_nonzero(test[1])))"
   ]
  },
  {
   "attachments": {},
   "cell_type": "markdown",
   "id": "10c4a51a",
   "metadata": {},
   "source": [
    "## Tensorflow Classification"
   ]
  },
  {
   "cell_type": "code",
   "execution_count": 21,
   "id": "63f0d2e0",
   "metadata": {},
   "outputs": [
    {
     "name": "stderr",
     "output_type": "stream",
     "text": [
      "2023-05-17 00:06:08.649624: I tensorflow/compiler/xla/stream_executor/cuda/cuda_gpu_executor.cc:982] could not open file to read NUMA node: /sys/bus/pci/devices/0000:2b:00.0/numa_node\n",
      "Your kernel may have been built without NUMA support.\n",
      "2023-05-17 00:06:08.669230: I tensorflow/compiler/xla/stream_executor/cuda/cuda_gpu_executor.cc:982] could not open file to read NUMA node: /sys/bus/pci/devices/0000:2b:00.0/numa_node\n",
      "Your kernel may have been built without NUMA support.\n",
      "2023-05-17 00:06:08.669548: I tensorflow/compiler/xla/stream_executor/cuda/cuda_gpu_executor.cc:982] could not open file to read NUMA node: /sys/bus/pci/devices/0000:2b:00.0/numa_node\n",
      "Your kernel may have been built without NUMA support.\n",
      "2023-05-17 00:06:08.670681: I tensorflow/compiler/xla/stream_executor/cuda/cuda_gpu_executor.cc:982] could not open file to read NUMA node: /sys/bus/pci/devices/0000:2b:00.0/numa_node\n",
      "Your kernel may have been built without NUMA support.\n",
      "2023-05-17 00:06:08.671001: I tensorflow/compiler/xla/stream_executor/cuda/cuda_gpu_executor.cc:982] could not open file to read NUMA node: /sys/bus/pci/devices/0000:2b:00.0/numa_node\n",
      "Your kernel may have been built without NUMA support.\n",
      "2023-05-17 00:06:08.671286: I tensorflow/compiler/xla/stream_executor/cuda/cuda_gpu_executor.cc:982] could not open file to read NUMA node: /sys/bus/pci/devices/0000:2b:00.0/numa_node\n",
      "Your kernel may have been built without NUMA support.\n",
      "2023-05-17 00:06:09.202510: I tensorflow/compiler/xla/stream_executor/cuda/cuda_gpu_executor.cc:982] could not open file to read NUMA node: /sys/bus/pci/devices/0000:2b:00.0/numa_node\n",
      "Your kernel may have been built without NUMA support.\n",
      "2023-05-17 00:06:09.202902: I tensorflow/compiler/xla/stream_executor/cuda/cuda_gpu_executor.cc:982] could not open file to read NUMA node: /sys/bus/pci/devices/0000:2b:00.0/numa_node\n",
      "Your kernel may have been built without NUMA support.\n",
      "2023-05-17 00:06:09.202916: I tensorflow/core/common_runtime/gpu/gpu_device.cc:1722] Could not identify NUMA node of platform GPU id 0, defaulting to 0.  Your kernel may not have been built with NUMA support.\n",
      "2023-05-17 00:06:09.203252: I tensorflow/compiler/xla/stream_executor/cuda/cuda_gpu_executor.cc:982] could not open file to read NUMA node: /sys/bus/pci/devices/0000:2b:00.0/numa_node\n",
      "Your kernel may have been built without NUMA support.\n",
      "2023-05-17 00:06:09.203286: I tensorflow/core/common_runtime/gpu/gpu_device.cc:1635] Created device /job:localhost/replica:0/task:0/device:GPU:0 with 6569 MB memory:  -> device: 0, name: NVIDIA GeForce GTX 1070, pci bus id: 0000:2b:00.0, compute capability: 6.1\n"
     ]
    },
    {
     "name": "stdout",
     "output_type": "stream",
     "text": [
      "[(<tf.Tensor: shape=(35375,), dtype=int32, numpy=array([11, 16,  3, ...,  0,  0,  0], dtype=int32)>, <tf.Tensor: shape=(2957,), dtype=int32, numpy=array([0, 0, 0, ..., 0, 0, 0], dtype=int32)>)]\n"
     ]
    },
    {
     "name": "stderr",
     "output_type": "stream",
     "text": [
      "2023-05-17 00:06:09.453185: I tensorflow/core/common_runtime/executor.cc:1197] [/device:CPU:0] (DEBUG INFO) Executor start aborting (this does not indicate an error and you can ignore this message): INVALID_ARGUMENT: You must feed a value for placeholder tensor 'Placeholder/_0' with dtype int32\n",
      "\t [[{{node Placeholder/_0}}]]\n"
     ]
    }
   ],
   "source": [
    "import tensorflow as tf\n",
    "\n",
    "\n",
    "dataset = tf.data.Dataset.from_generator(generator, output_signature=(\n",
    "         tf.TensorSpec(shape=(maxLen,), dtype=tf.int32),\n",
    "         tf.TensorSpec(shape=(len(mlb.classes_),), dtype=tf.int32)))\n",
    "print(list(dataset.take(1)))\n",
    "\n",
    "datasetVal = tf.data.Dataset.from_generator(generatorVal, output_signature=(\n",
    "         tf.TensorSpec(shape=(None,), dtype=tf.int32),\n",
    "         tf.TensorSpec(shape=(len(mlb.classes_),), dtype=tf.int32)))"
   ]
  },
  {
   "cell_type": "code",
   "execution_count": 22,
   "id": "f0a554f0",
   "metadata": {},
   "outputs": [],
   "source": [
    "%load_ext tensorboard\n"
   ]
  },
  {
   "cell_type": "code",
   "execution_count": 23,
   "id": "98752d7e",
   "metadata": {},
   "outputs": [
    {
     "name": "stdout",
     "output_type": "stream",
     "text": [
      "Model: \"embedConvModel\"\n",
      "_________________________________________________________________\n",
      " Layer (type)                Output Shape              Param #   \n",
      "=================================================================\n",
      " input_1 (InputLayer)        [(None, 35375)]           0         \n",
      "                                                                 \n",
      " embedding (Embedding)       (None, 35375, 100)        2500      \n",
      "                                                                 \n",
      " global_average_pooling1d (G  (None, 100)              0         \n",
      " lobalAveragePooling1D)                                          \n",
      "                                                                 \n",
      " reshape (Reshape)           (None, 100, 1)            0         \n",
      "                                                                 \n",
      " conv1d (Conv1D)             (None, 94, 8)             64        \n",
      "                                                                 \n",
      " conv1d_1 (Conv1D)           (None, 88, 8)             456       \n",
      "                                                                 \n",
      " conv1d_2 (Conv1D)           (None, 82, 8)             456       \n",
      "                                                                 \n",
      " conv1d_3 (Conv1D)           (None, 76, 16)            912       \n",
      "                                                                 \n",
      " conv1d_4 (Conv1D)           (None, 70, 16)            1808      \n",
      "                                                                 \n",
      " conv1d_5 (Conv1D)           (None, 32, 16)            1808      \n",
      "                                                                 \n",
      " conv1d_6 (Conv1D)           (None, 13, 16)            1808      \n",
      "                                                                 \n",
      " flatten (Flatten)           (None, 208)               0         \n",
      "                                                                 \n",
      " dense (Dense)               (None, 32)                6688      \n",
      "                                                                 \n",
      " leaky_re_lu (LeakyReLU)     (None, 32)                0         \n",
      "                                                                 \n",
      " dense_1 (Dense)             (None, 32)                1056      \n",
      "                                                                 \n",
      " leaky_re_lu_1 (LeakyReLU)   (None, 32)                0         \n",
      "                                                                 \n",
      " dense_2 (Dense)             (None, 2957)              97581     \n",
      "                                                                 \n",
      "=================================================================\n",
      "Total params: 115,137\n",
      "Trainable params: 115,137\n",
      "Non-trainable params: 0\n",
      "_________________________________________________________________\n"
     ]
    }
   ],
   "source": [
    "from tensorflow.keras import layers\n",
    "\n",
    "VOCAB_SIZE=len(aa_dict)\n",
    "EMBED_DIM=100\n",
    "\n",
    "def createModel():\n",
    "    inputs = tf.keras.Input(shape=(maxLen,))\n",
    "    x=layers.Embedding(VOCAB_SIZE, EMBED_DIM, mask_zero=True, name=\"embedding\")(inputs)\n",
    "    x=layers.GlobalAveragePooling1D()(x)\n",
    "    x=layers.Reshape((EMBED_DIM,1))(x)\n",
    "    x=layers.Conv1D(8, 7)(x)\n",
    "    x=layers.Conv1D(8, 7)(x)\n",
    "    x=layers.Conv1D(8, 7)(x)\n",
    "    x=layers.Conv1D(16, 7)(x)\n",
    "    x=layers.Conv1D(16, 7)(x)\n",
    "    x=layers.Conv1D(16, 7, strides=2)(x)\n",
    "    x=layers.Conv1D(16, 7, strides=2)(x)\n",
    "    # x=layers.Conv1D(32, 5, activation=tf.keras.activations.relu)(x)\n",
    "    # x=layers.Conv1D(32, 5, activation=tf.keras.activations.relu)(x)\n",
    "    # x=layers.Conv1D(32, 5, activation=tf.keras.activations.relu)(x)\n",
    "    x=layers.Flatten()(x)\n",
    "    x=layers.Dense(32)(x)\n",
    "    x=layers.LeakyReLU()(x)\n",
    "    x=layers.Dense(32)(x)\n",
    "    x=layers.LeakyReLU()(x)\n",
    "    outputs=layers.Dense(len(mlb.classes_), activation=tf.keras.activations.sigmoid)(x)\n",
    "    # outputs=layers.Softmax()(x)\n",
    "\n",
    "    return tf.keras.Model(inputs=inputs, outputs=outputs, name=\"embedConvModel\")\n",
    "\n",
    "model = createModel()\n",
    "\n",
    "model.summary()\n"
   ]
  },
  {
   "cell_type": "code",
   "execution_count": 24,
   "id": "73140569",
   "metadata": {},
   "outputs": [],
   "source": [
    "\n",
    "VOCAB_SIZE=len(aa_dict)\n",
    "EMBED_DIM=200\n",
    "\n",
    "def createRnnModel():\n",
    "    inputs = tf.keras.Input(shape=(maxLen,))\n",
    "    x = tf.keras.layers.Masking(0)(inputs)\n",
    "    x=layers.Embedding(VOCAB_SIZE, EMBED_DIM, name=\"embedding\")(x)\n",
    "\n",
    "    # x = layers.Bidirectional(layers.LSTM(32, return_sequences=True))(x)\n",
    "    # x = layers.Bidirectional(layers.GRU(16, return_sequences=True))(x)\n",
    "    x = layers.Bidirectional(layers.GRU(16))(x)\n",
    "    # x = layers.LSTM(32)(x)\n",
    "    x = layers.Dense(16)(x)\n",
    "    x = layers.LeakyReLU()(x)\n",
    "    outputs=layers.Dense(len(mlb.classes_), activation=tf.keras.activations.sigmoid)(x)\n",
    "    # outputs=layers.Softmax()(x)\n",
    "\n",
    "    return tf.keras.Model(inputs=inputs, outputs=outputs, name=\"embedRnnModel\")\n",
    "\n",
    "# model = createRnnModel()\n",
    "\n",
    "# model.summary()"
   ]
  },
  {
   "cell_type": "code",
   "execution_count": 25,
   "id": "5a3ddc20",
   "metadata": {},
   "outputs": [],
   "source": [
    "import matplotlib.pyplot as plt\n",
    "#Learning rate schedule\n",
    "initial_learning_rate = 0.01\n",
    "lr_schedule = tf.keras.optimizers.schedules.ExponentialDecay(\n",
    "    initial_learning_rate,\n",
    "    decay_steps=10,\n",
    "    decay_rate=0.9,\n",
    "    staircase=False)\n",
    "# step = np.linspace(0,1000)\n",
    "# lr = lr_schedule(step)\n",
    "# plt.figure(figsize = (8,6))\n",
    "# plt.yscale(\"log\")\n",
    "# plt.plot(step, lr)\n",
    "# plt.ylim([0,max(plt.ylim())])\n",
    "# plt.xlabel('step')\n",
    "# _ = plt.ylabel('Learning Rate')"
   ]
  },
  {
   "cell_type": "code",
   "execution_count": 26,
   "id": "9113c4a7",
   "metadata": {},
   "outputs": [
    {
     "name": "stdout",
     "output_type": "stream",
     "text": [
      "Num GPUs Available:  1\n",
      "\n",
      "Start of epoch 1\n"
     ]
    },
    {
     "name": "stderr",
     "output_type": "stream",
     "text": [
      "2023-05-17 00:06:10.001156: I tensorflow/core/common_runtime/executor.cc:1197] [/device:CPU:0] (DEBUG INFO) Executor start aborting (this does not indicate an error and you can ignore this message): INVALID_ARGUMENT: You must feed a value for placeholder tensor 'Placeholder/_0' with dtype int32\n",
      "\t [[{{node Placeholder/_0}}]]\n"
     ]
    },
    {
     "ename": "AlreadyExistsError",
     "evalue": "{{function_node __wrapped__IteratorGetNext_output_types_2_device_/job:localhost/replica:0/task:0/device:CPU:0}} There appears to be a concurrent caching iterator running - cache lockfile already exists ('/mnt/e/ML/cafa-5-protein-function-prediction/datasetCacheCCO_0.lockfile'). If you are sure no other running TF computations are using this cache prefix, delete the lockfile and re-initialize the iterator. Lockfile contents: Created at: 1684273642 [Op:IteratorGetNext]",
     "output_type": "error",
     "traceback": [
      "\u001b[0;31m---------------------------------------------------------------------------\u001b[0m",
      "\u001b[0;31mAlreadyExistsError\u001b[0m                        Traceback (most recent call last)",
      "Cell \u001b[0;32mIn[26], line 68\u001b[0m\n\u001b[1;32m     65\u001b[0m \u001b[39mprint\u001b[39m(\u001b[39m\"\u001b[39m\u001b[39m\\n\u001b[39;00m\u001b[39mStart of epoch \u001b[39m\u001b[39m%d\u001b[39;00m\u001b[39m\"\u001b[39m \u001b[39m%\u001b[39m (epoch\u001b[39m+\u001b[39m\u001b[39m1\u001b[39m,))\n\u001b[1;32m     67\u001b[0m \u001b[39m# Iterate over the batches of the dataset.\u001b[39;00m\n\u001b[0;32m---> 68\u001b[0m \u001b[39mfor\u001b[39;00m step, (x_batch_train, y_batch_train) \u001b[39min\u001b[39;00m \u001b[39menumerate\u001b[39m(batchedDataset):\n\u001b[1;32m     70\u001b[0m     loss_value, grads\u001b[39m=\u001b[39mtrainStep(x_batch_train,y_batch_train)\n\u001b[1;32m     72\u001b[0m     \u001b[39m# Log \u001b[39;00m\n",
      "File \u001b[0;32m~/miniconda3/envs/tf/lib/python3.9/site-packages/tensorflow/python/data/ops/iterator_ops.py:797\u001b[0m, in \u001b[0;36mOwnedIterator.__next__\u001b[0;34m(self)\u001b[0m\n\u001b[1;32m    795\u001b[0m \u001b[39mdef\u001b[39;00m \u001b[39m__next__\u001b[39m(\u001b[39mself\u001b[39m):\n\u001b[1;32m    796\u001b[0m   \u001b[39mtry\u001b[39;00m:\n\u001b[0;32m--> 797\u001b[0m     \u001b[39mreturn\u001b[39;00m \u001b[39mself\u001b[39;49m\u001b[39m.\u001b[39;49m_next_internal()\n\u001b[1;32m    798\u001b[0m   \u001b[39mexcept\u001b[39;00m errors\u001b[39m.\u001b[39mOutOfRangeError:\n\u001b[1;32m    799\u001b[0m     \u001b[39mraise\u001b[39;00m \u001b[39mStopIteration\u001b[39;00m\n",
      "File \u001b[0;32m~/miniconda3/envs/tf/lib/python3.9/site-packages/tensorflow/python/data/ops/iterator_ops.py:780\u001b[0m, in \u001b[0;36mOwnedIterator._next_internal\u001b[0;34m(self)\u001b[0m\n\u001b[1;32m    777\u001b[0m \u001b[39m# TODO(b/77291417): This runs in sync mode as iterators use an error status\u001b[39;00m\n\u001b[1;32m    778\u001b[0m \u001b[39m# to communicate that there is no more data to iterate over.\u001b[39;00m\n\u001b[1;32m    779\u001b[0m \u001b[39mwith\u001b[39;00m context\u001b[39m.\u001b[39mexecution_mode(context\u001b[39m.\u001b[39mSYNC):\n\u001b[0;32m--> 780\u001b[0m   ret \u001b[39m=\u001b[39m gen_dataset_ops\u001b[39m.\u001b[39;49miterator_get_next(\n\u001b[1;32m    781\u001b[0m       \u001b[39mself\u001b[39;49m\u001b[39m.\u001b[39;49m_iterator_resource,\n\u001b[1;32m    782\u001b[0m       output_types\u001b[39m=\u001b[39;49m\u001b[39mself\u001b[39;49m\u001b[39m.\u001b[39;49m_flat_output_types,\n\u001b[1;32m    783\u001b[0m       output_shapes\u001b[39m=\u001b[39;49m\u001b[39mself\u001b[39;49m\u001b[39m.\u001b[39;49m_flat_output_shapes)\n\u001b[1;32m    785\u001b[0m   \u001b[39mtry\u001b[39;00m:\n\u001b[1;32m    786\u001b[0m     \u001b[39m# Fast path for the case `self._structure` is not a nested structure.\u001b[39;00m\n\u001b[1;32m    787\u001b[0m     \u001b[39mreturn\u001b[39;00m \u001b[39mself\u001b[39m\u001b[39m.\u001b[39m_element_spec\u001b[39m.\u001b[39m_from_compatible_tensor_list(ret)  \u001b[39m# pylint: disable=protected-access\u001b[39;00m\n",
      "File \u001b[0;32m~/miniconda3/envs/tf/lib/python3.9/site-packages/tensorflow/python/ops/gen_dataset_ops.py:3016\u001b[0m, in \u001b[0;36miterator_get_next\u001b[0;34m(iterator, output_types, output_shapes, name)\u001b[0m\n\u001b[1;32m   3014\u001b[0m   \u001b[39mreturn\u001b[39;00m _result\n\u001b[1;32m   3015\u001b[0m \u001b[39mexcept\u001b[39;00m _core\u001b[39m.\u001b[39m_NotOkStatusException \u001b[39mas\u001b[39;00m e:\n\u001b[0;32m-> 3016\u001b[0m   _ops\u001b[39m.\u001b[39;49mraise_from_not_ok_status(e, name)\n\u001b[1;32m   3017\u001b[0m \u001b[39mexcept\u001b[39;00m _core\u001b[39m.\u001b[39m_FallbackException:\n\u001b[1;32m   3018\u001b[0m   \u001b[39mpass\u001b[39;00m\n",
      "File \u001b[0;32m~/miniconda3/envs/tf/lib/python3.9/site-packages/tensorflow/python/framework/ops.py:7262\u001b[0m, in \u001b[0;36mraise_from_not_ok_status\u001b[0;34m(e, name)\u001b[0m\n\u001b[1;32m   7260\u001b[0m \u001b[39mdef\u001b[39;00m \u001b[39mraise_from_not_ok_status\u001b[39m(e, name):\n\u001b[1;32m   7261\u001b[0m   e\u001b[39m.\u001b[39mmessage \u001b[39m+\u001b[39m\u001b[39m=\u001b[39m (\u001b[39m\"\u001b[39m\u001b[39m name: \u001b[39m\u001b[39m\"\u001b[39m \u001b[39m+\u001b[39m name \u001b[39mif\u001b[39;00m name \u001b[39mis\u001b[39;00m \u001b[39mnot\u001b[39;00m \u001b[39mNone\u001b[39;00m \u001b[39melse\u001b[39;00m \u001b[39m\"\u001b[39m\u001b[39m\"\u001b[39m)\n\u001b[0;32m-> 7262\u001b[0m   \u001b[39mraise\u001b[39;00m core\u001b[39m.\u001b[39m_status_to_exception(e) \u001b[39mfrom\u001b[39;00m \u001b[39mNone\u001b[39;00m\n",
      "\u001b[0;31mAlreadyExistsError\u001b[0m: {{function_node __wrapped__IteratorGetNext_output_types_2_device_/job:localhost/replica:0/task:0/device:CPU:0}} There appears to be a concurrent caching iterator running - cache lockfile already exists ('/mnt/e/ML/cafa-5-protein-function-prediction/datasetCacheCCO_0.lockfile'). If you are sure no other running TF computations are using this cache prefix, delete the lockfile and re-initialize the iterator. Lockfile contents: Created at: 1684273642 [Op:IteratorGetNext]"
     ]
    }
   ],
   "source": [
    "BATCH_SIZE=32\n",
    "LOG_INTERVAL=10\n",
    "epochs = 20\n",
    "saveModel=False\n",
    "\n",
    "\n",
    "print(\"Num GPUs Available: \", len(tf.config.list_physical_devices('GPU')))\n",
    "\n",
    "log_dir = \"./logs/\"+model.name+\"/\" + datetime.datetime.now().strftime(\"%Y%m%d-%H%M%S\")+\"_\"+SO\n",
    "tensorboard_callback = tf.keras.callbacks.TensorBoard(log_dir=log_dir, histogram_freq=1,\n",
    "                                                      write_graph=True, update_freq=5)\n",
    "\n",
    "\n",
    "summary_writer = tf.summary.create_file_writer(log_dir)\n",
    "\n",
    "# Instantiate an optimizer .\n",
    "# optimizer = tf.keras.optimizers.SGD(learning_rate=lr_schedule)\n",
    "# optimizer = tf.keras.optimizers.SGD(learning_rate=1e-3)\n",
    "optimizer = tf.keras.optimizers.AdamW(learning_rate=0.01)\n",
    "\n",
    "# Instantiate a loss function.\n",
    "loss_fn = tf.keras.losses.BinaryCrossentropy()\n",
    "\n",
    "train_acc_metric = tf.keras.metrics.BinaryAccuracy()\n",
    "val_acc_metric = tf.keras.metrics.BinaryAccuracy()\n",
    "\n",
    "batchedDataset = dataset.batch(BATCH_SIZE, drop_remainder=False)\n",
    "batchedDatasetVal = datasetVal.batch(BATCH_SIZE, drop_remainder=False)\n",
    "# print(batchedDataset.take(1))\n",
    "\n",
    "batchedDataset = batchedDataset.cache(os.path.join(DATA_PATH, \"datasetCache\"+SO))\n",
    "batchedDatasetVal = batchedDatasetVal.cache(os.path.join(DATA_PATH, \"datasetCacheVal\"+SO))\n",
    "\n",
    "@tf.function()\n",
    "def trainStep(x_batch_train, y_batch_train):\n",
    "    # Open a GradientTape to record the operations run\n",
    "    # during the forward pass, which enables auto-differentiation.\n",
    "    with tf.GradientTape() as tape:\n",
    "\n",
    "        # Run the forward pass of the layer.\n",
    "        # The operations that the layer applies\n",
    "        # to its inputs are going to be recorded\n",
    "        # on the GradientTape.\n",
    "        probs = model(x_batch_train, training=True) \n",
    "\n",
    "        # Compute the loss value for this minibatch.\n",
    "        loss_value = loss_fn(y_batch_train, probs)\n",
    "\n",
    "    # Use the gradient tape to automatically retrieve\n",
    "    # the gradients of the trainable variables with respect to the loss.\n",
    "    grads = tape.gradient(loss_value, model.trainable_weights)\n",
    "    #Gradient clipping\n",
    "    # grads = [tf.clip_by_norm(g, 2.0) for g in grads]\n",
    "\n",
    "    # Run one step of gradient descent by updating\n",
    "    # the value of the variables to minimize the loss.\n",
    "    optimizer.apply_gradients(zip(grads, model.trainable_weights))\n",
    "\n",
    "    train_acc_metric.update_state(y_batch_train, probs)\n",
    "    return loss_value, grads\n",
    "\n",
    "maxStep=0\n",
    "\n",
    "for epoch in range(epochs):\n",
    "    print(\"\\nStart of epoch %d\" % (epoch+1,))\n",
    "\n",
    "    # Iterate over the batches of the dataset.\n",
    "    for step, (x_batch_train, y_batch_train) in enumerate(batchedDataset):\n",
    "\n",
    "        loss_value, grads=trainStep(x_batch_train,y_batch_train)\n",
    "\n",
    "        # Log \n",
    "        if step % LOG_INTERVAL == 0:\n",
    "            template = 'Epoch {}/Step {}, Loss: {:.5f}, Accuracy: {:.5f}, lr: {:.5f}'\n",
    "            print (template.format(epoch+1, step,loss_value, \n",
    "                                    train_acc_metric.result(), optimizer.learning_rate.numpy()))\n",
    "            # print([tf.norm(grad, ord=2).numpy() for grad in grads])\n",
    "            with summary_writer.as_default():\n",
    "                tf.summary.scalar('loss', loss_value, step=maxStep*epoch+step)\n",
    "                tf.summary.scalar('accuracy', train_acc_metric.result(), step=maxStep*epoch+step)\n",
    "                summary_writer.flush()\n",
    "\n",
    "    \n",
    "    train_acc_metric.reset_states()\n",
    "\n",
    "    maxStep=step\n",
    "\n",
    "    print(\"Epoch finished. Start validation\")\n",
    "    for x_batch_val, y_batch_val in batchedDatasetVal:\n",
    "        valProbs = model(x_batch_val, training=False)\n",
    "        # Update val metrics\n",
    "        val_acc_metric.update_state(y_batch_val, valProbs)\n",
    "    val_acc = val_acc_metric.result()\n",
    "    val_acc_metric.reset_states()\n",
    "    print(\"Validation acc: %.4f\" % (float(val_acc),))\n",
    "    with summary_writer.as_default():\n",
    "        tf.summary.scalar('valAcc', float(val_acc), step=epoch)\n",
    "        summary_writer.flush()\n",
    "    if saveModel:\n",
    "      model.save(os.path.join(DATA_PATH, \"model_\"+SO+\"_epoch_{}_valAcc{:.3f}\".format(epoch, float(val_acc))))"
   ]
  },
  {
   "cell_type": "code",
   "execution_count": null,
   "id": "374f7234",
   "metadata": {},
   "outputs": [],
   "source": [
    "# for layer in model.layers: print(layer.get_config(), layer.get_weights())"
   ]
  },
  {
   "cell_type": "code",
   "execution_count": null,
   "id": "cefc1f6a",
   "metadata": {},
   "outputs": [],
   "source": [
    "\n",
    "probs= model.predict(tf.expand_dims(list(datasetVal.take(32))[0][0], 0))\n",
    "prediction= [1 if p > 0.5 else 0 for p in probs[0]]\n",
    "# classes = np.argwhere(prediction)\n",
    "mlb.inverse_transform(np.array([prediction]))\n"
   ]
  }
 ],
 "metadata": {
  "kernelspec": {
   "display_name": "Python 3 (ipykernel)",
   "language": "python",
   "name": "python3"
  },
  "language_info": {
   "codemirror_mode": {
    "name": "ipython",
    "version": 3
   },
   "file_extension": ".py",
   "mimetype": "text/x-python",
   "name": "python",
   "nbconvert_exporter": "python",
   "pygments_lexer": "ipython3",
   "version": "3.9.16"
  }
 },
 "nbformat": 4,
 "nbformat_minor": 5
}
