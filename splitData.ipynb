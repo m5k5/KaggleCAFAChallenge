{
 "cells": [
  {
   "cell_type": "code",
   "execution_count": 1,
   "metadata": {},
   "outputs": [
    {
     "name": "stdout",
     "output_type": "stream",
     "text": [
      "/mnt/e/ML/cafa-5-protein-function-prediction\n",
      "/mnt/e/ML/output\n"
     ]
    }
   ],
   "source": [
    "import os\n",
    "from dotenv import load_dotenv\n",
    "import numpy as np\n",
    "import pandas as pd\n",
    "from tqdm.notebook import tqdm\n",
    "\n",
    "load_dotenv(override=True)\n",
    "\n",
    "DATA_PATH = os.getenv('DATA_PATH')\n",
    "DATA_PATH_INTERPRO = os.getenv('DATA_PATH_INTERPRO')\n",
    "print(DATA_PATH)\n",
    "print(DATA_PATH_INTERPRO)\n"
   ]
  },
  {
   "cell_type": "code",
   "execution_count": 8,
   "metadata": {},
   "outputs": [],
   "source": [
    "from Bio import SeqIO\n",
    "\n",
    "sequences = list(SeqIO.parse(os.path.join(DATA_PATH, \"Train/split/train_sequences5.fasta\"),\"fasta\"))"
   ]
  },
  {
   "cell_type": "code",
   "execution_count": 9,
   "metadata": {},
   "outputs": [
    {
     "data": {
      "text/plain": [
       "SeqRecord(seq=Seq('MLCRCSPLLLLVGLLTLRSALSQECAKYKVSTCRDCIESGPGCAWCQKLNFSGQ...AER'), id='A8DSD5', name='A8DSD5', description='A8DSD5 tr|A8DSD5|A8DSD5_PIG Integrin beta OS=Sus scrofa OX=9823 PE=2 SV=1', dbxrefs=[])"
      ]
     },
     "execution_count": 9,
     "metadata": {},
     "output_type": "execute_result"
    }
   ],
   "source": [
    "sequences[9482]"
   ]
  },
  {
   "cell_type": "code",
   "execution_count": 11,
   "metadata": {},
   "outputs": [
    {
     "name": "stdout",
     "output_type": "stream",
     "text": [
      "ID: A0A2H3HA93\n",
      "Name: A0A2H3HA93\n",
      "Description: A0A2H3HA93 tr|A0A2H3HA93|A0A2H3HA93_GIBZA Ras-like protein Rab7 OS=Gibberella zeae OX=5518 GN=FGRA07_01288 PE=4 SV=1\n",
      "Number of features: 0\n",
      "Seq('MSSRKKVLLKVIILGDSGVGKTSLMNQYVNKKFSASYKATIGADFLTREVLVDD...CAC')\n",
      "[    0  8851 17702 26553]\n"
     ]
    },
    {
     "data": {
      "application/vnd.jupyter.widget-view+json": {
       "model_id": "ea7e2d1622f441acaf18dabce8b47efc",
       "version_major": 2,
       "version_minor": 0
      },
      "text/plain": [
       "  0%|          | 0/4 [00:00<?, ?it/s]"
      ]
     },
     "metadata": {},
     "output_type": "display_data"
    }
   ],
   "source": [
    "\n",
    "# Build a list of short sequences:\n",
    "indices = np.linspace(0,len(sequences), 4, dtype=int)\n",
    "print(sequences[0])\n",
    "print(indices)\n",
    "\n",
    "for i,idx in enumerate(tqdm(indices)):\n",
    "    if i==len(indices)-1:\n",
    "        break\n",
    "    SeqIO.write(sequences[indices[i]:indices[i+1]], os.path.join(DATA_PATH, \"Train/split/train_sequences5_{}.fasta\".format(i+1)), \"fasta\")"
   ]
  }
 ],
 "metadata": {
  "kernelspec": {
   "display_name": "tf",
   "language": "python",
   "name": "python3"
  },
  "language_info": {
   "codemirror_mode": {
    "name": "ipython",
    "version": 3
   },
   "file_extension": ".py",
   "mimetype": "text/x-python",
   "name": "python",
   "nbconvert_exporter": "python",
   "pygments_lexer": "ipython3",
   "version": "3.9.16"
  },
  "orig_nbformat": 4
 },
 "nbformat": 4,
 "nbformat_minor": 2
}
