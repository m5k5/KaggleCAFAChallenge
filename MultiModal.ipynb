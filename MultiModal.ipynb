{
 "cells": [
  {
   "cell_type": "code",
   "execution_count": 1,
   "id": "9c1d77e7",
   "metadata": {},
   "outputs": [
    {
     "name": "stderr",
     "output_type": "stream",
     "text": [
      "2023-08-17 20:06:28.660421: I tensorflow/core/platform/cpu_feature_guard.cc:182] This TensorFlow binary is optimized to use available CPU instructions in performance-critical operations.\n",
      "To enable the following instructions: AVX2 FMA, in other operations, rebuild TensorFlow with the appropriate compiler flags.\n",
      "2023-08-17 20:06:29.206979: W tensorflow/compiler/tf2tensorrt/utils/py_utils.cc:38] TF-TRT Warning: Could not find TensorRT\n"
     ]
    },
    {
     "name": "stdout",
     "output_type": "stream",
     "text": [
      "Num GPUs Available:  1\n",
      "/mnt/e/ML/cafa-5-protein-function-prediction\n",
      "/mnt/e/ML/output\n"
     ]
    },
    {
     "name": "stderr",
     "output_type": "stream",
     "text": [
      "2023-08-17 20:06:30.194230: I tensorflow/compiler/xla/stream_executor/cuda/cuda_gpu_executor.cc:981] could not open file to read NUMA node: /sys/bus/pci/devices/0000:2b:00.0/numa_node\n",
      "Your kernel may have been built without NUMA support.\n",
      "2023-08-17 20:06:30.228157: I tensorflow/compiler/xla/stream_executor/cuda/cuda_gpu_executor.cc:981] could not open file to read NUMA node: /sys/bus/pci/devices/0000:2b:00.0/numa_node\n",
      "Your kernel may have been built without NUMA support.\n",
      "2023-08-17 20:06:30.228475: I tensorflow/compiler/xla/stream_executor/cuda/cuda_gpu_executor.cc:981] could not open file to read NUMA node: /sys/bus/pci/devices/0000:2b:00.0/numa_node\n",
      "Your kernel may have been built without NUMA support.\n"
     ]
    }
   ],
   "source": [
    "import os\n",
    "from dotenv import load_dotenv\n",
    "import numpy as np\n",
    "import tensorflow as tf\n",
    "import pandas as pd\n",
    "import datetime\n",
    "from tqdm.notebook import tqdm\n",
    "import warnings\n",
    "import matplotlib.pyplot as plt\n",
    "\n",
    "physical_devices = tf.config.list_physical_devices('GPU')\n",
    "print(\"Num GPUs Available: \", len(physical_devices))\n",
    "# try:\n",
    "#   tf.config.experimental.set_memory_growth(physical_devices[0], True)\n",
    "# except:\n",
    "#   # Invalid device or cannot modify virtual devices once initialized.\n",
    "#   pass\n",
    "\n",
    "load_dotenv(override=True)\n",
    "\n",
    "DATA_PATH = os.getenv('DATA_PATH')\n",
    "DATA_PATH_INTERPRO = os.getenv('DATA_PATH_INTERPRO')\n",
    "print(DATA_PATH)\n",
    "print(DATA_PATH_INTERPRO)\n",
    "\n",
    "# Choose subontology (CCO, MFO or BPO)\n",
    "SO = 'MFO'"
   ]
  },
  {
   "attachments": {},
   "cell_type": "markdown",
   "id": "e3544f8a",
   "metadata": {},
   "source": [
    "## Reading fasta, obo and tsv files"
   ]
  },
  {
   "cell_type": "code",
   "execution_count": 2,
   "id": "c8b515f2",
   "metadata": {},
   "outputs": [],
   "source": [
    "from Bio import SeqIO\n",
    "\n",
    "sequences = [rec.seq for rec in SeqIO.parse(os.path.join(DATA_PATH, \"Train/train_sequences.fasta\"),\"fasta\")]\n",
    "ids = [rec.id for rec in SeqIO.parse(os.path.join(DATA_PATH, \"Train/train_sequences.fasta\"),\"fasta\")]"
   ]
  },
  {
   "cell_type": "code",
   "execution_count": 3,
   "id": "2898414e",
   "metadata": {},
   "outputs": [],
   "source": [
    "import networkx\n",
    "import obonet\n",
    "\n",
    "# Read the taxrank ontology\n",
    "url = os.path.join(DATA_PATH, \"Train/go-basic.obo\")\n",
    "graph = obonet.read_obo(url)\n"
   ]
  },
  {
   "cell_type": "code",
   "execution_count": 4,
   "id": "9f4bf949",
   "metadata": {},
   "outputs": [
    {
     "name": "stdout",
     "output_type": "stream",
     "text": [
      "(3497732, 3)\n"
     ]
    }
   ],
   "source": [
    "df = pd.read_csv(os.path.join(DATA_PATH, \"Train/train_terms.tsv\"), sep='\\t')\n",
    "\n",
    "dfSO = df.loc[df[\"aspect\"]==SO]\n",
    "uniqueTerms = dfSO[\"term\"].unique()\n",
    "termsArr = list(dfSO[\"term\"].to_numpy())\n",
    "\n",
    "uniqueTermsDict={}\n",
    "for i,el in enumerate(uniqueTerms):\n",
    "    uniqueTermsDict[el] = i\n",
    "    \n",
    "print(dfSO.shape)\n",
    "df=dfSO\n",
    "\n",
    "df.set_index(\"EntryID\", inplace=True)"
   ]
  },
  {
   "cell_type": "code",
   "execution_count": 5,
   "id": "e4dec705",
   "metadata": {},
   "outputs": [],
   "source": [
    "testID = df.index.to_list()[0]"
   ]
  },
  {
   "cell_type": "code",
   "execution_count": 6,
   "id": "7fff067f",
   "metadata": {},
   "outputs": [],
   "source": [
    "dfGo = pd.read_csv(os.path.join(DATA_PATH, \"Train/train_terms.tsv\"), sep='\\t')\n",
    "\n",
    "# dfGo = dfGo.loc[dfGo[\"aspect\"]==SO]\n",
    "\n",
    "dfGo.set_index(\"term\", inplace=True)"
   ]
  },
  {
   "cell_type": "code",
   "execution_count": 7,
   "id": "b710f9e4",
   "metadata": {},
   "outputs": [
    {
     "name": "stdout",
     "output_type": "stream",
     "text": [
      "['A0A009IHW8' 'A0A021WW32' 'A0A023FFD0' ... 'X5L1L5' 'X5L565' 'X5M5N0']\n"
     ]
    }
   ],
   "source": [
    "dfAll=pd.read_csv(os.path.join(DATA_PATH, \"Train/train_terms.tsv\"), sep='\\t')\n",
    "\n",
    "soEntries = dfAll.loc[dfAll[\"aspect\"]==SO]\n",
    "soEntryIds = soEntries[\"EntryID\"].unique()\n",
    "\n",
    "print(soEntryIds)\n",
    "\n",
    "dfAll.set_index(\"EntryID\", inplace=True)"
   ]
  },
  {
   "cell_type": "markdown",
   "id": "e29458a1",
   "metadata": {},
   "source": [
    "Every protein should have at least one GO in every ontology.\n",
    "\n",
    "There are several sequences that don't have all GOs assigned, so we'll exclude them."
   ]
  },
  {
   "cell_type": "code",
   "execution_count": 8,
   "id": "904aeabd",
   "metadata": {},
   "outputs": [
    {
     "name": "stdout",
     "output_type": "stream",
     "text": [
      "142246\n"
     ]
    },
    {
     "data": {
      "text/plain": [
       "43189"
      ]
     },
     "execution_count": 8,
     "metadata": {},
     "output_type": "execute_result"
    }
   ],
   "source": [
    "allMfoIds = set(list(dfAll.loc[dfAll[\"aspect\"]==\"MFO\"].index))\n",
    "allCcoIds = set(list(dfAll.loc[dfAll[\"aspect\"]==\"CCO\"].index))\n",
    "allBpoIds = set(list(dfAll.loc[dfAll[\"aspect\"]==\"BPO\"].index))\n",
    "cleanedIds = list(set.intersection(*[allMfoIds, allCcoIds, allBpoIds]))\n",
    "print(len(ids))\n",
    "len(cleanedIds)"
   ]
  },
  {
   "cell_type": "code",
   "execution_count": 9,
   "id": "d1e107e6",
   "metadata": {},
   "outputs": [
    {
     "data": {
      "application/vnd.jupyter.widget-view+json": {
       "model_id": "99d61d4cb3c54327813b5d31655af4a4",
       "version_major": 2,
       "version_minor": 0
      },
      "text/plain": [
       "  0%|          | 0/43189 [00:00<?, ?it/s]"
      ]
     },
     "metadata": {},
     "output_type": "display_data"
    }
   ],
   "source": [
    "cleanedSequences=[]\n",
    "for cleanedId in tqdm(cleanedIds):\n",
    "    idxInSeqList = ids.index(cleanedId)\n",
    "    cleanedSequences.append(sequences[idxInSeqList])\n",
    "\n",
    "len(cleanedSequences)\n",
    "assert(len(cleanedSequences)==len(cleanedIds))"
   ]
  },
  {
   "attachments": {},
   "cell_type": "markdown",
   "id": "5338b7f8",
   "metadata": {},
   "source": [
    "## GO analysis"
   ]
  },
  {
   "cell_type": "code",
   "execution_count": 10,
   "id": "1058ef1d",
   "metadata": {},
   "outputs": [],
   "source": [
    "item_counts = df[\"term\"].value_counts()"
   ]
  },
  {
   "cell_type": "code",
   "execution_count": 11,
   "id": "eb35584f",
   "metadata": {},
   "outputs": [],
   "source": [
    "id_to_name = {id_: data.get('name') for id_, data in graph.nodes(data=True)}\n",
    "name_to_id = {data['name']: id_ for id_, data in graph.nodes(data=True) if 'name' in data}"
   ]
  },
  {
   "cell_type": "code",
   "execution_count": 12,
   "id": "68179caa",
   "metadata": {},
   "outputs": [],
   "source": [
    "if SO==\"CCO\":\n",
    "    GOTarget=name_to_id[\"cellular_component\"]\n",
    "elif SO==\"MFO\":\n",
    "    GOTarget=name_to_id[\"molecular_function\"]\n",
    "elif SO==\"BPO\":\n",
    "    GOTarget = name_to_id[\"biological_process\"]\n",
    "\n",
    "def getAllAncestors(go):\n",
    "    try:\n",
    "        paths = networkx.all_simple_paths(\n",
    "            graph,\n",
    "            source=go,\n",
    "            target=GOTarget\n",
    "        )\n",
    "    except:\n",
    "        return []\n",
    "    gos = []\n",
    "    for path in paths:\n",
    "        for node in path:\n",
    "            gos.append(node)\n",
    "    return list(set(gos))\n"
   ]
  },
  {
   "attachments": {},
   "cell_type": "markdown",
   "id": "3c099fc2",
   "metadata": {},
   "source": [
    "## Label encoding"
   ]
  },
  {
   "attachments": {},
   "cell_type": "markdown",
   "id": "cae9a3b0",
   "metadata": {},
   "source": [
    "The task is a multilabel classification: The output has several possible targets (Gene Ontologies) but each can only be 1 (existing) or 0 (non existing)"
   ]
  },
  {
   "attachments": {},
   "cell_type": "markdown",
   "id": "c8e63ed9",
   "metadata": {},
   "source": [
    "Extract label weights from IA"
   ]
  },
  {
   "cell_type": "code",
   "execution_count": 13,
   "id": "c7e3c316",
   "metadata": {},
   "outputs": [
    {
     "name": "stdout",
     "output_type": "stream",
     "text": [
      "Not found GOs: 0 (set to 0)\n"
     ]
    }
   ],
   "source": [
    "dfIa = pd.read_csv(os.path.join(DATA_PATH, \"IA.txt\"), sep='\\t', header=None)\n",
    "\n",
    "dfIa.set_index(0, inplace=True)\n",
    "\n",
    "labelWeights=[]\n",
    "allIndices = dfIa.index.tolist()\n",
    "\n",
    "notFound=0\n",
    "for go in item_counts.index.to_list():\n",
    "    if go in allIndices:\n",
    "        labelWeights.append(dfIa.loc[go].to_numpy()[0])\n",
    "    else:\n",
    "        notFound += 1\n",
    "        labelWeights.append(0)\n",
    "\n",
    "print(\"Not found GOs: {} (set to 0)\".format(notFound))"
   ]
  },
  {
   "cell_type": "code",
   "execution_count": 14,
   "id": "caeee590",
   "metadata": {},
   "outputs": [
    {
     "name": "stdout",
     "output_type": "stream",
     "text": [
      "Loading presaved data\n"
     ]
    }
   ],
   "source": [
    "topGOs=item_counts.index.to_list()\n",
    "\n",
    "threshold=0\n",
    "labelWeights=np.array(labelWeights)\n",
    "selection = labelWeights>threshold\n",
    "topGOs=np.array(topGOs)[selection]\n",
    "\n",
    "if os.path.exists(os.path.join(DATA_PATH, \"GODataSizes_\"+SO+\".npy\")):\n",
    "    print(\"Loading presaved data\")\n",
    "    GODataSizes = np.load(os.path.join(DATA_PATH, \"GODataSizes_\"+SO+\".npy\"))\n",
    "else:\n",
    "    GODataSizes= [dfGo.loc[g].size for g in topGOs]\n",
    "    np.save(os.path.join(DATA_PATH, \"GODataSizes_\"+SO), GODataSizes)\n"
   ]
  },
  {
   "cell_type": "code",
   "execution_count": 15,
   "id": "3e87f301",
   "metadata": {},
   "outputs": [
    {
     "name": "stdout",
     "output_type": "stream",
     "text": [
      "11807\n"
     ]
    }
   ],
   "source": [
    "#At least 10 samples\n",
    "print(np.count_nonzero(np.array(GODataSizes)>5))\n",
    "GODataSizes= np.array(GODataSizes)\n",
    "GOsWithSufficientData = topGOs[GODataSizes>5]\n"
   ]
  },
  {
   "cell_type": "markdown",
   "id": "70d1f4f4",
   "metadata": {},
   "source": [
    "Select all GOs that are present in data of the cleaned sequences"
   ]
  },
  {
   "cell_type": "code",
   "execution_count": 16,
   "id": "81325c69",
   "metadata": {},
   "outputs": [
    {
     "data": {
      "application/vnd.jupyter.widget-view+json": {
       "model_id": "73e3bfc51ed943788a20674016c32c39",
       "version_major": 2,
       "version_minor": 0
      },
      "text/plain": [
       "  0%|          | 0/43189 [00:00<?, ?it/s]"
      ]
     },
     "metadata": {},
     "output_type": "display_data"
    },
    {
     "name": "stdout",
     "output_type": "stream",
     "text": [
      "19749\n"
     ]
    }
   ],
   "source": [
    "uniqueGos= set()\n",
    "for cleanedId in tqdm(cleanedIds):\n",
    "    gos = df.loc[cleanedId][\"term\"].to_numpy()\n",
    "    uniqueGos.update(gos)\n",
    "\n",
    "uniqueGos=list(uniqueGos)\n",
    "print(len(uniqueGos))"
   ]
  },
  {
   "cell_type": "code",
   "execution_count": 17,
   "id": "b741e9ca",
   "metadata": {},
   "outputs": [
    {
     "name": "stdout",
     "output_type": "stream",
     "text": [
      "Not found GOs: 0 (set to 0)\n",
      "13376\n"
     ]
    }
   ],
   "source": [
    "labelWeights=[]\n",
    "notFound=0\n",
    "for go in uniqueGos:\n",
    "    if go in allIndices:\n",
    "        labelWeights.append(dfIa.loc[go].to_numpy()[0])\n",
    "    else:\n",
    "        notFound += 1\n",
    "        labelWeights.append(0)\n",
    "\n",
    "print(\"Not found GOs: {} (set to 0)\".format(notFound))\n",
    "labelWeights=np.array(labelWeights)\n",
    "selection = labelWeights>threshold\n",
    "cleanedGos=np.array(uniqueGos)[selection]\n",
    "print(len(cleanedGos))"
   ]
  },
  {
   "cell_type": "code",
   "execution_count": 18,
   "id": "99f6a6ca",
   "metadata": {},
   "outputs": [
    {
     "name": "stdout",
     "output_type": "stream",
     "text": [
      "14109\n",
      "['GO:0008152' 'GO:0034655' 'GO:0072523' 'GO:0044270' 'GO:0006753'\n",
      " 'GO:1901292' 'GO:0044237' 'GO:1901360' 'GO:0008150' 'GO:1901564'\n",
      " 'GO:1901565' 'GO:0009117' 'GO:0006139' 'GO:0044281' 'GO:0046496'\n",
      " 'GO:0019362' 'GO:0046483' 'GO:0055086' 'GO:0044248' 'GO:0019439'\n",
      " 'GO:0019637' 'GO:0006807' 'GO:0019677' 'GO:1901361' 'GO:0006163'\n",
      " 'GO:0046700' 'GO:0009987' 'GO:0006725' 'GO:0006796' 'GO:0034641'\n",
      " 'GO:0072521' 'GO:0071704' 'GO:0019364' 'GO:1901575' 'GO:0072526'\n",
      " 'GO:0046434' 'GO:0009166' 'GO:0072524' 'GO:0006195' 'GO:0009056'\n",
      " 'GO:0044238' 'GO:0006793' 'GO:0019674']\n",
      "[[0 0 0 ... 0 0 0]]\n",
      "13376\n"
     ]
    },
    {
     "name": "stderr",
     "output_type": "stream",
     "text": [
      "/home/manuel/miniconda3/envs/tf/lib/python3.9/site-packages/sklearn/preprocessing/_label.py:895: UserWarning: unknown class(es) ['GO:0006195', 'GO:0008150', 'GO:0019364', 'GO:1901292'] will be ignored\n",
      "  warnings.warn(\n"
     ]
    }
   ],
   "source": [
    "from sklearn.preprocessing import MultiLabelBinarizer\n",
    "import pickle\n",
    "\n",
    "print(len(topGOs))\n",
    "mlb = MultiLabelBinarizer()\n",
    "mlb.fit([cleanedGos])\n",
    "\n",
    "dftest=df.loc[testID]\n",
    "indices = dftest[\"term\"].to_numpy()\n",
    "print(indices)\n",
    "print(mlb.transform([indices]))\n",
    "print(len(mlb.classes_))\n",
    "\n",
    "with open(os.path.join(DATA_PATH,'MLB_'+SO+'.pkl'), 'wb') as f:\n",
    "    pickle.dump(mlb, f)"
   ]
  },
  {
   "cell_type": "code",
   "execution_count": 19,
   "id": "fb189ff8",
   "metadata": {},
   "outputs": [
    {
     "name": "stdout",
     "output_type": "stream",
     "text": [
      "Not found GOs: 0 (set to 0)\n"
     ]
    }
   ],
   "source": [
    "labelWeightsCorr=[]\n",
    "occurenceScores=[]\n",
    "occurenceDict={}\n",
    "termHist= df[\"term\"].value_counts()\n",
    "maxGoCount = termHist.max()\n",
    "\n",
    "notFound=0\n",
    "for go in mlb.classes_:\n",
    "    if go in allIndices:\n",
    "        occurenceScore = (maxGoCount-termHist[go])/maxGoCount\n",
    "        occurenceScores.append(occurenceScore)\n",
    "        occurenceDict[go] = termHist[go]\n",
    "        labelWeightsCorr.append(dfIa.loc[go].to_numpy()[0])\n",
    "    else:\n",
    "        notFound += 1\n",
    "        labelWeightsCorr.append(0)\n",
    "\n",
    "print(\"Not found GOs: {} (set to 0)\".format(notFound))\n",
    "labelWeightsCorr=np.array(labelWeightsCorr)"
   ]
  },
  {
   "cell_type": "code",
   "execution_count": 20,
   "id": "19458edf",
   "metadata": {},
   "outputs": [
    {
     "data": {
      "application/vnd.jupyter.widget-view+json": {
       "model_id": "79401d26bddc464488b276c97a535426",
       "version_major": 2,
       "version_minor": 0
      },
      "text/plain": [
       "0it [00:00, ?it/s]"
      ]
     },
     "metadata": {},
     "output_type": "display_data"
    },
    {
     "name": "stderr",
     "output_type": "stream",
     "text": [
      "2023-08-17 20:07:14.813018: I tensorflow/compiler/xla/stream_executor/cuda/cuda_gpu_executor.cc:981] could not open file to read NUMA node: /sys/bus/pci/devices/0000:2b:00.0/numa_node\n",
      "Your kernel may have been built without NUMA support.\n",
      "2023-08-17 20:07:14.813442: I tensorflow/compiler/xla/stream_executor/cuda/cuda_gpu_executor.cc:981] could not open file to read NUMA node: /sys/bus/pci/devices/0000:2b:00.0/numa_node\n",
      "Your kernel may have been built without NUMA support.\n",
      "2023-08-17 20:07:14.813768: I tensorflow/compiler/xla/stream_executor/cuda/cuda_gpu_executor.cc:981] could not open file to read NUMA node: /sys/bus/pci/devices/0000:2b:00.0/numa_node\n",
      "Your kernel may have been built without NUMA support.\n",
      "2023-08-17 20:07:15.340787: I tensorflow/compiler/xla/stream_executor/cuda/cuda_gpu_executor.cc:981] could not open file to read NUMA node: /sys/bus/pci/devices/0000:2b:00.0/numa_node\n",
      "Your kernel may have been built without NUMA support.\n",
      "2023-08-17 20:07:15.341359: I tensorflow/compiler/xla/stream_executor/cuda/cuda_gpu_executor.cc:981] could not open file to read NUMA node: /sys/bus/pci/devices/0000:2b:00.0/numa_node\n",
      "Your kernel may have been built without NUMA support.\n",
      "2023-08-17 20:07:15.341375: I tensorflow/core/common_runtime/gpu/gpu_device.cc:1726] Could not identify NUMA node of platform GPU id 0, defaulting to 0.  Your kernel may not have been built with NUMA support.\n",
      "2023-08-17 20:07:15.341738: I tensorflow/compiler/xla/stream_executor/cuda/cuda_gpu_executor.cc:981] could not open file to read NUMA node: /sys/bus/pci/devices/0000:2b:00.0/numa_node\n",
      "Your kernel may have been built without NUMA support.\n",
      "2023-08-17 20:07:15.341803: I tensorflow/core/common_runtime/gpu/gpu_device.cc:1639] Created device /job:localhost/replica:0/task:0/device:GPU:0 with 6595 MB memory:  -> device: 0, name: NVIDIA GeForce GTX 1070, pci bus id: 0000:2b:00.0, compute capability: 6.1\n"
     ]
    }
   ],
   "source": [
    "# ancestorDict = {}\n",
    "# goIdxTensors=[]\n",
    "\n",
    "# for goIdx, go in tqdm(enumerate(mlb.classes_)):\n",
    "#     ancestors = getAllAncestors(go)\n",
    "#     ancestors.append(go)\n",
    "#     with warnings.catch_warnings():\n",
    "#         #supress the warnings for unknown classes\n",
    "#         warnings.simplefilter(\"ignore\")\n",
    "#         fullPath = mlb.transform([ancestors])[0]\n",
    "#     fullPathTensor = tf.constant(fullPath)\n",
    "#     goIdxTensor = tf.constant(goIdx)\n",
    "#     goIdxTensors.append(goIdxTensor)\n",
    "#     ancestorDict[goIdxTensor.ref()] = fullPathTensor\n",
    "    \n",
    "# AncestorDictTensor = tf.lookup.KeyValueTensorInitializer(tf.constant(list(ancestorDict.keys())),tf.constant(np.array(list(ancestorDict.values()))))\n",
    "# AncestorDictLookup = tf.lookup.StaticHashTable(AncestorDictTensor,default_value=-1)"
   ]
  },
  {
   "attachments": {},
   "cell_type": "markdown",
   "id": "92019f8c",
   "metadata": {},
   "source": [
    "## Amino acids encoding"
   ]
  },
  {
   "cell_type": "code",
   "execution_count": 24,
   "id": "6e42462e",
   "metadata": {},
   "outputs": [],
   "source": [
    "aa_dict = {'A': 1, 'B':24, 'C': 2, 'D': 3, 'E': 4, 'F': 5, 'G': 6, 'H': 7, 'I': 8, 'K': 9, 'L': 10, 'M': 11, 'N': 12, 'O': 21, 'P': 13, 'Q': 14, 'R': 15, 'S': 16, 'T': 17, 'U': 22, 'V': 18, 'W': 19, 'Y': 20, 'X':30, 'Z':23}"
   ]
  },
  {
   "cell_type": "markdown",
   "id": "781c2a48",
   "metadata": {},
   "source": [
    "## T5 Embeds"
   ]
  },
  {
   "cell_type": "code",
   "execution_count": 25,
   "id": "45f2df27",
   "metadata": {},
   "outputs": [
    {
     "name": "stdout",
     "output_type": "stream",
     "text": [
      "(142246,)\n",
      "(142246, 1025)\n"
     ]
    },
    {
     "data": {
      "text/html": [
       "<div>\n",
       "<style scoped>\n",
       "    .dataframe tbody tr th:only-of-type {\n",
       "        vertical-align: middle;\n",
       "    }\n",
       "\n",
       "    .dataframe tbody tr th {\n",
       "        vertical-align: top;\n",
       "    }\n",
       "\n",
       "    .dataframe thead th {\n",
       "        text-align: right;\n",
       "    }\n",
       "</style>\n",
       "<table border=\"1\" class=\"dataframe\">\n",
       "  <thead>\n",
       "    <tr style=\"text-align: right;\">\n",
       "      <th></th>\n",
       "      <th>Column_1</th>\n",
       "      <th>Column_2</th>\n",
       "      <th>Column_3</th>\n",
       "      <th>Column_4</th>\n",
       "      <th>Column_5</th>\n",
       "      <th>Column_6</th>\n",
       "      <th>Column_7</th>\n",
       "      <th>Column_8</th>\n",
       "      <th>Column_9</th>\n",
       "      <th>Column_10</th>\n",
       "      <th>...</th>\n",
       "      <th>Column_1015</th>\n",
       "      <th>Column_1016</th>\n",
       "      <th>Column_1017</th>\n",
       "      <th>Column_1018</th>\n",
       "      <th>Column_1019</th>\n",
       "      <th>Column_1020</th>\n",
       "      <th>Column_1021</th>\n",
       "      <th>Column_1022</th>\n",
       "      <th>Column_1023</th>\n",
       "      <th>Column_1024</th>\n",
       "    </tr>\n",
       "    <tr>\n",
       "      <th>ids</th>\n",
       "      <th></th>\n",
       "      <th></th>\n",
       "      <th></th>\n",
       "      <th></th>\n",
       "      <th></th>\n",
       "      <th></th>\n",
       "      <th></th>\n",
       "      <th></th>\n",
       "      <th></th>\n",
       "      <th></th>\n",
       "      <th></th>\n",
       "      <th></th>\n",
       "      <th></th>\n",
       "      <th></th>\n",
       "      <th></th>\n",
       "      <th></th>\n",
       "      <th></th>\n",
       "      <th></th>\n",
       "      <th></th>\n",
       "      <th></th>\n",
       "      <th></th>\n",
       "    </tr>\n",
       "  </thead>\n",
       "  <tbody>\n",
       "    <tr>\n",
       "      <th>P20536</th>\n",
       "      <td>0.049488</td>\n",
       "      <td>-0.032935</td>\n",
       "      <td>0.032473</td>\n",
       "      <td>-0.033723</td>\n",
       "      <td>-0.059505</td>\n",
       "      <td>0.075936</td>\n",
       "      <td>-0.045860</td>\n",
       "      <td>-0.104476</td>\n",
       "      <td>-0.072112</td>\n",
       "      <td>0.038806</td>\n",
       "      <td>...</td>\n",
       "      <td>-0.046516</td>\n",
       "      <td>-0.028773</td>\n",
       "      <td>-0.021878</td>\n",
       "      <td>-0.097883</td>\n",
       "      <td>0.056475</td>\n",
       "      <td>0.080950</td>\n",
       "      <td>-0.020938</td>\n",
       "      <td>-0.043532</td>\n",
       "      <td>0.096463</td>\n",
       "      <td>0.073070</td>\n",
       "    </tr>\n",
       "    <tr>\n",
       "      <th>O73864</th>\n",
       "      <td>-0.044616</td>\n",
       "      <td>0.064925</td>\n",
       "      <td>-0.080263</td>\n",
       "      <td>-0.075338</td>\n",
       "      <td>-0.004731</td>\n",
       "      <td>0.025408</td>\n",
       "      <td>-0.024685</td>\n",
       "      <td>-0.016568</td>\n",
       "      <td>-0.038980</td>\n",
       "      <td>-0.033870</td>\n",
       "      <td>...</td>\n",
       "      <td>-0.040173</td>\n",
       "      <td>0.003925</td>\n",
       "      <td>0.006130</td>\n",
       "      <td>0.007362</td>\n",
       "      <td>-0.066848</td>\n",
       "      <td>0.106882</td>\n",
       "      <td>-0.030134</td>\n",
       "      <td>0.026724</td>\n",
       "      <td>0.027879</td>\n",
       "      <td>-0.048430</td>\n",
       "    </tr>\n",
       "    <tr>\n",
       "      <th>O95231</th>\n",
       "      <td>-0.020128</td>\n",
       "      <td>-0.049779</td>\n",
       "      <td>0.007894</td>\n",
       "      <td>-0.000829</td>\n",
       "      <td>-0.047737</td>\n",
       "      <td>0.086453</td>\n",
       "      <td>-0.038107</td>\n",
       "      <td>-0.036379</td>\n",
       "      <td>0.029611</td>\n",
       "      <td>0.045029</td>\n",
       "      <td>...</td>\n",
       "      <td>0.029388</td>\n",
       "      <td>0.008456</td>\n",
       "      <td>0.000697</td>\n",
       "      <td>0.013502</td>\n",
       "      <td>-0.005968</td>\n",
       "      <td>-0.011571</td>\n",
       "      <td>0.005704</td>\n",
       "      <td>-0.036103</td>\n",
       "      <td>0.007693</td>\n",
       "      <td>0.106234</td>\n",
       "    </tr>\n",
       "    <tr>\n",
       "      <th>A0A0B4J1F4</th>\n",
       "      <td>-0.007515</td>\n",
       "      <td>0.060628</td>\n",
       "      <td>0.004045</td>\n",
       "      <td>0.027056</td>\n",
       "      <td>-0.021542</td>\n",
       "      <td>0.010380</td>\n",
       "      <td>-0.025064</td>\n",
       "      <td>-0.055834</td>\n",
       "      <td>0.068238</td>\n",
       "      <td>0.027764</td>\n",
       "      <td>...</td>\n",
       "      <td>0.020792</td>\n",
       "      <td>0.023307</td>\n",
       "      <td>0.009009</td>\n",
       "      <td>0.018211</td>\n",
       "      <td>0.020820</td>\n",
       "      <td>-0.031738</td>\n",
       "      <td>0.013279</td>\n",
       "      <td>-0.018357</td>\n",
       "      <td>0.008087</td>\n",
       "      <td>0.010917</td>\n",
       "    </tr>\n",
       "    <tr>\n",
       "      <th>P54366</th>\n",
       "      <td>0.013468</td>\n",
       "      <td>0.041516</td>\n",
       "      <td>0.018435</td>\n",
       "      <td>-0.035595</td>\n",
       "      <td>0.008770</td>\n",
       "      <td>0.018699</td>\n",
       "      <td>-0.015452</td>\n",
       "      <td>-0.038092</td>\n",
       "      <td>-0.038326</td>\n",
       "      <td>-0.012299</td>\n",
       "      <td>...</td>\n",
       "      <td>-0.044742</td>\n",
       "      <td>-0.025432</td>\n",
       "      <td>-0.060886</td>\n",
       "      <td>-0.026915</td>\n",
       "      <td>0.026342</td>\n",
       "      <td>0.017237</td>\n",
       "      <td>0.014731</td>\n",
       "      <td>-0.016861</td>\n",
       "      <td>-0.016272</td>\n",
       "      <td>0.037054</td>\n",
       "    </tr>\n",
       "  </tbody>\n",
       "</table>\n",
       "<p>5 rows × 1024 columns</p>\n",
       "</div>"
      ],
      "text/plain": [
       "            Column_1  Column_2  Column_3  Column_4  Column_5  Column_6  \\\n",
       "ids                                                                      \n",
       "P20536      0.049488 -0.032935  0.032473 -0.033723 -0.059505  0.075936   \n",
       "O73864     -0.044616  0.064925 -0.080263 -0.075338 -0.004731  0.025408   \n",
       "O95231     -0.020128 -0.049779  0.007894 -0.000829 -0.047737  0.086453   \n",
       "A0A0B4J1F4 -0.007515  0.060628  0.004045  0.027056 -0.021542  0.010380   \n",
       "P54366      0.013468  0.041516  0.018435 -0.035595  0.008770  0.018699   \n",
       "\n",
       "            Column_7  Column_8  Column_9  Column_10  ...  Column_1015  \\\n",
       "ids                                                  ...                \n",
       "P20536     -0.045860 -0.104476 -0.072112   0.038806  ...    -0.046516   \n",
       "O73864     -0.024685 -0.016568 -0.038980  -0.033870  ...    -0.040173   \n",
       "O95231     -0.038107 -0.036379  0.029611   0.045029  ...     0.029388   \n",
       "A0A0B4J1F4 -0.025064 -0.055834  0.068238   0.027764  ...     0.020792   \n",
       "P54366     -0.015452 -0.038092 -0.038326  -0.012299  ...    -0.044742   \n",
       "\n",
       "            Column_1016  Column_1017  Column_1018  Column_1019  Column_1020  \\\n",
       "ids                                                                           \n",
       "P20536        -0.028773    -0.021878    -0.097883     0.056475     0.080950   \n",
       "O73864         0.003925     0.006130     0.007362    -0.066848     0.106882   \n",
       "O95231         0.008456     0.000697     0.013502    -0.005968    -0.011571   \n",
       "A0A0B4J1F4     0.023307     0.009009     0.018211     0.020820    -0.031738   \n",
       "P54366        -0.025432    -0.060886    -0.026915     0.026342     0.017237   \n",
       "\n",
       "            Column_1021  Column_1022  Column_1023  Column_1024  \n",
       "ids                                                             \n",
       "P20536        -0.020938    -0.043532     0.096463     0.073070  \n",
       "O73864        -0.030134     0.026724     0.027879    -0.048430  \n",
       "O95231         0.005704    -0.036103     0.007693     0.106234  \n",
       "A0A0B4J1F4     0.013279    -0.018357     0.008087     0.010917  \n",
       "P54366         0.014731    -0.016861    -0.016272     0.037054  \n",
       "\n",
       "[5 rows x 1024 columns]"
      ]
     },
     "execution_count": 25,
     "metadata": {},
     "output_type": "execute_result"
    }
   ],
   "source": [
    "train_embeddings = np.load(os.path.join(DATA_PATH, \"t5/train_embeds.npy\"))\n",
    "\n",
    "column_num = train_embeddings.shape[1]\n",
    "t5df = pd.DataFrame(\n",
    "    train_embeddings, columns=[\"Column_\" + str(i) for i in range(1, column_num + 1)]\n",
    ")\n",
    "t5Dimension = t5df.shape[1]\n",
    "\n",
    "train_protein_ids = np.load(os.path.join(DATA_PATH, \"t5/train_ids.npy\"))\n",
    "t5df[\"ids\"] = train_protein_ids\n",
    "print(train_protein_ids.shape)\n",
    "print(t5df.shape)\n",
    "t5df.set_index(\"ids\", inplace=True)\n",
    "t5df.head()"
   ]
  },
  {
   "cell_type": "markdown",
   "id": "2731a24d",
   "metadata": {},
   "source": [
    "## ESM2 Embeds"
   ]
  },
  {
   "cell_type": "code",
   "execution_count": 26,
   "id": "aea02d0a",
   "metadata": {},
   "outputs": [
    {
     "name": "stdout",
     "output_type": "stream",
     "text": [
      "(142246,)\n",
      "(142246, 2561)\n"
     ]
    },
    {
     "data": {
      "text/html": [
       "<div>\n",
       "<style scoped>\n",
       "    .dataframe tbody tr th:only-of-type {\n",
       "        vertical-align: middle;\n",
       "    }\n",
       "\n",
       "    .dataframe tbody tr th {\n",
       "        vertical-align: top;\n",
       "    }\n",
       "\n",
       "    .dataframe thead th {\n",
       "        text-align: right;\n",
       "    }\n",
       "</style>\n",
       "<table border=\"1\" class=\"dataframe\">\n",
       "  <thead>\n",
       "    <tr style=\"text-align: right;\">\n",
       "      <th></th>\n",
       "      <th>Column_1</th>\n",
       "      <th>Column_2</th>\n",
       "      <th>Column_3</th>\n",
       "      <th>Column_4</th>\n",
       "      <th>Column_5</th>\n",
       "      <th>Column_6</th>\n",
       "      <th>Column_7</th>\n",
       "      <th>Column_8</th>\n",
       "      <th>Column_9</th>\n",
       "      <th>Column_10</th>\n",
       "      <th>...</th>\n",
       "      <th>Column_2551</th>\n",
       "      <th>Column_2552</th>\n",
       "      <th>Column_2553</th>\n",
       "      <th>Column_2554</th>\n",
       "      <th>Column_2555</th>\n",
       "      <th>Column_2556</th>\n",
       "      <th>Column_2557</th>\n",
       "      <th>Column_2558</th>\n",
       "      <th>Column_2559</th>\n",
       "      <th>Column_2560</th>\n",
       "    </tr>\n",
       "    <tr>\n",
       "      <th>ids</th>\n",
       "      <th></th>\n",
       "      <th></th>\n",
       "      <th></th>\n",
       "      <th></th>\n",
       "      <th></th>\n",
       "      <th></th>\n",
       "      <th></th>\n",
       "      <th></th>\n",
       "      <th></th>\n",
       "      <th></th>\n",
       "      <th></th>\n",
       "      <th></th>\n",
       "      <th></th>\n",
       "      <th></th>\n",
       "      <th></th>\n",
       "      <th></th>\n",
       "      <th></th>\n",
       "      <th></th>\n",
       "      <th></th>\n",
       "      <th></th>\n",
       "      <th></th>\n",
       "    </tr>\n",
       "  </thead>\n",
       "  <tbody>\n",
       "    <tr>\n",
       "      <th>P20536</th>\n",
       "      <td>-0.006932</td>\n",
       "      <td>0.007936</td>\n",
       "      <td>0.002732</td>\n",
       "      <td>0.008902</td>\n",
       "      <td>-0.041230</td>\n",
       "      <td>0.011959</td>\n",
       "      <td>0.007449</td>\n",
       "      <td>0.088468</td>\n",
       "      <td>0.027504</td>\n",
       "      <td>-0.058287</td>\n",
       "      <td>...</td>\n",
       "      <td>0.019839</td>\n",
       "      <td>0.074110</td>\n",
       "      <td>0.014544</td>\n",
       "      <td>0.045950</td>\n",
       "      <td>0.042379</td>\n",
       "      <td>-0.000532</td>\n",
       "      <td>-0.056042</td>\n",
       "      <td>0.025682</td>\n",
       "      <td>-0.028790</td>\n",
       "      <td>-0.009521</td>\n",
       "    </tr>\n",
       "    <tr>\n",
       "      <th>O73864</th>\n",
       "      <td>-0.008232</td>\n",
       "      <td>-0.074880</td>\n",
       "      <td>-0.008287</td>\n",
       "      <td>-0.082649</td>\n",
       "      <td>0.004363</td>\n",
       "      <td>0.042135</td>\n",
       "      <td>-0.046334</td>\n",
       "      <td>0.083998</td>\n",
       "      <td>0.012416</td>\n",
       "      <td>-0.045745</td>\n",
       "      <td>...</td>\n",
       "      <td>0.095438</td>\n",
       "      <td>-0.049323</td>\n",
       "      <td>0.120818</td>\n",
       "      <td>0.013928</td>\n",
       "      <td>0.107403</td>\n",
       "      <td>0.024934</td>\n",
       "      <td>-0.041349</td>\n",
       "      <td>0.063856</td>\n",
       "      <td>-0.062438</td>\n",
       "      <td>-0.051984</td>\n",
       "    </tr>\n",
       "    <tr>\n",
       "      <th>O95231</th>\n",
       "      <td>0.079354</td>\n",
       "      <td>-0.034172</td>\n",
       "      <td>0.028020</td>\n",
       "      <td>0.038319</td>\n",
       "      <td>-0.006604</td>\n",
       "      <td>-0.037847</td>\n",
       "      <td>-0.050455</td>\n",
       "      <td>0.013767</td>\n",
       "      <td>0.007118</td>\n",
       "      <td>-0.000116</td>\n",
       "      <td>...</td>\n",
       "      <td>0.056358</td>\n",
       "      <td>-0.052374</td>\n",
       "      <td>0.018207</td>\n",
       "      <td>0.041541</td>\n",
       "      <td>0.038180</td>\n",
       "      <td>-0.037411</td>\n",
       "      <td>0.011259</td>\n",
       "      <td>0.008821</td>\n",
       "      <td>-0.161301</td>\n",
       "      <td>-0.003935</td>\n",
       "    </tr>\n",
       "    <tr>\n",
       "      <th>A0A0B4J1F4</th>\n",
       "      <td>-0.028833</td>\n",
       "      <td>-0.021754</td>\n",
       "      <td>-0.007713</td>\n",
       "      <td>-0.067681</td>\n",
       "      <td>-0.081395</td>\n",
       "      <td>0.005322</td>\n",
       "      <td>-0.091768</td>\n",
       "      <td>0.146422</td>\n",
       "      <td>0.042343</td>\n",
       "      <td>-0.081021</td>\n",
       "      <td>...</td>\n",
       "      <td>0.225756</td>\n",
       "      <td>-0.050869</td>\n",
       "      <td>-0.024418</td>\n",
       "      <td>-0.106160</td>\n",
       "      <td>0.075731</td>\n",
       "      <td>-0.020250</td>\n",
       "      <td>-0.056059</td>\n",
       "      <td>0.057696</td>\n",
       "      <td>-0.156398</td>\n",
       "      <td>-0.133214</td>\n",
       "    </tr>\n",
       "    <tr>\n",
       "      <th>P54366</th>\n",
       "      <td>0.082937</td>\n",
       "      <td>0.028213</td>\n",
       "      <td>0.051966</td>\n",
       "      <td>0.024844</td>\n",
       "      <td>-0.001088</td>\n",
       "      <td>0.028256</td>\n",
       "      <td>-0.014439</td>\n",
       "      <td>0.074051</td>\n",
       "      <td>-0.005088</td>\n",
       "      <td>-0.073510</td>\n",
       "      <td>...</td>\n",
       "      <td>0.015249</td>\n",
       "      <td>-0.083649</td>\n",
       "      <td>-0.009176</td>\n",
       "      <td>0.111403</td>\n",
       "      <td>0.016327</td>\n",
       "      <td>-0.033296</td>\n",
       "      <td>0.003102</td>\n",
       "      <td>-0.014339</td>\n",
       "      <td>-0.105367</td>\n",
       "      <td>0.042954</td>\n",
       "    </tr>\n",
       "  </tbody>\n",
       "</table>\n",
       "<p>5 rows × 2560 columns</p>\n",
       "</div>"
      ],
      "text/plain": [
       "            Column_1  Column_2  Column_3  Column_4  Column_5  Column_6  \\\n",
       "ids                                                                      \n",
       "P20536     -0.006932  0.007936  0.002732  0.008902 -0.041230  0.011959   \n",
       "O73864     -0.008232 -0.074880 -0.008287 -0.082649  0.004363  0.042135   \n",
       "O95231      0.079354 -0.034172  0.028020  0.038319 -0.006604 -0.037847   \n",
       "A0A0B4J1F4 -0.028833 -0.021754 -0.007713 -0.067681 -0.081395  0.005322   \n",
       "P54366      0.082937  0.028213  0.051966  0.024844 -0.001088  0.028256   \n",
       "\n",
       "            Column_7  Column_8  Column_9  Column_10  ...  Column_2551  \\\n",
       "ids                                                  ...                \n",
       "P20536      0.007449  0.088468  0.027504  -0.058287  ...     0.019839   \n",
       "O73864     -0.046334  0.083998  0.012416  -0.045745  ...     0.095438   \n",
       "O95231     -0.050455  0.013767  0.007118  -0.000116  ...     0.056358   \n",
       "A0A0B4J1F4 -0.091768  0.146422  0.042343  -0.081021  ...     0.225756   \n",
       "P54366     -0.014439  0.074051 -0.005088  -0.073510  ...     0.015249   \n",
       "\n",
       "            Column_2552  Column_2553  Column_2554  Column_2555  Column_2556  \\\n",
       "ids                                                                           \n",
       "P20536         0.074110     0.014544     0.045950     0.042379    -0.000532   \n",
       "O73864        -0.049323     0.120818     0.013928     0.107403     0.024934   \n",
       "O95231        -0.052374     0.018207     0.041541     0.038180    -0.037411   \n",
       "A0A0B4J1F4    -0.050869    -0.024418    -0.106160     0.075731    -0.020250   \n",
       "P54366        -0.083649    -0.009176     0.111403     0.016327    -0.033296   \n",
       "\n",
       "            Column_2557  Column_2558  Column_2559  Column_2560  \n",
       "ids                                                             \n",
       "P20536        -0.056042     0.025682    -0.028790    -0.009521  \n",
       "O73864        -0.041349     0.063856    -0.062438    -0.051984  \n",
       "O95231         0.011259     0.008821    -0.161301    -0.003935  \n",
       "A0A0B4J1F4    -0.056059     0.057696    -0.156398    -0.133214  \n",
       "P54366         0.003102    -0.014339    -0.105367     0.042954  \n",
       "\n",
       "[5 rows x 2560 columns]"
      ]
     },
     "execution_count": 26,
     "metadata": {},
     "output_type": "execute_result"
    }
   ],
   "source": [
    "train_esm2_embeddings = np.load(os.path.join(DATA_PATH, \"esm2/train_embeds_esm2_t36_3B_UR50D.npy\"))\n",
    "\n",
    "column_num = train_esm2_embeddings.shape[1]\n",
    "esm2df = pd.DataFrame(\n",
    "    train_esm2_embeddings, columns=[\"Column_\" + str(i) for i in range(1, column_num + 1)]\n",
    ")\n",
    "esm2Dimension = esm2df.shape[1]\n",
    "\n",
    "train_protein_ids_esm2 = np.load(os.path.join(DATA_PATH, \"esm2/train_ids_esm2_t36_3B_UR50D.npy\"))\n",
    "esm2df[\"ids\"] = train_protein_ids_esm2\n",
    "print(train_protein_ids_esm2.shape)\n",
    "print(esm2df.shape)\n",
    "esm2df.set_index(\"ids\", inplace=True)\n",
    "esm2df.head()"
   ]
  },
  {
   "cell_type": "markdown",
   "id": "d206203f",
   "metadata": {},
   "source": [
    "## Interpro Data"
   ]
  },
  {
   "cell_type": "code",
   "execution_count": 27,
   "id": "43765061",
   "metadata": {},
   "outputs": [],
   "source": [
    "import xml.etree.ElementTree as ET\n",
    "root = ET.parse(os.path.join(DATA_PATH, \"interpro.xml\")).getroot()"
   ]
  },
  {
   "cell_type": "code",
   "execution_count": 28,
   "id": "2e280b8f",
   "metadata": {},
   "outputs": [
    {
     "data": {
      "text/plain": [
       "{'Active_site',\n",
       " 'Binding_site',\n",
       " 'Conserved_site',\n",
       " 'Domain',\n",
       " 'Family',\n",
       " 'Homologous_superfamily',\n",
       " 'PTM',\n",
       " 'Repeat'}"
      ]
     },
     "execution_count": 28,
     "metadata": {},
     "output_type": "execute_result"
    }
   ],
   "source": [
    "possibleDomains=[]\n",
    "allIPTypes=[]\n",
    "for child in root:\n",
    "    if \"type\" in child.attrib:\n",
    "        allIPTypes.append(child.attrib[\"type\"])\n",
    "        if(child.attrib[\"type\"]==\"Domain\" or child.attrib[\"type\"]==\"Repeat\" or child.attrib[\"type\"]==\"Family\" or child.attrib[\"type\"]==\"Homologous_superfamily\"):\n",
    "            # print(child.tag, child.attrib)\n",
    "            possibleDomains.append(child.attrib[\"id\"])\n",
    "\n",
    "set(allIPTypes)"
   ]
  },
  {
   "cell_type": "code",
   "execution_count": 29,
   "id": "23b46e43",
   "metadata": {},
   "outputs": [
    {
     "name": "stdout",
     "output_type": "stream",
     "text": [
      "[[1 0 0 ... 0 0 0]]\n",
      "38293\n"
     ]
    }
   ],
   "source": [
    "len(possibleDomains)\n",
    "\n",
    "mlbInterPro = MultiLabelBinarizer()\n",
    "mlbInterPro.fit([possibleDomains])\n",
    "\n",
    "\n",
    "print(mlbInterPro.transform([[\"IPR000001\"]]))\n",
    "print(len(mlbInterPro.classes_))\n",
    "\n",
    "with open(os.path.join(DATA_PATH,'MLB_InterPro_'+SO+'.pkl'), 'wb') as f:\n",
    "    pickle.dump(mlbInterPro, f)"
   ]
  },
  {
   "cell_type": "code",
   "execution_count": 30,
   "id": "fb7cd04a",
   "metadata": {},
   "outputs": [
    {
     "name": "stdout",
     "output_type": "stream",
     "text": [
      "Processing  train_sequences0.fasta.json\n",
      "Processing  train_sequences1.fasta.json\n",
      "Processing  train_sequences2.fasta.json\n",
      "Processing  train_sequences3.fasta.json\n",
      "Processing  train_sequences4_1.fasta.json\n",
      "Processing  train_sequences4_2.fasta.json\n",
      "Processing  train_sequences4_3.fasta.json\n",
      "Processing  train_sequences4_4.fasta.json\n",
      "Processing  train_sequences5_1.fasta.json\n",
      "Processing  train_sequences5_2.fasta.json\n",
      "Processing  train_sequences5_3.fasta.json\n"
     ]
    }
   ],
   "source": [
    "import json\n",
    "\n",
    "allInterproData =[]\n",
    "\n",
    "for root,dirs,files in os.walk(os.path.join(DATA_PATH_INTERPRO, \"train\")):\n",
    "    for f in files:\n",
    "        if f.endswith(\".json\"):\n",
    "            print(\"Processing \", f)\n",
    "            with open(os.path.join(root, f)) as inputFile:\n",
    "                iprData = json.load(inputFile)\n",
    "            allInterproData=[*allInterproData, *iprData[\"results\"]]"
   ]
  },
  {
   "cell_type": "code",
   "execution_count": 31,
   "id": "6cd8d58f",
   "metadata": {},
   "outputs": [
    {
     "data": {
      "text/plain": [
       "141650"
      ]
     },
     "execution_count": 31,
     "metadata": {},
     "output_type": "execute_result"
    }
   ],
   "source": [
    "len(allInterproData)"
   ]
  },
  {
   "cell_type": "code",
   "execution_count": 32,
   "id": "6e1c7d8e",
   "metadata": {},
   "outputs": [
    {
     "data": {
      "application/vnd.jupyter.widget-view+json": {
       "model_id": "fce65f368f9245108d7825d09b649e11",
       "version_major": 2,
       "version_minor": 0
      },
      "text/plain": [
       "  0%|          | 0/141650 [00:00<?, ?it/s]"
      ]
     },
     "metadata": {},
     "output_type": "display_data"
    }
   ],
   "source": [
    "\n",
    "iprIds = {}\n",
    "\n",
    "\n",
    "for entry in tqdm(allInterproData):\n",
    "    entryId = entry[\"xref\"][0][\"id\"]\n",
    "    matches=[]\n",
    "    for match in entry[\"matches\"]:\n",
    "        sigEntry = match[\"signature\"][\"entry\"]\n",
    "        if(sigEntry):\n",
    "            type = sigEntry[\"type\"]\n",
    "            if type==\"DOMAIN\" or type==\"REPEAT\" or type==\"FAMILY\" or type==\"HOMOLOGOUS_SUPERFAMILY\":\n",
    "                iprId = match[\"signature\"][\"entry\"][\"accession\"]\n",
    "                matches.append(iprId)\n",
    "    iprIds[entryId] = matches"
   ]
  },
  {
   "cell_type": "code",
   "execution_count": 33,
   "id": "1d2cd32c",
   "metadata": {},
   "outputs": [
    {
     "data": {
      "text/plain": [
       "4"
      ]
     },
     "execution_count": 33,
     "metadata": {},
     "output_type": "execute_result"
    }
   ],
   "source": [
    "testInput = mlbInterPro.transform([iprIds[\"Q55G04\"]])\n",
    "np.count_nonzero(testInput)"
   ]
  },
  {
   "cell_type": "markdown",
   "id": "c4e073e2",
   "metadata": {},
   "source": [
    "## Physiochemical Properties"
   ]
  },
  {
   "cell_type": "code",
   "execution_count": 34,
   "id": "07e0db99",
   "metadata": {},
   "outputs": [
    {
     "name": "stdout",
     "output_type": "stream",
     "text": [
      "Loading presaved data\n"
     ]
    }
   ],
   "source": [
    "\n",
    "from Bio.SeqUtils.ProtParam import ProteinAnalysis\n",
    "from Bio.Seq import MutableSeq, Seq\n",
    "from tqdm.notebook import tqdm\n",
    "import pickle\n",
    "\n",
    "if os.path.exists(os.path.join(DATA_PATH, \"PCDict\"+\".pkl\")):\n",
    "    print(\"Loading presaved data\")\n",
    "    with open(os.path.join(DATA_PATH, \"PCDict\"+\".pkl\"), 'rb') as f:\n",
    "        PCDict = pickle.load(f)\n",
    "else:\n",
    "    PCDict = {}\n",
    "\n",
    "    for i,seq in enumerate(tqdm(sequences)):\n",
    "\n",
    "        index = ids[i]\n",
    "        \n",
    "        X =ProteinAnalysis(seq)\n",
    "\n",
    "        if \"X\" in seq or \"U\" in seq or \"O\" in seq or \"B\" in seq or \"Z\" in seq:\n",
    "            cleanedSeq = seq.replace(\"X\", \"A\")\n",
    "            cleanedSeq = cleanedSeq.replace(\"U\", \"A\")\n",
    "            cleanedSeq = cleanedSeq.replace(\"O\", \"A\")\n",
    "            cleanedSeq = cleanedSeq.replace(\"B\", \"A\")\n",
    "            cleanedSeq = cleanedSeq.replace(\"Z\", \"A\")\n",
    "            XClean =ProteinAnalysis(cleanedSeq)\n",
    "            flex = XClean.flexibility()\n",
    "            molW = XClean.molecular_weight()\n",
    "            instabIdx = XClean.instability_index()\n",
    "            gravy = XClean.gravy()\n",
    "        else:\n",
    "            flex= X.flexibility()\n",
    "            molW = X.molecular_weight()\n",
    "            instabIdx = X.instability_index()\n",
    "            gravy = X.gravy()\n",
    "\n",
    "        if len(flex)>10:\n",
    "            idx = np.round(np.linspace(0, len(flex) - 1, 10)).astype(int)\n",
    "            flex = np.array(flex)[idx]\n",
    "        elif len(flex)<10:\n",
    "            flex = np.pad(flex, (0,10-len(flex)))\n",
    "\n",
    "        protS= X.protein_scale(aa_dict,100)\n",
    "        if len(protS)>10:\n",
    "            idx = np.round(np.linspace(0, len(protS) - 1, 10)).astype(int)\n",
    "            protS = np.array(protS)[idx]\n",
    "        elif len(protS)<10:\n",
    "            protS = np.pad(protS, (0,10-len(protS)))\n",
    "\n",
    "        #Adding all the physiochemical properties (N = 53)\n",
    "        PCDict[index] = [ molW, X.aromaticity(), instabIdx, *list(X.get_amino_acids_percent().values()),\n",
    "                *flex, gravy, *protS, X.isoelectric_point(), X.charge_at_pH(7), X.charge_at_pH(3), X.charge_at_pH(10), *X.molar_extinction_coefficient(),\n",
    "                *X.secondary_structure_fraction()]\n",
    "        \n",
    "    with open(os.path.join(DATA_PATH, \"PCDict\"+\".pkl\"), 'wb') as f:\n",
    "        pickle.dump(PCDict, f)\n",
    "    \n"
   ]
  },
  {
   "attachments": {},
   "cell_type": "markdown",
   "id": "bfd823ba",
   "metadata": {},
   "source": [
    "## Build Dataset"
   ]
  },
  {
   "cell_type": "code",
   "execution_count": 37,
   "id": "44f722e8",
   "metadata": {},
   "outputs": [
    {
     "name": "stdout",
     "output_type": "stream",
     "text": [
      "30232\n"
     ]
    }
   ],
   "source": [
    "from itertools import product\n",
    "from tqdm import tqdm\n",
    "import os\n",
    "\n",
    "\n",
    "TRAIN_VAL_SPLIT = 0.7\n",
    "k = 3\n",
    "PCLength = len(PCDict[ids[0]])\n",
    "\n",
    "allAA = list(aa_dict.keys())\n",
    "allAA.sort()\n",
    "allCombinations= list(product(*(allAA for i in range(k))))\n",
    "allCombinations=np.array([''.join(el) for el in allCombinations])\n",
    "\n",
    "positionDict = dict(zip(allCombinations, np.arange(0,allCombinations.size).T))\n",
    "\n",
    "#Use numpy vectorize to speed up the mapping (hopefully)\n",
    "mapping = lambda x: aa_dict[x]\n",
    "vectMapping = np.vectorize(mapping)\n",
    "\n",
    "# Shuffle the data\n",
    "import random\n",
    "random.seed(199842)\n",
    "c = list(zip(cleanedSequences, cleanedIds))\n",
    "random.shuffle(c)\n",
    "sequencesShuffle, idsShuffle = zip(*c)\n",
    "\n",
    "\n",
    "#Train Validation Split\n",
    "split = int(np.floor(len(sequencesShuffle)*TRAIN_VAL_SPLIT))\n",
    "print(split)\n",
    "trainSeq = sequencesShuffle[0:split]\n",
    "valSeq = sequencesShuffle[split+1:]\n",
    "trainIds = idsShuffle[0:split]\n",
    "valIds = idsShuffle[split+1:]\n",
    "\n",
    "\n",
    "def generator():\n",
    "  for idxTrain,seqTrain in enumerate(trainSeq):\n",
    "      entryIdTrain = trainIds[idxTrain]\n",
    "      labelDataTrain = df.loc[entryIdTrain]\n",
    "      # indices = labelData[\"termToken\"].to_numpy()\n",
    "      indicesTrain = labelDataTrain[\"term\"].to_numpy()\n",
    " \n",
    "\n",
    "      with warnings.catch_warnings():\n",
    "        #supress the warnings for unknown classes\n",
    "        warnings.simplefilter(\"ignore\")\n",
    "        yTrain = mlb.transform([indicesTrain])\n",
    "\n",
    "      kmersTrain = [seqTrain[j:j+k] if j < len(seqTrain)-(k-1) else 0 for j,el in enumerate(seqTrain)]\n",
    "      kmersTrain = kmersTrain[0:-(k-1)]\n",
    "      kmersTrain = [str(el) for el in kmersTrain]\n",
    "      valuesTrain, countsTrain = np.unique(kmersTrain, return_counts=True)\n",
    "      freqVectorTrain=np.zeros(allCombinations.shape)\n",
    "      for lTrain,vTrain in enumerate(valuesTrain):\n",
    "          freqVectorTrain[positionDict[vTrain]] = countsTrain[lTrain]\n",
    "\n",
    "      with warnings.catch_warnings():\n",
    "        #supress the warnings for unknown classes\n",
    "        warnings.simplefilter(\"ignore\")\n",
    "        if entryIdTrain in iprIds:\n",
    "          xTrain  = mlbInterPro.transform([iprIds[entryIdTrain]])\n",
    "        else:\n",
    "          xTrain  = mlbInterPro.transform([[]])\n",
    "      \n",
    "\n",
    "      #Adding all the physiochemical properties (N = 53)\n",
    "      pcPropsTrain = PCDict[entryIdTrain]\n",
    "\n",
    "      t5data = t5df.loc[entryIdTrain].to_numpy()\n",
    "\n",
    "      esm2Data = esm2df.loc[entryIdTrain].to_numpy()\n",
    "     \n",
    "      yield (np.array(pcPropsTrain),xTrain[0],freqVectorTrain, t5data, esm2Data, yTrain[0])\n",
    "\n",
    "\n",
    "def generatorVal():\n",
    "  for idxVal,seqVal in enumerate(valSeq):\n",
    "      entryIdVal = valIds[idxVal]\n",
    "      labelDataVal = df.loc[entryIdVal]\n",
    "      # indices = labelData[\"termToken\"].to_numpy()\n",
    "      indicesVal = labelDataVal[\"term\"].to_numpy()\n",
    " \n",
    "\n",
    "      with warnings.catch_warnings():\n",
    "        #supress the warnings for unknown classes\n",
    "        warnings.simplefilter(\"ignore\")\n",
    "        yVal = mlb.transform([indicesVal])\n",
    "\n",
    "      kmersVal = [seqVal[jVal:jVal+k] if jVal < len(seqVal)-(k-1) else 0 for jVal,elVal in enumerate(seqVal)]\n",
    "      kmersVal = kmersVal[0:-(k-1)]\n",
    "      kmersVal = [str(el) for el in kmersVal]\n",
    "      valuesVal, countsVal = np.unique(kmersVal, return_counts=True)\n",
    "      freqVectorVal=np.zeros(allCombinations.shape)\n",
    "      for lVal,vVal in enumerate(valuesVal):\n",
    "          freqVectorVal[positionDict[vVal]] = countsVal[lVal]\n",
    "\n",
    "      with warnings.catch_warnings():\n",
    "        #supress the warnings for unknown classes\n",
    "        warnings.simplefilter(\"ignore\")\n",
    "        if entryIdVal in iprIds:\n",
    "          xVal  = mlbInterPro.transform([iprIds[entryIdVal]])\n",
    "        else:\n",
    "          xVal  = mlbInterPro.transform([[]])\n",
    "\n",
    "      #Adding all the physiochemical properties (N = 53)\n",
    "      pcPropsVal = PCDict[entryIdVal]\n",
    "\n",
    "      t5dataVal = t5df.loc[entryIdVal].to_numpy()\n",
    "\n",
    "      esm2DataVal = esm2df.loc[entryIdVal].to_numpy()\n",
    "      \n",
    "      yield (np.array(pcPropsVal),xVal[0],freqVectorVal, t5dataVal, esm2DataVal, yVal[0])"
   ]
  },
  {
   "cell_type": "code",
   "execution_count": 38,
   "id": "2727338a",
   "metadata": {},
   "outputs": [
    {
     "name": "stdout",
     "output_type": "stream",
     "text": [
      "PC Input: \n",
      "(53,)\n",
      "[5.49269340e+04 7.61718750e-02 5.21111523e+01 9.57031250e-02\n",
      " 5.85937500e-03 3.32031250e-02 2.92968750e-02 1.36718750e-02\n",
      " 8.78906250e-02 7.81250000e-02]\n",
      "\n",
      "Interpro Input: \n",
      "(38293,)\n",
      "[0 0 0 0 0 0 0 0 0 0]\n",
      "\n",
      "kMer Input: \n",
      "(15625,)\n",
      "[5. 0. 0. 1. 0. 0. 1. 0. 0. 1. 0. 0. 0. 0. 0. 0. 0. 0. 0. 0.]\n",
      "\n",
      "t5 Input: \n",
      "(1024,)\n",
      "[-0.00924848  0.03419568  0.02091656 -0.00706788  0.00583433  0.05343378\n",
      " -0.06619494 -0.0361532  -0.02007434  0.01917714 -0.04088607  0.04000398\n",
      " -0.01057119 -0.10552684  0.07081216 -0.07314066 -0.07234163  0.03317238\n",
      "  0.03785228 -0.06140706]\n",
      "\n",
      "esm2 Input: \n",
      "(2560,)\n",
      "[ 0.06753429  0.07086713  0.03908528 -0.02398852  0.00188344  0.043822\n",
      " -0.04404917  0.04768933 -0.02642411 -0.08606739 -0.00819648 -0.02674278\n",
      " -0.01844869 -0.0095767  -0.05885267  0.01669634 -0.12012541  0.02751798\n",
      " -0.02658173 -0.09869622]\n",
      "\n",
      "Targets: \n",
      "(13376,)\n",
      "[0 1 0 0 0 0 0 0 0 0 0 0 0 0 0 0 0 0 0 0]\n",
      "\n",
      "The first sample has 0 Interpro input classes\n",
      "The first sample has 435 kMer input classes\n",
      "The first sample has 90 output classes\n"
     ]
    }
   ],
   "source": [
    "g = generatorVal()\n",
    "test = next(g)\n",
    "print(\"PC Input: \\n{}\\n{}\\n\".format(test[0].shape, test[0][0:10]))\n",
    "print(\"Interpro Input: \\n{}\\n{}\\n\".format(test[1].shape, test[1][0:10]))\n",
    "print(\"kMer Input: \\n{}\\n{}\\n\".format(test[2].shape, test[2][0:20]))\n",
    "print(\"t5 Input: \\n{}\\n{}\\n\".format(test[3].shape, test[3][0:20]))\n",
    "print(\"esm2 Input: \\n{}\\n{}\\n\".format(test[4].shape, test[4][0:20]))\n",
    "print(\"Targets: \\n{}\\n{}\\n\".format(test[5].shape, test[5][0:20]))\n",
    "print(\"The first sample has {} Interpro input classes\".format(np.count_nonzero(test[1])))\n",
    "print(\"The first sample has {} kMer input classes\".format(np.count_nonzero(test[2])))\n",
    "print(\"The first sample has {} output classes\".format(np.count_nonzero(test[5])))"
   ]
  },
  {
   "attachments": {},
   "cell_type": "markdown",
   "id": "10c4a51a",
   "metadata": {},
   "source": [
    "## Tensorflow Classification"
   ]
  },
  {
   "cell_type": "code",
   "execution_count": 39,
   "id": "63f0d2e0",
   "metadata": {},
   "outputs": [
    {
     "name": "stdout",
     "output_type": "stream",
     "text": [
      "[(<tf.Tensor: shape=(53,), dtype=float32, numpy=\n",
      "array([ 5.49269336e+04,  7.61718750e-02,  5.21111526e+01,  9.57031250e-02,\n",
      "        5.85937500e-03,  3.32031250e-02,  2.92968750e-02,  1.36718750e-02,\n",
      "        8.78906250e-02,  7.81250000e-02,  5.85937500e-03,  2.73437500e-02,\n",
      "        5.46875000e-02,  1.56250000e-02,  3.71093750e-02,  9.37500000e-02,\n",
      "        8.98437500e-02,  2.53906250e-02,  1.21093750e-01,  7.61718750e-02,\n",
      "        4.68750000e-02,  7.81250000e-03,  5.46875000e-02,  1.01144052e+00,\n",
      "        1.00055957e+00,  9.74166691e-01,  1.00134528e+00,  9.93571401e-01,\n",
      "        1.00585711e+00,  1.05933332e+00,  1.02090478e+00,  9.54571426e-01,\n",
      "        9.68892872e-01, -8.61523449e-01,  1.16237621e+01,  1.15841579e+01,\n",
      "        1.06336632e+01,  1.13267326e+01,  1.10099010e+01,  1.09603958e+01,\n",
      "        1.02970295e+01,  1.15049505e+01,  1.14455442e+01,  1.06435642e+01,\n",
      "        6.79330540e+00, -2.02325892e+00,  6.58330536e+01, -2.98511047e+01,\n",
      "        6.37200000e+04,  6.38450000e+04,  1.83593750e-01,  3.39843750e-01,\n",
      "        1.95312500e-01], dtype=float32)>, <tf.Tensor: shape=(38293,), dtype=int32, numpy=array([0, 0, 0, ..., 0, 0, 0], dtype=int32)>, <tf.Tensor: shape=(15625,), dtype=int32, numpy=array([5, 0, 0, ..., 0, 0, 0], dtype=int32)>, <tf.Tensor: shape=(1024,), dtype=float32, numpy=\n",
      "array([-0.00924848,  0.03419568,  0.02091656, ..., -0.04129507,\n",
      "       -0.00175707,  0.01936923], dtype=float32)>, <tf.Tensor: shape=(2560,), dtype=float32, numpy=\n",
      "array([ 0.06753429,  0.07086713,  0.03908528, ...,  0.03804813,\n",
      "       -0.10000162,  0.09005845], dtype=float32)>, <tf.Tensor: shape=(13376,), dtype=int32, numpy=array([0, 1, 0, ..., 0, 0, 0], dtype=int32)>)]\n"
     ]
    }
   ],
   "source": [
    "#Input =  53 physiochemical properties, Interpro Domains, kMers\n",
    "\n",
    "dataset = tf.data.Dataset.from_generator(generator, output_signature=(\n",
    "    tf.TensorSpec(shape=(PCLength,), dtype=tf.float32),                 #Physiochemical properties\n",
    "    tf.TensorSpec(shape=(len(mlbInterPro.classes_),), dtype=tf.int32),  #Interpro Classes\n",
    "    tf.TensorSpec(shape=(allCombinations.shape[0],), dtype=tf.int32),   #kMers\n",
    "    tf.TensorSpec(shape=(t5Dimension,), dtype=tf.float32),              #t5\n",
    "    tf.TensorSpec(shape=(esm2Dimension,), dtype=tf.float32),            #esm2\n",
    "    tf.TensorSpec(shape=(len(mlb.classes_),), dtype=tf.int32)))         #GO Classes (Output)\n",
    "\n",
    "datasetVal = tf.data.Dataset.from_generator(generatorVal, output_signature=(\n",
    "    tf.TensorSpec(shape=(PCLength,), dtype=tf.float32),                 #Physiochemical properties\n",
    "    tf.TensorSpec(shape=(len(mlbInterPro.classes_),), dtype=tf.int32),  #Interpro Classes\n",
    "    tf.TensorSpec(shape=(allCombinations.shape[0],), dtype=tf.int32),   #kMers\n",
    "    tf.TensorSpec(shape=(t5Dimension,), dtype=tf.float32),              #t5\n",
    "    tf.TensorSpec(shape=(esm2Dimension,), dtype=tf.float32),            #esm2\n",
    "    tf.TensorSpec(shape=(len(mlb.classes_),), dtype=tf.int32)))         #GO Classes (Output)\n",
    "print(list(datasetVal.take(1)))"
   ]
  },
  {
   "cell_type": "code",
   "execution_count": 40,
   "id": "f0a554f0",
   "metadata": {},
   "outputs": [],
   "source": [
    "%load_ext tensorboard\n"
   ]
  },
  {
   "cell_type": "code",
   "execution_count": 41,
   "id": "98752d7e",
   "metadata": {},
   "outputs": [
    {
     "name": "stdout",
     "output_type": "stream",
     "text": [
      "Model: \"DenseMultiModal5_DO0.50_L2Reg0.20_Focal_noClassBal\"\n",
      "__________________________________________________________________________________________________\n",
      " Layer (type)                Output Shape                 Param #   Connected to                  \n",
      "==================================================================================================\n",
      " input_1 (InputLayer)        [(None, 53)]                 0         []                            \n",
      "                                                                                                  \n",
      " input_2 (InputLayer)        [(None, 38293)]              0         []                            \n",
      "                                                                                                  \n",
      " input_3 (InputLayer)        [(None, 15625)]              0         []                            \n",
      "                                                                                                  \n",
      " input_4 (InputLayer)        [(None, 1024)]               0         []                            \n",
      "                                                                                                  \n",
      " input_5 (InputLayer)        [(None, 2560)]               0         []                            \n",
      "                                                                                                  \n",
      " dense_4 (Dense)             (None, 128)                  6912      ['input_1[0][0]']             \n",
      "                                                                                                  \n",
      " dense_6 (Dense)             (None, 128)                  4901632   ['input_2[0][0]']             \n",
      "                                                                                                  \n",
      " dense_8 (Dense)             (None, 128)                  2000128   ['input_3[0][0]']             \n",
      "                                                                                                  \n",
      " dense (Dense)               (None, 128)                  131200    ['input_4[0][0]']             \n",
      "                                                                                                  \n",
      " dense_2 (Dense)             (None, 128)                  327808    ['input_5[0][0]']             \n",
      "                                                                                                  \n",
      " leaky_re_lu_4 (LeakyReLU)   (None, 128)                  0         ['dense_4[0][0]']             \n",
      "                                                                                                  \n",
      " leaky_re_lu_6 (LeakyReLU)   (None, 128)                  0         ['dense_6[0][0]']             \n",
      "                                                                                                  \n",
      " leaky_re_lu_8 (LeakyReLU)   (None, 128)                  0         ['dense_8[0][0]']             \n",
      "                                                                                                  \n",
      " leaky_re_lu (LeakyReLU)     (None, 128)                  0         ['dense[0][0]']               \n",
      "                                                                                                  \n",
      " leaky_re_lu_2 (LeakyReLU)   (None, 128)                  0         ['dense_2[0][0]']             \n",
      "                                                                                                  \n",
      " batch_normalization_4 (Bat  (None, 128)                  512       ['leaky_re_lu_4[0][0]']       \n",
      " chNormalization)                                                                                 \n",
      "                                                                                                  \n",
      " batch_normalization_6 (Bat  (None, 128)                  512       ['leaky_re_lu_6[0][0]']       \n",
      " chNormalization)                                                                                 \n",
      "                                                                                                  \n",
      " batch_normalization_8 (Bat  (None, 128)                  512       ['leaky_re_lu_8[0][0]']       \n",
      " chNormalization)                                                                                 \n",
      "                                                                                                  \n",
      " batch_normalization (Batch  (None, 128)                  512       ['leaky_re_lu[0][0]']         \n",
      " Normalization)                                                                                   \n",
      "                                                                                                  \n",
      " batch_normalization_2 (Bat  (None, 128)                  512       ['leaky_re_lu_2[0][0]']       \n",
      " chNormalization)                                                                                 \n",
      "                                                                                                  \n",
      " dropout_4 (Dropout)         (None, 128)                  0         ['batch_normalization_4[0][0]'\n",
      "                                                                    ]                             \n",
      "                                                                                                  \n",
      " dropout_6 (Dropout)         (None, 128)                  0         ['batch_normalization_6[0][0]'\n",
      "                                                                    ]                             \n",
      "                                                                                                  \n",
      " dropout_8 (Dropout)         (None, 128)                  0         ['batch_normalization_8[0][0]'\n",
      "                                                                    ]                             \n",
      "                                                                                                  \n",
      " dropout (Dropout)           (None, 128)                  0         ['batch_normalization[0][0]'] \n",
      "                                                                                                  \n",
      " dropout_2 (Dropout)         (None, 128)                  0         ['batch_normalization_2[0][0]'\n",
      "                                                                    ]                             \n",
      "                                                                                                  \n",
      " dense_5 (Dense)             (None, 128)                  16512     ['dropout_4[0][0]']           \n",
      "                                                                                                  \n",
      " dense_7 (Dense)             (None, 128)                  16512     ['dropout_6[0][0]']           \n",
      "                                                                                                  \n",
      " dense_9 (Dense)             (None, 128)                  16512     ['dropout_8[0][0]']           \n",
      "                                                                                                  \n",
      " dense_1 (Dense)             (None, 128)                  16512     ['dropout[0][0]']             \n",
      "                                                                                                  \n",
      " dense_3 (Dense)             (None, 128)                  16512     ['dropout_2[0][0]']           \n",
      "                                                                                                  \n",
      " leaky_re_lu_5 (LeakyReLU)   (None, 128)                  0         ['dense_5[0][0]']             \n",
      "                                                                                                  \n",
      " leaky_re_lu_7 (LeakyReLU)   (None, 128)                  0         ['dense_7[0][0]']             \n",
      "                                                                                                  \n",
      " leaky_re_lu_9 (LeakyReLU)   (None, 128)                  0         ['dense_9[0][0]']             \n",
      "                                                                                                  \n",
      " leaky_re_lu_1 (LeakyReLU)   (None, 128)                  0         ['dense_1[0][0]']             \n",
      "                                                                                                  \n",
      " leaky_re_lu_3 (LeakyReLU)   (None, 128)                  0         ['dense_3[0][0]']             \n",
      "                                                                                                  \n",
      " batch_normalization_5 (Bat  (None, 128)                  512       ['leaky_re_lu_5[0][0]']       \n",
      " chNormalization)                                                                                 \n",
      "                                                                                                  \n",
      " batch_normalization_7 (Bat  (None, 128)                  512       ['leaky_re_lu_7[0][0]']       \n",
      " chNormalization)                                                                                 \n",
      "                                                                                                  \n",
      " batch_normalization_9 (Bat  (None, 128)                  512       ['leaky_re_lu_9[0][0]']       \n",
      " chNormalization)                                                                                 \n",
      "                                                                                                  \n",
      " batch_normalization_1 (Bat  (None, 128)                  512       ['leaky_re_lu_1[0][0]']       \n",
      " chNormalization)                                                                                 \n",
      "                                                                                                  \n",
      " batch_normalization_3 (Bat  (None, 128)                  512       ['leaky_re_lu_3[0][0]']       \n",
      " chNormalization)                                                                                 \n",
      "                                                                                                  \n",
      " dropout_5 (Dropout)         (None, 128)                  0         ['batch_normalization_5[0][0]'\n",
      "                                                                    ]                             \n",
      "                                                                                                  \n",
      " dropout_7 (Dropout)         (None, 128)                  0         ['batch_normalization_7[0][0]'\n",
      "                                                                    ]                             \n",
      "                                                                                                  \n",
      " dropout_9 (Dropout)         (None, 128)                  0         ['batch_normalization_9[0][0]'\n",
      "                                                                    ]                             \n",
      "                                                                                                  \n",
      " dropout_1 (Dropout)         (None, 128)                  0         ['batch_normalization_1[0][0]'\n",
      "                                                                    ]                             \n",
      "                                                                                                  \n",
      " dropout_3 (Dropout)         (None, 128)                  0         ['batch_normalization_3[0][0]'\n",
      "                                                                    ]                             \n",
      "                                                                                                  \n",
      " tf.concat_2 (TFOpLambda)    (None, 256)                  0         ['dropout_5[0][0]',           \n",
      "                                                                     'dropout_4[0][0]']           \n",
      "                                                                                                  \n",
      " tf.concat_3 (TFOpLambda)    (None, 256)                  0         ['dropout_7[0][0]',           \n",
      "                                                                     'dropout_6[0][0]']           \n",
      "                                                                                                  \n",
      " tf.concat_4 (TFOpLambda)    (None, 256)                  0         ['dropout_9[0][0]',           \n",
      "                                                                     'dropout_8[0][0]']           \n",
      "                                                                                                  \n",
      " tf.concat (TFOpLambda)      (None, 256)                  0         ['dropout_1[0][0]',           \n",
      "                                                                     'dropout[0][0]']             \n",
      "                                                                                                  \n",
      " tf.concat_1 (TFOpLambda)    (None, 256)                  0         ['dropout_3[0][0]',           \n",
      "                                                                     'dropout_2[0][0]']           \n",
      "                                                                                                  \n",
      " tf.concat_5 (TFOpLambda)    (None, 1280)                 0         ['tf.concat_2[0][0]',         \n",
      "                                                                     'tf.concat_3[0][0]',         \n",
      "                                                                     'tf.concat_4[0][0]',         \n",
      "                                                                     'tf.concat[0][0]',           \n",
      "                                                                     'tf.concat_1[0][0]']         \n",
      "                                                                                                  \n",
      " dense_10 (Dense)            (None, 256)                  327936    ['tf.concat_5[0][0]']         \n",
      "                                                                                                  \n",
      " leaky_re_lu_10 (LeakyReLU)  (None, 256)                  0         ['dense_10[0][0]']            \n",
      "                                                                                                  \n",
      " dense_11 (Dense)            (None, 13376)                3437632   ['leaky_re_lu_10[0][0]']      \n",
      "                                                                                                  \n",
      "==================================================================================================\n",
      "Total params: 11220928 (42.80 MB)\n",
      "Trainable params: 11218368 (42.79 MB)\n",
      "Non-trainable params: 2560 (10.00 KB)\n",
      "__________________________________________________________________________________________________\n"
     ]
    },
    {
     "data": {
      "image/png": "[encoded data removed]",
      "text/plain": [
       "<IPython.core.display.Image object>"
      ]
     },
     "execution_count": 41,
     "metadata": {},
     "output_type": "execute_result"
    }
   ],
   "source": [
    "from tensorflow.keras import layers\n",
    "\n",
    "VOCAB_SIZE=len(aa_dict)\n",
    "DROPOUT_RATE=0.5\n",
    "L2REGULARIZATION = 0.2\n",
    "\n",
    "def createModel():\n",
    "    inputsPC = tf.keras.Input(shape=(PCLength,))\n",
    "    inputsIP = tf.keras.Input(shape=(len(mlbInterPro.classes_),))\n",
    "    inputsKmer = tf.keras.Input(shape=(allCombinations.shape[0],))\n",
    "    inputsT5 = tf.keras.Input(shape=(t5Dimension,))\n",
    "    inputsEsm2 = tf.keras.Input(shape=(esm2Dimension,))\n",
    "    \n",
    "    # xT5 = layers.Attention()([inputsT5,inputsT5])\n",
    "    xT5 = layers.Dense(128, kernel_regularizer=tf.keras.regularizers.L2(l2=L2REGULARIZATION))(inputsT5)\n",
    "    xT5 = layers.LeakyReLU()(xT5)\n",
    "    xT5 = layers.BatchNormalization()(xT5)\n",
    "    xT5Res = layers.Dropout(DROPOUT_RATE)(xT5)\n",
    "    xT5 = layers.Dense(128, kernel_regularizer=tf.keras.regularizers.L2(l2=L2REGULARIZATION))(xT5Res)\n",
    "    xT5 = layers.LeakyReLU()(xT5)\n",
    "    xT5 = layers.BatchNormalization()(xT5)\n",
    "    xT5 = layers.Dropout(DROPOUT_RATE)(xT5)\n",
    "    xT5 = tf.concat([xT5,xT5Res],1)\n",
    "\n",
    "    xEsm2 = layers.Dense(128, kernel_regularizer=tf.keras.regularizers.L2(l2=L2REGULARIZATION))(inputsEsm2)\n",
    "    xEsm2 = layers.LeakyReLU()(xEsm2)\n",
    "    xEsm2 = layers.BatchNormalization()(xEsm2)\n",
    "    xEsm2Res = layers.Dropout(DROPOUT_RATE)(xEsm2)\n",
    "    xEsm2 = layers.Dense(128, kernel_regularizer=tf.keras.regularizers.L2(l2=L2REGULARIZATION))(xEsm2Res)\n",
    "    xEsm2 = layers.LeakyReLU()(xEsm2)\n",
    "    xEsm2 = layers.BatchNormalization()(xEsm2)\n",
    "    xEsm2 = layers.Dropout(DROPOUT_RATE)(xEsm2)\n",
    "    xEsm2 = tf.concat([xEsm2,xEsm2Res],1)\n",
    "\n",
    "    # xPC = layers.Attention()([inputsPC,inputsPC])\n",
    "    xPC = layers.Dense(128, kernel_regularizer=tf.keras.regularizers.L2(l2=L2REGULARIZATION))(inputsPC)\n",
    "    xPC = layers.LeakyReLU()(xPC)\n",
    "    xPC = layers.BatchNormalization()(xPC)\n",
    "    xPCRes = layers.Dropout(DROPOUT_RATE)(xPC)\n",
    "    xPC = layers.Dense(128, kernel_regularizer=tf.keras.regularizers.L2(l2=L2REGULARIZATION))(xPCRes)\n",
    "    xPC = layers.LeakyReLU()(xPC)\n",
    "    xPC = layers.BatchNormalization()(xPC)\n",
    "    xPC = layers.Dropout(DROPOUT_RATE)(xPC)\n",
    "    xPC = tf.concat([xPC,xPCRes],1)\n",
    "\n",
    "    # xIP = layers.Attention()([inputsIP,inputsIP])\n",
    "    xIP = layers.Dense(128, kernel_regularizer=tf.keras.regularizers.L2(l2=L2REGULARIZATION))(inputsIP)\n",
    "    xIP = layers.LeakyReLU()(xIP)\n",
    "    xIP = layers.BatchNormalization()(xIP)\n",
    "    xIPRes = layers.Dropout(DROPOUT_RATE)(xIP)\n",
    "    xIP = layers.Dense(128, kernel_regularizer=tf.keras.regularizers.L2(l2=L2REGULARIZATION))(xIPRes)\n",
    "    xIP = layers.LeakyReLU()(xIP)\n",
    "    xIP = layers.BatchNormalization()(xIP)\n",
    "    xIP = layers.Dropout(DROPOUT_RATE)(xIP)\n",
    "    xIP = tf.concat([xIP,xIPRes],1)\n",
    "\n",
    "    # xKmer = layers.Attention()([inputsKmer,inputsKmer])\n",
    "    xKmer = layers.Dense(128, kernel_regularizer=tf.keras.regularizers.L2(l2=L2REGULARIZATION))(inputsKmer)\n",
    "    xKmer = layers.LeakyReLU()(xKmer)\n",
    "    xKmer = layers.BatchNormalization()(xKmer)\n",
    "    xKmerRes = layers.Dropout(DROPOUT_RATE)(xKmer)\n",
    "    xKmer = layers.Dense(128, kernel_regularizer=tf.keras.regularizers.L2(l2=L2REGULARIZATION))(xKmerRes)\n",
    "    xKmer = layers.LeakyReLU()(xKmer)\n",
    "    xKmer = layers.BatchNormalization()(xKmer)\n",
    "    xKmer = layers.Dropout(DROPOUT_RATE)(xKmer)\n",
    "    xKmer = tf.concat([xKmer,xKmerRes],1)\n",
    "\n",
    "\n",
    "    concat = tf.concat([xPC,xIP,xKmer,xT5,xEsm2],1)\n",
    "\n",
    "    x = layers.Dense(256, kernel_regularizer=tf.keras.regularizers.L2(l2=L2REGULARIZATION))(concat)\n",
    "    x = layers.LeakyReLU()(x)\n",
    "\n",
    "    outputs=layers.Dense(len(mlb.classes_), activation=tf.keras.activations.sigmoid)(x)\n",
    "\n",
    "\n",
    "    return tf.keras.Model(inputs=[inputsPC, inputsIP, inputsKmer, inputsT5, inputsEsm2], outputs=outputs, name=\"DenseMultiModal5_DO{:.2f}_L2Reg{:.2f}_Focal_noClassBal\".format(DROPOUT_RATE, L2REGULARIZATION))\n",
    "\n",
    "model = createModel()\n",
    "\n",
    "model.summary()\n",
    "\n",
    "dot_img_file = './'+model.name +'.png'\n",
    "tf.keras.utils.plot_model(model, to_file=dot_img_file, show_shapes=True)"
   ]
  },
  {
   "cell_type": "code",
   "execution_count": 42,
   "id": "5a3ddc20",
   "metadata": {},
   "outputs": [],
   "source": [
    "import matplotlib.pyplot as plt\n",
    "#Learning rate schedule\n",
    "initial_learning_rate = 0.001\n",
    "decaySteps=5000\n",
    "lr_schedule = tf.keras.optimizers.schedules.CosineDecayRestarts(initial_learning_rate, first_decay_steps=decaySteps,\n",
    "                                                                t_mul=1.7, m_mul=0.7)\n",
    "# lr_schedule = tf.keras.optimizers.schedules.CosineDecay(\n",
    "#     initial_learning_rate, decay_steps=decaySteps, alpha=0.01)\n",
    "# lr_schedule = tf.keras.optimizers.schedules.ExponentialDecay(\n",
    "#     initial_learning_rate,decay_steps=decaySteps,decay_rate=0.9,staircase=False)\n",
    "# step = np.linspace(0,decaySteps*3)\n",
    "# lr = lr_schedule(step)\n",
    "# plt.figure(figsize = (8,6))\n",
    "# # plt.yscale(\"log\")\n",
    "# plt.plot(step, lr)\n",
    "# plt.ylim([0,max(plt.ylim())])\n",
    "# plt.xlabel('step')\n",
    "# _ = plt.ylabel('Learning Rate')"
   ]
  },
  {
   "cell_type": "code",
   "execution_count": 43,
   "id": "d2f43e7c",
   "metadata": {},
   "outputs": [],
   "source": [
    "from utils import *"
   ]
  },
  {
   "cell_type": "code",
   "execution_count": 44,
   "id": "9113c4a7",
   "metadata": {},
   "outputs": [
    {
     "name": "stdout",
     "output_type": "stream",
     "text": [
      "\n",
      "Start of epoch 1\n"
     ]
    },
    {
     "name": "stderr",
     "output_type": "stream",
     "text": [
      "2023-08-17 20:08:26.515046: I tensorflow/compiler/xla/service/service.cc:168] XLA service 0x7f50538e1f00 initialized for platform CUDA (this does not guarantee that XLA will be used). Devices:\n",
      "2023-08-17 20:08:26.515085: I tensorflow/compiler/xla/service/service.cc:176]   StreamExecutor device (0): NVIDIA GeForce GTX 1070, Compute Capability 6.1\n",
      "2023-08-17 20:08:26.518765: I tensorflow/compiler/mlir/tensorflow/utils/dump_mlir_util.cc:255] disabling MLIR crash reproducer, set env var `MLIR_CRASH_REPRODUCER_DIRECTORY` to enable.\n",
      "2023-08-17 20:08:26.630425: I tensorflow/compiler/xla/stream_executor/cuda/cuda_dnn.cc:432] Loaded cuDNN version 8600\n",
      "2023-08-17 20:08:26.715771: I ./tensorflow/compiler/jit/device_compiler.h:186] Compiled cluster using XLA!  This line is logged at most once for the lifetime of the process.\n"
     ]
    },
    {
     "name": "stdout",
     "output_type": "stream",
     "text": [
      "Epoch 1/Step 0, Loss: 0.18402, Accuracy: 0.49644, F1: 0.0027, Prec: 0.4617, Rec: 0.0013, lr: 0.00030\n",
      "Epoch 1/Step 20, Loss: 0.06316, Accuracy: 0.83165, F1: 0.0069, Prec: 0.1919, Rec: 0.0039, lr: 0.00030\n",
      "Epoch 1/Step 40, Loss: 0.01615, Accuracy: 0.91231, F1: 0.0370, Prec: 0.1182, Rec: 0.1818, lr: 0.00030\n",
      "Epoch 1/Step 60, Loss: 0.00782, Accuracy: 0.94057, F1: 0.0565, Prec: 0.0968, Rec: 0.3088, lr: 0.00030\n",
      "Epoch 1/Step 80, Loss: 0.00548, Accuracy: 0.95487, F1: 0.0701, Prec: 0.0882, Rec: 0.3733, lr: 0.00030\n",
      "Epoch 1/Step 100, Loss: 0.00622, Accuracy: 0.96351, F1: 0.0786, Prec: 0.0832, Rec: 0.4155, lr: 0.00030\n",
      "Epoch 1/Step 120, Loss: 0.00562, Accuracy: 0.96929, F1: 0.0842, Prec: 0.0797, Rec: 0.4435, lr: 0.00030\n",
      "Epoch 1/Step 140, Loss: 0.00494, Accuracy: 0.97343, F1: 0.0888, Prec: 0.0776, Rec: 0.4648, lr: 0.00030\n",
      "Epoch 1/Step 160, Loss: 0.00520, Accuracy: 0.97654, F1: 0.0920, Prec: 0.0758, Rec: 0.4804, lr: 0.00030\n",
      "Epoch 1/Step 180, Loss: 0.00430, Accuracy: 0.97897, F1: 0.0945, Prec: 0.0745, Rec: 0.4921, lr: 0.00030\n",
      "Epoch 1/Step 200, Loss: 0.00438, Accuracy: 0.98090, F1: 0.0981, Prec: 0.0744, Rec: 0.5040, lr: 0.00030\n",
      "Epoch 1/Step 220, Loss: 0.00396, Accuracy: 0.98250, F1: 0.1012, Prec: 0.0744, Rec: 0.5122, lr: 0.00030\n",
      "Epoch 1/Step 240, Loss: 0.00480, Accuracy: 0.98382, F1: 0.1034, Prec: 0.0742, Rec: 0.5212, lr: 0.00030\n",
      "Epoch 1/Step 260, Loss: 0.00494, Accuracy: 0.98495, F1: 0.1058, Prec: 0.0744, Rec: 0.5270, lr: 0.00030\n",
      "Epoch 1/Step 280, Loss: 0.00399, Accuracy: 0.98590, F1: 0.1092, Prec: 0.0753, Rec: 0.5337, lr: 0.00030\n",
      "Epoch 1/Step 300, Loss: 0.00456, Accuracy: 0.98674, F1: 0.1119, Prec: 0.0760, Rec: 0.5378, lr: 0.00030\n",
      "Epoch 1/Step 320, Loss: 0.00487, Accuracy: 0.98747, F1: 0.1135, Prec: 0.0761, Rec: 0.5433, lr: 0.00030\n",
      "Epoch 1/Step 340, Loss: 0.00439, Accuracy: 0.98812, F1: 0.1150, Prec: 0.0762, Rec: 0.5473, lr: 0.00030\n",
      "Epoch 1/Step 360, Loss: 0.00452, Accuracy: 0.98870, F1: 0.1169, Prec: 0.0767, Rec: 0.5513, lr: 0.00030\n",
      "Epoch 1/Step 380, Loss: 0.00395, Accuracy: 0.98921, F1: 0.1189, Prec: 0.0774, Rec: 0.5550, lr: 0.00030\n",
      "Epoch 1/Step 400, Loss: 0.00394, Accuracy: 0.98967, F1: 0.1207, Prec: 0.0779, Rec: 0.5597, lr: 0.00030\n",
      "Epoch 1/Step 420, Loss: 0.00367, Accuracy: 0.99009, F1: 0.1225, Prec: 0.0785, Rec: 0.5630, lr: 0.00030\n",
      "Epoch 1/Step 440, Loss: 0.00420, Accuracy: 0.99047, F1: 0.1246, Prec: 0.0794, Rec: 0.5663, lr: 0.00030\n",
      "Epoch 1/Step 460, Loss: 0.00456, Accuracy: 0.99082, F1: 0.1262, Prec: 0.0800, Rec: 0.5691, lr: 0.00030\n",
      "Epoch finished. Start validation\n",
      "Validation acc: 0.9985\n",
      "Validation f1: 0.1227\n",
      "Validation precision: 0.0673\n",
      "Validation recall: 0.7080\n",
      "WARNING:tensorflow:Compiled the loaded model, but the compiled metrics have yet to be built. `model.compile_metrics` will be empty until you train or evaluate the model.\n",
      "INFO:tensorflow:Assets written to: /mnt/e/ML/cafa-5-protein-function-prediction/model_BPO_epoch_0_valF1Score0.1227/assets\n"
     ]
    },
    {
     "name": "stderr",
     "output_type": "stream",
     "text": [
      "INFO:tensorflow:Assets written to: /mnt/e/ML/cafa-5-protein-function-prediction/model_BPO_epoch_0_valF1Score0.1227/assets\n"
     ]
    },
    {
     "name": "stdout",
     "output_type": "stream",
     "text": [
      "\n",
      "Start of epoch 2\n",
      "Epoch 2/Step 0, Loss: 0.00413, Accuracy: 0.99860, F1: 0.1584, Prec: 0.0916, Rec: 0.5836, lr: 0.00030\n",
      "Epoch 2/Step 20, Loss: 0.00491, Accuracy: 0.99852, F1: 0.1565, Prec: 0.0896, Rec: 0.6320, lr: 0.00030\n",
      "Epoch 2/Step 40, Loss: 0.00330, Accuracy: 0.99853, F1: 0.1612, Prec: 0.0928, Rec: 0.6316, lr: 0.00030\n",
      "Epoch 2/Step 60, Loss: 0.00398, Accuracy: 0.99852, F1: 0.1633, Prec: 0.0942, Rec: 0.6319, lr: 0.00030\n",
      "Epoch 2/Step 80, Loss: 0.00382, Accuracy: 0.99852, F1: 0.1681, Prec: 0.0972, Rec: 0.6386, lr: 0.00030\n",
      "Epoch 2/Step 100, Loss: 0.00456, Accuracy: 0.99853, F1: 0.1702, Prec: 0.0986, Rec: 0.6414, lr: 0.00030\n",
      "Epoch 2/Step 120, Loss: 0.00426, Accuracy: 0.99853, F1: 0.1711, Prec: 0.0991, Rec: 0.6412, lr: 0.00030\n",
      "Epoch 2/Step 140, Loss: 0.00421, Accuracy: 0.99852, F1: 0.1707, Prec: 0.0989, Rec: 0.6391, lr: 0.00030\n",
      "Epoch 2/Step 160, Loss: 0.00454, Accuracy: 0.99852, F1: 0.1713, Prec: 0.0993, Rec: 0.6389, lr: 0.00030\n",
      "Epoch 2/Step 180, Loss: 0.00362, Accuracy: 0.99853, F1: 0.1725, Prec: 0.1001, Rec: 0.6390, lr: 0.00030\n",
      "Epoch 2/Step 200, Loss: 0.00355, Accuracy: 0.99852, F1: 0.1750, Prec: 0.1018, Rec: 0.6406, lr: 0.00030\n",
      "Epoch 2/Step 220, Loss: 0.00337, Accuracy: 0.99852, F1: 0.1771, Prec: 0.1032, Rec: 0.6392, lr: 0.00030\n",
      "Epoch 2/Step 240, Loss: 0.00428, Accuracy: 0.99852, F1: 0.1780, Prec: 0.1038, Rec: 0.6400, lr: 0.00030\n",
      "Epoch 2/Step 260, Loss: 0.00420, Accuracy: 0.99852, F1: 0.1794, Prec: 0.1048, Rec: 0.6399, lr: 0.00030\n",
      "Epoch 2/Step 280, Loss: 0.00355, Accuracy: 0.99851, F1: 0.1816, Prec: 0.1063, Rec: 0.6417, lr: 0.00030\n",
      "Epoch 2/Step 300, Loss: 0.00402, Accuracy: 0.99851, F1: 0.1834, Prec: 0.1076, Rec: 0.6408, lr: 0.00030\n",
      "Epoch 2/Step 320, Loss: 0.00407, Accuracy: 0.99852, F1: 0.1843, Prec: 0.1082, Rec: 0.6415, lr: 0.00030\n",
      "Epoch 2/Step 340, Loss: 0.00374, Accuracy: 0.99852, F1: 0.1847, Prec: 0.1084, Rec: 0.6413, lr: 0.00030\n",
      "Epoch 2/Step 360, Loss: 0.00393, Accuracy: 0.99852, F1: 0.1862, Prec: 0.1094, Rec: 0.6417, lr: 0.00030\n",
      "Epoch 2/Step 380, Loss: 0.00361, Accuracy: 0.99852, F1: 0.1875, Prec: 0.1104, Rec: 0.6416, lr: 0.00030\n",
      "Epoch 2/Step 400, Loss: 0.00333, Accuracy: 0.99852, F1: 0.1888, Prec: 0.1112, Rec: 0.6430, lr: 0.00030\n",
      "Epoch 2/Step 420, Loss: 0.00350, Accuracy: 0.99852, F1: 0.1902, Prec: 0.1122, Rec: 0.6427, lr: 0.00030\n",
      "Epoch 2/Step 440, Loss: 0.00383, Accuracy: 0.99852, F1: 0.1920, Prec: 0.1134, Rec: 0.6433, lr: 0.00030\n",
      "Epoch 2/Step 460, Loss: 0.00398, Accuracy: 0.99852, F1: 0.1932, Prec: 0.1143, Rec: 0.6440, lr: 0.00030\n",
      "Epoch finished. Start validation\n",
      "Validation acc: 0.9986\n",
      "Validation f1: 0.2272\n",
      "Validation precision: 0.1372\n",
      "Validation recall: 0.6748\n",
      "WARNING:tensorflow:Compiled the loaded model, but the compiled metrics have yet to be built. `model.compile_metrics` will be empty until you train or evaluate the model.\n"
     ]
    },
    {
     "name": "stderr",
     "output_type": "stream",
     "text": [
      "WARNING:tensorflow:Compiled the loaded model, but the compiled metrics have yet to be built. `model.compile_metrics` will be empty until you train or evaluate the model.\n"
     ]
    },
    {
     "name": "stdout",
     "output_type": "stream",
     "text": [
      "INFO:tensorflow:Assets written to: /mnt/e/ML/cafa-5-protein-function-prediction/model_BPO_epoch_1_valF1Score0.2272/assets\n"
     ]
    },
    {
     "name": "stderr",
     "output_type": "stream",
     "text": [
      "INFO:tensorflow:Assets written to: /mnt/e/ML/cafa-5-protein-function-prediction/model_BPO_epoch_1_valF1Score0.2272/assets\n"
     ]
    },
    {
     "name": "stdout",
     "output_type": "stream",
     "text": [
      "\n",
      "Start of epoch 3\n",
      "Epoch 3/Step 0, Loss: 0.00362, Accuracy: 0.99863, F1: 0.2401, Prec: 0.1492, Rec: 0.6152, lr: 0.00030\n",
      "Epoch 3/Step 20, Loss: 0.00433, Accuracy: 0.99855, F1: 0.2125, Prec: 0.1271, Rec: 0.6598, lr: 0.00030\n",
      "Epoch 3/Step 40, Loss: 0.00297, Accuracy: 0.99856, F1: 0.2179, Prec: 0.1316, Rec: 0.6485, lr: 0.00030\n",
      "Epoch 3/Step 60, Loss: 0.00362, Accuracy: 0.99855, F1: 0.2180, Prec: 0.1319, Rec: 0.6453, lr: 0.00030\n",
      "Epoch 3/Step 80, Loss: 0.00335, Accuracy: 0.99855, F1: 0.2219, Prec: 0.1345, Rec: 0.6512, lr: 0.00030\n",
      "Epoch 3/Step 100, Loss: 0.00420, Accuracy: 0.99855, F1: 0.2219, Prec: 0.1344, Rec: 0.6530, lr: 0.00030\n",
      "Epoch 3/Step 120, Loss: 0.00393, Accuracy: 0.99855, F1: 0.2221, Prec: 0.1345, Rec: 0.6531, lr: 0.00030\n",
      "Epoch 3/Step 140, Loss: 0.00377, Accuracy: 0.99855, F1: 0.2212, Prec: 0.1339, Rec: 0.6496, lr: 0.00030\n",
      "Epoch 3/Step 160, Loss: 0.00408, Accuracy: 0.99855, F1: 0.2209, Prec: 0.1337, Rec: 0.6510, lr: 0.00030\n",
      "Epoch 3/Step 180, Loss: 0.00320, Accuracy: 0.99855, F1: 0.2208, Prec: 0.1336, Rec: 0.6499, lr: 0.00030\n",
      "Epoch 3/Step 200, Loss: 0.00333, Accuracy: 0.99854, F1: 0.2227, Prec: 0.1350, Rec: 0.6503, lr: 0.00030\n",
      "Epoch 3/Step 220, Loss: 0.00305, Accuracy: 0.99854, F1: 0.2248, Prec: 0.1366, Rec: 0.6506, lr: 0.00030\n",
      "Epoch 3/Step 240, Loss: 0.00392, Accuracy: 0.99854, F1: 0.2257, Prec: 0.1371, Rec: 0.6519, lr: 0.00030\n",
      "Epoch 3/Step 260, Loss: 0.00409, Accuracy: 0.99854, F1: 0.2269, Prec: 0.1380, Rec: 0.6513, lr: 0.00030\n",
      "Epoch 3/Step 280, Loss: 0.00322, Accuracy: 0.99854, F1: 0.2287, Prec: 0.1393, Rec: 0.6523, lr: 0.00030\n",
      "Epoch 3/Step 300, Loss: 0.00361, Accuracy: 0.99854, F1: 0.2294, Prec: 0.1399, Rec: 0.6513, lr: 0.00030\n",
      "Epoch 3/Step 320, Loss: 0.00383, Accuracy: 0.99854, F1: 0.2304, Prec: 0.1406, Rec: 0.6523, lr: 0.00030\n",
      "Epoch 3/Step 340, Loss: 0.00338, Accuracy: 0.99854, F1: 0.2307, Prec: 0.1408, Rec: 0.6522, lr: 0.00030\n",
      "Epoch 3/Step 360, Loss: 0.00373, Accuracy: 0.99854, F1: 0.2318, Prec: 0.1416, Rec: 0.6521, lr: 0.00030\n",
      "Epoch 3/Step 380, Loss: 0.00336, Accuracy: 0.99854, F1: 0.2326, Prec: 0.1422, Rec: 0.6522, lr: 0.00030\n",
      "Epoch 3/Step 400, Loss: 0.00313, Accuracy: 0.99854, F1: 0.2337, Prec: 0.1430, Rec: 0.6536, lr: 0.00030\n",
      "Epoch 3/Step 420, Loss: 0.00324, Accuracy: 0.99854, F1: 0.2347, Prec: 0.1437, Rec: 0.6533, lr: 0.00030\n",
      "Epoch 3/Step 440, Loss: 0.00358, Accuracy: 0.99854, F1: 0.2362, Prec: 0.1448, Rec: 0.6540, lr: 0.00030\n",
      "Epoch 3/Step 460, Loss: 0.00365, Accuracy: 0.99854, F1: 0.2372, Prec: 0.1455, Rec: 0.6549, lr: 0.00030\n",
      "Epoch finished. Start validation\n",
      "Validation acc: 0.9986\n",
      "Validation f1: 0.2568\n",
      "Validation precision: 0.1586\n",
      "Validation recall: 0.6875\n",
      "WARNING:tensorflow:Compiled the loaded model, but the compiled metrics have yet to be built. `model.compile_metrics` will be empty until you train or evaluate the model.\n"
     ]
    },
    {
     "name": "stderr",
     "output_type": "stream",
     "text": [
      "WARNING:tensorflow:Compiled the loaded model, but the compiled metrics have yet to be built. `model.compile_metrics` will be empty until you train or evaluate the model.\n"
     ]
    },
    {
     "name": "stdout",
     "output_type": "stream",
     "text": [
      "INFO:tensorflow:Assets written to: /mnt/e/ML/cafa-5-protein-function-prediction/model_BPO_epoch_2_valF1Score0.2568/assets\n"
     ]
    },
    {
     "name": "stderr",
     "output_type": "stream",
     "text": [
      "INFO:tensorflow:Assets written to: /mnt/e/ML/cafa-5-protein-function-prediction/model_BPO_epoch_2_valF1Score0.2568/assets\n"
     ]
    },
    {
     "name": "stdout",
     "output_type": "stream",
     "text": [
      "\n",
      "Start of epoch 4\n",
      "Epoch 4/Step 0, Loss: 0.00343, Accuracy: 0.99858, F1: 0.2802, Prec: 0.1764, Rec: 0.6810, lr: 0.00030\n",
      "Epoch 4/Step 20, Loss: 0.00400, Accuracy: 0.99857, F1: 0.2407, Prec: 0.1475, Rec: 0.6654, lr: 0.00030\n",
      "Epoch 4/Step 40, Loss: 0.00280, Accuracy: 0.99858, F1: 0.2502, Prec: 0.1559, Rec: 0.6518, lr: 0.00030\n",
      "Epoch 4/Step 60, Loss: 0.00327, Accuracy: 0.99856, F1: 0.2483, Prec: 0.1548, Rec: 0.6482, lr: 0.00030\n",
      "Epoch 4/Step 80, Loss: 0.00321, Accuracy: 0.99856, F1: 0.2524, Prec: 0.1573, Rec: 0.6557, lr: 0.00030\n",
      "Epoch 4/Step 100, Loss: 0.00397, Accuracy: 0.99857, F1: 0.2543, Prec: 0.1586, Rec: 0.6572, lr: 0.00030\n",
      "Epoch 4/Step 120, Loss: 0.00361, Accuracy: 0.99857, F1: 0.2555, Prec: 0.1594, Rec: 0.6580, lr: 0.00030\n",
      "Epoch 4/Step 140, Loss: 0.00360, Accuracy: 0.99856, F1: 0.2537, Prec: 0.1580, Rec: 0.6567, lr: 0.00030\n",
      "Epoch 4/Step 160, Loss: 0.00376, Accuracy: 0.99856, F1: 0.2545, Prec: 0.1585, Rec: 0.6578, lr: 0.00030\n",
      "Epoch 4/Step 180, Loss: 0.00287, Accuracy: 0.99857, F1: 0.2557, Prec: 0.1595, Rec: 0.6568, lr: 0.00030\n",
      "Epoch 4/Step 200, Loss: 0.00316, Accuracy: 0.99856, F1: 0.2579, Prec: 0.1612, Rec: 0.6590, lr: 0.00030\n",
      "Epoch 4/Step 220, Loss: 0.00273, Accuracy: 0.99856, F1: 0.2603, Prec: 0.1630, Rec: 0.6588, lr: 0.00030\n",
      "Epoch 4/Step 240, Loss: 0.00388, Accuracy: 0.99856, F1: 0.2609, Prec: 0.1634, Rec: 0.6595, lr: 0.00030\n",
      "Epoch 4/Step 260, Loss: 0.00348, Accuracy: 0.99856, F1: 0.2617, Prec: 0.1641, Rec: 0.6585, lr: 0.00030\n",
      "Epoch 4/Step 280, Loss: 0.00297, Accuracy: 0.99856, F1: 0.2631, Prec: 0.1651, Rec: 0.6603, lr: 0.00030\n",
      "Epoch 4/Step 300, Loss: 0.00336, Accuracy: 0.99856, F1: 0.2642, Prec: 0.1660, Rec: 0.6592, lr: 0.00030\n",
      "Epoch 4/Step 320, Loss: 0.00355, Accuracy: 0.99856, F1: 0.2650, Prec: 0.1667, Rec: 0.6601, lr: 0.00030\n",
      "Epoch 4/Step 340, Loss: 0.00323, Accuracy: 0.99856, F1: 0.2652, Prec: 0.1668, Rec: 0.6599, lr: 0.00030\n",
      "Epoch 4/Step 360, Loss: 0.00350, Accuracy: 0.99856, F1: 0.2659, Prec: 0.1673, Rec: 0.6598, lr: 0.00030\n",
      "Epoch 4/Step 380, Loss: 0.00318, Accuracy: 0.99856, F1: 0.2663, Prec: 0.1676, Rec: 0.6598, lr: 0.00030\n",
      "Epoch 4/Step 400, Loss: 0.00294, Accuracy: 0.99856, F1: 0.2673, Prec: 0.1683, Rec: 0.6606, lr: 0.00030\n",
      "Epoch 4/Step 420, Loss: 0.00315, Accuracy: 0.99856, F1: 0.2682, Prec: 0.1691, Rec: 0.6602, lr: 0.00030\n",
      "Epoch 4/Step 440, Loss: 0.00341, Accuracy: 0.99856, F1: 0.2695, Prec: 0.1702, Rec: 0.6603, lr: 0.00030\n",
      "Epoch 4/Step 460, Loss: 0.00332, Accuracy: 0.99856, F1: 0.2703, Prec: 0.1707, Rec: 0.6607, lr: 0.00030\n",
      "Epoch finished. Start validation\n",
      "Validation acc: 0.9986\n",
      "Validation f1: 0.2863\n",
      "Validation precision: 0.1824\n",
      "Validation recall: 0.6761\n",
      "WARNING:tensorflow:Compiled the loaded model, but the compiled metrics have yet to be built. `model.compile_metrics` will be empty until you train or evaluate the model.\n"
     ]
    },
    {
     "name": "stderr",
     "output_type": "stream",
     "text": [
      "WARNING:tensorflow:Compiled the loaded model, but the compiled metrics have yet to be built. `model.compile_metrics` will be empty until you train or evaluate the model.\n"
     ]
    },
    {
     "name": "stdout",
     "output_type": "stream",
     "text": [
      "INFO:tensorflow:Assets written to: /mnt/e/ML/cafa-5-protein-function-prediction/model_BPO_epoch_3_valF1Score0.2863/assets\n"
     ]
    },
    {
     "name": "stderr",
     "output_type": "stream",
     "text": [
      "INFO:tensorflow:Assets written to: /mnt/e/ML/cafa-5-protein-function-prediction/model_BPO_epoch_3_valF1Score0.2863/assets\n"
     ]
    },
    {
     "name": "stdout",
     "output_type": "stream",
     "text": [
      "\n",
      "Start of epoch 5\n",
      "Epoch 5/Step 0, Loss: 0.00304, Accuracy: 0.99868, F1: 0.2764, Prec: 0.1719, Rec: 0.7036, lr: 0.00030\n",
      "Epoch 5/Step 20, Loss: 0.00391, Accuracy: 0.99859, F1: 0.2715, Prec: 0.1719, Rec: 0.6557, lr: 0.00030\n",
      "Epoch 5/Step 40, Loss: 0.00262, Accuracy: 0.99859, F1: 0.2793, Prec: 0.1788, Rec: 0.6509, lr: 0.00030\n",
      "Epoch 5/Step 60, Loss: 0.00307, Accuracy: 0.99859, F1: 0.2769, Prec: 0.1770, Rec: 0.6501, lr: 0.00030\n",
      "Epoch 5/Step 80, Loss: 0.00297, Accuracy: 0.99859, F1: 0.2821, Prec: 0.1806, Rec: 0.6567, lr: 0.00030\n",
      "Epoch 5/Step 100, Loss: 0.00373, Accuracy: 0.99859, F1: 0.2835, Prec: 0.1815, Rec: 0.6581, lr: 0.00030\n",
      "Epoch 5/Step 120, Loss: 0.00343, Accuracy: 0.99860, F1: 0.2846, Prec: 0.1824, Rec: 0.6584, lr: 0.00030\n",
      "Epoch 5/Step 140, Loss: 0.00332, Accuracy: 0.99859, F1: 0.2834, Prec: 0.1815, Rec: 0.6563, lr: 0.00030\n",
      "Epoch 5/Step 160, Loss: 0.00357, Accuracy: 0.99859, F1: 0.2841, Prec: 0.1819, Rec: 0.6587, lr: 0.00030\n",
      "Epoch 5/Step 180, Loss: 0.00272, Accuracy: 0.99859, F1: 0.2849, Prec: 0.1826, Rec: 0.6577, lr: 0.00030\n",
      "Epoch 5/Step 200, Loss: 0.00288, Accuracy: 0.99859, F1: 0.2869, Prec: 0.1841, Rec: 0.6601, lr: 0.00030\n",
      "Epoch 5/Step 220, Loss: 0.00260, Accuracy: 0.99859, F1: 0.2890, Prec: 0.1859, Rec: 0.6593, lr: 0.00030\n",
      "Epoch 5/Step 240, Loss: 0.00354, Accuracy: 0.99858, F1: 0.2898, Prec: 0.1865, Rec: 0.6601, lr: 0.00030\n",
      "Epoch 5/Step 260, Loss: 0.00322, Accuracy: 0.99859, F1: 0.2902, Prec: 0.1869, Rec: 0.6592, lr: 0.00030\n",
      "Epoch 5/Step 280, Loss: 0.00280, Accuracy: 0.99858, F1: 0.2919, Prec: 0.1882, Rec: 0.6614, lr: 0.00030\n",
      "Epoch 5/Step 300, Loss: 0.00322, Accuracy: 0.99858, F1: 0.2925, Prec: 0.1887, Rec: 0.6605, lr: 0.00030\n",
      "Epoch 5/Step 320, Loss: 0.00335, Accuracy: 0.99858, F1: 0.2934, Prec: 0.1894, Rec: 0.6621, lr: 0.00030\n",
      "Epoch 5/Step 340, Loss: 0.00306, Accuracy: 0.99858, F1: 0.2933, Prec: 0.1892, Rec: 0.6623, lr: 0.00030\n",
      "Epoch 5/Step 360, Loss: 0.00328, Accuracy: 0.99858, F1: 0.2941, Prec: 0.1900, Rec: 0.6616, lr: 0.00030\n",
      "Epoch 5/Step 380, Loss: 0.00292, Accuracy: 0.99858, F1: 0.2945, Prec: 0.1903, Rec: 0.6620, lr: 0.00030\n",
      "Epoch 5/Step 400, Loss: 0.00290, Accuracy: 0.99858, F1: 0.2954, Prec: 0.1909, Rec: 0.6626, lr: 0.00030\n",
      "Epoch 5/Step 420, Loss: 0.00288, Accuracy: 0.99858, F1: 0.2959, Prec: 0.1914, Rec: 0.6624, lr: 0.00030\n",
      "Epoch 5/Step 440, Loss: 0.00313, Accuracy: 0.99858, F1: 0.2970, Prec: 0.1923, Rec: 0.6630, lr: 0.00030\n",
      "Epoch 5/Step 460, Loss: 0.00331, Accuracy: 0.99858, F1: 0.2978, Prec: 0.1930, Rec: 0.6633, lr: 0.00030\n",
      "Epoch finished. Start validation\n",
      "Validation acc: 0.9986\n",
      "Validation f1: 0.3253\n",
      "Validation precision: 0.2176\n",
      "Validation recall: 0.6543\n",
      "WARNING:tensorflow:Compiled the loaded model, but the compiled metrics have yet to be built. `model.compile_metrics` will be empty until you train or evaluate the model.\n"
     ]
    },
    {
     "name": "stderr",
     "output_type": "stream",
     "text": [
      "WARNING:tensorflow:Compiled the loaded model, but the compiled metrics have yet to be built. `model.compile_metrics` will be empty until you train or evaluate the model.\n"
     ]
    },
    {
     "name": "stdout",
     "output_type": "stream",
     "text": [
      "INFO:tensorflow:Assets written to: /mnt/e/ML/cafa-5-protein-function-prediction/model_BPO_epoch_4_valF1Score0.3253/assets\n"
     ]
    },
    {
     "name": "stderr",
     "output_type": "stream",
     "text": [
      "INFO:tensorflow:Assets written to: /mnt/e/ML/cafa-5-protein-function-prediction/model_BPO_epoch_4_valF1Score0.3253/assets\n"
     ]
    },
    {
     "name": "stdout",
     "output_type": "stream",
     "text": [
      "\n",
      "Start of epoch 6\n",
      "Epoch 6/Step 0, Loss: 0.00284, Accuracy: 0.99869, F1: 0.3048, Prec: 0.1974, Rec: 0.6681, lr: 0.00030\n",
      "Epoch 6/Step 20, Loss: 0.00365, Accuracy: 0.99861, F1: 0.2941, Prec: 0.1893, Rec: 0.6670, lr: 0.00030\n",
      "Epoch 6/Step 40, Loss: 0.00243, Accuracy: 0.99861, F1: 0.3013, Prec: 0.1970, Rec: 0.6546, lr: 0.00030\n",
      "Epoch 6/Step 60, Loss: 0.00289, Accuracy: 0.99861, F1: 0.3005, Prec: 0.1963, Rec: 0.6556, lr: 0.00030\n",
      "Epoch 6/Step 80, Loss: 0.00289, Accuracy: 0.99861, F1: 0.3053, Prec: 0.1996, Rec: 0.6613, lr: 0.00030\n",
      "Epoch 6/Step 100, Loss: 0.00360, Accuracy: 0.99861, F1: 0.3063, Prec: 0.2002, Rec: 0.6629, lr: 0.00030\n",
      "Epoch 6/Step 120, Loss: 0.00346, Accuracy: 0.99861, F1: 0.3071, Prec: 0.2008, Rec: 0.6624, lr: 0.00030\n",
      "Epoch 6/Step 140, Loss: 0.00317, Accuracy: 0.99860, F1: 0.3056, Prec: 0.1996, Rec: 0.6610, lr: 0.00030\n",
      "Epoch 6/Step 160, Loss: 0.00336, Accuracy: 0.99860, F1: 0.3058, Prec: 0.1998, Rec: 0.6621, lr: 0.00030\n",
      "Epoch 6/Step 180, Loss: 0.00277, Accuracy: 0.99861, F1: 0.3076, Prec: 0.2012, Rec: 0.6620, lr: 0.00030\n",
      "Epoch 6/Step 200, Loss: 0.00272, Accuracy: 0.99860, F1: 0.3095, Prec: 0.2027, Rec: 0.6642, lr: 0.00030\n",
      "Epoch 6/Step 220, Loss: 0.00250, Accuracy: 0.99860, F1: 0.3116, Prec: 0.2045, Rec: 0.6640, lr: 0.00030\n",
      "Epoch 6/Step 240, Loss: 0.00347, Accuracy: 0.99860, F1: 0.3122, Prec: 0.2050, Rec: 0.6644, lr: 0.00030\n",
      "Epoch 6/Step 260, Loss: 0.00304, Accuracy: 0.99860, F1: 0.3125, Prec: 0.2053, Rec: 0.6632, lr: 0.00030\n",
      "Epoch 6/Step 280, Loss: 0.00264, Accuracy: 0.99860, F1: 0.3140, Prec: 0.2066, Rec: 0.6642, lr: 0.00030\n",
      "Epoch 6/Step 300, Loss: 0.00297, Accuracy: 0.99860, F1: 0.3144, Prec: 0.2070, Rec: 0.6633, lr: 0.00030\n",
      "Epoch 6/Step 320, Loss: 0.00324, Accuracy: 0.99860, F1: 0.3154, Prec: 0.2077, Rec: 0.6641, lr: 0.00030\n",
      "Epoch 6/Step 340, Loss: 0.00277, Accuracy: 0.99860, F1: 0.3151, Prec: 0.2075, Rec: 0.6634, lr: 0.00030\n",
      "Epoch 6/Step 360, Loss: 0.00316, Accuracy: 0.99860, F1: 0.3158, Prec: 0.2081, Rec: 0.6636, lr: 0.00030\n",
      "Epoch 6/Step 380, Loss: 0.00286, Accuracy: 0.99860, F1: 0.3166, Prec: 0.2088, Rec: 0.6635, lr: 0.00030\n",
      "Epoch 6/Step 400, Loss: 0.00276, Accuracy: 0.99860, F1: 0.3174, Prec: 0.2095, Rec: 0.6643, lr: 0.00030\n",
      "Epoch 6/Step 420, Loss: 0.00285, Accuracy: 0.99860, F1: 0.3181, Prec: 0.2101, Rec: 0.6642, lr: 0.00030\n",
      "Epoch 6/Step 440, Loss: 0.00307, Accuracy: 0.99860, F1: 0.3196, Prec: 0.2113, Rec: 0.6651, lr: 0.00030\n",
      "Epoch 6/Step 460, Loss: 0.00311, Accuracy: 0.99860, F1: 0.3204, Prec: 0.2119, Rec: 0.6656, lr: 0.00030\n",
      "Epoch finished. Start validation\n",
      "Validation acc: 0.9986\n",
      "Validation f1: 0.3451\n",
      "Validation precision: 0.2361\n",
      "Validation recall: 0.6497\n",
      "WARNING:tensorflow:Compiled the loaded model, but the compiled metrics have yet to be built. `model.compile_metrics` will be empty until you train or evaluate the model.\n"
     ]
    },
    {
     "name": "stderr",
     "output_type": "stream",
     "text": [
      "WARNING:tensorflow:Compiled the loaded model, but the compiled metrics have yet to be built. `model.compile_metrics` will be empty until you train or evaluate the model.\n"
     ]
    },
    {
     "name": "stdout",
     "output_type": "stream",
     "text": [
      "INFO:tensorflow:Assets written to: /mnt/e/ML/cafa-5-protein-function-prediction/model_BPO_epoch_5_valF1Score0.3451/assets\n"
     ]
    },
    {
     "name": "stderr",
     "output_type": "stream",
     "text": [
      "INFO:tensorflow:Assets written to: /mnt/e/ML/cafa-5-protein-function-prediction/model_BPO_epoch_5_valF1Score0.3451/assets\n"
     ]
    },
    {
     "name": "stdout",
     "output_type": "stream",
     "text": [
      "\n",
      "Start of epoch 7\n",
      "Epoch 7/Step 0, Loss: 0.00265, Accuracy: 0.99875, F1: 0.3420, Prec: 0.2248, Rec: 0.7149, lr: 0.00030\n",
      "Epoch 7/Step 20, Loss: 0.00352, Accuracy: 0.99863, F1: 0.3208, Prec: 0.2114, Rec: 0.6709, lr: 0.00030\n",
      "Epoch 7/Step 40, Loss: 0.00236, Accuracy: 0.99863, F1: 0.3256, Prec: 0.2165, Rec: 0.6649, lr: 0.00030\n",
      "Epoch 7/Step 60, Loss: 0.00278, Accuracy: 0.99862, F1: 0.3221, Prec: 0.2143, Rec: 0.6588, lr: 0.00030\n",
      "Epoch 7/Step 80, Loss: 0.00270, Accuracy: 0.99862, F1: 0.3263, Prec: 0.2172, Rec: 0.6640, lr: 0.00030\n",
      "Epoch 7/Step 100, Loss: 0.00350, Accuracy: 0.99863, F1: 0.3278, Prec: 0.2185, Rec: 0.6644, lr: 0.00030\n",
      "Epoch 7/Step 120, Loss: 0.00305, Accuracy: 0.99863, F1: 0.3291, Prec: 0.2197, Rec: 0.6636, lr: 0.00030\n",
      "Epoch 7/Step 140, Loss: 0.00302, Accuracy: 0.99862, F1: 0.3284, Prec: 0.2191, Rec: 0.6633, lr: 0.00030\n",
      "Epoch 7/Step 160, Loss: 0.00324, Accuracy: 0.99862, F1: 0.3280, Prec: 0.2187, Rec: 0.6631, lr: 0.00030\n",
      "Epoch 7/Step 180, Loss: 0.00256, Accuracy: 0.99863, F1: 0.3290, Prec: 0.2196, Rec: 0.6632, lr: 0.00030\n",
      "Epoch 7/Step 200, Loss: 0.00260, Accuracy: 0.99862, F1: 0.3310, Prec: 0.2211, Rec: 0.6654, lr: 0.00030\n",
      "Epoch 7/Step 220, Loss: 0.00234, Accuracy: 0.99862, F1: 0.3330, Prec: 0.2228, Rec: 0.6660, lr: 0.00030\n",
      "Epoch 7/Step 240, Loss: 0.00333, Accuracy: 0.99862, F1: 0.3339, Prec: 0.2237, Rec: 0.6659, lr: 0.00030\n",
      "Epoch 7/Step 260, Loss: 0.00277, Accuracy: 0.99862, F1: 0.3343, Prec: 0.2242, Rec: 0.6649, lr: 0.00030\n",
      "Epoch 7/Step 280, Loss: 0.00251, Accuracy: 0.99862, F1: 0.3361, Prec: 0.2257, Rec: 0.6660, lr: 0.00030\n",
      "Epoch 7/Step 300, Loss: 0.00293, Accuracy: 0.99862, F1: 0.3368, Prec: 0.2263, Rec: 0.6659, lr: 0.00030\n",
      "Epoch 7/Step 320, Loss: 0.00303, Accuracy: 0.99862, F1: 0.3381, Prec: 0.2274, Rec: 0.6667, lr: 0.00030\n",
      "Epoch 7/Step 340, Loss: 0.00279, Accuracy: 0.99862, F1: 0.3381, Prec: 0.2273, Rec: 0.6671, lr: 0.00030\n",
      "Epoch 7/Step 360, Loss: 0.00322, Accuracy: 0.99862, F1: 0.3390, Prec: 0.2282, Rec: 0.6671, lr: 0.00030\n",
      "Epoch 7/Step 380, Loss: 0.00270, Accuracy: 0.99862, F1: 0.3394, Prec: 0.2285, Rec: 0.6677, lr: 0.00030\n",
      "Epoch 7/Step 400, Loss: 0.00259, Accuracy: 0.99862, F1: 0.3401, Prec: 0.2291, Rec: 0.6678, lr: 0.00030\n",
      "Epoch 7/Step 420, Loss: 0.00269, Accuracy: 0.99862, F1: 0.3408, Prec: 0.2297, Rec: 0.6675, lr: 0.00030\n",
      "Epoch 7/Step 440, Loss: 0.00299, Accuracy: 0.99862, F1: 0.3416, Prec: 0.2304, Rec: 0.6684, lr: 0.00030\n",
      "Epoch 7/Step 460, Loss: 0.00296, Accuracy: 0.99862, F1: 0.3421, Prec: 0.2308, Rec: 0.6685, lr: 0.00030\n",
      "Epoch finished. Start validation\n",
      "Validation acc: 0.9986\n",
      "Validation f1: 0.3645\n",
      "Validation precision: 0.2578\n",
      "Validation recall: 0.6298\n",
      "WARNING:tensorflow:Compiled the loaded model, but the compiled metrics have yet to be built. `model.compile_metrics` will be empty until you train or evaluate the model.\n"
     ]
    },
    {
     "name": "stderr",
     "output_type": "stream",
     "text": [
      "WARNING:tensorflow:Compiled the loaded model, but the compiled metrics have yet to be built. `model.compile_metrics` will be empty until you train or evaluate the model.\n"
     ]
    },
    {
     "name": "stdout",
     "output_type": "stream",
     "text": [
      "INFO:tensorflow:Assets written to: /mnt/e/ML/cafa-5-protein-function-prediction/model_BPO_epoch_6_valF1Score0.3645/assets\n"
     ]
    },
    {
     "name": "stderr",
     "output_type": "stream",
     "text": [
      "INFO:tensorflow:Assets written to: /mnt/e/ML/cafa-5-protein-function-prediction/model_BPO_epoch_6_valF1Score0.3645/assets\n"
     ]
    },
    {
     "name": "stdout",
     "output_type": "stream",
     "text": [
      "\n",
      "Start of epoch 8\n",
      "Epoch 8/Step 0, Loss: 0.00259, Accuracy: 0.99876, F1: 0.3477, Prec: 0.2355, Rec: 0.6641, lr: 0.00030\n",
      "Epoch 8/Step 20, Loss: 0.00336, Accuracy: 0.99865, F1: 0.3405, Prec: 0.2282, Rec: 0.6756, lr: 0.00030\n",
      "Epoch 8/Step 40, Loss: 0.00217, Accuracy: 0.99865, F1: 0.3445, Prec: 0.2341, Rec: 0.6624, lr: 0.00030\n",
      "Epoch 8/Step 60, Loss: 0.00269, Accuracy: 0.99864, F1: 0.3419, Prec: 0.2317, Rec: 0.6624, lr: 0.00030\n",
      "Epoch 8/Step 80, Loss: 0.00252, Accuracy: 0.99864, F1: 0.3466, Prec: 0.2351, Rec: 0.6671, lr: 0.00030\n",
      "Epoch 8/Step 100, Loss: 0.00343, Accuracy: 0.99864, F1: 0.3487, Prec: 0.2369, Rec: 0.6691, lr: 0.00030\n",
      "Epoch 8/Step 120, Loss: 0.00300, Accuracy: 0.99865, F1: 0.3497, Prec: 0.2377, Rec: 0.6691, lr: 0.00030\n",
      "Epoch 8/Step 140, Loss: 0.00301, Accuracy: 0.99864, F1: 0.3482, Prec: 0.2363, Rec: 0.6686, lr: 0.00030\n",
      "Epoch 8/Step 160, Loss: 0.00316, Accuracy: 0.99864, F1: 0.3477, Prec: 0.2360, Rec: 0.6679, lr: 0.00030\n",
      "Epoch 8/Step 180, Loss: 0.00242, Accuracy: 0.99864, F1: 0.3489, Prec: 0.2371, Rec: 0.6680, lr: 0.00030\n",
      "Epoch 8/Step 200, Loss: 0.00253, Accuracy: 0.99864, F1: 0.3508, Prec: 0.2385, Rec: 0.6697, lr: 0.00030\n",
      "Epoch 8/Step 220, Loss: 0.00222, Accuracy: 0.99864, F1: 0.3529, Prec: 0.2403, Rec: 0.6707, lr: 0.00030\n",
      "Epoch 8/Step 240, Loss: 0.00320, Accuracy: 0.99863, F1: 0.3534, Prec: 0.2408, Rec: 0.6711, lr: 0.00030\n",
      "Epoch 8/Step 260, Loss: 0.00270, Accuracy: 0.99864, F1: 0.3538, Prec: 0.2412, Rec: 0.6715, lr: 0.00030\n",
      "Epoch 8/Step 280, Loss: 0.00244, Accuracy: 0.99863, F1: 0.3554, Prec: 0.2425, Rec: 0.6726, lr: 0.00030\n",
      "Epoch 8/Step 300, Loss: 0.00276, Accuracy: 0.99863, F1: 0.3556, Prec: 0.2429, Rec: 0.6711, lr: 0.00030\n",
      "Epoch 8/Step 320, Loss: 0.00290, Accuracy: 0.99863, F1: 0.3567, Prec: 0.2438, Rec: 0.6717, lr: 0.00030\n",
      "Epoch 8/Step 340, Loss: 0.00269, Accuracy: 0.99863, F1: 0.3564, Prec: 0.2436, Rec: 0.6715, lr: 0.00030\n",
      "Epoch 8/Step 360, Loss: 0.00308, Accuracy: 0.99863, F1: 0.3575, Prec: 0.2446, Rec: 0.6717, lr: 0.00030\n",
      "Epoch 8/Step 380, Loss: 0.00254, Accuracy: 0.99863, F1: 0.3582, Prec: 0.2452, Rec: 0.6722, lr: 0.00030\n",
      "Epoch 8/Step 400, Loss: 0.00252, Accuracy: 0.99863, F1: 0.3593, Prec: 0.2461, Rec: 0.6727, lr: 0.00030\n",
      "Epoch 8/Step 420, Loss: 0.00270, Accuracy: 0.99863, F1: 0.3598, Prec: 0.2466, Rec: 0.6726, lr: 0.00030\n",
      "Epoch 8/Step 440, Loss: 0.00273, Accuracy: 0.99863, F1: 0.3610, Prec: 0.2477, Rec: 0.6735, lr: 0.00030\n",
      "Epoch 8/Step 460, Loss: 0.00298, Accuracy: 0.99863, F1: 0.3618, Prec: 0.2483, Rec: 0.6739, lr: 0.00030\n",
      "Epoch finished. Start validation\n",
      "Validation acc: 0.9986\n",
      "Validation f1: 0.3732\n",
      "Validation precision: 0.2666\n",
      "Validation recall: 0.6294\n",
      "WARNING:tensorflow:Compiled the loaded model, but the compiled metrics have yet to be built. `model.compile_metrics` will be empty until you train or evaluate the model.\n"
     ]
    },
    {
     "name": "stderr",
     "output_type": "stream",
     "text": [
      "WARNING:tensorflow:Compiled the loaded model, but the compiled metrics have yet to be built. `model.compile_metrics` will be empty until you train or evaluate the model.\n"
     ]
    },
    {
     "name": "stdout",
     "output_type": "stream",
     "text": [
      "INFO:tensorflow:Assets written to: /mnt/e/ML/cafa-5-protein-function-prediction/model_BPO_epoch_7_valF1Score0.3732/assets\n"
     ]
    },
    {
     "name": "stderr",
     "output_type": "stream",
     "text": [
      "INFO:tensorflow:Assets written to: /mnt/e/ML/cafa-5-protein-function-prediction/model_BPO_epoch_7_valF1Score0.3732/assets\n"
     ]
    },
    {
     "name": "stdout",
     "output_type": "stream",
     "text": [
      "\n",
      "Start of epoch 9\n",
      "Epoch 9/Step 0, Loss: 0.00251, Accuracy: 0.99875, F1: 0.3943, Prec: 0.2742, Rec: 0.7013, lr: 0.00030\n",
      "Epoch 9/Step 20, Loss: 0.00320, Accuracy: 0.99866, F1: 0.3603, Prec: 0.2472, Rec: 0.6723, lr: 0.00030\n",
      "Epoch 9/Step 40, Loss: 0.00219, Accuracy: 0.99866, F1: 0.3635, Prec: 0.2512, Rec: 0.6662, lr: 0.00030\n",
      "Epoch 9/Step 60, Loss: 0.00263, Accuracy: 0.99865, F1: 0.3597, Prec: 0.2482, Rec: 0.6616, lr: 0.00030\n",
      "Epoch 9/Step 80, Loss: 0.00248, Accuracy: 0.99865, F1: 0.3631, Prec: 0.2509, Rec: 0.6640, lr: 0.00030\n",
      "Epoch 9/Step 100, Loss: 0.00324, Accuracy: 0.99866, F1: 0.3646, Prec: 0.2521, Rec: 0.6656, lr: 0.00030\n",
      "Epoch 9/Step 120, Loss: 0.00301, Accuracy: 0.99866, F1: 0.3657, Prec: 0.2529, Rec: 0.6670, lr: 0.00030\n",
      "Epoch 9/Step 140, Loss: 0.00273, Accuracy: 0.99865, F1: 0.3650, Prec: 0.2521, Rec: 0.6673, lr: 0.00030\n",
      "Epoch 9/Step 160, Loss: 0.00294, Accuracy: 0.99865, F1: 0.3650, Prec: 0.2524, Rec: 0.6657, lr: 0.00030\n",
      "Epoch 9/Step 180, Loss: 0.00227, Accuracy: 0.99866, F1: 0.3658, Prec: 0.2529, Rec: 0.6668, lr: 0.00030\n",
      "Epoch 9/Step 200, Loss: 0.00239, Accuracy: 0.99865, F1: 0.3675, Prec: 0.2543, Rec: 0.6687, lr: 0.00030\n",
      "Epoch 9/Step 220, Loss: 0.00214, Accuracy: 0.99865, F1: 0.3696, Prec: 0.2561, Rec: 0.6696, lr: 0.00030\n",
      "Epoch 9/Step 240, Loss: 0.00310, Accuracy: 0.99865, F1: 0.3700, Prec: 0.2565, Rec: 0.6698, lr: 0.00030\n",
      "Epoch 9/Step 260, Loss: 0.00263, Accuracy: 0.99865, F1: 0.3704, Prec: 0.2571, Rec: 0.6687, lr: 0.00030\n",
      "Epoch 9/Step 280, Loss: 0.00229, Accuracy: 0.99864, F1: 0.3719, Prec: 0.2585, Rec: 0.6696, lr: 0.00030\n",
      "Epoch 9/Step 300, Loss: 0.00265, Accuracy: 0.99864, F1: 0.3725, Prec: 0.2592, Rec: 0.6690, lr: 0.00030\n",
      "Epoch 9/Step 320, Loss: 0.00278, Accuracy: 0.99865, F1: 0.3732, Prec: 0.2597, Rec: 0.6696, lr: 0.00030\n",
      "Epoch 9/Step 340, Loss: 0.00252, Accuracy: 0.99865, F1: 0.3730, Prec: 0.2594, Rec: 0.6706, lr: 0.00030\n",
      "Epoch 9/Step 360, Loss: 0.00281, Accuracy: 0.99865, F1: 0.3739, Prec: 0.2602, Rec: 0.6712, lr: 0.00030\n",
      "Epoch 9/Step 380, Loss: 0.00241, Accuracy: 0.99865, F1: 0.3747, Prec: 0.2608, Rec: 0.6719, lr: 0.00030\n",
      "Epoch 9/Step 400, Loss: 0.00239, Accuracy: 0.99865, F1: 0.3754, Prec: 0.2614, Rec: 0.6730, lr: 0.00030\n",
      "Epoch 9/Step 420, Loss: 0.00248, Accuracy: 0.99865, F1: 0.3759, Prec: 0.2618, Rec: 0.6730, lr: 0.00030\n",
      "Epoch 9/Step 440, Loss: 0.00265, Accuracy: 0.99865, F1: 0.3769, Prec: 0.2627, Rec: 0.6736, lr: 0.00030\n",
      "Epoch 9/Step 460, Loss: 0.00271, Accuracy: 0.99865, F1: 0.3773, Prec: 0.2629, Rec: 0.6742, lr: 0.00030\n",
      "Epoch finished. Start validation\n",
      "Validation acc: 0.9986\n",
      "Validation f1: 0.3830\n",
      "Validation precision: 0.2776\n",
      "Validation recall: 0.6252\n",
      "WARNING:tensorflow:Compiled the loaded model, but the compiled metrics have yet to be built. `model.compile_metrics` will be empty until you train or evaluate the model.\n"
     ]
    },
    {
     "name": "stderr",
     "output_type": "stream",
     "text": [
      "WARNING:tensorflow:Compiled the loaded model, but the compiled metrics have yet to be built. `model.compile_metrics` will be empty until you train or evaluate the model.\n"
     ]
    },
    {
     "name": "stdout",
     "output_type": "stream",
     "text": [
      "INFO:tensorflow:Assets written to: /mnt/e/ML/cafa-5-protein-function-prediction/model_BPO_epoch_8_valF1Score0.3830/assets\n"
     ]
    },
    {
     "name": "stderr",
     "output_type": "stream",
     "text": [
      "INFO:tensorflow:Assets written to: /mnt/e/ML/cafa-5-protein-function-prediction/model_BPO_epoch_8_valF1Score0.3830/assets\n"
     ]
    },
    {
     "name": "stdout",
     "output_type": "stream",
     "text": [
      "\n",
      "Start of epoch 10\n",
      "Epoch 10/Step 0, Loss: 0.00236, Accuracy: 0.99881, F1: 0.4055, Prec: 0.2868, Rec: 0.6922, lr: 0.00030\n",
      "Epoch 10/Step 20, Loss: 0.00320, Accuracy: 0.99868, F1: 0.3756, Prec: 0.2618, Rec: 0.6705, lr: 0.00030\n",
      "Epoch 10/Step 40, Loss: 0.00210, Accuracy: 0.99868, F1: 0.3804, Prec: 0.2678, Rec: 0.6628, lr: 0.00030\n",
      "Epoch 10/Step 60, Loss: 0.00256, Accuracy: 0.99867, F1: 0.3777, Prec: 0.2658, Rec: 0.6589, lr: 0.00030\n",
      "Epoch 10/Step 80, Loss: 0.00232, Accuracy: 0.99867, F1: 0.3813, Prec: 0.2684, Rec: 0.6644, lr: 0.00030\n",
      "Epoch 10/Step 100, Loss: 0.00316, Accuracy: 0.99867, F1: 0.3817, Prec: 0.2686, Rec: 0.6656, lr: 0.00030\n",
      "Epoch 10/Step 120, Loss: 0.00282, Accuracy: 0.99868, F1: 0.3823, Prec: 0.2691, Rec: 0.6661, lr: 0.00030\n",
      "Epoch 10/Step 140, Loss: 0.00268, Accuracy: 0.99867, F1: 0.3812, Prec: 0.2680, Rec: 0.6663, lr: 0.00030\n",
      "Epoch 10/Step 160, Loss: 0.00277, Accuracy: 0.99867, F1: 0.3812, Prec: 0.2678, Rec: 0.6668, lr: 0.00030\n",
      "Epoch 10/Step 180, Loss: 0.00226, Accuracy: 0.99867, F1: 0.3822, Prec: 0.2687, Rec: 0.6674, lr: 0.00030\n",
      "Epoch 10/Step 200, Loss: 0.00228, Accuracy: 0.99867, F1: 0.3841, Prec: 0.2703, Rec: 0.6696, lr: 0.00030\n",
      "Epoch 10/Step 220, Loss: 0.00221, Accuracy: 0.99867, F1: 0.3863, Prec: 0.2723, Rec: 0.6705, lr: 0.00030\n",
      "Epoch 10/Step 240, Loss: 0.00296, Accuracy: 0.99866, F1: 0.3862, Prec: 0.2722, Rec: 0.6710, lr: 0.00030\n",
      "Epoch 10/Step 260, Loss: 0.00256, Accuracy: 0.99867, F1: 0.3871, Prec: 0.2731, Rec: 0.6711, lr: 0.00030\n",
      "Epoch 10/Step 280, Loss: 0.00212, Accuracy: 0.99866, F1: 0.3887, Prec: 0.2744, Rec: 0.6728, lr: 0.00030\n",
      "Epoch 10/Step 300, Loss: 0.00260, Accuracy: 0.99866, F1: 0.3892, Prec: 0.2750, Rec: 0.6718, lr: 0.00030\n",
      "Epoch 10/Step 320, Loss: 0.00276, Accuracy: 0.99866, F1: 0.3897, Prec: 0.2755, Rec: 0.6721, lr: 0.00030\n",
      "Epoch 10/Step 340, Loss: 0.00253, Accuracy: 0.99866, F1: 0.3896, Prec: 0.2752, Rec: 0.6726, lr: 0.00030\n",
      "Epoch 10/Step 360, Loss: 0.00279, Accuracy: 0.99867, F1: 0.3907, Prec: 0.2764, Rec: 0.6727, lr: 0.00030\n",
      "Epoch 10/Step 380, Loss: 0.00248, Accuracy: 0.99866, F1: 0.3911, Prec: 0.2767, Rec: 0.6734, lr: 0.00030\n",
      "Epoch 10/Step 400, Loss: 0.00241, Accuracy: 0.99866, F1: 0.3920, Prec: 0.2774, Rec: 0.6744, lr: 0.00030\n",
      "Epoch 10/Step 420, Loss: 0.00242, Accuracy: 0.99866, F1: 0.3923, Prec: 0.2776, Rec: 0.6745, lr: 0.00030\n",
      "Epoch 10/Step 440, Loss: 0.00262, Accuracy: 0.99866, F1: 0.3930, Prec: 0.2783, Rec: 0.6747, lr: 0.00030\n",
      "Epoch 10/Step 460, Loss: 0.00269, Accuracy: 0.99866, F1: 0.3936, Prec: 0.2789, Rec: 0.6751, lr: 0.00030\n",
      "Epoch finished. Start validation\n",
      "Validation acc: 0.9986\n",
      "Validation f1: 0.3917\n",
      "Validation precision: 0.2864\n",
      "Validation recall: 0.6257\n",
      "WARNING:tensorflow:Compiled the loaded model, but the compiled metrics have yet to be built. `model.compile_metrics` will be empty until you train or evaluate the model.\n"
     ]
    },
    {
     "name": "stderr",
     "output_type": "stream",
     "text": [
      "WARNING:tensorflow:Compiled the loaded model, but the compiled metrics have yet to be built. `model.compile_metrics` will be empty until you train or evaluate the model.\n"
     ]
    },
    {
     "name": "stdout",
     "output_type": "stream",
     "text": [
      "INFO:tensorflow:Assets written to: /mnt/e/ML/cafa-5-protein-function-prediction/model_BPO_epoch_9_valF1Score0.3917/assets\n"
     ]
    },
    {
     "name": "stderr",
     "output_type": "stream",
     "text": [
      "INFO:tensorflow:Assets written to: /mnt/e/ML/cafa-5-protein-function-prediction/model_BPO_epoch_9_valF1Score0.3917/assets\n"
     ]
    },
    {
     "name": "stdout",
     "output_type": "stream",
     "text": [
      "\n",
      "Start of epoch 11\n",
      "Epoch 11/Step 0, Loss: 0.00234, Accuracy: 0.99880, F1: 0.3833, Prec: 0.2641, Rec: 0.6986, lr: 0.00030\n",
      "Epoch 11/Step 20, Loss: 0.00321, Accuracy: 0.99870, F1: 0.3912, Prec: 0.2741, Rec: 0.6890, lr: 0.00030\n",
      "Epoch 11/Step 40, Loss: 0.00203, Accuracy: 0.99870, F1: 0.3958, Prec: 0.2809, Rec: 0.6776, lr: 0.00030\n",
      "Epoch 11/Step 60, Loss: 0.00236, Accuracy: 0.99869, F1: 0.3952, Prec: 0.2812, Rec: 0.6721, lr: 0.00030\n",
      "Epoch 11/Step 80, Loss: 0.00231, Accuracy: 0.99869, F1: 0.3986, Prec: 0.2841, Rec: 0.6750, lr: 0.00030\n",
      "Epoch 11/Step 100, Loss: 0.00313, Accuracy: 0.99869, F1: 0.3984, Prec: 0.2835, Rec: 0.6765, lr: 0.00030\n",
      "Epoch 11/Step 120, Loss: 0.00276, Accuracy: 0.99869, F1: 0.4000, Prec: 0.2853, Rec: 0.6756, lr: 0.00030\n",
      "Epoch 11/Step 140, Loss: 0.00268, Accuracy: 0.99869, F1: 0.3989, Prec: 0.2842, Rec: 0.6753, lr: 0.00030\n",
      "Epoch 11/Step 160, Loss: 0.00283, Accuracy: 0.99868, F1: 0.3990, Prec: 0.2844, Rec: 0.6748, lr: 0.00030\n",
      "Epoch 11/Step 180, Loss: 0.00212, Accuracy: 0.99869, F1: 0.3996, Prec: 0.2850, Rec: 0.6751, lr: 0.00030\n",
      "Epoch 11/Step 200, Loss: 0.00214, Accuracy: 0.99868, F1: 0.4016, Prec: 0.2867, Rec: 0.6767, lr: 0.00030\n",
      "Epoch 11/Step 220, Loss: 0.00194, Accuracy: 0.99869, F1: 0.4036, Prec: 0.2886, Rec: 0.6773, lr: 0.00030\n",
      "Epoch 11/Step 240, Loss: 0.00290, Accuracy: 0.99868, F1: 0.4038, Prec: 0.2888, Rec: 0.6776, lr: 0.00030\n",
      "Epoch 11/Step 260, Loss: 0.00251, Accuracy: 0.99869, F1: 0.4044, Prec: 0.2895, Rec: 0.6772, lr: 0.00030\n",
      "Epoch 11/Step 280, Loss: 0.00213, Accuracy: 0.99868, F1: 0.4060, Prec: 0.2908, Rec: 0.6784, lr: 0.00030\n",
      "Epoch 11/Step 300, Loss: 0.00253, Accuracy: 0.99868, F1: 0.4061, Prec: 0.2910, Rec: 0.6781, lr: 0.00030\n",
      "Epoch 11/Step 320, Loss: 0.00259, Accuracy: 0.99868, F1: 0.4067, Prec: 0.2916, Rec: 0.6784, lr: 0.00030\n",
      "Epoch 11/Step 340, Loss: 0.00238, Accuracy: 0.99868, F1: 0.4064, Prec: 0.2913, Rec: 0.6781, lr: 0.00030\n",
      "Epoch 11/Step 360, Loss: 0.00260, Accuracy: 0.99869, F1: 0.4073, Prec: 0.2921, Rec: 0.6786, lr: 0.00030\n",
      "Epoch 11/Step 380, Loss: 0.00221, Accuracy: 0.99868, F1: 0.4081, Prec: 0.2927, Rec: 0.6795, lr: 0.00030\n",
      "Epoch 11/Step 400, Loss: 0.00221, Accuracy: 0.99868, F1: 0.4088, Prec: 0.2933, Rec: 0.6802, lr: 0.00030\n",
      "Epoch 11/Step 420, Loss: 0.00229, Accuracy: 0.99868, F1: 0.4092, Prec: 0.2937, Rec: 0.6800, lr: 0.00030\n",
      "Epoch 11/Step 440, Loss: 0.00259, Accuracy: 0.99868, F1: 0.4100, Prec: 0.2945, Rec: 0.6804, lr: 0.00030\n",
      "Epoch 11/Step 460, Loss: 0.00267, Accuracy: 0.99868, F1: 0.4106, Prec: 0.2950, Rec: 0.6807, lr: 0.00030\n",
      "Epoch finished. Start validation\n",
      "Validation acc: 0.9986\n",
      "Validation f1: 0.4072\n",
      "Validation precision: 0.3084\n",
      "Validation recall: 0.6054\n",
      "WARNING:tensorflow:Compiled the loaded model, but the compiled metrics have yet to be built. `model.compile_metrics` will be empty until you train or evaluate the model.\n"
     ]
    },
    {
     "name": "stderr",
     "output_type": "stream",
     "text": [
      "WARNING:tensorflow:Compiled the loaded model, but the compiled metrics have yet to be built. `model.compile_metrics` will be empty until you train or evaluate the model.\n"
     ]
    },
    {
     "name": "stdout",
     "output_type": "stream",
     "text": [
      "INFO:tensorflow:Assets written to: /mnt/e/ML/cafa-5-protein-function-prediction/model_BPO_epoch_10_valF1Score0.4072/assets\n"
     ]
    },
    {
     "name": "stderr",
     "output_type": "stream",
     "text": [
      "INFO:tensorflow:Assets written to: /mnt/e/ML/cafa-5-protein-function-prediction/model_BPO_epoch_10_valF1Score0.4072/assets\n"
     ]
    },
    {
     "name": "stdout",
     "output_type": "stream",
     "text": [
      "\n",
      "Start of epoch 12\n",
      "Epoch 12/Step 0, Loss: 0.00227, Accuracy: 0.99880, F1: 0.4119, Prec: 0.2921, Rec: 0.6979, lr: 0.00030\n",
      "Epoch 12/Step 20, Loss: 0.00290, Accuracy: 0.99872, F1: 0.4060, Prec: 0.2908, Rec: 0.6766, lr: 0.00030\n",
      "Epoch 12/Step 40, Loss: 0.00186, Accuracy: 0.99872, F1: 0.4114, Prec: 0.2969, Rec: 0.6758, lr: 0.00030\n",
      "Epoch 12/Step 60, Loss: 0.00242, Accuracy: 0.99870, F1: 0.4084, Prec: 0.2948, Rec: 0.6707, lr: 0.00030\n",
      "Epoch 12/Step 80, Loss: 0.00221, Accuracy: 0.99870, F1: 0.4119, Prec: 0.2974, Rec: 0.6757, lr: 0.00030\n",
      "Epoch 12/Step 100, Loss: 0.00296, Accuracy: 0.99871, F1: 0.4125, Prec: 0.2977, Rec: 0.6776, lr: 0.00030\n",
      "Epoch 12/Step 120, Loss: 0.00260, Accuracy: 0.99871, F1: 0.4125, Prec: 0.2977, Rec: 0.6768, lr: 0.00030\n",
      "Epoch 12/Step 140, Loss: 0.00248, Accuracy: 0.99870, F1: 0.4124, Prec: 0.2977, Rec: 0.6769, lr: 0.00030\n",
      "Epoch 12/Step 160, Loss: 0.00263, Accuracy: 0.99870, F1: 0.4133, Prec: 0.2983, Rec: 0.6780, lr: 0.00030\n",
      "Epoch 12/Step 180, Loss: 0.00212, Accuracy: 0.99871, F1: 0.4140, Prec: 0.2989, Rec: 0.6790, lr: 0.00030\n",
      "Epoch 12/Step 200, Loss: 0.00217, Accuracy: 0.99870, F1: 0.4152, Prec: 0.3000, Rec: 0.6801, lr: 0.00030\n",
      "Epoch 12/Step 220, Loss: 0.00194, Accuracy: 0.99870, F1: 0.4177, Prec: 0.3025, Rec: 0.6804, lr: 0.00030\n",
      "Epoch 12/Step 240, Loss: 0.00282, Accuracy: 0.99870, F1: 0.4171, Prec: 0.3020, Rec: 0.6802, lr: 0.00030\n",
      "Epoch 12/Step 260, Loss: 0.00235, Accuracy: 0.99870, F1: 0.4172, Prec: 0.3022, Rec: 0.6799, lr: 0.00030\n",
      "Epoch 12/Step 280, Loss: 0.00205, Accuracy: 0.99869, F1: 0.4189, Prec: 0.3036, Rec: 0.6813, lr: 0.00030\n",
      "Epoch 12/Step 300, Loss: 0.00245, Accuracy: 0.99869, F1: 0.4194, Prec: 0.3042, Rec: 0.6810, lr: 0.00030\n",
      "Epoch 12/Step 320, Loss: 0.00255, Accuracy: 0.99869, F1: 0.4201, Prec: 0.3048, Rec: 0.6814, lr: 0.00030\n",
      "Epoch 12/Step 340, Loss: 0.00240, Accuracy: 0.99869, F1: 0.4196, Prec: 0.3043, Rec: 0.6810, lr: 0.00030\n",
      "Epoch 12/Step 360, Loss: 0.00252, Accuracy: 0.99870, F1: 0.4206, Prec: 0.3053, Rec: 0.6815, lr: 0.00030\n",
      "Epoch 12/Step 380, Loss: 0.00232, Accuracy: 0.99869, F1: 0.4209, Prec: 0.3055, Rec: 0.6822, lr: 0.00030\n",
      "Epoch 12/Step 400, Loss: 0.00211, Accuracy: 0.99869, F1: 0.4219, Prec: 0.3064, Rec: 0.6828, lr: 0.00030\n",
      "Epoch 12/Step 420, Loss: 0.00218, Accuracy: 0.99869, F1: 0.4223, Prec: 0.3067, Rec: 0.6833, lr: 0.00030\n",
      "Epoch 12/Step 440, Loss: 0.00238, Accuracy: 0.99869, F1: 0.4231, Prec: 0.3075, Rec: 0.6838, lr: 0.00030\n",
      "Epoch 12/Step 460, Loss: 0.00245, Accuracy: 0.99869, F1: 0.4237, Prec: 0.3081, Rec: 0.6840, lr: 0.00030\n",
      "Epoch finished. Start validation\n",
      "Validation acc: 0.9986\n",
      "Validation f1: 0.4082\n",
      "Validation precision: 0.3080\n",
      "Validation recall: 0.6110\n",
      "WARNING:tensorflow:Compiled the loaded model, but the compiled metrics have yet to be built. `model.compile_metrics` will be empty until you train or evaluate the model.\n"
     ]
    },
    {
     "name": "stderr",
     "output_type": "stream",
     "text": [
      "WARNING:tensorflow:Compiled the loaded model, but the compiled metrics have yet to be built. `model.compile_metrics` will be empty until you train or evaluate the model.\n"
     ]
    },
    {
     "name": "stdout",
     "output_type": "stream",
     "text": [
      "INFO:tensorflow:Assets written to: /mnt/e/ML/cafa-5-protein-function-prediction/model_BPO_epoch_11_valF1Score0.4082/assets\n"
     ]
    },
    {
     "name": "stderr",
     "output_type": "stream",
     "text": [
      "INFO:tensorflow:Assets written to: /mnt/e/ML/cafa-5-protein-function-prediction/model_BPO_epoch_11_valF1Score0.4082/assets\n"
     ]
    },
    {
     "name": "stdout",
     "output_type": "stream",
     "text": [
      "\n",
      "Start of epoch 13\n",
      "Epoch 13/Step 0, Loss: 0.00210, Accuracy: 0.99886, F1: 0.4634, Prec: 0.3447, Rec: 0.7067, lr: 0.00030\n",
      "Epoch 13/Step 20, Loss: 0.00275, Accuracy: 0.99874, F1: 0.4276, Prec: 0.3117, Rec: 0.6846, lr: 0.00030\n",
      "Epoch 13/Step 40, Loss: 0.00188, Accuracy: 0.99873, F1: 0.4279, Prec: 0.3127, Rec: 0.6821, lr: 0.00030\n",
      "Epoch 13/Step 60, Loss: 0.00221, Accuracy: 0.99872, F1: 0.4290, Prec: 0.3147, Rec: 0.6781, lr: 0.00030\n",
      "Epoch 13/Step 80, Loss: 0.00217, Accuracy: 0.99872, F1: 0.4303, Prec: 0.3156, Rec: 0.6802, lr: 0.00030\n",
      "Epoch 13/Step 100, Loss: 0.00287, Accuracy: 0.99872, F1: 0.4290, Prec: 0.3139, Rec: 0.6824, lr: 0.00030\n",
      "Epoch 13/Step 120, Loss: 0.00251, Accuracy: 0.99872, F1: 0.4293, Prec: 0.3142, Rec: 0.6823, lr: 0.00030\n",
      "Epoch 13/Step 140, Loss: 0.00246, Accuracy: 0.99871, F1: 0.4280, Prec: 0.3130, Rec: 0.6812, lr: 0.00030\n",
      "Epoch 13/Step 160, Loss: 0.00252, Accuracy: 0.99871, F1: 0.4277, Prec: 0.3127, Rec: 0.6812, lr: 0.00030\n",
      "Epoch 13/Step 180, Loss: 0.00206, Accuracy: 0.99872, F1: 0.4280, Prec: 0.3129, Rec: 0.6816, lr: 0.00030\n",
      "Epoch 13/Step 200, Loss: 0.00211, Accuracy: 0.99871, F1: 0.4299, Prec: 0.3146, Rec: 0.6832, lr: 0.00030\n",
      "Epoch 13/Step 220, Loss: 0.00190, Accuracy: 0.99871, F1: 0.4313, Prec: 0.3159, Rec: 0.6841, lr: 0.00030\n",
      "Epoch 13/Step 240, Loss: 0.00266, Accuracy: 0.99871, F1: 0.4312, Prec: 0.3161, Rec: 0.6832, lr: 0.00030\n",
      "Epoch 13/Step 260, Loss: 0.00232, Accuracy: 0.99871, F1: 0.4317, Prec: 0.3166, Rec: 0.6837, lr: 0.00030\n",
      "Epoch 13/Step 280, Loss: 0.00204, Accuracy: 0.99870, F1: 0.4332, Prec: 0.3180, Rec: 0.6844, lr: 0.00030\n",
      "Epoch 13/Step 300, Loss: 0.00225, Accuracy: 0.99870, F1: 0.4337, Prec: 0.3185, Rec: 0.6846, lr: 0.00030\n",
      "Epoch 13/Step 320, Loss: 0.00242, Accuracy: 0.99870, F1: 0.4340, Prec: 0.3186, Rec: 0.6853, lr: 0.00030\n",
      "Epoch 13/Step 340, Loss: 0.00223, Accuracy: 0.99870, F1: 0.4335, Prec: 0.3182, Rec: 0.6846, lr: 0.00030\n",
      "Epoch 13/Step 360, Loss: 0.00259, Accuracy: 0.99871, F1: 0.4343, Prec: 0.3191, Rec: 0.6847, lr: 0.00030\n",
      "Epoch 13/Step 380, Loss: 0.00217, Accuracy: 0.99871, F1: 0.4348, Prec: 0.3195, Rec: 0.6852, lr: 0.00030\n",
      "Epoch 13/Step 400, Loss: 0.00207, Accuracy: 0.99870, F1: 0.4355, Prec: 0.3203, Rec: 0.6854, lr: 0.00030\n",
      "Epoch 13/Step 420, Loss: 0.00217, Accuracy: 0.99870, F1: 0.4358, Prec: 0.3205, Rec: 0.6855, lr: 0.00030\n",
      "Epoch 13/Step 440, Loss: 0.00234, Accuracy: 0.99871, F1: 0.4367, Prec: 0.3214, Rec: 0.6861, lr: 0.00030\n",
      "Epoch 13/Step 460, Loss: 0.00247, Accuracy: 0.99871, F1: 0.4371, Prec: 0.3217, Rec: 0.6865, lr: 0.00030\n",
      "Epoch finished. Start validation\n",
      "Validation acc: 0.9986\n",
      "Validation f1: 0.4101\n",
      "Validation precision: 0.3111\n",
      "Validation recall: 0.6075\n",
      "WARNING:tensorflow:Compiled the loaded model, but the compiled metrics have yet to be built. `model.compile_metrics` will be empty until you train or evaluate the model.\n"
     ]
    },
    {
     "name": "stderr",
     "output_type": "stream",
     "text": [
      "WARNING:tensorflow:Compiled the loaded model, but the compiled metrics have yet to be built. `model.compile_metrics` will be empty until you train or evaluate the model.\n"
     ]
    },
    {
     "name": "stdout",
     "output_type": "stream",
     "text": [
      "INFO:tensorflow:Assets written to: /mnt/e/ML/cafa-5-protein-function-prediction/model_BPO_epoch_12_valF1Score0.4101/assets\n"
     ]
    },
    {
     "name": "stderr",
     "output_type": "stream",
     "text": [
      "INFO:tensorflow:Assets written to: /mnt/e/ML/cafa-5-protein-function-prediction/model_BPO_epoch_12_valF1Score0.4101/assets\n"
     ]
    },
    {
     "name": "stdout",
     "output_type": "stream",
     "text": [
      "\n",
      "Start of epoch 14\n",
      "Epoch 14/Step 0, Loss: 0.00199, Accuracy: 0.99883, F1: 0.4620, Prec: 0.3472, Rec: 0.6904, lr: 0.00030\n",
      "Epoch 14/Step 20, Loss: 0.00280, Accuracy: 0.99875, F1: 0.4366, Prec: 0.3190, Rec: 0.6960, lr: 0.00030\n",
      "Epoch 14/Step 40, Loss: 0.00177, Accuracy: 0.99874, F1: 0.4369, Prec: 0.3214, Rec: 0.6874, lr: 0.00030\n",
      "Epoch 14/Step 60, Loss: 0.00221, Accuracy: 0.99873, F1: 0.4378, Prec: 0.3229, Rec: 0.6853, lr: 0.00030\n",
      "Epoch 14/Step 80, Loss: 0.00205, Accuracy: 0.99873, F1: 0.4405, Prec: 0.3254, Rec: 0.6865, lr: 0.00030\n",
      "Epoch 14/Step 100, Loss: 0.00288, Accuracy: 0.99874, F1: 0.4402, Prec: 0.3247, Rec: 0.6887, lr: 0.00030\n",
      "Epoch 14/Step 120, Loss: 0.00254, Accuracy: 0.99874, F1: 0.4421, Prec: 0.3266, Rec: 0.6893, lr: 0.00030\n",
      "Epoch 14/Step 140, Loss: 0.00243, Accuracy: 0.99873, F1: 0.4409, Prec: 0.3255, Rec: 0.6882, lr: 0.00030\n",
      "Epoch 14/Step 160, Loss: 0.00249, Accuracy: 0.99873, F1: 0.4406, Prec: 0.3248, Rec: 0.6896, lr: 0.00030\n",
      "Epoch 14/Step 180, Loss: 0.00194, Accuracy: 0.99873, F1: 0.4419, Prec: 0.3263, Rec: 0.6894, lr: 0.00030\n",
      "Epoch 14/Step 200, Loss: 0.00193, Accuracy: 0.99873, F1: 0.4424, Prec: 0.3266, Rec: 0.6904, lr: 0.00030\n",
      "Epoch 14/Step 220, Loss: 0.00180, Accuracy: 0.99873, F1: 0.4442, Prec: 0.3286, Rec: 0.6906, lr: 0.00030\n",
      "Epoch 14/Step 240, Loss: 0.00264, Accuracy: 0.99872, F1: 0.4439, Prec: 0.3284, Rec: 0.6898, lr: 0.00030\n",
      "Epoch 14/Step 260, Loss: 0.00240, Accuracy: 0.99873, F1: 0.4443, Prec: 0.3288, Rec: 0.6901, lr: 0.00030\n",
      "Epoch 14/Step 280, Loss: 0.00193, Accuracy: 0.99872, F1: 0.4465, Prec: 0.3309, Rec: 0.6914, lr: 0.00030\n",
      "Epoch 14/Step 300, Loss: 0.00256, Accuracy: 0.99872, F1: 0.4472, Prec: 0.3316, Rec: 0.6915, lr: 0.00030\n",
      "Epoch 14/Step 320, Loss: 0.00232, Accuracy: 0.99872, F1: 0.4477, Prec: 0.3321, Rec: 0.6916, lr: 0.00030\n",
      "Epoch 14/Step 340, Loss: 0.00229, Accuracy: 0.99872, F1: 0.4469, Prec: 0.3313, Rec: 0.6913, lr: 0.00030\n",
      "Epoch 14/Step 360, Loss: 0.00258, Accuracy: 0.99872, F1: 0.4480, Prec: 0.3325, Rec: 0.6914, lr: 0.00030\n",
      "Epoch 14/Step 380, Loss: 0.00201, Accuracy: 0.99872, F1: 0.4483, Prec: 0.3328, Rec: 0.6916, lr: 0.00030\n",
      "Epoch 14/Step 400, Loss: 0.00208, Accuracy: 0.99872, F1: 0.4492, Prec: 0.3336, Rec: 0.6923, lr: 0.00030\n",
      "Epoch 14/Step 420, Loss: 0.00221, Accuracy: 0.99872, F1: 0.4494, Prec: 0.3339, Rec: 0.6919, lr: 0.00030\n",
      "Epoch 14/Step 440, Loss: 0.00237, Accuracy: 0.99872, F1: 0.4504, Prec: 0.3349, Rec: 0.6923, lr: 0.00030\n",
      "Epoch 14/Step 460, Loss: 0.00235, Accuracy: 0.99872, F1: 0.4509, Prec: 0.3354, Rec: 0.6926, lr: 0.00030\n",
      "Epoch finished. Start validation\n",
      "Validation acc: 0.9986\n",
      "Validation f1: 0.4168\n",
      "Validation precision: 0.3202\n",
      "Validation recall: 0.6025\n",
      "WARNING:tensorflow:Compiled the loaded model, but the compiled metrics have yet to be built. `model.compile_metrics` will be empty until you train or evaluate the model.\n"
     ]
    },
    {
     "name": "stderr",
     "output_type": "stream",
     "text": [
      "WARNING:tensorflow:Compiled the loaded model, but the compiled metrics have yet to be built. `model.compile_metrics` will be empty until you train or evaluate the model.\n"
     ]
    },
    {
     "name": "stdout",
     "output_type": "stream",
     "text": [
      "INFO:tensorflow:Assets written to: /mnt/e/ML/cafa-5-protein-function-prediction/model_BPO_epoch_13_valF1Score0.4168/assets\n"
     ]
    },
    {
     "name": "stderr",
     "output_type": "stream",
     "text": [
      "INFO:tensorflow:Assets written to: /mnt/e/ML/cafa-5-protein-function-prediction/model_BPO_epoch_13_valF1Score0.4168/assets\n"
     ]
    },
    {
     "name": "stdout",
     "output_type": "stream",
     "text": [
      "\n",
      "Start of epoch 15\n",
      "Epoch 15/Step 0, Loss: 0.00204, Accuracy: 0.99883, F1: 0.4446, Prec: 0.3279, Rec: 0.6900, lr: 0.00030\n",
      "Epoch 15/Step 20, Loss: 0.00270, Accuracy: 0.99876, F1: 0.4466, Prec: 0.3304, Rec: 0.6930, lr: 0.00030\n",
      "Epoch 15/Step 40, Loss: 0.00176, Accuracy: 0.99876, F1: 0.4502, Prec: 0.3355, Rec: 0.6895, lr: 0.00030\n",
      "Epoch 15/Step 60, Loss: 0.00210, Accuracy: 0.99875, F1: 0.4492, Prec: 0.3354, Rec: 0.6844, lr: 0.00030\n",
      "Epoch 15/Step 80, Loss: 0.00209, Accuracy: 0.99874, F1: 0.4541, Prec: 0.3402, Rec: 0.6875, lr: 0.00030\n",
      "Epoch 15/Step 100, Loss: 0.00280, Accuracy: 0.99875, F1: 0.4540, Prec: 0.3397, Rec: 0.6889, lr: 0.00030\n",
      "Epoch 15/Step 120, Loss: 0.00246, Accuracy: 0.99875, F1: 0.4555, Prec: 0.3415, Rec: 0.6881, lr: 0.00030\n",
      "Epoch 15/Step 140, Loss: 0.00228, Accuracy: 0.99874, F1: 0.4547, Prec: 0.3404, Rec: 0.6892, lr: 0.00030\n",
      "Epoch 15/Step 160, Loss: 0.00241, Accuracy: 0.99874, F1: 0.4546, Prec: 0.3406, Rec: 0.6881, lr: 0.00030\n",
      "Epoch 15/Step 180, Loss: 0.00195, Accuracy: 0.99875, F1: 0.4551, Prec: 0.3410, Rec: 0.6886, lr: 0.00030\n",
      "Epoch 15/Step 200, Loss: 0.00194, Accuracy: 0.99874, F1: 0.4562, Prec: 0.3418, Rec: 0.6904, lr: 0.00030\n",
      "Epoch 15/Step 220, Loss: 0.00181, Accuracy: 0.99874, F1: 0.4584, Prec: 0.3441, Rec: 0.6909, lr: 0.00030\n",
      "Epoch 15/Step 240, Loss: 0.00253, Accuracy: 0.99874, F1: 0.4580, Prec: 0.3437, Rec: 0.6908, lr: 0.00030\n",
      "Epoch 15/Step 260, Loss: 0.00224, Accuracy: 0.99874, F1: 0.4580, Prec: 0.3438, Rec: 0.6904, lr: 0.00030\n",
      "Epoch 15/Step 280, Loss: 0.00187, Accuracy: 0.99873, F1: 0.4592, Prec: 0.3450, Rec: 0.6913, lr: 0.00030\n",
      "Epoch 15/Step 300, Loss: 0.00221, Accuracy: 0.99873, F1: 0.4591, Prec: 0.3450, Rec: 0.6906, lr: 0.00030\n",
      "Epoch 15/Step 320, Loss: 0.00233, Accuracy: 0.99874, F1: 0.4596, Prec: 0.3454, Rec: 0.6912, lr: 0.00030\n",
      "Epoch 15/Step 340, Loss: 0.00218, Accuracy: 0.99874, F1: 0.4590, Prec: 0.3447, Rec: 0.6909, lr: 0.00030\n",
      "Epoch 15/Step 360, Loss: 0.00248, Accuracy: 0.99874, F1: 0.4602, Prec: 0.3461, Rec: 0.6910, lr: 0.00030\n",
      "Epoch 15/Step 380, Loss: 0.00193, Accuracy: 0.99874, F1: 0.4607, Prec: 0.3466, Rec: 0.6911, lr: 0.00030\n",
      "Epoch 15/Step 400, Loss: 0.00205, Accuracy: 0.99874, F1: 0.4613, Prec: 0.3472, Rec: 0.6914, lr: 0.00030\n",
      "Epoch 15/Step 420, Loss: 0.00207, Accuracy: 0.99874, F1: 0.4615, Prec: 0.3474, Rec: 0.6915, lr: 0.00030\n",
      "Epoch 15/Step 440, Loss: 0.00223, Accuracy: 0.99874, F1: 0.4619, Prec: 0.3478, Rec: 0.6919, lr: 0.00030\n",
      "Epoch 15/Step 460, Loss: 0.00240, Accuracy: 0.99874, F1: 0.4625, Prec: 0.3484, Rec: 0.6922, lr: 0.00030\n",
      "Epoch finished. Start validation\n",
      "Validation acc: 0.9986\n",
      "Validation f1: 0.4175\n",
      "Validation precision: 0.3230\n",
      "Validation recall: 0.5957\n",
      "WARNING:tensorflow:Compiled the loaded model, but the compiled metrics have yet to be built. `model.compile_metrics` will be empty until you train or evaluate the model.\n"
     ]
    },
    {
     "name": "stderr",
     "output_type": "stream",
     "text": [
      "WARNING:tensorflow:Compiled the loaded model, but the compiled metrics have yet to be built. `model.compile_metrics` will be empty until you train or evaluate the model.\n"
     ]
    },
    {
     "name": "stdout",
     "output_type": "stream",
     "text": [
      "INFO:tensorflow:Assets written to: /mnt/e/ML/cafa-5-protein-function-prediction/model_BPO_epoch_14_valF1Score0.4175/assets\n"
     ]
    },
    {
     "name": "stderr",
     "output_type": "stream",
     "text": [
      "INFO:tensorflow:Assets written to: /mnt/e/ML/cafa-5-protein-function-prediction/model_BPO_epoch_14_valF1Score0.4175/assets\n"
     ]
    },
    {
     "name": "stdout",
     "output_type": "stream",
     "text": [
      "\n",
      "Start of epoch 16\n",
      "Epoch 16/Step 0, Loss: 0.00190, Accuracy: 0.99889, F1: 0.4795, Prec: 0.3664, Rec: 0.6938, lr: 0.00030\n",
      "Epoch 16/Step 20, Loss: 0.00256, Accuracy: 0.99878, F1: 0.4575, Prec: 0.3404, Rec: 0.7023, lr: 0.00030\n",
      "Epoch 16/Step 40, Loss: 0.00168, Accuracy: 0.99877, F1: 0.4610, Prec: 0.3463, Rec: 0.6940, lr: 0.00030\n",
      "Epoch 16/Step 60, Loss: 0.00204, Accuracy: 0.99876, F1: 0.4604, Prec: 0.3470, Rec: 0.6884, lr: 0.00030\n",
      "Epoch 16/Step 80, Loss: 0.00199, Accuracy: 0.99875, F1: 0.4639, Prec: 0.3503, Rec: 0.6907, lr: 0.00030\n",
      "Epoch 16/Step 100, Loss: 0.00271, Accuracy: 0.99876, F1: 0.4634, Prec: 0.3494, Rec: 0.6925, lr: 0.00030\n",
      "Epoch 16/Step 120, Loss: 0.00236, Accuracy: 0.99876, F1: 0.4653, Prec: 0.3515, Rec: 0.6930, lr: 0.00030\n",
      "Epoch 16/Step 140, Loss: 0.00235, Accuracy: 0.99875, F1: 0.4647, Prec: 0.3507, Rec: 0.6930, lr: 0.00030\n",
      "Epoch 16/Step 160, Loss: 0.00235, Accuracy: 0.99875, F1: 0.4643, Prec: 0.3507, Rec: 0.6915, lr: 0.00030\n",
      "Epoch 16/Step 180, Loss: 0.00182, Accuracy: 0.99876, F1: 0.4650, Prec: 0.3514, Rec: 0.6922, lr: 0.00030\n",
      "Epoch 16/Step 200, Loss: 0.00189, Accuracy: 0.99875, F1: 0.4666, Prec: 0.3527, Rec: 0.6935, lr: 0.00030\n",
      "Epoch 16/Step 220, Loss: 0.00183, Accuracy: 0.99875, F1: 0.4685, Prec: 0.3547, Rec: 0.6944, lr: 0.00030\n",
      "Epoch 16/Step 240, Loss: 0.00251, Accuracy: 0.99875, F1: 0.4681, Prec: 0.3544, Rec: 0.6938, lr: 0.00030\n",
      "Epoch 16/Step 260, Loss: 0.00210, Accuracy: 0.99875, F1: 0.4680, Prec: 0.3544, Rec: 0.6929, lr: 0.00030\n",
      "Epoch 16/Step 280, Loss: 0.00186, Accuracy: 0.99875, F1: 0.4695, Prec: 0.3559, Rec: 0.6939, lr: 0.00030\n",
      "Epoch 16/Step 300, Loss: 0.00214, Accuracy: 0.99875, F1: 0.4700, Prec: 0.3564, Rec: 0.6940, lr: 0.00030\n",
      "Epoch 16/Step 320, Loss: 0.00229, Accuracy: 0.99875, F1: 0.4701, Prec: 0.3566, Rec: 0.6940, lr: 0.00030\n",
      "Epoch 16/Step 340, Loss: 0.00210, Accuracy: 0.99875, F1: 0.4695, Prec: 0.3560, Rec: 0.6936, lr: 0.00030\n",
      "Epoch 16/Step 360, Loss: 0.00226, Accuracy: 0.99875, F1: 0.4705, Prec: 0.3571, Rec: 0.6940, lr: 0.00030\n",
      "Epoch 16/Step 380, Loss: 0.00202, Accuracy: 0.99875, F1: 0.4706, Prec: 0.3571, Rec: 0.6941, lr: 0.00030\n",
      "Epoch 16/Step 400, Loss: 0.00195, Accuracy: 0.99875, F1: 0.4713, Prec: 0.3577, Rec: 0.6949, lr: 0.00030\n",
      "Epoch 16/Step 420, Loss: 0.00186, Accuracy: 0.99875, F1: 0.4718, Prec: 0.3584, Rec: 0.6948, lr: 0.00030\n",
      "Epoch 16/Step 440, Loss: 0.00212, Accuracy: 0.99875, F1: 0.4724, Prec: 0.3589, Rec: 0.6953, lr: 0.00030\n",
      "Epoch 16/Step 460, Loss: 0.00221, Accuracy: 0.99875, F1: 0.4729, Prec: 0.3594, Rec: 0.6953, lr: 0.00030\n",
      "Epoch finished. Start validation\n",
      "Validation acc: 0.9986\n",
      "Validation f1: 0.4252\n",
      "Validation precision: 0.3336\n",
      "Validation recall: 0.5909\n",
      "WARNING:tensorflow:Compiled the loaded model, but the compiled metrics have yet to be built. `model.compile_metrics` will be empty until you train or evaluate the model.\n"
     ]
    },
    {
     "name": "stderr",
     "output_type": "stream",
     "text": [
      "WARNING:tensorflow:Compiled the loaded model, but the compiled metrics have yet to be built. `model.compile_metrics` will be empty until you train or evaluate the model.\n"
     ]
    },
    {
     "name": "stdout",
     "output_type": "stream",
     "text": [
      "INFO:tensorflow:Assets written to: /mnt/e/ML/cafa-5-protein-function-prediction/model_BPO_epoch_15_valF1Score0.4252/assets\n"
     ]
    },
    {
     "name": "stderr",
     "output_type": "stream",
     "text": [
      "INFO:tensorflow:Assets written to: /mnt/e/ML/cafa-5-protein-function-prediction/model_BPO_epoch_15_valF1Score0.4252/assets\n"
     ]
    },
    {
     "name": "stdout",
     "output_type": "stream",
     "text": [
      "\n",
      "Start of epoch 17\n",
      "Epoch 17/Step 0, Loss: 0.00192, Accuracy: 0.99894, F1: 0.4798, Prec: 0.3634, Rec: 0.7060, lr: 0.00030\n",
      "Epoch 17/Step 20, Loss: 0.00254, Accuracy: 0.99879, F1: 0.4689, Prec: 0.3561, Rec: 0.6879, lr: 0.00030\n",
      "Epoch 17/Step 40, Loss: 0.00160, Accuracy: 0.99878, F1: 0.4706, Prec: 0.3583, Rec: 0.6879, lr: 0.00030\n",
      "Epoch 17/Step 60, Loss: 0.00203, Accuracy: 0.99877, F1: 0.4703, Prec: 0.3593, Rec: 0.6839, lr: 0.00030\n",
      "Epoch 17/Step 80, Loss: 0.00190, Accuracy: 0.99876, F1: 0.4725, Prec: 0.3607, Rec: 0.6879, lr: 0.00030\n",
      "Epoch 17/Step 100, Loss: 0.00275, Accuracy: 0.99877, F1: 0.4726, Prec: 0.3602, Rec: 0.6910, lr: 0.00030\n",
      "Epoch 17/Step 120, Loss: 0.00225, Accuracy: 0.99878, F1: 0.4727, Prec: 0.3604, Rec: 0.6903, lr: 0.00030\n",
      "Epoch 17/Step 140, Loss: 0.00218, Accuracy: 0.99877, F1: 0.4723, Prec: 0.3601, Rec: 0.6894, lr: 0.00030\n",
      "Epoch 17/Step 160, Loss: 0.00241, Accuracy: 0.99877, F1: 0.4721, Prec: 0.3596, Rec: 0.6907, lr: 0.00030\n",
      "Epoch 17/Step 180, Loss: 0.00186, Accuracy: 0.99877, F1: 0.4733, Prec: 0.3605, Rec: 0.6926, lr: 0.00030\n",
      "Epoch 17/Step 200, Loss: 0.00182, Accuracy: 0.99877, F1: 0.4747, Prec: 0.3618, Rec: 0.6938, lr: 0.00030\n",
      "Epoch 17/Step 220, Loss: 0.00166, Accuracy: 0.99877, F1: 0.4769, Prec: 0.3640, Rec: 0.6952, lr: 0.00030\n",
      "Epoch 17/Step 240, Loss: 0.00240, Accuracy: 0.99876, F1: 0.4770, Prec: 0.3640, Rec: 0.6957, lr: 0.00030\n",
      "Epoch 17/Step 260, Loss: 0.00202, Accuracy: 0.99877, F1: 0.4772, Prec: 0.3642, Rec: 0.6957, lr: 0.00030\n",
      "Epoch 17/Step 280, Loss: 0.00178, Accuracy: 0.99876, F1: 0.4793, Prec: 0.3663, Rec: 0.6970, lr: 0.00030\n",
      "Epoch 17/Step 300, Loss: 0.00224, Accuracy: 0.99876, F1: 0.4794, Prec: 0.3664, Rec: 0.6969, lr: 0.00030\n",
      "Epoch 17/Step 320, Loss: 0.00227, Accuracy: 0.99876, F1: 0.4794, Prec: 0.3663, Rec: 0.6972, lr: 0.00030\n",
      "Epoch 17/Step 340, Loss: 0.00203, Accuracy: 0.99876, F1: 0.4788, Prec: 0.3657, Rec: 0.6970, lr: 0.00030\n",
      "Epoch 17/Step 360, Loss: 0.00225, Accuracy: 0.99877, F1: 0.4799, Prec: 0.3669, Rec: 0.6976, lr: 0.00030\n",
      "Epoch 17/Step 380, Loss: 0.00195, Accuracy: 0.99876, F1: 0.4804, Prec: 0.3673, Rec: 0.6977, lr: 0.00030\n",
      "Epoch 17/Step 400, Loss: 0.00191, Accuracy: 0.99876, F1: 0.4811, Prec: 0.3681, Rec: 0.6982, lr: 0.00030\n",
      "Epoch 17/Step 420, Loss: 0.00184, Accuracy: 0.99876, F1: 0.4817, Prec: 0.3686, Rec: 0.6986, lr: 0.00030\n",
      "Epoch 17/Step 440, Loss: 0.00208, Accuracy: 0.99876, F1: 0.4823, Prec: 0.3693, Rec: 0.6988, lr: 0.00030\n",
      "Epoch 17/Step 460, Loss: 0.00214, Accuracy: 0.99876, F1: 0.4828, Prec: 0.3696, Rec: 0.6993, lr: 0.00030\n",
      "Epoch finished. Start validation\n",
      "Validation acc: 0.9986\n",
      "Validation f1: 0.4244\n",
      "Validation precision: 0.3331\n",
      "Validation recall: 0.5895\n",
      "\n",
      "Start of epoch 18\n",
      "Epoch 18/Step 0, Loss: 0.00185, Accuracy: 0.99890, F1: 0.4943, Prec: 0.3800, Rec: 0.7068, lr: 0.00030\n",
      "Epoch 18/Step 20, Loss: 0.00254, Accuracy: 0.99880, F1: 0.4842, Prec: 0.3700, Rec: 0.7036, lr: 0.00030\n",
      "Epoch 18/Step 40, Loss: 0.00156, Accuracy: 0.99880, F1: 0.4887, Prec: 0.3761, Rec: 0.7004, lr: 0.00030\n",
      "Epoch 18/Step 60, Loss: 0.00197, Accuracy: 0.99879, F1: 0.4872, Prec: 0.3752, Rec: 0.6980, lr: 0.00030\n",
      "Epoch 18/Step 80, Loss: 0.00195, Accuracy: 0.99878, F1: 0.4885, Prec: 0.3772, Rec: 0.6976, lr: 0.00030\n",
      "Epoch 18/Step 100, Loss: 0.00252, Accuracy: 0.99879, F1: 0.4878, Prec: 0.3756, Rec: 0.6998, lr: 0.00030\n",
      "Epoch 18/Step 120, Loss: 0.00223, Accuracy: 0.99879, F1: 0.4872, Prec: 0.3753, Rec: 0.6984, lr: 0.00030\n",
      "Epoch 18/Step 140, Loss: 0.00217, Accuracy: 0.99878, F1: 0.4867, Prec: 0.3745, Rec: 0.6988, lr: 0.00030\n",
      "Epoch 18/Step 160, Loss: 0.00218, Accuracy: 0.99878, F1: 0.4868, Prec: 0.3746, Rec: 0.6991, lr: 0.00030\n",
      "Epoch 18/Step 180, Loss: 0.00181, Accuracy: 0.99879, F1: 0.4881, Prec: 0.3756, Rec: 0.7010, lr: 0.00030\n",
      "Epoch 18/Step 200, Loss: 0.00178, Accuracy: 0.99878, F1: 0.4890, Prec: 0.3764, Rec: 0.7021, lr: 0.00030\n",
      "Epoch 18/Step 220, Loss: 0.00176, Accuracy: 0.99878, F1: 0.4905, Prec: 0.3778, Rec: 0.7028, lr: 0.00030\n",
      "Epoch 18/Step 240, Loss: 0.00249, Accuracy: 0.99878, F1: 0.4897, Prec: 0.3770, Rec: 0.7022, lr: 0.00030\n",
      "Epoch 18/Step 260, Loss: 0.00206, Accuracy: 0.99878, F1: 0.4898, Prec: 0.3772, Rec: 0.7022, lr: 0.00030\n",
      "Epoch 18/Step 280, Loss: 0.00169, Accuracy: 0.99877, F1: 0.4912, Prec: 0.3786, Rec: 0.7029, lr: 0.00030\n",
      "Epoch 18/Step 300, Loss: 0.00205, Accuracy: 0.99877, F1: 0.4914, Prec: 0.3790, Rec: 0.7024, lr: 0.00030\n",
      "Epoch 18/Step 320, Loss: 0.00213, Accuracy: 0.99877, F1: 0.4912, Prec: 0.3788, Rec: 0.7021, lr: 0.00030\n",
      "Epoch 18/Step 340, Loss: 0.00201, Accuracy: 0.99878, F1: 0.4905, Prec: 0.3780, Rec: 0.7023, lr: 0.00030\n",
      "Epoch 18/Step 360, Loss: 0.00220, Accuracy: 0.99878, F1: 0.4917, Prec: 0.3793, Rec: 0.7027, lr: 0.00030\n",
      "Epoch 18/Step 380, Loss: 0.00185, Accuracy: 0.99878, F1: 0.4917, Prec: 0.3793, Rec: 0.7027, lr: 0.00030\n",
      "Epoch 18/Step 400, Loss: 0.00192, Accuracy: 0.99878, F1: 0.4926, Prec: 0.3801, Rec: 0.7034, lr: 0.00030\n",
      "Epoch 18/Step 420, Loss: 0.00180, Accuracy: 0.99878, F1: 0.4931, Prec: 0.3806, Rec: 0.7036, lr: 0.00030\n",
      "Epoch 18/Step 440, Loss: 0.00225, Accuracy: 0.99878, F1: 0.4936, Prec: 0.3811, Rec: 0.7039, lr: 0.00030\n",
      "Epoch 18/Step 460, Loss: 0.00211, Accuracy: 0.99878, F1: 0.4938, Prec: 0.3814, Rec: 0.7042, lr: 0.00030\n",
      "Epoch finished. Start validation\n",
      "Validation acc: 0.9986\n",
      "Validation f1: 0.4301\n",
      "Validation precision: 0.3444\n",
      "Validation recall: 0.5773\n",
      "WARNING:tensorflow:Compiled the loaded model, but the compiled metrics have yet to be built. `model.compile_metrics` will be empty until you train or evaluate the model.\n"
     ]
    },
    {
     "name": "stderr",
     "output_type": "stream",
     "text": [
      "WARNING:tensorflow:Compiled the loaded model, but the compiled metrics have yet to be built. `model.compile_metrics` will be empty until you train or evaluate the model.\n"
     ]
    },
    {
     "name": "stdout",
     "output_type": "stream",
     "text": [
      "INFO:tensorflow:Assets written to: /mnt/e/ML/cafa-5-protein-function-prediction/model_BPO_epoch_17_valF1Score0.4301/assets\n"
     ]
    },
    {
     "name": "stderr",
     "output_type": "stream",
     "text": [
      "INFO:tensorflow:Assets written to: /mnt/e/ML/cafa-5-protein-function-prediction/model_BPO_epoch_17_valF1Score0.4301/assets\n"
     ]
    },
    {
     "name": "stdout",
     "output_type": "stream",
     "text": [
      "\n",
      "Start of epoch 19\n",
      "Epoch 19/Step 0, Loss: 0.00192, Accuracy: 0.99887, F1: 0.4668, Prec: 0.3468, Rec: 0.7138, lr: 0.00030\n",
      "Epoch 19/Step 20, Loss: 0.00241, Accuracy: 0.99882, F1: 0.4990, Prec: 0.3840, Rec: 0.7157, lr: 0.00030\n",
      "Epoch 19/Step 40, Loss: 0.00156, Accuracy: 0.99881, F1: 0.4974, Prec: 0.3833, Rec: 0.7120, lr: 0.00030\n",
      "Epoch 19/Step 60, Loss: 0.00191, Accuracy: 0.99880, F1: 0.4946, Prec: 0.3825, Rec: 0.7033, lr: 0.00030\n",
      "Epoch 19/Step 80, Loss: 0.00182, Accuracy: 0.99879, F1: 0.4955, Prec: 0.3831, Rec: 0.7048, lr: 0.00030\n",
      "Epoch 19/Step 100, Loss: 0.00243, Accuracy: 0.99880, F1: 0.4976, Prec: 0.3853, Rec: 0.7062, lr: 0.00030\n",
      "Epoch 19/Step 120, Loss: 0.00223, Accuracy: 0.99880, F1: 0.4977, Prec: 0.3855, Rec: 0.7058, lr: 0.00030\n",
      "Epoch 19/Step 140, Loss: 0.00211, Accuracy: 0.99879, F1: 0.4963, Prec: 0.3836, Rec: 0.7062, lr: 0.00030\n",
      "Epoch 19/Step 160, Loss: 0.00211, Accuracy: 0.99879, F1: 0.4970, Prec: 0.3844, Rec: 0.7068, lr: 0.00030\n",
      "Epoch 19/Step 180, Loss: 0.00168, Accuracy: 0.99880, F1: 0.4984, Prec: 0.3857, Rec: 0.7083, lr: 0.00030\n",
      "Epoch 19/Step 200, Loss: 0.00170, Accuracy: 0.99879, F1: 0.4990, Prec: 0.3860, Rec: 0.7095, lr: 0.00030\n",
      "Epoch 19/Step 220, Loss: 0.00156, Accuracy: 0.99879, F1: 0.5009, Prec: 0.3883, Rec: 0.7095, lr: 0.00030\n",
      "Epoch 19/Step 240, Loss: 0.00232, Accuracy: 0.99879, F1: 0.4999, Prec: 0.3873, Rec: 0.7087, lr: 0.00030\n",
      "Epoch 19/Step 260, Loss: 0.00194, Accuracy: 0.99879, F1: 0.4997, Prec: 0.3874, Rec: 0.7078, lr: 0.00030\n",
      "Epoch 19/Step 280, Loss: 0.00167, Accuracy: 0.99878, F1: 0.5015, Prec: 0.3892, Rec: 0.7091, lr: 0.00030\n",
      "Epoch 19/Step 300, Loss: 0.00205, Accuracy: 0.99878, F1: 0.5017, Prec: 0.3895, Rec: 0.7086, lr: 0.00030\n",
      "Epoch 19/Step 320, Loss: 0.00206, Accuracy: 0.99879, F1: 0.5018, Prec: 0.3897, Rec: 0.7084, lr: 0.00030\n",
      "Epoch 19/Step 340, Loss: 0.00198, Accuracy: 0.99879, F1: 0.5009, Prec: 0.3888, Rec: 0.7074, lr: 0.00030\n",
      "Epoch 19/Step 360, Loss: 0.00216, Accuracy: 0.99879, F1: 0.5012, Prec: 0.3894, Rec: 0.7070, lr: 0.00030\n",
      "Epoch 19/Step 380, Loss: 0.00190, Accuracy: 0.99879, F1: 0.5013, Prec: 0.3896, Rec: 0.7067, lr: 0.00030\n",
      "Epoch 19/Step 400, Loss: 0.00177, Accuracy: 0.99879, F1: 0.5020, Prec: 0.3902, Rec: 0.7074, lr: 0.00030\n",
      "Epoch 19/Step 420, Loss: 0.00174, Accuracy: 0.99879, F1: 0.5019, Prec: 0.3902, Rec: 0.7072, lr: 0.00030\n",
      "Epoch 19/Step 440, Loss: 0.00208, Accuracy: 0.99879, F1: 0.5026, Prec: 0.3910, Rec: 0.7072, lr: 0.00030\n",
      "Epoch 19/Step 460, Loss: 0.00219, Accuracy: 0.99879, F1: 0.5032, Prec: 0.3917, Rec: 0.7075, lr: 0.00030\n",
      "Epoch finished. Start validation\n",
      "Validation acc: 0.9986\n",
      "Validation f1: 0.4313\n",
      "Validation precision: 0.3446\n",
      "Validation recall: 0.5808\n",
      "WARNING:tensorflow:Compiled the loaded model, but the compiled metrics have yet to be built. `model.compile_metrics` will be empty until you train or evaluate the model.\n"
     ]
    },
    {
     "name": "stderr",
     "output_type": "stream",
     "text": [
      "WARNING:tensorflow:Compiled the loaded model, but the compiled metrics have yet to be built. `model.compile_metrics` will be empty until you train or evaluate the model.\n"
     ]
    },
    {
     "name": "stdout",
     "output_type": "stream",
     "text": [
      "INFO:tensorflow:Assets written to: /mnt/e/ML/cafa-5-protein-function-prediction/model_BPO_epoch_18_valF1Score0.4313/assets\n"
     ]
    },
    {
     "name": "stderr",
     "output_type": "stream",
     "text": [
      "INFO:tensorflow:Assets written to: /mnt/e/ML/cafa-5-protein-function-prediction/model_BPO_epoch_18_valF1Score0.4313/assets\n"
     ]
    },
    {
     "name": "stdout",
     "output_type": "stream",
     "text": [
      "\n",
      "Start of epoch 20\n",
      "Epoch 20/Step 0, Loss: 0.00169, Accuracy: 0.99895, F1: 0.5253, Prec: 0.4103, Rec: 0.7301, lr: 0.00030\n",
      "Epoch 20/Step 20, Loss: 0.00234, Accuracy: 0.99882, F1: 0.4977, Prec: 0.3845, Rec: 0.7085, lr: 0.00030\n",
      "Epoch 20/Step 40, Loss: 0.00149, Accuracy: 0.99882, F1: 0.5009, Prec: 0.3892, Rec: 0.7056, lr: 0.00030\n",
      "Epoch 20/Step 60, Loss: 0.00182, Accuracy: 0.99881, F1: 0.5017, Prec: 0.3916, Rec: 0.7016, lr: 0.00030\n",
      "Epoch 20/Step 80, Loss: 0.00178, Accuracy: 0.99881, F1: 0.5040, Prec: 0.3937, Rec: 0.7041, lr: 0.00030\n",
      "Epoch 20/Step 100, Loss: 0.00250, Accuracy: 0.99881, F1: 0.5056, Prec: 0.3947, Rec: 0.7072, lr: 0.00030\n",
      "Epoch 20/Step 120, Loss: 0.00214, Accuracy: 0.99881, F1: 0.5065, Prec: 0.3951, Rec: 0.7087, lr: 0.00030\n",
      "Epoch 20/Step 140, Loss: 0.00194, Accuracy: 0.99881, F1: 0.5061, Prec: 0.3947, Rec: 0.7085, lr: 0.00030\n",
      "Epoch 20/Step 160, Loss: 0.00214, Accuracy: 0.99881, F1: 0.5057, Prec: 0.3946, Rec: 0.7073, lr: 0.00030\n",
      "Epoch 20/Step 180, Loss: 0.00166, Accuracy: 0.99881, F1: 0.5060, Prec: 0.3948, Rec: 0.7075, lr: 0.00030\n",
      "Epoch 20/Step 200, Loss: 0.00174, Accuracy: 0.99881, F1: 0.5069, Prec: 0.3958, Rec: 0.7084, lr: 0.00030\n",
      "Epoch 20/Step 220, Loss: 0.00166, Accuracy: 0.99881, F1: 0.5082, Prec: 0.3974, Rec: 0.7085, lr: 0.00030\n",
      "Epoch 20/Step 240, Loss: 0.00230, Accuracy: 0.99880, F1: 0.5077, Prec: 0.3968, Rec: 0.7083, lr: 0.00030\n",
      "Epoch 20/Step 260, Loss: 0.00215, Accuracy: 0.99880, F1: 0.5075, Prec: 0.3966, Rec: 0.7082, lr: 0.00030\n",
      "Epoch 20/Step 280, Loss: 0.00165, Accuracy: 0.99880, F1: 0.5088, Prec: 0.3979, Rec: 0.7088, lr: 0.00030\n",
      "Epoch 20/Step 300, Loss: 0.00192, Accuracy: 0.99880, F1: 0.5096, Prec: 0.3990, Rec: 0.7082, lr: 0.00030\n",
      "Epoch 20/Step 320, Loss: 0.00205, Accuracy: 0.99880, F1: 0.5097, Prec: 0.3992, Rec: 0.7085, lr: 0.00030\n",
      "Epoch 20/Step 340, Loss: 0.00198, Accuracy: 0.99880, F1: 0.5091, Prec: 0.3986, Rec: 0.7081, lr: 0.00030\n",
      "Epoch 20/Step 360, Loss: 0.00227, Accuracy: 0.99880, F1: 0.5103, Prec: 0.3998, Rec: 0.7086, lr: 0.00030\n",
      "Epoch 20/Step 380, Loss: 0.00180, Accuracy: 0.99880, F1: 0.5105, Prec: 0.3999, Rec: 0.7091, lr: 0.00030\n",
      "Epoch 20/Step 400, Loss: 0.00181, Accuracy: 0.99880, F1: 0.5111, Prec: 0.4006, Rec: 0.7093, lr: 0.00030\n",
      "Epoch 20/Step 420, Loss: 0.00168, Accuracy: 0.99880, F1: 0.5115, Prec: 0.4011, Rec: 0.7093, lr: 0.00030\n",
      "Epoch 20/Step 440, Loss: 0.00207, Accuracy: 0.99880, F1: 0.5118, Prec: 0.4014, Rec: 0.7096, lr: 0.00030\n",
      "Epoch 20/Step 460, Loss: 0.00207, Accuracy: 0.99880, F1: 0.5124, Prec: 0.4019, Rec: 0.7101, lr: 0.00030\n",
      "Epoch finished. Start validation\n",
      "Validation acc: 0.9985\n",
      "Validation f1: 0.4373\n",
      "Validation precision: 0.3597\n",
      "Validation recall: 0.5618\n",
      "WARNING:tensorflow:Compiled the loaded model, but the compiled metrics have yet to be built. `model.compile_metrics` will be empty until you train or evaluate the model.\n"
     ]
    },
    {
     "name": "stderr",
     "output_type": "stream",
     "text": [
      "WARNING:tensorflow:Compiled the loaded model, but the compiled metrics have yet to be built. `model.compile_metrics` will be empty until you train or evaluate the model.\n"
     ]
    },
    {
     "name": "stdout",
     "output_type": "stream",
     "text": [
      "INFO:tensorflow:Assets written to: /mnt/e/ML/cafa-5-protein-function-prediction/model_BPO_epoch_19_valF1Score0.4373/assets\n"
     ]
    },
    {
     "name": "stderr",
     "output_type": "stream",
     "text": [
      "INFO:tensorflow:Assets written to: /mnt/e/ML/cafa-5-protein-function-prediction/model_BPO_epoch_19_valF1Score0.4373/assets\n"
     ]
    },
    {
     "name": "stdout",
     "output_type": "stream",
     "text": [
      "\n",
      "Start of epoch 21\n",
      "Epoch 21/Step 0, Loss: 0.00173, Accuracy: 0.99896, F1: 0.5285, Prec: 0.4385, Rec: 0.6651, lr: 0.00030\n",
      "Epoch 21/Step 20, Loss: 0.00220, Accuracy: 0.99884, F1: 0.5171, Prec: 0.4035, Rec: 0.7226, lr: 0.00030\n",
      "Epoch 21/Step 40, Loss: 0.00151, Accuracy: 0.99883, F1: 0.5176, Prec: 0.4073, Rec: 0.7130, lr: 0.00030\n",
      "Epoch 21/Step 60, Loss: 0.00184, Accuracy: 0.99882, F1: 0.5149, Prec: 0.4056, Rec: 0.7078, lr: 0.00030\n",
      "Epoch 21/Step 80, Loss: 0.00180, Accuracy: 0.99882, F1: 0.5148, Prec: 0.4050, Rec: 0.7094, lr: 0.00030\n",
      "Epoch 21/Step 100, Loss: 0.00238, Accuracy: 0.99882, F1: 0.5163, Prec: 0.4064, Rec: 0.7107, lr: 0.00030\n",
      "Epoch 21/Step 120, Loss: 0.00205, Accuracy: 0.99882, F1: 0.5159, Prec: 0.4062, Rec: 0.7094, lr: 0.00030\n",
      "Epoch 21/Step 140, Loss: 0.00198, Accuracy: 0.99882, F1: 0.5149, Prec: 0.4058, Rec: 0.7072, lr: 0.00030\n",
      "Epoch 21/Step 160, Loss: 0.00212, Accuracy: 0.99882, F1: 0.5152, Prec: 0.4062, Rec: 0.7075, lr: 0.00030\n",
      "Epoch 21/Step 180, Loss: 0.00167, Accuracy: 0.99882, F1: 0.5154, Prec: 0.4062, Rec: 0.7083, lr: 0.00030\n",
      "Epoch 21/Step 200, Loss: 0.00169, Accuracy: 0.99881, F1: 0.5153, Prec: 0.4060, Rec: 0.7088, lr: 0.00030\n",
      "Epoch 21/Step 220, Loss: 0.00159, Accuracy: 0.99882, F1: 0.5171, Prec: 0.4078, Rec: 0.7099, lr: 0.00030\n",
      "Epoch 21/Step 240, Loss: 0.00222, Accuracy: 0.99881, F1: 0.5170, Prec: 0.4077, Rec: 0.7099, lr: 0.00030\n",
      "Epoch 21/Step 260, Loss: 0.00194, Accuracy: 0.99882, F1: 0.5175, Prec: 0.4082, Rec: 0.7104, lr: 0.00030\n",
      "Epoch 21/Step 280, Loss: 0.00164, Accuracy: 0.99881, F1: 0.5190, Prec: 0.4096, Rec: 0.7117, lr: 0.00030\n",
      "Epoch 21/Step 300, Loss: 0.00201, Accuracy: 0.99881, F1: 0.5192, Prec: 0.4099, Rec: 0.7114, lr: 0.00030\n",
      "Epoch 21/Step 320, Loss: 0.00201, Accuracy: 0.99881, F1: 0.5197, Prec: 0.4103, Rec: 0.7120, lr: 0.00030\n",
      "Epoch 21/Step 340, Loss: 0.00195, Accuracy: 0.99881, F1: 0.5191, Prec: 0.4096, Rec: 0.7117, lr: 0.00030\n",
      "Epoch 21/Step 360, Loss: 0.00205, Accuracy: 0.99881, F1: 0.5204, Prec: 0.4112, Rec: 0.7121, lr: 0.00030\n",
      "Epoch 21/Step 380, Loss: 0.00175, Accuracy: 0.99881, F1: 0.5207, Prec: 0.4115, Rec: 0.7124, lr: 0.00030\n",
      "Epoch 21/Step 400, Loss: 0.00175, Accuracy: 0.99881, F1: 0.5212, Prec: 0.4120, Rec: 0.7129, lr: 0.00030\n",
      "Epoch 21/Step 420, Loss: 0.00174, Accuracy: 0.99881, F1: 0.5212, Prec: 0.4120, Rec: 0.7124, lr: 0.00030\n",
      "Epoch 21/Step 440, Loss: 0.00194, Accuracy: 0.99881, F1: 0.5217, Prec: 0.4126, Rec: 0.7125, lr: 0.00030\n",
      "Epoch 21/Step 460, Loss: 0.00198, Accuracy: 0.99881, F1: 0.5221, Prec: 0.4131, Rec: 0.7127, lr: 0.00030\n",
      "Epoch finished. Start validation\n",
      "Validation acc: 0.9985\n",
      "Validation f1: 0.4409\n",
      "Validation precision: 0.3673\n",
      "Validation recall: 0.5552\n",
      "WARNING:tensorflow:Compiled the loaded model, but the compiled metrics have yet to be built. `model.compile_metrics` will be empty until you train or evaluate the model.\n"
     ]
    },
    {
     "name": "stderr",
     "output_type": "stream",
     "text": [
      "WARNING:tensorflow:Compiled the loaded model, but the compiled metrics have yet to be built. `model.compile_metrics` will be empty until you train or evaluate the model.\n"
     ]
    },
    {
     "name": "stdout",
     "output_type": "stream",
     "text": [
      "INFO:tensorflow:Assets written to: /mnt/e/ML/cafa-5-protein-function-prediction/model_BPO_epoch_20_valF1Score0.4409/assets\n"
     ]
    },
    {
     "name": "stderr",
     "output_type": "stream",
     "text": [
      "INFO:tensorflow:Assets written to: /mnt/e/ML/cafa-5-protein-function-prediction/model_BPO_epoch_20_valF1Score0.4409/assets\n"
     ]
    },
    {
     "name": "stdout",
     "output_type": "stream",
     "text": [
      "\n",
      "Start of epoch 22\n",
      "Epoch 22/Step 0, Loss: 0.00182, Accuracy: 0.99890, F1: 0.5235, Prec: 0.4128, Rec: 0.7150, lr: 0.00030\n",
      "Epoch 22/Step 20, Loss: 0.00246, Accuracy: 0.99885, F1: 0.5305, Prec: 0.4208, Rec: 0.7211, lr: 0.00030\n",
      "Epoch 22/Step 40, Loss: 0.00145, Accuracy: 0.99884, F1: 0.5260, Prec: 0.4185, Rec: 0.7117, lr: 0.00030\n",
      "Epoch 22/Step 60, Loss: 0.00190, Accuracy: 0.99883, F1: 0.5233, Prec: 0.4165, Rec: 0.7076, lr: 0.00030\n",
      "Epoch 22/Step 80, Loss: 0.00176, Accuracy: 0.99882, F1: 0.5233, Prec: 0.4160, Rec: 0.7093, lr: 0.00030\n",
      "Epoch 22/Step 100, Loss: 0.00235, Accuracy: 0.99883, F1: 0.5228, Prec: 0.4145, Rec: 0.7121, lr: 0.00030\n",
      "Epoch 22/Step 120, Loss: 0.00207, Accuracy: 0.99883, F1: 0.5242, Prec: 0.4159, Rec: 0.7127, lr: 0.00030\n",
      "Epoch 22/Step 140, Loss: 0.00198, Accuracy: 0.99883, F1: 0.5232, Prec: 0.4146, Rec: 0.7129, lr: 0.00030\n",
      "Epoch 22/Step 160, Loss: 0.00200, Accuracy: 0.99883, F1: 0.5233, Prec: 0.4144, Rec: 0.7140, lr: 0.00030\n",
      "Epoch 22/Step 180, Loss: 0.00167, Accuracy: 0.99883, F1: 0.5242, Prec: 0.4154, Rec: 0.7142, lr: 0.00030\n",
      "Epoch 22/Step 200, Loss: 0.00167, Accuracy: 0.99883, F1: 0.5247, Prec: 0.4157, Rec: 0.7151, lr: 0.00030\n",
      "Epoch 22/Step 220, Loss: 0.00160, Accuracy: 0.99883, F1: 0.5262, Prec: 0.4171, Rec: 0.7163, lr: 0.00030\n",
      "Epoch 22/Step 240, Loss: 0.00220, Accuracy: 0.99883, F1: 0.5260, Prec: 0.4169, Rec: 0.7164, lr: 0.00030\n",
      "Epoch 22/Step 260, Loss: 0.00195, Accuracy: 0.99883, F1: 0.5254, Prec: 0.4163, Rec: 0.7156, lr: 0.00030\n",
      "Epoch 22/Step 280, Loss: 0.00161, Accuracy: 0.99882, F1: 0.5263, Prec: 0.4172, Rec: 0.7162, lr: 0.00030\n",
      "Epoch 22/Step 300, Loss: 0.00184, Accuracy: 0.99882, F1: 0.5267, Prec: 0.4180, Rec: 0.7154, lr: 0.00030\n",
      "Epoch 22/Step 320, Loss: 0.00197, Accuracy: 0.99882, F1: 0.5268, Prec: 0.4183, Rec: 0.7149, lr: 0.00030\n",
      "Epoch 22/Step 340, Loss: 0.00190, Accuracy: 0.99883, F1: 0.5263, Prec: 0.4177, Rec: 0.7151, lr: 0.00030\n",
      "Epoch 22/Step 360, Loss: 0.00201, Accuracy: 0.99883, F1: 0.5276, Prec: 0.4195, Rec: 0.7147, lr: 0.00030\n",
      "Epoch 22/Step 380, Loss: 0.00168, Accuracy: 0.99883, F1: 0.5275, Prec: 0.4193, Rec: 0.7146, lr: 0.00030\n",
      "Epoch 22/Step 400, Loss: 0.00173, Accuracy: 0.99882, F1: 0.5280, Prec: 0.4198, Rec: 0.7151, lr: 0.00030\n",
      "Epoch 22/Step 420, Loss: 0.00171, Accuracy: 0.99883, F1: 0.5283, Prec: 0.4201, Rec: 0.7152, lr: 0.00030\n",
      "Epoch 22/Step 440, Loss: 0.00193, Accuracy: 0.99883, F1: 0.5288, Prec: 0.4206, Rec: 0.7155, lr: 0.00030\n",
      "Epoch 22/Step 460, Loss: 0.00209, Accuracy: 0.99883, F1: 0.5296, Prec: 0.4215, Rec: 0.7157, lr: 0.00030\n",
      "Epoch finished. Start validation\n",
      "Validation acc: 0.9985\n",
      "Validation f1: 0.4446\n",
      "Validation precision: 0.3766\n",
      "Validation recall: 0.5460\n",
      "WARNING:tensorflow:Compiled the loaded model, but the compiled metrics have yet to be built. `model.compile_metrics` will be empty until you train or evaluate the model.\n"
     ]
    },
    {
     "name": "stderr",
     "output_type": "stream",
     "text": [
      "WARNING:tensorflow:Compiled the loaded model, but the compiled metrics have yet to be built. `model.compile_metrics` will be empty until you train or evaluate the model.\n"
     ]
    },
    {
     "name": "stdout",
     "output_type": "stream",
     "text": [
      "INFO:tensorflow:Assets written to: /mnt/e/ML/cafa-5-protein-function-prediction/model_BPO_epoch_21_valF1Score0.4446/assets\n"
     ]
    },
    {
     "name": "stderr",
     "output_type": "stream",
     "text": [
      "INFO:tensorflow:Assets written to: /mnt/e/ML/cafa-5-protein-function-prediction/model_BPO_epoch_21_valF1Score0.4446/assets\n"
     ]
    },
    {
     "name": "stdout",
     "output_type": "stream",
     "text": [
      "\n",
      "Start of epoch 23\n",
      "Epoch 23/Step 0, Loss: 0.00171, Accuracy: 0.99894, F1: 0.5315, Prec: 0.4241, Rec: 0.7119, lr: 0.00030\n",
      "Epoch 23/Step 20, Loss: 0.00237, Accuracy: 0.99886, F1: 0.5313, Prec: 0.4223, Rec: 0.7188, lr: 0.00030\n",
      "Epoch 23/Step 40, Loss: 0.00137, Accuracy: 0.99886, F1: 0.5311, Prec: 0.4231, Rec: 0.7154, lr: 0.00030\n",
      "Epoch 23/Step 60, Loss: 0.00172, Accuracy: 0.99884, F1: 0.5289, Prec: 0.4219, Rec: 0.7110, lr: 0.00030\n",
      "Epoch 23/Step 80, Loss: 0.00169, Accuracy: 0.99884, F1: 0.5296, Prec: 0.4220, Rec: 0.7131, lr: 0.00030\n",
      "Epoch 23/Step 100, Loss: 0.00230, Accuracy: 0.99885, F1: 0.5306, Prec: 0.4231, Rec: 0.7148, lr: 0.00030\n",
      "Epoch 23/Step 120, Loss: 0.00194, Accuracy: 0.99885, F1: 0.5305, Prec: 0.4226, Rec: 0.7157, lr: 0.00030\n",
      "Epoch 23/Step 140, Loss: 0.00185, Accuracy: 0.99884, F1: 0.5289, Prec: 0.4205, Rec: 0.7157, lr: 0.00030\n",
      "Epoch 23/Step 160, Loss: 0.00204, Accuracy: 0.99884, F1: 0.5291, Prec: 0.4210, Rec: 0.7153, lr: 0.00030\n",
      "Epoch 23/Step 180, Loss: 0.00163, Accuracy: 0.99885, F1: 0.5312, Prec: 0.4233, Rec: 0.7163, lr: 0.00030\n",
      "Epoch 23/Step 200, Loss: 0.00162, Accuracy: 0.99884, F1: 0.5322, Prec: 0.4242, Rec: 0.7173, lr: 0.00030\n",
      "Epoch 23/Step 220, Loss: 0.00154, Accuracy: 0.99884, F1: 0.5340, Prec: 0.4262, Rec: 0.7181, lr: 0.00030\n",
      "Epoch 23/Step 240, Loss: 0.00223, Accuracy: 0.99884, F1: 0.5335, Prec: 0.4257, Rec: 0.7177, lr: 0.00030\n",
      "Epoch 23/Step 260, Loss: 0.00190, Accuracy: 0.99884, F1: 0.5331, Prec: 0.4252, Rec: 0.7178, lr: 0.00030\n",
      "Epoch 23/Step 280, Loss: 0.00159, Accuracy: 0.99883, F1: 0.5343, Prec: 0.4265, Rec: 0.7184, lr: 0.00030\n",
      "Epoch 23/Step 300, Loss: 0.00198, Accuracy: 0.99883, F1: 0.5347, Prec: 0.4270, Rec: 0.7182, lr: 0.00030\n",
      "Epoch 23/Step 320, Loss: 0.00202, Accuracy: 0.99884, F1: 0.5351, Prec: 0.4275, Rec: 0.7182, lr: 0.00030\n",
      "Epoch 23/Step 340, Loss: 0.00179, Accuracy: 0.99884, F1: 0.5343, Prec: 0.4267, Rec: 0.7178, lr: 0.00030\n",
      "Epoch 23/Step 360, Loss: 0.00200, Accuracy: 0.99884, F1: 0.5354, Prec: 0.4280, Rec: 0.7180, lr: 0.00030\n",
      "Epoch 23/Step 380, Loss: 0.00176, Accuracy: 0.99884, F1: 0.5354, Prec: 0.4280, Rec: 0.7180, lr: 0.00030\n",
      "Epoch 23/Step 400, Loss: 0.00176, Accuracy: 0.99884, F1: 0.5359, Prec: 0.4286, Rec: 0.7184, lr: 0.00030\n",
      "Epoch 23/Step 420, Loss: 0.00171, Accuracy: 0.99884, F1: 0.5363, Prec: 0.4290, Rec: 0.7184, lr: 0.00030\n",
      "Epoch 23/Step 440, Loss: 0.00186, Accuracy: 0.99884, F1: 0.5365, Prec: 0.4292, Rec: 0.7183, lr: 0.00030\n",
      "Epoch 23/Step 460, Loss: 0.00192, Accuracy: 0.99884, F1: 0.5370, Prec: 0.4298, Rec: 0.7188, lr: 0.00030\n",
      "Epoch finished. Start validation\n",
      "Validation acc: 0.9985\n",
      "Validation f1: 0.4423\n",
      "Validation precision: 0.3687\n",
      "Validation recall: 0.5563\n",
      "\n",
      "Start of epoch 24\n",
      "Epoch 24/Step 0, Loss: 0.00173, Accuracy: 0.99895, F1: 0.5235, Prec: 0.4172, Rec: 0.7026, lr: 0.00030\n",
      "Epoch 24/Step 20, Loss: 0.00226, Accuracy: 0.99888, F1: 0.5401, Prec: 0.4320, Rec: 0.7225, lr: 0.00030\n",
      "Epoch 24/Step 40, Loss: 0.00139, Accuracy: 0.99887, F1: 0.5394, Prec: 0.4339, Rec: 0.7152, lr: 0.00030\n",
      "Epoch 24/Step 60, Loss: 0.00177, Accuracy: 0.99885, F1: 0.5356, Prec: 0.4305, Rec: 0.7112, lr: 0.00030\n",
      "Epoch 24/Step 80, Loss: 0.00167, Accuracy: 0.99885, F1: 0.5362, Prec: 0.4308, Rec: 0.7127, lr: 0.00030\n",
      "Epoch 24/Step 100, Loss: 0.00226, Accuracy: 0.99886, F1: 0.5369, Prec: 0.4313, Rec: 0.7140, lr: 0.00030\n",
      "Epoch 24/Step 120, Loss: 0.00202, Accuracy: 0.99886, F1: 0.5371, Prec: 0.4313, Rec: 0.7148, lr: 0.00030\n",
      "Epoch 24/Step 140, Loss: 0.00193, Accuracy: 0.99885, F1: 0.5364, Prec: 0.4302, Rec: 0.7153, lr: 0.00030\n",
      "Epoch 24/Step 160, Loss: 0.00192, Accuracy: 0.99885, F1: 0.5370, Prec: 0.4310, Rec: 0.7154, lr: 0.00030\n",
      "Epoch 24/Step 180, Loss: 0.00156, Accuracy: 0.99885, F1: 0.5382, Prec: 0.4320, Rec: 0.7168, lr: 0.00030\n",
      "Epoch 24/Step 200, Loss: 0.00153, Accuracy: 0.99885, F1: 0.5389, Prec: 0.4327, Rec: 0.7173, lr: 0.00030\n",
      "Epoch 24/Step 220, Loss: 0.00151, Accuracy: 0.99885, F1: 0.5407, Prec: 0.4346, Rec: 0.7182, lr: 0.00030\n",
      "Epoch 24/Step 240, Loss: 0.00208, Accuracy: 0.99885, F1: 0.5407, Prec: 0.4345, Rec: 0.7184, lr: 0.00030\n",
      "Epoch 24/Step 260, Loss: 0.00184, Accuracy: 0.99885, F1: 0.5409, Prec: 0.4349, Rec: 0.7183, lr: 0.00030\n",
      "Epoch 24/Step 280, Loss: 0.00148, Accuracy: 0.99884, F1: 0.5421, Prec: 0.4361, Rec: 0.7191, lr: 0.00030\n",
      "Epoch 24/Step 300, Loss: 0.00184, Accuracy: 0.99885, F1: 0.5422, Prec: 0.4362, Rec: 0.7191, lr: 0.00030\n",
      "Epoch 24/Step 320, Loss: 0.00186, Accuracy: 0.99885, F1: 0.5422, Prec: 0.4362, Rec: 0.7191, lr: 0.00030\n",
      "Epoch 24/Step 340, Loss: 0.00177, Accuracy: 0.99885, F1: 0.5416, Prec: 0.4355, Rec: 0.7191, lr: 0.00030\n",
      "Epoch 24/Step 360, Loss: 0.00195, Accuracy: 0.99885, F1: 0.5426, Prec: 0.4366, Rec: 0.7194, lr: 0.00030\n",
      "Epoch 24/Step 380, Loss: 0.00165, Accuracy: 0.99885, F1: 0.5426, Prec: 0.4364, Rec: 0.7198, lr: 0.00030\n",
      "Epoch 24/Step 400, Loss: 0.00172, Accuracy: 0.99885, F1: 0.5432, Prec: 0.4370, Rec: 0.7205, lr: 0.00030\n",
      "Epoch 24/Step 420, Loss: 0.00159, Accuracy: 0.99885, F1: 0.5432, Prec: 0.4369, Rec: 0.7205, lr: 0.00030\n",
      "Epoch 24/Step 440, Loss: 0.00194, Accuracy: 0.99885, F1: 0.5437, Prec: 0.4374, Rec: 0.7211, lr: 0.00030\n",
      "Epoch 24/Step 460, Loss: 0.00197, Accuracy: 0.99885, F1: 0.5442, Prec: 0.4381, Rec: 0.7211, lr: 0.00030\n",
      "Epoch finished. Start validation\n",
      "Validation acc: 0.9986\n",
      "Validation f1: 0.4416\n",
      "Validation precision: 0.3672\n",
      "Validation recall: 0.5574\n",
      "\n",
      "Start of epoch 25\n",
      "Epoch 25/Step 0, Loss: 0.00158, Accuracy: 0.99897, F1: 0.5410, Prec: 0.4407, Rec: 0.7004, lr: 0.00030\n",
      "Epoch 25/Step 20, Loss: 0.00231, Accuracy: 0.99890, F1: 0.5427, Prec: 0.4347, Rec: 0.7240, lr: 0.00030\n",
      "Epoch 25/Step 40, Loss: 0.00133, Accuracy: 0.99889, F1: 0.5472, Prec: 0.4411, Rec: 0.7227, lr: 0.00030\n",
      "Epoch 25/Step 60, Loss: 0.00157, Accuracy: 0.99888, F1: 0.5451, Prec: 0.4404, Rec: 0.7177, lr: 0.00030\n",
      "Epoch 25/Step 80, Loss: 0.00160, Accuracy: 0.99887, F1: 0.5453, Prec: 0.4405, Rec: 0.7182, lr: 0.00030\n",
      "Epoch 25/Step 100, Loss: 0.00222, Accuracy: 0.99887, F1: 0.5454, Prec: 0.4397, Rec: 0.7213, lr: 0.00030\n",
      "Epoch 25/Step 120, Loss: 0.00184, Accuracy: 0.99888, F1: 0.5464, Prec: 0.4405, Rec: 0.7223, lr: 0.00030\n",
      "Epoch 25/Step 140, Loss: 0.00177, Accuracy: 0.99887, F1: 0.5456, Prec: 0.4398, Rec: 0.7216, lr: 0.00030\n",
      "Epoch 25/Step 160, Loss: 0.00186, Accuracy: 0.99887, F1: 0.5455, Prec: 0.4399, Rec: 0.7210, lr: 0.00030\n",
      "Epoch 25/Step 180, Loss: 0.00151, Accuracy: 0.99887, F1: 0.5460, Prec: 0.4403, Rec: 0.7215, lr: 0.00030\n",
      "Epoch 25/Step 200, Loss: 0.00168, Accuracy: 0.99886, F1: 0.5454, Prec: 0.4394, Rec: 0.7219, lr: 0.00030\n",
      "Epoch 25/Step 220, Loss: 0.00148, Accuracy: 0.99886, F1: 0.5475, Prec: 0.4420, Rec: 0.7224, lr: 0.00030\n",
      "Epoch 25/Step 240, Loss: 0.00209, Accuracy: 0.99886, F1: 0.5467, Prec: 0.4410, Rec: 0.7222, lr: 0.00030\n",
      "Epoch 25/Step 260, Loss: 0.00166, Accuracy: 0.99886, F1: 0.5467, Prec: 0.4413, Rec: 0.7213, lr: 0.00030\n",
      "Epoch 25/Step 280, Loss: 0.00153, Accuracy: 0.99885, F1: 0.5474, Prec: 0.4422, Rec: 0.7215, lr: 0.00030\n",
      "Epoch 25/Step 300, Loss: 0.00190, Accuracy: 0.99886, F1: 0.5479, Prec: 0.4429, Rec: 0.7214, lr: 0.00030\n",
      "Epoch 25/Step 320, Loss: 0.00186, Accuracy: 0.99886, F1: 0.5481, Prec: 0.4431, Rec: 0.7214, lr: 0.00030\n",
      "Epoch 25/Step 340, Loss: 0.00175, Accuracy: 0.99886, F1: 0.5475, Prec: 0.4423, Rec: 0.7214, lr: 0.00030\n",
      "Epoch 25/Step 360, Loss: 0.00194, Accuracy: 0.99886, F1: 0.5482, Prec: 0.4432, Rec: 0.7215, lr: 0.00030\n",
      "Epoch 25/Step 380, Loss: 0.00167, Accuracy: 0.99886, F1: 0.5482, Prec: 0.4433, Rec: 0.7215, lr: 0.00030\n",
      "Epoch 25/Step 400, Loss: 0.00166, Accuracy: 0.99886, F1: 0.5489, Prec: 0.4438, Rec: 0.7222, lr: 0.00030\n",
      "Epoch 25/Step 420, Loss: 0.00161, Accuracy: 0.99886, F1: 0.5494, Prec: 0.4444, Rec: 0.7224, lr: 0.00030\n",
      "Epoch 25/Step 440, Loss: 0.00178, Accuracy: 0.99886, F1: 0.5500, Prec: 0.4449, Rec: 0.7231, lr: 0.00030\n",
      "Epoch 25/Step 460, Loss: 0.00194, Accuracy: 0.99886, F1: 0.5504, Prec: 0.4453, Rec: 0.7234, lr: 0.00030\n",
      "Epoch finished. Start validation\n",
      "Validation acc: 0.9986\n",
      "Validation f1: 0.4401\n",
      "Validation precision: 0.3647\n",
      "Validation recall: 0.5585\n",
      "\n",
      "Start of epoch 26\n",
      "Epoch 26/Step 0, Loss: 0.00154, Accuracy: 0.99897, F1: 0.5689, Prec: 0.4708, Rec: 0.7187, lr: 0.00030\n",
      "Epoch 26/Step 20, Loss: 0.00212, Accuracy: 0.99890, F1: 0.5554, Prec: 0.4488, Rec: 0.7301, lr: 0.00030\n",
      "Epoch 26/Step 40, Loss: 0.00136, Accuracy: 0.99890, F1: 0.5532, Prec: 0.4476, Rec: 0.7257, lr: 0.00030\n",
      "Epoch 26/Step 60, Loss: 0.00161, Accuracy: 0.99888, F1: 0.5530, Prec: 0.4491, Rec: 0.7215, lr: 0.00030\n",
      "Epoch 26/Step 80, Loss: 0.00156, Accuracy: 0.99888, F1: 0.5537, Prec: 0.4496, Rec: 0.7227, lr: 0.00030\n",
      "Epoch 26/Step 100, Loss: 0.00224, Accuracy: 0.99888, F1: 0.5534, Prec: 0.4493, Rec: 0.7225, lr: 0.00030\n",
      "Epoch 26/Step 120, Loss: 0.00184, Accuracy: 0.99888, F1: 0.5533, Prec: 0.4492, Rec: 0.7222, lr: 0.00030\n",
      "Epoch 26/Step 140, Loss: 0.00177, Accuracy: 0.99887, F1: 0.5520, Prec: 0.4477, Rec: 0.7221, lr: 0.00030\n",
      "Epoch 26/Step 160, Loss: 0.00181, Accuracy: 0.99887, F1: 0.5522, Prec: 0.4482, Rec: 0.7215, lr: 0.00030\n",
      "Epoch 26/Step 180, Loss: 0.00159, Accuracy: 0.99888, F1: 0.5530, Prec: 0.4487, Rec: 0.7228, lr: 0.00030\n",
      "Epoch 26/Step 200, Loss: 0.00154, Accuracy: 0.99887, F1: 0.5533, Prec: 0.4487, Rec: 0.7241, lr: 0.00030\n",
      "Epoch 26/Step 220, Loss: 0.00140, Accuracy: 0.99887, F1: 0.5547, Prec: 0.4502, Rec: 0.7252, lr: 0.00030\n",
      "Epoch 26/Step 240, Loss: 0.00202, Accuracy: 0.99887, F1: 0.5547, Prec: 0.4499, Rec: 0.7257, lr: 0.00030\n",
      "Epoch 26/Step 260, Loss: 0.00179, Accuracy: 0.99887, F1: 0.5554, Prec: 0.4508, Rec: 0.7259, lr: 0.00030\n",
      "Epoch 26/Step 280, Loss: 0.00143, Accuracy: 0.99887, F1: 0.5562, Prec: 0.4518, Rec: 0.7261, lr: 0.00030\n",
      "Epoch 26/Step 300, Loss: 0.00190, Accuracy: 0.99887, F1: 0.5568, Prec: 0.4525, Rec: 0.7261, lr: 0.00030\n",
      "Epoch 26/Step 320, Loss: 0.00187, Accuracy: 0.99887, F1: 0.5568, Prec: 0.4526, Rec: 0.7261, lr: 0.00030\n",
      "Epoch 26/Step 340, Loss: 0.00172, Accuracy: 0.99887, F1: 0.5564, Prec: 0.4520, Rec: 0.7264, lr: 0.00030\n",
      "Epoch 26/Step 360, Loss: 0.00197, Accuracy: 0.99887, F1: 0.5574, Prec: 0.4532, Rec: 0.7267, lr: 0.00030\n",
      "Epoch 26/Step 380, Loss: 0.00157, Accuracy: 0.99887, F1: 0.5572, Prec: 0.4529, Rec: 0.7267, lr: 0.00030\n",
      "Epoch 26/Step 400, Loss: 0.00163, Accuracy: 0.99887, F1: 0.5577, Prec: 0.4535, Rec: 0.7270, lr: 0.00030\n",
      "Epoch 26/Step 420, Loss: 0.00152, Accuracy: 0.99887, F1: 0.5580, Prec: 0.4537, Rec: 0.7272, lr: 0.00030\n",
      "Epoch 26/Step 440, Loss: 0.00178, Accuracy: 0.99887, F1: 0.5582, Prec: 0.4540, Rec: 0.7273, lr: 0.00030\n",
      "Epoch 26/Step 460, Loss: 0.00193, Accuracy: 0.99887, F1: 0.5582, Prec: 0.4540, Rec: 0.7274, lr: 0.00030\n",
      "Epoch finished. Start validation\n",
      "Validation acc: 0.9985\n",
      "Validation f1: 0.4454\n",
      "Validation precision: 0.3765\n",
      "Validation recall: 0.5487\n",
      "WARNING:tensorflow:Compiled the loaded model, but the compiled metrics have yet to be built. `model.compile_metrics` will be empty until you train or evaluate the model.\n"
     ]
    },
    {
     "name": "stderr",
     "output_type": "stream",
     "text": [
      "WARNING:tensorflow:Compiled the loaded model, but the compiled metrics have yet to be built. `model.compile_metrics` will be empty until you train or evaluate the model.\n"
     ]
    },
    {
     "name": "stdout",
     "output_type": "stream",
     "text": [
      "INFO:tensorflow:Assets written to: /mnt/e/ML/cafa-5-protein-function-prediction/model_BPO_epoch_25_valF1Score0.4454/assets\n"
     ]
    },
    {
     "name": "stderr",
     "output_type": "stream",
     "text": [
      "INFO:tensorflow:Assets written to: /mnt/e/ML/cafa-5-protein-function-prediction/model_BPO_epoch_25_valF1Score0.4454/assets\n"
     ]
    },
    {
     "name": "stdout",
     "output_type": "stream",
     "text": [
      "\n",
      "Start of epoch 27\n",
      "Epoch 27/Step 0, Loss: 0.00152, Accuracy: 0.99903, F1: 0.5773, Prec: 0.4937, Rec: 0.6950, lr: 0.00030\n",
      "Epoch 27/Step 20, Loss: 0.00214, Accuracy: 0.99891, F1: 0.5598, Prec: 0.4554, Rec: 0.7285, lr: 0.00030\n",
      "Epoch 27/Step 40, Loss: 0.00133, Accuracy: 0.99890, F1: 0.5589, Prec: 0.4546, Rec: 0.7270, lr: 0.00030\n",
      "Epoch 27/Step 60, Loss: 0.00167, Accuracy: 0.99888, F1: 0.5575, Prec: 0.4556, Rec: 0.7203, lr: 0.00030\n",
      "Epoch 27/Step 80, Loss: 0.00155, Accuracy: 0.99888, F1: 0.5590, Prec: 0.4562, Rec: 0.7236, lr: 0.00030\n",
      "Epoch 27/Step 100, Loss: 0.00214, Accuracy: 0.99889, F1: 0.5600, Prec: 0.4568, Rec: 0.7258, lr: 0.00030\n",
      "Epoch 27/Step 120, Loss: 0.00187, Accuracy: 0.99889, F1: 0.5603, Prec: 0.4571, Rec: 0.7258, lr: 0.00030\n",
      "Epoch 27/Step 140, Loss: 0.00176, Accuracy: 0.99888, F1: 0.5593, Prec: 0.4556, Rec: 0.7263, lr: 0.00030\n",
      "Epoch 27/Step 160, Loss: 0.00189, Accuracy: 0.99888, F1: 0.5593, Prec: 0.4558, Rec: 0.7261, lr: 0.00030\n",
      "Epoch 27/Step 180, Loss: 0.00152, Accuracy: 0.99889, F1: 0.5607, Prec: 0.4570, Rec: 0.7277, lr: 0.00030\n",
      "Epoch 27/Step 200, Loss: 0.00156, Accuracy: 0.99888, F1: 0.5612, Prec: 0.4575, Rec: 0.7281, lr: 0.00030\n",
      "Epoch 27/Step 220, Loss: 0.00144, Accuracy: 0.99888, F1: 0.5623, Prec: 0.4585, Rec: 0.7291, lr: 0.00030\n",
      "Epoch 27/Step 240, Loss: 0.00200, Accuracy: 0.99888, F1: 0.5615, Prec: 0.4578, Rec: 0.7283, lr: 0.00030\n",
      "Epoch 27/Step 260, Loss: 0.00176, Accuracy: 0.99888, F1: 0.5617, Prec: 0.4581, Rec: 0.7285, lr: 0.00030\n",
      "Epoch 27/Step 280, Loss: 0.00146, Accuracy: 0.99888, F1: 0.5631, Prec: 0.4596, Rec: 0.7291, lr: 0.00030\n",
      "Epoch 27/Step 300, Loss: 0.00180, Accuracy: 0.99888, F1: 0.5634, Prec: 0.4602, Rec: 0.7286, lr: 0.00030\n",
      "Epoch 27/Step 320, Loss: 0.00182, Accuracy: 0.99888, F1: 0.5633, Prec: 0.4601, Rec: 0.7287, lr: 0.00030\n",
      "Epoch 27/Step 340, Loss: 0.00177, Accuracy: 0.99888, F1: 0.5623, Prec: 0.4590, Rec: 0.7281, lr: 0.00030\n",
      "Epoch 27/Step 360, Loss: 0.00197, Accuracy: 0.99888, F1: 0.5631, Prec: 0.4601, Rec: 0.7281, lr: 0.00030\n",
      "Epoch 27/Step 380, Loss: 0.00165, Accuracy: 0.99888, F1: 0.5633, Prec: 0.4604, Rec: 0.7280, lr: 0.00030\n",
      "Epoch 27/Step 400, Loss: 0.00158, Accuracy: 0.99888, F1: 0.5634, Prec: 0.4605, Rec: 0.7281, lr: 0.00030\n",
      "Epoch 27/Step 420, Loss: 0.00156, Accuracy: 0.99888, F1: 0.5636, Prec: 0.4606, Rec: 0.7282, lr: 0.00030\n",
      "Epoch 27/Step 440, Loss: 0.00184, Accuracy: 0.99888, F1: 0.5642, Prec: 0.4613, Rec: 0.7287, lr: 0.00030\n",
      "Epoch 27/Step 460, Loss: 0.00188, Accuracy: 0.99888, F1: 0.5648, Prec: 0.4619, Rec: 0.7292, lr: 0.00030\n",
      "Epoch finished. Start validation\n",
      "Validation acc: 0.9985\n",
      "Validation f1: 0.4445\n",
      "Validation precision: 0.3756\n",
      "Validation recall: 0.5481\n",
      "\n",
      "Start of epoch 28\n",
      "Epoch 28/Step 0, Loss: 0.00151, Accuracy: 0.99905, F1: 0.5952, Prec: 0.4985, Rec: 0.7385, lr: 0.00030\n",
      "Epoch 28/Step 20, Loss: 0.00212, Accuracy: 0.99891, F1: 0.5689, Prec: 0.4649, Rec: 0.7346, lr: 0.00030\n",
      "Epoch 28/Step 40, Loss: 0.00133, Accuracy: 0.99891, F1: 0.5680, Prec: 0.4643, Rec: 0.7332, lr: 0.00030\n",
      "Epoch 28/Step 60, Loss: 0.00158, Accuracy: 0.99890, F1: 0.5653, Prec: 0.4633, Rec: 0.7271, lr: 0.00030\n",
      "Epoch 28/Step 80, Loss: 0.00148, Accuracy: 0.99889, F1: 0.5651, Prec: 0.4629, Rec: 0.7274, lr: 0.00030\n",
      "Epoch 28/Step 100, Loss: 0.00217, Accuracy: 0.99890, F1: 0.5658, Prec: 0.4637, Rec: 0.7283, lr: 0.00030\n",
      "Epoch 28/Step 120, Loss: 0.00185, Accuracy: 0.99890, F1: 0.5665, Prec: 0.4643, Rec: 0.7291, lr: 0.00030\n",
      "Epoch 28/Step 140, Loss: 0.00172, Accuracy: 0.99890, F1: 0.5649, Prec: 0.4625, Rec: 0.7283, lr: 0.00030\n",
      "Epoch 28/Step 160, Loss: 0.00189, Accuracy: 0.99890, F1: 0.5654, Prec: 0.4627, Rec: 0.7292, lr: 0.00030\n",
      "Epoch 28/Step 180, Loss: 0.00145, Accuracy: 0.99890, F1: 0.5668, Prec: 0.4644, Rec: 0.7297, lr: 0.00030\n",
      "Epoch 28/Step 200, Loss: 0.00149, Accuracy: 0.99890, F1: 0.5670, Prec: 0.4644, Rec: 0.7307, lr: 0.00030\n",
      "Epoch 28/Step 220, Loss: 0.00145, Accuracy: 0.99890, F1: 0.5681, Prec: 0.4657, Rec: 0.7312, lr: 0.00030\n",
      "Epoch 28/Step 240, Loss: 0.00203, Accuracy: 0.99889, F1: 0.5684, Prec: 0.4662, Rec: 0.7310, lr: 0.00030\n",
      "Epoch 28/Step 260, Loss: 0.00164, Accuracy: 0.99889, F1: 0.5677, Prec: 0.4656, Rec: 0.7301, lr: 0.00030\n",
      "Epoch 28/Step 280, Loss: 0.00142, Accuracy: 0.99889, F1: 0.5688, Prec: 0.4666, Rec: 0.7312, lr: 0.00030\n",
      "Epoch 28/Step 300, Loss: 0.00173, Accuracy: 0.99889, F1: 0.5695, Prec: 0.4676, Rec: 0.7310, lr: 0.00030\n",
      "Epoch 28/Step 320, Loss: 0.00173, Accuracy: 0.99889, F1: 0.5699, Prec: 0.4680, Rec: 0.7314, lr: 0.00030\n",
      "Epoch 28/Step 340, Loss: 0.00168, Accuracy: 0.99889, F1: 0.5690, Prec: 0.4669, Rec: 0.7308, lr: 0.00030\n",
      "Epoch 28/Step 360, Loss: 0.00179, Accuracy: 0.99889, F1: 0.5696, Prec: 0.4678, Rec: 0.7309, lr: 0.00030\n",
      "Epoch 28/Step 380, Loss: 0.00161, Accuracy: 0.99889, F1: 0.5693, Prec: 0.4675, Rec: 0.7306, lr: 0.00030\n",
      "Epoch 28/Step 400, Loss: 0.00162, Accuracy: 0.99889, F1: 0.5701, Prec: 0.4683, Rec: 0.7312, lr: 0.00030\n",
      "Epoch 28/Step 420, Loss: 0.00155, Accuracy: 0.99889, F1: 0.5702, Prec: 0.4684, Rec: 0.7314, lr: 0.00030\n",
      "Epoch 28/Step 440, Loss: 0.00175, Accuracy: 0.99889, F1: 0.5707, Prec: 0.4688, Rec: 0.7318, lr: 0.00030\n",
      "Epoch 28/Step 460, Loss: 0.00177, Accuracy: 0.99889, F1: 0.5712, Prec: 0.4696, Rec: 0.7318, lr: 0.00030\n",
      "Epoch finished. Start validation\n",
      "Validation acc: 0.9985\n",
      "Validation f1: 0.4475\n",
      "Validation precision: 0.3814\n",
      "Validation recall: 0.5445\n",
      "WARNING:tensorflow:Compiled the loaded model, but the compiled metrics have yet to be built. `model.compile_metrics` will be empty until you train or evaluate the model.\n"
     ]
    },
    {
     "name": "stderr",
     "output_type": "stream",
     "text": [
      "WARNING:tensorflow:Compiled the loaded model, but the compiled metrics have yet to be built. `model.compile_metrics` will be empty until you train or evaluate the model.\n"
     ]
    },
    {
     "name": "stdout",
     "output_type": "stream",
     "text": [
      "INFO:tensorflow:Assets written to: /mnt/e/ML/cafa-5-protein-function-prediction/model_BPO_epoch_27_valF1Score0.4475/assets\n"
     ]
    },
    {
     "name": "stderr",
     "output_type": "stream",
     "text": [
      "INFO:tensorflow:Assets written to: /mnt/e/ML/cafa-5-protein-function-prediction/model_BPO_epoch_27_valF1Score0.4475/assets\n"
     ]
    },
    {
     "name": "stdout",
     "output_type": "stream",
     "text": [
      "\n",
      "Start of epoch 29\n",
      "Epoch 29/Step 0, Loss: 0.00153, Accuracy: 0.99903, F1: 0.5737, Prec: 0.4700, Rec: 0.7362, lr: 0.00030\n",
      "Epoch 29/Step 20, Loss: 0.00200, Accuracy: 0.99893, F1: 0.5728, Prec: 0.4671, Rec: 0.7419, lr: 0.00030\n",
      "Epoch 29/Step 40, Loss: 0.00134, Accuracy: 0.99892, F1: 0.5711, Prec: 0.4669, Rec: 0.7373, lr: 0.00030\n",
      "Epoch 29/Step 60, Loss: 0.00155, Accuracy: 0.99891, F1: 0.5710, Prec: 0.4688, Rec: 0.7326, lr: 0.00030\n",
      "Epoch 29/Step 80, Loss: 0.00148, Accuracy: 0.99891, F1: 0.5719, Prec: 0.4696, Rec: 0.7342, lr: 0.00030\n",
      "Epoch 29/Step 100, Loss: 0.00210, Accuracy: 0.99891, F1: 0.5714, Prec: 0.4684, Rec: 0.7353, lr: 0.00030\n",
      "Epoch 29/Step 120, Loss: 0.00181, Accuracy: 0.99891, F1: 0.5716, Prec: 0.4689, Rec: 0.7345, lr: 0.00030\n",
      "Epoch 29/Step 140, Loss: 0.00171, Accuracy: 0.99890, F1: 0.5704, Prec: 0.4678, Rec: 0.7332, lr: 0.00030\n",
      "Epoch 29/Step 160, Loss: 0.00180, Accuracy: 0.99890, F1: 0.5703, Prec: 0.4680, Rec: 0.7323, lr: 0.00030\n",
      "Epoch 29/Step 180, Loss: 0.00147, Accuracy: 0.99891, F1: 0.5715, Prec: 0.4691, Rec: 0.7337, lr: 0.00030\n",
      "Epoch 29/Step 200, Loss: 0.00145, Accuracy: 0.99890, F1: 0.5709, Prec: 0.4685, Rec: 0.7333, lr: 0.00030\n",
      "Epoch 29/Step 220, Loss: 0.00139, Accuracy: 0.99890, F1: 0.5731, Prec: 0.4707, Rec: 0.7348, lr: 0.00030\n",
      "Epoch 29/Step 240, Loss: 0.00196, Accuracy: 0.99890, F1: 0.5731, Prec: 0.4708, Rec: 0.7349, lr: 0.00030\n",
      "Epoch 29/Step 260, Loss: 0.00160, Accuracy: 0.99890, F1: 0.5733, Prec: 0.4710, Rec: 0.7348, lr: 0.00030\n",
      "Epoch 29/Step 280, Loss: 0.00144, Accuracy: 0.99890, F1: 0.5739, Prec: 0.4719, Rec: 0.7348, lr: 0.00030\n",
      "Epoch 29/Step 300, Loss: 0.00180, Accuracy: 0.99890, F1: 0.5742, Prec: 0.4723, Rec: 0.7346, lr: 0.00030\n",
      "Epoch 29/Step 320, Loss: 0.00168, Accuracy: 0.99890, F1: 0.5746, Prec: 0.4727, Rec: 0.7349, lr: 0.00030\n",
      "Epoch 29/Step 340, Loss: 0.00158, Accuracy: 0.99890, F1: 0.5741, Prec: 0.4722, Rec: 0.7345, lr: 0.00030\n",
      "Epoch 29/Step 360, Loss: 0.00177, Accuracy: 0.99890, F1: 0.5751, Prec: 0.4735, Rec: 0.7348, lr: 0.00030\n",
      "Epoch 29/Step 380, Loss: 0.00156, Accuracy: 0.99890, F1: 0.5750, Prec: 0.4733, Rec: 0.7349, lr: 0.00030\n",
      "Epoch 29/Step 400, Loss: 0.00157, Accuracy: 0.99890, F1: 0.5756, Prec: 0.4738, Rec: 0.7354, lr: 0.00030\n",
      "Epoch 29/Step 420, Loss: 0.00153, Accuracy: 0.99890, F1: 0.5757, Prec: 0.4739, Rec: 0.7356, lr: 0.00030\n",
      "Epoch 29/Step 440, Loss: 0.00172, Accuracy: 0.99890, F1: 0.5763, Prec: 0.4747, Rec: 0.7358, lr: 0.00030\n",
      "Epoch 29/Step 460, Loss: 0.00187, Accuracy: 0.99890, F1: 0.5766, Prec: 0.4751, Rec: 0.7359, lr: 0.00030\n",
      "Epoch finished. Start validation\n",
      "Validation acc: 0.9985\n",
      "Validation f1: 0.4460\n",
      "Validation precision: 0.3798\n",
      "Validation recall: 0.5438\n",
      "\n",
      "Start of epoch 30\n",
      "Epoch 30/Step 0, Loss: 0.00148, Accuracy: 0.99907, F1: 0.6113, Prec: 0.5174, Rec: 0.7469, lr: 0.00030\n",
      "Epoch 30/Step 20, Loss: 0.00206, Accuracy: 0.99894, F1: 0.5777, Prec: 0.4751, Rec: 0.7393, lr: 0.00030\n",
      "Epoch 30/Step 40, Loss: 0.00118, Accuracy: 0.99893, F1: 0.5756, Prec: 0.4749, Rec: 0.7328, lr: 0.00030\n",
      "Epoch 30/Step 60, Loss: 0.00152, Accuracy: 0.99892, F1: 0.5756, Prec: 0.4757, Rec: 0.7310, lr: 0.00030\n",
      "Epoch 30/Step 80, Loss: 0.00148, Accuracy: 0.99892, F1: 0.5758, Prec: 0.4754, Rec: 0.7321, lr: 0.00030\n",
      "Epoch 30/Step 100, Loss: 0.00218, Accuracy: 0.99892, F1: 0.5777, Prec: 0.4775, Rec: 0.7337, lr: 0.00030\n",
      "Epoch 30/Step 120, Loss: 0.00183, Accuracy: 0.99892, F1: 0.5779, Prec: 0.4783, Rec: 0.7323, lr: 0.00030\n",
      "Epoch 30/Step 140, Loss: 0.00173, Accuracy: 0.99892, F1: 0.5774, Prec: 0.4772, Rec: 0.7335, lr: 0.00030\n",
      "Epoch 30/Step 160, Loss: 0.00182, Accuracy: 0.99892, F1: 0.5778, Prec: 0.4777, Rec: 0.7338, lr: 0.00030\n",
      "Epoch 30/Step 180, Loss: 0.00148, Accuracy: 0.99892, F1: 0.5794, Prec: 0.4794, Rec: 0.7344, lr: 0.00030\n",
      "Epoch 30/Step 200, Loss: 0.00145, Accuracy: 0.99891, F1: 0.5793, Prec: 0.4794, Rec: 0.7345, lr: 0.00030\n",
      "Epoch 30/Step 220, Loss: 0.00137, Accuracy: 0.99891, F1: 0.5796, Prec: 0.4797, Rec: 0.7345, lr: 0.00030\n",
      "Epoch 30/Step 240, Loss: 0.00203, Accuracy: 0.99891, F1: 0.5793, Prec: 0.4793, Rec: 0.7345, lr: 0.00030\n",
      "Epoch 30/Step 260, Loss: 0.00166, Accuracy: 0.99891, F1: 0.5795, Prec: 0.4795, Rec: 0.7347, lr: 0.00030\n",
      "Epoch 30/Step 280, Loss: 0.00145, Accuracy: 0.99890, F1: 0.5805, Prec: 0.4808, Rec: 0.7350, lr: 0.00030\n",
      "Epoch 30/Step 300, Loss: 0.00166, Accuracy: 0.99891, F1: 0.5809, Prec: 0.4811, Rec: 0.7353, lr: 0.00030\n",
      "Epoch 30/Step 320, Loss: 0.00191, Accuracy: 0.99891, F1: 0.5811, Prec: 0.4813, Rec: 0.7354, lr: 0.00030\n",
      "Epoch 30/Step 340, Loss: 0.00161, Accuracy: 0.99891, F1: 0.5807, Prec: 0.4809, Rec: 0.7352, lr: 0.00030\n",
      "Epoch 30/Step 360, Loss: 0.00188, Accuracy: 0.99891, F1: 0.5814, Prec: 0.4818, Rec: 0.7353, lr: 0.00030\n",
      "Epoch 30/Step 380, Loss: 0.00158, Accuracy: 0.99891, F1: 0.5813, Prec: 0.4816, Rec: 0.7354, lr: 0.00030\n",
      "Epoch 30/Step 400, Loss: 0.00152, Accuracy: 0.99891, F1: 0.5820, Prec: 0.4824, Rec: 0.7359, lr: 0.00030\n",
      "Epoch 30/Step 420, Loss: 0.00148, Accuracy: 0.99891, F1: 0.5821, Prec: 0.4824, Rec: 0.7360, lr: 0.00030\n",
      "Epoch 30/Step 440, Loss: 0.00181, Accuracy: 0.99891, F1: 0.5826, Prec: 0.4831, Rec: 0.7361, lr: 0.00030\n",
      "Epoch 30/Step 460, Loss: 0.00171, Accuracy: 0.99891, F1: 0.5832, Prec: 0.4837, Rec: 0.7365, lr: 0.00030\n",
      "Epoch finished. Start validation\n",
      "Validation acc: 0.9985\n",
      "Validation f1: 0.4473\n",
      "Validation precision: 0.3800\n",
      "Validation recall: 0.5467\n",
      "\n",
      "Start of epoch 31\n",
      "Epoch 31/Step 0, Loss: 0.00152, Accuracy: 0.99903, F1: 0.6131, Prec: 0.5122, Rec: 0.7635, lr: 0.00030\n",
      "Epoch 31/Step 20, Loss: 0.00203, Accuracy: 0.99895, F1: 0.5847, Prec: 0.4835, Rec: 0.7420, lr: 0.00030\n",
      "Epoch 31/Step 40, Loss: 0.00127, Accuracy: 0.99894, F1: 0.5826, Prec: 0.4835, Rec: 0.7350, lr: 0.00030\n",
      "Epoch 31/Step 60, Loss: 0.00150, Accuracy: 0.99893, F1: 0.5821, Prec: 0.4829, Rec: 0.7349, lr: 0.00030\n",
      "Epoch 31/Step 80, Loss: 0.00142, Accuracy: 0.99892, F1: 0.5818, Prec: 0.4825, Rec: 0.7352, lr: 0.00030\n",
      "Epoch 31/Step 100, Loss: 0.00211, Accuracy: 0.99893, F1: 0.5818, Prec: 0.4821, Rec: 0.7363, lr: 0.00030\n",
      "Epoch 31/Step 120, Loss: 0.00184, Accuracy: 0.99893, F1: 0.5819, Prec: 0.4828, Rec: 0.7349, lr: 0.00030\n",
      "Epoch 31/Step 140, Loss: 0.00163, Accuracy: 0.99892, F1: 0.5798, Prec: 0.4804, Rec: 0.7334, lr: 0.00030\n",
      "Epoch 31/Step 160, Loss: 0.00182, Accuracy: 0.99892, F1: 0.5805, Prec: 0.4815, Rec: 0.7333, lr: 0.00030\n",
      "Epoch 31/Step 180, Loss: 0.00136, Accuracy: 0.99892, F1: 0.5813, Prec: 0.4824, Rec: 0.7337, lr: 0.00030\n",
      "Epoch 31/Step 200, Loss: 0.00142, Accuracy: 0.99892, F1: 0.5808, Prec: 0.4817, Rec: 0.7340, lr: 0.00030\n",
      "Epoch 31/Step 220, Loss: 0.00139, Accuracy: 0.99892, F1: 0.5829, Prec: 0.4842, Rec: 0.7348, lr: 0.00030\n",
      "Epoch 31/Step 240, Loss: 0.00192, Accuracy: 0.99892, F1: 0.5830, Prec: 0.4840, Rec: 0.7355, lr: 0.00030\n",
      "Epoch 31/Step 260, Loss: 0.00157, Accuracy: 0.99892, F1: 0.5825, Prec: 0.4835, Rec: 0.7351, lr: 0.00030\n",
      "Epoch 31/Step 280, Loss: 0.00146, Accuracy: 0.99891, F1: 0.5832, Prec: 0.4843, Rec: 0.7354, lr: 0.00030\n",
      "Epoch 31/Step 300, Loss: 0.00175, Accuracy: 0.99891, F1: 0.5836, Prec: 0.4850, Rec: 0.7352, lr: 0.00030\n",
      "Epoch 31/Step 320, Loss: 0.00173, Accuracy: 0.99891, F1: 0.5835, Prec: 0.4849, Rec: 0.7353, lr: 0.00030\n",
      "Epoch 31/Step 340, Loss: 0.00154, Accuracy: 0.99892, F1: 0.5834, Prec: 0.4846, Rec: 0.7352, lr: 0.00030\n",
      "Epoch 31/Step 360, Loss: 0.00179, Accuracy: 0.99892, F1: 0.5844, Prec: 0.4858, Rec: 0.7357, lr: 0.00030\n",
      "Epoch 31/Step 380, Loss: 0.00146, Accuracy: 0.99892, F1: 0.5844, Prec: 0.4858, Rec: 0.7356, lr: 0.00030\n",
      "Epoch 31/Step 400, Loss: 0.00158, Accuracy: 0.99891, F1: 0.5848, Prec: 0.4862, Rec: 0.7362, lr: 0.00030\n",
      "Epoch 31/Step 420, Loss: 0.00144, Accuracy: 0.99892, F1: 0.5851, Prec: 0.4865, Rec: 0.7365, lr: 0.00030\n",
      "Epoch 31/Step 440, Loss: 0.00172, Accuracy: 0.99892, F1: 0.5858, Prec: 0.4870, Rec: 0.7371, lr: 0.00030\n",
      "Epoch 31/Step 460, Loss: 0.00181, Accuracy: 0.99892, F1: 0.5865, Prec: 0.4879, Rec: 0.7375, lr: 0.00030\n",
      "Epoch finished. Start validation\n",
      "Validation acc: 0.9985\n",
      "Validation f1: 0.4490\n",
      "Validation precision: 0.3908\n",
      "Validation recall: 0.5310\n",
      "WARNING:tensorflow:Compiled the loaded model, but the compiled metrics have yet to be built. `model.compile_metrics` will be empty until you train or evaluate the model.\n"
     ]
    },
    {
     "name": "stderr",
     "output_type": "stream",
     "text": [
      "WARNING:tensorflow:Compiled the loaded model, but the compiled metrics have yet to be built. `model.compile_metrics` will be empty until you train or evaluate the model.\n"
     ]
    },
    {
     "name": "stdout",
     "output_type": "stream",
     "text": [
      "INFO:tensorflow:Assets written to: /mnt/e/ML/cafa-5-protein-function-prediction/model_BPO_epoch_30_valF1Score0.4490/assets\n"
     ]
    },
    {
     "name": "stderr",
     "output_type": "stream",
     "text": [
      "INFO:tensorflow:Assets written to: /mnt/e/ML/cafa-5-protein-function-prediction/model_BPO_epoch_30_valF1Score0.4490/assets\n"
     ]
    },
    {
     "name": "stdout",
     "output_type": "stream",
     "text": [
      "\n",
      "Start of epoch 32\n",
      "Epoch 32/Step 0, Loss: 0.00147, Accuracy: 0.99902, F1: 0.6060, Prec: 0.5073, Rec: 0.7524, lr: 0.00030\n",
      "Epoch 32/Step 20, Loss: 0.00203, Accuracy: 0.99896, F1: 0.5958, Prec: 0.4925, Rec: 0.7555, lr: 0.00030\n",
      "Epoch 32/Step 40, Loss: 0.00121, Accuracy: 0.99895, F1: 0.5924, Prec: 0.4919, Rec: 0.7462, lr: 0.00030\n",
      "Epoch 32/Step 60, Loss: 0.00149, Accuracy: 0.99894, F1: 0.5878, Prec: 0.4892, Rec: 0.7381, lr: 0.00030\n",
      "Epoch 32/Step 80, Loss: 0.00147, Accuracy: 0.99893, F1: 0.5875, Prec: 0.4883, Rec: 0.7394, lr: 0.00030\n",
      "Epoch 32/Step 100, Loss: 0.00206, Accuracy: 0.99894, F1: 0.5873, Prec: 0.4885, Rec: 0.7386, lr: 0.00030\n",
      "Epoch 32/Step 120, Loss: 0.00172, Accuracy: 0.99894, F1: 0.5882, Prec: 0.4892, Rec: 0.7398, lr: 0.00030\n",
      "Epoch 32/Step 140, Loss: 0.00162, Accuracy: 0.99893, F1: 0.5870, Prec: 0.4878, Rec: 0.7390, lr: 0.00030\n",
      "Epoch 32/Step 160, Loss: 0.00178, Accuracy: 0.99893, F1: 0.5875, Prec: 0.4886, Rec: 0.7393, lr: 0.00030\n",
      "Epoch 32/Step 180, Loss: 0.00140, Accuracy: 0.99894, F1: 0.5887, Prec: 0.4898, Rec: 0.7403, lr: 0.00030\n",
      "Epoch 32/Step 200, Loss: 0.00141, Accuracy: 0.99893, F1: 0.5894, Prec: 0.4902, Rec: 0.7413, lr: 0.00030\n",
      "Epoch 32/Step 220, Loss: 0.00137, Accuracy: 0.99893, F1: 0.5904, Prec: 0.4916, Rec: 0.7413, lr: 0.00030\n",
      "Epoch 32/Step 240, Loss: 0.00199, Accuracy: 0.99893, F1: 0.5899, Prec: 0.4912, Rec: 0.7407, lr: 0.00030\n",
      "Epoch 32/Step 260, Loss: 0.00157, Accuracy: 0.99893, F1: 0.5898, Prec: 0.4911, Rec: 0.7406, lr: 0.00030\n",
      "Epoch 32/Step 280, Loss: 0.00133, Accuracy: 0.99892, F1: 0.5909, Prec: 0.4924, Rec: 0.7410, lr: 0.00030\n",
      "Epoch 32/Step 300, Loss: 0.00156, Accuracy: 0.99893, F1: 0.5914, Prec: 0.4931, Rec: 0.7410, lr: 0.00030\n",
      "Epoch 32/Step 320, Loss: 0.00163, Accuracy: 0.99893, F1: 0.5916, Prec: 0.4934, Rec: 0.7410, lr: 0.00030\n",
      "Epoch 32/Step 340, Loss: 0.00163, Accuracy: 0.99893, F1: 0.5913, Prec: 0.4929, Rec: 0.7413, lr: 0.00030\n",
      "Epoch 32/Step 360, Loss: 0.00172, Accuracy: 0.99893, F1: 0.5923, Prec: 0.4940, Rec: 0.7417, lr: 0.00030\n",
      "Epoch 32/Step 380, Loss: 0.00153, Accuracy: 0.99893, F1: 0.5920, Prec: 0.4937, Rec: 0.7413, lr: 0.00030\n",
      "Epoch 32/Step 400, Loss: 0.00159, Accuracy: 0.99893, F1: 0.5922, Prec: 0.4940, Rec: 0.7415, lr: 0.00030\n",
      "Epoch 32/Step 420, Loss: 0.00153, Accuracy: 0.99893, F1: 0.5925, Prec: 0.4941, Rec: 0.7420, lr: 0.00030\n",
      "Epoch 32/Step 440, Loss: 0.00171, Accuracy: 0.99893, F1: 0.5930, Prec: 0.4949, Rec: 0.7420, lr: 0.00030\n",
      "Epoch 32/Step 460, Loss: 0.00165, Accuracy: 0.99893, F1: 0.5935, Prec: 0.4954, Rec: 0.7425, lr: 0.00030\n",
      "Epoch finished. Start validation\n",
      "Validation acc: 0.9985\n",
      "Validation f1: 0.4487\n",
      "Validation precision: 0.3886\n",
      "Validation recall: 0.5342\n",
      "\n",
      "Start of epoch 33\n",
      "Epoch 33/Step 0, Loss: 0.00145, Accuracy: 0.99906, F1: 0.6077, Prec: 0.5112, Rec: 0.7491, lr: 0.00030\n",
      "Epoch 33/Step 20, Loss: 0.00192, Accuracy: 0.99897, F1: 0.5980, Prec: 0.5021, Rec: 0.7409, lr: 0.00030\n",
      "Epoch 33/Step 40, Loss: 0.00118, Accuracy: 0.99896, F1: 0.5944, Prec: 0.5006, Rec: 0.7335, lr: 0.00030\n",
      "Epoch 33/Step 60, Loss: 0.00156, Accuracy: 0.99894, F1: 0.5911, Prec: 0.4970, Rec: 0.7313, lr: 0.00030\n",
      "Epoch 33/Step 80, Loss: 0.00138, Accuracy: 0.99894, F1: 0.5920, Prec: 0.4973, Rec: 0.7335, lr: 0.00030\n",
      "Epoch 33/Step 100, Loss: 0.00212, Accuracy: 0.99894, F1: 0.5919, Prec: 0.4962, Rec: 0.7359, lr: 0.00030\n",
      "Epoch 33/Step 120, Loss: 0.00175, Accuracy: 0.99894, F1: 0.5928, Prec: 0.4967, Rec: 0.7372, lr: 0.00030\n",
      "Epoch 33/Step 140, Loss: 0.00155, Accuracy: 0.99894, F1: 0.5912, Prec: 0.4944, Rec: 0.7375, lr: 0.00030\n",
      "Epoch 33/Step 160, Loss: 0.00164, Accuracy: 0.99894, F1: 0.5920, Prec: 0.4956, Rec: 0.7372, lr: 0.00030\n",
      "Epoch 33/Step 180, Loss: 0.00135, Accuracy: 0.99894, F1: 0.5928, Prec: 0.4966, Rec: 0.7373, lr: 0.00030\n",
      "Epoch 33/Step 200, Loss: 0.00146, Accuracy: 0.99894, F1: 0.5931, Prec: 0.4965, Rec: 0.7386, lr: 0.00030\n",
      "Epoch 33/Step 220, Loss: 0.00131, Accuracy: 0.99894, F1: 0.5949, Prec: 0.4984, Rec: 0.7398, lr: 0.00030\n",
      "Epoch 33/Step 240, Loss: 0.00184, Accuracy: 0.99894, F1: 0.5949, Prec: 0.4985, Rec: 0.7399, lr: 0.00030\n",
      "Epoch 33/Step 260, Loss: 0.00156, Accuracy: 0.99894, F1: 0.5946, Prec: 0.4981, Rec: 0.7399, lr: 0.00030\n",
      "Epoch 33/Step 280, Loss: 0.00136, Accuracy: 0.99893, F1: 0.5953, Prec: 0.4988, Rec: 0.7405, lr: 0.00030\n",
      "Epoch 33/Step 300, Loss: 0.00161, Accuracy: 0.99893, F1: 0.5961, Prec: 0.4997, Rec: 0.7410, lr: 0.00030\n",
      "Epoch 33/Step 320, Loss: 0.00162, Accuracy: 0.99893, F1: 0.5959, Prec: 0.4994, Rec: 0.7409, lr: 0.00030\n",
      "Epoch 33/Step 340, Loss: 0.00161, Accuracy: 0.99893, F1: 0.5960, Prec: 0.4995, Rec: 0.7410, lr: 0.00030\n",
      "Epoch 33/Step 360, Loss: 0.00182, Accuracy: 0.99894, F1: 0.5970, Prec: 0.5006, Rec: 0.7415, lr: 0.00030\n",
      "Epoch 33/Step 380, Loss: 0.00152, Accuracy: 0.99894, F1: 0.5967, Prec: 0.5005, Rec: 0.7410, lr: 0.00030\n",
      "Epoch 33/Step 400, Loss: 0.00149, Accuracy: 0.99893, F1: 0.5970, Prec: 0.5008, Rec: 0.7412, lr: 0.00030\n",
      "Epoch 33/Step 420, Loss: 0.00140, Accuracy: 0.99893, F1: 0.5969, Prec: 0.5006, Rec: 0.7415, lr: 0.00030\n",
      "Epoch 33/Step 440, Loss: 0.00162, Accuracy: 0.99894, F1: 0.5973, Prec: 0.5011, Rec: 0.7415, lr: 0.00030\n",
      "Epoch 33/Step 460, Loss: 0.00170, Accuracy: 0.99894, F1: 0.5977, Prec: 0.5017, Rec: 0.7414, lr: 0.00030\n",
      "Epoch finished. Start validation\n",
      "Validation acc: 0.9985\n",
      "Validation f1: 0.4458\n",
      "Validation precision: 0.3769\n",
      "Validation recall: 0.5487\n",
      "\n",
      "Start of epoch 34\n",
      "Epoch 34/Step 0, Loss: 0.00147, Accuracy: 0.99909, F1: 0.6113, Prec: 0.5203, Rec: 0.7410, lr: 0.00030\n",
      "Epoch 34/Step 20, Loss: 0.00195, Accuracy: 0.99899, F1: 0.6040, Prec: 0.5021, Rec: 0.7604, lr: 0.00030\n",
      "Epoch 34/Step 40, Loss: 0.00118, Accuracy: 0.99897, F1: 0.6009, Prec: 0.5026, Rec: 0.7495, lr: 0.00030\n",
      "Epoch 34/Step 60, Loss: 0.00148, Accuracy: 0.99896, F1: 0.6003, Prec: 0.5039, Rec: 0.7449, lr: 0.00030\n",
      "Epoch 34/Step 80, Loss: 0.00141, Accuracy: 0.99896, F1: 0.6003, Prec: 0.5036, Rec: 0.7458, lr: 0.00030\n",
      "Epoch 34/Step 100, Loss: 0.00216, Accuracy: 0.99896, F1: 0.6017, Prec: 0.5053, Rec: 0.7466, lr: 0.00030\n",
      "Epoch 34/Step 120, Loss: 0.00174, Accuracy: 0.99896, F1: 0.6012, Prec: 0.5045, Rec: 0.7463, lr: 0.00030\n",
      "Epoch 34/Step 140, Loss: 0.00159, Accuracy: 0.99895, F1: 0.6002, Prec: 0.5038, Rec: 0.7448, lr: 0.00030\n",
      "Epoch 34/Step 160, Loss: 0.00173, Accuracy: 0.99895, F1: 0.6000, Prec: 0.5038, Rec: 0.7443, lr: 0.00030\n",
      "Epoch 34/Step 180, Loss: 0.00133, Accuracy: 0.99896, F1: 0.6007, Prec: 0.5047, Rec: 0.7444, lr: 0.00030\n",
      "Epoch 34/Step 200, Loss: 0.00130, Accuracy: 0.99895, F1: 0.6006, Prec: 0.5046, Rec: 0.7441, lr: 0.00030\n",
      "Epoch 34/Step 220, Loss: 0.00132, Accuracy: 0.99895, F1: 0.6022, Prec: 0.5063, Rec: 0.7453, lr: 0.00030\n",
      "Epoch 34/Step 240, Loss: 0.00192, Accuracy: 0.99895, F1: 0.6018, Prec: 0.5059, Rec: 0.7450, lr: 0.00030\n",
      "Epoch 34/Step 260, Loss: 0.00160, Accuracy: 0.99895, F1: 0.6011, Prec: 0.5052, Rec: 0.7444, lr: 0.00030\n",
      "Epoch 34/Step 280, Loss: 0.00134, Accuracy: 0.99895, F1: 0.6022, Prec: 0.5064, Rec: 0.7450, lr: 0.00030\n",
      "Epoch 34/Step 300, Loss: 0.00169, Accuracy: 0.99895, F1: 0.6024, Prec: 0.5070, Rec: 0.7444, lr: 0.00030\n",
      "Epoch 34/Step 320, Loss: 0.00157, Accuracy: 0.99895, F1: 0.6026, Prec: 0.5071, Rec: 0.7447, lr: 0.00030\n",
      "Epoch 34/Step 340, Loss: 0.00164, Accuracy: 0.99895, F1: 0.6022, Prec: 0.5067, Rec: 0.7443, lr: 0.00030\n",
      "Epoch 34/Step 360, Loss: 0.00171, Accuracy: 0.99895, F1: 0.6027, Prec: 0.5073, Rec: 0.7445, lr: 0.00030\n",
      "Epoch 34/Step 380, Loss: 0.00144, Accuracy: 0.99895, F1: 0.6026, Prec: 0.5074, Rec: 0.7440, lr: 0.00030\n",
      "Epoch 34/Step 400, Loss: 0.00148, Accuracy: 0.99895, F1: 0.6031, Prec: 0.5077, Rec: 0.7447, lr: 0.00030\n",
      "Epoch 34/Step 420, Loss: 0.00137, Accuracy: 0.99895, F1: 0.6031, Prec: 0.5079, Rec: 0.7445, lr: 0.00030\n",
      "Epoch 34/Step 440, Loss: 0.00167, Accuracy: 0.99895, F1: 0.6034, Prec: 0.5082, Rec: 0.7448, lr: 0.00030\n",
      "Epoch 34/Step 460, Loss: 0.00159, Accuracy: 0.99895, F1: 0.6038, Prec: 0.5084, Rec: 0.7454, lr: 0.00030\n",
      "Epoch finished. Start validation\n",
      "Validation acc: 0.9985\n",
      "Validation f1: 0.4519\n",
      "Validation precision: 0.3963\n",
      "Validation recall: 0.5287\n",
      "WARNING:tensorflow:Compiled the loaded model, but the compiled metrics have yet to be built. `model.compile_metrics` will be empty until you train or evaluate the model.\n"
     ]
    },
    {
     "name": "stderr",
     "output_type": "stream",
     "text": [
      "WARNING:tensorflow:Compiled the loaded model, but the compiled metrics have yet to be built. `model.compile_metrics` will be empty until you train or evaluate the model.\n"
     ]
    },
    {
     "name": "stdout",
     "output_type": "stream",
     "text": [
      "INFO:tensorflow:Assets written to: /mnt/e/ML/cafa-5-protein-function-prediction/model_BPO_epoch_33_valF1Score0.4519/assets\n"
     ]
    },
    {
     "name": "stderr",
     "output_type": "stream",
     "text": [
      "INFO:tensorflow:Assets written to: /mnt/e/ML/cafa-5-protein-function-prediction/model_BPO_epoch_33_valF1Score0.4519/assets\n"
     ]
    },
    {
     "name": "stdout",
     "output_type": "stream",
     "text": [
      "\n",
      "Start of epoch 35\n",
      "Epoch 35/Step 0, Loss: 0.00138, Accuracy: 0.99907, F1: 0.5992, Prec: 0.5132, Rec: 0.7198, lr: 0.00030\n",
      "Epoch 35/Step 20, Loss: 0.00190, Accuracy: 0.99898, F1: 0.6045, Prec: 0.5066, Rec: 0.7508, lr: 0.00030\n",
      "Epoch 35/Step 40, Loss: 0.00116, Accuracy: 0.99897, F1: 0.6051, Prec: 0.5095, Rec: 0.7465, lr: 0.00030\n",
      "Epoch 35/Step 60, Loss: 0.00149, Accuracy: 0.99896, F1: 0.6041, Prec: 0.5092, Rec: 0.7441, lr: 0.00030\n",
      "Epoch 35/Step 80, Loss: 0.00155, Accuracy: 0.99896, F1: 0.6039, Prec: 0.5090, Rec: 0.7441, lr: 0.00030\n",
      "Epoch 35/Step 100, Loss: 0.00194, Accuracy: 0.99896, F1: 0.6028, Prec: 0.5078, Rec: 0.7437, lr: 0.00030\n",
      "Epoch 35/Step 120, Loss: 0.00178, Accuracy: 0.99897, F1: 0.6030, Prec: 0.5080, Rec: 0.7437, lr: 0.00030\n",
      "Epoch 35/Step 140, Loss: 0.00162, Accuracy: 0.99896, F1: 0.6020, Prec: 0.5068, Rec: 0.7433, lr: 0.00030\n",
      "Epoch 35/Step 160, Loss: 0.00159, Accuracy: 0.99896, F1: 0.6022, Prec: 0.5071, Rec: 0.7434, lr: 0.00030\n",
      "Epoch 35/Step 180, Loss: 0.00137, Accuracy: 0.99896, F1: 0.6032, Prec: 0.5082, Rec: 0.7441, lr: 0.00030\n",
      "Epoch 35/Step 200, Loss: 0.00141, Accuracy: 0.99896, F1: 0.6036, Prec: 0.5087, Rec: 0.7441, lr: 0.00030\n",
      "Epoch 35/Step 220, Loss: 0.00134, Accuracy: 0.99896, F1: 0.6047, Prec: 0.5099, Rec: 0.7449, lr: 0.00030\n",
      "Epoch 35/Step 240, Loss: 0.00187, Accuracy: 0.99896, F1: 0.6041, Prec: 0.5092, Rec: 0.7444, lr: 0.00030\n",
      "Epoch 35/Step 260, Loss: 0.00150, Accuracy: 0.99896, F1: 0.6040, Prec: 0.5094, Rec: 0.7439, lr: 0.00030\n",
      "Epoch 35/Step 280, Loss: 0.00129, Accuracy: 0.99895, F1: 0.6051, Prec: 0.5106, Rec: 0.7444, lr: 0.00030\n",
      "Epoch 35/Step 300, Loss: 0.00156, Accuracy: 0.99895, F1: 0.6052, Prec: 0.5108, Rec: 0.7446, lr: 0.00030\n",
      "Epoch 35/Step 320, Loss: 0.00169, Accuracy: 0.99895, F1: 0.6052, Prec: 0.5107, Rec: 0.7448, lr: 0.00030\n",
      "Epoch 35/Step 340, Loss: 0.00156, Accuracy: 0.99895, F1: 0.6046, Prec: 0.5101, Rec: 0.7443, lr: 0.00030\n",
      "Epoch 35/Step 360, Loss: 0.00170, Accuracy: 0.99896, F1: 0.6061, Prec: 0.5119, Rec: 0.7449, lr: 0.00030\n",
      "Epoch 35/Step 380, Loss: 0.00145, Accuracy: 0.99895, F1: 0.6059, Prec: 0.5116, Rec: 0.7451, lr: 0.00030\n",
      "Epoch 35/Step 400, Loss: 0.00148, Accuracy: 0.99895, F1: 0.6065, Prec: 0.5121, Rec: 0.7458, lr: 0.00030\n",
      "Epoch 35/Step 420, Loss: 0.00141, Accuracy: 0.99895, F1: 0.6067, Prec: 0.5123, Rec: 0.7459, lr: 0.00030\n",
      "Epoch 35/Step 440, Loss: 0.00157, Accuracy: 0.99895, F1: 0.6072, Prec: 0.5129, Rec: 0.7462, lr: 0.00030\n",
      "Epoch 35/Step 460, Loss: 0.00168, Accuracy: 0.99895, F1: 0.6071, Prec: 0.5129, Rec: 0.7460, lr: 0.00030\n",
      "Epoch finished. Start validation\n",
      "Validation acc: 0.9985\n",
      "Validation f1: 0.4507\n",
      "Validation precision: 0.3898\n",
      "Validation recall: 0.5374\n",
      "\n",
      "Start of epoch 36\n",
      "Epoch 36/Step 0, Loss: 0.00136, Accuracy: 0.99906, F1: 0.5997, Prec: 0.5099, Rec: 0.7280, lr: 0.00030\n",
      "Epoch 36/Step 20, Loss: 0.00190, Accuracy: 0.99899, F1: 0.6139, Prec: 0.5221, Rec: 0.7468, lr: 0.00030\n",
      "Epoch 36/Step 40, Loss: 0.00108, Accuracy: 0.99898, F1: 0.6080, Prec: 0.5143, Rec: 0.7454, lr: 0.00030\n",
      "Epoch 36/Step 60, Loss: 0.00147, Accuracy: 0.99897, F1: 0.6064, Prec: 0.5138, Rec: 0.7416, lr: 0.00030\n",
      "Epoch 36/Step 80, Loss: 0.00142, Accuracy: 0.99897, F1: 0.6075, Prec: 0.5143, Rec: 0.7439, lr: 0.00030\n",
      "Epoch 36/Step 100, Loss: 0.00194, Accuracy: 0.99897, F1: 0.6076, Prec: 0.5145, Rec: 0.7447, lr: 0.00030\n",
      "Epoch 36/Step 120, Loss: 0.00167, Accuracy: 0.99897, F1: 0.6087, Prec: 0.5154, Rec: 0.7457, lr: 0.00030\n",
      "Epoch 36/Step 140, Loss: 0.00150, Accuracy: 0.99897, F1: 0.6072, Prec: 0.5131, Rec: 0.7460, lr: 0.00030\n",
      "Epoch 36/Step 160, Loss: 0.00169, Accuracy: 0.99897, F1: 0.6077, Prec: 0.5137, Rec: 0.7464, lr: 0.00030\n",
      "Epoch 36/Step 180, Loss: 0.00133, Accuracy: 0.99897, F1: 0.6088, Prec: 0.5149, Rec: 0.7473, lr: 0.00030\n",
      "Epoch 36/Step 200, Loss: 0.00144, Accuracy: 0.99897, F1: 0.6081, Prec: 0.5137, Rec: 0.7476, lr: 0.00030\n",
      "Epoch 36/Step 220, Loss: 0.00121, Accuracy: 0.99897, F1: 0.6098, Prec: 0.5156, Rec: 0.7486, lr: 0.00030\n",
      "Epoch 36/Step 240, Loss: 0.00177, Accuracy: 0.99897, F1: 0.6093, Prec: 0.5150, Rec: 0.7483, lr: 0.00030\n",
      "Epoch 36/Step 260, Loss: 0.00151, Accuracy: 0.99897, F1: 0.6089, Prec: 0.5149, Rec: 0.7476, lr: 0.00030\n",
      "Epoch 36/Step 280, Loss: 0.00123, Accuracy: 0.99896, F1: 0.6097, Prec: 0.5157, Rec: 0.7482, lr: 0.00030\n",
      "Epoch 36/Step 300, Loss: 0.00159, Accuracy: 0.99896, F1: 0.6110, Prec: 0.5172, Rec: 0.7489, lr: 0.00030\n",
      "Epoch 36/Step 320, Loss: 0.00159, Accuracy: 0.99896, F1: 0.6112, Prec: 0.5175, Rec: 0.7489, lr: 0.00030\n",
      "Epoch 36/Step 340, Loss: 0.00144, Accuracy: 0.99896, F1: 0.6107, Prec: 0.5168, Rec: 0.7487, lr: 0.00030\n",
      "Epoch 36/Step 360, Loss: 0.00162, Accuracy: 0.99897, F1: 0.6112, Prec: 0.5176, Rec: 0.7485, lr: 0.00030\n",
      "Epoch 36/Step 380, Loss: 0.00139, Accuracy: 0.99896, F1: 0.6110, Prec: 0.5175, Rec: 0.7481, lr: 0.00030\n",
      "Epoch 36/Step 400, Loss: 0.00144, Accuracy: 0.99896, F1: 0.6113, Prec: 0.5175, Rec: 0.7488, lr: 0.00030\n",
      "Epoch 36/Step 420, Loss: 0.00139, Accuracy: 0.99896, F1: 0.6118, Prec: 0.5182, Rec: 0.7489, lr: 0.00030\n",
      "Epoch 36/Step 440, Loss: 0.00167, Accuracy: 0.99896, F1: 0.6122, Prec: 0.5187, Rec: 0.7491, lr: 0.00030\n",
      "Epoch 36/Step 460, Loss: 0.00169, Accuracy: 0.99896, F1: 0.6128, Prec: 0.5194, Rec: 0.7492, lr: 0.00030\n",
      "Epoch finished. Start validation\n",
      "Validation acc: 0.9985\n",
      "Validation f1: 0.4502\n",
      "Validation precision: 0.3924\n",
      "Validation recall: 0.5312\n",
      "\n",
      "Start of epoch 37\n",
      "Epoch 37/Step 0, Loss: 0.00142, Accuracy: 0.99907, F1: 0.6194, Prec: 0.5211, Rec: 0.7633, lr: 0.00030\n",
      "Epoch 37/Step 20, Loss: 0.00180, Accuracy: 0.99900, F1: 0.6156, Prec: 0.5176, Rec: 0.7620, lr: 0.00030\n",
      "Epoch 37/Step 40, Loss: 0.00110, Accuracy: 0.99899, F1: 0.6165, Prec: 0.5235, Rec: 0.7521, lr: 0.00030\n",
      "Epoch 37/Step 60, Loss: 0.00150, Accuracy: 0.99898, F1: 0.6130, Prec: 0.5197, Rec: 0.7495, lr: 0.00030\n",
      "Epoch 37/Step 80, Loss: 0.00135, Accuracy: 0.99898, F1: 0.6128, Prec: 0.5195, Rec: 0.7492, lr: 0.00030\n",
      "Epoch 37/Step 100, Loss: 0.00189, Accuracy: 0.99898, F1: 0.6127, Prec: 0.5193, Rec: 0.7494, lr: 0.00030\n",
      "Epoch 37/Step 120, Loss: 0.00173, Accuracy: 0.99898, F1: 0.6130, Prec: 0.5195, Rec: 0.7495, lr: 0.00030\n",
      "Epoch 37/Step 140, Loss: 0.00151, Accuracy: 0.99897, F1: 0.6117, Prec: 0.5179, Rec: 0.7489, lr: 0.00030\n",
      "Epoch 37/Step 160, Loss: 0.00159, Accuracy: 0.99897, F1: 0.6122, Prec: 0.5185, Rec: 0.7492, lr: 0.00030\n",
      "Epoch 37/Step 180, Loss: 0.00133, Accuracy: 0.99898, F1: 0.6136, Prec: 0.5200, Rec: 0.7505, lr: 0.00030\n",
      "Epoch 37/Step 200, Loss: 0.00137, Accuracy: 0.99897, F1: 0.6132, Prec: 0.5191, Rec: 0.7509, lr: 0.00030\n",
      "Epoch 37/Step 220, Loss: 0.00132, Accuracy: 0.99897, F1: 0.6138, Prec: 0.5199, Rec: 0.7511, lr: 0.00030\n",
      "Epoch 37/Step 240, Loss: 0.00191, Accuracy: 0.99897, F1: 0.6137, Prec: 0.5197, Rec: 0.7511, lr: 0.00030\n",
      "Epoch 37/Step 260, Loss: 0.00149, Accuracy: 0.99897, F1: 0.6137, Prec: 0.5196, Rec: 0.7512, lr: 0.00030\n",
      "Epoch 37/Step 280, Loss: 0.00123, Accuracy: 0.99897, F1: 0.6142, Prec: 0.5203, Rec: 0.7514, lr: 0.00030\n",
      "Epoch 37/Step 300, Loss: 0.00155, Accuracy: 0.99897, F1: 0.6147, Prec: 0.5214, Rec: 0.7509, lr: 0.00030\n",
      "Epoch 37/Step 320, Loss: 0.00167, Accuracy: 0.99897, F1: 0.6147, Prec: 0.5212, Rec: 0.7512, lr: 0.00030\n",
      "Epoch 37/Step 340, Loss: 0.00153, Accuracy: 0.99897, F1: 0.6143, Prec: 0.5208, Rec: 0.7505, lr: 0.00030\n",
      "Epoch 37/Step 360, Loss: 0.00173, Accuracy: 0.99897, F1: 0.6149, Prec: 0.5218, Rec: 0.7506, lr: 0.00030\n",
      "Epoch 37/Step 380, Loss: 0.00147, Accuracy: 0.99897, F1: 0.6147, Prec: 0.5215, Rec: 0.7506, lr: 0.00030\n",
      "Epoch 37/Step 400, Loss: 0.00140, Accuracy: 0.99896, F1: 0.6150, Prec: 0.5219, Rec: 0.7504, lr: 0.00030\n",
      "Epoch 37/Step 420, Loss: 0.00140, Accuracy: 0.99897, F1: 0.6149, Prec: 0.5219, Rec: 0.7503, lr: 0.00030\n",
      "Epoch 37/Step 440, Loss: 0.00153, Accuracy: 0.99897, F1: 0.6154, Prec: 0.5226, Rec: 0.7504, lr: 0.00030\n",
      "Epoch 37/Step 460, Loss: 0.00170, Accuracy: 0.99897, F1: 0.6155, Prec: 0.5226, Rec: 0.7507, lr: 0.00030\n",
      "Epoch finished. Start validation\n",
      "Validation acc: 0.9985\n",
      "Validation f1: 0.4543\n",
      "Validation precision: 0.4015\n",
      "Validation recall: 0.5259\n",
      "WARNING:tensorflow:Compiled the loaded model, but the compiled metrics have yet to be built. `model.compile_metrics` will be empty until you train or evaluate the model.\n"
     ]
    },
    {
     "name": "stderr",
     "output_type": "stream",
     "text": [
      "WARNING:tensorflow:Compiled the loaded model, but the compiled metrics have yet to be built. `model.compile_metrics` will be empty until you train or evaluate the model.\n"
     ]
    },
    {
     "name": "stdout",
     "output_type": "stream",
     "text": [
      "INFO:tensorflow:Assets written to: /mnt/e/ML/cafa-5-protein-function-prediction/model_BPO_epoch_36_valF1Score0.4543/assets\n"
     ]
    },
    {
     "name": "stderr",
     "output_type": "stream",
     "text": [
      "INFO:tensorflow:Assets written to: /mnt/e/ML/cafa-5-protein-function-prediction/model_BPO_epoch_36_valF1Score0.4543/assets\n"
     ]
    },
    {
     "name": "stdout",
     "output_type": "stream",
     "text": [
      "\n",
      "Start of epoch 38\n",
      "Epoch 38/Step 0, Loss: 0.00133, Accuracy: 0.99913, F1: 0.6361, Prec: 0.5530, Rec: 0.7486, lr: 0.00030\n",
      "Epoch 38/Step 20, Loss: 0.00185, Accuracy: 0.99903, F1: 0.6204, Prec: 0.5274, Rec: 0.7546, lr: 0.00030\n",
      "Epoch 38/Step 40, Loss: 0.00116, Accuracy: 0.99900, F1: 0.6178, Prec: 0.5250, Rec: 0.7519, lr: 0.00030\n",
      "Epoch 38/Step 60, Loss: 0.00142, Accuracy: 0.99899, F1: 0.6164, Prec: 0.5240, Rec: 0.7502, lr: 0.00030\n",
      "Epoch 38/Step 80, Loss: 0.00132, Accuracy: 0.99899, F1: 0.6170, Prec: 0.5238, Rec: 0.7523, lr: 0.00030\n",
      "Epoch 38/Step 100, Loss: 0.00181, Accuracy: 0.99899, F1: 0.6179, Prec: 0.5255, Rec: 0.7519, lr: 0.00030\n",
      "Epoch 38/Step 120, Loss: 0.00185, Accuracy: 0.99899, F1: 0.6170, Prec: 0.5245, Rec: 0.7511, lr: 0.00030\n",
      "Epoch 38/Step 140, Loss: 0.00160, Accuracy: 0.99898, F1: 0.6155, Prec: 0.5230, Rec: 0.7499, lr: 0.00030\n",
      "Epoch 38/Step 160, Loss: 0.00162, Accuracy: 0.99898, F1: 0.6160, Prec: 0.5237, Rec: 0.7501, lr: 0.00030\n",
      "Epoch 38/Step 180, Loss: 0.00129, Accuracy: 0.99899, F1: 0.6172, Prec: 0.5250, Rec: 0.7509, lr: 0.00030\n",
      "Epoch 38/Step 200, Loss: 0.00129, Accuracy: 0.99898, F1: 0.6171, Prec: 0.5250, Rec: 0.7503, lr: 0.00030\n",
      "Epoch 38/Step 220, Loss: 0.00129, Accuracy: 0.99898, F1: 0.6185, Prec: 0.5264, Rec: 0.7517, lr: 0.00030\n",
      "Epoch 38/Step 240, Loss: 0.00175, Accuracy: 0.99898, F1: 0.6187, Prec: 0.5268, Rec: 0.7514, lr: 0.00030\n",
      "Epoch 38/Step 260, Loss: 0.00149, Accuracy: 0.99898, F1: 0.6184, Prec: 0.5266, Rec: 0.7510, lr: 0.00030\n",
      "Epoch 38/Step 280, Loss: 0.00138, Accuracy: 0.99897, F1: 0.6193, Prec: 0.5277, Rec: 0.7513, lr: 0.00030\n",
      "Epoch 38/Step 300, Loss: 0.00157, Accuracy: 0.99897, F1: 0.6192, Prec: 0.5278, Rec: 0.7508, lr: 0.00030\n",
      "Epoch 38/Step 320, Loss: 0.00166, Accuracy: 0.99898, F1: 0.6194, Prec: 0.5281, Rec: 0.7508, lr: 0.00030\n",
      "Epoch 38/Step 340, Loss: 0.00149, Accuracy: 0.99898, F1: 0.6185, Prec: 0.5269, Rec: 0.7508, lr: 0.00030\n",
      "Epoch 38/Step 360, Loss: 0.00169, Accuracy: 0.99898, F1: 0.6190, Prec: 0.5275, Rec: 0.7511, lr: 0.00030\n",
      "Epoch 38/Step 380, Loss: 0.00143, Accuracy: 0.99898, F1: 0.6184, Prec: 0.5266, Rec: 0.7511, lr: 0.00030\n",
      "Epoch 38/Step 400, Loss: 0.00139, Accuracy: 0.99897, F1: 0.6183, Prec: 0.5265, Rec: 0.7508, lr: 0.00030\n",
      "Epoch 38/Step 420, Loss: 0.00135, Accuracy: 0.99897, F1: 0.6186, Prec: 0.5267, Rec: 0.7511, lr: 0.00030\n",
      "Epoch 38/Step 440, Loss: 0.00155, Accuracy: 0.99897, F1: 0.6193, Prec: 0.5275, Rec: 0.7518, lr: 0.00030\n",
      "Epoch 38/Step 460, Loss: 0.00167, Accuracy: 0.99897, F1: 0.6196, Prec: 0.5279, Rec: 0.7519, lr: 0.00030\n",
      "Epoch finished. Start validation\n",
      "Validation acc: 0.9985\n",
      "Validation f1: 0.4526\n",
      "Validation precision: 0.3952\n",
      "Validation recall: 0.5324\n",
      "\n",
      "Start of epoch 39\n",
      "Epoch 39/Step 0, Loss: 0.00137, Accuracy: 0.99906, F1: 0.6026, Prec: 0.4915, Rec: 0.7785, lr: 0.00030\n",
      "Epoch 39/Step 20, Loss: 0.00181, Accuracy: 0.99901, F1: 0.6249, Prec: 0.5329, Rec: 0.7574, lr: 0.00030\n",
      "Epoch 39/Step 40, Loss: 0.00107, Accuracy: 0.99900, F1: 0.6209, Prec: 0.5291, Rec: 0.7534, lr: 0.00030\n",
      "Epoch 39/Step 60, Loss: 0.00144, Accuracy: 0.99899, F1: 0.6210, Prec: 0.5313, Rec: 0.7492, lr: 0.00030\n",
      "Epoch 39/Step 80, Loss: 0.00135, Accuracy: 0.99899, F1: 0.6215, Prec: 0.5319, Rec: 0.7496, lr: 0.00030\n",
      "Epoch 39/Step 100, Loss: 0.00180, Accuracy: 0.99899, F1: 0.6217, Prec: 0.5313, Rec: 0.7514, lr: 0.00030\n",
      "Epoch 39/Step 120, Loss: 0.00156, Accuracy: 0.99899, F1: 0.6216, Prec: 0.5304, Rec: 0.7528, lr: 0.00030\n",
      "Epoch 39/Step 140, Loss: 0.00149, Accuracy: 0.99899, F1: 0.6197, Prec: 0.5283, Rec: 0.7514, lr: 0.00030\n",
      "Epoch 39/Step 160, Loss: 0.00168, Accuracy: 0.99899, F1: 0.6207, Prec: 0.5292, Rec: 0.7527, lr: 0.00030\n",
      "Epoch 39/Step 180, Loss: 0.00135, Accuracy: 0.99899, F1: 0.6212, Prec: 0.5298, Rec: 0.7528, lr: 0.00030\n",
      "Epoch 39/Step 200, Loss: 0.00128, Accuracy: 0.99899, F1: 0.6214, Prec: 0.5299, Rec: 0.7532, lr: 0.00030\n",
      "Epoch 39/Step 220, Loss: 0.00124, Accuracy: 0.99899, F1: 0.6220, Prec: 0.5306, Rec: 0.7537, lr: 0.00030\n",
      "Epoch 39/Step 240, Loss: 0.00179, Accuracy: 0.99898, F1: 0.6213, Prec: 0.5300, Rec: 0.7528, lr: 0.00030\n",
      "Epoch 39/Step 260, Loss: 0.00140, Accuracy: 0.99899, F1: 0.6215, Prec: 0.5305, Rec: 0.7524, lr: 0.00030\n",
      "Epoch 39/Step 280, Loss: 0.00122, Accuracy: 0.99898, F1: 0.6218, Prec: 0.5309, Rec: 0.7527, lr: 0.00030\n",
      "Epoch 39/Step 300, Loss: 0.00159, Accuracy: 0.99898, F1: 0.6221, Prec: 0.5314, Rec: 0.7524, lr: 0.00030\n",
      "Epoch 39/Step 320, Loss: 0.00154, Accuracy: 0.99898, F1: 0.6223, Prec: 0.5315, Rec: 0.7525, lr: 0.00030\n",
      "Epoch 39/Step 340, Loss: 0.00146, Accuracy: 0.99898, F1: 0.6216, Prec: 0.5307, Rec: 0.7521, lr: 0.00030\n",
      "Epoch 39/Step 360, Loss: 0.00168, Accuracy: 0.99898, F1: 0.6226, Prec: 0.5319, Rec: 0.7526, lr: 0.00030\n",
      "Epoch 39/Step 380, Loss: 0.00133, Accuracy: 0.99898, F1: 0.6223, Prec: 0.5315, Rec: 0.7526, lr: 0.00030\n",
      "Epoch 39/Step 400, Loss: 0.00132, Accuracy: 0.99898, F1: 0.6227, Prec: 0.5319, Rec: 0.7529, lr: 0.00030\n",
      "Epoch 39/Step 420, Loss: 0.00124, Accuracy: 0.99898, F1: 0.6225, Prec: 0.5317, Rec: 0.7526, lr: 0.00030\n",
      "Epoch 39/Step 440, Loss: 0.00151, Accuracy: 0.99898, F1: 0.6232, Prec: 0.5325, Rec: 0.7532, lr: 0.00030\n",
      "Epoch 39/Step 460, Loss: 0.00153, Accuracy: 0.99898, F1: 0.6236, Prec: 0.5330, Rec: 0.7532, lr: 0.00030\n",
      "Epoch finished. Start validation\n",
      "Validation acc: 0.9985\n",
      "Validation f1: 0.4524\n",
      "Validation precision: 0.3967\n",
      "Validation recall: 0.5293\n",
      "\n",
      "Start of epoch 40\n",
      "Epoch 40/Step 0, Loss: 0.00129, Accuracy: 0.99917, F1: 0.6649, Prec: 0.5752, Rec: 0.7875, lr: 0.00030\n",
      "Epoch 40/Step 20, Loss: 0.00180, Accuracy: 0.99902, F1: 0.6261, Prec: 0.5359, Rec: 0.7541, lr: 0.00030\n",
      "Epoch 40/Step 40, Loss: 0.00108, Accuracy: 0.99900, F1: 0.6204, Prec: 0.5316, Rec: 0.7460, lr: 0.00030\n",
      "Epoch 40/Step 60, Loss: 0.00142, Accuracy: 0.99899, F1: 0.6206, Prec: 0.5320, Rec: 0.7460, lr: 0.00030\n",
      "Epoch 40/Step 80, Loss: 0.00132, Accuracy: 0.99899, F1: 0.6194, Prec: 0.5295, Rec: 0.7478, lr: 0.00030\n",
      "Epoch 40/Step 100, Loss: 0.00182, Accuracy: 0.99899, F1: 0.6202, Prec: 0.5298, Rec: 0.7497, lr: 0.00030\n",
      "Epoch 40/Step 120, Loss: 0.00165, Accuracy: 0.99899, F1: 0.6220, Prec: 0.5324, Rec: 0.7497, lr: 0.00030\n",
      "Epoch 40/Step 140, Loss: 0.00152, Accuracy: 0.99899, F1: 0.6208, Prec: 0.5306, Rec: 0.7500, lr: 0.00030\n",
      "Epoch 40/Step 160, Loss: 0.00161, Accuracy: 0.99899, F1: 0.6206, Prec: 0.5301, Rec: 0.7503, lr: 0.00030\n",
      "Epoch 40/Step 180, Loss: 0.00134, Accuracy: 0.99900, F1: 0.6214, Prec: 0.5311, Rec: 0.7506, lr: 0.00030\n",
      "Epoch 40/Step 200, Loss: 0.00127, Accuracy: 0.99899, F1: 0.6212, Prec: 0.5309, Rec: 0.7505, lr: 0.00030\n",
      "Epoch 40/Step 220, Loss: 0.00131, Accuracy: 0.99899, F1: 0.6226, Prec: 0.5326, Rec: 0.7511, lr: 0.00030\n",
      "Epoch 40/Step 240, Loss: 0.00177, Accuracy: 0.99899, F1: 0.6224, Prec: 0.5321, Rec: 0.7518, lr: 0.00030\n",
      "Epoch 40/Step 260, Loss: 0.00141, Accuracy: 0.99899, F1: 0.6225, Prec: 0.5322, Rec: 0.7518, lr: 0.00030\n",
      "Epoch 40/Step 280, Loss: 0.00120, Accuracy: 0.99898, F1: 0.6233, Prec: 0.5333, Rec: 0.7518, lr: 0.00030\n",
      "Epoch 40/Step 300, Loss: 0.00158, Accuracy: 0.99899, F1: 0.6236, Prec: 0.5336, Rec: 0.7523, lr: 0.00030\n",
      "Epoch 40/Step 320, Loss: 0.00156, Accuracy: 0.99899, F1: 0.6241, Prec: 0.5342, Rec: 0.7523, lr: 0.00030\n",
      "Epoch 40/Step 340, Loss: 0.00150, Accuracy: 0.99899, F1: 0.6231, Prec: 0.5331, Rec: 0.7516, lr: 0.00030\n",
      "Epoch 40/Step 360, Loss: 0.00171, Accuracy: 0.99899, F1: 0.6238, Prec: 0.5342, Rec: 0.7515, lr: 0.00030\n",
      "Epoch 40/Step 380, Loss: 0.00144, Accuracy: 0.99899, F1: 0.6241, Prec: 0.5345, Rec: 0.7518, lr: 0.00030\n",
      "Epoch 40/Step 400, Loss: 0.00137, Accuracy: 0.99899, F1: 0.6243, Prec: 0.5346, Rec: 0.7522, lr: 0.00030\n",
      "Epoch 40/Step 420, Loss: 0.00138, Accuracy: 0.99899, F1: 0.6244, Prec: 0.5347, Rec: 0.7524, lr: 0.00030\n",
      "Epoch 40/Step 440, Loss: 0.00147, Accuracy: 0.99899, F1: 0.6251, Prec: 0.5354, Rec: 0.7530, lr: 0.00030\n",
      "Epoch 40/Step 460, Loss: 0.00154, Accuracy: 0.99899, F1: 0.6259, Prec: 0.5361, Rec: 0.7537, lr: 0.00030\n",
      "Epoch finished. Start validation\n",
      "Validation acc: 0.9985\n",
      "Validation f1: 0.4544\n",
      "Validation precision: 0.4045\n",
      "Validation recall: 0.5210\n",
      "WARNING:tensorflow:Compiled the loaded model, but the compiled metrics have yet to be built. `model.compile_metrics` will be empty until you train or evaluate the model.\n"
     ]
    },
    {
     "name": "stderr",
     "output_type": "stream",
     "text": [
      "WARNING:tensorflow:Compiled the loaded model, but the compiled metrics have yet to be built. `model.compile_metrics` will be empty until you train or evaluate the model.\n"
     ]
    },
    {
     "name": "stdout",
     "output_type": "stream",
     "text": [
      "INFO:tensorflow:Assets written to: /mnt/e/ML/cafa-5-protein-function-prediction/model_BPO_epoch_39_valF1Score0.4544/assets\n"
     ]
    },
    {
     "name": "stderr",
     "output_type": "stream",
     "text": [
      "INFO:tensorflow:Assets written to: /mnt/e/ML/cafa-5-protein-function-prediction/model_BPO_epoch_39_valF1Score0.4544/assets\n"
     ]
    },
    {
     "name": "stdout",
     "output_type": "stream",
     "text": [
      "\n",
      "Start of epoch 41\n",
      "Epoch 41/Step 0, Loss: 0.00133, Accuracy: 0.99911, F1: 0.6482, Prec: 0.5718, Rec: 0.7482, lr: 0.00030\n",
      "Epoch 41/Step 20, Loss: 0.00188, Accuracy: 0.99903, F1: 0.6297, Prec: 0.5388, Rec: 0.7587, lr: 0.00030\n",
      "Epoch 41/Step 40, Loss: 0.00103, Accuracy: 0.99902, F1: 0.6271, Prec: 0.5391, Rec: 0.7507, lr: 0.00030\n",
      "Epoch 41/Step 60, Loss: 0.00138, Accuracy: 0.99900, F1: 0.6248, Prec: 0.5375, Rec: 0.7478, lr: 0.00030\n",
      "Epoch 41/Step 80, Loss: 0.00137, Accuracy: 0.99900, F1: 0.6249, Prec: 0.5364, Rec: 0.7501, lr: 0.00030\n",
      "Epoch 41/Step 100, Loss: 0.00180, Accuracy: 0.99900, F1: 0.6250, Prec: 0.5357, Rec: 0.7520, lr: 0.00030\n",
      "Epoch 41/Step 120, Loss: 0.00160, Accuracy: 0.99900, F1: 0.6255, Prec: 0.5368, Rec: 0.7511, lr: 0.00030\n",
      "Epoch 41/Step 140, Loss: 0.00154, Accuracy: 0.99900, F1: 0.6242, Prec: 0.5347, Rec: 0.7516, lr: 0.00030\n",
      "Epoch 41/Step 160, Loss: 0.00148, Accuracy: 0.99900, F1: 0.6249, Prec: 0.5353, Rec: 0.7523, lr: 0.00030\n",
      "Epoch 41/Step 180, Loss: 0.00124, Accuracy: 0.99900, F1: 0.6263, Prec: 0.5365, Rec: 0.7537, lr: 0.00030\n",
      "Epoch 41/Step 200, Loss: 0.00129, Accuracy: 0.99900, F1: 0.6266, Prec: 0.5365, Rec: 0.7548, lr: 0.00030\n",
      "Epoch 41/Step 220, Loss: 0.00120, Accuracy: 0.99900, F1: 0.6277, Prec: 0.5377, Rec: 0.7556, lr: 0.00030\n",
      "Epoch 41/Step 240, Loss: 0.00179, Accuracy: 0.99899, F1: 0.6268, Prec: 0.5371, Rec: 0.7545, lr: 0.00030\n",
      "Epoch 41/Step 260, Loss: 0.00160, Accuracy: 0.99899, F1: 0.6267, Prec: 0.5370, Rec: 0.7542, lr: 0.00030\n",
      "Epoch 41/Step 280, Loss: 0.00120, Accuracy: 0.99899, F1: 0.6272, Prec: 0.5377, Rec: 0.7543, lr: 0.00030\n",
      "Epoch 41/Step 300, Loss: 0.00150, Accuracy: 0.99899, F1: 0.6277, Prec: 0.5385, Rec: 0.7542, lr: 0.00030\n",
      "Epoch 41/Step 320, Loss: 0.00158, Accuracy: 0.99899, F1: 0.6276, Prec: 0.5383, Rec: 0.7543, lr: 0.00030\n",
      "Epoch 41/Step 340, Loss: 0.00141, Accuracy: 0.99899, F1: 0.6270, Prec: 0.5375, Rec: 0.7541, lr: 0.00030\n",
      "Epoch 41/Step 360, Loss: 0.00154, Accuracy: 0.99899, F1: 0.6280, Prec: 0.5388, Rec: 0.7543, lr: 0.00030\n",
      "Epoch 41/Step 380, Loss: 0.00140, Accuracy: 0.99899, F1: 0.6277, Prec: 0.5383, Rec: 0.7546, lr: 0.00030\n",
      "Epoch 41/Step 400, Loss: 0.00137, Accuracy: 0.99899, F1: 0.6283, Prec: 0.5391, Rec: 0.7547, lr: 0.00030\n",
      "Epoch 41/Step 420, Loss: 0.00130, Accuracy: 0.99899, F1: 0.6286, Prec: 0.5393, Rec: 0.7550, lr: 0.00030\n",
      "Epoch 41/Step 440, Loss: 0.00145, Accuracy: 0.99899, F1: 0.6294, Prec: 0.5402, Rec: 0.7556, lr: 0.00030\n",
      "Epoch 41/Step 460, Loss: 0.00159, Accuracy: 0.99899, F1: 0.6298, Prec: 0.5408, Rec: 0.7557, lr: 0.00030\n",
      "Epoch finished. Start validation\n",
      "Validation acc: 0.9985\n",
      "Validation f1: 0.4534\n",
      "Validation precision: 0.3997\n",
      "Validation recall: 0.5267\n",
      "\n",
      "Start of epoch 42\n",
      "Epoch 42/Step 0, Loss: 0.00132, Accuracy: 0.99910, F1: 0.6322, Prec: 0.5401, Rec: 0.7622, lr: 0.00030\n",
      "Epoch 42/Step 20, Loss: 0.00188, Accuracy: 0.99903, F1: 0.6269, Prec: 0.5342, Rec: 0.7593, lr: 0.00030\n",
      "Epoch 42/Step 40, Loss: 0.00110, Accuracy: 0.99902, F1: 0.6331, Prec: 0.5426, Rec: 0.7611, lr: 0.00030\n",
      "Epoch 42/Step 60, Loss: 0.00138, Accuracy: 0.99901, F1: 0.6306, Prec: 0.5411, Rec: 0.7569, lr: 0.00030\n",
      "Epoch 42/Step 80, Loss: 0.00128, Accuracy: 0.99900, F1: 0.6299, Prec: 0.5406, Rec: 0.7562, lr: 0.00030\n",
      "Epoch 42/Step 100, Loss: 0.00190, Accuracy: 0.99901, F1: 0.6305, Prec: 0.5412, Rec: 0.7570, lr: 0.00030\n",
      "Epoch 42/Step 120, Loss: 0.00156, Accuracy: 0.99901, F1: 0.6310, Prec: 0.5414, Rec: 0.7580, lr: 0.00030\n",
      "Epoch 42/Step 140, Loss: 0.00137, Accuracy: 0.99901, F1: 0.6299, Prec: 0.5400, Rec: 0.7574, lr: 0.00030\n",
      "Epoch 42/Step 160, Loss: 0.00159, Accuracy: 0.99901, F1: 0.6307, Prec: 0.5410, Rec: 0.7579, lr: 0.00030\n",
      "Epoch 42/Step 180, Loss: 0.00131, Accuracy: 0.99901, F1: 0.6320, Prec: 0.5424, Rec: 0.7587, lr: 0.00030\n",
      "Epoch 42/Step 200, Loss: 0.00132, Accuracy: 0.99901, F1: 0.6312, Prec: 0.5413, Rec: 0.7585, lr: 0.00030\n",
      "Epoch 42/Step 220, Loss: 0.00124, Accuracy: 0.99901, F1: 0.6320, Prec: 0.5424, Rec: 0.7588, lr: 0.00030\n",
      "Epoch 42/Step 240, Loss: 0.00169, Accuracy: 0.99900, F1: 0.6315, Prec: 0.5420, Rec: 0.7580, lr: 0.00030\n",
      "Epoch 42/Step 260, Loss: 0.00137, Accuracy: 0.99900, F1: 0.6307, Prec: 0.5414, Rec: 0.7573, lr: 0.00030\n",
      "Epoch 42/Step 280, Loss: 0.00122, Accuracy: 0.99900, F1: 0.6313, Prec: 0.5423, Rec: 0.7573, lr: 0.00030\n",
      "Epoch 42/Step 300, Loss: 0.00150, Accuracy: 0.99900, F1: 0.6315, Prec: 0.5423, Rec: 0.7575, lr: 0.00030\n",
      "Epoch 42/Step 320, Loss: 0.00151, Accuracy: 0.99900, F1: 0.6317, Prec: 0.5426, Rec: 0.7577, lr: 0.00030\n",
      "Epoch 42/Step 340, Loss: 0.00134, Accuracy: 0.99900, F1: 0.6311, Prec: 0.5419, Rec: 0.7574, lr: 0.00030\n",
      "Epoch 42/Step 360, Loss: 0.00158, Accuracy: 0.99900, F1: 0.6319, Prec: 0.5431, Rec: 0.7575, lr: 0.00030\n",
      "Epoch 42/Step 380, Loss: 0.00134, Accuracy: 0.99900, F1: 0.6321, Prec: 0.5432, Rec: 0.7578, lr: 0.00030\n",
      "Epoch 42/Step 400, Loss: 0.00137, Accuracy: 0.99900, F1: 0.6326, Prec: 0.5436, Rec: 0.7584, lr: 0.00030\n",
      "Epoch 42/Step 420, Loss: 0.00124, Accuracy: 0.99900, F1: 0.6327, Prec: 0.5436, Rec: 0.7586, lr: 0.00030\n",
      "Epoch 42/Step 440, Loss: 0.00142, Accuracy: 0.99900, F1: 0.6337, Prec: 0.5448, Rec: 0.7591, lr: 0.00030\n",
      "Epoch 42/Step 460, Loss: 0.00157, Accuracy: 0.99900, F1: 0.6342, Prec: 0.5453, Rec: 0.7596, lr: 0.00030\n",
      "Epoch finished. Start validation\n",
      "Validation acc: 0.9985\n",
      "Validation f1: 0.4528\n",
      "Validation precision: 0.4010\n",
      "Validation recall: 0.5226\n",
      "\n",
      "Start of epoch 43\n",
      "Epoch 43/Step 0, Loss: 0.00133, Accuracy: 0.99912, F1: 0.6294, Prec: 0.5341, Rec: 0.7660, lr: 0.00030\n",
      "Epoch 43/Step 20, Loss: 0.00171, Accuracy: 0.99904, F1: 0.6359, Prec: 0.5456, Rec: 0.7629, lr: 0.00030\n",
      "Epoch 43/Step 40, Loss: 0.00101, Accuracy: 0.99903, F1: 0.6321, Prec: 0.5436, Rec: 0.7562, lr: 0.00030\n",
      "Epoch 43/Step 60, Loss: 0.00136, Accuracy: 0.99903, F1: 0.6325, Prec: 0.5443, Rec: 0.7565, lr: 0.00030\n",
      "Epoch 43/Step 80, Loss: 0.00140, Accuracy: 0.99902, F1: 0.6324, Prec: 0.5446, Rec: 0.7557, lr: 0.00030\n",
      "Epoch 43/Step 100, Loss: 0.00177, Accuracy: 0.99902, F1: 0.6330, Prec: 0.5453, Rec: 0.7562, lr: 0.00030\n",
      "Epoch 43/Step 120, Loss: 0.00163, Accuracy: 0.99902, F1: 0.6337, Prec: 0.5460, Rec: 0.7567, lr: 0.00030\n",
      "Epoch 43/Step 140, Loss: 0.00150, Accuracy: 0.99901, F1: 0.6323, Prec: 0.5441, Rec: 0.7563, lr: 0.00030\n",
      "Epoch 43/Step 160, Loss: 0.00149, Accuracy: 0.99902, F1: 0.6333, Prec: 0.5456, Rec: 0.7562, lr: 0.00030\n",
      "Epoch 43/Step 180, Loss: 0.00127, Accuracy: 0.99902, F1: 0.6344, Prec: 0.5466, Rec: 0.7574, lr: 0.00030\n",
      "Epoch 43/Step 200, Loss: 0.00127, Accuracy: 0.99902, F1: 0.6343, Prec: 0.5462, Rec: 0.7581, lr: 0.00030\n",
      "Epoch 43/Step 220, Loss: 0.00131, Accuracy: 0.99902, F1: 0.6351, Prec: 0.5471, Rec: 0.7586, lr: 0.00030\n",
      "Epoch 43/Step 240, Loss: 0.00170, Accuracy: 0.99901, F1: 0.6342, Prec: 0.5462, Rec: 0.7577, lr: 0.00030\n",
      "Epoch 43/Step 260, Loss: 0.00141, Accuracy: 0.99901, F1: 0.6345, Prec: 0.5463, Rec: 0.7583, lr: 0.00030\n",
      "Epoch 43/Step 280, Loss: 0.00122, Accuracy: 0.99901, F1: 0.6351, Prec: 0.5473, Rec: 0.7584, lr: 0.00030\n",
      "Epoch 43/Step 300, Loss: 0.00144, Accuracy: 0.99901, F1: 0.6358, Prec: 0.5479, Rec: 0.7590, lr: 0.00030\n",
      "Epoch 43/Step 320, Loss: 0.00147, Accuracy: 0.99901, F1: 0.6355, Prec: 0.5478, Rec: 0.7583, lr: 0.00030\n",
      "Epoch 43/Step 340, Loss: 0.00145, Accuracy: 0.99901, F1: 0.6351, Prec: 0.5473, Rec: 0.7581, lr: 0.00030\n",
      "Epoch 43/Step 360, Loss: 0.00161, Accuracy: 0.99901, F1: 0.6360, Prec: 0.5487, Rec: 0.7583, lr: 0.00030\n",
      "Epoch 43/Step 380, Loss: 0.00132, Accuracy: 0.99901, F1: 0.6360, Prec: 0.5487, Rec: 0.7582, lr: 0.00030\n",
      "Epoch 43/Step 400, Loss: 0.00136, Accuracy: 0.99901, F1: 0.6362, Prec: 0.5488, Rec: 0.7584, lr: 0.00030\n",
      "Epoch 43/Step 420, Loss: 0.00131, Accuracy: 0.99901, F1: 0.6364, Prec: 0.5490, Rec: 0.7588, lr: 0.00030\n",
      "Epoch 43/Step 440, Loss: 0.00137, Accuracy: 0.99901, F1: 0.6370, Prec: 0.5495, Rec: 0.7593, lr: 0.00030\n",
      "Epoch 43/Step 460, Loss: 0.00157, Accuracy: 0.99901, F1: 0.6375, Prec: 0.5502, Rec: 0.7593, lr: 0.00030\n",
      "Epoch finished. Start validation\n",
      "Validation acc: 0.9985\n",
      "Validation f1: 0.4546\n",
      "Validation precision: 0.4045\n",
      "Validation recall: 0.5216\n",
      "WARNING:tensorflow:Compiled the loaded model, but the compiled metrics have yet to be built. `model.compile_metrics` will be empty until you train or evaluate the model.\n"
     ]
    },
    {
     "name": "stderr",
     "output_type": "stream",
     "text": [
      "WARNING:tensorflow:Compiled the loaded model, but the compiled metrics have yet to be built. `model.compile_metrics` will be empty until you train or evaluate the model.\n"
     ]
    },
    {
     "name": "stdout",
     "output_type": "stream",
     "text": [
      "INFO:tensorflow:Assets written to: /mnt/e/ML/cafa-5-protein-function-prediction/model_BPO_epoch_42_valF1Score0.4546/assets\n"
     ]
    },
    {
     "name": "stderr",
     "output_type": "stream",
     "text": [
      "INFO:tensorflow:Assets written to: /mnt/e/ML/cafa-5-protein-function-prediction/model_BPO_epoch_42_valF1Score0.4546/assets\n"
     ]
    },
    {
     "name": "stdout",
     "output_type": "stream",
     "text": [
      "\n",
      "Start of epoch 44\n",
      "Epoch 44/Step 0, Loss: 0.00130, Accuracy: 0.99911, F1: 0.6310, Prec: 0.5320, Rec: 0.7753, lr: 0.00030\n",
      "Epoch 44/Step 20, Loss: 0.00190, Accuracy: 0.99904, F1: 0.6435, Prec: 0.5555, Rec: 0.7667, lr: 0.00030\n",
      "Epoch 44/Step 40, Loss: 0.00101, Accuracy: 0.99903, F1: 0.6409, Prec: 0.5534, Rec: 0.7635, lr: 0.00030\n",
      "Epoch 44/Step 60, Loss: 0.00140, Accuracy: 0.99902, F1: 0.6377, Prec: 0.5507, Rec: 0.7597, lr: 0.00030\n",
      "Epoch 44/Step 80, Loss: 0.00129, Accuracy: 0.99902, F1: 0.6374, Prec: 0.5503, Rec: 0.7593, lr: 0.00030\n",
      "Epoch 44/Step 100, Loss: 0.00177, Accuracy: 0.99902, F1: 0.6364, Prec: 0.5494, Rec: 0.7583, lr: 0.00030\n",
      "Epoch 44/Step 120, Loss: 0.00160, Accuracy: 0.99902, F1: 0.6372, Prec: 0.5503, Rec: 0.7587, lr: 0.00030\n",
      "Epoch 44/Step 140, Loss: 0.00139, Accuracy: 0.99902, F1: 0.6354, Prec: 0.5477, Rec: 0.7588, lr: 0.00030\n",
      "Epoch 44/Step 160, Loss: 0.00153, Accuracy: 0.99902, F1: 0.6368, Prec: 0.5496, Rec: 0.7592, lr: 0.00030\n",
      "Epoch 44/Step 180, Loss: 0.00127, Accuracy: 0.99902, F1: 0.6381, Prec: 0.5506, Rec: 0.7606, lr: 0.00030\n",
      "Epoch 44/Step 200, Loss: 0.00123, Accuracy: 0.99902, F1: 0.6372, Prec: 0.5496, Rec: 0.7601, lr: 0.00030\n",
      "Epoch 44/Step 220, Loss: 0.00118, Accuracy: 0.99902, F1: 0.6385, Prec: 0.5509, Rec: 0.7614, lr: 0.00030\n",
      "Epoch 44/Step 240, Loss: 0.00167, Accuracy: 0.99901, F1: 0.6377, Prec: 0.5501, Rec: 0.7604, lr: 0.00030\n",
      "Epoch 44/Step 260, Loss: 0.00141, Accuracy: 0.99901, F1: 0.6372, Prec: 0.5496, Rec: 0.7599, lr: 0.00030\n",
      "Epoch 44/Step 280, Loss: 0.00114, Accuracy: 0.99901, F1: 0.6375, Prec: 0.5501, Rec: 0.7598, lr: 0.00030\n",
      "Epoch 44/Step 300, Loss: 0.00151, Accuracy: 0.99901, F1: 0.6382, Prec: 0.5506, Rec: 0.7608, lr: 0.00030\n",
      "Epoch 44/Step 320, Loss: 0.00153, Accuracy: 0.99901, F1: 0.6381, Prec: 0.5505, Rec: 0.7606, lr: 0.00030\n",
      "Epoch 44/Step 340, Loss: 0.00146, Accuracy: 0.99901, F1: 0.6375, Prec: 0.5499, Rec: 0.7603, lr: 0.00030\n",
      "Epoch 44/Step 360, Loss: 0.00161, Accuracy: 0.99901, F1: 0.6385, Prec: 0.5511, Rec: 0.7607, lr: 0.00030\n",
      "Epoch 44/Step 380, Loss: 0.00132, Accuracy: 0.99901, F1: 0.6384, Prec: 0.5510, Rec: 0.7606, lr: 0.00030\n",
      "Epoch 44/Step 400, Loss: 0.00138, Accuracy: 0.99901, F1: 0.6384, Prec: 0.5510, Rec: 0.7608, lr: 0.00030\n",
      "Epoch 44/Step 420, Loss: 0.00126, Accuracy: 0.99901, F1: 0.6386, Prec: 0.5511, Rec: 0.7608, lr: 0.00030\n",
      "Epoch 44/Step 440, Loss: 0.00140, Accuracy: 0.99901, F1: 0.6392, Prec: 0.5519, Rec: 0.7612, lr: 0.00030\n",
      "Epoch 44/Step 460, Loss: 0.00150, Accuracy: 0.99901, F1: 0.6397, Prec: 0.5525, Rec: 0.7615, lr: 0.00030\n",
      "Epoch finished. Start validation\n",
      "Validation acc: 0.9985\n",
      "Validation f1: 0.4577\n",
      "Validation precision: 0.4149\n",
      "Validation recall: 0.5128\n",
      "WARNING:tensorflow:Compiled the loaded model, but the compiled metrics have yet to be built. `model.compile_metrics` will be empty until you train or evaluate the model.\n"
     ]
    },
    {
     "name": "stderr",
     "output_type": "stream",
     "text": [
      "WARNING:tensorflow:Compiled the loaded model, but the compiled metrics have yet to be built. `model.compile_metrics` will be empty until you train or evaluate the model.\n"
     ]
    },
    {
     "name": "stdout",
     "output_type": "stream",
     "text": [
      "INFO:tensorflow:Assets written to: /mnt/e/ML/cafa-5-protein-function-prediction/model_BPO_epoch_43_valF1Score0.4577/assets\n"
     ]
    },
    {
     "name": "stderr",
     "output_type": "stream",
     "text": [
      "INFO:tensorflow:Assets written to: /mnt/e/ML/cafa-5-protein-function-prediction/model_BPO_epoch_43_valF1Score0.4577/assets\n"
     ]
    },
    {
     "name": "stdout",
     "output_type": "stream",
     "text": [
      "\n",
      "Start of epoch 45\n",
      "Epoch 45/Step 0, Loss: 0.00128, Accuracy: 0.99912, F1: 0.6647, Prec: 0.6044, Rec: 0.7385, lr: 0.00030\n",
      "Epoch 45/Step 20, Loss: 0.00171, Accuracy: 0.99905, F1: 0.6406, Prec: 0.5530, Rec: 0.7636, lr: 0.00030\n",
      "Epoch 45/Step 40, Loss: 0.00107, Accuracy: 0.99904, F1: 0.6378, Prec: 0.5512, Rec: 0.7587, lr: 0.00030\n",
      "Epoch 45/Step 60, Loss: 0.00133, Accuracy: 0.99903, F1: 0.6345, Prec: 0.5483, Rec: 0.7549, lr: 0.00030\n",
      "Epoch 45/Step 80, Loss: 0.00127, Accuracy: 0.99902, F1: 0.6340, Prec: 0.5476, Rec: 0.7547, lr: 0.00030\n",
      "Epoch 45/Step 100, Loss: 0.00175, Accuracy: 0.99903, F1: 0.6361, Prec: 0.5502, Rec: 0.7559, lr: 0.00030\n",
      "Epoch 45/Step 120, Loss: 0.00177, Accuracy: 0.99903, F1: 0.6362, Prec: 0.5502, Rec: 0.7562, lr: 0.00030\n",
      "Epoch 45/Step 140, Loss: 0.00148, Accuracy: 0.99902, F1: 0.6363, Prec: 0.5497, Rec: 0.7575, lr: 0.00030\n",
      "Epoch 45/Step 160, Loss: 0.00160, Accuracy: 0.99902, F1: 0.6373, Prec: 0.5505, Rec: 0.7587, lr: 0.00030\n",
      "Epoch 45/Step 180, Loss: 0.00118, Accuracy: 0.99903, F1: 0.6390, Prec: 0.5520, Rec: 0.7605, lr: 0.00030\n",
      "Epoch 45/Step 200, Loss: 0.00124, Accuracy: 0.99902, F1: 0.6391, Prec: 0.5520, Rec: 0.7607, lr: 0.00030\n",
      "Epoch 45/Step 220, Loss: 0.00124, Accuracy: 0.99902, F1: 0.6393, Prec: 0.5522, Rec: 0.7610, lr: 0.00030\n",
      "Epoch 45/Step 240, Loss: 0.00167, Accuracy: 0.99902, F1: 0.6389, Prec: 0.5519, Rec: 0.7604, lr: 0.00030\n",
      "Epoch 45/Step 260, Loss: 0.00151, Accuracy: 0.99902, F1: 0.6390, Prec: 0.5521, Rec: 0.7602, lr: 0.00030\n",
      "Epoch 45/Step 280, Loss: 0.00115, Accuracy: 0.99902, F1: 0.6400, Prec: 0.5535, Rec: 0.7605, lr: 0.00030\n",
      "Epoch 45/Step 300, Loss: 0.00143, Accuracy: 0.99902, F1: 0.6403, Prec: 0.5540, Rec: 0.7603, lr: 0.00030\n",
      "Epoch 45/Step 320, Loss: 0.00146, Accuracy: 0.99902, F1: 0.6403, Prec: 0.5541, Rec: 0.7600, lr: 0.00030\n",
      "Epoch 45/Step 340, Loss: 0.00140, Accuracy: 0.99902, F1: 0.6397, Prec: 0.5534, Rec: 0.7596, lr: 0.00030\n",
      "Epoch 45/Step 360, Loss: 0.00148, Accuracy: 0.99902, F1: 0.6407, Prec: 0.5548, Rec: 0.7601, lr: 0.00030\n",
      "Epoch 45/Step 380, Loss: 0.00134, Accuracy: 0.99902, F1: 0.6406, Prec: 0.5545, Rec: 0.7602, lr: 0.00030\n",
      "Epoch 45/Step 400, Loss: 0.00137, Accuracy: 0.99902, F1: 0.6408, Prec: 0.5547, Rec: 0.7605, lr: 0.00030\n",
      "Epoch 45/Step 420, Loss: 0.00123, Accuracy: 0.99902, F1: 0.6407, Prec: 0.5543, Rec: 0.7607, lr: 0.00030\n",
      "Epoch 45/Step 440, Loss: 0.00141, Accuracy: 0.99902, F1: 0.6411, Prec: 0.5548, Rec: 0.7610, lr: 0.00030\n",
      "Epoch 45/Step 460, Loss: 0.00153, Accuracy: 0.99902, F1: 0.6416, Prec: 0.5555, Rec: 0.7611, lr: 0.00030\n",
      "Epoch finished. Start validation\n",
      "Validation acc: 0.9985\n",
      "Validation f1: 0.4541\n",
      "Validation precision: 0.4034\n",
      "Validation recall: 0.5222\n",
      "\n",
      "Start of epoch 46\n",
      "Epoch 46/Step 0, Loss: 0.00127, Accuracy: 0.99911, F1: 0.6442, Prec: 0.5632, Rec: 0.7524, lr: 0.00030\n",
      "Epoch 46/Step 20, Loss: 0.00176, Accuracy: 0.99907, F1: 0.6458, Prec: 0.5570, Rec: 0.7700, lr: 0.00030\n",
      "Epoch 46/Step 40, Loss: 0.00112, Accuracy: 0.99905, F1: 0.6470, Prec: 0.5609, Rec: 0.7659, lr: 0.00030\n",
      "Epoch 46/Step 60, Loss: 0.00122, Accuracy: 0.99904, F1: 0.6450, Prec: 0.5594, Rec: 0.7628, lr: 0.00030\n",
      "Epoch 46/Step 80, Loss: 0.00131, Accuracy: 0.99904, F1: 0.6441, Prec: 0.5581, Rec: 0.7626, lr: 0.00030\n",
      "Epoch 46/Step 100, Loss: 0.00173, Accuracy: 0.99904, F1: 0.6434, Prec: 0.5569, Rec: 0.7632, lr: 0.00030\n",
      "Epoch 46/Step 120, Loss: 0.00151, Accuracy: 0.99904, F1: 0.6436, Prec: 0.5573, Rec: 0.7627, lr: 0.00030\n",
      "Epoch 46/Step 140, Loss: 0.00140, Accuracy: 0.99903, F1: 0.6422, Prec: 0.5550, Rec: 0.7633, lr: 0.00030\n",
      "Epoch 46/Step 160, Loss: 0.00153, Accuracy: 0.99903, F1: 0.6430, Prec: 0.5563, Rec: 0.7632, lr: 0.00030\n",
      "Epoch 46/Step 180, Loss: 0.00114, Accuracy: 0.99904, F1: 0.6439, Prec: 0.5577, Rec: 0.7630, lr: 0.00030\n",
      "Epoch 46/Step 200, Loss: 0.00124, Accuracy: 0.99903, F1: 0.6442, Prec: 0.5578, Rec: 0.7637, lr: 0.00030\n",
      "Epoch 46/Step 220, Loss: 0.00119, Accuracy: 0.99903, F1: 0.6450, Prec: 0.5586, Rec: 0.7645, lr: 0.00030\n",
      "Epoch 46/Step 240, Loss: 0.00173, Accuracy: 0.99903, F1: 0.6442, Prec: 0.5577, Rec: 0.7641, lr: 0.00030\n",
      "Epoch 46/Step 260, Loss: 0.00139, Accuracy: 0.99903, F1: 0.6441, Prec: 0.5579, Rec: 0.7633, lr: 0.00030\n",
      "Epoch 46/Step 280, Loss: 0.00116, Accuracy: 0.99902, F1: 0.6445, Prec: 0.5584, Rec: 0.7636, lr: 0.00030\n",
      "Epoch 46/Step 300, Loss: 0.00147, Accuracy: 0.99902, F1: 0.6451, Prec: 0.5592, Rec: 0.7636, lr: 0.00030\n",
      "Epoch 46/Step 320, Loss: 0.00139, Accuracy: 0.99903, F1: 0.6451, Prec: 0.5594, Rec: 0.7633, lr: 0.00030\n",
      "Epoch 46/Step 340, Loss: 0.00134, Accuracy: 0.99903, F1: 0.6445, Prec: 0.5584, Rec: 0.7634, lr: 0.00030\n",
      "Epoch 46/Step 360, Loss: 0.00164, Accuracy: 0.99903, F1: 0.6449, Prec: 0.5591, Rec: 0.7635, lr: 0.00030\n",
      "Epoch 46/Step 380, Loss: 0.00128, Accuracy: 0.99902, F1: 0.6449, Prec: 0.5593, Rec: 0.7631, lr: 0.00030\n",
      "Epoch 46/Step 400, Loss: 0.00132, Accuracy: 0.99902, F1: 0.6451, Prec: 0.5594, Rec: 0.7634, lr: 0.00030\n",
      "Epoch 46/Step 420, Loss: 0.00125, Accuracy: 0.99902, F1: 0.6452, Prec: 0.5596, Rec: 0.7633, lr: 0.00030\n",
      "Epoch 46/Step 440, Loss: 0.00147, Accuracy: 0.99902, F1: 0.6456, Prec: 0.5599, Rec: 0.7636, lr: 0.00030\n",
      "Epoch 46/Step 460, Loss: 0.00158, Accuracy: 0.99902, F1: 0.6460, Prec: 0.5606, Rec: 0.7635, lr: 0.00030\n",
      "Epoch finished. Start validation\n",
      "Validation acc: 0.9985\n",
      "Validation f1: 0.4561\n",
      "Validation precision: 0.4095\n",
      "Validation recall: 0.5172\n",
      "\n",
      "Start of epoch 47\n",
      "Epoch 47/Step 0, Loss: 0.00126, Accuracy: 0.99911, F1: 0.6513, Prec: 0.5732, Rec: 0.7541, lr: 0.00030\n",
      "Epoch 47/Step 20, Loss: 0.00165, Accuracy: 0.99906, F1: 0.6492, Prec: 0.5623, Rec: 0.7698, lr: 0.00030\n",
      "Epoch 47/Step 40, Loss: 0.00108, Accuracy: 0.99905, F1: 0.6455, Prec: 0.5589, Rec: 0.7655, lr: 0.00030\n",
      "Epoch 47/Step 60, Loss: 0.00128, Accuracy: 0.99904, F1: 0.6449, Prec: 0.5594, Rec: 0.7628, lr: 0.00030\n",
      "Epoch 47/Step 80, Loss: 0.00130, Accuracy: 0.99904, F1: 0.6463, Prec: 0.5607, Rec: 0.7645, lr: 0.00030\n",
      "Epoch 47/Step 100, Loss: 0.00177, Accuracy: 0.99904, F1: 0.6471, Prec: 0.5611, Rec: 0.7661, lr: 0.00030\n",
      "Epoch 47/Step 120, Loss: 0.00151, Accuracy: 0.99904, F1: 0.6474, Prec: 0.5623, Rec: 0.7645, lr: 0.00030\n",
      "Epoch 47/Step 140, Loss: 0.00140, Accuracy: 0.99903, F1: 0.6455, Prec: 0.5595, Rec: 0.7648, lr: 0.00030\n",
      "Epoch 47/Step 160, Loss: 0.00152, Accuracy: 0.99904, F1: 0.6468, Prec: 0.5612, Rec: 0.7651, lr: 0.00030\n",
      "Epoch 47/Step 180, Loss: 0.00127, Accuracy: 0.99904, F1: 0.6474, Prec: 0.5620, Rec: 0.7653, lr: 0.00030\n",
      "Epoch 47/Step 200, Loss: 0.00132, Accuracy: 0.99903, F1: 0.6468, Prec: 0.5612, Rec: 0.7650, lr: 0.00030\n",
      "Epoch 47/Step 220, Loss: 0.00125, Accuracy: 0.99903, F1: 0.6478, Prec: 0.5622, Rec: 0.7660, lr: 0.00030\n",
      "Epoch 47/Step 240, Loss: 0.00170, Accuracy: 0.99903, F1: 0.6480, Prec: 0.5624, Rec: 0.7662, lr: 0.00030\n",
      "Epoch 47/Step 260, Loss: 0.00139, Accuracy: 0.99903, F1: 0.6479, Prec: 0.5623, Rec: 0.7661, lr: 0.00030\n",
      "Epoch 47/Step 280, Loss: 0.00119, Accuracy: 0.99903, F1: 0.6488, Prec: 0.5636, Rec: 0.7661, lr: 0.00030\n",
      "Epoch 47/Step 300, Loss: 0.00156, Accuracy: 0.99903, F1: 0.6490, Prec: 0.5637, Rec: 0.7666, lr: 0.00030\n",
      "Epoch 47/Step 320, Loss: 0.00141, Accuracy: 0.99903, F1: 0.6489, Prec: 0.5637, Rec: 0.7661, lr: 0.00030\n",
      "Epoch 47/Step 340, Loss: 0.00139, Accuracy: 0.99903, F1: 0.6487, Prec: 0.5633, Rec: 0.7663, lr: 0.00030\n",
      "Epoch 47/Step 360, Loss: 0.00153, Accuracy: 0.99903, F1: 0.6493, Prec: 0.5643, Rec: 0.7662, lr: 0.00030\n",
      "Epoch 47/Step 380, Loss: 0.00129, Accuracy: 0.99903, F1: 0.6490, Prec: 0.5640, Rec: 0.7658, lr: 0.00030\n",
      "Epoch 47/Step 400, Loss: 0.00125, Accuracy: 0.99903, F1: 0.6490, Prec: 0.5640, Rec: 0.7658, lr: 0.00030\n",
      "Epoch 47/Step 420, Loss: 0.00122, Accuracy: 0.99903, F1: 0.6494, Prec: 0.5644, Rec: 0.7661, lr: 0.00030\n",
      "Epoch 47/Step 440, Loss: 0.00142, Accuracy: 0.99903, F1: 0.6496, Prec: 0.5645, Rec: 0.7666, lr: 0.00030\n",
      "Epoch 47/Step 460, Loss: 0.00148, Accuracy: 0.99903, F1: 0.6499, Prec: 0.5649, Rec: 0.7665, lr: 0.00030\n",
      "Epoch finished. Start validation\n",
      "Validation acc: 0.9985\n",
      "Validation f1: 0.4559\n",
      "Validation precision: 0.4060\n",
      "Validation recall: 0.5225\n",
      "\n",
      "Start of epoch 48\n",
      "Epoch 48/Step 0, Loss: 0.00123, Accuracy: 0.99915, F1: 0.6563, Prec: 0.5710, Rec: 0.7715, lr: 0.00030\n",
      "Epoch 48/Step 20, Loss: 0.00161, Accuracy: 0.99907, F1: 0.6524, Prec: 0.5629, Rec: 0.7765, lr: 0.00030\n",
      "Epoch 48/Step 40, Loss: 0.00102, Accuracy: 0.99906, F1: 0.6512, Prec: 0.5654, Rec: 0.7690, lr: 0.00030\n",
      "Epoch 48/Step 60, Loss: 0.00131, Accuracy: 0.99905, F1: 0.6493, Prec: 0.5643, Rec: 0.7660, lr: 0.00030\n",
      "Epoch 48/Step 80, Loss: 0.00132, Accuracy: 0.99904, F1: 0.6492, Prec: 0.5647, Rec: 0.7650, lr: 0.00030\n",
      "Epoch 48/Step 100, Loss: 0.00179, Accuracy: 0.99905, F1: 0.6493, Prec: 0.5645, Rec: 0.7659, lr: 0.00030\n",
      "Epoch 48/Step 120, Loss: 0.00143, Accuracy: 0.99905, F1: 0.6498, Prec: 0.5651, Rec: 0.7660, lr: 0.00030\n",
      "Epoch 48/Step 140, Loss: 0.00148, Accuracy: 0.99904, F1: 0.6476, Prec: 0.5625, Rec: 0.7648, lr: 0.00030\n",
      "Epoch 48/Step 160, Loss: 0.00156, Accuracy: 0.99904, F1: 0.6483, Prec: 0.5631, Rec: 0.7654, lr: 0.00030\n",
      "Epoch 48/Step 180, Loss: 0.00122, Accuracy: 0.99905, F1: 0.6495, Prec: 0.5645, Rec: 0.7662, lr: 0.00030\n",
      "Epoch 48/Step 200, Loss: 0.00118, Accuracy: 0.99904, F1: 0.6492, Prec: 0.5640, Rec: 0.7664, lr: 0.00030\n",
      "Epoch 48/Step 220, Loss: 0.00114, Accuracy: 0.99904, F1: 0.6504, Prec: 0.5657, Rec: 0.7664, lr: 0.00030\n",
      "Epoch 48/Step 240, Loss: 0.00170, Accuracy: 0.99904, F1: 0.6503, Prec: 0.5656, Rec: 0.7663, lr: 0.00030\n",
      "Epoch 48/Step 260, Loss: 0.00132, Accuracy: 0.99904, F1: 0.6500, Prec: 0.5654, Rec: 0.7659, lr: 0.00030\n",
      "Epoch 48/Step 280, Loss: 0.00116, Accuracy: 0.99903, F1: 0.6506, Prec: 0.5665, Rec: 0.7657, lr: 0.00030\n",
      "Epoch 48/Step 300, Loss: 0.00145, Accuracy: 0.99904, F1: 0.6513, Prec: 0.5673, Rec: 0.7662, lr: 0.00030\n",
      "Epoch 48/Step 320, Loss: 0.00150, Accuracy: 0.99904, F1: 0.6512, Prec: 0.5672, Rec: 0.7661, lr: 0.00030\n",
      "Epoch 48/Step 340, Loss: 0.00144, Accuracy: 0.99904, F1: 0.6510, Prec: 0.5667, Rec: 0.7662, lr: 0.00030\n",
      "Epoch 48/Step 360, Loss: 0.00156, Accuracy: 0.99904, F1: 0.6521, Prec: 0.5682, Rec: 0.7669, lr: 0.00030\n",
      "Epoch 48/Step 380, Loss: 0.00127, Accuracy: 0.99904, F1: 0.6520, Prec: 0.5680, Rec: 0.7668, lr: 0.00030\n",
      "Epoch 48/Step 400, Loss: 0.00128, Accuracy: 0.99904, F1: 0.6522, Prec: 0.5681, Rec: 0.7672, lr: 0.00030\n",
      "Epoch 48/Step 420, Loss: 0.00127, Accuracy: 0.99904, F1: 0.6524, Prec: 0.5684, Rec: 0.7670, lr: 0.00030\n",
      "Epoch 48/Step 440, Loss: 0.00152, Accuracy: 0.99904, F1: 0.6526, Prec: 0.5686, Rec: 0.7673, lr: 0.00030\n",
      "Epoch 48/Step 460, Loss: 0.00134, Accuracy: 0.99904, F1: 0.6529, Prec: 0.5691, Rec: 0.7674, lr: 0.00030\n",
      "Epoch finished. Start validation\n",
      "Validation acc: 0.9985\n",
      "Validation f1: 0.4564\n",
      "Validation precision: 0.4095\n",
      "Validation recall: 0.5181\n",
      "\n",
      "Start of epoch 49\n",
      "Epoch 49/Step 0, Loss: 0.00126, Accuracy: 0.99914, F1: 0.6967, Prec: 0.6225, Rec: 0.7910, lr: 0.00030\n",
      "Epoch 49/Step 20, Loss: 0.00173, Accuracy: 0.99908, F1: 0.6604, Prec: 0.5736, Rec: 0.7800, lr: 0.00030\n",
      "Epoch 49/Step 40, Loss: 0.00103, Accuracy: 0.99907, F1: 0.6541, Prec: 0.5682, Rec: 0.7719, lr: 0.00030\n",
      "Epoch 49/Step 60, Loss: 0.00128, Accuracy: 0.99906, F1: 0.6531, Prec: 0.5687, Rec: 0.7684, lr: 0.00030\n",
      "Epoch 49/Step 80, Loss: 0.00120, Accuracy: 0.99905, F1: 0.6527, Prec: 0.5684, Rec: 0.7676, lr: 0.00030\n",
      "Epoch 49/Step 100, Loss: 0.00177, Accuracy: 0.99905, F1: 0.6520, Prec: 0.5685, Rec: 0.7657, lr: 0.00030\n",
      "Epoch 49/Step 120, Loss: 0.00160, Accuracy: 0.99905, F1: 0.6519, Prec: 0.5680, Rec: 0.7662, lr: 0.00030\n",
      "Epoch 49/Step 140, Loss: 0.00139, Accuracy: 0.99904, F1: 0.6509, Prec: 0.5670, Rec: 0.7653, lr: 0.00030\n",
      "Epoch 49/Step 160, Loss: 0.00141, Accuracy: 0.99905, F1: 0.6513, Prec: 0.5673, Rec: 0.7660, lr: 0.00030\n",
      "Epoch 49/Step 180, Loss: 0.00116, Accuracy: 0.99905, F1: 0.6524, Prec: 0.5685, Rec: 0.7667, lr: 0.00030\n",
      "Epoch 49/Step 200, Loss: 0.00117, Accuracy: 0.99904, F1: 0.6517, Prec: 0.5675, Rec: 0.7666, lr: 0.00030\n",
      "Epoch 49/Step 220, Loss: 0.00108, Accuracy: 0.99904, F1: 0.6526, Prec: 0.5684, Rec: 0.7675, lr: 0.00030\n",
      "Epoch 49/Step 240, Loss: 0.00160, Accuracy: 0.99904, F1: 0.6518, Prec: 0.5677, Rec: 0.7667, lr: 0.00030\n",
      "Epoch 49/Step 260, Loss: 0.00131, Accuracy: 0.99904, F1: 0.6517, Prec: 0.5673, Rec: 0.7672, lr: 0.00030\n",
      "Epoch 49/Step 280, Loss: 0.00121, Accuracy: 0.99904, F1: 0.6529, Prec: 0.5689, Rec: 0.7677, lr: 0.00030\n",
      "Epoch 49/Step 300, Loss: 0.00140, Accuracy: 0.99904, F1: 0.6532, Prec: 0.5693, Rec: 0.7676, lr: 0.00030\n",
      "Epoch 49/Step 320, Loss: 0.00146, Accuracy: 0.99904, F1: 0.6530, Prec: 0.5693, Rec: 0.7670, lr: 0.00030\n",
      "Epoch 49/Step 340, Loss: 0.00128, Accuracy: 0.99904, F1: 0.6526, Prec: 0.5687, Rec: 0.7671, lr: 0.00030\n",
      "Epoch 49/Step 360, Loss: 0.00148, Accuracy: 0.99904, F1: 0.6530, Prec: 0.5693, Rec: 0.7672, lr: 0.00030\n",
      "Epoch 49/Step 380, Loss: 0.00122, Accuracy: 0.99904, F1: 0.6529, Prec: 0.5692, Rec: 0.7670, lr: 0.00030\n",
      "Epoch 49/Step 400, Loss: 0.00124, Accuracy: 0.99904, F1: 0.6531, Prec: 0.5696, Rec: 0.7669, lr: 0.00030\n",
      "Epoch 49/Step 420, Loss: 0.00117, Accuracy: 0.99904, F1: 0.6533, Prec: 0.5695, Rec: 0.7676, lr: 0.00030\n",
      "Epoch 49/Step 440, Loss: 0.00145, Accuracy: 0.99904, F1: 0.6539, Prec: 0.5705, Rec: 0.7676, lr: 0.00030\n",
      "Epoch 49/Step 460, Loss: 0.00159, Accuracy: 0.99904, F1: 0.6543, Prec: 0.5707, Rec: 0.7681, lr: 0.00030\n",
      "Epoch finished. Start validation\n",
      "Validation acc: 0.9985\n",
      "Validation f1: 0.4560\n",
      "Validation precision: 0.4058\n",
      "Validation recall: 0.5233\n",
      "\n",
      "Start of epoch 50\n",
      "Epoch 50/Step 0, Loss: 0.00120, Accuracy: 0.99916, F1: 0.6676, Prec: 0.5809, Rec: 0.7848, lr: 0.00030\n",
      "Epoch 50/Step 20, Loss: 0.00169, Accuracy: 0.99907, F1: 0.6604, Prec: 0.5780, Rec: 0.7713, lr: 0.00030\n",
      "Epoch 50/Step 40, Loss: 0.00105, Accuracy: 0.99906, F1: 0.6588, Prec: 0.5768, Rec: 0.7693, lr: 0.00030\n",
      "Epoch 50/Step 60, Loss: 0.00129, Accuracy: 0.99906, F1: 0.6560, Prec: 0.5732, Rec: 0.7684, lr: 0.00030\n",
      "Epoch 50/Step 80, Loss: 0.00122, Accuracy: 0.99906, F1: 0.6570, Prec: 0.5740, Rec: 0.7696, lr: 0.00030\n",
      "Epoch 50/Step 100, Loss: 0.00172, Accuracy: 0.99906, F1: 0.6576, Prec: 0.5751, Rec: 0.7694, lr: 0.00030\n",
      "Epoch 50/Step 120, Loss: 0.00139, Accuracy: 0.99906, F1: 0.6577, Prec: 0.5748, Rec: 0.7703, lr: 0.00030\n",
      "Epoch 50/Step 140, Loss: 0.00132, Accuracy: 0.99906, F1: 0.6561, Prec: 0.5723, Rec: 0.7704, lr: 0.00030\n",
      "Epoch 50/Step 160, Loss: 0.00151, Accuracy: 0.99906, F1: 0.6562, Prec: 0.5727, Rec: 0.7697, lr: 0.00030\n",
      "Epoch 50/Step 180, Loss: 0.00113, Accuracy: 0.99906, F1: 0.6570, Prec: 0.5733, Rec: 0.7710, lr: 0.00030\n",
      "Epoch 50/Step 200, Loss: 0.00116, Accuracy: 0.99906, F1: 0.6561, Prec: 0.5720, Rec: 0.7709, lr: 0.00030\n",
      "Epoch 50/Step 220, Loss: 0.00112, Accuracy: 0.99906, F1: 0.6564, Prec: 0.5722, Rec: 0.7714, lr: 0.00030\n",
      "Epoch 50/Step 240, Loss: 0.00175, Accuracy: 0.99905, F1: 0.6559, Prec: 0.5717, Rec: 0.7707, lr: 0.00030\n",
      "Epoch 50/Step 260, Loss: 0.00130, Accuracy: 0.99905, F1: 0.6552, Prec: 0.5712, Rec: 0.7699, lr: 0.00030\n",
      "Epoch 50/Step 280, Loss: 0.00113, Accuracy: 0.99905, F1: 0.6562, Prec: 0.5726, Rec: 0.7701, lr: 0.00030\n",
      "Epoch 50/Step 300, Loss: 0.00139, Accuracy: 0.99905, F1: 0.6568, Prec: 0.5733, Rec: 0.7705, lr: 0.00030\n",
      "Epoch 50/Step 320, Loss: 0.00152, Accuracy: 0.99905, F1: 0.6569, Prec: 0.5734, Rec: 0.7705, lr: 0.00030\n",
      "Epoch 50/Step 340, Loss: 0.00129, Accuracy: 0.99905, F1: 0.6565, Prec: 0.5729, Rec: 0.7704, lr: 0.00030\n",
      "Epoch 50/Step 360, Loss: 0.00147, Accuracy: 0.99905, F1: 0.6572, Prec: 0.5741, Rec: 0.7701, lr: 0.00030\n",
      "Epoch 50/Step 380, Loss: 0.00127, Accuracy: 0.99905, F1: 0.6567, Prec: 0.5735, Rec: 0.7700, lr: 0.00030\n",
      "Epoch 50/Step 400, Loss: 0.00141, Accuracy: 0.99905, F1: 0.6569, Prec: 0.5738, Rec: 0.7699, lr: 0.00030\n",
      "Epoch 50/Step 420, Loss: 0.00121, Accuracy: 0.99905, F1: 0.6572, Prec: 0.5740, Rec: 0.7703, lr: 0.00030\n",
      "Epoch 50/Step 440, Loss: 0.00144, Accuracy: 0.99905, F1: 0.6577, Prec: 0.5745, Rec: 0.7707, lr: 0.00030\n",
      "Epoch 50/Step 460, Loss: 0.00149, Accuracy: 0.99905, F1: 0.6581, Prec: 0.5753, Rec: 0.7706, lr: 0.00030\n",
      "Epoch finished. Start validation\n",
      "Validation acc: 0.9985\n",
      "Validation f1: 0.4560\n",
      "Validation precision: 0.4091\n",
      "Validation recall: 0.5178\n",
      "\n",
      "Start of epoch 51\n",
      "Epoch 51/Step 0, Loss: 0.00122, Accuracy: 0.99916, F1: 0.6730, Prec: 0.5911, Rec: 0.7813, lr: 0.00030\n",
      "Epoch 51/Step 20, Loss: 0.00167, Accuracy: 0.99908, F1: 0.6580, Prec: 0.5708, Rec: 0.7781, lr: 0.00030\n",
      "Epoch 51/Step 40, Loss: 0.00100, Accuracy: 0.99907, F1: 0.6562, Prec: 0.5727, Rec: 0.7696, lr: 0.00030\n",
      "Epoch 51/Step 60, Loss: 0.00132, Accuracy: 0.99906, F1: 0.6538, Prec: 0.5717, Rec: 0.7650, lr: 0.00030\n",
      "Epoch 51/Step 80, Loss: 0.00121, Accuracy: 0.99906, F1: 0.6562, Prec: 0.5745, Rec: 0.7663, lr: 0.00030\n",
      "Epoch 51/Step 100, Loss: 0.00165, Accuracy: 0.99906, F1: 0.6560, Prec: 0.5739, Rec: 0.7672, lr: 0.00030\n",
      "Epoch 51/Step 120, Loss: 0.00145, Accuracy: 0.99906, F1: 0.6561, Prec: 0.5738, Rec: 0.7675, lr: 0.00030\n",
      "Epoch 51/Step 140, Loss: 0.00130, Accuracy: 0.99906, F1: 0.6546, Prec: 0.5714, Rec: 0.7677, lr: 0.00030\n",
      "Epoch 51/Step 160, Loss: 0.00138, Accuracy: 0.99906, F1: 0.6556, Prec: 0.5727, Rec: 0.7683, lr: 0.00030\n",
      "Epoch 51/Step 180, Loss: 0.00118, Accuracy: 0.99906, F1: 0.6563, Prec: 0.5731, Rec: 0.7693, lr: 0.00030\n",
      "Epoch 51/Step 200, Loss: 0.00110, Accuracy: 0.99906, F1: 0.6565, Prec: 0.5735, Rec: 0.7692, lr: 0.00030\n",
      "Epoch 51/Step 220, Loss: 0.00111, Accuracy: 0.99906, F1: 0.6577, Prec: 0.5745, Rec: 0.7708, lr: 0.00030\n",
      "Epoch 51/Step 240, Loss: 0.00161, Accuracy: 0.99905, F1: 0.6574, Prec: 0.5743, Rec: 0.7701, lr: 0.00030\n",
      "Epoch 51/Step 260, Loss: 0.00128, Accuracy: 0.99905, F1: 0.6569, Prec: 0.5738, Rec: 0.7699, lr: 0.00030\n",
      "Epoch 51/Step 280, Loss: 0.00101, Accuracy: 0.99905, F1: 0.6573, Prec: 0.5745, Rec: 0.7698, lr: 0.00030\n",
      "Epoch 51/Step 300, Loss: 0.00142, Accuracy: 0.99905, F1: 0.6578, Prec: 0.5750, Rec: 0.7701, lr: 0.00030\n",
      "Epoch 51/Step 320, Loss: 0.00131, Accuracy: 0.99905, F1: 0.6581, Prec: 0.5754, Rec: 0.7702, lr: 0.00030\n",
      "Epoch 51/Step 340, Loss: 0.00136, Accuracy: 0.99905, F1: 0.6579, Prec: 0.5749, Rec: 0.7703, lr: 0.00030\n",
      "Epoch 51/Step 360, Loss: 0.00156, Accuracy: 0.99905, F1: 0.6581, Prec: 0.5754, Rec: 0.7702, lr: 0.00030\n",
      "Epoch 51/Step 380, Loss: 0.00128, Accuracy: 0.99905, F1: 0.6580, Prec: 0.5752, Rec: 0.7701, lr: 0.00030\n",
      "Epoch 51/Step 400, Loss: 0.00125, Accuracy: 0.99905, F1: 0.6583, Prec: 0.5755, Rec: 0.7706, lr: 0.00030\n",
      "Epoch 51/Step 420, Loss: 0.00126, Accuracy: 0.99905, F1: 0.6585, Prec: 0.5756, Rec: 0.7708, lr: 0.00030\n",
      "Epoch 51/Step 440, Loss: 0.00139, Accuracy: 0.99905, F1: 0.6590, Prec: 0.5762, Rec: 0.7710, lr: 0.00030\n",
      "Epoch 51/Step 460, Loss: 0.00142, Accuracy: 0.99905, F1: 0.6596, Prec: 0.5771, Rec: 0.7712, lr: 0.00030\n",
      "Epoch finished. Start validation\n",
      "Validation acc: 0.9985\n",
      "Validation f1: 0.4550\n",
      "Validation precision: 0.4053\n",
      "Validation recall: 0.5212\n",
      "\n",
      "Start of epoch 52\n",
      "Epoch 52/Step 0, Loss: 0.00130, Accuracy: 0.99910, F1: 0.6535, Prec: 0.5767, Rec: 0.7539, lr: 0.00030\n",
      "Epoch 52/Step 20, Loss: 0.00167, Accuracy: 0.99909, F1: 0.6644, Prec: 0.5803, Rec: 0.7782, lr: 0.00030\n",
      "Epoch 52/Step 40, Loss: 0.00104, Accuracy: 0.99908, F1: 0.6590, Prec: 0.5755, Rec: 0.7719, lr: 0.00030\n",
      "Epoch 52/Step 60, Loss: 0.00125, Accuracy: 0.99906, F1: 0.6579, Prec: 0.5760, Rec: 0.7681, lr: 0.00030\n",
      "Epoch 52/Step 80, Loss: 0.00119, Accuracy: 0.99906, F1: 0.6586, Prec: 0.5765, Rec: 0.7693, lr: 0.00030\n",
      "Epoch 52/Step 100, Loss: 0.00164, Accuracy: 0.99907, F1: 0.6600, Prec: 0.5785, Rec: 0.7699, lr: 0.00030\n",
      "Epoch 52/Step 120, Loss: 0.00143, Accuracy: 0.99907, F1: 0.6599, Prec: 0.5783, Rec: 0.7699, lr: 0.00030\n",
      "Epoch 52/Step 140, Loss: 0.00139, Accuracy: 0.99906, F1: 0.6587, Prec: 0.5765, Rec: 0.7695, lr: 0.00030\n",
      "Epoch 52/Step 160, Loss: 0.00152, Accuracy: 0.99906, F1: 0.6597, Prec: 0.5779, Rec: 0.7701, lr: 0.00030\n",
      "Epoch 52/Step 180, Loss: 0.00123, Accuracy: 0.99906, F1: 0.6598, Prec: 0.5776, Rec: 0.7706, lr: 0.00030\n",
      "Epoch 52/Step 200, Loss: 0.00116, Accuracy: 0.99906, F1: 0.6599, Prec: 0.5778, Rec: 0.7707, lr: 0.00030\n",
      "Epoch 52/Step 220, Loss: 0.00116, Accuracy: 0.99906, F1: 0.6606, Prec: 0.5784, Rec: 0.7713, lr: 0.00030\n",
      "Epoch 52/Step 240, Loss: 0.00150, Accuracy: 0.99906, F1: 0.6603, Prec: 0.5784, Rec: 0.7707, lr: 0.00030\n",
      "Epoch 52/Step 260, Loss: 0.00130, Accuracy: 0.99906, F1: 0.6608, Prec: 0.5791, Rec: 0.7710, lr: 0.00030\n",
      "Epoch 52/Step 280, Loss: 0.00109, Accuracy: 0.99906, F1: 0.6613, Prec: 0.5798, Rec: 0.7709, lr: 0.00030\n",
      "Epoch 52/Step 300, Loss: 0.00136, Accuracy: 0.99906, F1: 0.6617, Prec: 0.5802, Rec: 0.7712, lr: 0.00030\n",
      "Epoch 52/Step 320, Loss: 0.00138, Accuracy: 0.99906, F1: 0.6614, Prec: 0.5801, Rec: 0.7708, lr: 0.00030\n",
      "Epoch 52/Step 340, Loss: 0.00133, Accuracy: 0.99906, F1: 0.6612, Prec: 0.5797, Rec: 0.7708, lr: 0.00030\n",
      "Epoch 52/Step 360, Loss: 0.00154, Accuracy: 0.99906, F1: 0.6617, Prec: 0.5805, Rec: 0.7709, lr: 0.00030\n",
      "Epoch 52/Step 380, Loss: 0.00119, Accuracy: 0.99906, F1: 0.6615, Prec: 0.5802, Rec: 0.7707, lr: 0.00030\n",
      "Epoch 52/Step 400, Loss: 0.00127, Accuracy: 0.99906, F1: 0.6616, Prec: 0.5802, Rec: 0.7709, lr: 0.00030\n",
      "Epoch 52/Step 420, Loss: 0.00124, Accuracy: 0.99906, F1: 0.6615, Prec: 0.5803, Rec: 0.7707, lr: 0.00030\n",
      "Epoch 52/Step 440, Loss: 0.00134, Accuracy: 0.99906, F1: 0.6623, Prec: 0.5812, Rec: 0.7713, lr: 0.00030\n",
      "Epoch 52/Step 460, Loss: 0.00151, Accuracy: 0.99906, F1: 0.6628, Prec: 0.5817, Rec: 0.7716, lr: 0.00030\n",
      "Epoch finished. Start validation\n",
      "Validation acc: 0.9985\n",
      "Validation f1: 0.4573\n",
      "Validation precision: 0.4118\n",
      "Validation recall: 0.5168\n",
      "\n",
      "Start of epoch 53\n",
      "Epoch 53/Step 0, Loss: 0.00113, Accuracy: 0.99923, F1: 0.6929, Prec: 0.6096, Rec: 0.8026, lr: 0.00030\n",
      "Epoch 53/Step 20, Loss: 0.00169, Accuracy: 0.99910, F1: 0.6610, Prec: 0.5775, Rec: 0.7733, lr: 0.00030\n",
      "Epoch 53/Step 40, Loss: 0.00096, Accuracy: 0.99908, F1: 0.6606, Prec: 0.5788, Rec: 0.7705, lr: 0.00030\n",
      "Epoch 53/Step 60, Loss: 0.00126, Accuracy: 0.99908, F1: 0.6585, Prec: 0.5768, Rec: 0.7682, lr: 0.00030\n",
      "Epoch 53/Step 80, Loss: 0.00120, Accuracy: 0.99907, F1: 0.6583, Prec: 0.5772, Rec: 0.7672, lr: 0.00030\n",
      "Epoch 53/Step 100, Loss: 0.00167, Accuracy: 0.99907, F1: 0.6593, Prec: 0.5779, Rec: 0.7688, lr: 0.00030\n",
      "Epoch 53/Step 120, Loss: 0.00144, Accuracy: 0.99908, F1: 0.6601, Prec: 0.5792, Rec: 0.7686, lr: 0.00030\n",
      "Epoch 53/Step 140, Loss: 0.00132, Accuracy: 0.99907, F1: 0.6590, Prec: 0.5769, Rec: 0.7697, lr: 0.00030\n",
      "Epoch 53/Step 160, Loss: 0.00139, Accuracy: 0.99907, F1: 0.6594, Prec: 0.5776, Rec: 0.7697, lr: 0.00030\n",
      "Epoch 53/Step 180, Loss: 0.00114, Accuracy: 0.99908, F1: 0.6615, Prec: 0.5799, Rec: 0.7713, lr: 0.00030\n",
      "Epoch 53/Step 200, Loss: 0.00120, Accuracy: 0.99907, F1: 0.6617, Prec: 0.5801, Rec: 0.7714, lr: 0.00030\n",
      "Epoch 53/Step 220, Loss: 0.00110, Accuracy: 0.99907, F1: 0.6630, Prec: 0.5814, Rec: 0.7724, lr: 0.00030\n",
      "Epoch 53/Step 240, Loss: 0.00161, Accuracy: 0.99907, F1: 0.6628, Prec: 0.5813, Rec: 0.7722, lr: 0.00030\n",
      "Epoch 53/Step 260, Loss: 0.00131, Accuracy: 0.99907, F1: 0.6626, Prec: 0.5811, Rec: 0.7720, lr: 0.00030\n",
      "Epoch 53/Step 280, Loss: 0.00117, Accuracy: 0.99907, F1: 0.6631, Prec: 0.5816, Rec: 0.7725, lr: 0.00030\n",
      "Epoch 53/Step 300, Loss: 0.00129, Accuracy: 0.99907, F1: 0.6639, Prec: 0.5826, Rec: 0.7728, lr: 0.00030\n",
      "Epoch 53/Step 320, Loss: 0.00133, Accuracy: 0.99907, F1: 0.6632, Prec: 0.5818, Rec: 0.7726, lr: 0.00030\n",
      "Epoch 53/Step 340, Loss: 0.00128, Accuracy: 0.99907, F1: 0.6633, Prec: 0.5820, Rec: 0.7724, lr: 0.00030\n",
      "Epoch 53/Step 360, Loss: 0.00135, Accuracy: 0.99907, F1: 0.6639, Prec: 0.5826, Rec: 0.7728, lr: 0.00030\n",
      "Epoch 53/Step 380, Loss: 0.00135, Accuracy: 0.99907, F1: 0.6639, Prec: 0.5827, Rec: 0.7726, lr: 0.00030\n",
      "Epoch 53/Step 400, Loss: 0.00129, Accuracy: 0.99906, F1: 0.6640, Prec: 0.5829, Rec: 0.7725, lr: 0.00030\n",
      "Epoch 53/Step 420, Loss: 0.00114, Accuracy: 0.99907, F1: 0.6639, Prec: 0.5828, Rec: 0.7726, lr: 0.00030\n",
      "Epoch 53/Step 440, Loss: 0.00137, Accuracy: 0.99907, F1: 0.6643, Prec: 0.5832, Rec: 0.7729, lr: 0.00030\n",
      "Epoch 53/Step 460, Loss: 0.00139, Accuracy: 0.99907, F1: 0.6646, Prec: 0.5835, Rec: 0.7731, lr: 0.00030\n",
      "Epoch finished. Start validation\n",
      "Validation acc: 0.9984\n",
      "Validation f1: 0.4576\n",
      "Validation precision: 0.4158\n",
      "Validation recall: 0.5112\n",
      "early stopping\n"
     ]
    }
   ],
   "source": [
    "\n",
    "BATCH_SIZE=64\n",
    "LOG_INTERVAL=20\n",
    "EARLY_STOPPING_PATIENCE=8\n",
    "epochs = 100\n",
    "saveModel=True\n",
    "\n",
    "\n",
    "log_dir = \"./logs/\"+model.name+\"/\" + datetime.datetime.now().strftime(\"%Y%m%d-%H%M%S\")+\"_\"+SO\n",
    "tensorboard_callback = tf.keras.callbacks.TensorBoard(log_dir=log_dir, histogram_freq=1,\n",
    "                                                      write_graph=True, update_freq=5)\n",
    "\n",
    "\n",
    "summary_writer = tf.summary.create_file_writer(log_dir)\n",
    "\n",
    "# Instantiate an optimizer .\n",
    "# optimizer = tf.keras.optimizers.SGD(learning_rate=lr_schedule)\n",
    "# optimizer = tf.keras.optimizers.SGD(learning_rate=1e-3)\n",
    "optimizer = tf.keras.optimizers.AdamW(learning_rate=3e-4)\n",
    "\n",
    "# Instantiate a loss function.\n",
    "# loss_fn = tf.keras.losses.BinaryCrossentropy()\n",
    "# loss_fn = WeightedBinaryCE(np.ones(len(mlb.classes_)))\n",
    "# loss_fn = WeightedBinaryCE(labelWeightsCorr)\n",
    "# loss_fn = WeightedComboLoss(labelWeightsCorr, alpha=0.5, beta=0.5, labelSmoothing=0.05)\n",
    "# loss_fn = WeightedComboLoss(labelWeightsCorr/np.max(labelWeightsCorr)+occurenceScores, alpha=0.5, beta=0.5, labelSmoothing=0.1)\n",
    "loss_fn = tf.keras.losses.BinaryFocalCrossentropy(apply_class_balancing=False, gamma=2)\n",
    "\n",
    "train_acc_metric = WeightedAccuracy(classWeights=labelWeightsCorr)\n",
    "train_f1_metric = WeightedF1(classWeights=labelWeightsCorr, threshold=0.5)\n",
    "train_prec = WeightedPrecision(classWeights=labelWeightsCorr)\n",
    "train_rec = WeightedRecall(classWeights=labelWeightsCorr)\n",
    "\n",
    "val_acc_metric = WeightedAccuracy(classWeights=labelWeightsCorr)\n",
    "val_f1_metric = WeightedF1(classWeights=labelWeightsCorr, threshold=0.5)\n",
    "val_prec = WeightedPrecision(classWeights=labelWeightsCorr)\n",
    "val_rec = WeightedRecall(classWeights=labelWeightsCorr)\n",
    "\n",
    "bestValF1=0\n",
    "\n",
    "batchedDataset = dataset.batch(BATCH_SIZE, drop_remainder=False).prefetch(tf.data.AUTOTUNE)\n",
    "batchedDatasetVal = datasetVal.batch(BATCH_SIZE, drop_remainder=False).prefetch(tf.data.AUTOTUNE)\n",
    "\n",
    "# batchedDataset = batchedDataset.cache(os.path.join(DATA_PATH, \"datasetCache\"+SO))\n",
    "# batchedDatasetVal = batchedDatasetVal.cache(os.path.join(DATA_PATH, \"datasetCacheVal\"+SO))\n",
    "\n",
    "@tf.function()\n",
    "def trainStep(x_batch_train, y_batch_train):\n",
    "    with tf.GradientTape() as tape:\n",
    "        probs = model(x_batch_train, training=True) \n",
    "\n",
    "        #Add all ancestor GOs based on the predictions\n",
    "        # probsNew = tf.TensorArray(tf.float32, size=probs.shape[0])\n",
    "        # for probsIdx in range(probs.shape[0]):\n",
    "        #     predictedIdx = tf.where(tf.math.greater(probs[probsIdx], 0.5))\n",
    "        #     predictedProbs = tf.gather_nd(probs[probsIdx], predictedIdx)\n",
    "        #     # print(predictedIdx.numpy(), predictedProbs.numpy())\n",
    "        #     vectToAdd = tf.TensorArray(tf.float32, size=predictedIdx.shape[0])\n",
    "        #     for addingIdx, predIdx in enumerate(predictedIdx):\n",
    "        #         ancestorsArr = ancestorDict[goIdxTensors[predIdx.numpy()[0]].ref()]\n",
    "        #         vectToAdd.write(addingIdx, tf.math.multiply(tf.cast(ancestorsArr, tf.float32), predictedProbs[addingIdx])).mark_used()\n",
    "        #     vectToAddTensors = vectToAdd.stack()\n",
    "            # print(vectToAddTensors.numpy())\n",
    "            # probsNew.write(probsIdx, tf.math.reduce_max(vectToAddTensors,axis=0)).mark_used()\n",
    "        # probsNewTensor = probsNew.stack()\n",
    "        \n",
    "        loss_value = loss_fn(y_batch_train, probs)\n",
    "\n",
    "    grads = tape.gradient(loss_value, model.trainable_weights)\n",
    "\n",
    "    #Gradient clipping\n",
    "    # grads = [tf.clip_by_norm(g, 2.0) for g in grads]\n",
    "\n",
    "    train_acc_metric.update_state(y_batch_train, probs)\n",
    "    train_f1_metric.update_state(y_batch_train, probs)\n",
    "    train_prec.update_state(y_batch_train, probs)\n",
    "    train_rec.update_state(y_batch_train, probs)\n",
    "\n",
    "    optimizer.apply_gradients(zip(grads, model.trainable_weights)) \n",
    "    return loss_value\n",
    "\n",
    "@tf.function()\n",
    "def valStep(x_batch_val, y_batch_val):\n",
    "    valProbs = model(x_batch_val, training=False)\n",
    "    # Update val metrics\n",
    "    val_acc_metric.update_state(y_batch_val, valProbs)\n",
    "    val_f1_metric.update_state(y_batch_val, valProbs)\n",
    "    val_prec.update_state(y_batch_val, valProbs)\n",
    "    val_rec.update_state(y_batch_val, valProbs)\n",
    "\n",
    "maxStep=0\n",
    "bestEpoch=0\n",
    "\n",
    "for epoch in range(epochs):\n",
    "    print(\"\\nStart of epoch %d\" % (epoch+1,))\n",
    "\n",
    "    # Iterate over the batches of the dataset.\n",
    "    for step, (x_batch_trainPC, x_batch_trainIP, x_batch_trainKmer, x_batch_trainT5, x_batch_trainEsm2, y_batch_train) in enumerate(batchedDataset):\n",
    "        loss_value =trainStep((x_batch_trainPC, x_batch_trainIP, x_batch_trainKmer, x_batch_trainT5, x_batch_trainEsm2),y_batch_train)\n",
    "\n",
    "        # Log \n",
    "        if step % LOG_INTERVAL == 0:\n",
    "            template = 'Epoch {}/Step {}, Loss: {:.5f}, Accuracy: {:.5f}, F1: {:.4f}, Prec: {:.4f}, Rec: {:.4f}, lr: {:.5f}'\n",
    "            print(template.format(epoch+1, step,loss_value.numpy(), \n",
    "                                    train_acc_metric.result(),train_f1_metric.result(),\n",
    "                                    train_prec.result(), train_rec.result(), optimizer.learning_rate.numpy()))\n",
    "            \n",
    "            with summary_writer.as_default():\n",
    "                tf.summary.scalar('loss', loss_value, step=maxStep*epoch+step)\n",
    "                tf.summary.scalar('accuracy', train_acc_metric.result(), step=maxStep*epoch+step)\n",
    "                tf.summary.scalar('f1', train_f1_metric.result(), step=maxStep*epoch+step)\n",
    "                tf.summary.scalar('prec', train_prec.result(), step=maxStep*epoch+step)\n",
    "                tf.summary.scalar('rec', train_rec.result(), step=maxStep*epoch+step)\n",
    "                tf.summary.scalar('learning rate', optimizer.learning_rate.numpy(), step=maxStep*epoch+step)\n",
    "                summary_writer.flush()\n",
    "\n",
    "    \n",
    "    train_acc_metric.reset_states()\n",
    "    train_f1_metric.reset_states()\n",
    "    train_prec.reset_states()\n",
    "    train_rec.reset_states()\n",
    "\n",
    "    maxStep=step\n",
    "\n",
    "    print(\"Epoch finished. Start validation\")\n",
    "    for x_batch_valPC, x_batch_valIP, x_batch_valKmer, x_batch_valT5, x_batch_valEsm2, y_batch_val in batchedDatasetVal:\n",
    "        valStep((x_batch_valPC, x_batch_valIP, x_batch_valKmer, x_batch_valT5, x_batch_valEsm2), y_batch_val)\n",
    "    val_acc = val_acc_metric.result()\n",
    "    val_acc_metric.reset_states()\n",
    "    val_f1 = val_f1_metric.result()\n",
    "    val_f1_metric.reset_states()\n",
    "    val_precision = val_prec.result()\n",
    "    val_prec.reset_states()\n",
    "    val_recall = val_rec.result()\n",
    "    val_rec.reset_states()\n",
    "    print(\"Validation acc: %.4f\" % (float(val_acc),))\n",
    "    print(\"Validation f1: %.4f\" % (float(val_f1),))\n",
    "    print(\"Validation precision: %.4f\" % (float(val_precision),))\n",
    "    print(\"Validation recall: %.4f\" % (float(val_recall),))\n",
    "    with summary_writer.as_default():\n",
    "        tf.summary.scalar('valAcc', float(val_acc), step=epoch)\n",
    "        tf.summary.scalar('valF1', float(val_f1), step=epoch)\n",
    "        tf.summary.scalar('valPrecision', float(val_precision), step=epoch)\n",
    "        tf.summary.scalar('valRecall', float(val_recall), step=epoch)\n",
    "        summary_writer.flush()\n",
    "    if saveModel and val_f1>bestValF1:\n",
    "      bestValF1 = val_f1\n",
    "      bestEpoch=epoch\n",
    "      model.save(os.path.join(DATA_PATH, \"model_\"+SO+\"_epoch_{}_valF1Score{:.4f}\".format(epoch, float(val_f1))))\n",
    "    if epoch-bestEpoch>EARLY_STOPPING_PATIENCE:\n",
    "        # early stopping\n",
    "        print(\"early stopping\")\n",
    "        break\n",
    "\n"
   ]
  },
  {
   "cell_type": "code",
   "execution_count": null,
   "id": "374f7234",
   "metadata": {},
   "outputs": [],
   "source": [
    "\n",
    "# model.save(os.path.join(DATA_PATH, \"model_\"+SO+\"_epoch_{}_valf1Score{:.3f}\".format(epoch, float(val_f1))))"
   ]
  },
  {
   "cell_type": "markdown",
   "id": "e389b420",
   "metadata": {},
   "source": [
    "## Error analysis"
   ]
  },
  {
   "cell_type": "markdown",
   "id": "a64376b1",
   "metadata": {},
   "source": [
    "Which GO classes are most misclassified? Is it correlated with the class imbalance?"
   ]
  },
  {
   "cell_type": "code",
   "execution_count": null,
   "id": "9271f722",
   "metadata": {},
   "outputs": [],
   "source": [
    "layerGOs={}\n",
    "for layer, nodes in enumerate(networkx.topological_generations(graph)):\n",
    "    # layerGOs[layer] = nodes\n",
    "    for n in nodes:\n",
    "        layerGOs[n] = layer\n"
   ]
  },
  {
   "cell_type": "code",
   "execution_count": 45,
   "id": "cefc1f6a",
   "metadata": {},
   "outputs": [
    {
     "name": "stderr",
     "output_type": "stream",
     "text": [
      "101it [01:44,  1.04s/it]\n"
     ]
    }
   ],
   "source": [
    "\n",
    "\n",
    "tp=[]\n",
    "fp=[]\n",
    "fn=[]\n",
    "\n",
    "predictionArr=[]\n",
    "trueClassesArr=[]\n",
    "\n",
    "for i, (xPC, xIP, xKmer,xt5,xEsm2, y) in enumerate(tqdm(batchedDatasetVal)):\n",
    "    probsArr = model((xPC, xIP, xKmer, xt5, xEsm2), training=False)\n",
    "    for idxProbs, probs in enumerate(probsArr):\n",
    "        probs = probs.numpy()\n",
    "        prediction= [1 if p > 0.5 else 0 for p in probs]\n",
    "        predictionArr.append(probs)\n",
    "        trueClassesArr.append(y[idxProbs,:])\n",
    "        predClasses = mlb.inverse_transform(np.array([prediction]))[0]\n",
    "        trueClasses = mlb.inverse_transform(np.array([y[idxProbs,:]]))[0]\n",
    "        for pred in predClasses:\n",
    "            if pred in trueClasses:\n",
    "                tp.append(pred)\n",
    "            else:\n",
    "                fp.append(pred)\n",
    "        for trueClass in trueClasses:\n",
    "            if not trueClass in predClasses:\n",
    "                fn.append(trueClass)\n",
    "    \n",
    "    if i>100:\n",
    "        break\n",
    "\n",
    "tpValues, tpCounts = np.unique(tp, return_counts=True)\n",
    "fpValues, fpCounts = np.unique(fp, return_counts=True)\n",
    "fnValues, fnCounts = np.unique(fn, return_counts=True)\n",
    "    "
   ]
  },
  {
   "cell_type": "markdown",
   "id": "153b30cc",
   "metadata": {},
   "source": [
    "### Find best threshold for f1 score"
   ]
  },
  {
   "cell_type": "code",
   "execution_count": 46,
   "id": "7e3cec89",
   "metadata": {},
   "outputs": [
    {
     "name": "stdout",
     "output_type": "stream",
     "text": [
      "(6528, 13376)\n",
      "(6528, 13376)\n",
      "[0.05 0.1  0.15 0.2  0.25 0.3  0.35 0.4  0.45 0.5  0.55 0.6  0.65 0.7\n",
      " 0.75 0.8  0.85 0.9 ]\n"
     ]
    }
   ],
   "source": [
    "predictionArr=np.array(predictionArr)\n",
    "trueClassesArr=np.array(trueClassesArr)\n",
    "print(trueClassesArr.shape)\n",
    "print(predictionArr.shape)\n",
    "\n",
    "\n",
    "thresholds=np.arange(0.05, 0.95, 0.05)\n",
    "print(thresholds)\n",
    "f1Values=[]\n",
    "\n",
    "for t in thresholds:\n",
    "    f1ThreshTest = WeightedF1(classWeights=labelWeightsCorr, threshold=t)\n",
    "    f1ThreshTest.update_state(trueClassesArr, predictionArr)\n",
    "    f1Value = f1ThreshTest.result()\n",
    "    f1Values.append(f1Value.numpy())\n"
   ]
  },
  {
   "cell_type": "code",
   "execution_count": 47,
   "id": "cec0e46c",
   "metadata": {},
   "outputs": [
    {
     "name": "stdout",
     "output_type": "stream",
     "text": [
      "Best Threshold:  0.45\n"
     ]
    },
    {
     "data": {
      "text/plain": [
       "[<matplotlib.lines.Line2D at 0x7f50df907a00>]"
      ]
     },
     "execution_count": 47,
     "metadata": {},
     "output_type": "execute_result"
    },
    {
     "data": {
      "image/png": "[encoded data removed]",
      "text/plain": [
       "<Figure size 640x480 with 1 Axes>"
      ]
     },
     "metadata": {},
     "output_type": "display_data"
    }
   ],
   "source": [
    "print(\"Best Threshold: \",thresholds[np.argmax(f1Values)])\n",
    "plt.plot(thresholds, f1Values)"
   ]
  },
  {
   "cell_type": "markdown",
   "id": "895466f3",
   "metadata": {},
   "source": [
    "### Find GOs with highest tp, tn and tp rate"
   ]
  },
  {
   "cell_type": "code",
   "execution_count": null,
   "id": "13486ea8",
   "metadata": {},
   "outputs": [],
   "source": [
    "for n in tpValues[tpCounts>600]:\n",
    "    try:\n",
    "        print(n, \": \", layerGOs[n])\n",
    "    except:\n",
    "        print(\"failed for \", n)\n",
    "    \n",
    "plt.figure(figsize=(12,6))\n",
    "plt.bar(tpValues[tpCounts>600], tpCounts[tpCounts>600])\n",
    "plt.xticks(rotation=90)\n",
    "plt.title(\"True Positives\")\n",
    "plt.show()\n",
    "\n",
    "plt.figure(figsize=(12,6))\n",
    "plt.hist([layerGOs[tpVal] for tpVal in tpValues])\n",
    "plt.xticks(rotation=45)\n",
    "plt.title(\"Histogram of layer depth of True Positives\")\n",
    "plt.show()\n",
    "\n",
    "plt.figure(figsize=(12,6))\n",
    "plt.hist([occurenceDict[tpVal] for tpVal in tpValues], bins=50, range=(0,10000))\n",
    "plt.xticks(rotation=45)\n",
    "plt.title(\"Histogram of occurence count of True Positives\")\n",
    "plt.show()\n"
   ]
  },
  {
   "cell_type": "code",
   "execution_count": null,
   "id": "514e24dc",
   "metadata": {},
   "outputs": [],
   "source": [
    "for n in fpValues[fpCounts > 200]:\n",
    "    print(n, \": \", layerGOs[n])\n",
    "\n",
    "plt.figure(figsize=(12, 6))\n",
    "plt.bar(fpValues[fpCounts > 200], fpCounts[fpCounts > 200])\n",
    "plt.xticks(rotation=90)\n",
    "plt.title(\"False Positives\")\n",
    "plt.show()\n",
    "\n",
    "plt.figure(figsize=(12, 6))\n",
    "plt.hist([layerGOs[fpVal] for fpVal in fpValues[fpCounts > 10]])\n",
    "plt.xticks(rotation=45)\n",
    "plt.title(\"Histogram of layer depth of False Positives with more than 10 occurences\")\n",
    "plt.show()\n",
    "\n",
    "plt.figure(figsize=(12, 6))\n",
    "plt.hist([occurenceDict[fpVal] for fpVal in fpValues], bins=50, range=(0,10000))\n",
    "plt.xticks(rotation=45)\n",
    "plt.title(\n",
    "    \"Histogram of occurence counts of False Positives\"\n",
    ")\n",
    "plt.show()"
   ]
  },
  {
   "cell_type": "code",
   "execution_count": null,
   "id": "a0d4186a",
   "metadata": {},
   "outputs": [],
   "source": [
    "for n in fnValues[fnCounts>200]:\n",
    "    print(n, \": \", layerGOs[n])\n",
    "    \n",
    "plt.figure(figsize=(12,6))\n",
    "plt.bar(fnValues[fnCounts>200], fnCounts[fnCounts>200])\n",
    "plt.xticks(rotation=90)\n",
    "plt.title(\"False Negatives\")\n",
    "plt.show()\n",
    "\n",
    "plt.figure(figsize=(12,6))\n",
    "plt.hist([layerGOs[fnVal] for fnVal in fnValues[fnCounts>10] ])\n",
    "plt.xticks(rotation=45)\n",
    "plt.title(\"Histogram of layer depth of False Negatives with more than 10 occurences\")\n",
    "plt.show()\n",
    "\n",
    "plt.figure(figsize=(12,6))\n",
    "plt.hist([occurenceDict[fnVal] for fnVal in fnValues], bins=50, range=(0,10000))\n",
    "plt.xticks(rotation=45)\n",
    "plt.title(\"Histogram of occurence count of False Negatives\")\n",
    "plt.show()\n"
   ]
  },
  {
   "cell_type": "markdown",
   "id": "c2168ef4",
   "metadata": {},
   "source": [
    "- The GO terms that are true positives most of the time are from different layers in the GO graph. There is no tendency that the model is better at classifying GOs at a higher layer, i.e. are more general.\n",
    "- The GO terms that are true positive have different frequencies in the dataset. But there is a tendency that true positives are the less common GOs, which is not an expected behavior.\n",
    "- The GO terms that are false positives or false negatives show a clear tendency to occur in a lower layer of the GO graph (which is more specific). But there are also some errors in the higher layers.\n",
    "- The GO terms that are false positives or false negatives show a clear tendency to occur in the classes that are less common in the dataset. So this is an indicator that class imbalance is a problem here."
   ]
  }
 ],
 "metadata": {
  "kernelspec": {
   "display_name": "Python 3 (ipykernel)",
   "language": "python",
   "name": "python3"
  },
  "language_info": {
   "codemirror_mode": {
    "name": "ipython",
    "version": 3
   },
   "file_extension": ".py",
   "mimetype": "text/x-python",
   "name": "python",
   "nbconvert_exporter": "python",
   "pygments_lexer": "ipython3",
   "version": "3.9.16"
  }
 },
 "nbformat": 4,
 "nbformat_minor": 5
}
