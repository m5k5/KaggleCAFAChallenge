{
 "cells": [
  {
   "cell_type": "code",
   "execution_count": 64,
   "id": "9c1d77e7",
   "metadata": {},
   "outputs": [
    {
     "name": "stdout",
     "output_type": "stream",
     "text": [
      "Num GPUs Available:  1\n",
      "/mnt/e/ML/cafa-5-protein-function-prediction\n",
      "/mnt/e/ML/output\n"
     ]
    }
   ],
   "source": [
    "import os\n",
    "from dotenv import load_dotenv\n",
    "import numpy as np\n",
    "import tensorflow as tf\n",
    "import pandas as pd\n",
    "import datetime\n",
    "from tqdm.notebook import tqdm\n",
    "import warnings\n",
    "import matplotlib.pyplot as plt\n",
    "\n",
    "physical_devices = tf.config.list_physical_devices('GPU')\n",
    "print(\"Num GPUs Available: \", len(physical_devices))\n",
    "# try:\n",
    "#   tf.config.experimental.set_memory_growth(physical_devices[0], True)\n",
    "# except:\n",
    "#   # Invalid device or cannot modify virtual devices once initialized.\n",
    "#   pass\n",
    "\n",
    "load_dotenv(override=True)\n",
    "\n",
    "DATA_PATH = os.getenv('DATA_PATH')\n",
    "DATA_PATH_INTERPRO = os.getenv('DATA_PATH_INTERPRO')\n",
    "print(DATA_PATH)\n",
    "print(DATA_PATH_INTERPRO)\n",
    "\n",
    "# Choose subontology (CCO, MFO or BPO)\n",
    "SO = 'CCO'"
   ]
  },
  {
   "attachments": {},
   "cell_type": "markdown",
   "id": "e3544f8a",
   "metadata": {},
   "source": [
    "## Reading fasta, obo and tsv files"
   ]
  },
  {
   "cell_type": "code",
   "execution_count": 65,
   "id": "c8b515f2",
   "metadata": {},
   "outputs": [],
   "source": [
    "from Bio import SeqIO\n",
    "\n",
    "sequences = [rec.seq for rec in SeqIO.parse(os.path.join(DATA_PATH, \"Train/train_sequences.fasta\"),\"fasta\")]\n",
    "ids = [rec.id for rec in SeqIO.parse(os.path.join(DATA_PATH, \"Train/train_sequences.fasta\"),\"fasta\")]"
   ]
  },
  {
   "cell_type": "code",
   "execution_count": 66,
   "id": "2898414e",
   "metadata": {},
   "outputs": [],
   "source": [
    "import networkx\n",
    "import obonet\n",
    "\n",
    "# Read the taxrank ontology\n",
    "url = os.path.join(DATA_PATH, \"Train/go-basic.obo\")\n",
    "graph = obonet.read_obo(url)\n"
   ]
  },
  {
   "cell_type": "code",
   "execution_count": 67,
   "id": "9f4bf949",
   "metadata": {},
   "outputs": [
    {
     "name": "stdout",
     "output_type": "stream",
     "text": [
      "(1196017, 3)\n"
     ]
    }
   ],
   "source": [
    "df = pd.read_csv(os.path.join(DATA_PATH, \"Train/train_terms.tsv\"), sep='\\t')\n",
    "\n",
    "dfSO = df.loc[df[\"aspect\"]==SO]\n",
    "uniqueTerms = dfSO[\"term\"].unique()\n",
    "termsArr = list(dfSO[\"term\"].to_numpy())\n",
    "\n",
    "uniqueTermsDict={}\n",
    "for i,el in enumerate(uniqueTerms):\n",
    "    uniqueTermsDict[el] = i\n",
    "    \n",
    "print(dfSO.shape)\n",
    "df=dfSO\n",
    "\n",
    "df.set_index(\"EntryID\", inplace=True)"
   ]
  },
  {
   "cell_type": "code",
   "execution_count": 68,
   "id": "e4dec705",
   "metadata": {},
   "outputs": [],
   "source": [
    "testID = df.index.to_list()[0]"
   ]
  },
  {
   "cell_type": "code",
   "execution_count": 69,
   "id": "7fff067f",
   "metadata": {},
   "outputs": [],
   "source": [
    "dfGo = pd.read_csv(os.path.join(DATA_PATH, \"Train/train_terms.tsv\"), sep='\\t')\n",
    "\n",
    "dfGo = dfGo.loc[dfGo[\"aspect\"]==SO]\n",
    "\n",
    "dfGo.set_index(\"term\", inplace=True)"
   ]
  },
  {
   "attachments": {},
   "cell_type": "markdown",
   "id": "5338b7f8",
   "metadata": {},
   "source": [
    "## GO analysis"
   ]
  },
  {
   "cell_type": "code",
   "execution_count": 70,
   "id": "1058ef1d",
   "metadata": {},
   "outputs": [],
   "source": [
    "item_counts = df[\"term\"].value_counts()"
   ]
  },
  {
   "cell_type": "code",
   "execution_count": 71,
   "id": "eb35584f",
   "metadata": {},
   "outputs": [],
   "source": [
    "id_to_name = {id_: data.get('name') for id_, data in graph.nodes(data=True)}\n",
    "name_to_id = {data['name']: id_ for id_, data in graph.nodes(data=True) if 'name' in data}"
   ]
  },
  {
   "cell_type": "code",
   "execution_count": 72,
   "id": "68179caa",
   "metadata": {},
   "outputs": [],
   "source": [
    "if SO==\"CCO\":\n",
    "    GOTarget=name_to_id[\"cellular_component\"]\n",
    "elif SO==\"MFO\":\n",
    "    GOTarget=name_to_id[\"molecular_function\"]\n",
    "elif SO==\"BPO\":\n",
    "    GOTarget = name_to_id[\"biological_process\"]\n",
    "\n",
    "def getAllAncestors(go):\n",
    "    try:\n",
    "        paths = networkx.all_simple_paths(\n",
    "            graph,\n",
    "            source=go,\n",
    "            target=GOTarget\n",
    "        )\n",
    "    except:\n",
    "        return []\n",
    "    gos = []\n",
    "    for path in paths:\n",
    "        for node in path:\n",
    "            gos.append(node)\n",
    "    return list(set(gos))\n"
   ]
  },
  {
   "attachments": {},
   "cell_type": "markdown",
   "id": "3c099fc2",
   "metadata": {},
   "source": [
    "## Label encoding"
   ]
  },
  {
   "attachments": {},
   "cell_type": "markdown",
   "id": "cae9a3b0",
   "metadata": {},
   "source": [
    "The task is a multilabel classification: The output has several possible targets (Gene Ontologies) but each can only be 1 (existing) or 0 (non existing)"
   ]
  },
  {
   "attachments": {},
   "cell_type": "markdown",
   "id": "c8e63ed9",
   "metadata": {},
   "source": [
    "Extract label weights from IA"
   ]
  },
  {
   "cell_type": "code",
   "execution_count": 73,
   "id": "c7e3c316",
   "metadata": {},
   "outputs": [
    {
     "name": "stdout",
     "output_type": "stream",
     "text": [
      "Not found GOs: 0 (set to 0)\n"
     ]
    }
   ],
   "source": [
    "dfIa = pd.read_csv(os.path.join(DATA_PATH, \"IA.txt\"), sep='\\t', header=None)\n",
    "\n",
    "dfIa.set_index(0, inplace=True)\n",
    "\n",
    "labelWeights=[]\n",
    "allIndices = dfIa.index.tolist()\n",
    "\n",
    "\n",
    "\n",
    "notFound=0\n",
    "for go in item_counts.index.to_list():\n",
    "    if go in allIndices:\n",
    "        labelWeights.append(dfIa.loc[go].to_numpy()[0])\n",
    "    else:\n",
    "        notFound += 1\n",
    "        labelWeights.append(0)\n",
    "\n",
    "print(\"Not found GOs: {} (set to 0)\".format(notFound))"
   ]
  },
  {
   "cell_type": "code",
   "execution_count": 74,
   "id": "caeee590",
   "metadata": {},
   "outputs": [
    {
     "name": "stdout",
     "output_type": "stream",
     "text": [
      "Loading presaved data\n"
     ]
    }
   ],
   "source": [
    "topGOs=item_counts.index.to_list()\n",
    "\n",
    "threshold=0\n",
    "labelWeights=np.array(labelWeights)\n",
    "selection = labelWeights>threshold\n",
    "topGOs=np.array(topGOs)[selection]\n",
    "\n",
    "if os.path.exists(os.path.join(DATA_PATH, \"GODataSizes_\"+SO+\".npy\")):\n",
    "    print(\"Loading presaved data\")\n",
    "    GODataSizes = np.load(os.path.join(DATA_PATH, \"GODataSizes_\"+SO+\".npy\"))\n",
    "else:\n",
    "    GODataSizes= [dfGo.loc[g].size for g in topGOs]\n",
    "    np.save(os.path.join(DATA_PATH, \"GODataSizes_\"+SO), GODataSizes)\n"
   ]
  },
  {
   "cell_type": "code",
   "execution_count": 75,
   "id": "3e87f301",
   "metadata": {},
   "outputs": [
    {
     "name": "stdout",
     "output_type": "stream",
     "text": [
      "2055\n"
     ]
    }
   ],
   "source": [
    "#At least 10 samples\n",
    "print(np.count_nonzero(np.array(GODataSizes)>5))\n",
    "GODataSizes= np.array(GODataSizes)\n",
    "GOsWithSufficientData = topGOs[GODataSizes>5]\n"
   ]
  },
  {
   "cell_type": "code",
   "execution_count": 76,
   "id": "99f6a6ca",
   "metadata": {},
   "outputs": [
    {
     "name": "stdout",
     "output_type": "stream",
     "text": [
      "2567\n",
      "['GO:0099086' 'GO:0000228' 'GO:0005622' 'GO:0043226' 'GO:0000792'\n",
      " 'GO:0000795' 'GO:0000785' 'GO:0043231' 'GO:0032991' 'GO:0043229'\n",
      " 'GO:0043232' 'GO:0005634' 'GO:0005705' 'GO:0043228' 'GO:0031981'\n",
      " 'GO:0000793' 'GO:0098687' 'GO:0043233' 'GO:0005700' 'GO:0005575'\n",
      " 'GO:0044815' 'GO:0005694' 'GO:0000794' 'GO:0008278' 'GO:0110165'\n",
      " 'GO:0005721' 'GO:0070013' 'GO:0043227' 'GO:0000775' 'GO:0031974']\n",
      "[[0 0 0 ... 0 0 0]]\n",
      "2055\n"
     ]
    },
    {
     "name": "stderr",
     "output_type": "stream",
     "text": [
      "/home/manuel/miniconda3/envs/tf/lib/python3.9/site-packages/sklearn/preprocessing/_label.py:895: UserWarning: unknown class(es) ['GO:0005575', 'GO:0043232'] will be ignored\n",
      "  warnings.warn(\n"
     ]
    }
   ],
   "source": [
    "from sklearn.preprocessing import MultiLabelBinarizer\n",
    "import pickle\n",
    "\n",
    "print(len(topGOs))\n",
    "mlb = MultiLabelBinarizer()\n",
    "mlb.fit([GOsWithSufficientData])\n",
    "\n",
    "dftest=df.loc[testID]\n",
    "indices = dftest[\"term\"].to_numpy()\n",
    "print(indices)\n",
    "print(mlb.transform([indices]))\n",
    "print(len(mlb.classes_))\n",
    "\n",
    "with open(os.path.join(DATA_PATH,'MLB_'+SO+'.pkl'), 'wb') as f:\n",
    "    pickle.dump(mlb, f)"
   ]
  },
  {
   "cell_type": "code",
   "execution_count": 77,
   "id": "fb189ff8",
   "metadata": {},
   "outputs": [
    {
     "name": "stdout",
     "output_type": "stream",
     "text": [
      "Not found GOs: 0 (set to 0)\n"
     ]
    }
   ],
   "source": [
    "labelWeightsCorr=[]\n",
    "occurenceScores=[]\n",
    "occurenceDict={}\n",
    "termHist= df[\"term\"].value_counts()\n",
    "maxGoCount = termHist.max()\n",
    "\n",
    "notFound=0\n",
    "for go in mlb.classes_:\n",
    "    if go in allIndices:\n",
    "        occurenceScore = (maxGoCount-termHist[go])/maxGoCount\n",
    "        occurenceScores.append(occurenceScore)\n",
    "        occurenceDict[go] = termHist[go]\n",
    "        labelWeightsCorr.append(dfIa.loc[go].to_numpy()[0])\n",
    "    else:\n",
    "        notFound += 1\n",
    "        labelWeightsCorr.append(0)\n",
    "\n",
    "print(\"Not found GOs: {} (set to 0)\".format(notFound))\n",
    "labelWeightsCorr=np.array(labelWeightsCorr)"
   ]
  },
  {
   "cell_type": "code",
   "execution_count": 78,
   "id": "19458edf",
   "metadata": {},
   "outputs": [
    {
     "data": {
      "application/vnd.jupyter.widget-view+json": {
       "model_id": "529dd3c0660c41dd92ee3a7fde33da1e",
       "version_major": 2,
       "version_minor": 0
      },
      "text/plain": [
       "0it [00:00, ?it/s]"
      ]
     },
     "metadata": {},
     "output_type": "display_data"
    }
   ],
   "source": [
    "ancestorDict = {}\n",
    "goIdxTensors=[]\n",
    "\n",
    "for goIdx, go in tqdm(enumerate(mlb.classes_)):\n",
    "    ancestors = getAllAncestors(go)\n",
    "    ancestors.append(go)\n",
    "    with warnings.catch_warnings():\n",
    "        #supress the warnings for unknown classes\n",
    "        warnings.simplefilter(\"ignore\")\n",
    "        fullPath = mlb.transform([ancestors])[0]\n",
    "    fullPathTensor = tf.constant(fullPath)\n",
    "    goIdxTensor = tf.constant(goIdx)\n",
    "    goIdxTensors.append(goIdxTensor)\n",
    "    ancestorDict[goIdxTensor.ref()] = fullPathTensor\n",
    "    \n",
    "# AncestorDictTensor = tf.lookup.KeyValueTensorInitializer(tf.constant(list(ancestorDict.keys())),tf.constant(np.array(list(ancestorDict.values()))))\n",
    "# AncestorDictLookup = tf.lookup.StaticHashTable(AncestorDictTensor,default_value=-1)"
   ]
  },
  {
   "cell_type": "code",
   "execution_count": 79,
   "id": "cd187102",
   "metadata": {},
   "outputs": [
    {
     "data": {
      "text/plain": [
       "<tf.Tensor: shape=(2055,), dtype=int64, numpy=array([0, 0, 0, ..., 0, 0, 0])>"
      ]
     },
     "execution_count": 79,
     "metadata": {},
     "output_type": "execute_result"
    }
   ],
   "source": [
    "ancestorDict[goIdxTensors[12].ref()]"
   ]
  },
  {
   "cell_type": "code",
   "execution_count": 80,
   "id": "f16b39a4",
   "metadata": {},
   "outputs": [
    {
     "data": {
      "text/plain": [
       "[('GO:0000138',\n",
       "  'GO:0005622',\n",
       "  'GO:0005737',\n",
       "  'GO:0005794',\n",
       "  'GO:0005795',\n",
       "  'GO:0012505',\n",
       "  'GO:0031984',\n",
       "  'GO:0031985',\n",
       "  'GO:0043226',\n",
       "  'GO:0043227',\n",
       "  'GO:0043229',\n",
       "  'GO:0043231',\n",
       "  'GO:0098791',\n",
       "  'GO:0110165')]"
      ]
     },
     "execution_count": 80,
     "metadata": {},
     "output_type": "execute_result"
    }
   ],
   "source": [
    "mlb.inverse_transform(np.array([ancestorDict[goIdxTensors[12].ref()]]))"
   ]
  },
  {
   "cell_type": "code",
   "execution_count": 81,
   "id": "83c81df4",
   "metadata": {},
   "outputs": [
    {
     "data": {
      "text/plain": [
       "(2055, 2055)"
      ]
     },
     "execution_count": 81,
     "metadata": {},
     "output_type": "execute_result"
    }
   ],
   "source": [
    "np.array(list(ancestorDict.values())).shape"
   ]
  },
  {
   "attachments": {},
   "cell_type": "markdown",
   "id": "92019f8c",
   "metadata": {},
   "source": [
    "## Amino acids encoding"
   ]
  },
  {
   "cell_type": "code",
   "execution_count": 82,
   "id": "6e42462e",
   "metadata": {},
   "outputs": [],
   "source": [
    "aa_dict = {'A': 1, 'B':24, 'C': 2, 'D': 3, 'E': 4, 'F': 5, 'G': 6, 'H': 7, 'I': 8, 'K': 9, 'L': 10, 'M': 11, 'N': 12, 'O': 21, 'P': 13, 'Q': 14, 'R': 15, 'S': 16, 'T': 17, 'U': 22, 'V': 18, 'W': 19, 'Y': 20, 'X':30, 'Z':23}"
   ]
  },
  {
   "cell_type": "markdown",
   "id": "781c2a48",
   "metadata": {},
   "source": [
    "## T5 Embeds"
   ]
  },
  {
   "cell_type": "code",
   "execution_count": 83,
   "id": "45f2df27",
   "metadata": {},
   "outputs": [
    {
     "name": "stdout",
     "output_type": "stream",
     "text": [
      "(142246,)\n",
      "(142246, 1025)\n"
     ]
    },
    {
     "data": {
      "text/html": [
       "<div>\n",
       "<style scoped>\n",
       "    .dataframe tbody tr th:only-of-type {\n",
       "        vertical-align: middle;\n",
       "    }\n",
       "\n",
       "    .dataframe tbody tr th {\n",
       "        vertical-align: top;\n",
       "    }\n",
       "\n",
       "    .dataframe thead th {\n",
       "        text-align: right;\n",
       "    }\n",
       "</style>\n",
       "<table border=\"1\" class=\"dataframe\">\n",
       "  <thead>\n",
       "    <tr style=\"text-align: right;\">\n",
       "      <th></th>\n",
       "      <th>Column_1</th>\n",
       "      <th>Column_2</th>\n",
       "      <th>Column_3</th>\n",
       "      <th>Column_4</th>\n",
       "      <th>Column_5</th>\n",
       "      <th>Column_6</th>\n",
       "      <th>Column_7</th>\n",
       "      <th>Column_8</th>\n",
       "      <th>Column_9</th>\n",
       "      <th>Column_10</th>\n",
       "      <th>...</th>\n",
       "      <th>Column_1015</th>\n",
       "      <th>Column_1016</th>\n",
       "      <th>Column_1017</th>\n",
       "      <th>Column_1018</th>\n",
       "      <th>Column_1019</th>\n",
       "      <th>Column_1020</th>\n",
       "      <th>Column_1021</th>\n",
       "      <th>Column_1022</th>\n",
       "      <th>Column_1023</th>\n",
       "      <th>Column_1024</th>\n",
       "    </tr>\n",
       "    <tr>\n",
       "      <th>ids</th>\n",
       "      <th></th>\n",
       "      <th></th>\n",
       "      <th></th>\n",
       "      <th></th>\n",
       "      <th></th>\n",
       "      <th></th>\n",
       "      <th></th>\n",
       "      <th></th>\n",
       "      <th></th>\n",
       "      <th></th>\n",
       "      <th></th>\n",
       "      <th></th>\n",
       "      <th></th>\n",
       "      <th></th>\n",
       "      <th></th>\n",
       "      <th></th>\n",
       "      <th></th>\n",
       "      <th></th>\n",
       "      <th></th>\n",
       "      <th></th>\n",
       "      <th></th>\n",
       "    </tr>\n",
       "  </thead>\n",
       "  <tbody>\n",
       "    <tr>\n",
       "      <th>P20536</th>\n",
       "      <td>0.049488</td>\n",
       "      <td>-0.032935</td>\n",
       "      <td>0.032473</td>\n",
       "      <td>-0.033723</td>\n",
       "      <td>-0.059505</td>\n",
       "      <td>0.075936</td>\n",
       "      <td>-0.045860</td>\n",
       "      <td>-0.104476</td>\n",
       "      <td>-0.072112</td>\n",
       "      <td>0.038806</td>\n",
       "      <td>...</td>\n",
       "      <td>-0.046516</td>\n",
       "      <td>-0.028773</td>\n",
       "      <td>-0.021878</td>\n",
       "      <td>-0.097883</td>\n",
       "      <td>0.056475</td>\n",
       "      <td>0.080950</td>\n",
       "      <td>-0.020938</td>\n",
       "      <td>-0.043532</td>\n",
       "      <td>0.096463</td>\n",
       "      <td>0.073070</td>\n",
       "    </tr>\n",
       "    <tr>\n",
       "      <th>O73864</th>\n",
       "      <td>-0.044616</td>\n",
       "      <td>0.064925</td>\n",
       "      <td>-0.080263</td>\n",
       "      <td>-0.075338</td>\n",
       "      <td>-0.004731</td>\n",
       "      <td>0.025408</td>\n",
       "      <td>-0.024685</td>\n",
       "      <td>-0.016568</td>\n",
       "      <td>-0.038980</td>\n",
       "      <td>-0.033870</td>\n",
       "      <td>...</td>\n",
       "      <td>-0.040173</td>\n",
       "      <td>0.003925</td>\n",
       "      <td>0.006130</td>\n",
       "      <td>0.007362</td>\n",
       "      <td>-0.066848</td>\n",
       "      <td>0.106882</td>\n",
       "      <td>-0.030134</td>\n",
       "      <td>0.026724</td>\n",
       "      <td>0.027879</td>\n",
       "      <td>-0.048430</td>\n",
       "    </tr>\n",
       "    <tr>\n",
       "      <th>O95231</th>\n",
       "      <td>-0.020128</td>\n",
       "      <td>-0.049779</td>\n",
       "      <td>0.007894</td>\n",
       "      <td>-0.000829</td>\n",
       "      <td>-0.047737</td>\n",
       "      <td>0.086453</td>\n",
       "      <td>-0.038107</td>\n",
       "      <td>-0.036379</td>\n",
       "      <td>0.029611</td>\n",
       "      <td>0.045029</td>\n",
       "      <td>...</td>\n",
       "      <td>0.029388</td>\n",
       "      <td>0.008456</td>\n",
       "      <td>0.000697</td>\n",
       "      <td>0.013502</td>\n",
       "      <td>-0.005968</td>\n",
       "      <td>-0.011571</td>\n",
       "      <td>0.005704</td>\n",
       "      <td>-0.036103</td>\n",
       "      <td>0.007693</td>\n",
       "      <td>0.106234</td>\n",
       "    </tr>\n",
       "    <tr>\n",
       "      <th>A0A0B4J1F4</th>\n",
       "      <td>-0.007515</td>\n",
       "      <td>0.060628</td>\n",
       "      <td>0.004045</td>\n",
       "      <td>0.027056</td>\n",
       "      <td>-0.021542</td>\n",
       "      <td>0.010380</td>\n",
       "      <td>-0.025064</td>\n",
       "      <td>-0.055834</td>\n",
       "      <td>0.068238</td>\n",
       "      <td>0.027764</td>\n",
       "      <td>...</td>\n",
       "      <td>0.020792</td>\n",
       "      <td>0.023307</td>\n",
       "      <td>0.009009</td>\n",
       "      <td>0.018211</td>\n",
       "      <td>0.020820</td>\n",
       "      <td>-0.031738</td>\n",
       "      <td>0.013279</td>\n",
       "      <td>-0.018357</td>\n",
       "      <td>0.008087</td>\n",
       "      <td>0.010917</td>\n",
       "    </tr>\n",
       "    <tr>\n",
       "      <th>P54366</th>\n",
       "      <td>0.013468</td>\n",
       "      <td>0.041516</td>\n",
       "      <td>0.018435</td>\n",
       "      <td>-0.035595</td>\n",
       "      <td>0.008770</td>\n",
       "      <td>0.018699</td>\n",
       "      <td>-0.015452</td>\n",
       "      <td>-0.038092</td>\n",
       "      <td>-0.038326</td>\n",
       "      <td>-0.012299</td>\n",
       "      <td>...</td>\n",
       "      <td>-0.044742</td>\n",
       "      <td>-0.025432</td>\n",
       "      <td>-0.060886</td>\n",
       "      <td>-0.026915</td>\n",
       "      <td>0.026342</td>\n",
       "      <td>0.017237</td>\n",
       "      <td>0.014731</td>\n",
       "      <td>-0.016861</td>\n",
       "      <td>-0.016272</td>\n",
       "      <td>0.037054</td>\n",
       "    </tr>\n",
       "  </tbody>\n",
       "</table>\n",
       "<p>5 rows × 1024 columns</p>\n",
       "</div>"
      ],
      "text/plain": [
       "            Column_1  Column_2  Column_3  Column_4  Column_5  Column_6  \\\n",
       "ids                                                                      \n",
       "P20536      0.049488 -0.032935  0.032473 -0.033723 -0.059505  0.075936   \n",
       "O73864     -0.044616  0.064925 -0.080263 -0.075338 -0.004731  0.025408   \n",
       "O95231     -0.020128 -0.049779  0.007894 -0.000829 -0.047737  0.086453   \n",
       "A0A0B4J1F4 -0.007515  0.060628  0.004045  0.027056 -0.021542  0.010380   \n",
       "P54366      0.013468  0.041516  0.018435 -0.035595  0.008770  0.018699   \n",
       "\n",
       "            Column_7  Column_8  Column_9  Column_10  ...  Column_1015  \\\n",
       "ids                                                  ...                \n",
       "P20536     -0.045860 -0.104476 -0.072112   0.038806  ...    -0.046516   \n",
       "O73864     -0.024685 -0.016568 -0.038980  -0.033870  ...    -0.040173   \n",
       "O95231     -0.038107 -0.036379  0.029611   0.045029  ...     0.029388   \n",
       "A0A0B4J1F4 -0.025064 -0.055834  0.068238   0.027764  ...     0.020792   \n",
       "P54366     -0.015452 -0.038092 -0.038326  -0.012299  ...    -0.044742   \n",
       "\n",
       "            Column_1016  Column_1017  Column_1018  Column_1019  Column_1020  \\\n",
       "ids                                                                           \n",
       "P20536        -0.028773    -0.021878    -0.097883     0.056475     0.080950   \n",
       "O73864         0.003925     0.006130     0.007362    -0.066848     0.106882   \n",
       "O95231         0.008456     0.000697     0.013502    -0.005968    -0.011571   \n",
       "A0A0B4J1F4     0.023307     0.009009     0.018211     0.020820    -0.031738   \n",
       "P54366        -0.025432    -0.060886    -0.026915     0.026342     0.017237   \n",
       "\n",
       "            Column_1021  Column_1022  Column_1023  Column_1024  \n",
       "ids                                                             \n",
       "P20536        -0.020938    -0.043532     0.096463     0.073070  \n",
       "O73864        -0.030134     0.026724     0.027879    -0.048430  \n",
       "O95231         0.005704    -0.036103     0.007693     0.106234  \n",
       "A0A0B4J1F4     0.013279    -0.018357     0.008087     0.010917  \n",
       "P54366         0.014731    -0.016861    -0.016272     0.037054  \n",
       "\n",
       "[5 rows x 1024 columns]"
      ]
     },
     "execution_count": 83,
     "metadata": {},
     "output_type": "execute_result"
    }
   ],
   "source": [
    "train_embeddings = np.load(os.path.join(DATA_PATH, \"t5/train_embeds.npy\"))\n",
    "\n",
    "column_num = train_embeddings.shape[1]\n",
    "t5df = pd.DataFrame(\n",
    "    train_embeddings, columns=[\"Column_\" + str(i) for i in range(1, column_num + 1)]\n",
    ")\n",
    "t5Dimension = t5df.shape[1]\n",
    "\n",
    "train_protein_ids = np.load(os.path.join(DATA_PATH, \"t5/train_ids.npy\"))\n",
    "t5df[\"ids\"] = train_protein_ids\n",
    "print(train_protein_ids.shape)\n",
    "print(t5df.shape)\n",
    "t5df.set_index(\"ids\", inplace=True)\n",
    "t5df.head()"
   ]
  },
  {
   "cell_type": "markdown",
   "id": "d206203f",
   "metadata": {},
   "source": [
    "## Interpro Data"
   ]
  },
  {
   "cell_type": "code",
   "execution_count": 84,
   "id": "43765061",
   "metadata": {},
   "outputs": [],
   "source": [
    "import xml.etree.ElementTree as ET\n",
    "root = ET.parse(os.path.join(DATA_PATH, \"interpro.xml\")).getroot()"
   ]
  },
  {
   "cell_type": "code",
   "execution_count": 85,
   "id": "2e280b8f",
   "metadata": {},
   "outputs": [
    {
     "data": {
      "text/plain": [
       "{'Active_site',\n",
       " 'Binding_site',\n",
       " 'Conserved_site',\n",
       " 'Domain',\n",
       " 'Family',\n",
       " 'Homologous_superfamily',\n",
       " 'PTM',\n",
       " 'Repeat'}"
      ]
     },
     "execution_count": 85,
     "metadata": {},
     "output_type": "execute_result"
    }
   ],
   "source": [
    "possibleDomains=[]\n",
    "allIPTypes=[]\n",
    "for child in root:\n",
    "    if \"type\" in child.attrib:\n",
    "        allIPTypes.append(child.attrib[\"type\"])\n",
    "        if(child.attrib[\"type\"]==\"Domain\" or child.attrib[\"type\"]==\"Repeat\" or child.attrib[\"type\"]==\"Family\" or child.attrib[\"type\"]==\"Homologous_superfamily\"):\n",
    "            # print(child.tag, child.attrib)\n",
    "            possibleDomains.append(child.attrib[\"id\"])\n",
    "\n",
    "set(allIPTypes)"
   ]
  },
  {
   "cell_type": "code",
   "execution_count": 86,
   "id": "23b46e43",
   "metadata": {},
   "outputs": [
    {
     "name": "stdout",
     "output_type": "stream",
     "text": [
      "[[1 0 0 ... 0 0 0]]\n",
      "38293\n"
     ]
    }
   ],
   "source": [
    "len(possibleDomains)\n",
    "\n",
    "mlbInterPro = MultiLabelBinarizer()\n",
    "mlbInterPro.fit([possibleDomains])\n",
    "\n",
    "\n",
    "print(mlbInterPro.transform([[\"IPR000001\"]]))\n",
    "print(len(mlbInterPro.classes_))\n",
    "\n",
    "with open(os.path.join(DATA_PATH,'MLB_InterPro_'+SO+'.pkl'), 'wb') as f:\n",
    "    pickle.dump(mlbInterPro, f)"
   ]
  },
  {
   "cell_type": "code",
   "execution_count": 87,
   "id": "fb7cd04a",
   "metadata": {},
   "outputs": [
    {
     "name": "stdout",
     "output_type": "stream",
     "text": [
      "Processing  train_sequences0.fasta.json\n",
      "Processing  train_sequences1.fasta.json\n",
      "Processing  train_sequences2.fasta.json\n",
      "Processing  train_sequences3.fasta.json\n",
      "Processing  train_sequences4_1.fasta.json\n",
      "Processing  train_sequences4_2.fasta.json\n",
      "Processing  train_sequences4_3.fasta.json\n",
      "Processing  train_sequences4_4.fasta.json\n",
      "Processing  train_sequences5_1.fasta.json\n",
      "Processing  train_sequences5_2.fasta.json\n",
      "Processing  train_sequences5_3.fasta.json\n"
     ]
    }
   ],
   "source": [
    "import json\n",
    "\n",
    "allInterproData =[]\n",
    "\n",
    "for root,dirs,files in os.walk(os.path.join(DATA_PATH_INTERPRO, \"train\")):\n",
    "    for f in files:\n",
    "        if f.endswith(\".json\"):\n",
    "            print(\"Processing \", f)\n",
    "            with open(os.path.join(root, f)) as inputFile:\n",
    "                iprData = json.load(inputFile)\n",
    "            allInterproData=[*allInterproData, *iprData[\"results\"]]"
   ]
  },
  {
   "cell_type": "code",
   "execution_count": 88,
   "id": "6cd8d58f",
   "metadata": {},
   "outputs": [
    {
     "data": {
      "text/plain": [
       "141650"
      ]
     },
     "execution_count": 88,
     "metadata": {},
     "output_type": "execute_result"
    }
   ],
   "source": [
    "len(allInterproData)"
   ]
  },
  {
   "cell_type": "code",
   "execution_count": 89,
   "id": "6e1c7d8e",
   "metadata": {},
   "outputs": [
    {
     "data": {
      "application/vnd.jupyter.widget-view+json": {
       "model_id": "fd8bcc13ab794b7193fa7cc79a01c35c",
       "version_major": 2,
       "version_minor": 0
      },
      "text/plain": [
       "  0%|          | 0/141650 [00:00<?, ?it/s]"
      ]
     },
     "metadata": {},
     "output_type": "display_data"
    }
   ],
   "source": [
    "\n",
    "iprIds = {}\n",
    "\n",
    "\n",
    "for entry in tqdm(allInterproData):\n",
    "    entryId = entry[\"xref\"][0][\"id\"]\n",
    "    matches=[]\n",
    "    for match in entry[\"matches\"]:\n",
    "        sigEntry = match[\"signature\"][\"entry\"]\n",
    "        if(sigEntry):\n",
    "            type = sigEntry[\"type\"]\n",
    "            if type==\"DOMAIN\" or type==\"REPEAT\" or type==\"FAMILY\" or type==\"HOMOLOGOUS_SUPERFAMILY\":\n",
    "                iprId = match[\"signature\"][\"entry\"][\"accession\"]\n",
    "                matches.append(iprId)\n",
    "    iprIds[entryId] = matches"
   ]
  },
  {
   "cell_type": "code",
   "execution_count": 90,
   "id": "1d2cd32c",
   "metadata": {},
   "outputs": [
    {
     "data": {
      "text/plain": [
       "4"
      ]
     },
     "execution_count": 90,
     "metadata": {},
     "output_type": "execute_result"
    }
   ],
   "source": [
    "testInput = mlbInterPro.transform([iprIds[\"Q55G04\"]])\n",
    "np.count_nonzero(testInput)"
   ]
  },
  {
   "cell_type": "markdown",
   "id": "c4e073e2",
   "metadata": {},
   "source": [
    "## Physiochemical Properties"
   ]
  },
  {
   "cell_type": "code",
   "execution_count": 91,
   "id": "07e0db99",
   "metadata": {},
   "outputs": [
    {
     "name": "stdout",
     "output_type": "stream",
     "text": [
      "Loading presaved data\n"
     ]
    }
   ],
   "source": [
    "\n",
    "from Bio.SeqUtils.ProtParam import ProteinAnalysis\n",
    "from Bio.Seq import MutableSeq, Seq\n",
    "from tqdm.notebook import tqdm\n",
    "import pickle\n",
    "\n",
    "if os.path.exists(os.path.join(DATA_PATH, \"PCDict\"+\".pkl\")):\n",
    "    print(\"Loading presaved data\")\n",
    "    with open(os.path.join(DATA_PATH, \"PCDict\"+\".pkl\"), 'rb') as f:\n",
    "        PCDict = pickle.load(f)\n",
    "else:\n",
    "    PCDict = {}\n",
    "\n",
    "    for i,seq in enumerate(tqdm(sequences)):\n",
    "\n",
    "        index = ids[i]\n",
    "        \n",
    "        X =ProteinAnalysis(seq)\n",
    "\n",
    "        if \"X\" in seq or \"U\" in seq or \"O\" in seq or \"B\" in seq or \"Z\" in seq:\n",
    "            cleanedSeq = seq.replace(\"X\", \"A\")\n",
    "            cleanedSeq = cleanedSeq.replace(\"U\", \"A\")\n",
    "            cleanedSeq = cleanedSeq.replace(\"O\", \"A\")\n",
    "            cleanedSeq = cleanedSeq.replace(\"B\", \"A\")\n",
    "            cleanedSeq = cleanedSeq.replace(\"Z\", \"A\")\n",
    "            XClean =ProteinAnalysis(cleanedSeq)\n",
    "            flex = XClean.flexibility()\n",
    "            molW = XClean.molecular_weight()\n",
    "            instabIdx = XClean.instability_index()\n",
    "            gravy = XClean.gravy()\n",
    "        else:\n",
    "            flex= X.flexibility()\n",
    "            molW = X.molecular_weight()\n",
    "            instabIdx = X.instability_index()\n",
    "            gravy = X.gravy()\n",
    "\n",
    "        if len(flex)>10:\n",
    "            idx = np.round(np.linspace(0, len(flex) - 1, 10)).astype(int)\n",
    "            flex = np.array(flex)[idx]\n",
    "        elif len(flex)<10:\n",
    "            flex = np.pad(flex, (0,10-len(flex)))\n",
    "\n",
    "        protS= X.protein_scale(aa_dict,100)\n",
    "        if len(protS)>10:\n",
    "            idx = np.round(np.linspace(0, len(protS) - 1, 10)).astype(int)\n",
    "            protS = np.array(protS)[idx]\n",
    "        elif len(protS)<10:\n",
    "            protS = np.pad(protS, (0,10-len(protS)))\n",
    "\n",
    "        #Adding all the physiochemical properties (N = 53)\n",
    "        PCDict[index] = [ molW, X.aromaticity(), instabIdx, *list(X.get_amino_acids_percent().values()),\n",
    "                *flex, gravy, *protS, X.isoelectric_point(), X.charge_at_pH(7), X.charge_at_pH(3), X.charge_at_pH(10), *X.molar_extinction_coefficient(),\n",
    "                *X.secondary_structure_fraction()]\n",
    "        \n",
    "    with open(os.path.join(DATA_PATH, \"PCDict\"+\".pkl\"), 'wb') as f:\n",
    "        pickle.dump(PCDict, f)\n",
    "    \n"
   ]
  },
  {
   "attachments": {},
   "cell_type": "markdown",
   "id": "bfd823ba",
   "metadata": {},
   "source": [
    "## Build Dataset"
   ]
  },
  {
   "cell_type": "code",
   "execution_count": 92,
   "id": "6ff7484e",
   "metadata": {},
   "outputs": [
    {
     "name": "stdout",
     "output_type": "stream",
     "text": [
      "['A0A021WW32' 'A0A021WZA4' 'A0A023GPJ3' ... 'X6RLP6' 'X6RLR1' 'X6RM59']\n"
     ]
    }
   ],
   "source": [
    "dfAll=pd.read_csv(os.path.join(DATA_PATH, \"Train/train_terms.tsv\"), sep='\\t')\n",
    "\n",
    "soEntries = dfAll.loc[dfAll[\"aspect\"]==SO]\n",
    "soEntryIds = soEntries[\"EntryID\"].unique()\n",
    "\n",
    "print(soEntryIds)\n",
    "\n",
    "dfAll.set_index(\"EntryID\", inplace=True)"
   ]
  },
  {
   "cell_type": "code",
   "execution_count": 93,
   "id": "44f722e8",
   "metadata": {},
   "outputs": [
    {
     "name": "stdout",
     "output_type": "stream",
     "text": [
      "99572\n"
     ]
    }
   ],
   "source": [
    "from itertools import product\n",
    "from tqdm import tqdm\n",
    "import os\n",
    "\n",
    "\n",
    "TRAIN_VAL_SPLIT = 0.7\n",
    "k = 3\n",
    "PCLength = len(PCDict[ids[0]])\n",
    "\n",
    "allAA = list(aa_dict.keys())\n",
    "allAA.sort()\n",
    "allCombinations= list(product(*(allAA for i in range(k))))\n",
    "allCombinations=np.array([''.join(el) for el in allCombinations])\n",
    "\n",
    "positionDict = dict(zip(allCombinations, np.arange(0,allCombinations.size).T))\n",
    "\n",
    "#Use numpy vectorize to speed up the mapping (hopefully)\n",
    "mapping = lambda x: aa_dict[x]\n",
    "vectMapping = np.vectorize(mapping)\n",
    "\n",
    "# Shuffle the data\n",
    "import random\n",
    "random.seed(516213)\n",
    "c = list(zip(sequences, ids))\n",
    "random.shuffle(c)\n",
    "sequencesShuffle, idsShuffle = zip(*c)\n",
    "\n",
    "\n",
    "#Train Validation Split\n",
    "split = int(np.floor(len(sequencesShuffle)*TRAIN_VAL_SPLIT))\n",
    "print(split)\n",
    "trainSeq = sequencesShuffle[0:split]\n",
    "valSeq = sequencesShuffle[split+1:]\n",
    "trainIds = idsShuffle[0:split]\n",
    "valIds = idsShuffle[split+1:]\n",
    "\n",
    "\n",
    "def generator():\n",
    "  for idxTrain,seqTrain in enumerate(trainSeq):\n",
    "      entryIdTrain = trainIds[idxTrain]\n",
    "      if entryIdTrain in soEntryIds:\n",
    "        labelDataTrain = df.loc[entryIdTrain]\n",
    "        # indices = labelData[\"termToken\"].to_numpy()\n",
    "        indicesTrain = labelDataTrain[\"term\"].to_numpy()\n",
    "      else: \n",
    "        indicesTrain=[]\n",
    "        continue\n",
    "\n",
    "      with warnings.catch_warnings():\n",
    "        #supress the warnings for unknown classes\n",
    "        warnings.simplefilter(\"ignore\")\n",
    "        yTrain = mlb.transform([indicesTrain])\n",
    "\n",
    "      kmersTrain = [seqTrain[j:j+k] if j < len(seqTrain)-(k-1) else 0 for j,el in enumerate(seqTrain)]\n",
    "      kmersTrain = kmersTrain[0:-(k-1)]\n",
    "      kmersTrain = [str(el) for el in kmersTrain]\n",
    "      valuesTrain, countsTrain = np.unique(kmersTrain, return_counts=True)\n",
    "      freqVectorTrain=np.zeros(allCombinations.shape)\n",
    "      for lTrain,vTrain in enumerate(valuesTrain):\n",
    "          freqVectorTrain[positionDict[vTrain]] = countsTrain[lTrain]\n",
    "\n",
    "      with warnings.catch_warnings():\n",
    "        #supress the warnings for unknown classes\n",
    "        warnings.simplefilter(\"ignore\")\n",
    "        if entryIdTrain in iprIds:\n",
    "          xTrain  = mlbInterPro.transform([iprIds[entryIdTrain]])\n",
    "        else:\n",
    "          xTrain  = mlbInterPro.transform([[]])\n",
    "      \n",
    "\n",
    "      #Adding all the physiochemical properties (N = 53)\n",
    "      pcPropsTrain = PCDict[entryIdTrain]\n",
    "\n",
    "      t5data = t5df.loc[entryIdTrain].to_numpy()\n",
    "     \n",
    "      yield (np.array(pcPropsTrain),xTrain[0],freqVectorTrain, t5data, yTrain[0])\n",
    "\n",
    "\n",
    "def generatorVal():\n",
    "  for idxVal,seqVal in enumerate(valSeq):\n",
    "      entryIdVal = valIds[idxVal]\n",
    "      if entryIdVal in soEntryIds:\n",
    "        labelDataVal = df.loc[entryIdVal]\n",
    "        # indices = labelData[\"termToken\"].to_numpy()\n",
    "        indicesVal = labelDataVal[\"term\"].to_numpy()\n",
    "      else: \n",
    "        indicesVal=[]\n",
    "        continue\n",
    "\n",
    "      with warnings.catch_warnings():\n",
    "        #supress the warnings for unknown classes\n",
    "        warnings.simplefilter(\"ignore\")\n",
    "        yVal = mlb.transform([indicesVal])\n",
    "\n",
    "      kmersVal = [seqVal[jVal:jVal+k] if jVal < len(seqVal)-(k-1) else 0 for jVal,elVal in enumerate(seqVal)]\n",
    "      kmersVal = kmersVal[0:-(k-1)]\n",
    "      kmersVal = [str(el) for el in kmersVal]\n",
    "      valuesVal, countsVal = np.unique(kmersVal, return_counts=True)\n",
    "      freqVectorVal=np.zeros(allCombinations.shape)\n",
    "      for lVal,vVal in enumerate(valuesVal):\n",
    "          freqVectorVal[positionDict[vVal]] = countsVal[lVal]\n",
    "\n",
    "      with warnings.catch_warnings():\n",
    "        #supress the warnings for unknown classes\n",
    "        warnings.simplefilter(\"ignore\")\n",
    "        if entryIdVal in iprIds:\n",
    "          xVal  = mlbInterPro.transform([iprIds[entryIdVal]])\n",
    "        else:\n",
    "          xVal  = mlbInterPro.transform([[]])\n",
    "\n",
    "      #Adding all the physiochemical properties (N = 53)\n",
    "      pcPropsVal = PCDict[entryIdVal]\n",
    "\n",
    "      t5dataVal = t5df.loc[entryIdVal].to_numpy()\n",
    "      \n",
    "      yield (np.array(pcPropsVal),xVal[0],freqVectorVal, t5dataVal, yVal[0])"
   ]
  },
  {
   "cell_type": "code",
   "execution_count": 94,
   "id": "2727338a",
   "metadata": {},
   "outputs": [
    {
     "name": "stdout",
     "output_type": "stream",
     "text": [
      "PC Input: \n",
      "(53,)\n",
      "[2.55541204e+04 5.38116592e-02 4.29304933e+01 8.07174888e-02\n",
      " 4.48430493e-03 6.72645740e-02 8.52017937e-02 2.24215247e-02\n",
      " 4.93273543e-02 3.58744395e-02]\n",
      "\n",
      "Interpro Input: \n",
      "(38293,)\n",
      "[0 0 0 0 0 0 0 0 0 0]\n",
      "\n",
      "kMer Input: \n",
      "(15625,)\n",
      "[0. 0. 0. 0. 1. 0. 0. 0. 0. 0. 0. 0. 0. 0. 0. 0. 0. 0. 0. 0.]\n",
      "\n",
      "t5 Input: \n",
      "(1024,)\n",
      "[ 0.04004784 -0.0296594  -0.01283327  0.07037939  0.02067723 -0.00657474\n",
      " -0.01651246 -0.02251431  0.04364664  0.05383603 -0.0360223  -0.02114858\n",
      " -0.03876563  0.05915653  0.02718528  0.00972587 -0.00868579  0.03351716\n",
      " -0.01273249 -0.07273448]\n",
      "\n",
      "Targets: \n",
      "(2055,)\n",
      "[0 0 0 0 0 0 0 0 0 0 0 0 0 0 0 0 0 0 0 0]\n",
      "\n",
      "The first sample has 5 Interpro input classes\n",
      "The first sample has 215 kMer input classes\n",
      "The first sample has 2 output classes\n"
     ]
    }
   ],
   "source": [
    "g = generatorVal()\n",
    "test = next(g)\n",
    "print(\"PC Input: \\n{}\\n{}\\n\".format(test[0].shape, test[0][0:10]))\n",
    "print(\"Interpro Input: \\n{}\\n{}\\n\".format(test[1].shape, test[1][0:10]))\n",
    "print(\"kMer Input: \\n{}\\n{}\\n\".format(test[2].shape, test[2][0:20]))\n",
    "print(\"t5 Input: \\n{}\\n{}\\n\".format(test[3].shape, test[3][0:20]))\n",
    "print(\"Targets: \\n{}\\n{}\\n\".format(test[4].shape, test[4][0:20]))\n",
    "print(\"The first sample has {} Interpro input classes\".format(np.count_nonzero(test[1])))\n",
    "print(\"The first sample has {} kMer input classes\".format(np.count_nonzero(test[2])))\n",
    "print(\"The first sample has {} output classes\".format(np.count_nonzero(test[4])))"
   ]
  },
  {
   "attachments": {},
   "cell_type": "markdown",
   "id": "10c4a51a",
   "metadata": {},
   "source": [
    "## Tensorflow Classification"
   ]
  },
  {
   "cell_type": "code",
   "execution_count": 95,
   "id": "63f0d2e0",
   "metadata": {},
   "outputs": [
    {
     "name": "stdout",
     "output_type": "stream",
     "text": [
      "[(<tf.Tensor: shape=(53,), dtype=float32, numpy=\n",
      "array([ 2.5554121e+04,  5.3811658e-02,  4.2930492e+01,  8.0717489e-02,\n",
      "        4.4843052e-03,  6.7264572e-02,  8.5201792e-02,  2.2421524e-02,\n",
      "        4.9327355e-02,  3.5874441e-02,  7.6233186e-02,  3.5874441e-02,\n",
      "        1.3004485e-01,  3.1390134e-02,  2.6905829e-02,  3.1390134e-02,\n",
      "        6.2780268e-02,  8.0717489e-02,  3.1390134e-02,  4.4843048e-02,\n",
      "        7.1748883e-02,  8.9686103e-03,  2.2421524e-02,  9.7542858e-01,\n",
      "        1.0135833e+00,  1.0035119e+00,  9.5883334e-01,  1.0213572e+00,\n",
      "        1.0005596e+00,  9.9222618e-01,  1.0134286e+00,  9.9053574e-01,\n",
      "        1.0071905e+00, -2.1165919e-01,  9.3861389e+00,  9.1881189e+00,\n",
      "        8.9603958e+00,  9.5049505e+00,  1.0029703e+01,  1.0009901e+01,\n",
      "        1.0148515e+01,  1.0356436e+01,  1.0198020e+01,  1.0465346e+01,\n",
      "        5.5073233e+00, -7.7551098e+00,  3.2893135e+01, -1.6585476e+01,\n",
      "        1.8450000e+04,  1.8450000e+04,  3.3183858e-01,  1.3901345e-01,\n",
      "        3.2735425e-01], dtype=float32)>, <tf.Tensor: shape=(38293,), dtype=int32, numpy=array([0, 0, 0, ..., 0, 0, 0], dtype=int32)>, <tf.Tensor: shape=(15625,), dtype=int32, numpy=array([0, 0, 0, ..., 0, 0, 0], dtype=int32)>, <tf.Tensor: shape=(1024,), dtype=float32, numpy=\n",
      "array([ 0.04004784, -0.0296594 , -0.01283327, ..., -0.04327622,\n",
      "       -0.03758011, -0.01634724], dtype=float32)>, <tf.Tensor: shape=(2055,), dtype=int32, numpy=array([0, 0, 0, ..., 0, 0, 0], dtype=int32)>)]\n"
     ]
    }
   ],
   "source": [
    "#Input =  53 physiochemical properties, Interpro Domains, kMers\n",
    "\n",
    "dataset = tf.data.Dataset.from_generator(generator, output_signature=(\n",
    "    tf.TensorSpec(shape=(PCLength,), dtype=tf.float32),                 #Physiochemical properties\n",
    "    tf.TensorSpec(shape=(len(mlbInterPro.classes_),), dtype=tf.int32),  #Interpro Classes\n",
    "    tf.TensorSpec(shape=(allCombinations.shape[0],), dtype=tf.int32),   #kMers\n",
    "    tf.TensorSpec(shape=(t5Dimension,), dtype=tf.float32),              #t5\n",
    "    tf.TensorSpec(shape=(len(mlb.classes_),), dtype=tf.int32)))         #GO Classes (Output)\n",
    "\n",
    "datasetVal = tf.data.Dataset.from_generator(generatorVal, output_signature=(\n",
    "    tf.TensorSpec(shape=(PCLength,), dtype=tf.float32),                 #Physiochemical properties\n",
    "    tf.TensorSpec(shape=(len(mlbInterPro.classes_),), dtype=tf.int32),  #Interpro Classes\n",
    "    tf.TensorSpec(shape=(allCombinations.shape[0],), dtype=tf.int32),   #kMers\n",
    "    tf.TensorSpec(shape=(t5Dimension,), dtype=tf.float32),              #t5\n",
    "    tf.TensorSpec(shape=(len(mlb.classes_),), dtype=tf.int32)))         #GO Classes (Output)\n",
    "print(list(datasetVal.take(1)))"
   ]
  },
  {
   "cell_type": "code",
   "execution_count": 96,
   "id": "f0a554f0",
   "metadata": {},
   "outputs": [
    {
     "name": "stdout",
     "output_type": "stream",
     "text": [
      "The tensorboard extension is already loaded. To reload it, use:\n",
      "  %reload_ext tensorboard\n"
     ]
    }
   ],
   "source": [
    "%load_ext tensorboard\n"
   ]
  },
  {
   "cell_type": "code",
   "execution_count": 34,
   "id": "98752d7e",
   "metadata": {},
   "outputs": [
    {
     "name": "stdout",
     "output_type": "stream",
     "text": [
      "Model: \"DenseMultiModal4\"\n",
      "__________________________________________________________________________________________________\n",
      " Layer (type)                Output Shape                 Param #   Connected to                  \n",
      "==================================================================================================\n",
      " input_1 (InputLayer)        [(None, 53)]                 0         []                            \n",
      "                                                                                                  \n",
      " input_2 (InputLayer)        [(None, 38293)]              0         []                            \n",
      "                                                                                                  \n",
      " input_3 (InputLayer)        [(None, 15625)]              0         []                            \n",
      "                                                                                                  \n",
      " input_4 (InputLayer)        [(None, 1024)]               0         []                            \n",
      "                                                                                                  \n",
      " dense_2 (Dense)             (None, 128)                  6912      ['input_1[0][0]']             \n",
      "                                                                                                  \n",
      " dense_4 (Dense)             (None, 128)                  4901632   ['input_2[0][0]']             \n",
      "                                                                                                  \n",
      " dense_6 (Dense)             (None, 128)                  2000128   ['input_3[0][0]']             \n",
      "                                                                                                  \n",
      " dense (Dense)               (None, 128)                  131200    ['input_4[0][0]']             \n",
      "                                                                                                  \n",
      " leaky_re_lu_2 (LeakyReLU)   (None, 128)                  0         ['dense_2[0][0]']             \n",
      "                                                                                                  \n",
      " leaky_re_lu_4 (LeakyReLU)   (None, 128)                  0         ['dense_4[0][0]']             \n",
      "                                                                                                  \n",
      " leaky_re_lu_6 (LeakyReLU)   (None, 128)                  0         ['dense_6[0][0]']             \n",
      "                                                                                                  \n",
      " leaky_re_lu (LeakyReLU)     (None, 128)                  0         ['dense[0][0]']               \n",
      "                                                                                                  \n",
      " batch_normalization_2 (Bat  (None, 128)                  512       ['leaky_re_lu_2[0][0]']       \n",
      " chNormalization)                                                                                 \n",
      "                                                                                                  \n",
      " batch_normalization_4 (Bat  (None, 128)                  512       ['leaky_re_lu_4[0][0]']       \n",
      " chNormalization)                                                                                 \n",
      "                                                                                                  \n",
      " batch_normalization_6 (Bat  (None, 128)                  512       ['leaky_re_lu_6[0][0]']       \n",
      " chNormalization)                                                                                 \n",
      "                                                                                                  \n",
      " batch_normalization (Batch  (None, 128)                  512       ['leaky_re_lu[0][0]']         \n",
      " Normalization)                                                                                   \n",
      "                                                                                                  \n",
      " dropout_2 (Dropout)         (None, 128)                  0         ['batch_normalization_2[0][0]'\n",
      "                                                                    ]                             \n",
      "                                                                                                  \n",
      " dropout_4 (Dropout)         (None, 128)                  0         ['batch_normalization_4[0][0]'\n",
      "                                                                    ]                             \n",
      "                                                                                                  \n",
      " dropout_6 (Dropout)         (None, 128)                  0         ['batch_normalization_6[0][0]'\n",
      "                                                                    ]                             \n",
      "                                                                                                  \n",
      " dropout (Dropout)           (None, 128)                  0         ['batch_normalization[0][0]'] \n",
      "                                                                                                  \n",
      " dense_3 (Dense)             (None, 128)                  16512     ['dropout_2[0][0]']           \n",
      "                                                                                                  \n",
      " dense_5 (Dense)             (None, 128)                  16512     ['dropout_4[0][0]']           \n",
      "                                                                                                  \n",
      " dense_7 (Dense)             (None, 128)                  16512     ['dropout_6[0][0]']           \n",
      "                                                                                                  \n",
      " dense_1 (Dense)             (None, 128)                  16512     ['dropout[0][0]']             \n",
      "                                                                                                  \n",
      " leaky_re_lu_3 (LeakyReLU)   (None, 128)                  0         ['dense_3[0][0]']             \n",
      "                                                                                                  \n",
      " leaky_re_lu_5 (LeakyReLU)   (None, 128)                  0         ['dense_5[0][0]']             \n",
      "                                                                                                  \n",
      " leaky_re_lu_7 (LeakyReLU)   (None, 128)                  0         ['dense_7[0][0]']             \n",
      "                                                                                                  \n",
      " leaky_re_lu_1 (LeakyReLU)   (None, 128)                  0         ['dense_1[0][0]']             \n",
      "                                                                                                  \n",
      " batch_normalization_3 (Bat  (None, 128)                  512       ['leaky_re_lu_3[0][0]']       \n",
      " chNormalization)                                                                                 \n",
      "                                                                                                  \n",
      " batch_normalization_5 (Bat  (None, 128)                  512       ['leaky_re_lu_5[0][0]']       \n",
      " chNormalization)                                                                                 \n",
      "                                                                                                  \n",
      " batch_normalization_7 (Bat  (None, 128)                  512       ['leaky_re_lu_7[0][0]']       \n",
      " chNormalization)                                                                                 \n",
      "                                                                                                  \n",
      " batch_normalization_1 (Bat  (None, 128)                  512       ['leaky_re_lu_1[0][0]']       \n",
      " chNormalization)                                                                                 \n",
      "                                                                                                  \n",
      " dropout_3 (Dropout)         (None, 128)                  0         ['batch_normalization_3[0][0]'\n",
      "                                                                    ]                             \n",
      "                                                                                                  \n",
      " dropout_5 (Dropout)         (None, 128)                  0         ['batch_normalization_5[0][0]'\n",
      "                                                                    ]                             \n",
      "                                                                                                  \n",
      " dropout_7 (Dropout)         (None, 128)                  0         ['batch_normalization_7[0][0]'\n",
      "                                                                    ]                             \n",
      "                                                                                                  \n",
      " dropout_1 (Dropout)         (None, 128)                  0         ['batch_normalization_1[0][0]'\n",
      "                                                                    ]                             \n",
      "                                                                                                  \n",
      " tf.concat_1 (TFOpLambda)    (None, 256)                  0         ['dropout_3[0][0]',           \n",
      "                                                                     'dropout_2[0][0]']           \n",
      "                                                                                                  \n",
      " tf.concat_2 (TFOpLambda)    (None, 256)                  0         ['dropout_5[0][0]',           \n",
      "                                                                     'dropout_4[0][0]']           \n",
      "                                                                                                  \n",
      " tf.concat_3 (TFOpLambda)    (None, 256)                  0         ['dropout_7[0][0]',           \n",
      "                                                                     'dropout_6[0][0]']           \n",
      "                                                                                                  \n",
      " tf.concat (TFOpLambda)      (None, 256)                  0         ['dropout_1[0][0]',           \n",
      "                                                                     'dropout[0][0]']             \n",
      "                                                                                                  \n",
      " tf.concat_4 (TFOpLambda)    (None, 1024)                 0         ['tf.concat_1[0][0]',         \n",
      "                                                                     'tf.concat_2[0][0]',         \n",
      "                                                                     'tf.concat_3[0][0]',         \n",
      "                                                                     'tf.concat[0][0]']           \n",
      "                                                                                                  \n",
      " dense_8 (Dense)             (None, 256)                  262400    ['tf.concat_4[0][0]']         \n",
      "                                                                                                  \n",
      " leaky_re_lu_8 (LeakyReLU)   (None, 256)                  0         ['dense_8[0][0]']             \n",
      "                                                                                                  \n",
      " dense_9 (Dense)             (None, 4282)                 1100474   ['leaky_re_lu_8[0][0]']       \n",
      "                                                                                                  \n",
      "==================================================================================================\n",
      "Total params: 8472890 (32.32 MB)\n",
      "Trainable params: 8470842 (32.31 MB)\n",
      "Non-trainable params: 2048 (8.00 KB)\n",
      "__________________________________________________________________________________________________\n"
     ]
    },
    {
     "data": {
      "image/png": "[encoded data removed]",
      "text/plain": [
       "<IPython.core.display.Image object>"
      ]
     },
     "execution_count": 34,
     "metadata": {},
     "output_type": "execute_result"
    }
   ],
   "source": [
    "from tensorflow.keras import layers\n",
    "\n",
    "VOCAB_SIZE=len(aa_dict)\n",
    "EMBED_DIM=10\n",
    "\n",
    "def createModel():\n",
    "    inputsPC = tf.keras.Input(shape=(PCLength,))\n",
    "    inputsIP = tf.keras.Input(shape=(len(mlbInterPro.classes_),))\n",
    "    inputsKmer = tf.keras.Input(shape=(allCombinations.shape[0],))\n",
    "    inputsT5 = tf.keras.Input(shape=(t5Dimension,))\n",
    "    \n",
    "    # xT5 = layers.Attention()([inputsT5,inputsT5])\n",
    "    xT5 = layers.Dense(128)(inputsT5)\n",
    "    xT5 = layers.LeakyReLU()(xT5)\n",
    "    xT5 = layers.BatchNormalization()(xT5)\n",
    "    xT5Res = layers.Dropout(0.1)(xT5)\n",
    "    xT5 = layers.Dense(128)(xT5Res)\n",
    "    xT5 = layers.LeakyReLU()(xT5)\n",
    "    xT5 = layers.BatchNormalization()(xT5)\n",
    "    xT5 = layers.Dropout(0.1)(xT5)\n",
    "    xT5 = tf.concat([xT5,xT5Res],1)\n",
    "\n",
    "    # xPC = layers.Attention()([inputsPC,inputsPC])\n",
    "    xPC = layers.Dense(128)(inputsPC)\n",
    "    xPC = layers.LeakyReLU()(xPC)\n",
    "    xPC = layers.BatchNormalization()(xPC)\n",
    "    xPCRes = layers.Dropout(0.1)(xPC)\n",
    "    xPC = layers.Dense(128)(xPCRes)\n",
    "    xPC = layers.LeakyReLU()(xPC)\n",
    "    xPC = layers.BatchNormalization()(xPC)\n",
    "    xPC = layers.Dropout(0.1)(xPC)\n",
    "    xPC = tf.concat([xPC,xPCRes],1)\n",
    "\n",
    "    # xIP = layers.Attention()([inputsIP,inputsIP])\n",
    "    xIP = layers.Dense(128)(inputsIP)\n",
    "    xIP = layers.LeakyReLU()(xIP)\n",
    "    xIP = layers.BatchNormalization()(xIP)\n",
    "    xIPRes = layers.Dropout(0.1)(xIP)\n",
    "    xIP = layers.Dense(128)(xIPRes)\n",
    "    xIP = layers.LeakyReLU()(xIP)\n",
    "    xIP = layers.BatchNormalization()(xIP)\n",
    "    xIP = layers.Dropout(0.1)(xIP)\n",
    "    xIP = tf.concat([xIP,xIPRes],1)\n",
    "\n",
    "    # xKmer = layers.Attention()([inputsKmer,inputsKmer])\n",
    "    xKmer = layers.Dense(128)(inputsKmer)\n",
    "    xKmer = layers.LeakyReLU()(xKmer)\n",
    "    xKmer = layers.BatchNormalization()(xKmer)\n",
    "    xKmerRes = layers.Dropout(0.1)(xKmer)\n",
    "    xKmer = layers.Dense(128)(xKmerRes)\n",
    "    xKmer = layers.LeakyReLU()(xKmer)\n",
    "    xKmer = layers.BatchNormalization()(xKmer)\n",
    "    xKmer = layers.Dropout(0.1)(xKmer)\n",
    "    xKmer = tf.concat([xKmer,xKmerRes],1)\n",
    "\n",
    "    concat = tf.concat([xPC,xIP,xKmer,xT5],1)\n",
    "\n",
    "    x = layers.Dense(256)(concat)\n",
    "    x = layers.LeakyReLU()(x)\n",
    "\n",
    "    outputs=layers.Dense(len(mlb.classes_), activation=tf.keras.activations.sigmoid)(x)\n",
    "\n",
    "    return tf.keras.Model(inputs=[inputsPC, inputsIP, inputsKmer, inputsT5], outputs=outputs, name=\"DenseMultiModal4\")\n",
    "\n",
    "model = createModel()\n",
    "\n",
    "model.summary()\n",
    "\n",
    "dot_img_file = './model_1.png'\n",
    "tf.keras.utils.plot_model(model, to_file=dot_img_file, show_shapes=True)"
   ]
  },
  {
   "cell_type": "code",
   "execution_count": 35,
   "id": "5a3ddc20",
   "metadata": {},
   "outputs": [
    {
     "data": {
      "image/png": "[encoded data removed]",
      "text/plain": [
       "<Figure size 800x600 with 1 Axes>"
      ]
     },
     "metadata": {},
     "output_type": "display_data"
    }
   ],
   "source": [
    "import matplotlib.pyplot as plt\n",
    "#Learning rate schedule\n",
    "initial_learning_rate = 0.001\n",
    "decaySteps=5000\n",
    "lr_schedule = tf.keras.optimizers.schedules.CosineDecayRestarts(initial_learning_rate, first_decay_steps=decaySteps,\n",
    "                                                                t_mul=1.7, m_mul=0.7)\n",
    "# lr_schedule = tf.keras.optimizers.schedules.CosineDecay(\n",
    "#     initial_learning_rate, decay_steps=decaySteps, alpha=0.01)\n",
    "# lr_schedule = tf.keras.optimizers.schedules.ExponentialDecay(\n",
    "#     initial_learning_rate,decay_steps=decaySteps,decay_rate=0.9,staircase=False)\n",
    "step = np.linspace(0,decaySteps*3)\n",
    "lr = lr_schedule(step)\n",
    "plt.figure(figsize = (8,6))\n",
    "# plt.yscale(\"log\")\n",
    "plt.plot(step, lr)\n",
    "plt.ylim([0,max(plt.ylim())])\n",
    "plt.xlabel('step')\n",
    "_ = plt.ylabel('Learning Rate')"
   ]
  },
  {
   "cell_type": "code",
   "execution_count": 36,
   "id": "d2f43e7c",
   "metadata": {},
   "outputs": [],
   "source": [
    "from utils import *"
   ]
  },
  {
   "cell_type": "code",
   "execution_count": 37,
   "id": "9113c4a7",
   "metadata": {},
   "outputs": [
    {
     "name": "stdout",
     "output_type": "stream",
     "text": [
      "\n",
      "Start of epoch 1\n"
     ]
    },
    {
     "name": "stderr",
     "output_type": "stream",
     "text": [
      "2023-08-10 17:06:01.807677: I tensorflow/compiler/xla/service/service.cc:168] XLA service 0x7f20c81500c0 initialized for platform CUDA (this does not guarantee that XLA will be used). Devices:\n",
      "2023-08-10 17:06:01.807714: I tensorflow/compiler/xla/service/service.cc:176]   StreamExecutor device (0): NVIDIA GeForce GTX 1070, Compute Capability 6.1\n",
      "2023-08-10 17:06:01.814661: I tensorflow/compiler/mlir/tensorflow/utils/dump_mlir_util.cc:255] disabling MLIR crash reproducer, set env var `MLIR_CRASH_REPRODUCER_DIRECTORY` to enable.\n",
      "2023-08-10 17:06:01.940543: I tensorflow/compiler/xla/stream_executor/cuda/cuda_dnn.cc:432] Loaded cuDNN version 8600\n",
      "2023-08-10 17:06:02.042064: I ./tensorflow/compiler/jit/device_compiler.h:186] Compiled cluster using XLA!  This line is logged at most once for the lifetime of the process.\n"
     ]
    },
    {
     "name": "stdout",
     "output_type": "stream",
     "text": [
      "Epoch 1/Step 0, Loss: 0.00097, Accuracy: 0.50018, F1: 0.0015, Prec: 0.4640, Rec: 0.0007, lr: 0.00030\n",
      "Epoch 1/Step 20, Loss: 0.00041, Accuracy: 0.54588, F1: 0.0021, Prec: 0.6443, Rec: 0.0010, lr: 0.00030\n",
      "Epoch 1/Step 40, Loss: 0.00001, Accuracy: 0.61933, F1: 0.0028, Prec: 0.7054, Rec: 0.0014, lr: 0.00030\n",
      "Epoch 1/Step 60, Loss: -0.00236, Accuracy: 0.70015, F1: 0.0056, Prec: 0.7306, Rec: 0.0028, lr: 0.00030\n",
      "Epoch 1/Step 80, Loss: -0.01147, Accuracy: 0.76638, F1: 0.0143, Prec: 0.7404, Rec: 0.0073, lr: 0.00030\n",
      "Epoch 1/Step 100, Loss: -0.04829, Accuracy: 0.80999, F1: 0.0254, Prec: 0.7406, Rec: 0.0132, lr: 0.00030\n",
      "Epoch 1/Step 120, Loss: -0.09087, Accuracy: 0.84040, F1: 0.0421, Prec: 0.7222, Rec: 0.0227, lr: 0.00030\n",
      "Epoch 1/Step 140, Loss: -0.11677, Accuracy: 0.86257, F1: 0.0611, Prec: 0.6979, Rec: 0.0344, lr: 0.00030\n",
      "Epoch 1/Step 160, Loss: -0.14374, Accuracy: 0.87938, F1: 0.0810, Prec: 0.6734, Rec: 0.0479, lr: 0.00030\n",
      "Epoch 1/Step 180, Loss: -0.19273, Accuracy: 0.89255, F1: 0.1076, Prec: 0.6479, Rec: 0.0712, lr: 0.00030\n",
      "Epoch 1/Step 200, Loss: -0.19549, Accuracy: 0.90313, F1: 0.1383, Prec: 0.6256, Rec: 0.1053, lr: 0.00030\n",
      "Epoch 1/Step 220, Loss: -0.05788, Accuracy: 0.91179, F1: 0.1673, Prec: 0.6102, Rec: 0.1381, lr: 0.00030\n",
      "Epoch 1/Step 240, Loss: -0.23171, Accuracy: 0.91904, F1: 0.1916, Prec: 0.5960, Rec: 0.1670, lr: 0.00030\n",
      "Epoch 1/Step 260, Loss: -0.24177, Accuracy: 0.92518, F1: 0.2137, Prec: 0.5829, Rec: 0.1966, lr: 0.00030\n",
      "Epoch 1/Step 280, Loss: -0.23013, Accuracy: 0.93044, F1: 0.2341, Prec: 0.5714, Rec: 0.2269, lr: 0.00030\n",
      "Epoch 1/Step 300, Loss: -0.24318, Accuracy: 0.93501, F1: 0.2521, Prec: 0.5613, Rec: 0.2546, lr: 0.00030\n",
      "Epoch 1/Step 320, Loss: -0.24731, Accuracy: 0.93902, F1: 0.2701, Prec: 0.5540, Rec: 0.2822, lr: 0.00030\n",
      "Epoch 1/Step 340, Loss: -0.23735, Accuracy: 0.94255, F1: 0.2857, Prec: 0.5472, Rec: 0.3068, lr: 0.00030\n",
      "Epoch 1/Step 360, Loss: -0.22422, Accuracy: 0.94569, F1: 0.3000, Prec: 0.5412, Rec: 0.3293, lr: 0.00030\n",
      "Epoch 1/Step 380, Loss: -0.26492, Accuracy: 0.94850, F1: 0.3112, Prec: 0.5347, Rec: 0.3475, lr: 0.00030\n",
      "Epoch 1/Step 400, Loss: -0.24302, Accuracy: 0.95104, F1: 0.3224, Prec: 0.5299, Rec: 0.3646, lr: 0.00030\n",
      "Epoch 1/Step 420, Loss: -0.27113, Accuracy: 0.95333, F1: 0.3326, Prec: 0.5255, Rec: 0.3810, lr: 0.00030\n",
      "Epoch 1/Step 440, Loss: -0.22082, Accuracy: 0.95541, F1: 0.3418, Prec: 0.5210, Rec: 0.3966, lr: 0.00030\n",
      "Epoch 1/Step 460, Loss: -0.25901, Accuracy: 0.95731, F1: 0.3501, Prec: 0.5172, Rec: 0.4099, lr: 0.00030\n",
      "Epoch 1/Step 480, Loss: -0.28931, Accuracy: 0.95906, F1: 0.3580, Prec: 0.5136, Rec: 0.4230, lr: 0.00030\n",
      "Epoch 1/Step 500, Loss: -0.22463, Accuracy: 0.96066, F1: 0.3658, Prec: 0.5110, Rec: 0.4351, lr: 0.00030\n",
      "Epoch 1/Step 520, Loss: -0.23041, Accuracy: 0.96214, F1: 0.3721, Prec: 0.5077, Rec: 0.4454, lr: 0.00030\n",
      "Epoch 1/Step 540, Loss: -0.25368, Accuracy: 0.96351, F1: 0.3781, Prec: 0.5049, Rec: 0.4554, lr: 0.00030\n",
      "Epoch 1/Step 560, Loss: -0.27115, Accuracy: 0.96479, F1: 0.3835, Prec: 0.5018, Rec: 0.4651, lr: 0.00030\n",
      "Epoch 1/Step 580, Loss: -0.24330, Accuracy: 0.96598, F1: 0.3893, Prec: 0.4998, Rec: 0.4742, lr: 0.00030\n",
      "Epoch 1/Step 600, Loss: -0.24726, Accuracy: 0.96708, F1: 0.3941, Prec: 0.4974, Rec: 0.4825, lr: 0.00030\n",
      "Epoch 1/Step 620, Loss: -0.26069, Accuracy: 0.96812, F1: 0.3992, Prec: 0.4959, Rec: 0.4902, lr: 0.00030\n",
      "Epoch 1/Step 640, Loss: -0.26649, Accuracy: 0.96909, F1: 0.4041, Prec: 0.4945, Rec: 0.4975, lr: 0.00030\n",
      "Epoch 1/Step 660, Loss: -0.24413, Accuracy: 0.97001, F1: 0.4081, Prec: 0.4926, Rec: 0.5042, lr: 0.00030\n",
      "Epoch 1/Step 680, Loss: -0.24493, Accuracy: 0.97087, F1: 0.4127, Prec: 0.4917, Rec: 0.5110, lr: 0.00030\n",
      "Epoch 1/Step 700, Loss: -0.22103, Accuracy: 0.97168, F1: 0.4165, Prec: 0.4902, Rec: 0.5170, lr: 0.00030\n",
      "Epoch 1/Step 720, Loss: -0.21111, Accuracy: 0.97244, F1: 0.4203, Prec: 0.4892, Rec: 0.5224, lr: 0.00030\n",
      "Epoch 1/Step 740, Loss: -0.27152, Accuracy: 0.97317, F1: 0.4241, Prec: 0.4883, Rec: 0.5283, lr: 0.00030\n",
      "Epoch 1/Step 760, Loss: -0.28586, Accuracy: 0.97385, F1: 0.4276, Prec: 0.4871, Rec: 0.5343, lr: 0.00030\n",
      "Epoch 1/Step 780, Loss: -0.25323, Accuracy: 0.97450, F1: 0.4309, Prec: 0.4862, Rec: 0.5392, lr: 0.00030\n",
      "Epoch 1/Step 800, Loss: -0.26652, Accuracy: 0.97512, F1: 0.4340, Prec: 0.4853, Rec: 0.5441, lr: 0.00030\n",
      "Epoch 1/Step 820, Loss: -0.25848, Accuracy: 0.97571, F1: 0.4368, Prec: 0.4841, Rec: 0.5488, lr: 0.00030\n",
      "Epoch 1/Step 840, Loss: -0.25933, Accuracy: 0.97627, F1: 0.4393, Prec: 0.4831, Rec: 0.5528, lr: 0.00030\n",
      "Epoch 1/Step 860, Loss: -0.27339, Accuracy: 0.97680, F1: 0.4420, Prec: 0.4823, Rec: 0.5570, lr: 0.00030\n",
      "Epoch finished. Start validation\n",
      "Validation acc: 0.9993\n",
      "Validation f1: 0.5607\n",
      "Validation precision: 0.4546\n",
      "Validation recall: 0.7385\n",
      "WARNING:tensorflow:Compiled the loaded model, but the compiled metrics have yet to be built. `model.compile_metrics` will be empty until you train or evaluate the model.\n",
      "INFO:tensorflow:Assets written to: /mnt/e/ML/cafa-5-protein-function-prediction/model_MFO_epoch_0_valF1Score0.5607/assets\n"
     ]
    },
    {
     "name": "stderr",
     "output_type": "stream",
     "text": [
      "INFO:tensorflow:Assets written to: /mnt/e/ML/cafa-5-protein-function-prediction/model_MFO_epoch_0_valF1Score0.5607/assets\n"
     ]
    },
    {
     "name": "stdout",
     "output_type": "stream",
     "text": [
      "\n",
      "Start of epoch 2\n",
      "Epoch 2/Step 0, Loss: -0.28197, Accuracy: 0.99940, F1: 0.5824, Prec: 0.4716, Rec: 0.7615, lr: 0.00030\n",
      "Epoch 2/Step 20, Loss: -0.26661, Accuracy: 0.99928, F1: 0.5581, Prec: 0.4495, Rec: 0.7405, lr: 0.00030\n",
      "Epoch 2/Step 40, Loss: -0.24252, Accuracy: 0.99930, F1: 0.5567, Prec: 0.4480, Rec: 0.7403, lr: 0.00030\n",
      "Epoch 2/Step 60, Loss: -0.25599, Accuracy: 0.99930, F1: 0.5541, Prec: 0.4447, Rec: 0.7391, lr: 0.00030\n",
      "Epoch 2/Step 80, Loss: -0.28338, Accuracy: 0.99929, F1: 0.5536, Prec: 0.4448, Rec: 0.7384, lr: 0.00030\n",
      "Epoch 2/Step 100, Loss: -0.26791, Accuracy: 0.99929, F1: 0.5536, Prec: 0.4452, Rec: 0.7374, lr: 0.00030\n",
      "Epoch 2/Step 120, Loss: -0.24270, Accuracy: 0.99928, F1: 0.5530, Prec: 0.4445, Rec: 0.7376, lr: 0.00030\n",
      "Epoch 2/Step 140, Loss: -0.24773, Accuracy: 0.99928, F1: 0.5539, Prec: 0.4457, Rec: 0.7374, lr: 0.00030\n",
      "Epoch 2/Step 160, Loss: -0.23779, Accuracy: 0.99928, F1: 0.5543, Prec: 0.4460, Rec: 0.7384, lr: 0.00030\n",
      "Epoch 2/Step 180, Loss: -0.26744, Accuracy: 0.99928, F1: 0.5547, Prec: 0.4456, Rec: 0.7404, lr: 0.00030\n",
      "Epoch 2/Step 200, Loss: -0.27148, Accuracy: 0.99928, F1: 0.5539, Prec: 0.4441, Rec: 0.7422, lr: 0.00030\n",
      "Epoch 2/Step 220, Loss: -0.25911, Accuracy: 0.99928, F1: 0.5561, Prec: 0.4468, Rec: 0.7425, lr: 0.00030\n",
      "Epoch 2/Step 240, Loss: -0.28889, Accuracy: 0.99928, F1: 0.5569, Prec: 0.4477, Rec: 0.7425, lr: 0.00030\n",
      "Epoch 2/Step 260, Loss: -0.27427, Accuracy: 0.99928, F1: 0.5577, Prec: 0.4486, Rec: 0.7429, lr: 0.00030\n",
      "Epoch 2/Step 280, Loss: -0.25708, Accuracy: 0.99928, F1: 0.5580, Prec: 0.4490, Rec: 0.7429, lr: 0.00030\n",
      "Epoch 2/Step 300, Loss: -0.27628, Accuracy: 0.99928, F1: 0.5581, Prec: 0.4494, Rec: 0.7420, lr: 0.00030\n",
      "Epoch 2/Step 320, Loss: -0.27960, Accuracy: 0.99928, F1: 0.5594, Prec: 0.4508, Rec: 0.7429, lr: 0.00030\n",
      "Epoch 2/Step 340, Loss: -0.26575, Accuracy: 0.99928, F1: 0.5605, Prec: 0.4516, Rec: 0.7446, lr: 0.00030\n",
      "Epoch 2/Step 360, Loss: -0.25532, Accuracy: 0.99929, F1: 0.5617, Prec: 0.4527, Rec: 0.7458, lr: 0.00030\n",
      "Epoch 2/Step 380, Loss: -0.29337, Accuracy: 0.99929, F1: 0.5614, Prec: 0.4524, Rec: 0.7460, lr: 0.00030\n",
      "Epoch 2/Step 400, Loss: -0.26371, Accuracy: 0.99929, F1: 0.5621, Prec: 0.4528, Rec: 0.7469, lr: 0.00030\n",
      "Epoch 2/Step 420, Loss: -0.28291, Accuracy: 0.99929, F1: 0.5624, Prec: 0.4529, Rec: 0.7475, lr: 0.00030\n",
      "Epoch 2/Step 440, Loss: -0.23909, Accuracy: 0.99929, F1: 0.5625, Prec: 0.4529, Rec: 0.7481, lr: 0.00030\n",
      "Epoch 2/Step 460, Loss: -0.27162, Accuracy: 0.99929, F1: 0.5626, Prec: 0.4530, Rec: 0.7482, lr: 0.00030\n",
      "Epoch 2/Step 480, Loss: -0.30808, Accuracy: 0.99929, F1: 0.5631, Prec: 0.4534, Rec: 0.7488, lr: 0.00030\n",
      "Epoch 2/Step 500, Loss: -0.23229, Accuracy: 0.99929, F1: 0.5637, Prec: 0.4539, Rec: 0.7492, lr: 0.00030\n",
      "Epoch 2/Step 520, Loss: -0.25323, Accuracy: 0.99929, F1: 0.5636, Prec: 0.4539, Rec: 0.7489, lr: 0.00030\n",
      "Epoch 2/Step 540, Loss: -0.26371, Accuracy: 0.99929, F1: 0.5635, Prec: 0.4538, Rec: 0.7490, lr: 0.00030\n",
      "Epoch 2/Step 560, Loss: -0.30176, Accuracy: 0.99929, F1: 0.5634, Prec: 0.4534, Rec: 0.7498, lr: 0.00030\n",
      "Epoch 2/Step 580, Loss: -0.26473, Accuracy: 0.99929, F1: 0.5638, Prec: 0.4538, Rec: 0.7500, lr: 0.00030\n",
      "Epoch 2/Step 600, Loss: -0.25904, Accuracy: 0.99929, F1: 0.5637, Prec: 0.4536, Rec: 0.7501, lr: 0.00030\n",
      "Epoch 2/Step 620, Loss: -0.27206, Accuracy: 0.99929, F1: 0.5639, Prec: 0.4540, Rec: 0.7499, lr: 0.00030\n",
      "Epoch 2/Step 640, Loss: -0.28267, Accuracy: 0.99929, F1: 0.5643, Prec: 0.4544, Rec: 0.7501, lr: 0.00030\n",
      "Epoch 2/Step 660, Loss: -0.25101, Accuracy: 0.99929, F1: 0.5641, Prec: 0.4542, Rec: 0.7501, lr: 0.00030\n",
      "Epoch 2/Step 680, Loss: -0.26486, Accuracy: 0.99929, F1: 0.5647, Prec: 0.4549, Rec: 0.7503, lr: 0.00030\n",
      "Epoch 2/Step 700, Loss: -0.23908, Accuracy: 0.99929, F1: 0.5647, Prec: 0.4549, Rec: 0.7502, lr: 0.00030\n",
      "Epoch 2/Step 720, Loss: -0.21703, Accuracy: 0.99929, F1: 0.5651, Prec: 0.4554, Rec: 0.7502, lr: 0.00030\n",
      "Epoch 2/Step 740, Loss: -0.28821, Accuracy: 0.99929, F1: 0.5657, Prec: 0.4559, Rec: 0.7509, lr: 0.00030\n",
      "Epoch 2/Step 760, Loss: -0.29677, Accuracy: 0.99929, F1: 0.5659, Prec: 0.4559, Rec: 0.7518, lr: 0.00030\n",
      "Epoch 2/Step 780, Loss: -0.26532, Accuracy: 0.99929, F1: 0.5662, Prec: 0.4561, Rec: 0.7520, lr: 0.00030\n",
      "Epoch 2/Step 800, Loss: -0.27479, Accuracy: 0.99929, F1: 0.5663, Prec: 0.4561, Rec: 0.7523, lr: 0.00030\n",
      "Epoch 2/Step 820, Loss: -0.27500, Accuracy: 0.99929, F1: 0.5663, Prec: 0.4560, Rec: 0.7526, lr: 0.00030\n",
      "Epoch 2/Step 840, Loss: -0.26477, Accuracy: 0.99929, F1: 0.5662, Prec: 0.4559, Rec: 0.7525, lr: 0.00030\n",
      "Epoch 2/Step 860, Loss: -0.28333, Accuracy: 0.99929, F1: 0.5663, Prec: 0.4560, Rec: 0.7528, lr: 0.00030\n",
      "Epoch finished. Start validation\n",
      "Validation acc: 0.9993\n",
      "Validation f1: 0.5671\n",
      "Validation precision: 0.4594\n",
      "Validation recall: 0.7478\n",
      "WARNING:tensorflow:Compiled the loaded model, but the compiled metrics have yet to be built. `model.compile_metrics` will be empty until you train or evaluate the model.\n"
     ]
    },
    {
     "name": "stderr",
     "output_type": "stream",
     "text": [
      "WARNING:tensorflow:Compiled the loaded model, but the compiled metrics have yet to be built. `model.compile_metrics` will be empty until you train or evaluate the model.\n"
     ]
    },
    {
     "name": "stdout",
     "output_type": "stream",
     "text": [
      "INFO:tensorflow:Assets written to: /mnt/e/ML/cafa-5-protein-function-prediction/model_MFO_epoch_1_valF1Score0.5671/assets\n"
     ]
    },
    {
     "name": "stderr",
     "output_type": "stream",
     "text": [
      "INFO:tensorflow:Assets written to: /mnt/e/ML/cafa-5-protein-function-prediction/model_MFO_epoch_1_valF1Score0.5671/assets\n"
     ]
    },
    {
     "name": "stdout",
     "output_type": "stream",
     "text": [
      "\n",
      "Start of epoch 3\n",
      "Epoch 3/Step 0, Loss: -0.29059, Accuracy: 0.99942, F1: 0.6093, Prec: 0.5002, Rec: 0.7792, lr: 0.00030\n",
      "Epoch 3/Step 20, Loss: -0.28064, Accuracy: 0.99931, F1: 0.5743, Prec: 0.4598, Rec: 0.7695, lr: 0.00030\n",
      "Epoch 3/Step 40, Loss: -0.25610, Accuracy: 0.99931, F1: 0.5700, Prec: 0.4573, Rec: 0.7616, lr: 0.00030\n",
      "Epoch 3/Step 60, Loss: -0.26913, Accuracy: 0.99931, F1: 0.5683, Prec: 0.4551, Rec: 0.7608, lr: 0.00030\n",
      "Epoch 3/Step 80, Loss: -0.29233, Accuracy: 0.99930, F1: 0.5673, Prec: 0.4540, Rec: 0.7613, lr: 0.00030\n",
      "Epoch 3/Step 100, Loss: -0.27045, Accuracy: 0.99931, F1: 0.5675, Prec: 0.4541, Rec: 0.7622, lr: 0.00030\n",
      "Epoch 3/Step 120, Loss: -0.25138, Accuracy: 0.99930, F1: 0.5676, Prec: 0.4539, Rec: 0.7633, lr: 0.00030\n",
      "Epoch 3/Step 140, Loss: -0.25288, Accuracy: 0.99930, F1: 0.5683, Prec: 0.4547, Rec: 0.7638, lr: 0.00030\n",
      "Epoch 3/Step 160, Loss: -0.24662, Accuracy: 0.99930, F1: 0.5686, Prec: 0.4549, Rec: 0.7647, lr: 0.00030\n",
      "Epoch 3/Step 180, Loss: -0.27670, Accuracy: 0.99930, F1: 0.5688, Prec: 0.4546, Rec: 0.7661, lr: 0.00030\n",
      "Epoch 3/Step 200, Loss: -0.28606, Accuracy: 0.99930, F1: 0.5684, Prec: 0.4532, Rec: 0.7686, lr: 0.00030\n",
      "Epoch 3/Step 220, Loss: -0.27096, Accuracy: 0.99930, F1: 0.5706, Prec: 0.4560, Rec: 0.7690, lr: 0.00030\n",
      "Epoch 3/Step 240, Loss: -0.30069, Accuracy: 0.99930, F1: 0.5713, Prec: 0.4568, Rec: 0.7688, lr: 0.00030\n",
      "Epoch 3/Step 260, Loss: -0.28621, Accuracy: 0.99930, F1: 0.5720, Prec: 0.4576, Rec: 0.7691, lr: 0.00030\n",
      "Epoch 3/Step 280, Loss: -0.26074, Accuracy: 0.99930, F1: 0.5721, Prec: 0.4577, Rec: 0.7688, lr: 0.00030\n",
      "Epoch 3/Step 300, Loss: -0.28528, Accuracy: 0.99930, F1: 0.5724, Prec: 0.4581, Rec: 0.7687, lr: 0.00030\n",
      "Epoch 3/Step 320, Loss: -0.28488, Accuracy: 0.99930, F1: 0.5736, Prec: 0.4595, Rec: 0.7692, lr: 0.00030\n",
      "Epoch 3/Step 340, Loss: -0.27055, Accuracy: 0.99930, F1: 0.5743, Prec: 0.4600, Rec: 0.7702, lr: 0.00030\n",
      "Epoch 3/Step 360, Loss: -0.26960, Accuracy: 0.99930, F1: 0.5756, Prec: 0.4612, Rec: 0.7715, lr: 0.00030\n",
      "Epoch 3/Step 380, Loss: -0.30480, Accuracy: 0.99930, F1: 0.5751, Prec: 0.4607, Rec: 0.7714, lr: 0.00030\n",
      "Epoch 3/Step 400, Loss: -0.27271, Accuracy: 0.99931, F1: 0.5756, Prec: 0.4610, Rec: 0.7721, lr: 0.00030\n",
      "Epoch 3/Step 420, Loss: -0.29101, Accuracy: 0.99931, F1: 0.5760, Prec: 0.4610, Rec: 0.7734, lr: 0.00030\n",
      "Epoch 3/Step 440, Loss: -0.24935, Accuracy: 0.99931, F1: 0.5759, Prec: 0.4606, Rec: 0.7744, lr: 0.00030\n",
      "Epoch 3/Step 460, Loss: -0.28313, Accuracy: 0.99931, F1: 0.5759, Prec: 0.4605, Rec: 0.7747, lr: 0.00030\n",
      "Epoch 3/Step 480, Loss: -0.31635, Accuracy: 0.99931, F1: 0.5762, Prec: 0.4606, Rec: 0.7752, lr: 0.00030\n",
      "Epoch 3/Step 500, Loss: -0.23956, Accuracy: 0.99931, F1: 0.5767, Prec: 0.4609, Rec: 0.7761, lr: 0.00030\n",
      "Epoch 3/Step 520, Loss: -0.25671, Accuracy: 0.99931, F1: 0.5764, Prec: 0.4605, Rec: 0.7759, lr: 0.00030\n",
      "Epoch 3/Step 540, Loss: -0.27550, Accuracy: 0.99931, F1: 0.5763, Prec: 0.4604, Rec: 0.7760, lr: 0.00030\n",
      "Epoch 3/Step 560, Loss: -0.30845, Accuracy: 0.99931, F1: 0.5762, Prec: 0.4601, Rec: 0.7766, lr: 0.00030\n",
      "Epoch 3/Step 580, Loss: -0.27563, Accuracy: 0.99931, F1: 0.5767, Prec: 0.4605, Rec: 0.7768, lr: 0.00030\n",
      "Epoch 3/Step 600, Loss: -0.26575, Accuracy: 0.99931, F1: 0.5766, Prec: 0.4604, Rec: 0.7770, lr: 0.00030\n",
      "Epoch 3/Step 620, Loss: -0.27444, Accuracy: 0.99931, F1: 0.5768, Prec: 0.4607, Rec: 0.7768, lr: 0.00030\n",
      "Epoch 3/Step 640, Loss: -0.29531, Accuracy: 0.99931, F1: 0.5771, Prec: 0.4612, Rec: 0.7767, lr: 0.00030\n",
      "Epoch 3/Step 660, Loss: -0.26064, Accuracy: 0.99931, F1: 0.5770, Prec: 0.4611, Rec: 0.7765, lr: 0.00030\n",
      "Epoch 3/Step 680, Loss: -0.27783, Accuracy: 0.99931, F1: 0.5775, Prec: 0.4617, Rec: 0.7767, lr: 0.00030\n",
      "Epoch 3/Step 700, Loss: -0.24985, Accuracy: 0.99931, F1: 0.5775, Prec: 0.4617, Rec: 0.7765, lr: 0.00030\n",
      "Epoch 3/Step 720, Loss: -0.22610, Accuracy: 0.99931, F1: 0.5777, Prec: 0.4621, Rec: 0.7765, lr: 0.00030\n",
      "Epoch 3/Step 740, Loss: -0.29859, Accuracy: 0.99931, F1: 0.5784, Prec: 0.4626, Rec: 0.7772, lr: 0.00030\n",
      "Epoch 3/Step 760, Loss: -0.30613, Accuracy: 0.99931, F1: 0.5787, Prec: 0.4627, Rec: 0.7781, lr: 0.00030\n",
      "Epoch 3/Step 780, Loss: -0.27142, Accuracy: 0.99931, F1: 0.5789, Prec: 0.4629, Rec: 0.7783, lr: 0.00030\n",
      "Epoch 3/Step 800, Loss: -0.28215, Accuracy: 0.99931, F1: 0.5790, Prec: 0.4630, Rec: 0.7784, lr: 0.00030\n",
      "Epoch 3/Step 820, Loss: -0.28858, Accuracy: 0.99931, F1: 0.5790, Prec: 0.4628, Rec: 0.7787, lr: 0.00030\n",
      "Epoch 3/Step 840, Loss: -0.27033, Accuracy: 0.99931, F1: 0.5789, Prec: 0.4628, Rec: 0.7785, lr: 0.00030\n",
      "Epoch 3/Step 860, Loss: -0.29003, Accuracy: 0.99931, F1: 0.5791, Prec: 0.4629, Rec: 0.7788, lr: 0.00030\n",
      "Epoch finished. Start validation\n",
      "Validation acc: 0.9993\n",
      "Validation f1: 0.5750\n",
      "Validation precision: 0.4640\n",
      "Validation recall: 0.7626\n",
      "WARNING:tensorflow:Compiled the loaded model, but the compiled metrics have yet to be built. `model.compile_metrics` will be empty until you train or evaluate the model.\n"
     ]
    },
    {
     "name": "stderr",
     "output_type": "stream",
     "text": [
      "WARNING:tensorflow:Compiled the loaded model, but the compiled metrics have yet to be built. `model.compile_metrics` will be empty until you train or evaluate the model.\n"
     ]
    },
    {
     "name": "stdout",
     "output_type": "stream",
     "text": [
      "INFO:tensorflow:Assets written to: /mnt/e/ML/cafa-5-protein-function-prediction/model_MFO_epoch_2_valF1Score0.5750/assets\n"
     ]
    },
    {
     "name": "stderr",
     "output_type": "stream",
     "text": [
      "INFO:tensorflow:Assets written to: /mnt/e/ML/cafa-5-protein-function-prediction/model_MFO_epoch_2_valF1Score0.5750/assets\n"
     ]
    },
    {
     "name": "stdout",
     "output_type": "stream",
     "text": [
      "\n",
      "Start of epoch 4\n",
      "Epoch 4/Step 0, Loss: -0.29473, Accuracy: 0.99943, F1: 0.6223, Prec: 0.5116, Rec: 0.7941, lr: 0.00030\n",
      "Epoch 4/Step 20, Loss: -0.28791, Accuracy: 0.99932, F1: 0.5848, Prec: 0.4664, Rec: 0.7884, lr: 0.00030\n",
      "Epoch 4/Step 40, Loss: -0.27210, Accuracy: 0.99933, F1: 0.5831, Prec: 0.4633, Rec: 0.7916, lr: 0.00030\n",
      "Epoch 4/Step 60, Loss: -0.26770, Accuracy: 0.99933, F1: 0.5815, Prec: 0.4614, Rec: 0.7906, lr: 0.00030\n",
      "Epoch 4/Step 80, Loss: -0.29461, Accuracy: 0.99932, F1: 0.5789, Prec: 0.4598, Rec: 0.7867, lr: 0.00030\n",
      "Epoch 4/Step 100, Loss: -0.27800, Accuracy: 0.99932, F1: 0.5788, Prec: 0.4607, Rec: 0.7839, lr: 0.00030\n",
      "Epoch 4/Step 120, Loss: -0.26369, Accuracy: 0.99932, F1: 0.5791, Prec: 0.4608, Rec: 0.7849, lr: 0.00030\n",
      "Epoch 4/Step 140, Loss: -0.25473, Accuracy: 0.99932, F1: 0.5800, Prec: 0.4618, Rec: 0.7855, lr: 0.00030\n",
      "Epoch 4/Step 160, Loss: -0.25057, Accuracy: 0.99932, F1: 0.5804, Prec: 0.4622, Rec: 0.7864, lr: 0.00030\n",
      "Epoch 4/Step 180, Loss: -0.27735, Accuracy: 0.99931, F1: 0.5812, Prec: 0.4623, Rec: 0.7883, lr: 0.00030\n",
      "Epoch 4/Step 200, Loss: -0.28474, Accuracy: 0.99931, F1: 0.5806, Prec: 0.4611, Rec: 0.7899, lr: 0.00030\n",
      "Epoch 4/Step 220, Loss: -0.27855, Accuracy: 0.99932, F1: 0.5826, Prec: 0.4638, Rec: 0.7896, lr: 0.00030\n",
      "Epoch 4/Step 240, Loss: -0.30824, Accuracy: 0.99932, F1: 0.5831, Prec: 0.4648, Rec: 0.7885, lr: 0.00030\n",
      "Epoch 4/Step 260, Loss: -0.29926, Accuracy: 0.99932, F1: 0.5842, Prec: 0.4658, Rec: 0.7892, lr: 0.00030\n",
      "Epoch 4/Step 280, Loss: -0.26874, Accuracy: 0.99932, F1: 0.5842, Prec: 0.4660, Rec: 0.7887, lr: 0.00030\n",
      "Epoch 4/Step 300, Loss: -0.29546, Accuracy: 0.99932, F1: 0.5847, Prec: 0.4666, Rec: 0.7885, lr: 0.00030\n",
      "Epoch 4/Step 320, Loss: -0.30208, Accuracy: 0.99932, F1: 0.5858, Prec: 0.4679, Rec: 0.7889, lr: 0.00030\n",
      "Epoch 4/Step 340, Loss: -0.27821, Accuracy: 0.99932, F1: 0.5863, Prec: 0.4683, Rec: 0.7895, lr: 0.00030\n",
      "Epoch 4/Step 360, Loss: -0.28320, Accuracy: 0.99932, F1: 0.5878, Prec: 0.4697, Rec: 0.7909, lr: 0.00030\n",
      "Epoch 4/Step 380, Loss: -0.31484, Accuracy: 0.99932, F1: 0.5873, Prec: 0.4691, Rec: 0.7911, lr: 0.00030\n",
      "Epoch 4/Step 400, Loss: -0.27533, Accuracy: 0.99932, F1: 0.5876, Prec: 0.4693, Rec: 0.7913, lr: 0.00030\n",
      "Epoch 4/Step 420, Loss: -0.30215, Accuracy: 0.99932, F1: 0.5878, Prec: 0.4694, Rec: 0.7917, lr: 0.00030\n",
      "Epoch 4/Step 440, Loss: -0.26553, Accuracy: 0.99932, F1: 0.5876, Prec: 0.4689, Rec: 0.7922, lr: 0.00030\n",
      "Epoch 4/Step 460, Loss: -0.28941, Accuracy: 0.99932, F1: 0.5875, Prec: 0.4688, Rec: 0.7925, lr: 0.00030\n",
      "Epoch 4/Step 480, Loss: -0.32131, Accuracy: 0.99932, F1: 0.5878, Prec: 0.4690, Rec: 0.7929, lr: 0.00030\n",
      "Epoch 4/Step 500, Loss: -0.24335, Accuracy: 0.99932, F1: 0.5884, Prec: 0.4696, Rec: 0.7933, lr: 0.00030\n",
      "Epoch 4/Step 520, Loss: -0.27057, Accuracy: 0.99932, F1: 0.5881, Prec: 0.4693, Rec: 0.7931, lr: 0.00030\n",
      "Epoch 4/Step 540, Loss: -0.28208, Accuracy: 0.99932, F1: 0.5879, Prec: 0.4690, Rec: 0.7931, lr: 0.00030\n",
      "Epoch 4/Step 560, Loss: -0.31585, Accuracy: 0.99932, F1: 0.5879, Prec: 0.4687, Rec: 0.7939, lr: 0.00030\n",
      "Epoch 4/Step 580, Loss: -0.28483, Accuracy: 0.99932, F1: 0.5883, Prec: 0.4692, Rec: 0.7940, lr: 0.00030\n",
      "Epoch 4/Step 600, Loss: -0.27033, Accuracy: 0.99932, F1: 0.5881, Prec: 0.4689, Rec: 0.7942, lr: 0.00030\n",
      "Epoch 4/Step 620, Loss: -0.27957, Accuracy: 0.99933, F1: 0.5883, Prec: 0.4691, Rec: 0.7942, lr: 0.00030\n",
      "Epoch 4/Step 640, Loss: -0.30388, Accuracy: 0.99933, F1: 0.5885, Prec: 0.4694, Rec: 0.7941, lr: 0.00030\n",
      "Epoch 4/Step 660, Loss: -0.26819, Accuracy: 0.99933, F1: 0.5882, Prec: 0.4692, Rec: 0.7938, lr: 0.00030\n",
      "Epoch 4/Step 680, Loss: -0.27833, Accuracy: 0.99933, F1: 0.5886, Prec: 0.4696, Rec: 0.7939, lr: 0.00030\n",
      "Epoch 4/Step 700, Loss: -0.25255, Accuracy: 0.99933, F1: 0.5885, Prec: 0.4695, Rec: 0.7938, lr: 0.00030\n",
      "Epoch 4/Step 720, Loss: -0.23513, Accuracy: 0.99933, F1: 0.5887, Prec: 0.4699, Rec: 0.7938, lr: 0.00030\n",
      "Epoch 4/Step 740, Loss: -0.30804, Accuracy: 0.99933, F1: 0.5892, Prec: 0.4703, Rec: 0.7944, lr: 0.00030\n",
      "Epoch 4/Step 760, Loss: -0.31755, Accuracy: 0.99933, F1: 0.5895, Prec: 0.4703, Rec: 0.7951, lr: 0.00030\n",
      "Epoch 4/Step 780, Loss: -0.27951, Accuracy: 0.99933, F1: 0.5896, Prec: 0.4705, Rec: 0.7951, lr: 0.00030\n",
      "Epoch 4/Step 800, Loss: -0.28269, Accuracy: 0.99933, F1: 0.5897, Prec: 0.4705, Rec: 0.7953, lr: 0.00030\n",
      "Epoch 4/Step 820, Loss: -0.30431, Accuracy: 0.99933, F1: 0.5896, Prec: 0.4703, Rec: 0.7955, lr: 0.00030\n",
      "Epoch 4/Step 840, Loss: -0.28055, Accuracy: 0.99933, F1: 0.5896, Prec: 0.4703, Rec: 0.7955, lr: 0.00030\n",
      "Epoch 4/Step 860, Loss: -0.28964, Accuracy: 0.99933, F1: 0.5897, Prec: 0.4704, Rec: 0.7958, lr: 0.00030\n",
      "Epoch finished. Start validation\n",
      "Validation acc: 0.9993\n",
      "Validation f1: 0.5754\n",
      "Validation precision: 0.4603\n",
      "Validation recall: 0.7738\n",
      "WARNING:tensorflow:Compiled the loaded model, but the compiled metrics have yet to be built. `model.compile_metrics` will be empty until you train or evaluate the model.\n"
     ]
    },
    {
     "name": "stderr",
     "output_type": "stream",
     "text": [
      "WARNING:tensorflow:Compiled the loaded model, but the compiled metrics have yet to be built. `model.compile_metrics` will be empty until you train or evaluate the model.\n"
     ]
    },
    {
     "name": "stdout",
     "output_type": "stream",
     "text": [
      "INFO:tensorflow:Assets written to: /mnt/e/ML/cafa-5-protein-function-prediction/model_MFO_epoch_3_valF1Score0.5754/assets\n"
     ]
    },
    {
     "name": "stderr",
     "output_type": "stream",
     "text": [
      "INFO:tensorflow:Assets written to: /mnt/e/ML/cafa-5-protein-function-prediction/model_MFO_epoch_3_valF1Score0.5754/assets\n"
     ]
    },
    {
     "name": "stdout",
     "output_type": "stream",
     "text": [
      "\n",
      "Start of epoch 5\n",
      "Epoch 5/Step 0, Loss: -0.30904, Accuracy: 0.99945, F1: 0.6414, Prec: 0.5296, Rec: 0.8130, lr: 0.00030\n",
      "Epoch 5/Step 20, Loss: -0.29523, Accuracy: 0.99934, F1: 0.5972, Prec: 0.4743, Rec: 0.8105, lr: 0.00030\n",
      "Epoch 5/Step 40, Loss: -0.27777, Accuracy: 0.99934, F1: 0.5935, Prec: 0.4714, Rec: 0.8061, lr: 0.00030\n",
      "Epoch 5/Step 60, Loss: -0.27178, Accuracy: 0.99934, F1: 0.5923, Prec: 0.4694, Rec: 0.8066, lr: 0.00030\n",
      "Epoch 5/Step 80, Loss: -0.29710, Accuracy: 0.99933, F1: 0.5889, Prec: 0.4668, Rec: 0.8028, lr: 0.00030\n",
      "Epoch 5/Step 100, Loss: -0.28158, Accuracy: 0.99933, F1: 0.5881, Prec: 0.4665, Rec: 0.8012, lr: 0.00030\n",
      "Epoch 5/Step 120, Loss: -0.26604, Accuracy: 0.99933, F1: 0.5881, Prec: 0.4664, Rec: 0.8016, lr: 0.00030\n",
      "Epoch 5/Step 140, Loss: -0.26508, Accuracy: 0.99933, F1: 0.5888, Prec: 0.4672, Rec: 0.8019, lr: 0.00030\n",
      "Epoch 5/Step 160, Loss: -0.25313, Accuracy: 0.99933, F1: 0.5890, Prec: 0.4673, Rec: 0.8030, lr: 0.00030\n",
      "Epoch 5/Step 180, Loss: -0.28192, Accuracy: 0.99933, F1: 0.5898, Prec: 0.4674, Rec: 0.8050, lr: 0.00030\n",
      "Epoch 5/Step 200, Loss: -0.28639, Accuracy: 0.99932, F1: 0.5893, Prec: 0.4663, Rec: 0.8065, lr: 0.00030\n",
      "Epoch 5/Step 220, Loss: -0.28364, Accuracy: 0.99933, F1: 0.5911, Prec: 0.4687, Rec: 0.8060, lr: 0.00030\n",
      "Epoch 5/Step 240, Loss: -0.32175, Accuracy: 0.99933, F1: 0.5917, Prec: 0.4696, Rec: 0.8054, lr: 0.00030\n",
      "Epoch 5/Step 260, Loss: -0.30688, Accuracy: 0.99933, F1: 0.5923, Prec: 0.4702, Rec: 0.8059, lr: 0.00030\n",
      "Epoch 5/Step 280, Loss: -0.27577, Accuracy: 0.99933, F1: 0.5922, Prec: 0.4703, Rec: 0.8053, lr: 0.00030\n",
      "Epoch 5/Step 300, Loss: -0.29652, Accuracy: 0.99933, F1: 0.5925, Prec: 0.4707, Rec: 0.8051, lr: 0.00030\n",
      "Epoch 5/Step 320, Loss: -0.30154, Accuracy: 0.99933, F1: 0.5936, Prec: 0.4722, Rec: 0.8046, lr: 0.00030\n",
      "Epoch 5/Step 340, Loss: -0.28623, Accuracy: 0.99933, F1: 0.5942, Prec: 0.4727, Rec: 0.8054, lr: 0.00030\n",
      "Epoch 5/Step 360, Loss: -0.28318, Accuracy: 0.99933, F1: 0.5956, Prec: 0.4741, Rec: 0.8066, lr: 0.00030\n",
      "Epoch 5/Step 380, Loss: -0.32054, Accuracy: 0.99933, F1: 0.5951, Prec: 0.4734, Rec: 0.8066, lr: 0.00030\n",
      "Epoch 5/Step 400, Loss: -0.28202, Accuracy: 0.99933, F1: 0.5953, Prec: 0.4736, Rec: 0.8069, lr: 0.00030\n",
      "Epoch 5/Step 420, Loss: -0.30935, Accuracy: 0.99933, F1: 0.5956, Prec: 0.4737, Rec: 0.8074, lr: 0.00030\n",
      "Epoch 5/Step 440, Loss: -0.26027, Accuracy: 0.99933, F1: 0.5954, Prec: 0.4733, Rec: 0.8080, lr: 0.00030\n",
      "Epoch 5/Step 460, Loss: -0.29465, Accuracy: 0.99933, F1: 0.5954, Prec: 0.4732, Rec: 0.8082, lr: 0.00030\n",
      "Epoch 5/Step 480, Loss: -0.32309, Accuracy: 0.99933, F1: 0.5956, Prec: 0.4734, Rec: 0.8086, lr: 0.00030\n",
      "Epoch 5/Step 500, Loss: -0.25309, Accuracy: 0.99934, F1: 0.5961, Prec: 0.4739, Rec: 0.8088, lr: 0.00030\n",
      "Epoch 5/Step 520, Loss: -0.27288, Accuracy: 0.99933, F1: 0.5957, Prec: 0.4735, Rec: 0.8083, lr: 0.00030\n",
      "Epoch 5/Step 540, Loss: -0.28239, Accuracy: 0.99933, F1: 0.5952, Prec: 0.4730, Rec: 0.8081, lr: 0.00030\n",
      "Epoch 5/Step 560, Loss: -0.32084, Accuracy: 0.99933, F1: 0.5952, Prec: 0.4727, Rec: 0.8087, lr: 0.00030\n",
      "Epoch 5/Step 580, Loss: -0.28935, Accuracy: 0.99933, F1: 0.5955, Prec: 0.4730, Rec: 0.8090, lr: 0.00030\n",
      "Epoch 5/Step 600, Loss: -0.27590, Accuracy: 0.99933, F1: 0.5952, Prec: 0.4726, Rec: 0.8093, lr: 0.00030\n",
      "Epoch 5/Step 620, Loss: -0.28549, Accuracy: 0.99934, F1: 0.5953, Prec: 0.4727, Rec: 0.8093, lr: 0.00030\n",
      "Epoch 5/Step 640, Loss: -0.30771, Accuracy: 0.99934, F1: 0.5956, Prec: 0.4731, Rec: 0.8091, lr: 0.00030\n",
      "Epoch 5/Step 660, Loss: -0.27805, Accuracy: 0.99934, F1: 0.5952, Prec: 0.4728, Rec: 0.8087, lr: 0.00030\n",
      "Epoch 5/Step 680, Loss: -0.28428, Accuracy: 0.99934, F1: 0.5956, Prec: 0.4733, Rec: 0.8087, lr: 0.00030\n",
      "Epoch 5/Step 700, Loss: -0.25915, Accuracy: 0.99934, F1: 0.5955, Prec: 0.4732, Rec: 0.8084, lr: 0.00030\n",
      "Epoch 5/Step 720, Loss: -0.24011, Accuracy: 0.99934, F1: 0.5957, Prec: 0.4735, Rec: 0.8084, lr: 0.00030\n",
      "Epoch 5/Step 740, Loss: -0.31000, Accuracy: 0.99934, F1: 0.5962, Prec: 0.4740, Rec: 0.8088, lr: 0.00030\n",
      "Epoch 5/Step 760, Loss: -0.32001, Accuracy: 0.99934, F1: 0.5964, Prec: 0.4741, Rec: 0.8093, lr: 0.00030\n",
      "Epoch 5/Step 780, Loss: -0.28209, Accuracy: 0.99934, F1: 0.5966, Prec: 0.4743, Rec: 0.8091, lr: 0.00030\n",
      "Epoch 5/Step 800, Loss: -0.28455, Accuracy: 0.99934, F1: 0.5966, Prec: 0.4743, Rec: 0.8092, lr: 0.00030\n",
      "Epoch 5/Step 820, Loss: -0.31487, Accuracy: 0.99934, F1: 0.5964, Prec: 0.4741, Rec: 0.8092, lr: 0.00030\n",
      "Epoch 5/Step 840, Loss: -0.28006, Accuracy: 0.99934, F1: 0.5963, Prec: 0.4741, Rec: 0.8091, lr: 0.00030\n",
      "Epoch 5/Step 860, Loss: -0.29780, Accuracy: 0.99934, F1: 0.5965, Prec: 0.4741, Rec: 0.8095, lr: 0.00030\n",
      "Epoch finished. Start validation\n",
      "Validation acc: 0.9993\n",
      "Validation f1: 0.5759\n",
      "Validation precision: 0.4572\n",
      "Validation recall: 0.7843\n",
      "WARNING:tensorflow:Compiled the loaded model, but the compiled metrics have yet to be built. `model.compile_metrics` will be empty until you train or evaluate the model.\n"
     ]
    },
    {
     "name": "stderr",
     "output_type": "stream",
     "text": [
      "WARNING:tensorflow:Compiled the loaded model, but the compiled metrics have yet to be built. `model.compile_metrics` will be empty until you train or evaluate the model.\n"
     ]
    },
    {
     "name": "stdout",
     "output_type": "stream",
     "text": [
      "INFO:tensorflow:Assets written to: /mnt/e/ML/cafa-5-protein-function-prediction/model_MFO_epoch_4_valF1Score0.5759/assets\n"
     ]
    },
    {
     "name": "stderr",
     "output_type": "stream",
     "text": [
      "INFO:tensorflow:Assets written to: /mnt/e/ML/cafa-5-protein-function-prediction/model_MFO_epoch_4_valF1Score0.5759/assets\n"
     ]
    },
    {
     "name": "stdout",
     "output_type": "stream",
     "text": [
      "\n",
      "Start of epoch 6\n",
      "Epoch 6/Step 0, Loss: -0.31737, Accuracy: 0.99948, F1: 0.6498, Prec: 0.5243, Rec: 0.8544, lr: 0.00030\n",
      "Epoch 6/Step 20, Loss: -0.29617, Accuracy: 0.99935, F1: 0.6043, Prec: 0.4752, Rec: 0.8337, lr: 0.00030\n",
      "Epoch 6/Step 40, Loss: -0.28299, Accuracy: 0.99936, F1: 0.6008, Prec: 0.4735, Rec: 0.8261, lr: 0.00030\n",
      "Epoch 6/Step 60, Loss: -0.27614, Accuracy: 0.99936, F1: 0.5990, Prec: 0.4722, Rec: 0.8233, lr: 0.00030\n",
      "Epoch 6/Step 80, Loss: -0.30428, Accuracy: 0.99934, F1: 0.5960, Prec: 0.4706, Rec: 0.8178, lr: 0.00030\n",
      "Epoch 6/Step 100, Loss: -0.29077, Accuracy: 0.99935, F1: 0.5951, Prec: 0.4704, Rec: 0.8156, lr: 0.00030\n",
      "Epoch 6/Step 120, Loss: -0.26754, Accuracy: 0.99934, F1: 0.5949, Prec: 0.4701, Rec: 0.8158, lr: 0.00030\n",
      "Epoch 6/Step 140, Loss: -0.27035, Accuracy: 0.99934, F1: 0.5957, Prec: 0.4711, Rec: 0.8160, lr: 0.00030\n",
      "Epoch 6/Step 160, Loss: -0.25975, Accuracy: 0.99934, F1: 0.5955, Prec: 0.4712, Rec: 0.8152, lr: 0.00030\n",
      "Epoch 6/Step 180, Loss: -0.28468, Accuracy: 0.99934, F1: 0.5959, Prec: 0.4711, Rec: 0.8164, lr: 0.00030\n",
      "Epoch 6/Step 200, Loss: -0.29554, Accuracy: 0.99933, F1: 0.5950, Prec: 0.4697, Rec: 0.8173, lr: 0.00030\n",
      "Epoch 6/Step 220, Loss: -0.28967, Accuracy: 0.99934, F1: 0.5966, Prec: 0.4720, Rec: 0.8165, lr: 0.00030\n",
      "Epoch 6/Step 240, Loss: -0.32908, Accuracy: 0.99934, F1: 0.5971, Prec: 0.4729, Rec: 0.8157, lr: 0.00030\n",
      "Epoch 6/Step 260, Loss: -0.30608, Accuracy: 0.99934, F1: 0.5979, Prec: 0.4737, Rec: 0.8162, lr: 0.00030\n",
      "Epoch 6/Step 280, Loss: -0.27596, Accuracy: 0.99934, F1: 0.5979, Prec: 0.4739, Rec: 0.8157, lr: 0.00030\n",
      "Epoch 6/Step 300, Loss: -0.29908, Accuracy: 0.99934, F1: 0.5982, Prec: 0.4744, Rec: 0.8151, lr: 0.00030\n",
      "Epoch 6/Step 320, Loss: -0.31252, Accuracy: 0.99934, F1: 0.5994, Prec: 0.4759, Rec: 0.8152, lr: 0.00030\n",
      "Epoch 6/Step 340, Loss: -0.28487, Accuracy: 0.99934, F1: 0.6000, Prec: 0.4764, Rec: 0.8158, lr: 0.00030\n",
      "Epoch 6/Step 360, Loss: -0.28484, Accuracy: 0.99934, F1: 0.6014, Prec: 0.4778, Rec: 0.8167, lr: 0.00030\n",
      "Epoch 6/Step 380, Loss: -0.31587, Accuracy: 0.99934, F1: 0.6008, Prec: 0.4774, Rec: 0.8161, lr: 0.00030\n",
      "Epoch 6/Step 400, Loss: -0.28587, Accuracy: 0.99934, F1: 0.6010, Prec: 0.4775, Rec: 0.8163, lr: 0.00030\n",
      "Epoch 6/Step 420, Loss: -0.31463, Accuracy: 0.99934, F1: 0.6013, Prec: 0.4777, Rec: 0.8165, lr: 0.00030\n",
      "Epoch 6/Step 440, Loss: -0.26814, Accuracy: 0.99934, F1: 0.6010, Prec: 0.4773, Rec: 0.8171, lr: 0.00030\n",
      "Epoch 6/Step 460, Loss: -0.30056, Accuracy: 0.99934, F1: 0.6009, Prec: 0.4771, Rec: 0.8172, lr: 0.00030\n",
      "Epoch 6/Step 480, Loss: -0.33110, Accuracy: 0.99934, F1: 0.6012, Prec: 0.4772, Rec: 0.8177, lr: 0.00030\n",
      "Epoch 6/Step 500, Loss: -0.26023, Accuracy: 0.99935, F1: 0.6018, Prec: 0.4779, Rec: 0.8181, lr: 0.00030\n",
      "Epoch 6/Step 520, Loss: -0.27703, Accuracy: 0.99934, F1: 0.6014, Prec: 0.4774, Rec: 0.8177, lr: 0.00030\n",
      "Epoch 6/Step 540, Loss: -0.29201, Accuracy: 0.99934, F1: 0.6010, Prec: 0.4770, Rec: 0.8176, lr: 0.00030\n",
      "Epoch 6/Step 560, Loss: -0.32036, Accuracy: 0.99934, F1: 0.6009, Prec: 0.4765, Rec: 0.8185, lr: 0.00030\n",
      "Epoch 6/Step 580, Loss: -0.29734, Accuracy: 0.99934, F1: 0.6012, Prec: 0.4768, Rec: 0.8188, lr: 0.00030\n",
      "Epoch 6/Step 600, Loss: -0.27767, Accuracy: 0.99934, F1: 0.6009, Prec: 0.4765, Rec: 0.8190, lr: 0.00030\n",
      "Epoch 6/Step 620, Loss: -0.28798, Accuracy: 0.99934, F1: 0.6010, Prec: 0.4766, Rec: 0.8190, lr: 0.00030\n",
      "Epoch 6/Step 640, Loss: -0.31563, Accuracy: 0.99935, F1: 0.6012, Prec: 0.4769, Rec: 0.8189, lr: 0.00030\n",
      "Epoch 6/Step 660, Loss: -0.27851, Accuracy: 0.99935, F1: 0.6008, Prec: 0.4765, Rec: 0.8186, lr: 0.00030\n",
      "Epoch 6/Step 680, Loss: -0.28668, Accuracy: 0.99935, F1: 0.6011, Prec: 0.4769, Rec: 0.8186, lr: 0.00030\n",
      "Epoch 6/Step 700, Loss: -0.26206, Accuracy: 0.99935, F1: 0.6010, Prec: 0.4768, Rec: 0.8183, lr: 0.00030\n",
      "Epoch 6/Step 720, Loss: -0.25382, Accuracy: 0.99935, F1: 0.6012, Prec: 0.4771, Rec: 0.8181, lr: 0.00030\n",
      "Epoch 6/Step 740, Loss: -0.31382, Accuracy: 0.99935, F1: 0.6017, Prec: 0.4775, Rec: 0.8187, lr: 0.00030\n",
      "Epoch 6/Step 760, Loss: -0.32334, Accuracy: 0.99935, F1: 0.6019, Prec: 0.4776, Rec: 0.8191, lr: 0.00030\n",
      "Epoch 6/Step 780, Loss: -0.28759, Accuracy: 0.99935, F1: 0.6021, Prec: 0.4779, Rec: 0.8190, lr: 0.00030\n",
      "Epoch 6/Step 800, Loss: -0.28993, Accuracy: 0.99935, F1: 0.6021, Prec: 0.4779, Rec: 0.8191, lr: 0.00030\n",
      "Epoch 6/Step 820, Loss: -0.30920, Accuracy: 0.99935, F1: 0.6020, Prec: 0.4777, Rec: 0.8191, lr: 0.00030\n",
      "Epoch 6/Step 840, Loss: -0.28449, Accuracy: 0.99935, F1: 0.6019, Prec: 0.4776, Rec: 0.8191, lr: 0.00030\n",
      "Epoch 6/Step 860, Loss: -0.30203, Accuracy: 0.99935, F1: 0.6021, Prec: 0.4777, Rec: 0.8195, lr: 0.00030\n",
      "Epoch finished. Start validation\n",
      "Validation acc: 0.9993\n",
      "Validation f1: 0.5750\n",
      "Validation precision: 0.4562\n",
      "Validation recall: 0.7842\n",
      "WARNING:tensorflow:Compiled the loaded model, but the compiled metrics have yet to be built. `model.compile_metrics` will be empty until you train or evaluate the model.\n"
     ]
    },
    {
     "name": "stderr",
     "output_type": "stream",
     "text": [
      "WARNING:tensorflow:Compiled the loaded model, but the compiled metrics have yet to be built. `model.compile_metrics` will be empty until you train or evaluate the model.\n"
     ]
    },
    {
     "name": "stdout",
     "output_type": "stream",
     "text": [
      "INFO:tensorflow:Assets written to: /mnt/e/ML/cafa-5-protein-function-prediction/model_MFO_epoch_5_valF1Score0.5750/assets\n"
     ]
    },
    {
     "name": "stderr",
     "output_type": "stream",
     "text": [
      "INFO:tensorflow:Assets written to: /mnt/e/ML/cafa-5-protein-function-prediction/model_MFO_epoch_5_valF1Score0.5750/assets\n"
     ]
    },
    {
     "name": "stdout",
     "output_type": "stream",
     "text": [
      "\n",
      "Start of epoch 7\n",
      "Epoch 7/Step 0, Loss: -0.32242, Accuracy: 0.99949, F1: 0.6510, Prec: 0.5244, Rec: 0.8583, lr: 0.00030\n",
      "Epoch 7/Step 20, Loss: -0.30088, Accuracy: 0.99936, F1: 0.6080, Prec: 0.4798, Rec: 0.8335, lr: 0.00030\n",
      "Epoch 7/Step 40, Loss: -0.29081, Accuracy: 0.99936, F1: 0.6050, Prec: 0.4765, Rec: 0.8320, lr: 0.00030\n",
      "Epoch 7/Step 60, Loss: -0.27716, Accuracy: 0.99936, F1: 0.6044, Prec: 0.4768, Rec: 0.8289, lr: 0.00030\n",
      "Epoch 7/Step 80, Loss: -0.31393, Accuracy: 0.99935, F1: 0.6017, Prec: 0.4751, Rec: 0.8251, lr: 0.00030\n",
      "Epoch 7/Step 100, Loss: -0.29479, Accuracy: 0.99935, F1: 0.6004, Prec: 0.4742, Rec: 0.8231, lr: 0.00030\n",
      "Epoch 7/Step 120, Loss: -0.26858, Accuracy: 0.99935, F1: 0.5999, Prec: 0.4741, Rec: 0.8219, lr: 0.00030\n",
      "Epoch 7/Step 140, Loss: -0.27510, Accuracy: 0.99935, F1: 0.6008, Prec: 0.4751, Rec: 0.8224, lr: 0.00030\n",
      "Epoch 7/Step 160, Loss: -0.26730, Accuracy: 0.99934, F1: 0.6010, Prec: 0.4753, Rec: 0.8229, lr: 0.00030\n",
      "Epoch 7/Step 180, Loss: -0.28823, Accuracy: 0.99934, F1: 0.6016, Prec: 0.4755, Rec: 0.8246, lr: 0.00030\n",
      "Epoch 7/Step 200, Loss: -0.29978, Accuracy: 0.99934, F1: 0.6005, Prec: 0.4740, Rec: 0.8248, lr: 0.00030\n",
      "Epoch 7/Step 220, Loss: -0.29583, Accuracy: 0.99934, F1: 0.6023, Prec: 0.4765, Rec: 0.8242, lr: 0.00030\n",
      "Epoch 7/Step 240, Loss: -0.32732, Accuracy: 0.99935, F1: 0.6027, Prec: 0.4773, Rec: 0.8232, lr: 0.00030\n",
      "Epoch 7/Step 260, Loss: -0.31680, Accuracy: 0.99935, F1: 0.6036, Prec: 0.4781, Rec: 0.8242, lr: 0.00030\n",
      "Epoch 7/Step 280, Loss: -0.28011, Accuracy: 0.99935, F1: 0.6034, Prec: 0.4781, Rec: 0.8236, lr: 0.00030\n",
      "Epoch 7/Step 300, Loss: -0.30231, Accuracy: 0.99934, F1: 0.6038, Prec: 0.4786, Rec: 0.8233, lr: 0.00030\n",
      "Epoch 7/Step 320, Loss: -0.31762, Accuracy: 0.99935, F1: 0.6051, Prec: 0.4803, Rec: 0.8233, lr: 0.00030\n",
      "Epoch 7/Step 340, Loss: -0.29776, Accuracy: 0.99935, F1: 0.6057, Prec: 0.4808, Rec: 0.8238, lr: 0.00030\n",
      "Epoch 7/Step 360, Loss: -0.29169, Accuracy: 0.99935, F1: 0.6071, Prec: 0.4822, Rec: 0.8248, lr: 0.00030\n",
      "Epoch 7/Step 380, Loss: -0.32217, Accuracy: 0.99935, F1: 0.6067, Prec: 0.4820, Rec: 0.8244, lr: 0.00030\n",
      "Epoch 7/Step 400, Loss: -0.29052, Accuracy: 0.99935, F1: 0.6069, Prec: 0.4822, Rec: 0.8243, lr: 0.00030\n",
      "Epoch 7/Step 420, Loss: -0.32004, Accuracy: 0.99935, F1: 0.6073, Prec: 0.4825, Rec: 0.8249, lr: 0.00030\n",
      "Epoch 7/Step 440, Loss: -0.27321, Accuracy: 0.99935, F1: 0.6075, Prec: 0.4825, Rec: 0.8254, lr: 0.00030\n",
      "Epoch 7/Step 460, Loss: -0.29965, Accuracy: 0.99935, F1: 0.6074, Prec: 0.4825, Rec: 0.8252, lr: 0.00030\n",
      "Epoch 7/Step 480, Loss: -0.32676, Accuracy: 0.99935, F1: 0.6079, Prec: 0.4831, Rec: 0.8252, lr: 0.00030\n",
      "Epoch 7/Step 500, Loss: -0.25894, Accuracy: 0.99935, F1: 0.6085, Prec: 0.4839, Rec: 0.8252, lr: 0.00030\n",
      "Epoch 7/Step 520, Loss: -0.28672, Accuracy: 0.99935, F1: 0.6083, Prec: 0.4837, Rec: 0.8249, lr: 0.00030\n",
      "Epoch 7/Step 540, Loss: -0.29414, Accuracy: 0.99935, F1: 0.6081, Prec: 0.4835, Rec: 0.8247, lr: 0.00030\n",
      "Epoch 7/Step 560, Loss: -0.33027, Accuracy: 0.99935, F1: 0.6081, Prec: 0.4832, Rec: 0.8255, lr: 0.00030\n",
      "Epoch 7/Step 580, Loss: -0.30679, Accuracy: 0.99935, F1: 0.6085, Prec: 0.4836, Rec: 0.8258, lr: 0.00030\n",
      "Epoch 7/Step 600, Loss: -0.27940, Accuracy: 0.99935, F1: 0.6083, Prec: 0.4834, Rec: 0.8259, lr: 0.00030\n",
      "Epoch 7/Step 620, Loss: -0.29542, Accuracy: 0.99935, F1: 0.6084, Prec: 0.4835, Rec: 0.8259, lr: 0.00030\n",
      "Epoch 7/Step 640, Loss: -0.32216, Accuracy: 0.99935, F1: 0.6088, Prec: 0.4840, Rec: 0.8256, lr: 0.00030\n",
      "Epoch 7/Step 660, Loss: -0.28682, Accuracy: 0.99935, F1: 0.6086, Prec: 0.4838, Rec: 0.8256, lr: 0.00030\n",
      "Epoch 7/Step 680, Loss: -0.29493, Accuracy: 0.99935, F1: 0.6090, Prec: 0.4843, Rec: 0.8255, lr: 0.00030\n",
      "Epoch 7/Step 700, Loss: -0.27051, Accuracy: 0.99935, F1: 0.6090, Prec: 0.4844, Rec: 0.8253, lr: 0.00030\n",
      "Epoch 7/Step 720, Loss: -0.25476, Accuracy: 0.99935, F1: 0.6093, Prec: 0.4850, Rec: 0.8250, lr: 0.00030\n",
      "Epoch 7/Step 740, Loss: -0.30568, Accuracy: 0.99935, F1: 0.6098, Prec: 0.4854, Rec: 0.8255, lr: 0.00030\n",
      "Epoch 7/Step 760, Loss: -0.32836, Accuracy: 0.99935, F1: 0.6101, Prec: 0.4855, Rec: 0.8261, lr: 0.00030\n",
      "Epoch 7/Step 780, Loss: -0.29587, Accuracy: 0.99935, F1: 0.6103, Prec: 0.4859, Rec: 0.8259, lr: 0.00030\n",
      "Epoch 7/Step 800, Loss: -0.29504, Accuracy: 0.99935, F1: 0.6105, Prec: 0.4860, Rec: 0.8261, lr: 0.00030\n",
      "Epoch 7/Step 820, Loss: -0.32079, Accuracy: 0.99935, F1: 0.6104, Prec: 0.4858, Rec: 0.8262, lr: 0.00030\n",
      "Epoch 7/Step 840, Loss: -0.29972, Accuracy: 0.99935, F1: 0.6103, Prec: 0.4858, Rec: 0.8261, lr: 0.00030\n",
      "Epoch 7/Step 860, Loss: -0.30599, Accuracy: 0.99935, F1: 0.6107, Prec: 0.4861, Rec: 0.8267, lr: 0.00030\n",
      "Epoch finished. Start validation\n",
      "Validation acc: 0.9993\n",
      "Validation f1: 0.5833\n",
      "Validation precision: 0.4654\n",
      "Validation recall: 0.7873\n",
      "WARNING:tensorflow:Compiled the loaded model, but the compiled metrics have yet to be built. `model.compile_metrics` will be empty until you train or evaluate the model.\n"
     ]
    },
    {
     "name": "stderr",
     "output_type": "stream",
     "text": [
      "WARNING:tensorflow:Compiled the loaded model, but the compiled metrics have yet to be built. `model.compile_metrics` will be empty until you train or evaluate the model.\n"
     ]
    },
    {
     "name": "stdout",
     "output_type": "stream",
     "text": [
      "INFO:tensorflow:Assets written to: /mnt/e/ML/cafa-5-protein-function-prediction/model_MFO_epoch_6_valF1Score0.5833/assets\n"
     ]
    },
    {
     "name": "stderr",
     "output_type": "stream",
     "text": [
      "INFO:tensorflow:Assets written to: /mnt/e/ML/cafa-5-protein-function-prediction/model_MFO_epoch_6_valF1Score0.5833/assets\n"
     ]
    },
    {
     "name": "stdout",
     "output_type": "stream",
     "text": [
      "\n",
      "Start of epoch 8\n",
      "Epoch 8/Step 0, Loss: -0.32419, Accuracy: 0.99949, F1: 0.6667, Prec: 0.5481, Rec: 0.8507, lr: 0.00030\n",
      "Epoch 8/Step 20, Loss: -0.30910, Accuracy: 0.99937, F1: 0.6227, Prec: 0.4957, Rec: 0.8416, lr: 0.00030\n",
      "Epoch 8/Step 40, Loss: -0.29456, Accuracy: 0.99938, F1: 0.6189, Prec: 0.4918, Rec: 0.8387, lr: 0.00030\n",
      "Epoch 8/Step 60, Loss: -0.28204, Accuracy: 0.99937, F1: 0.6183, Prec: 0.4915, Rec: 0.8371, lr: 0.00030\n",
      "Epoch 8/Step 80, Loss: -0.31719, Accuracy: 0.99936, F1: 0.6139, Prec: 0.4878, Rec: 0.8328, lr: 0.00030\n",
      "Epoch 8/Step 100, Loss: -0.30414, Accuracy: 0.99936, F1: 0.6126, Prec: 0.4877, Rec: 0.8292, lr: 0.00030\n",
      "Epoch 8/Step 120, Loss: -0.27420, Accuracy: 0.99936, F1: 0.6118, Prec: 0.4867, Rec: 0.8292, lr: 0.00030\n",
      "Epoch 8/Step 140, Loss: -0.27883, Accuracy: 0.99936, F1: 0.6126, Prec: 0.4876, Rec: 0.8297, lr: 0.00030\n",
      "Epoch 8/Step 160, Loss: -0.28519, Accuracy: 0.99936, F1: 0.6125, Prec: 0.4874, Rec: 0.8302, lr: 0.00030\n",
      "Epoch 8/Step 180, Loss: -0.29682, Accuracy: 0.99935, F1: 0.6130, Prec: 0.4873, Rec: 0.8320, lr: 0.00030\n",
      "Epoch 8/Step 200, Loss: -0.31014, Accuracy: 0.99935, F1: 0.6120, Prec: 0.4859, Rec: 0.8322, lr: 0.00030\n",
      "Epoch 8/Step 220, Loss: -0.29773, Accuracy: 0.99936, F1: 0.6139, Prec: 0.4884, Rec: 0.8321, lr: 0.00030\n",
      "Epoch 8/Step 240, Loss: -0.33518, Accuracy: 0.99936, F1: 0.6143, Prec: 0.4893, Rec: 0.8308, lr: 0.00030\n",
      "Epoch 8/Step 260, Loss: -0.32026, Accuracy: 0.99936, F1: 0.6154, Prec: 0.4902, Rec: 0.8319, lr: 0.00030\n",
      "Epoch 8/Step 280, Loss: -0.28871, Accuracy: 0.99936, F1: 0.6150, Prec: 0.4900, Rec: 0.8311, lr: 0.00030\n",
      "Epoch 8/Step 300, Loss: -0.30787, Accuracy: 0.99935, F1: 0.6154, Prec: 0.4905, Rec: 0.8308, lr: 0.00030\n",
      "Epoch 8/Step 320, Loss: -0.32371, Accuracy: 0.99936, F1: 0.6167, Prec: 0.4921, Rec: 0.8312, lr: 0.00030\n",
      "Epoch 8/Step 340, Loss: -0.30652, Accuracy: 0.99936, F1: 0.6171, Prec: 0.4925, Rec: 0.8316, lr: 0.00030\n",
      "Epoch 8/Step 360, Loss: -0.28945, Accuracy: 0.99936, F1: 0.6184, Prec: 0.4939, Rec: 0.8324, lr: 0.00030\n",
      "Epoch 8/Step 380, Loss: -0.33208, Accuracy: 0.99936, F1: 0.6180, Prec: 0.4935, Rec: 0.8322, lr: 0.00030\n",
      "Epoch 8/Step 400, Loss: -0.29061, Accuracy: 0.99936, F1: 0.6180, Prec: 0.4935, Rec: 0.8323, lr: 0.00030\n",
      "Epoch 8/Step 420, Loss: -0.32974, Accuracy: 0.99936, F1: 0.6183, Prec: 0.4937, Rec: 0.8325, lr: 0.00030\n",
      "Epoch 8/Step 440, Loss: -0.28192, Accuracy: 0.99936, F1: 0.6182, Prec: 0.4934, Rec: 0.8330, lr: 0.00030\n",
      "Epoch 8/Step 460, Loss: -0.30902, Accuracy: 0.99936, F1: 0.6181, Prec: 0.4933, Rec: 0.8329, lr: 0.00030\n",
      "Epoch 8/Step 480, Loss: -0.32934, Accuracy: 0.99936, F1: 0.6186, Prec: 0.4938, Rec: 0.8332, lr: 0.00030\n",
      "Epoch 8/Step 500, Loss: -0.26615, Accuracy: 0.99936, F1: 0.6191, Prec: 0.4945, Rec: 0.8331, lr: 0.00030\n",
      "Epoch 8/Step 520, Loss: -0.29116, Accuracy: 0.99936, F1: 0.6188, Prec: 0.4941, Rec: 0.8329, lr: 0.00030\n",
      "Epoch 8/Step 540, Loss: -0.29648, Accuracy: 0.99936, F1: 0.6185, Prec: 0.4938, Rec: 0.8328, lr: 0.00030\n",
      "Epoch 8/Step 560, Loss: -0.33520, Accuracy: 0.99936, F1: 0.6184, Prec: 0.4934, Rec: 0.8336, lr: 0.00030\n",
      "Epoch 8/Step 580, Loss: -0.30500, Accuracy: 0.99936, F1: 0.6186, Prec: 0.4936, Rec: 0.8338, lr: 0.00030\n",
      "Epoch 8/Step 600, Loss: -0.27845, Accuracy: 0.99936, F1: 0.6184, Prec: 0.4933, Rec: 0.8339, lr: 0.00030\n",
      "Epoch 8/Step 620, Loss: -0.29510, Accuracy: 0.99936, F1: 0.6184, Prec: 0.4932, Rec: 0.8340, lr: 0.00030\n",
      "Epoch 8/Step 640, Loss: -0.32145, Accuracy: 0.99936, F1: 0.6186, Prec: 0.4935, Rec: 0.8339, lr: 0.00030\n",
      "Epoch 8/Step 660, Loss: -0.29671, Accuracy: 0.99936, F1: 0.6183, Prec: 0.4932, Rec: 0.8337, lr: 0.00030\n",
      "Epoch 8/Step 680, Loss: -0.29717, Accuracy: 0.99936, F1: 0.6186, Prec: 0.4936, Rec: 0.8337, lr: 0.00030\n",
      "Epoch 8/Step 700, Loss: -0.27828, Accuracy: 0.99936, F1: 0.6185, Prec: 0.4937, Rec: 0.8332, lr: 0.00030\n",
      "Epoch 8/Step 720, Loss: -0.25930, Accuracy: 0.99936, F1: 0.6188, Prec: 0.4941, Rec: 0.8329, lr: 0.00030\n",
      "Epoch 8/Step 740, Loss: -0.31962, Accuracy: 0.99936, F1: 0.6192, Prec: 0.4945, Rec: 0.8333, lr: 0.00030\n",
      "Epoch 8/Step 760, Loss: -0.33185, Accuracy: 0.99936, F1: 0.6193, Prec: 0.4945, Rec: 0.8337, lr: 0.00030\n",
      "Epoch 8/Step 780, Loss: -0.29653, Accuracy: 0.99936, F1: 0.6195, Prec: 0.4948, Rec: 0.8335, lr: 0.00030\n",
      "Epoch 8/Step 800, Loss: -0.30231, Accuracy: 0.99936, F1: 0.6196, Prec: 0.4949, Rec: 0.8336, lr: 0.00030\n",
      "Epoch 8/Step 820, Loss: -0.33455, Accuracy: 0.99936, F1: 0.6195, Prec: 0.4948, Rec: 0.8335, lr: 0.00030\n",
      "Epoch 8/Step 840, Loss: -0.30513, Accuracy: 0.99936, F1: 0.6194, Prec: 0.4947, Rec: 0.8335, lr: 0.00030\n",
      "Epoch 8/Step 860, Loss: -0.31068, Accuracy: 0.99936, F1: 0.6198, Prec: 0.4950, Rec: 0.8340, lr: 0.00030\n",
      "Epoch finished. Start validation\n",
      "Validation acc: 0.9993\n",
      "Validation f1: 0.5872\n",
      "Validation precision: 0.4694\n",
      "Validation recall: 0.7903\n",
      "WARNING:tensorflow:Compiled the loaded model, but the compiled metrics have yet to be built. `model.compile_metrics` will be empty until you train or evaluate the model.\n"
     ]
    },
    {
     "name": "stderr",
     "output_type": "stream",
     "text": [
      "WARNING:tensorflow:Compiled the loaded model, but the compiled metrics have yet to be built. `model.compile_metrics` will be empty until you train or evaluate the model.\n"
     ]
    },
    {
     "name": "stdout",
     "output_type": "stream",
     "text": [
      "INFO:tensorflow:Assets written to: /mnt/e/ML/cafa-5-protein-function-prediction/model_MFO_epoch_7_valF1Score0.5872/assets\n"
     ]
    },
    {
     "name": "stderr",
     "output_type": "stream",
     "text": [
      "INFO:tensorflow:Assets written to: /mnt/e/ML/cafa-5-protein-function-prediction/model_MFO_epoch_7_valF1Score0.5872/assets\n"
     ]
    },
    {
     "name": "stdout",
     "output_type": "stream",
     "text": [
      "\n",
      "Start of epoch 9\n",
      "Epoch 9/Step 0, Loss: -0.32959, Accuracy: 0.99950, F1: 0.6814, Prec: 0.5576, Rec: 0.8757, lr: 0.00030\n",
      "Epoch 9/Step 20, Loss: -0.31397, Accuracy: 0.99938, F1: 0.6303, Prec: 0.5013, Rec: 0.8523, lr: 0.00030\n",
      "Epoch 9/Step 40, Loss: -0.29703, Accuracy: 0.99939, F1: 0.6261, Prec: 0.4970, Rec: 0.8496, lr: 0.00030\n",
      "Epoch 9/Step 60, Loss: -0.28789, Accuracy: 0.99938, F1: 0.6262, Prec: 0.4977, Rec: 0.8478, lr: 0.00030\n",
      "Epoch 9/Step 80, Loss: -0.31467, Accuracy: 0.99937, F1: 0.6211, Prec: 0.4943, Rec: 0.8404, lr: 0.00030\n",
      "Epoch 9/Step 100, Loss: -0.30619, Accuracy: 0.99937, F1: 0.6204, Prec: 0.4947, Rec: 0.8371, lr: 0.00030\n",
      "Epoch 9/Step 120, Loss: -0.28134, Accuracy: 0.99937, F1: 0.6199, Prec: 0.4941, Rec: 0.8369, lr: 0.00030\n",
      "Epoch 9/Step 140, Loss: -0.28157, Accuracy: 0.99937, F1: 0.6208, Prec: 0.4953, Rec: 0.8370, lr: 0.00030\n",
      "Epoch 9/Step 160, Loss: -0.28322, Accuracy: 0.99936, F1: 0.6203, Prec: 0.4947, Rec: 0.8370, lr: 0.00030\n",
      "Epoch 9/Step 180, Loss: -0.31070, Accuracy: 0.99936, F1: 0.6214, Prec: 0.4951, Rec: 0.8395, lr: 0.00030\n",
      "Epoch 9/Step 200, Loss: -0.31256, Accuracy: 0.99936, F1: 0.6203, Prec: 0.4937, Rec: 0.8395, lr: 0.00030\n",
      "Epoch 9/Step 220, Loss: -0.30382, Accuracy: 0.99936, F1: 0.6221, Prec: 0.4963, Rec: 0.8391, lr: 0.00030\n",
      "Epoch 9/Step 240, Loss: -0.33491, Accuracy: 0.99937, F1: 0.6226, Prec: 0.4973, Rec: 0.8378, lr: 0.00030\n",
      "Epoch 9/Step 260, Loss: -0.32524, Accuracy: 0.99937, F1: 0.6235, Prec: 0.4981, Rec: 0.8386, lr: 0.00030\n",
      "Epoch 9/Step 280, Loss: -0.30081, Accuracy: 0.99936, F1: 0.6231, Prec: 0.4981, Rec: 0.8373, lr: 0.00030\n",
      "Epoch 9/Step 300, Loss: -0.31188, Accuracy: 0.99936, F1: 0.6232, Prec: 0.4984, Rec: 0.8367, lr: 0.00030\n",
      "Epoch 9/Step 320, Loss: -0.32746, Accuracy: 0.99936, F1: 0.6245, Prec: 0.5000, Rec: 0.8370, lr: 0.00030\n",
      "Epoch 9/Step 340, Loss: -0.31286, Accuracy: 0.99937, F1: 0.6249, Prec: 0.5004, Rec: 0.8374, lr: 0.00030\n",
      "Epoch 9/Step 360, Loss: -0.29304, Accuracy: 0.99937, F1: 0.6261, Prec: 0.5018, Rec: 0.8380, lr: 0.00030\n",
      "Epoch 9/Step 380, Loss: -0.33735, Accuracy: 0.99937, F1: 0.6259, Prec: 0.5015, Rec: 0.8379, lr: 0.00030\n",
      "Epoch 9/Step 400, Loss: -0.30042, Accuracy: 0.99937, F1: 0.6259, Prec: 0.5014, Rec: 0.8380, lr: 0.00030\n",
      "Epoch 9/Step 420, Loss: -0.33118, Accuracy: 0.99937, F1: 0.6261, Prec: 0.5016, Rec: 0.8382, lr: 0.00030\n",
      "Epoch 9/Step 440, Loss: -0.28631, Accuracy: 0.99937, F1: 0.6260, Prec: 0.5013, Rec: 0.8387, lr: 0.00030\n",
      "Epoch 9/Step 460, Loss: -0.31885, Accuracy: 0.99937, F1: 0.6260, Prec: 0.5012, Rec: 0.8387, lr: 0.00030\n",
      "Epoch 9/Step 480, Loss: -0.34380, Accuracy: 0.99937, F1: 0.6265, Prec: 0.5017, Rec: 0.8392, lr: 0.00030\n",
      "Epoch 9/Step 500, Loss: -0.27141, Accuracy: 0.99937, F1: 0.6272, Prec: 0.5024, Rec: 0.8395, lr: 0.00030\n",
      "Epoch 9/Step 520, Loss: -0.29353, Accuracy: 0.99937, F1: 0.6268, Prec: 0.5021, Rec: 0.8391, lr: 0.00030\n",
      "Epoch 9/Step 540, Loss: -0.31221, Accuracy: 0.99937, F1: 0.6266, Prec: 0.5017, Rec: 0.8394, lr: 0.00030\n",
      "Epoch 9/Step 560, Loss: -0.34144, Accuracy: 0.99937, F1: 0.6263, Prec: 0.5013, Rec: 0.8398, lr: 0.00030\n",
      "Epoch 9/Step 580, Loss: -0.31363, Accuracy: 0.99937, F1: 0.6265, Prec: 0.5014, Rec: 0.8400, lr: 0.00030\n",
      "Epoch 9/Step 600, Loss: -0.28575, Accuracy: 0.99937, F1: 0.6262, Prec: 0.5010, Rec: 0.8402, lr: 0.00030\n",
      "Epoch 9/Step 620, Loss: -0.30356, Accuracy: 0.99937, F1: 0.6263, Prec: 0.5011, Rec: 0.8401, lr: 0.00030\n",
      "Epoch 9/Step 640, Loss: -0.32982, Accuracy: 0.99937, F1: 0.6265, Prec: 0.5014, Rec: 0.8401, lr: 0.00030\n",
      "Epoch 9/Step 660, Loss: -0.30228, Accuracy: 0.99937, F1: 0.6264, Prec: 0.5012, Rec: 0.8401, lr: 0.00030\n",
      "Epoch 9/Step 680, Loss: -0.30818, Accuracy: 0.99937, F1: 0.6267, Prec: 0.5016, Rec: 0.8401, lr: 0.00030\n",
      "Epoch 9/Step 700, Loss: -0.27913, Accuracy: 0.99937, F1: 0.6266, Prec: 0.5016, Rec: 0.8399, lr: 0.00030\n",
      "Epoch 9/Step 720, Loss: -0.26040, Accuracy: 0.99937, F1: 0.6269, Prec: 0.5020, Rec: 0.8397, lr: 0.00030\n",
      "Epoch 9/Step 740, Loss: -0.32790, Accuracy: 0.99937, F1: 0.6274, Prec: 0.5024, Rec: 0.8401, lr: 0.00030\n",
      "Epoch 9/Step 760, Loss: -0.33422, Accuracy: 0.99937, F1: 0.6274, Prec: 0.5024, Rec: 0.8404, lr: 0.00030\n",
      "Epoch 9/Step 780, Loss: -0.30757, Accuracy: 0.99937, F1: 0.6275, Prec: 0.5026, Rec: 0.8402, lr: 0.00030\n",
      "Epoch 9/Step 800, Loss: -0.31330, Accuracy: 0.99937, F1: 0.6275, Prec: 0.5026, Rec: 0.8400, lr: 0.00030\n",
      "Epoch 9/Step 820, Loss: -0.33531, Accuracy: 0.99937, F1: 0.6273, Prec: 0.5023, Rec: 0.8401, lr: 0.00030\n",
      "Epoch 9/Step 840, Loss: -0.31502, Accuracy: 0.99937, F1: 0.6271, Prec: 0.5022, Rec: 0.8400, lr: 0.00030\n",
      "Epoch 9/Step 860, Loss: -0.30930, Accuracy: 0.99937, F1: 0.6275, Prec: 0.5024, Rec: 0.8406, lr: 0.00030\n",
      "Epoch finished. Start validation\n",
      "Validation acc: 0.9993\n",
      "Validation f1: 0.5907\n",
      "Validation precision: 0.4721\n",
      "Validation recall: 0.7951\n",
      "WARNING:tensorflow:Compiled the loaded model, but the compiled metrics have yet to be built. `model.compile_metrics` will be empty until you train or evaluate the model.\n"
     ]
    },
    {
     "name": "stderr",
     "output_type": "stream",
     "text": [
      "WARNING:tensorflow:Compiled the loaded model, but the compiled metrics have yet to be built. `model.compile_metrics` will be empty until you train or evaluate the model.\n"
     ]
    },
    {
     "name": "stdout",
     "output_type": "stream",
     "text": [
      "INFO:tensorflow:Assets written to: /mnt/e/ML/cafa-5-protein-function-prediction/model_MFO_epoch_8_valF1Score0.5907/assets\n"
     ]
    },
    {
     "name": "stderr",
     "output_type": "stream",
     "text": [
      "INFO:tensorflow:Assets written to: /mnt/e/ML/cafa-5-protein-function-prediction/model_MFO_epoch_8_valF1Score0.5907/assets\n"
     ]
    },
    {
     "name": "stdout",
     "output_type": "stream",
     "text": [
      "\n",
      "Start of epoch 10\n",
      "Epoch 10/Step 0, Loss: -0.33453, Accuracy: 0.99951, F1: 0.6815, Prec: 0.5515, Rec: 0.8916, lr: 0.00030\n",
      "Epoch 10/Step 20, Loss: -0.31723, Accuracy: 0.99939, F1: 0.6376, Prec: 0.5085, Rec: 0.8580, lr: 0.00030\n",
      "Epoch 10/Step 40, Loss: -0.30077, Accuracy: 0.99939, F1: 0.6340, Prec: 0.5052, Rec: 0.8547, lr: 0.00030\n",
      "Epoch 10/Step 60, Loss: -0.29326, Accuracy: 0.99939, F1: 0.6340, Prec: 0.5057, Rec: 0.8530, lr: 0.00030\n",
      "Epoch 10/Step 80, Loss: -0.32159, Accuracy: 0.99938, F1: 0.6293, Prec: 0.5022, Rec: 0.8470, lr: 0.00030\n",
      "Epoch 10/Step 100, Loss: -0.30992, Accuracy: 0.99938, F1: 0.6279, Prec: 0.5014, Rec: 0.8444, lr: 0.00030\n",
      "Epoch 10/Step 120, Loss: -0.28169, Accuracy: 0.99938, F1: 0.6277, Prec: 0.5009, Rec: 0.8454, lr: 0.00030\n",
      "Epoch 10/Step 140, Loss: -0.29089, Accuracy: 0.99938, F1: 0.6280, Prec: 0.5015, Rec: 0.8450, lr: 0.00030\n",
      "Epoch 10/Step 160, Loss: -0.29001, Accuracy: 0.99937, F1: 0.6277, Prec: 0.5011, Rec: 0.8453, lr: 0.00030\n",
      "Epoch 10/Step 180, Loss: -0.32066, Accuracy: 0.99937, F1: 0.6284, Prec: 0.5013, Rec: 0.8467, lr: 0.00030\n",
      "Epoch 10/Step 200, Loss: -0.31769, Accuracy: 0.99937, F1: 0.6270, Prec: 0.4996, Rec: 0.8466, lr: 0.00030\n",
      "Epoch 10/Step 220, Loss: -0.30929, Accuracy: 0.99937, F1: 0.6285, Prec: 0.5019, Rec: 0.8457, lr: 0.00030\n",
      "Epoch 10/Step 240, Loss: -0.34655, Accuracy: 0.99937, F1: 0.6288, Prec: 0.5029, Rec: 0.8441, lr: 0.00030\n",
      "Epoch 10/Step 260, Loss: -0.32981, Accuracy: 0.99937, F1: 0.6299, Prec: 0.5039, Rec: 0.8448, lr: 0.00030\n",
      "Epoch 10/Step 280, Loss: -0.30934, Accuracy: 0.99937, F1: 0.6294, Prec: 0.5037, Rec: 0.8438, lr: 0.00030\n",
      "Epoch 10/Step 300, Loss: -0.31650, Accuracy: 0.99937, F1: 0.6295, Prec: 0.5040, Rec: 0.8432, lr: 0.00030\n",
      "Epoch 10/Step 320, Loss: -0.33225, Accuracy: 0.99937, F1: 0.6306, Prec: 0.5054, Rec: 0.8436, lr: 0.00030\n",
      "Epoch 10/Step 340, Loss: -0.32193, Accuracy: 0.99937, F1: 0.6308, Prec: 0.5057, Rec: 0.8436, lr: 0.00030\n",
      "Epoch 10/Step 360, Loss: -0.29123, Accuracy: 0.99938, F1: 0.6322, Prec: 0.5070, Rec: 0.8446, lr: 0.00030\n",
      "Epoch 10/Step 380, Loss: -0.33636, Accuracy: 0.99938, F1: 0.6318, Prec: 0.5067, Rec: 0.8442, lr: 0.00030\n",
      "Epoch 10/Step 400, Loss: -0.31754, Accuracy: 0.99938, F1: 0.6319, Prec: 0.5068, Rec: 0.8441, lr: 0.00030\n",
      "Epoch 10/Step 420, Loss: -0.33743, Accuracy: 0.99938, F1: 0.6321, Prec: 0.5070, Rec: 0.8444, lr: 0.00030\n",
      "Epoch 10/Step 440, Loss: -0.29117, Accuracy: 0.99938, F1: 0.6320, Prec: 0.5067, Rec: 0.8448, lr: 0.00030\n",
      "Epoch 10/Step 460, Loss: -0.32231, Accuracy: 0.99938, F1: 0.6318, Prec: 0.5066, Rec: 0.8445, lr: 0.00030\n",
      "Epoch 10/Step 480, Loss: -0.34340, Accuracy: 0.99938, F1: 0.6323, Prec: 0.5071, Rec: 0.8447, lr: 0.00030\n",
      "Epoch 10/Step 500, Loss: -0.27121, Accuracy: 0.99938, F1: 0.6330, Prec: 0.5079, Rec: 0.8447, lr: 0.00030\n",
      "Epoch 10/Step 520, Loss: -0.30230, Accuracy: 0.99938, F1: 0.6327, Prec: 0.5077, Rec: 0.8444, lr: 0.00030\n",
      "Epoch 10/Step 540, Loss: -0.30971, Accuracy: 0.99938, F1: 0.6324, Prec: 0.5073, Rec: 0.8444, lr: 0.00030\n",
      "Epoch 10/Step 560, Loss: -0.33979, Accuracy: 0.99938, F1: 0.6323, Prec: 0.5069, Rec: 0.8450, lr: 0.00030\n",
      "Epoch 10/Step 580, Loss: -0.32007, Accuracy: 0.99938, F1: 0.6324, Prec: 0.5070, Rec: 0.8452, lr: 0.00030\n",
      "Epoch 10/Step 600, Loss: -0.28933, Accuracy: 0.99938, F1: 0.6322, Prec: 0.5066, Rec: 0.8453, lr: 0.00030\n",
      "Epoch 10/Step 620, Loss: -0.29856, Accuracy: 0.99938, F1: 0.6322, Prec: 0.5067, Rec: 0.8452, lr: 0.00030\n",
      "Epoch 10/Step 640, Loss: -0.33412, Accuracy: 0.99938, F1: 0.6324, Prec: 0.5070, Rec: 0.8452, lr: 0.00030\n",
      "Epoch 10/Step 660, Loss: -0.31260, Accuracy: 0.99938, F1: 0.6321, Prec: 0.5066, Rec: 0.8451, lr: 0.00030\n",
      "Epoch 10/Step 680, Loss: -0.31697, Accuracy: 0.99938, F1: 0.6325, Prec: 0.5070, Rec: 0.8452, lr: 0.00030\n",
      "Epoch 10/Step 700, Loss: -0.29039, Accuracy: 0.99938, F1: 0.6323, Prec: 0.5070, Rec: 0.8448, lr: 0.00030\n",
      "Epoch 10/Step 720, Loss: -0.26854, Accuracy: 0.99938, F1: 0.6326, Prec: 0.5075, Rec: 0.8446, lr: 0.00030\n",
      "Epoch 10/Step 740, Loss: -0.32981, Accuracy: 0.99938, F1: 0.6330, Prec: 0.5078, Rec: 0.8451, lr: 0.00030\n",
      "Epoch 10/Step 760, Loss: -0.33268, Accuracy: 0.99938, F1: 0.6331, Prec: 0.5078, Rec: 0.8455, lr: 0.00030\n",
      "Epoch 10/Step 780, Loss: -0.30806, Accuracy: 0.99938, F1: 0.6332, Prec: 0.5079, Rec: 0.8453, lr: 0.00030\n",
      "Epoch 10/Step 800, Loss: -0.31234, Accuracy: 0.99938, F1: 0.6332, Prec: 0.5079, Rec: 0.8453, lr: 0.00030\n",
      "Epoch 10/Step 820, Loss: -0.33518, Accuracy: 0.99938, F1: 0.6329, Prec: 0.5076, Rec: 0.8454, lr: 0.00030\n",
      "Epoch 10/Step 840, Loss: -0.31489, Accuracy: 0.99938, F1: 0.6328, Prec: 0.5075, Rec: 0.8454, lr: 0.00030\n",
      "Epoch 10/Step 860, Loss: -0.30834, Accuracy: 0.99938, F1: 0.6330, Prec: 0.5075, Rec: 0.8458, lr: 0.00030\n",
      "Epoch finished. Start validation\n",
      "Validation acc: 0.9993\n",
      "Validation f1: 0.5900\n",
      "Validation precision: 0.4732\n",
      "Validation recall: 0.7897\n",
      "WARNING:tensorflow:Compiled the loaded model, but the compiled metrics have yet to be built. `model.compile_metrics` will be empty until you train or evaluate the model.\n"
     ]
    },
    {
     "name": "stderr",
     "output_type": "stream",
     "text": [
      "WARNING:tensorflow:Compiled the loaded model, but the compiled metrics have yet to be built. `model.compile_metrics` will be empty until you train or evaluate the model.\n"
     ]
    },
    {
     "name": "stdout",
     "output_type": "stream",
     "text": [
      "INFO:tensorflow:Assets written to: /mnt/e/ML/cafa-5-protein-function-prediction/model_MFO_epoch_9_valF1Score0.5900/assets\n"
     ]
    },
    {
     "name": "stderr",
     "output_type": "stream",
     "text": [
      "INFO:tensorflow:Assets written to: /mnt/e/ML/cafa-5-protein-function-prediction/model_MFO_epoch_9_valF1Score0.5900/assets\n"
     ]
    },
    {
     "name": "stdout",
     "output_type": "stream",
     "text": [
      "\n",
      "Start of epoch 11\n",
      "Epoch 11/Step 0, Loss: -0.33954, Accuracy: 0.99952, F1: 0.6898, Prec: 0.5623, Rec: 0.8920, lr: 0.00030\n",
      "Epoch 11/Step 20, Loss: -0.31104, Accuracy: 0.99939, F1: 0.6410, Prec: 0.5128, Rec: 0.8589, lr: 0.00030\n",
      "Epoch 11/Step 40, Loss: -0.30036, Accuracy: 0.99940, F1: 0.6369, Prec: 0.5088, Rec: 0.8552, lr: 0.00030\n",
      "Epoch 11/Step 60, Loss: -0.30519, Accuracy: 0.99940, F1: 0.6368, Prec: 0.5090, Rec: 0.8541, lr: 0.00030\n",
      "Epoch 11/Step 80, Loss: -0.32811, Accuracy: 0.99938, F1: 0.6324, Prec: 0.5053, Rec: 0.8500, lr: 0.00030\n",
      "Epoch 11/Step 100, Loss: -0.30897, Accuracy: 0.99939, F1: 0.6315, Prec: 0.5050, Rec: 0.8478, lr: 0.00030\n",
      "Epoch 11/Step 120, Loss: -0.28739, Accuracy: 0.99938, F1: 0.6310, Prec: 0.5041, Rec: 0.8483, lr: 0.00030\n",
      "Epoch 11/Step 140, Loss: -0.29295, Accuracy: 0.99938, F1: 0.6321, Prec: 0.5054, Rec: 0.8485, lr: 0.00030\n",
      "Epoch 11/Step 160, Loss: -0.29745, Accuracy: 0.99938, F1: 0.6319, Prec: 0.5052, Rec: 0.8490, lr: 0.00030\n",
      "Epoch 11/Step 180, Loss: -0.32379, Accuracy: 0.99938, F1: 0.6330, Prec: 0.5057, Rec: 0.8509, lr: 0.00030\n",
      "Epoch 11/Step 200, Loss: -0.31909, Accuracy: 0.99938, F1: 0.6317, Prec: 0.5040, Rec: 0.8511, lr: 0.00030\n",
      "Epoch 11/Step 220, Loss: -0.31341, Accuracy: 0.99938, F1: 0.6330, Prec: 0.5061, Rec: 0.8503, lr: 0.00030\n",
      "Epoch 11/Step 240, Loss: -0.34800, Accuracy: 0.99938, F1: 0.6333, Prec: 0.5071, Rec: 0.8483, lr: 0.00030\n",
      "Epoch 11/Step 260, Loss: -0.33608, Accuracy: 0.99938, F1: 0.6345, Prec: 0.5081, Rec: 0.8497, lr: 0.00030\n",
      "Epoch 11/Step 280, Loss: -0.30660, Accuracy: 0.99938, F1: 0.6338, Prec: 0.5076, Rec: 0.8483, lr: 0.00030\n",
      "Epoch 11/Step 300, Loss: -0.32502, Accuracy: 0.99938, F1: 0.6340, Prec: 0.5081, Rec: 0.8477, lr: 0.00030\n",
      "Epoch 11/Step 320, Loss: -0.33555, Accuracy: 0.99938, F1: 0.6351, Prec: 0.5096, Rec: 0.8479, lr: 0.00030\n",
      "Epoch 11/Step 340, Loss: -0.33096, Accuracy: 0.99938, F1: 0.6355, Prec: 0.5100, Rec: 0.8482, lr: 0.00030\n",
      "Epoch 11/Step 360, Loss: -0.29720, Accuracy: 0.99938, F1: 0.6369, Prec: 0.5114, Rec: 0.8491, lr: 0.00030\n",
      "Epoch 11/Step 380, Loss: -0.34639, Accuracy: 0.99938, F1: 0.6366, Prec: 0.5111, Rec: 0.8489, lr: 0.00030\n",
      "Epoch 11/Step 400, Loss: -0.31170, Accuracy: 0.99938, F1: 0.6367, Prec: 0.5112, Rec: 0.8491, lr: 0.00030\n",
      "Epoch 11/Step 420, Loss: -0.33978, Accuracy: 0.99938, F1: 0.6369, Prec: 0.5114, Rec: 0.8493, lr: 0.00030\n",
      "Epoch 11/Step 440, Loss: -0.29724, Accuracy: 0.99938, F1: 0.6369, Prec: 0.5111, Rec: 0.8499, lr: 0.00030\n",
      "Epoch 11/Step 460, Loss: -0.33197, Accuracy: 0.99938, F1: 0.6368, Prec: 0.5110, Rec: 0.8498, lr: 0.00030\n",
      "Epoch 11/Step 480, Loss: -0.35110, Accuracy: 0.99939, F1: 0.6373, Prec: 0.5114, Rec: 0.8503, lr: 0.00030\n",
      "Epoch 11/Step 500, Loss: -0.27580, Accuracy: 0.99939, F1: 0.6379, Prec: 0.5123, Rec: 0.8504, lr: 0.00030\n",
      "Epoch 11/Step 520, Loss: -0.30569, Accuracy: 0.99939, F1: 0.6376, Prec: 0.5120, Rec: 0.8500, lr: 0.00030\n",
      "Epoch 11/Step 540, Loss: -0.31448, Accuracy: 0.99939, F1: 0.6374, Prec: 0.5116, Rec: 0.8501, lr: 0.00030\n",
      "Epoch 11/Step 560, Loss: -0.33721, Accuracy: 0.99938, F1: 0.6371, Prec: 0.5111, Rec: 0.8505, lr: 0.00030\n",
      "Epoch 11/Step 580, Loss: -0.31675, Accuracy: 0.99939, F1: 0.6372, Prec: 0.5111, Rec: 0.8508, lr: 0.00030\n",
      "Epoch 11/Step 600, Loss: -0.29615, Accuracy: 0.99939, F1: 0.6370, Prec: 0.5107, Rec: 0.8510, lr: 0.00030\n",
      "Epoch 11/Step 620, Loss: -0.30495, Accuracy: 0.99939, F1: 0.6370, Prec: 0.5108, Rec: 0.8510, lr: 0.00030\n",
      "Epoch 11/Step 640, Loss: -0.33554, Accuracy: 0.99939, F1: 0.6373, Prec: 0.5112, Rec: 0.8510, lr: 0.00030\n",
      "Epoch 11/Step 660, Loss: -0.32308, Accuracy: 0.99939, F1: 0.6370, Prec: 0.5109, Rec: 0.8508, lr: 0.00030\n",
      "Epoch 11/Step 680, Loss: -0.32076, Accuracy: 0.99939, F1: 0.6373, Prec: 0.5113, Rec: 0.8508, lr: 0.00030\n",
      "Epoch 11/Step 700, Loss: -0.29570, Accuracy: 0.99939, F1: 0.6373, Prec: 0.5114, Rec: 0.8504, lr: 0.00030\n",
      "Epoch 11/Step 720, Loss: -0.27266, Accuracy: 0.99939, F1: 0.6376, Prec: 0.5119, Rec: 0.8501, lr: 0.00030\n",
      "Epoch 11/Step 740, Loss: -0.32910, Accuracy: 0.99939, F1: 0.6380, Prec: 0.5122, Rec: 0.8506, lr: 0.00030\n",
      "Epoch 11/Step 760, Loss: -0.33874, Accuracy: 0.99939, F1: 0.6380, Prec: 0.5121, Rec: 0.8509, lr: 0.00030\n",
      "Epoch 11/Step 780, Loss: -0.30912, Accuracy: 0.99939, F1: 0.6380, Prec: 0.5121, Rec: 0.8509, lr: 0.00030\n",
      "Epoch 11/Step 800, Loss: -0.31831, Accuracy: 0.99939, F1: 0.6381, Prec: 0.5122, Rec: 0.8510, lr: 0.00030\n",
      "Epoch 11/Step 820, Loss: -0.33732, Accuracy: 0.99939, F1: 0.6378, Prec: 0.5118, Rec: 0.8509, lr: 0.00030\n",
      "Epoch 11/Step 840, Loss: -0.31699, Accuracy: 0.99939, F1: 0.6376, Prec: 0.5117, Rec: 0.8507, lr: 0.00030\n",
      "Epoch 11/Step 860, Loss: -0.32175, Accuracy: 0.99939, F1: 0.6379, Prec: 0.5119, Rec: 0.8511, lr: 0.00030\n",
      "Epoch finished. Start validation\n",
      "Validation acc: 0.9993\n",
      "Validation f1: 0.5915\n",
      "Validation precision: 0.4731\n",
      "Validation recall: 0.7954\n",
      "WARNING:tensorflow:Compiled the loaded model, but the compiled metrics have yet to be built. `model.compile_metrics` will be empty until you train or evaluate the model.\n"
     ]
    },
    {
     "name": "stderr",
     "output_type": "stream",
     "text": [
      "WARNING:tensorflow:Compiled the loaded model, but the compiled metrics have yet to be built. `model.compile_metrics` will be empty until you train or evaluate the model.\n"
     ]
    },
    {
     "name": "stdout",
     "output_type": "stream",
     "text": [
      "INFO:tensorflow:Assets written to: /mnt/e/ML/cafa-5-protein-function-prediction/model_MFO_epoch_10_valF1Score0.5915/assets\n"
     ]
    },
    {
     "name": "stderr",
     "output_type": "stream",
     "text": [
      "INFO:tensorflow:Assets written to: /mnt/e/ML/cafa-5-protein-function-prediction/model_MFO_epoch_10_valF1Score0.5915/assets\n"
     ]
    },
    {
     "name": "stdout",
     "output_type": "stream",
     "text": [
      "\n",
      "Start of epoch 12\n",
      "Epoch 12/Step 0, Loss: -0.34305, Accuracy: 0.99952, F1: 0.6939, Prec: 0.5630, Rec: 0.9041, lr: 0.00030\n",
      "Epoch 12/Step 20, Loss: -0.31185, Accuracy: 0.99940, F1: 0.6455, Prec: 0.5162, Rec: 0.8644, lr: 0.00030\n",
      "Epoch 12/Step 40, Loss: -0.30636, Accuracy: 0.99941, F1: 0.6422, Prec: 0.5131, Rec: 0.8617, lr: 0.00030\n",
      "Epoch 12/Step 60, Loss: -0.31405, Accuracy: 0.99941, F1: 0.6430, Prec: 0.5149, Rec: 0.8596, lr: 0.00030\n",
      "Epoch 12/Step 80, Loss: -0.33159, Accuracy: 0.99940, F1: 0.6390, Prec: 0.5113, Rec: 0.8564, lr: 0.00030\n",
      "Epoch 12/Step 100, Loss: -0.31383, Accuracy: 0.99940, F1: 0.6381, Prec: 0.5111, Rec: 0.8540, lr: 0.00030\n",
      "Epoch 12/Step 120, Loss: -0.29055, Accuracy: 0.99939, F1: 0.6374, Prec: 0.5102, Rec: 0.8542, lr: 0.00030\n",
      "Epoch 12/Step 140, Loss: -0.30703, Accuracy: 0.99939, F1: 0.6386, Prec: 0.5116, Rec: 0.8546, lr: 0.00030\n",
      "Epoch 12/Step 160, Loss: -0.30406, Accuracy: 0.99939, F1: 0.6387, Prec: 0.5116, Rec: 0.8553, lr: 0.00030\n",
      "Epoch 12/Step 180, Loss: -0.32103, Accuracy: 0.99939, F1: 0.6396, Prec: 0.5121, Rec: 0.8567, lr: 0.00030\n",
      "Epoch 12/Step 200, Loss: -0.32895, Accuracy: 0.99939, F1: 0.6384, Prec: 0.5105, Rec: 0.8568, lr: 0.00030\n",
      "Epoch 12/Step 220, Loss: -0.31747, Accuracy: 0.99939, F1: 0.6398, Prec: 0.5127, Rec: 0.8557, lr: 0.00030\n",
      "Epoch 12/Step 240, Loss: -0.35124, Accuracy: 0.99939, F1: 0.6396, Prec: 0.5133, Rec: 0.8534, lr: 0.00030\n",
      "Epoch 12/Step 260, Loss: -0.33024, Accuracy: 0.99939, F1: 0.6406, Prec: 0.5141, Rec: 0.8546, lr: 0.00030\n",
      "Epoch 12/Step 280, Loss: -0.31536, Accuracy: 0.99939, F1: 0.6402, Prec: 0.5139, Rec: 0.8537, lr: 0.00030\n",
      "Epoch 12/Step 300, Loss: -0.32122, Accuracy: 0.99939, F1: 0.6403, Prec: 0.5144, Rec: 0.8528, lr: 0.00030\n",
      "Epoch 12/Step 320, Loss: -0.34158, Accuracy: 0.99939, F1: 0.6416, Prec: 0.5160, Rec: 0.8528, lr: 0.00030\n",
      "Epoch 12/Step 340, Loss: -0.32824, Accuracy: 0.99939, F1: 0.6419, Prec: 0.5164, Rec: 0.8529, lr: 0.00030\n",
      "Epoch 12/Step 360, Loss: -0.30569, Accuracy: 0.99939, F1: 0.6432, Prec: 0.5178, Rec: 0.8538, lr: 0.00030\n",
      "Epoch 12/Step 380, Loss: -0.34899, Accuracy: 0.99939, F1: 0.6429, Prec: 0.5177, Rec: 0.8532, lr: 0.00030\n",
      "Epoch 12/Step 400, Loss: -0.32087, Accuracy: 0.99939, F1: 0.6432, Prec: 0.5178, Rec: 0.8535, lr: 0.00030\n",
      "Epoch 12/Step 420, Loss: -0.33925, Accuracy: 0.99939, F1: 0.6433, Prec: 0.5180, Rec: 0.8533, lr: 0.00030\n",
      "Epoch 12/Step 440, Loss: -0.29717, Accuracy: 0.99939, F1: 0.6432, Prec: 0.5179, Rec: 0.8534, lr: 0.00030\n",
      "Epoch 12/Step 460, Loss: -0.33904, Accuracy: 0.99939, F1: 0.6431, Prec: 0.5179, Rec: 0.8530, lr: 0.00030\n",
      "Epoch 12/Step 480, Loss: -0.35145, Accuracy: 0.99940, F1: 0.6434, Prec: 0.5182, Rec: 0.8533, lr: 0.00030\n",
      "Epoch 12/Step 500, Loss: -0.28339, Accuracy: 0.99940, F1: 0.6441, Prec: 0.5191, Rec: 0.8532, lr: 0.00030\n",
      "Epoch 12/Step 520, Loss: -0.30790, Accuracy: 0.99940, F1: 0.6439, Prec: 0.5189, Rec: 0.8530, lr: 0.00030\n",
      "Epoch 12/Step 540, Loss: -0.32456, Accuracy: 0.99939, F1: 0.6437, Prec: 0.5185, Rec: 0.8533, lr: 0.00030\n",
      "Epoch 12/Step 560, Loss: -0.34596, Accuracy: 0.99939, F1: 0.6435, Prec: 0.5182, Rec: 0.8535, lr: 0.00030\n",
      "Epoch 12/Step 580, Loss: -0.32730, Accuracy: 0.99940, F1: 0.6436, Prec: 0.5183, Rec: 0.8535, lr: 0.00030\n",
      "Epoch 12/Step 600, Loss: -0.29963, Accuracy: 0.99940, F1: 0.6434, Prec: 0.5180, Rec: 0.8536, lr: 0.00030\n",
      "Epoch 12/Step 620, Loss: -0.30964, Accuracy: 0.99940, F1: 0.6436, Prec: 0.5182, Rec: 0.8536, lr: 0.00030\n",
      "Epoch 12/Step 640, Loss: -0.34332, Accuracy: 0.99940, F1: 0.6437, Prec: 0.5185, Rec: 0.8534, lr: 0.00030\n",
      "Epoch 12/Step 660, Loss: -0.33088, Accuracy: 0.99940, F1: 0.6434, Prec: 0.5182, Rec: 0.8532, lr: 0.00030\n",
      "Epoch 12/Step 680, Loss: -0.32708, Accuracy: 0.99940, F1: 0.6438, Prec: 0.5186, Rec: 0.8535, lr: 0.00030\n",
      "Epoch 12/Step 700, Loss: -0.30634, Accuracy: 0.99940, F1: 0.6439, Prec: 0.5188, Rec: 0.8531, lr: 0.00030\n",
      "Epoch 12/Step 720, Loss: -0.27550, Accuracy: 0.99940, F1: 0.6441, Prec: 0.5193, Rec: 0.8527, lr: 0.00030\n",
      "Epoch 12/Step 740, Loss: -0.33663, Accuracy: 0.99940, F1: 0.6445, Prec: 0.5196, Rec: 0.8532, lr: 0.00030\n",
      "Epoch 12/Step 760, Loss: -0.34117, Accuracy: 0.99940, F1: 0.6446, Prec: 0.5196, Rec: 0.8533, lr: 0.00030\n",
      "Epoch 12/Step 780, Loss: -0.31531, Accuracy: 0.99940, F1: 0.6447, Prec: 0.5199, Rec: 0.8531, lr: 0.00030\n",
      "Epoch 12/Step 800, Loss: -0.31521, Accuracy: 0.99940, F1: 0.6448, Prec: 0.5200, Rec: 0.8530, lr: 0.00030\n",
      "Epoch 12/Step 820, Loss: -0.34163, Accuracy: 0.99940, F1: 0.6446, Prec: 0.5197, Rec: 0.8530, lr: 0.00030\n",
      "Epoch 12/Step 840, Loss: -0.32261, Accuracy: 0.99940, F1: 0.6445, Prec: 0.5197, Rec: 0.8531, lr: 0.00030\n",
      "Epoch 12/Step 860, Loss: -0.32718, Accuracy: 0.99940, F1: 0.6448, Prec: 0.5199, Rec: 0.8533, lr: 0.00030\n",
      "Epoch finished. Start validation\n",
      "Validation acc: 0.9993\n",
      "Validation f1: 0.5984\n",
      "Validation precision: 0.4830\n",
      "Validation recall: 0.7922\n",
      "WARNING:tensorflow:Compiled the loaded model, but the compiled metrics have yet to be built. `model.compile_metrics` will be empty until you train or evaluate the model.\n"
     ]
    },
    {
     "name": "stderr",
     "output_type": "stream",
     "text": [
      "WARNING:tensorflow:Compiled the loaded model, but the compiled metrics have yet to be built. `model.compile_metrics` will be empty until you train or evaluate the model.\n"
     ]
    },
    {
     "name": "stdout",
     "output_type": "stream",
     "text": [
      "INFO:tensorflow:Assets written to: /mnt/e/ML/cafa-5-protein-function-prediction/model_MFO_epoch_11_valF1Score0.5984/assets\n"
     ]
    },
    {
     "name": "stderr",
     "output_type": "stream",
     "text": [
      "INFO:tensorflow:Assets written to: /mnt/e/ML/cafa-5-protein-function-prediction/model_MFO_epoch_11_valF1Score0.5984/assets\n"
     ]
    },
    {
     "name": "stdout",
     "output_type": "stream",
     "text": [
      "\n",
      "Start of epoch 13\n",
      "Epoch 13/Step 0, Loss: -0.34481, Accuracy: 0.99951, F1: 0.6909, Prec: 0.5698, Rec: 0.8773, lr: 0.00030\n",
      "Epoch 13/Step 20, Loss: -0.31233, Accuracy: 0.99941, F1: 0.6537, Prec: 0.5268, Rec: 0.8653, lr: 0.00030\n",
      "Epoch 13/Step 40, Loss: -0.30981, Accuracy: 0.99942, F1: 0.6502, Prec: 0.5235, Rec: 0.8619, lr: 0.00030\n",
      "Epoch 13/Step 60, Loss: -0.31832, Accuracy: 0.99942, F1: 0.6501, Prec: 0.5238, Rec: 0.8604, lr: 0.00030\n",
      "Epoch 13/Step 80, Loss: -0.33334, Accuracy: 0.99940, F1: 0.6462, Prec: 0.5206, Rec: 0.8564, lr: 0.00030\n",
      "Epoch 13/Step 100, Loss: -0.31731, Accuracy: 0.99941, F1: 0.6454, Prec: 0.5204, Rec: 0.8545, lr: 0.00030\n",
      "Epoch 13/Step 120, Loss: -0.29867, Accuracy: 0.99940, F1: 0.6449, Prec: 0.5192, Rec: 0.8561, lr: 0.00030\n",
      "Epoch 13/Step 140, Loss: -0.30866, Accuracy: 0.99940, F1: 0.6457, Prec: 0.5202, Rec: 0.8559, lr: 0.00030\n",
      "Epoch 13/Step 160, Loss: -0.30877, Accuracy: 0.99940, F1: 0.6455, Prec: 0.5198, Rec: 0.8566, lr: 0.00030\n",
      "Epoch 13/Step 180, Loss: -0.33189, Accuracy: 0.99940, F1: 0.6467, Prec: 0.5208, Rec: 0.8578, lr: 0.00030\n",
      "Epoch 13/Step 200, Loss: -0.32284, Accuracy: 0.99939, F1: 0.6457, Prec: 0.5194, Rec: 0.8580, lr: 0.00030\n",
      "Epoch 13/Step 220, Loss: -0.33744, Accuracy: 0.99940, F1: 0.6471, Prec: 0.5218, Rec: 0.8568, lr: 0.00030\n",
      "Epoch 13/Step 240, Loss: -0.34863, Accuracy: 0.99940, F1: 0.6472, Prec: 0.5227, Rec: 0.8546, lr: 0.00030\n",
      "Epoch 13/Step 260, Loss: -0.33152, Accuracy: 0.99940, F1: 0.6482, Prec: 0.5237, Rec: 0.8554, lr: 0.00030\n",
      "Epoch 13/Step 280, Loss: -0.32084, Accuracy: 0.99940, F1: 0.6475, Prec: 0.5234, Rec: 0.8540, lr: 0.00030\n",
      "Epoch 13/Step 300, Loss: -0.33200, Accuracy: 0.99940, F1: 0.6477, Prec: 0.5238, Rec: 0.8533, lr: 0.00030\n",
      "Epoch 13/Step 320, Loss: -0.34577, Accuracy: 0.99940, F1: 0.6489, Prec: 0.5253, Rec: 0.8533, lr: 0.00030\n",
      "Epoch 13/Step 340, Loss: -0.33864, Accuracy: 0.99940, F1: 0.6495, Prec: 0.5261, Rec: 0.8534, lr: 0.00030\n",
      "Epoch 13/Step 360, Loss: -0.30954, Accuracy: 0.99940, F1: 0.6510, Prec: 0.5278, Rec: 0.8542, lr: 0.00030\n",
      "Epoch 13/Step 380, Loss: -0.34914, Accuracy: 0.99940, F1: 0.6509, Prec: 0.5278, Rec: 0.8537, lr: 0.00030\n",
      "Epoch 13/Step 400, Loss: -0.33200, Accuracy: 0.99940, F1: 0.6511, Prec: 0.5281, Rec: 0.8535, lr: 0.00030\n",
      "Epoch 13/Step 420, Loss: -0.33663, Accuracy: 0.99940, F1: 0.6514, Prec: 0.5285, Rec: 0.8536, lr: 0.00030\n",
      "Epoch 13/Step 440, Loss: -0.30458, Accuracy: 0.99940, F1: 0.6515, Prec: 0.5285, Rec: 0.8538, lr: 0.00030\n",
      "Epoch 13/Step 460, Loss: -0.35960, Accuracy: 0.99940, F1: 0.6516, Prec: 0.5287, Rec: 0.8534, lr: 0.00030\n",
      "Epoch 13/Step 480, Loss: -0.36832, Accuracy: 0.99941, F1: 0.6520, Prec: 0.5293, Rec: 0.8536, lr: 0.00030\n",
      "Epoch 13/Step 500, Loss: -0.29500, Accuracy: 0.99941, F1: 0.6526, Prec: 0.5302, Rec: 0.8532, lr: 0.00030\n",
      "Epoch 13/Step 520, Loss: -0.30973, Accuracy: 0.99941, F1: 0.6525, Prec: 0.5301, Rec: 0.8529, lr: 0.00030\n",
      "Epoch 13/Step 540, Loss: -0.32473, Accuracy: 0.99940, F1: 0.6522, Prec: 0.5298, Rec: 0.8529, lr: 0.00030\n",
      "Epoch 13/Step 560, Loss: -0.34807, Accuracy: 0.99940, F1: 0.6521, Prec: 0.5294, Rec: 0.8532, lr: 0.00030\n",
      "Epoch 13/Step 580, Loss: -0.33445, Accuracy: 0.99941, F1: 0.6522, Prec: 0.5296, Rec: 0.8532, lr: 0.00030\n",
      "Epoch 13/Step 600, Loss: -0.30009, Accuracy: 0.99941, F1: 0.6521, Prec: 0.5293, Rec: 0.8535, lr: 0.00030\n",
      "Epoch 13/Step 620, Loss: -0.32347, Accuracy: 0.99941, F1: 0.6523, Prec: 0.5296, Rec: 0.8536, lr: 0.00030\n",
      "Epoch 13/Step 640, Loss: -0.34288, Accuracy: 0.99941, F1: 0.6525, Prec: 0.5298, Rec: 0.8536, lr: 0.00030\n",
      "Epoch 13/Step 660, Loss: -0.33811, Accuracy: 0.99941, F1: 0.6521, Prec: 0.5294, Rec: 0.8535, lr: 0.00030\n",
      "Epoch 13/Step 680, Loss: -0.34282, Accuracy: 0.99941, F1: 0.6524, Prec: 0.5296, Rec: 0.8536, lr: 0.00030\n",
      "Epoch 13/Step 700, Loss: -0.31487, Accuracy: 0.99941, F1: 0.6524, Prec: 0.5298, Rec: 0.8534, lr: 0.00030\n",
      "Epoch 13/Step 720, Loss: -0.28156, Accuracy: 0.99941, F1: 0.6527, Prec: 0.5303, Rec: 0.8530, lr: 0.00030\n",
      "Epoch 13/Step 740, Loss: -0.34143, Accuracy: 0.99941, F1: 0.6531, Prec: 0.5305, Rec: 0.8537, lr: 0.00030\n",
      "Epoch 13/Step 760, Loss: -0.34290, Accuracy: 0.99941, F1: 0.6531, Prec: 0.5304, Rec: 0.8539, lr: 0.00030\n",
      "Epoch 13/Step 780, Loss: -0.32929, Accuracy: 0.99941, F1: 0.6532, Prec: 0.5306, Rec: 0.8537, lr: 0.00030\n",
      "Epoch 13/Step 800, Loss: -0.31859, Accuracy: 0.99941, F1: 0.6532, Prec: 0.5306, Rec: 0.8537, lr: 0.00030\n",
      "Epoch 13/Step 820, Loss: -0.34285, Accuracy: 0.99941, F1: 0.6529, Prec: 0.5303, Rec: 0.8537, lr: 0.00030\n",
      "Epoch 13/Step 840, Loss: -0.31933, Accuracy: 0.99941, F1: 0.6529, Prec: 0.5303, Rec: 0.8536, lr: 0.00030\n",
      "Epoch 13/Step 860, Loss: -0.33239, Accuracy: 0.99941, F1: 0.6531, Prec: 0.5305, Rec: 0.8539, lr: 0.00030\n",
      "Epoch finished. Start validation\n",
      "Validation acc: 0.9993\n",
      "Validation f1: 0.6029\n",
      "Validation precision: 0.4889\n",
      "Validation recall: 0.7919\n",
      "WARNING:tensorflow:Compiled the loaded model, but the compiled metrics have yet to be built. `model.compile_metrics` will be empty until you train or evaluate the model.\n"
     ]
    },
    {
     "name": "stderr",
     "output_type": "stream",
     "text": [
      "WARNING:tensorflow:Compiled the loaded model, but the compiled metrics have yet to be built. `model.compile_metrics` will be empty until you train or evaluate the model.\n"
     ]
    },
    {
     "name": "stdout",
     "output_type": "stream",
     "text": [
      "INFO:tensorflow:Assets written to: /mnt/e/ML/cafa-5-protein-function-prediction/model_MFO_epoch_12_valF1Score0.6029/assets\n"
     ]
    },
    {
     "name": "stderr",
     "output_type": "stream",
     "text": [
      "INFO:tensorflow:Assets written to: /mnt/e/ML/cafa-5-protein-function-prediction/model_MFO_epoch_12_valF1Score0.6029/assets\n"
     ]
    },
    {
     "name": "stdout",
     "output_type": "stream",
     "text": [
      "\n",
      "Start of epoch 14\n",
      "Epoch 14/Step 0, Loss: -0.34360, Accuracy: 0.99950, F1: 0.6769, Prec: 0.5617, Rec: 0.8515, lr: 0.00030\n",
      "Epoch 14/Step 20, Loss: -0.31900, Accuracy: 0.99942, F1: 0.6609, Prec: 0.5370, Rec: 0.8628, lr: 0.00030\n",
      "Epoch 14/Step 40, Loss: -0.31352, Accuracy: 0.99942, F1: 0.6559, Prec: 0.5324, Rec: 0.8574, lr: 0.00030\n",
      "Epoch 14/Step 60, Loss: -0.32151, Accuracy: 0.99942, F1: 0.6559, Prec: 0.5328, Rec: 0.8564, lr: 0.00030\n",
      "Epoch 14/Step 80, Loss: -0.33043, Accuracy: 0.99941, F1: 0.6525, Prec: 0.5293, Rec: 0.8551, lr: 0.00030\n",
      "Epoch 14/Step 100, Loss: -0.32981, Accuracy: 0.99941, F1: 0.6511, Prec: 0.5284, Rec: 0.8529, lr: 0.00030\n",
      "Epoch 14/Step 120, Loss: -0.30056, Accuracy: 0.99941, F1: 0.6504, Prec: 0.5273, Rec: 0.8536, lr: 0.00030\n",
      "Epoch 14/Step 140, Loss: -0.31189, Accuracy: 0.99941, F1: 0.6514, Prec: 0.5284, Rec: 0.8538, lr: 0.00030\n",
      "Epoch 14/Step 160, Loss: -0.31183, Accuracy: 0.99941, F1: 0.6516, Prec: 0.5284, Rec: 0.8549, lr: 0.00030\n",
      "Epoch 14/Step 180, Loss: -0.33177, Accuracy: 0.99941, F1: 0.6529, Prec: 0.5292, Rec: 0.8568, lr: 0.00030\n",
      "Epoch 14/Step 200, Loss: -0.33030, Accuracy: 0.99940, F1: 0.6520, Prec: 0.5277, Rec: 0.8577, lr: 0.00030\n",
      "Epoch 14/Step 220, Loss: -0.33724, Accuracy: 0.99941, F1: 0.6536, Prec: 0.5301, Rec: 0.8569, lr: 0.00030\n",
      "Epoch 14/Step 240, Loss: -0.34752, Accuracy: 0.99941, F1: 0.6539, Prec: 0.5310, Rec: 0.8555, lr: 0.00030\n",
      "Epoch 14/Step 260, Loss: -0.33549, Accuracy: 0.99941, F1: 0.6551, Prec: 0.5322, Rec: 0.8567, lr: 0.00030\n",
      "Epoch 14/Step 280, Loss: -0.32617, Accuracy: 0.99941, F1: 0.6545, Prec: 0.5317, Rec: 0.8557, lr: 0.00030\n",
      "Epoch 14/Step 300, Loss: -0.33514, Accuracy: 0.99941, F1: 0.6548, Prec: 0.5321, Rec: 0.8554, lr: 0.00030\n",
      "Epoch 14/Step 320, Loss: -0.34958, Accuracy: 0.99941, F1: 0.6559, Prec: 0.5336, Rec: 0.8554, lr: 0.00030\n",
      "Epoch 14/Step 340, Loss: -0.33376, Accuracy: 0.99941, F1: 0.6565, Prec: 0.5342, Rec: 0.8560, lr: 0.00030\n",
      "Epoch 14/Step 360, Loss: -0.31480, Accuracy: 0.99941, F1: 0.6579, Prec: 0.5357, Rec: 0.8569, lr: 0.00030\n",
      "Epoch 14/Step 380, Loss: -0.35456, Accuracy: 0.99941, F1: 0.6577, Prec: 0.5357, Rec: 0.8564, lr: 0.00030\n",
      "Epoch 14/Step 400, Loss: -0.34144, Accuracy: 0.99941, F1: 0.6579, Prec: 0.5360, Rec: 0.8562, lr: 0.00030\n",
      "Epoch 14/Step 420, Loss: -0.33526, Accuracy: 0.99941, F1: 0.6583, Prec: 0.5363, Rec: 0.8566, lr: 0.00030\n",
      "Epoch 14/Step 440, Loss: -0.31206, Accuracy: 0.99941, F1: 0.6583, Prec: 0.5362, Rec: 0.8570, lr: 0.00030\n",
      "Epoch 14/Step 460, Loss: -0.36055, Accuracy: 0.99941, F1: 0.6585, Prec: 0.5365, Rec: 0.8568, lr: 0.00030\n",
      "Epoch 14/Step 480, Loss: -0.36963, Accuracy: 0.99942, F1: 0.6590, Prec: 0.5370, Rec: 0.8572, lr: 0.00030\n",
      "Epoch 14/Step 500, Loss: -0.30011, Accuracy: 0.99942, F1: 0.6597, Prec: 0.5379, Rec: 0.8572, lr: 0.00030\n",
      "Epoch 14/Step 520, Loss: -0.31121, Accuracy: 0.99942, F1: 0.6594, Prec: 0.5377, Rec: 0.8568, lr: 0.00030\n",
      "Epoch 14/Step 540, Loss: -0.33649, Accuracy: 0.99941, F1: 0.6593, Prec: 0.5374, Rec: 0.8571, lr: 0.00030\n",
      "Epoch 14/Step 560, Loss: -0.34759, Accuracy: 0.99941, F1: 0.6591, Prec: 0.5370, Rec: 0.8575, lr: 0.00030\n",
      "Epoch 14/Step 580, Loss: -0.33646, Accuracy: 0.99942, F1: 0.6593, Prec: 0.5372, Rec: 0.8577, lr: 0.00030\n",
      "Epoch 14/Step 600, Loss: -0.30461, Accuracy: 0.99942, F1: 0.6591, Prec: 0.5369, Rec: 0.8579, lr: 0.00030\n",
      "Epoch 14/Step 620, Loss: -0.31962, Accuracy: 0.99942, F1: 0.6593, Prec: 0.5370, Rec: 0.8578, lr: 0.00030\n",
      "Epoch 14/Step 640, Loss: -0.34937, Accuracy: 0.99942, F1: 0.6594, Prec: 0.5372, Rec: 0.8579, lr: 0.00030\n",
      "Epoch 14/Step 660, Loss: -0.34046, Accuracy: 0.99942, F1: 0.6590, Prec: 0.5367, Rec: 0.8578, lr: 0.00030\n",
      "Epoch 14/Step 680, Loss: -0.34661, Accuracy: 0.99942, F1: 0.6592, Prec: 0.5369, Rec: 0.8581, lr: 0.00030\n",
      "Epoch 14/Step 700, Loss: -0.31616, Accuracy: 0.99942, F1: 0.6593, Prec: 0.5371, Rec: 0.8578, lr: 0.00030\n",
      "Epoch 14/Step 720, Loss: -0.28604, Accuracy: 0.99942, F1: 0.6596, Prec: 0.5375, Rec: 0.8575, lr: 0.00030\n",
      "Epoch 14/Step 740, Loss: -0.34708, Accuracy: 0.99942, F1: 0.6600, Prec: 0.5378, Rec: 0.8582, lr: 0.00030\n",
      "Epoch 14/Step 760, Loss: -0.34884, Accuracy: 0.99942, F1: 0.6599, Prec: 0.5377, Rec: 0.8582, lr: 0.00030\n",
      "Epoch 14/Step 780, Loss: -0.33057, Accuracy: 0.99942, F1: 0.6600, Prec: 0.5379, Rec: 0.8580, lr: 0.00030\n",
      "Epoch 14/Step 800, Loss: -0.32294, Accuracy: 0.99942, F1: 0.6601, Prec: 0.5380, Rec: 0.8581, lr: 0.00030\n",
      "Epoch 14/Step 820, Loss: -0.34254, Accuracy: 0.99942, F1: 0.6598, Prec: 0.5375, Rec: 0.8581, lr: 0.00030\n",
      "Epoch 14/Step 840, Loss: -0.32892, Accuracy: 0.99942, F1: 0.6596, Prec: 0.5375, Rec: 0.8580, lr: 0.00030\n",
      "Epoch 14/Step 860, Loss: -0.33689, Accuracy: 0.99942, F1: 0.6599, Prec: 0.5376, Rec: 0.8584, lr: 0.00030\n",
      "Epoch finished. Start validation\n",
      "Validation acc: 0.9993\n",
      "Validation f1: 0.6042\n",
      "Validation precision: 0.4903\n",
      "Validation recall: 0.7927\n",
      "WARNING:tensorflow:Compiled the loaded model, but the compiled metrics have yet to be built. `model.compile_metrics` will be empty until you train or evaluate the model.\n"
     ]
    },
    {
     "name": "stderr",
     "output_type": "stream",
     "text": [
      "WARNING:tensorflow:Compiled the loaded model, but the compiled metrics have yet to be built. `model.compile_metrics` will be empty until you train or evaluate the model.\n"
     ]
    },
    {
     "name": "stdout",
     "output_type": "stream",
     "text": [
      "INFO:tensorflow:Assets written to: /mnt/e/ML/cafa-5-protein-function-prediction/model_MFO_epoch_13_valF1Score0.6042/assets\n"
     ]
    },
    {
     "name": "stderr",
     "output_type": "stream",
     "text": [
      "INFO:tensorflow:Assets written to: /mnt/e/ML/cafa-5-protein-function-prediction/model_MFO_epoch_13_valF1Score0.6042/assets\n"
     ]
    },
    {
     "name": "stdout",
     "output_type": "stream",
     "text": [
      "\n",
      "Start of epoch 15\n",
      "Epoch 15/Step 0, Loss: -0.34277, Accuracy: 0.99951, F1: 0.6913, Prec: 0.5759, Rec: 0.8648, lr: 0.00030\n",
      "Epoch 15/Step 20, Loss: -0.32973, Accuracy: 0.99943, F1: 0.6681, Prec: 0.5436, Rec: 0.8701, lr: 0.00030\n",
      "Epoch 15/Step 40, Loss: -0.31817, Accuracy: 0.99943, F1: 0.6632, Prec: 0.5388, Rec: 0.8656, lr: 0.00030\n",
      "Epoch 15/Step 60, Loss: -0.32711, Accuracy: 0.99943, F1: 0.6631, Prec: 0.5397, Rec: 0.8633, lr: 0.00030\n",
      "Epoch 15/Step 80, Loss: -0.33735, Accuracy: 0.99942, F1: 0.6592, Prec: 0.5361, Rec: 0.8602, lr: 0.00030\n",
      "Epoch 15/Step 100, Loss: -0.33367, Accuracy: 0.99942, F1: 0.6581, Prec: 0.5353, Rec: 0.8588, lr: 0.00030\n",
      "Epoch 15/Step 120, Loss: -0.29973, Accuracy: 0.99942, F1: 0.6569, Prec: 0.5340, Rec: 0.8583, lr: 0.00030\n",
      "Epoch 15/Step 140, Loss: -0.31486, Accuracy: 0.99942, F1: 0.6581, Prec: 0.5352, Rec: 0.8590, lr: 0.00030\n",
      "Epoch 15/Step 160, Loss: -0.31757, Accuracy: 0.99942, F1: 0.6580, Prec: 0.5346, Rec: 0.8605, lr: 0.00030\n",
      "Epoch 15/Step 180, Loss: -0.33179, Accuracy: 0.99942, F1: 0.6591, Prec: 0.5352, Rec: 0.8623, lr: 0.00030\n",
      "Epoch 15/Step 200, Loss: -0.33699, Accuracy: 0.99941, F1: 0.6581, Prec: 0.5338, Rec: 0.8627, lr: 0.00030\n",
      "Epoch 15/Step 220, Loss: -0.33874, Accuracy: 0.99941, F1: 0.6594, Prec: 0.5360, Rec: 0.8613, lr: 0.00030\n",
      "Epoch 15/Step 240, Loss: -0.35293, Accuracy: 0.99942, F1: 0.6597, Prec: 0.5369, Rec: 0.8599, lr: 0.00030\n",
      "Epoch 15/Step 260, Loss: -0.33692, Accuracy: 0.99942, F1: 0.6608, Prec: 0.5378, Rec: 0.8613, lr: 0.00030\n",
      "Epoch 15/Step 280, Loss: -0.33171, Accuracy: 0.99942, F1: 0.6602, Prec: 0.5374, Rec: 0.8603, lr: 0.00030\n",
      "Epoch 15/Step 300, Loss: -0.34260, Accuracy: 0.99941, F1: 0.6602, Prec: 0.5375, Rec: 0.8597, lr: 0.00030\n",
      "Epoch 15/Step 320, Loss: -0.35133, Accuracy: 0.99942, F1: 0.6612, Prec: 0.5388, Rec: 0.8599, lr: 0.00030\n",
      "Epoch 15/Step 340, Loss: -0.34945, Accuracy: 0.99942, F1: 0.6617, Prec: 0.5393, Rec: 0.8606, lr: 0.00030\n",
      "Epoch 15/Step 360, Loss: -0.31960, Accuracy: 0.99942, F1: 0.6630, Prec: 0.5406, Rec: 0.8616, lr: 0.00030\n",
      "Epoch 15/Step 380, Loss: -0.35790, Accuracy: 0.99942, F1: 0.6629, Prec: 0.5405, Rec: 0.8613, lr: 0.00030\n",
      "Epoch 15/Step 400, Loss: -0.34168, Accuracy: 0.99942, F1: 0.6631, Prec: 0.5408, Rec: 0.8613, lr: 0.00030\n",
      "Epoch 15/Step 420, Loss: -0.33741, Accuracy: 0.99942, F1: 0.6634, Prec: 0.5411, Rec: 0.8613, lr: 0.00030\n",
      "Epoch 15/Step 440, Loss: -0.31775, Accuracy: 0.99942, F1: 0.6633, Prec: 0.5410, Rec: 0.8616, lr: 0.00030\n",
      "Epoch 15/Step 460, Loss: -0.36590, Accuracy: 0.99942, F1: 0.6635, Prec: 0.5412, Rec: 0.8614, lr: 0.00030\n",
      "Epoch 15/Step 480, Loss: -0.36883, Accuracy: 0.99942, F1: 0.6640, Prec: 0.5417, Rec: 0.8618, lr: 0.00030\n",
      "Epoch 15/Step 500, Loss: -0.29335, Accuracy: 0.99942, F1: 0.6646, Prec: 0.5426, Rec: 0.8617, lr: 0.00030\n",
      "Epoch 15/Step 520, Loss: -0.31670, Accuracy: 0.99942, F1: 0.6644, Prec: 0.5424, Rec: 0.8613, lr: 0.00030\n",
      "Epoch 15/Step 540, Loss: -0.33277, Accuracy: 0.99942, F1: 0.6641, Prec: 0.5420, Rec: 0.8613, lr: 0.00030\n",
      "Epoch 15/Step 560, Loss: -0.34936, Accuracy: 0.99942, F1: 0.6638, Prec: 0.5416, Rec: 0.8615, lr: 0.00030\n",
      "Epoch 15/Step 580, Loss: -0.33505, Accuracy: 0.99942, F1: 0.6640, Prec: 0.5417, Rec: 0.8618, lr: 0.00030\n",
      "Epoch 15/Step 600, Loss: -0.31108, Accuracy: 0.99942, F1: 0.6638, Prec: 0.5415, Rec: 0.8617, lr: 0.00030\n",
      "Epoch 15/Step 620, Loss: -0.32327, Accuracy: 0.99942, F1: 0.6640, Prec: 0.5418, Rec: 0.8616, lr: 0.00030\n",
      "Epoch 15/Step 640, Loss: -0.35055, Accuracy: 0.99942, F1: 0.6641, Prec: 0.5419, Rec: 0.8616, lr: 0.00030\n",
      "Epoch 15/Step 660, Loss: -0.33878, Accuracy: 0.99942, F1: 0.6637, Prec: 0.5414, Rec: 0.8616, lr: 0.00030\n",
      "Epoch 15/Step 680, Loss: -0.34755, Accuracy: 0.99942, F1: 0.6639, Prec: 0.5416, Rec: 0.8618, lr: 0.00030\n",
      "Epoch 15/Step 700, Loss: -0.31796, Accuracy: 0.99942, F1: 0.6640, Prec: 0.5418, Rec: 0.8616, lr: 0.00030\n",
      "Epoch 15/Step 720, Loss: -0.28580, Accuracy: 0.99942, F1: 0.6643, Prec: 0.5423, Rec: 0.8612, lr: 0.00030\n",
      "Epoch 15/Step 740, Loss: -0.34981, Accuracy: 0.99942, F1: 0.6648, Prec: 0.5427, Rec: 0.8618, lr: 0.00030\n",
      "Epoch 15/Step 760, Loss: -0.34920, Accuracy: 0.99942, F1: 0.6647, Prec: 0.5425, Rec: 0.8620, lr: 0.00030\n",
      "Epoch 15/Step 780, Loss: -0.34047, Accuracy: 0.99943, F1: 0.6649, Prec: 0.5429, Rec: 0.8617, lr: 0.00030\n",
      "Epoch 15/Step 800, Loss: -0.32888, Accuracy: 0.99942, F1: 0.6649, Prec: 0.5428, Rec: 0.8616, lr: 0.00030\n",
      "Epoch 15/Step 820, Loss: -0.34786, Accuracy: 0.99942, F1: 0.6646, Prec: 0.5425, Rec: 0.8617, lr: 0.00030\n",
      "Epoch 15/Step 840, Loss: -0.33201, Accuracy: 0.99942, F1: 0.6645, Prec: 0.5424, Rec: 0.8616, lr: 0.00030\n",
      "Epoch 15/Step 860, Loss: -0.34035, Accuracy: 0.99942, F1: 0.6648, Prec: 0.5427, Rec: 0.8619, lr: 0.00030\n",
      "Epoch finished. Start validation\n",
      "Validation acc: 0.9993\n",
      "Validation f1: 0.6095\n",
      "Validation precision: 0.4989\n",
      "Validation recall: 0.7884\n",
      "WARNING:tensorflow:Compiled the loaded model, but the compiled metrics have yet to be built. `model.compile_metrics` will be empty until you train or evaluate the model.\n"
     ]
    },
    {
     "name": "stderr",
     "output_type": "stream",
     "text": [
      "WARNING:tensorflow:Compiled the loaded model, but the compiled metrics have yet to be built. `model.compile_metrics` will be empty until you train or evaluate the model.\n"
     ]
    },
    {
     "name": "stdout",
     "output_type": "stream",
     "text": [
      "INFO:tensorflow:Assets written to: /mnt/e/ML/cafa-5-protein-function-prediction/model_MFO_epoch_14_valF1Score0.6095/assets\n"
     ]
    },
    {
     "name": "stderr",
     "output_type": "stream",
     "text": [
      "INFO:tensorflow:Assets written to: /mnt/e/ML/cafa-5-protein-function-prediction/model_MFO_epoch_14_valF1Score0.6095/assets\n"
     ]
    },
    {
     "name": "stdout",
     "output_type": "stream",
     "text": [
      "\n",
      "Start of epoch 16\n",
      "Epoch 16/Step 0, Loss: -0.34664, Accuracy: 0.99951, F1: 0.6982, Prec: 0.5781, Rec: 0.8814, lr: 0.00030\n",
      "Epoch 16/Step 20, Loss: -0.33169, Accuracy: 0.99944, F1: 0.6759, Prec: 0.5543, Rec: 0.8687, lr: 0.00030\n",
      "Epoch 16/Step 40, Loss: -0.32190, Accuracy: 0.99944, F1: 0.6703, Prec: 0.5479, Rec: 0.8662, lr: 0.00030\n",
      "Epoch 16/Step 60, Loss: -0.34272, Accuracy: 0.99945, F1: 0.6712, Prec: 0.5496, Rec: 0.8651, lr: 0.00030\n",
      "Epoch 16/Step 80, Loss: -0.34186, Accuracy: 0.99943, F1: 0.6670, Prec: 0.5455, Rec: 0.8626, lr: 0.00030\n",
      "Epoch 16/Step 100, Loss: -0.34907, Accuracy: 0.99943, F1: 0.6658, Prec: 0.5446, Rec: 0.8609, lr: 0.00030\n",
      "Epoch 16/Step 120, Loss: -0.30244, Accuracy: 0.99943, F1: 0.6653, Prec: 0.5432, Rec: 0.8625, lr: 0.00030\n",
      "Epoch 16/Step 140, Loss: -0.31482, Accuracy: 0.99943, F1: 0.6657, Prec: 0.5438, Rec: 0.8627, lr: 0.00030\n",
      "Epoch 16/Step 160, Loss: -0.31644, Accuracy: 0.99943, F1: 0.6658, Prec: 0.5436, Rec: 0.8635, lr: 0.00030\n",
      "Epoch 16/Step 180, Loss: -0.34649, Accuracy: 0.99943, F1: 0.6670, Prec: 0.5443, Rec: 0.8655, lr: 0.00030\n",
      "Epoch 16/Step 200, Loss: -0.33901, Accuracy: 0.99942, F1: 0.6660, Prec: 0.5430, Rec: 0.8655, lr: 0.00030\n",
      "Epoch 16/Step 220, Loss: -0.34460, Accuracy: 0.99943, F1: 0.6674, Prec: 0.5452, Rec: 0.8645, lr: 0.00030\n",
      "Epoch 16/Step 240, Loss: -0.35235, Accuracy: 0.99943, F1: 0.6675, Prec: 0.5459, Rec: 0.8632, lr: 0.00030\n",
      "Epoch 16/Step 260, Loss: -0.34784, Accuracy: 0.99943, F1: 0.6688, Prec: 0.5469, Rec: 0.8648, lr: 0.00030\n",
      "Epoch 16/Step 280, Loss: -0.33892, Accuracy: 0.99943, F1: 0.6680, Prec: 0.5464, Rec: 0.8633, lr: 0.00030\n",
      "Epoch 16/Step 300, Loss: -0.34657, Accuracy: 0.99942, F1: 0.6680, Prec: 0.5467, Rec: 0.8624, lr: 0.00030\n",
      "Epoch 16/Step 320, Loss: -0.35432, Accuracy: 0.99942, F1: 0.6689, Prec: 0.5480, Rec: 0.8624, lr: 0.00030\n",
      "Epoch 16/Step 340, Loss: -0.35300, Accuracy: 0.99943, F1: 0.6697, Prec: 0.5487, Rec: 0.8634, lr: 0.00030\n",
      "Epoch 16/Step 360, Loss: -0.32293, Accuracy: 0.99943, F1: 0.6709, Prec: 0.5499, Rec: 0.8642, lr: 0.00030\n",
      "Epoch 16/Step 380, Loss: -0.35512, Accuracy: 0.99943, F1: 0.6707, Prec: 0.5497, Rec: 0.8642, lr: 0.00030\n",
      "Epoch 16/Step 400, Loss: -0.34622, Accuracy: 0.99943, F1: 0.6709, Prec: 0.5499, Rec: 0.8642, lr: 0.00030\n",
      "Epoch 16/Step 420, Loss: -0.33851, Accuracy: 0.99943, F1: 0.6711, Prec: 0.5501, Rec: 0.8642, lr: 0.00030\n",
      "Epoch 16/Step 440, Loss: -0.32394, Accuracy: 0.99943, F1: 0.6712, Prec: 0.5501, Rec: 0.8646, lr: 0.00030\n",
      "Epoch 16/Step 460, Loss: -0.36443, Accuracy: 0.99943, F1: 0.6712, Prec: 0.5502, Rec: 0.8646, lr: 0.00030\n",
      "Epoch 16/Step 480, Loss: -0.37087, Accuracy: 0.99943, F1: 0.6717, Prec: 0.5507, Rec: 0.8648, lr: 0.00030\n",
      "Epoch 16/Step 500, Loss: -0.30503, Accuracy: 0.99943, F1: 0.6723, Prec: 0.5516, Rec: 0.8646, lr: 0.00030\n",
      "Epoch 16/Step 520, Loss: -0.32074, Accuracy: 0.99943, F1: 0.6721, Prec: 0.5514, Rec: 0.8643, lr: 0.00030\n",
      "Epoch 16/Step 540, Loss: -0.33260, Accuracy: 0.99943, F1: 0.6719, Prec: 0.5511, Rec: 0.8642, lr: 0.00030\n",
      "Epoch 16/Step 560, Loss: -0.34970, Accuracy: 0.99943, F1: 0.6717, Prec: 0.5508, Rec: 0.8647, lr: 0.00030\n",
      "Epoch 16/Step 580, Loss: -0.33688, Accuracy: 0.99943, F1: 0.6718, Prec: 0.5508, Rec: 0.8649, lr: 0.00030\n",
      "Epoch 16/Step 600, Loss: -0.31302, Accuracy: 0.99943, F1: 0.6717, Prec: 0.5506, Rec: 0.8652, lr: 0.00030\n",
      "Epoch 16/Step 620, Loss: -0.32542, Accuracy: 0.99943, F1: 0.6718, Prec: 0.5507, Rec: 0.8651, lr: 0.00030\n",
      "Epoch 16/Step 640, Loss: -0.35541, Accuracy: 0.99943, F1: 0.6719, Prec: 0.5508, Rec: 0.8651, lr: 0.00030\n",
      "Epoch 16/Step 660, Loss: -0.34425, Accuracy: 0.99943, F1: 0.6715, Prec: 0.5503, Rec: 0.8651, lr: 0.00030\n",
      "Epoch 16/Step 680, Loss: -0.35209, Accuracy: 0.99943, F1: 0.6717, Prec: 0.5504, Rec: 0.8656, lr: 0.00030\n",
      "Epoch 16/Step 700, Loss: -0.31771, Accuracy: 0.99943, F1: 0.6717, Prec: 0.5505, Rec: 0.8652, lr: 0.00030\n",
      "Epoch 16/Step 720, Loss: -0.29251, Accuracy: 0.99943, F1: 0.6719, Prec: 0.5509, Rec: 0.8648, lr: 0.00030\n",
      "Epoch 16/Step 740, Loss: -0.35522, Accuracy: 0.99943, F1: 0.6722, Prec: 0.5511, Rec: 0.8654, lr: 0.00030\n",
      "Epoch 16/Step 760, Loss: -0.35349, Accuracy: 0.99943, F1: 0.6722, Prec: 0.5510, Rec: 0.8657, lr: 0.00030\n",
      "Epoch 16/Step 780, Loss: -0.33508, Accuracy: 0.99943, F1: 0.6724, Prec: 0.5513, Rec: 0.8655, lr: 0.00030\n",
      "Epoch 16/Step 800, Loss: -0.32512, Accuracy: 0.99943, F1: 0.6723, Prec: 0.5512, Rec: 0.8655, lr: 0.00030\n",
      "Epoch 16/Step 820, Loss: -0.35272, Accuracy: 0.99943, F1: 0.6721, Prec: 0.5509, Rec: 0.8655, lr: 0.00030\n",
      "Epoch 16/Step 840, Loss: -0.33670, Accuracy: 0.99943, F1: 0.6720, Prec: 0.5508, Rec: 0.8654, lr: 0.00030\n",
      "Epoch 16/Step 860, Loss: -0.33783, Accuracy: 0.99943, F1: 0.6722, Prec: 0.5510, Rec: 0.8656, lr: 0.00030\n",
      "Epoch finished. Start validation\n",
      "Validation acc: 0.9993\n",
      "Validation f1: 0.6127\n",
      "Validation precision: 0.5016\n",
      "Validation recall: 0.7923\n",
      "WARNING:tensorflow:Compiled the loaded model, but the compiled metrics have yet to be built. `model.compile_metrics` will be empty until you train or evaluate the model.\n"
     ]
    },
    {
     "name": "stderr",
     "output_type": "stream",
     "text": [
      "WARNING:tensorflow:Compiled the loaded model, but the compiled metrics have yet to be built. `model.compile_metrics` will be empty until you train or evaluate the model.\n"
     ]
    },
    {
     "name": "stdout",
     "output_type": "stream",
     "text": [
      "INFO:tensorflow:Assets written to: /mnt/e/ML/cafa-5-protein-function-prediction/model_MFO_epoch_15_valF1Score0.6127/assets\n"
     ]
    },
    {
     "name": "stderr",
     "output_type": "stream",
     "text": [
      "INFO:tensorflow:Assets written to: /mnt/e/ML/cafa-5-protein-function-prediction/model_MFO_epoch_15_valF1Score0.6127/assets\n"
     ]
    },
    {
     "name": "stdout",
     "output_type": "stream",
     "text": [
      "\n",
      "Start of epoch 17\n",
      "Epoch 17/Step 0, Loss: -0.34565, Accuracy: 0.99951, F1: 0.6889, Prec: 0.5667, Rec: 0.8784, lr: 0.00030\n",
      "Epoch 17/Step 20, Loss: -0.33241, Accuracy: 0.99945, F1: 0.6795, Prec: 0.5586, Rec: 0.8707, lr: 0.00030\n",
      "Epoch 17/Step 40, Loss: -0.32876, Accuracy: 0.99945, F1: 0.6734, Prec: 0.5518, Rec: 0.8670, lr: 0.00030\n",
      "Epoch 17/Step 60, Loss: -0.34063, Accuracy: 0.99945, F1: 0.6741, Prec: 0.5529, Rec: 0.8670, lr: 0.00030\n",
      "Epoch 17/Step 80, Loss: -0.34379, Accuracy: 0.99944, F1: 0.6701, Prec: 0.5487, Rec: 0.8650, lr: 0.00030\n",
      "Epoch 17/Step 100, Loss: -0.34850, Accuracy: 0.99944, F1: 0.6695, Prec: 0.5484, Rec: 0.8638, lr: 0.00030\n",
      "Epoch 17/Step 120, Loss: -0.30686, Accuracy: 0.99943, F1: 0.6691, Prec: 0.5474, Rec: 0.8653, lr: 0.00030\n",
      "Epoch 17/Step 140, Loss: -0.32334, Accuracy: 0.99944, F1: 0.6700, Prec: 0.5481, Rec: 0.8662, lr: 0.00030\n",
      "Epoch 17/Step 160, Loss: -0.32463, Accuracy: 0.99943, F1: 0.6700, Prec: 0.5479, Rec: 0.8667, lr: 0.00030\n",
      "Epoch 17/Step 180, Loss: -0.34585, Accuracy: 0.99943, F1: 0.6713, Prec: 0.5484, Rec: 0.8692, lr: 0.00030\n",
      "Epoch 17/Step 200, Loss: -0.33851, Accuracy: 0.99943, F1: 0.6704, Prec: 0.5472, Rec: 0.8696, lr: 0.00030\n",
      "Epoch 17/Step 220, Loss: -0.34493, Accuracy: 0.99943, F1: 0.6718, Prec: 0.5493, Rec: 0.8691, lr: 0.00030\n",
      "Epoch 17/Step 240, Loss: -0.35568, Accuracy: 0.99943, F1: 0.6722, Prec: 0.5504, Rec: 0.8675, lr: 0.00030\n",
      "Epoch 17/Step 260, Loss: -0.34660, Accuracy: 0.99944, F1: 0.6735, Prec: 0.5517, Rec: 0.8686, lr: 0.00030\n",
      "Epoch 17/Step 280, Loss: -0.35775, Accuracy: 0.99943, F1: 0.6728, Prec: 0.5514, Rec: 0.8670, lr: 0.00030\n",
      "Epoch 17/Step 300, Loss: -0.35106, Accuracy: 0.99943, F1: 0.6731, Prec: 0.5518, Rec: 0.8668, lr: 0.00030\n",
      "Epoch 17/Step 320, Loss: -0.35817, Accuracy: 0.99943, F1: 0.6739, Prec: 0.5529, Rec: 0.8668, lr: 0.00030\n",
      "Epoch 17/Step 340, Loss: -0.36509, Accuracy: 0.99943, F1: 0.6747, Prec: 0.5537, Rec: 0.8675, lr: 0.00030\n",
      "Epoch 17/Step 360, Loss: -0.32810, Accuracy: 0.99944, F1: 0.6758, Prec: 0.5548, Rec: 0.8682, lr: 0.00030\n",
      "Epoch 17/Step 380, Loss: -0.36725, Accuracy: 0.99944, F1: 0.6757, Prec: 0.5548, Rec: 0.8682, lr: 0.00030\n",
      "Epoch 17/Step 400, Loss: -0.34367, Accuracy: 0.99944, F1: 0.6759, Prec: 0.5551, Rec: 0.8679, lr: 0.00030\n",
      "Epoch 17/Step 420, Loss: -0.34308, Accuracy: 0.99944, F1: 0.6762, Prec: 0.5553, Rec: 0.8682, lr: 0.00030\n",
      "Epoch 17/Step 440, Loss: -0.32714, Accuracy: 0.99944, F1: 0.6763, Prec: 0.5553, Rec: 0.8687, lr: 0.00030\n",
      "Epoch 17/Step 460, Loss: -0.37473, Accuracy: 0.99944, F1: 0.6763, Prec: 0.5554, Rec: 0.8685, lr: 0.00030\n",
      "Epoch 17/Step 480, Loss: -0.37404, Accuracy: 0.99944, F1: 0.6768, Prec: 0.5559, Rec: 0.8688, lr: 0.00030\n",
      "Epoch 17/Step 500, Loss: -0.30869, Accuracy: 0.99944, F1: 0.6774, Prec: 0.5569, Rec: 0.8685, lr: 0.00030\n",
      "Epoch 17/Step 520, Loss: -0.32710, Accuracy: 0.99944, F1: 0.6772, Prec: 0.5567, Rec: 0.8681, lr: 0.00030\n",
      "Epoch 17/Step 540, Loss: -0.34291, Accuracy: 0.99944, F1: 0.6770, Prec: 0.5565, Rec: 0.8683, lr: 0.00030\n",
      "Epoch 17/Step 560, Loss: -0.35442, Accuracy: 0.99944, F1: 0.6768, Prec: 0.5560, Rec: 0.8688, lr: 0.00030\n",
      "Epoch 17/Step 580, Loss: -0.34430, Accuracy: 0.99944, F1: 0.6768, Prec: 0.5560, Rec: 0.8688, lr: 0.00030\n",
      "Epoch 17/Step 600, Loss: -0.31827, Accuracy: 0.99944, F1: 0.6768, Prec: 0.5559, Rec: 0.8689, lr: 0.00030\n",
      "Epoch 17/Step 620, Loss: -0.33050, Accuracy: 0.99944, F1: 0.6769, Prec: 0.5560, Rec: 0.8690, lr: 0.00030\n",
      "Epoch 17/Step 640, Loss: -0.35379, Accuracy: 0.99944, F1: 0.6768, Prec: 0.5560, Rec: 0.8688, lr: 0.00030\n",
      "Epoch 17/Step 660, Loss: -0.35128, Accuracy: 0.99944, F1: 0.6765, Prec: 0.5555, Rec: 0.8687, lr: 0.00030\n",
      "Epoch 17/Step 680, Loss: -0.35391, Accuracy: 0.99944, F1: 0.6767, Prec: 0.5556, Rec: 0.8691, lr: 0.00030\n",
      "Epoch 17/Step 700, Loss: -0.32813, Accuracy: 0.99944, F1: 0.6767, Prec: 0.5558, Rec: 0.8689, lr: 0.00030\n",
      "Epoch 17/Step 720, Loss: -0.29562, Accuracy: 0.99944, F1: 0.6769, Prec: 0.5562, Rec: 0.8686, lr: 0.00030\n",
      "Epoch 17/Step 740, Loss: -0.35917, Accuracy: 0.99944, F1: 0.6773, Prec: 0.5564, Rec: 0.8693, lr: 0.00030\n",
      "Epoch 17/Step 760, Loss: -0.35408, Accuracy: 0.99944, F1: 0.6774, Prec: 0.5563, Rec: 0.8696, lr: 0.00030\n",
      "Epoch 17/Step 780, Loss: -0.33882, Accuracy: 0.99944, F1: 0.6776, Prec: 0.5566, Rec: 0.8697, lr: 0.00030\n",
      "Epoch 17/Step 800, Loss: -0.33478, Accuracy: 0.99944, F1: 0.6775, Prec: 0.5565, Rec: 0.8696, lr: 0.00030\n",
      "Epoch 17/Step 820, Loss: -0.36087, Accuracy: 0.99944, F1: 0.6773, Prec: 0.5562, Rec: 0.8697, lr: 0.00030\n",
      "Epoch 17/Step 840, Loss: -0.34084, Accuracy: 0.99944, F1: 0.6772, Prec: 0.5561, Rec: 0.8696, lr: 0.00030\n",
      "Epoch 17/Step 860, Loss: -0.33713, Accuracy: 0.99944, F1: 0.6774, Prec: 0.5563, Rec: 0.8698, lr: 0.00030\n",
      "Epoch finished. Start validation\n",
      "Validation acc: 0.9994\n",
      "Validation f1: 0.6147\n",
      "Validation precision: 0.5024\n",
      "Validation recall: 0.7972\n",
      "WARNING:tensorflow:Compiled the loaded model, but the compiled metrics have yet to be built. `model.compile_metrics` will be empty until you train or evaluate the model.\n"
     ]
    },
    {
     "name": "stderr",
     "output_type": "stream",
     "text": [
      "WARNING:tensorflow:Compiled the loaded model, but the compiled metrics have yet to be built. `model.compile_metrics` will be empty until you train or evaluate the model.\n"
     ]
    },
    {
     "name": "stdout",
     "output_type": "stream",
     "text": [
      "INFO:tensorflow:Assets written to: /mnt/e/ML/cafa-5-protein-function-prediction/model_MFO_epoch_16_valF1Score0.6147/assets\n"
     ]
    },
    {
     "name": "stderr",
     "output_type": "stream",
     "text": [
      "INFO:tensorflow:Assets written to: /mnt/e/ML/cafa-5-protein-function-prediction/model_MFO_epoch_16_valF1Score0.6147/assets\n"
     ]
    },
    {
     "name": "stdout",
     "output_type": "stream",
     "text": [
      "\n",
      "Start of epoch 18\n",
      "Epoch 18/Step 0, Loss: -0.34577, Accuracy: 0.99950, F1: 0.6997, Prec: 0.5907, Rec: 0.8581, lr: 0.00030\n",
      "Epoch 18/Step 20, Loss: -0.33920, Accuracy: 0.99945, F1: 0.6847, Prec: 0.5652, Rec: 0.8714, lr: 0.00030\n",
      "Epoch 18/Step 40, Loss: -0.33402, Accuracy: 0.99946, F1: 0.6815, Prec: 0.5595, Rec: 0.8744, lr: 0.00030\n",
      "Epoch 18/Step 60, Loss: -0.34778, Accuracy: 0.99946, F1: 0.6813, Prec: 0.5603, Rec: 0.8723, lr: 0.00030\n",
      "Epoch 18/Step 80, Loss: -0.34310, Accuracy: 0.99945, F1: 0.6772, Prec: 0.5558, Rec: 0.8706, lr: 0.00030\n",
      "Epoch 18/Step 100, Loss: -0.34869, Accuracy: 0.99945, F1: 0.6755, Prec: 0.5543, Rec: 0.8684, lr: 0.00030\n",
      "Epoch 18/Step 120, Loss: -0.30759, Accuracy: 0.99944, F1: 0.6749, Prec: 0.5531, Rec: 0.8697, lr: 0.00030\n",
      "Epoch 18/Step 140, Loss: -0.32933, Accuracy: 0.99944, F1: 0.6762, Prec: 0.5545, Rec: 0.8703, lr: 0.00030\n",
      "Epoch 18/Step 160, Loss: -0.32659, Accuracy: 0.99944, F1: 0.6760, Prec: 0.5542, Rec: 0.8708, lr: 0.00030\n",
      "Epoch 18/Step 180, Loss: -0.35128, Accuracy: 0.99944, F1: 0.6771, Prec: 0.5548, Rec: 0.8725, lr: 0.00030\n",
      "Epoch 18/Step 200, Loss: -0.34674, Accuracy: 0.99944, F1: 0.6762, Prec: 0.5535, Rec: 0.8730, lr: 0.00030\n",
      "Epoch 18/Step 220, Loss: -0.34848, Accuracy: 0.99944, F1: 0.6774, Prec: 0.5557, Rec: 0.8719, lr: 0.00030\n",
      "Epoch 18/Step 240, Loss: -0.35853, Accuracy: 0.99944, F1: 0.6779, Prec: 0.5569, Rec: 0.8703, lr: 0.00030\n",
      "Epoch 18/Step 260, Loss: -0.34816, Accuracy: 0.99944, F1: 0.6791, Prec: 0.5583, Rec: 0.8711, lr: 0.00030\n",
      "Epoch 18/Step 280, Loss: -0.35626, Accuracy: 0.99944, F1: 0.6785, Prec: 0.5579, Rec: 0.8698, lr: 0.00030\n",
      "Epoch 18/Step 300, Loss: -0.35450, Accuracy: 0.99944, F1: 0.6787, Prec: 0.5583, Rec: 0.8693, lr: 0.00030\n",
      "Epoch 18/Step 320, Loss: -0.35913, Accuracy: 0.99944, F1: 0.6796, Prec: 0.5596, Rec: 0.8692, lr: 0.00030\n",
      "Epoch 18/Step 340, Loss: -0.36130, Accuracy: 0.99944, F1: 0.6803, Prec: 0.5603, Rec: 0.8697, lr: 0.00030\n",
      "Epoch 18/Step 360, Loss: -0.32835, Accuracy: 0.99944, F1: 0.6814, Prec: 0.5615, Rec: 0.8705, lr: 0.00030\n",
      "Epoch 18/Step 380, Loss: -0.36839, Accuracy: 0.99944, F1: 0.6813, Prec: 0.5615, Rec: 0.8701, lr: 0.00030\n",
      "Epoch 18/Step 400, Loss: -0.35743, Accuracy: 0.99944, F1: 0.6815, Prec: 0.5617, Rec: 0.8701, lr: 0.00030\n",
      "Epoch 18/Step 420, Loss: -0.34137, Accuracy: 0.99944, F1: 0.6816, Prec: 0.5620, Rec: 0.8700, lr: 0.00030\n",
      "Epoch 18/Step 440, Loss: -0.33052, Accuracy: 0.99944, F1: 0.6815, Prec: 0.5617, Rec: 0.8703, lr: 0.00030\n",
      "Epoch 18/Step 460, Loss: -0.37312, Accuracy: 0.99944, F1: 0.6816, Prec: 0.5618, Rec: 0.8703, lr: 0.00030\n",
      "Epoch 18/Step 480, Loss: -0.38299, Accuracy: 0.99945, F1: 0.6820, Prec: 0.5624, Rec: 0.8704, lr: 0.00030\n",
      "Epoch 18/Step 500, Loss: -0.31086, Accuracy: 0.99945, F1: 0.6826, Prec: 0.5633, Rec: 0.8700, lr: 0.00030\n",
      "Epoch 18/Step 520, Loss: -0.33470, Accuracy: 0.99945, F1: 0.6825, Prec: 0.5632, Rec: 0.8700, lr: 0.00030\n",
      "Epoch 18/Step 540, Loss: -0.35201, Accuracy: 0.99945, F1: 0.6824, Prec: 0.5629, Rec: 0.8704, lr: 0.00030\n",
      "Epoch 18/Step 560, Loss: -0.35790, Accuracy: 0.99945, F1: 0.6823, Prec: 0.5625, Rec: 0.8709, lr: 0.00030\n",
      "Epoch 18/Step 580, Loss: -0.34706, Accuracy: 0.99945, F1: 0.6825, Prec: 0.5626, Rec: 0.8712, lr: 0.00030\n",
      "Epoch 18/Step 600, Loss: -0.31503, Accuracy: 0.99945, F1: 0.6824, Prec: 0.5625, Rec: 0.8712, lr: 0.00030\n",
      "Epoch 18/Step 620, Loss: -0.33298, Accuracy: 0.99945, F1: 0.6825, Prec: 0.5627, Rec: 0.8711, lr: 0.00030\n",
      "Epoch 18/Step 640, Loss: -0.35699, Accuracy: 0.99945, F1: 0.6825, Prec: 0.5627, Rec: 0.8712, lr: 0.00030\n",
      "Epoch 18/Step 660, Loss: -0.35246, Accuracy: 0.99945, F1: 0.6821, Prec: 0.5622, Rec: 0.8711, lr: 0.00030\n",
      "Epoch 18/Step 680, Loss: -0.35595, Accuracy: 0.99945, F1: 0.6823, Prec: 0.5623, Rec: 0.8715, lr: 0.00030\n",
      "Epoch 18/Step 700, Loss: -0.32901, Accuracy: 0.99945, F1: 0.6823, Prec: 0.5624, Rec: 0.8712, lr: 0.00030\n",
      "Epoch 18/Step 720, Loss: -0.30069, Accuracy: 0.99945, F1: 0.6825, Prec: 0.5627, Rec: 0.8710, lr: 0.00030\n",
      "Epoch 18/Step 740, Loss: -0.35212, Accuracy: 0.99945, F1: 0.6829, Prec: 0.5629, Rec: 0.8716, lr: 0.00030\n",
      "Epoch 18/Step 760, Loss: -0.35881, Accuracy: 0.99945, F1: 0.6828, Prec: 0.5628, Rec: 0.8719, lr: 0.00030\n",
      "Epoch 18/Step 780, Loss: -0.34015, Accuracy: 0.99945, F1: 0.6831, Prec: 0.5631, Rec: 0.8720, lr: 0.00030\n",
      "Epoch 18/Step 800, Loss: -0.33514, Accuracy: 0.99945, F1: 0.6830, Prec: 0.5630, Rec: 0.8719, lr: 0.00030\n",
      "Epoch 18/Step 820, Loss: -0.35261, Accuracy: 0.99945, F1: 0.6828, Prec: 0.5627, Rec: 0.8720, lr: 0.00030\n",
      "Epoch 18/Step 840, Loss: -0.34127, Accuracy: 0.99945, F1: 0.6828, Prec: 0.5626, Rec: 0.8720, lr: 0.00030\n",
      "Epoch 18/Step 860, Loss: -0.34010, Accuracy: 0.99945, F1: 0.6830, Prec: 0.5629, Rec: 0.8723, lr: 0.00030\n",
      "Epoch finished. Start validation\n",
      "Validation acc: 0.9994\n",
      "Validation f1: 0.6182\n",
      "Validation precision: 0.5075\n",
      "Validation recall: 0.7956\n",
      "WARNING:tensorflow:Compiled the loaded model, but the compiled metrics have yet to be built. `model.compile_metrics` will be empty until you train or evaluate the model.\n"
     ]
    },
    {
     "name": "stderr",
     "output_type": "stream",
     "text": [
      "WARNING:tensorflow:Compiled the loaded model, but the compiled metrics have yet to be built. `model.compile_metrics` will be empty until you train or evaluate the model.\n"
     ]
    },
    {
     "name": "stdout",
     "output_type": "stream",
     "text": [
      "INFO:tensorflow:Assets written to: /mnt/e/ML/cafa-5-protein-function-prediction/model_MFO_epoch_17_valF1Score0.6182/assets\n"
     ]
    },
    {
     "name": "stderr",
     "output_type": "stream",
     "text": [
      "INFO:tensorflow:Assets written to: /mnt/e/ML/cafa-5-protein-function-prediction/model_MFO_epoch_17_valF1Score0.6182/assets\n"
     ]
    },
    {
     "name": "stdout",
     "output_type": "stream",
     "text": [
      "\n",
      "Start of epoch 19\n",
      "Epoch 19/Step 0, Loss: -0.35863, Accuracy: 0.99955, F1: 0.7242, Prec: 0.6107, Rec: 0.8894, lr: 0.00030\n",
      "Epoch 19/Step 20, Loss: -0.34567, Accuracy: 0.99947, F1: 0.6907, Prec: 0.5711, Rec: 0.8765, lr: 0.00030\n",
      "Epoch 19/Step 40, Loss: -0.33760, Accuracy: 0.99947, F1: 0.6858, Prec: 0.5644, Rec: 0.8767, lr: 0.00030\n",
      "Epoch 19/Step 60, Loss: -0.35289, Accuracy: 0.99947, F1: 0.6868, Prec: 0.5661, Rec: 0.8760, lr: 0.00030\n",
      "Epoch 19/Step 80, Loss: -0.34592, Accuracy: 0.99945, F1: 0.6830, Prec: 0.5620, Rec: 0.8745, lr: 0.00030\n",
      "Epoch 19/Step 100, Loss: -0.35576, Accuracy: 0.99946, F1: 0.6820, Prec: 0.5616, Rec: 0.8724, lr: 0.00030\n",
      "Epoch 19/Step 120, Loss: -0.30913, Accuracy: 0.99945, F1: 0.6813, Prec: 0.5604, Rec: 0.8728, lr: 0.00030\n",
      "Epoch 19/Step 140, Loss: -0.33201, Accuracy: 0.99945, F1: 0.6823, Prec: 0.5614, Rec: 0.8734, lr: 0.00030\n",
      "Epoch 19/Step 160, Loss: -0.32930, Accuracy: 0.99945, F1: 0.6825, Prec: 0.5613, Rec: 0.8746, lr: 0.00030\n",
      "Epoch 19/Step 180, Loss: -0.35311, Accuracy: 0.99945, F1: 0.6834, Prec: 0.5618, Rec: 0.8760, lr: 0.00030\n",
      "Epoch 19/Step 200, Loss: -0.34833, Accuracy: 0.99944, F1: 0.6828, Prec: 0.5609, Rec: 0.8765, lr: 0.00030\n",
      "Epoch 19/Step 220, Loss: -0.34686, Accuracy: 0.99945, F1: 0.6841, Prec: 0.5630, Rec: 0.8757, lr: 0.00030\n",
      "Epoch 19/Step 240, Loss: -0.36180, Accuracy: 0.99945, F1: 0.6846, Prec: 0.5641, Rec: 0.8743, lr: 0.00030\n",
      "Epoch 19/Step 260, Loss: -0.35210, Accuracy: 0.99945, F1: 0.6855, Prec: 0.5650, Rec: 0.8752, lr: 0.00030\n",
      "Epoch 19/Step 280, Loss: -0.36435, Accuracy: 0.99945, F1: 0.6849, Prec: 0.5649, Rec: 0.8735, lr: 0.00030\n",
      "Epoch 19/Step 300, Loss: -0.35365, Accuracy: 0.99945, F1: 0.6850, Prec: 0.5652, Rec: 0.8732, lr: 0.00030\n",
      "Epoch 19/Step 320, Loss: -0.36428, Accuracy: 0.99945, F1: 0.6858, Prec: 0.5662, Rec: 0.8733, lr: 0.00030\n",
      "Epoch 19/Step 340, Loss: -0.36560, Accuracy: 0.99945, F1: 0.6865, Prec: 0.5669, Rec: 0.8739, lr: 0.00030\n",
      "Epoch 19/Step 360, Loss: -0.33401, Accuracy: 0.99945, F1: 0.6876, Prec: 0.5680, Rec: 0.8746, lr: 0.00030\n",
      "Epoch 19/Step 380, Loss: -0.36731, Accuracy: 0.99945, F1: 0.6875, Prec: 0.5680, Rec: 0.8745, lr: 0.00030\n",
      "Epoch 19/Step 400, Loss: -0.35092, Accuracy: 0.99945, F1: 0.6875, Prec: 0.5681, Rec: 0.8740, lr: 0.00030\n",
      "Epoch 19/Step 420, Loss: -0.34168, Accuracy: 0.99945, F1: 0.6876, Prec: 0.5682, Rec: 0.8741, lr: 0.00030\n",
      "Epoch 19/Step 440, Loss: -0.33316, Accuracy: 0.99945, F1: 0.6876, Prec: 0.5680, Rec: 0.8745, lr: 0.00030\n",
      "Epoch 19/Step 460, Loss: -0.37400, Accuracy: 0.99945, F1: 0.6875, Prec: 0.5681, Rec: 0.8742, lr: 0.00030\n",
      "Epoch 19/Step 480, Loss: -0.37859, Accuracy: 0.99945, F1: 0.6880, Prec: 0.5686, Rec: 0.8745, lr: 0.00030\n",
      "Epoch 19/Step 500, Loss: -0.30948, Accuracy: 0.99946, F1: 0.6884, Prec: 0.5694, Rec: 0.8740, lr: 0.00030\n",
      "Epoch 19/Step 520, Loss: -0.33581, Accuracy: 0.99945, F1: 0.6882, Prec: 0.5693, Rec: 0.8737, lr: 0.00030\n",
      "Epoch 19/Step 540, Loss: -0.35600, Accuracy: 0.99945, F1: 0.6882, Prec: 0.5691, Rec: 0.8741, lr: 0.00030\n",
      "Epoch 19/Step 560, Loss: -0.35887, Accuracy: 0.99945, F1: 0.6881, Prec: 0.5687, Rec: 0.8747, lr: 0.00030\n",
      "Epoch 19/Step 580, Loss: -0.35118, Accuracy: 0.99945, F1: 0.6883, Prec: 0.5689, Rec: 0.8748, lr: 0.00030\n",
      "Epoch 19/Step 600, Loss: -0.32385, Accuracy: 0.99945, F1: 0.6883, Prec: 0.5688, Rec: 0.8748, lr: 0.00030\n",
      "Epoch 19/Step 620, Loss: -0.33975, Accuracy: 0.99946, F1: 0.6883, Prec: 0.5689, Rec: 0.8747, lr: 0.00030\n",
      "Epoch 19/Step 640, Loss: -0.36196, Accuracy: 0.99946, F1: 0.6883, Prec: 0.5689, Rec: 0.8747, lr: 0.00030\n",
      "Epoch 19/Step 660, Loss: -0.35612, Accuracy: 0.99946, F1: 0.6880, Prec: 0.5684, Rec: 0.8747, lr: 0.00030\n",
      "Epoch 19/Step 680, Loss: -0.36239, Accuracy: 0.99946, F1: 0.6881, Prec: 0.5685, Rec: 0.8750, lr: 0.00030\n",
      "Epoch 19/Step 700, Loss: -0.33027, Accuracy: 0.99946, F1: 0.6880, Prec: 0.5686, Rec: 0.8746, lr: 0.00030\n",
      "Epoch 19/Step 720, Loss: -0.30724, Accuracy: 0.99946, F1: 0.6882, Prec: 0.5689, Rec: 0.8744, lr: 0.00030\n",
      "Epoch 19/Step 740, Loss: -0.36680, Accuracy: 0.99946, F1: 0.6886, Prec: 0.5691, Rec: 0.8751, lr: 0.00030\n",
      "Epoch 19/Step 760, Loss: -0.36843, Accuracy: 0.99946, F1: 0.6886, Prec: 0.5691, Rec: 0.8754, lr: 0.00030\n",
      "Epoch 19/Step 780, Loss: -0.34559, Accuracy: 0.99946, F1: 0.6889, Prec: 0.5694, Rec: 0.8755, lr: 0.00030\n",
      "Epoch 19/Step 800, Loss: -0.33413, Accuracy: 0.99946, F1: 0.6888, Prec: 0.5693, Rec: 0.8754, lr: 0.00030\n",
      "Epoch 19/Step 820, Loss: -0.35836, Accuracy: 0.99946, F1: 0.6886, Prec: 0.5690, Rec: 0.8755, lr: 0.00030\n",
      "Epoch 19/Step 840, Loss: -0.34337, Accuracy: 0.99946, F1: 0.6885, Prec: 0.5689, Rec: 0.8755, lr: 0.00030\n",
      "Epoch 19/Step 860, Loss: -0.35479, Accuracy: 0.99946, F1: 0.6887, Prec: 0.5691, Rec: 0.8756, lr: 0.00030\n",
      "Epoch finished. Start validation\n",
      "Validation acc: 0.9994\n",
      "Validation f1: 0.6233\n",
      "Validation precision: 0.5151\n",
      "Validation recall: 0.7942\n",
      "WARNING:tensorflow:Compiled the loaded model, but the compiled metrics have yet to be built. `model.compile_metrics` will be empty until you train or evaluate the model.\n"
     ]
    },
    {
     "name": "stderr",
     "output_type": "stream",
     "text": [
      "WARNING:tensorflow:Compiled the loaded model, but the compiled metrics have yet to be built. `model.compile_metrics` will be empty until you train or evaluate the model.\n"
     ]
    },
    {
     "name": "stdout",
     "output_type": "stream",
     "text": [
      "INFO:tensorflow:Assets written to: /mnt/e/ML/cafa-5-protein-function-prediction/model_MFO_epoch_18_valF1Score0.6233/assets\n"
     ]
    },
    {
     "name": "stderr",
     "output_type": "stream",
     "text": [
      "INFO:tensorflow:Assets written to: /mnt/e/ML/cafa-5-protein-function-prediction/model_MFO_epoch_18_valF1Score0.6233/assets\n"
     ]
    },
    {
     "name": "stdout",
     "output_type": "stream",
     "text": [
      "\n",
      "Start of epoch 20\n",
      "Epoch 20/Step 0, Loss: -0.35886, Accuracy: 0.99956, F1: 0.7341, Prec: 0.6218, Rec: 0.8958, lr: 0.00030\n",
      "Epoch 20/Step 20, Loss: -0.34718, Accuracy: 0.99947, F1: 0.6952, Prec: 0.5772, Rec: 0.8763, lr: 0.00030\n",
      "Epoch 20/Step 40, Loss: -0.34354, Accuracy: 0.99947, F1: 0.6903, Prec: 0.5697, Rec: 0.8781, lr: 0.00030\n",
      "Epoch 20/Step 60, Loss: -0.35999, Accuracy: 0.99947, F1: 0.6908, Prec: 0.5710, Rec: 0.8772, lr: 0.00030\n",
      "Epoch 20/Step 80, Loss: -0.34899, Accuracy: 0.99946, F1: 0.6870, Prec: 0.5666, Rec: 0.8760, lr: 0.00030\n",
      "Epoch 20/Step 100, Loss: -0.35543, Accuracy: 0.99946, F1: 0.6859, Prec: 0.5658, Rec: 0.8746, lr: 0.00030\n",
      "Epoch 20/Step 120, Loss: -0.30806, Accuracy: 0.99946, F1: 0.6856, Prec: 0.5650, Rec: 0.8760, lr: 0.00030\n",
      "Epoch 20/Step 140, Loss: -0.33549, Accuracy: 0.99946, F1: 0.6865, Prec: 0.5659, Rec: 0.8764, lr: 0.00030\n",
      "Epoch 20/Step 160, Loss: -0.32788, Accuracy: 0.99946, F1: 0.6867, Prec: 0.5658, Rec: 0.8773, lr: 0.00030\n",
      "Epoch 20/Step 180, Loss: -0.35390, Accuracy: 0.99946, F1: 0.6881, Prec: 0.5667, Rec: 0.8796, lr: 0.00030\n",
      "Epoch 20/Step 200, Loss: -0.35628, Accuracy: 0.99945, F1: 0.6874, Prec: 0.5657, Rec: 0.8799, lr: 0.00030\n",
      "Epoch 20/Step 220, Loss: -0.35109, Accuracy: 0.99946, F1: 0.6890, Prec: 0.5682, Rec: 0.8792, lr: 0.00030\n",
      "Epoch 20/Step 240, Loss: -0.37032, Accuracy: 0.99946, F1: 0.6894, Prec: 0.5694, Rec: 0.8777, lr: 0.00030\n",
      "Epoch 20/Step 260, Loss: -0.35378, Accuracy: 0.99946, F1: 0.6905, Prec: 0.5703, Rec: 0.8788, lr: 0.00030\n",
      "Epoch 20/Step 280, Loss: -0.36748, Accuracy: 0.99946, F1: 0.6899, Prec: 0.5700, Rec: 0.8777, lr: 0.00030\n",
      "Epoch 20/Step 300, Loss: -0.35616, Accuracy: 0.99945, F1: 0.6899, Prec: 0.5700, Rec: 0.8774, lr: 0.00030\n",
      "Epoch 20/Step 320, Loss: -0.36610, Accuracy: 0.99946, F1: 0.6907, Prec: 0.5711, Rec: 0.8775, lr: 0.00030\n",
      "Epoch 20/Step 340, Loss: -0.36962, Accuracy: 0.99946, F1: 0.6913, Prec: 0.5718, Rec: 0.8778, lr: 0.00030\n",
      "Epoch 20/Step 360, Loss: -0.33982, Accuracy: 0.99946, F1: 0.6923, Prec: 0.5729, Rec: 0.8784, lr: 0.00030\n",
      "Epoch 20/Step 380, Loss: -0.37163, Accuracy: 0.99946, F1: 0.6923, Prec: 0.5729, Rec: 0.8784, lr: 0.00030\n",
      "Epoch 20/Step 400, Loss: -0.35954, Accuracy: 0.99946, F1: 0.6924, Prec: 0.5731, Rec: 0.8781, lr: 0.00030\n",
      "Epoch 20/Step 420, Loss: -0.34921, Accuracy: 0.99946, F1: 0.6925, Prec: 0.5733, Rec: 0.8781, lr: 0.00030\n",
      "Epoch 20/Step 440, Loss: -0.33443, Accuracy: 0.99946, F1: 0.6926, Prec: 0.5732, Rec: 0.8785, lr: 0.00030\n",
      "Epoch 20/Step 460, Loss: -0.37520, Accuracy: 0.99946, F1: 0.6924, Prec: 0.5730, Rec: 0.8781, lr: 0.00030\n",
      "Epoch 20/Step 480, Loss: -0.38237, Accuracy: 0.99946, F1: 0.6929, Prec: 0.5737, Rec: 0.8783, lr: 0.00030\n",
      "Epoch 20/Step 500, Loss: -0.32467, Accuracy: 0.99946, F1: 0.6933, Prec: 0.5745, Rec: 0.8779, lr: 0.00030\n",
      "Epoch 20/Step 520, Loss: -0.34239, Accuracy: 0.99946, F1: 0.6930, Prec: 0.5742, Rec: 0.8776, lr: 0.00030\n",
      "Epoch 20/Step 540, Loss: -0.36177, Accuracy: 0.99946, F1: 0.6929, Prec: 0.5740, Rec: 0.8778, lr: 0.00030\n",
      "Epoch 20/Step 560, Loss: -0.35981, Accuracy: 0.99946, F1: 0.6929, Prec: 0.5736, Rec: 0.8785, lr: 0.00030\n",
      "Epoch 20/Step 580, Loss: -0.35351, Accuracy: 0.99946, F1: 0.6930, Prec: 0.5736, Rec: 0.8788, lr: 0.00030\n",
      "Epoch 20/Step 600, Loss: -0.32916, Accuracy: 0.99946, F1: 0.6930, Prec: 0.5736, Rec: 0.8788, lr: 0.00030\n",
      "Epoch 20/Step 620, Loss: -0.34123, Accuracy: 0.99946, F1: 0.6930, Prec: 0.5737, Rec: 0.8785, lr: 0.00030\n",
      "Epoch 20/Step 640, Loss: -0.36352, Accuracy: 0.99946, F1: 0.6930, Prec: 0.5737, Rec: 0.8786, lr: 0.00030\n",
      "Epoch 20/Step 660, Loss: -0.35289, Accuracy: 0.99946, F1: 0.6927, Prec: 0.5732, Rec: 0.8786, lr: 0.00030\n",
      "Epoch 20/Step 680, Loss: -0.35951, Accuracy: 0.99946, F1: 0.6927, Prec: 0.5733, Rec: 0.8788, lr: 0.00030\n",
      "Epoch 20/Step 700, Loss: -0.33089, Accuracy: 0.99946, F1: 0.6927, Prec: 0.5733, Rec: 0.8784, lr: 0.00030\n",
      "Epoch 20/Step 720, Loss: -0.31287, Accuracy: 0.99946, F1: 0.6928, Prec: 0.5737, Rec: 0.8780, lr: 0.00030\n",
      "Epoch 20/Step 740, Loss: -0.37070, Accuracy: 0.99946, F1: 0.6932, Prec: 0.5739, Rec: 0.8788, lr: 0.00030\n",
      "Epoch 20/Step 760, Loss: -0.36694, Accuracy: 0.99946, F1: 0.6932, Prec: 0.5737, Rec: 0.8790, lr: 0.00030\n",
      "Epoch 20/Step 780, Loss: -0.34838, Accuracy: 0.99946, F1: 0.6934, Prec: 0.5740, Rec: 0.8791, lr: 0.00030\n",
      "Epoch 20/Step 800, Loss: -0.33997, Accuracy: 0.99946, F1: 0.6932, Prec: 0.5738, Rec: 0.8788, lr: 0.00030\n",
      "Epoch 20/Step 820, Loss: -0.36060, Accuracy: 0.99946, F1: 0.6930, Prec: 0.5735, Rec: 0.8789, lr: 0.00030\n",
      "Epoch 20/Step 840, Loss: -0.34639, Accuracy: 0.99946, F1: 0.6928, Prec: 0.5734, Rec: 0.8788, lr: 0.00030\n",
      "Epoch 20/Step 860, Loss: -0.36302, Accuracy: 0.99946, F1: 0.6930, Prec: 0.5736, Rec: 0.8790, lr: 0.00030\n",
      "Epoch finished. Start validation\n",
      "Validation acc: 0.9994\n",
      "Validation f1: 0.6206\n",
      "Validation precision: 0.5102\n",
      "Validation recall: 0.7970\n",
      "WARNING:tensorflow:Compiled the loaded model, but the compiled metrics have yet to be built. `model.compile_metrics` will be empty until you train or evaluate the model.\n"
     ]
    },
    {
     "name": "stderr",
     "output_type": "stream",
     "text": [
      "WARNING:tensorflow:Compiled the loaded model, but the compiled metrics have yet to be built. `model.compile_metrics` will be empty until you train or evaluate the model.\n"
     ]
    },
    {
     "name": "stdout",
     "output_type": "stream",
     "text": [
      "INFO:tensorflow:Assets written to: /mnt/e/ML/cafa-5-protein-function-prediction/model_MFO_epoch_19_valF1Score0.6206/assets\n"
     ]
    },
    {
     "name": "stderr",
     "output_type": "stream",
     "text": [
      "INFO:tensorflow:Assets written to: /mnt/e/ML/cafa-5-protein-function-prediction/model_MFO_epoch_19_valF1Score0.6206/assets\n"
     ]
    },
    {
     "name": "stdout",
     "output_type": "stream",
     "text": [
      "\n",
      "Start of epoch 21\n",
      "Epoch 21/Step 0, Loss: -0.36527, Accuracy: 0.99956, F1: 0.7282, Prec: 0.6169, Rec: 0.8886, lr: 0.00030\n",
      "Epoch 21/Step 20, Loss: -0.34729, Accuracy: 0.99947, F1: 0.6963, Prec: 0.5766, Rec: 0.8815, lr: 0.00030\n",
      "Epoch 21/Step 40, Loss: -0.34483, Accuracy: 0.99948, F1: 0.6922, Prec: 0.5710, Rec: 0.8816, lr: 0.00030\n",
      "Epoch 21/Step 60, Loss: -0.36447, Accuracy: 0.99948, F1: 0.6930, Prec: 0.5726, Rec: 0.8806, lr: 0.00030\n",
      "Epoch 21/Step 80, Loss: -0.34746, Accuracy: 0.99947, F1: 0.6892, Prec: 0.5678, Rec: 0.8808, lr: 0.00030\n",
      "Epoch 21/Step 100, Loss: -0.35251, Accuracy: 0.99947, F1: 0.6881, Prec: 0.5672, Rec: 0.8787, lr: 0.00030\n",
      "Epoch 21/Step 120, Loss: -0.31440, Accuracy: 0.99946, F1: 0.6882, Prec: 0.5668, Rec: 0.8803, lr: 0.00030\n",
      "Epoch 21/Step 140, Loss: -0.33987, Accuracy: 0.99946, F1: 0.6897, Prec: 0.5682, Rec: 0.8813, lr: 0.00030\n",
      "Epoch 21/Step 160, Loss: -0.33347, Accuracy: 0.99946, F1: 0.6897, Prec: 0.5681, Rec: 0.8817, lr: 0.00030\n",
      "Epoch 21/Step 180, Loss: -0.35822, Accuracy: 0.99946, F1: 0.6907, Prec: 0.5687, Rec: 0.8835, lr: 0.00030\n",
      "Epoch 21/Step 200, Loss: -0.36237, Accuracy: 0.99946, F1: 0.6905, Prec: 0.5682, Rec: 0.8839, lr: 0.00030\n",
      "Epoch 21/Step 220, Loss: -0.35212, Accuracy: 0.99946, F1: 0.6921, Prec: 0.5707, Rec: 0.8832, lr: 0.00030\n",
      "Epoch 21/Step 240, Loss: -0.36905, Accuracy: 0.99946, F1: 0.6925, Prec: 0.5717, Rec: 0.8821, lr: 0.00030\n",
      "Epoch 21/Step 260, Loss: -0.35576, Accuracy: 0.99946, F1: 0.6935, Prec: 0.5727, Rec: 0.8828, lr: 0.00030\n",
      "Epoch 21/Step 280, Loss: -0.37071, Accuracy: 0.99946, F1: 0.6929, Prec: 0.5724, Rec: 0.8815, lr: 0.00030\n",
      "Epoch 21/Step 300, Loss: -0.36363, Accuracy: 0.99946, F1: 0.6929, Prec: 0.5725, Rec: 0.8811, lr: 0.00030\n",
      "Epoch 21/Step 320, Loss: -0.36583, Accuracy: 0.99946, F1: 0.6936, Prec: 0.5735, Rec: 0.8809, lr: 0.00030\n",
      "Epoch 21/Step 340, Loss: -0.37335, Accuracy: 0.99946, F1: 0.6942, Prec: 0.5742, Rec: 0.8815, lr: 0.00030\n",
      "Epoch 21/Step 360, Loss: -0.33356, Accuracy: 0.99946, F1: 0.6953, Prec: 0.5754, Rec: 0.8820, lr: 0.00030\n",
      "Epoch 21/Step 380, Loss: -0.37450, Accuracy: 0.99946, F1: 0.6953, Prec: 0.5755, Rec: 0.8816, lr: 0.00030\n",
      "Epoch 21/Step 400, Loss: -0.35955, Accuracy: 0.99946, F1: 0.6953, Prec: 0.5758, Rec: 0.8812, lr: 0.00030\n",
      "Epoch 21/Step 420, Loss: -0.35157, Accuracy: 0.99946, F1: 0.6956, Prec: 0.5761, Rec: 0.8813, lr: 0.00030\n",
      "Epoch 21/Step 440, Loss: -0.33529, Accuracy: 0.99947, F1: 0.6957, Prec: 0.5761, Rec: 0.8817, lr: 0.00030\n",
      "Epoch 21/Step 460, Loss: -0.37609, Accuracy: 0.99947, F1: 0.6957, Prec: 0.5762, Rec: 0.8814, lr: 0.00030\n",
      "Epoch 21/Step 480, Loss: -0.38975, Accuracy: 0.99947, F1: 0.6962, Prec: 0.5767, Rec: 0.8817, lr: 0.00030\n",
      "Epoch 21/Step 500, Loss: -0.32369, Accuracy: 0.99947, F1: 0.6967, Prec: 0.5775, Rec: 0.8814, lr: 0.00030\n",
      "Epoch 21/Step 520, Loss: -0.34467, Accuracy: 0.99947, F1: 0.6964, Prec: 0.5772, Rec: 0.8813, lr: 0.00030\n",
      "Epoch 21/Step 540, Loss: -0.36524, Accuracy: 0.99947, F1: 0.6962, Prec: 0.5769, Rec: 0.8813, lr: 0.00030\n",
      "Epoch 21/Step 560, Loss: -0.35507, Accuracy: 0.99947, F1: 0.6960, Prec: 0.5766, Rec: 0.8813, lr: 0.00030\n",
      "Epoch 21/Step 580, Loss: -0.35315, Accuracy: 0.99947, F1: 0.6962, Prec: 0.5767, Rec: 0.8817, lr: 0.00030\n",
      "Epoch 21/Step 600, Loss: -0.32470, Accuracy: 0.99947, F1: 0.6962, Prec: 0.5766, Rec: 0.8819, lr: 0.00030\n",
      "Epoch 21/Step 620, Loss: -0.33951, Accuracy: 0.99947, F1: 0.6962, Prec: 0.5767, Rec: 0.8817, lr: 0.00030\n",
      "Epoch 21/Step 640, Loss: -0.36038, Accuracy: 0.99947, F1: 0.6963, Prec: 0.5768, Rec: 0.8818, lr: 0.00030\n",
      "Epoch 21/Step 660, Loss: -0.35292, Accuracy: 0.99947, F1: 0.6959, Prec: 0.5762, Rec: 0.8819, lr: 0.00030\n",
      "Epoch 21/Step 680, Loss: -0.36295, Accuracy: 0.99947, F1: 0.6959, Prec: 0.5762, Rec: 0.8821, lr: 0.00030\n",
      "Epoch 21/Step 700, Loss: -0.33268, Accuracy: 0.99947, F1: 0.6959, Prec: 0.5763, Rec: 0.8818, lr: 0.00030\n",
      "Epoch 21/Step 720, Loss: -0.31132, Accuracy: 0.99947, F1: 0.6961, Prec: 0.5767, Rec: 0.8815, lr: 0.00030\n",
      "Epoch 21/Step 740, Loss: -0.36480, Accuracy: 0.99947, F1: 0.6965, Prec: 0.5769, Rec: 0.8824, lr: 0.00030\n",
      "Epoch 21/Step 760, Loss: -0.36961, Accuracy: 0.99947, F1: 0.6964, Prec: 0.5766, Rec: 0.8826, lr: 0.00030\n",
      "Epoch 21/Step 780, Loss: -0.35256, Accuracy: 0.99947, F1: 0.6967, Prec: 0.5770, Rec: 0.8825, lr: 0.00030\n",
      "Epoch 21/Step 800, Loss: -0.33812, Accuracy: 0.99947, F1: 0.6965, Prec: 0.5769, Rec: 0.8823, lr: 0.00030\n",
      "Epoch 21/Step 820, Loss: -0.36431, Accuracy: 0.99947, F1: 0.6964, Prec: 0.5766, Rec: 0.8826, lr: 0.00030\n",
      "Epoch 21/Step 840, Loss: -0.34217, Accuracy: 0.99947, F1: 0.6963, Prec: 0.5765, Rec: 0.8826, lr: 0.00030\n",
      "Epoch 21/Step 860, Loss: -0.36608, Accuracy: 0.99947, F1: 0.6965, Prec: 0.5766, Rec: 0.8829, lr: 0.00030\n",
      "Epoch finished. Start validation\n",
      "Validation acc: 0.9994\n",
      "Validation f1: 0.6234\n",
      "Validation precision: 0.5136\n",
      "Validation recall: 0.7980\n",
      "WARNING:tensorflow:Compiled the loaded model, but the compiled metrics have yet to be built. `model.compile_metrics` will be empty until you train or evaluate the model.\n"
     ]
    },
    {
     "name": "stderr",
     "output_type": "stream",
     "text": [
      "WARNING:tensorflow:Compiled the loaded model, but the compiled metrics have yet to be built. `model.compile_metrics` will be empty until you train or evaluate the model.\n"
     ]
    },
    {
     "name": "stdout",
     "output_type": "stream",
     "text": [
      "INFO:tensorflow:Assets written to: /mnt/e/ML/cafa-5-protein-function-prediction/model_MFO_epoch_20_valF1Score0.6234/assets\n"
     ]
    },
    {
     "name": "stderr",
     "output_type": "stream",
     "text": [
      "INFO:tensorflow:Assets written to: /mnt/e/ML/cafa-5-protein-function-prediction/model_MFO_epoch_20_valF1Score0.6234/assets\n"
     ]
    },
    {
     "name": "stdout",
     "output_type": "stream",
     "text": [
      "\n",
      "Start of epoch 22\n",
      "Epoch 22/Step 0, Loss: -0.36468, Accuracy: 0.99955, F1: 0.7292, Prec: 0.6236, Rec: 0.8778, lr: 0.00030\n",
      "Epoch 22/Step 20, Loss: -0.34760, Accuracy: 0.99948, F1: 0.7007, Prec: 0.5807, Rec: 0.8859, lr: 0.00030\n",
      "Epoch 22/Step 40, Loss: -0.34936, Accuracy: 0.99948, F1: 0.6964, Prec: 0.5747, Rec: 0.8862, lr: 0.00030\n",
      "Epoch 22/Step 60, Loss: -0.36800, Accuracy: 0.99948, F1: 0.6970, Prec: 0.5764, Rec: 0.8843, lr: 0.00030\n",
      "Epoch 22/Step 80, Loss: -0.35152, Accuracy: 0.99947, F1: 0.6936, Prec: 0.5724, Rec: 0.8837, lr: 0.00030\n",
      "Epoch 22/Step 100, Loss: -0.36000, Accuracy: 0.99947, F1: 0.6927, Prec: 0.5714, Rec: 0.8834, lr: 0.00030\n",
      "Epoch 22/Step 120, Loss: -0.31757, Accuracy: 0.99947, F1: 0.6929, Prec: 0.5711, Rec: 0.8846, lr: 0.00030\n",
      "Epoch 22/Step 140, Loss: -0.34419, Accuracy: 0.99947, F1: 0.6940, Prec: 0.5723, Rec: 0.8853, lr: 0.00030\n",
      "Epoch 22/Step 160, Loss: -0.33206, Accuracy: 0.99947, F1: 0.6937, Prec: 0.5720, Rec: 0.8853, lr: 0.00030\n",
      "Epoch 22/Step 180, Loss: -0.36442, Accuracy: 0.99947, F1: 0.6949, Prec: 0.5728, Rec: 0.8868, lr: 0.00030\n",
      "Epoch 22/Step 200, Loss: -0.36681, Accuracy: 0.99946, F1: 0.6944, Prec: 0.5720, Rec: 0.8872, lr: 0.00030\n",
      "Epoch 22/Step 220, Loss: -0.35781, Accuracy: 0.99947, F1: 0.6960, Prec: 0.5745, Rec: 0.8865, lr: 0.00030\n",
      "Epoch 22/Step 240, Loss: -0.37164, Accuracy: 0.99947, F1: 0.6963, Prec: 0.5754, Rec: 0.8852, lr: 0.00030\n",
      "Epoch 22/Step 260, Loss: -0.35336, Accuracy: 0.99947, F1: 0.6972, Prec: 0.5764, Rec: 0.8858, lr: 0.00030\n",
      "Epoch 22/Step 280, Loss: -0.36118, Accuracy: 0.99947, F1: 0.6964, Prec: 0.5760, Rec: 0.8840, lr: 0.00030\n",
      "Epoch 22/Step 300, Loss: -0.36428, Accuracy: 0.99946, F1: 0.6964, Prec: 0.5761, Rec: 0.8837, lr: 0.00030\n",
      "Epoch 22/Step 320, Loss: -0.36319, Accuracy: 0.99946, F1: 0.6970, Prec: 0.5771, Rec: 0.8836, lr: 0.00030\n",
      "Epoch 22/Step 340, Loss: -0.37226, Accuracy: 0.99947, F1: 0.6978, Prec: 0.5778, Rec: 0.8843, lr: 0.00030\n",
      "Epoch 22/Step 360, Loss: -0.34927, Accuracy: 0.99947, F1: 0.6990, Prec: 0.5790, Rec: 0.8852, lr: 0.00030\n",
      "Epoch 22/Step 380, Loss: -0.37516, Accuracy: 0.99947, F1: 0.6990, Prec: 0.5791, Rec: 0.8851, lr: 0.00030\n",
      "Epoch 22/Step 400, Loss: -0.35721, Accuracy: 0.99947, F1: 0.6991, Prec: 0.5793, Rec: 0.8848, lr: 0.00030\n",
      "Epoch 22/Step 420, Loss: -0.35665, Accuracy: 0.99947, F1: 0.6993, Prec: 0.5797, Rec: 0.8848, lr: 0.00030\n",
      "Epoch 22/Step 440, Loss: -0.34442, Accuracy: 0.99947, F1: 0.6993, Prec: 0.5796, Rec: 0.8848, lr: 0.00030\n",
      "Epoch 22/Step 460, Loss: -0.37758, Accuracy: 0.99947, F1: 0.6992, Prec: 0.5796, Rec: 0.8846, lr: 0.00030\n",
      "Epoch 22/Step 480, Loss: -0.39069, Accuracy: 0.99947, F1: 0.6997, Prec: 0.5801, Rec: 0.8848, lr: 0.00030\n",
      "Epoch 22/Step 500, Loss: -0.32842, Accuracy: 0.99947, F1: 0.7001, Prec: 0.5809, Rec: 0.8843, lr: 0.00030\n",
      "Epoch 22/Step 520, Loss: -0.34217, Accuracy: 0.99947, F1: 0.6999, Prec: 0.5807, Rec: 0.8840, lr: 0.00030\n",
      "Epoch 22/Step 540, Loss: -0.37379, Accuracy: 0.99947, F1: 0.6998, Prec: 0.5805, Rec: 0.8842, lr: 0.00030\n",
      "Epoch 22/Step 560, Loss: -0.35728, Accuracy: 0.99947, F1: 0.6997, Prec: 0.5802, Rec: 0.8848, lr: 0.00030\n",
      "Epoch 22/Step 580, Loss: -0.35357, Accuracy: 0.99947, F1: 0.6999, Prec: 0.5802, Rec: 0.8851, lr: 0.00030\n",
      "Epoch 22/Step 600, Loss: -0.32699, Accuracy: 0.99947, F1: 0.6999, Prec: 0.5802, Rec: 0.8852, lr: 0.00030\n",
      "Epoch 22/Step 620, Loss: -0.34617, Accuracy: 0.99947, F1: 0.6999, Prec: 0.5803, Rec: 0.8852, lr: 0.00030\n",
      "Epoch 22/Step 640, Loss: -0.36409, Accuracy: 0.99947, F1: 0.6999, Prec: 0.5803, Rec: 0.8851, lr: 0.00030\n",
      "Epoch 22/Step 660, Loss: -0.35717, Accuracy: 0.99947, F1: 0.6996, Prec: 0.5798, Rec: 0.8853, lr: 0.00030\n",
      "Epoch 22/Step 680, Loss: -0.36625, Accuracy: 0.99947, F1: 0.6996, Prec: 0.5798, Rec: 0.8854, lr: 0.00030\n",
      "Epoch 22/Step 700, Loss: -0.34267, Accuracy: 0.99947, F1: 0.6996, Prec: 0.5799, Rec: 0.8851, lr: 0.00030\n",
      "Epoch 22/Step 720, Loss: -0.31453, Accuracy: 0.99947, F1: 0.6998, Prec: 0.5802, Rec: 0.8848, lr: 0.00030\n",
      "Epoch 22/Step 740, Loss: -0.36656, Accuracy: 0.99947, F1: 0.7001, Prec: 0.5804, Rec: 0.8854, lr: 0.00030\n",
      "Epoch 22/Step 760, Loss: -0.36563, Accuracy: 0.99947, F1: 0.7000, Prec: 0.5802, Rec: 0.8855, lr: 0.00030\n",
      "Epoch 22/Step 780, Loss: -0.35546, Accuracy: 0.99947, F1: 0.7002, Prec: 0.5805, Rec: 0.8855, lr: 0.00030\n",
      "Epoch 22/Step 800, Loss: -0.34081, Accuracy: 0.99947, F1: 0.7001, Prec: 0.5803, Rec: 0.8855, lr: 0.00030\n",
      "Epoch 22/Step 820, Loss: -0.36854, Accuracy: 0.99947, F1: 0.6999, Prec: 0.5800, Rec: 0.8855, lr: 0.00030\n",
      "Epoch 22/Step 840, Loss: -0.34837, Accuracy: 0.99947, F1: 0.6998, Prec: 0.5799, Rec: 0.8855, lr: 0.00030\n",
      "Epoch 22/Step 860, Loss: -0.36404, Accuracy: 0.99947, F1: 0.6999, Prec: 0.5801, Rec: 0.8857, lr: 0.00030\n",
      "Epoch finished. Start validation\n",
      "Validation acc: 0.9994\n",
      "Validation f1: 0.6236\n",
      "Validation precision: 0.5133\n",
      "Validation recall: 0.7995\n",
      "WARNING:tensorflow:Compiled the loaded model, but the compiled metrics have yet to be built. `model.compile_metrics` will be empty until you train or evaluate the model.\n"
     ]
    },
    {
     "name": "stderr",
     "output_type": "stream",
     "text": [
      "WARNING:tensorflow:Compiled the loaded model, but the compiled metrics have yet to be built. `model.compile_metrics` will be empty until you train or evaluate the model.\n"
     ]
    },
    {
     "name": "stdout",
     "output_type": "stream",
     "text": [
      "INFO:tensorflow:Assets written to: /mnt/e/ML/cafa-5-protein-function-prediction/model_MFO_epoch_21_valF1Score0.6236/assets\n"
     ]
    },
    {
     "name": "stderr",
     "output_type": "stream",
     "text": [
      "INFO:tensorflow:Assets written to: /mnt/e/ML/cafa-5-protein-function-prediction/model_MFO_epoch_21_valF1Score0.6236/assets\n"
     ]
    },
    {
     "name": "stdout",
     "output_type": "stream",
     "text": [
      "\n",
      "Start of epoch 23\n",
      "Epoch 23/Step 0, Loss: -0.37175, Accuracy: 0.99957, F1: 0.7426, Prec: 0.6320, Rec: 0.9002, lr: 0.00030\n",
      "Epoch 23/Step 20, Loss: -0.34684, Accuracy: 0.99948, F1: 0.7024, Prec: 0.5825, Rec: 0.8871, lr: 0.00030\n",
      "Epoch 23/Step 40, Loss: -0.35530, Accuracy: 0.99948, F1: 0.6997, Prec: 0.5792, Rec: 0.8864, lr: 0.00030\n",
      "Epoch 23/Step 60, Loss: -0.36283, Accuracy: 0.99949, F1: 0.7005, Prec: 0.5806, Rec: 0.8858, lr: 0.00030\n",
      "Epoch 23/Step 80, Loss: -0.34520, Accuracy: 0.99947, F1: 0.6967, Prec: 0.5763, Rec: 0.8846, lr: 0.00030\n",
      "Epoch 23/Step 100, Loss: -0.35986, Accuracy: 0.99948, F1: 0.6961, Prec: 0.5754, Rec: 0.8845, lr: 0.00030\n",
      "Epoch 23/Step 120, Loss: -0.32001, Accuracy: 0.99947, F1: 0.6959, Prec: 0.5750, Rec: 0.8852, lr: 0.00030\n",
      "Epoch 23/Step 140, Loss: -0.34472, Accuracy: 0.99947, F1: 0.6974, Prec: 0.5764, Rec: 0.8865, lr: 0.00030\n",
      "Epoch 23/Step 160, Loss: -0.33828, Accuracy: 0.99947, F1: 0.6971, Prec: 0.5759, Rec: 0.8869, lr: 0.00030\n",
      "Epoch 23/Step 180, Loss: -0.36276, Accuracy: 0.99947, F1: 0.6982, Prec: 0.5769, Rec: 0.8878, lr: 0.00030\n",
      "Epoch 23/Step 200, Loss: -0.36937, Accuracy: 0.99947, F1: 0.6980, Prec: 0.5766, Rec: 0.8881, lr: 0.00030\n",
      "Epoch 23/Step 220, Loss: -0.35866, Accuracy: 0.99947, F1: 0.6995, Prec: 0.5790, Rec: 0.8874, lr: 0.00030\n",
      "Epoch 23/Step 240, Loss: -0.37232, Accuracy: 0.99947, F1: 0.6998, Prec: 0.5799, Rec: 0.8861, lr: 0.00030\n",
      "Epoch 23/Step 260, Loss: -0.35513, Accuracy: 0.99947, F1: 0.7007, Prec: 0.5806, Rec: 0.8872, lr: 0.00030\n",
      "Epoch 23/Step 280, Loss: -0.36878, Accuracy: 0.99947, F1: 0.7001, Prec: 0.5803, Rec: 0.8859, lr: 0.00030\n",
      "Epoch 23/Step 300, Loss: -0.36516, Accuracy: 0.99947, F1: 0.6999, Prec: 0.5802, Rec: 0.8855, lr: 0.00030\n",
      "Epoch 23/Step 320, Loss: -0.36420, Accuracy: 0.99947, F1: 0.7006, Prec: 0.5812, Rec: 0.8853, lr: 0.00030\n",
      "Epoch 23/Step 340, Loss: -0.37710, Accuracy: 0.99947, F1: 0.7012, Prec: 0.5818, Rec: 0.8861, lr: 0.00030\n",
      "Epoch 23/Step 360, Loss: -0.34793, Accuracy: 0.99947, F1: 0.7023, Prec: 0.5830, Rec: 0.8866, lr: 0.00030\n",
      "Epoch 23/Step 380, Loss: -0.37738, Accuracy: 0.99947, F1: 0.7022, Prec: 0.5830, Rec: 0.8865, lr: 0.00030\n",
      "Epoch 23/Step 400, Loss: -0.34697, Accuracy: 0.99947, F1: 0.7022, Prec: 0.5831, Rec: 0.8861, lr: 0.00030\n",
      "Epoch 23/Step 420, Loss: -0.35569, Accuracy: 0.99948, F1: 0.7023, Prec: 0.5833, Rec: 0.8860, lr: 0.00030\n",
      "Epoch 23/Step 440, Loss: -0.34594, Accuracy: 0.99948, F1: 0.7024, Prec: 0.5832, Rec: 0.8864, lr: 0.00030\n",
      "Epoch 23/Step 460, Loss: -0.37739, Accuracy: 0.99948, F1: 0.7024, Prec: 0.5832, Rec: 0.8863, lr: 0.00030\n",
      "Epoch 23/Step 480, Loss: -0.38639, Accuracy: 0.99948, F1: 0.7028, Prec: 0.5837, Rec: 0.8864, lr: 0.00030\n",
      "Epoch 23/Step 500, Loss: -0.33091, Accuracy: 0.99948, F1: 0.7033, Prec: 0.5846, Rec: 0.8862, lr: 0.00030\n",
      "Epoch 23/Step 520, Loss: -0.34802, Accuracy: 0.99948, F1: 0.7032, Prec: 0.5844, Rec: 0.8862, lr: 0.00030\n",
      "Epoch 23/Step 540, Loss: -0.37134, Accuracy: 0.99948, F1: 0.7032, Prec: 0.5843, Rec: 0.8864, lr: 0.00030\n",
      "Epoch 23/Step 560, Loss: -0.36294, Accuracy: 0.99948, F1: 0.7031, Prec: 0.5840, Rec: 0.8868, lr: 0.00030\n",
      "Epoch 23/Step 580, Loss: -0.35613, Accuracy: 0.99948, F1: 0.7032, Prec: 0.5839, Rec: 0.8872, lr: 0.00030\n",
      "Epoch 23/Step 600, Loss: -0.33261, Accuracy: 0.99948, F1: 0.7033, Prec: 0.5839, Rec: 0.8874, lr: 0.00030\n",
      "Epoch 23/Step 620, Loss: -0.34557, Accuracy: 0.99948, F1: 0.7033, Prec: 0.5840, Rec: 0.8873, lr: 0.00030\n",
      "Epoch 23/Step 640, Loss: -0.36541, Accuracy: 0.99948, F1: 0.7033, Prec: 0.5840, Rec: 0.8873, lr: 0.00030\n",
      "Epoch 23/Step 660, Loss: -0.35885, Accuracy: 0.99948, F1: 0.7030, Prec: 0.5835, Rec: 0.8875, lr: 0.00030\n",
      "Epoch 23/Step 680, Loss: -0.36614, Accuracy: 0.99948, F1: 0.7030, Prec: 0.5834, Rec: 0.8878, lr: 0.00030\n",
      "Epoch 23/Step 700, Loss: -0.33688, Accuracy: 0.99948, F1: 0.7030, Prec: 0.5835, Rec: 0.8874, lr: 0.00030\n",
      "Epoch 23/Step 720, Loss: -0.31777, Accuracy: 0.99948, F1: 0.7031, Prec: 0.5838, Rec: 0.8871, lr: 0.00030\n",
      "Epoch 23/Step 740, Loss: -0.37065, Accuracy: 0.99948, F1: 0.7034, Prec: 0.5839, Rec: 0.8878, lr: 0.00030\n",
      "Epoch 23/Step 760, Loss: -0.37197, Accuracy: 0.99948, F1: 0.7033, Prec: 0.5837, Rec: 0.8879, lr: 0.00030\n",
      "Epoch 23/Step 780, Loss: -0.35837, Accuracy: 0.99948, F1: 0.7035, Prec: 0.5840, Rec: 0.8879, lr: 0.00030\n",
      "Epoch 23/Step 800, Loss: -0.36142, Accuracy: 0.99948, F1: 0.7035, Prec: 0.5839, Rec: 0.8878, lr: 0.00030\n",
      "Epoch 23/Step 820, Loss: -0.37298, Accuracy: 0.99948, F1: 0.7033, Prec: 0.5837, Rec: 0.8879, lr: 0.00030\n",
      "Epoch 23/Step 840, Loss: -0.34763, Accuracy: 0.99948, F1: 0.7032, Prec: 0.5835, Rec: 0.8880, lr: 0.00030\n",
      "Epoch 23/Step 860, Loss: -0.36587, Accuracy: 0.99948, F1: 0.7033, Prec: 0.5837, Rec: 0.8882, lr: 0.00030\n",
      "Epoch finished. Start validation\n",
      "Validation acc: 0.9994\n",
      "Validation f1: 0.6260\n",
      "Validation precision: 0.5163\n",
      "Validation recall: 0.7999\n",
      "WARNING:tensorflow:Compiled the loaded model, but the compiled metrics have yet to be built. `model.compile_metrics` will be empty until you train or evaluate the model.\n"
     ]
    },
    {
     "name": "stderr",
     "output_type": "stream",
     "text": [
      "WARNING:tensorflow:Compiled the loaded model, but the compiled metrics have yet to be built. `model.compile_metrics` will be empty until you train or evaluate the model.\n"
     ]
    },
    {
     "name": "stdout",
     "output_type": "stream",
     "text": [
      "INFO:tensorflow:Assets written to: /mnt/e/ML/cafa-5-protein-function-prediction/model_MFO_epoch_22_valF1Score0.6260/assets\n"
     ]
    },
    {
     "name": "stderr",
     "output_type": "stream",
     "text": [
      "INFO:tensorflow:Assets written to: /mnt/e/ML/cafa-5-protein-function-prediction/model_MFO_epoch_22_valF1Score0.6260/assets\n"
     ]
    },
    {
     "name": "stdout",
     "output_type": "stream",
     "text": [
      "\n",
      "Start of epoch 24\n",
      "Epoch 24/Step 0, Loss: -0.37352, Accuracy: 0.99958, F1: 0.7413, Prec: 0.6420, Rec: 0.8770, lr: 0.00030\n",
      "Epoch 24/Step 20, Loss: -0.34792, Accuracy: 0.99949, F1: 0.7066, Prec: 0.5884, Rec: 0.8870, lr: 0.00030\n",
      "Epoch 24/Step 40, Loss: -0.35815, Accuracy: 0.99949, F1: 0.7036, Prec: 0.5833, Rec: 0.8892, lr: 0.00030\n",
      "Epoch 24/Step 60, Loss: -0.36720, Accuracy: 0.99949, F1: 0.7040, Prec: 0.5843, Rec: 0.8884, lr: 0.00030\n",
      "Epoch 24/Step 80, Loss: -0.35408, Accuracy: 0.99948, F1: 0.7002, Prec: 0.5800, Rec: 0.8870, lr: 0.00030\n",
      "Epoch 24/Step 100, Loss: -0.35952, Accuracy: 0.99948, F1: 0.6990, Prec: 0.5788, Rec: 0.8862, lr: 0.00030\n",
      "Epoch 24/Step 120, Loss: -0.32806, Accuracy: 0.99947, F1: 0.6991, Prec: 0.5785, Rec: 0.8871, lr: 0.00030\n",
      "Epoch 24/Step 140, Loss: -0.34892, Accuracy: 0.99948, F1: 0.7005, Prec: 0.5798, Rec: 0.8883, lr: 0.00030\n",
      "Epoch 24/Step 160, Loss: -0.34211, Accuracy: 0.99947, F1: 0.7004, Prec: 0.5796, Rec: 0.8885, lr: 0.00030\n",
      "Epoch 24/Step 180, Loss: -0.36699, Accuracy: 0.99947, F1: 0.7016, Prec: 0.5807, Rec: 0.8899, lr: 0.00030\n",
      "Epoch 24/Step 200, Loss: -0.36921, Accuracy: 0.99947, F1: 0.7018, Prec: 0.5804, Rec: 0.8909, lr: 0.00030\n",
      "Epoch 24/Step 220, Loss: -0.35042, Accuracy: 0.99947, F1: 0.7030, Prec: 0.5826, Rec: 0.8898, lr: 0.00030\n",
      "Epoch 24/Step 240, Loss: -0.37346, Accuracy: 0.99948, F1: 0.7034, Prec: 0.5836, Rec: 0.8889, lr: 0.00030\n",
      "Epoch 24/Step 260, Loss: -0.35912, Accuracy: 0.99948, F1: 0.7041, Prec: 0.5841, Rec: 0.8897, lr: 0.00030\n",
      "Epoch 24/Step 280, Loss: -0.37230, Accuracy: 0.99947, F1: 0.7036, Prec: 0.5840, Rec: 0.8884, lr: 0.00030\n",
      "Epoch 24/Step 300, Loss: -0.36393, Accuracy: 0.99947, F1: 0.7036, Prec: 0.5841, Rec: 0.8879, lr: 0.00030\n",
      "Epoch 24/Step 320, Loss: -0.37101, Accuracy: 0.99947, F1: 0.7043, Prec: 0.5851, Rec: 0.8881, lr: 0.00030\n",
      "Epoch 24/Step 340, Loss: -0.38114, Accuracy: 0.99948, F1: 0.7050, Prec: 0.5857, Rec: 0.8888, lr: 0.00030\n",
      "Epoch 24/Step 360, Loss: -0.34886, Accuracy: 0.99948, F1: 0.7061, Prec: 0.5869, Rec: 0.8895, lr: 0.00030\n",
      "Epoch 24/Step 380, Loss: -0.38745, Accuracy: 0.99948, F1: 0.7062, Prec: 0.5870, Rec: 0.8896, lr: 0.00030\n",
      "Epoch 24/Step 400, Loss: -0.36122, Accuracy: 0.99948, F1: 0.7062, Prec: 0.5872, Rec: 0.8892, lr: 0.00030\n",
      "Epoch 24/Step 420, Loss: -0.35735, Accuracy: 0.99948, F1: 0.7065, Prec: 0.5875, Rec: 0.8894, lr: 0.00030\n",
      "Epoch 24/Step 440, Loss: -0.34811, Accuracy: 0.99948, F1: 0.7065, Prec: 0.5874, Rec: 0.8899, lr: 0.00030\n",
      "Epoch 24/Step 460, Loss: -0.37760, Accuracy: 0.99948, F1: 0.7064, Prec: 0.5873, Rec: 0.8897, lr: 0.00030\n",
      "Epoch 24/Step 480, Loss: -0.39077, Accuracy: 0.99948, F1: 0.7068, Prec: 0.5878, Rec: 0.8897, lr: 0.00030\n",
      "Epoch 24/Step 500, Loss: -0.33494, Accuracy: 0.99948, F1: 0.7074, Prec: 0.5888, Rec: 0.8894, lr: 0.00030\n",
      "Epoch 24/Step 520, Loss: -0.34570, Accuracy: 0.99948, F1: 0.7070, Prec: 0.5885, Rec: 0.8889, lr: 0.00030\n",
      "Epoch 24/Step 540, Loss: -0.36638, Accuracy: 0.99948, F1: 0.7070, Prec: 0.5884, Rec: 0.8890, lr: 0.00030\n",
      "Epoch 24/Step 560, Loss: -0.36314, Accuracy: 0.99948, F1: 0.7069, Prec: 0.5881, Rec: 0.8894, lr: 0.00030\n",
      "Epoch 24/Step 580, Loss: -0.35554, Accuracy: 0.99948, F1: 0.7070, Prec: 0.5881, Rec: 0.8897, lr: 0.00030\n",
      "Epoch 24/Step 600, Loss: -0.33510, Accuracy: 0.99948, F1: 0.7070, Prec: 0.5880, Rec: 0.8897, lr: 0.00030\n",
      "Epoch 24/Step 620, Loss: -0.35999, Accuracy: 0.99948, F1: 0.7071, Prec: 0.5882, Rec: 0.8896, lr: 0.00030\n",
      "Epoch 24/Step 640, Loss: -0.36891, Accuracy: 0.99948, F1: 0.7071, Prec: 0.5882, Rec: 0.8896, lr: 0.00030\n",
      "Epoch 24/Step 660, Loss: -0.35949, Accuracy: 0.99948, F1: 0.7068, Prec: 0.5877, Rec: 0.8897, lr: 0.00030\n",
      "Epoch 24/Step 680, Loss: -0.36667, Accuracy: 0.99948, F1: 0.7068, Prec: 0.5877, Rec: 0.8900, lr: 0.00030\n",
      "Epoch 24/Step 700, Loss: -0.34214, Accuracy: 0.99948, F1: 0.7068, Prec: 0.5878, Rec: 0.8897, lr: 0.00030\n",
      "Epoch 24/Step 720, Loss: -0.32145, Accuracy: 0.99948, F1: 0.7069, Prec: 0.5880, Rec: 0.8893, lr: 0.00030\n",
      "Epoch 24/Step 740, Loss: -0.37084, Accuracy: 0.99948, F1: 0.7072, Prec: 0.5882, Rec: 0.8900, lr: 0.00030\n",
      "Epoch 24/Step 760, Loss: -0.37584, Accuracy: 0.99948, F1: 0.7070, Prec: 0.5879, Rec: 0.8902, lr: 0.00030\n",
      "Epoch 24/Step 780, Loss: -0.36604, Accuracy: 0.99948, F1: 0.7073, Prec: 0.5882, Rec: 0.8901, lr: 0.00030\n",
      "Epoch 24/Step 800, Loss: -0.35834, Accuracy: 0.99948, F1: 0.7072, Prec: 0.5881, Rec: 0.8901, lr: 0.00030\n",
      "Epoch 24/Step 820, Loss: -0.37528, Accuracy: 0.99948, F1: 0.7070, Prec: 0.5878, Rec: 0.8901, lr: 0.00030\n",
      "Epoch 24/Step 840, Loss: -0.35080, Accuracy: 0.99948, F1: 0.7069, Prec: 0.5877, Rec: 0.8901, lr: 0.00030\n",
      "Epoch 24/Step 860, Loss: -0.36986, Accuracy: 0.99948, F1: 0.7070, Prec: 0.5878, Rec: 0.8903, lr: 0.00030\n",
      "Epoch finished. Start validation\n",
      "Validation acc: 0.9994\n",
      "Validation f1: 0.6273\n",
      "Validation precision: 0.5176\n",
      "Validation recall: 0.8009\n",
      "WARNING:tensorflow:Compiled the loaded model, but the compiled metrics have yet to be built. `model.compile_metrics` will be empty until you train or evaluate the model.\n"
     ]
    },
    {
     "name": "stderr",
     "output_type": "stream",
     "text": [
      "WARNING:tensorflow:Compiled the loaded model, but the compiled metrics have yet to be built. `model.compile_metrics` will be empty until you train or evaluate the model.\n"
     ]
    },
    {
     "name": "stdout",
     "output_type": "stream",
     "text": [
      "INFO:tensorflow:Assets written to: /mnt/e/ML/cafa-5-protein-function-prediction/model_MFO_epoch_23_valF1Score0.6273/assets\n"
     ]
    },
    {
     "name": "stderr",
     "output_type": "stream",
     "text": [
      "INFO:tensorflow:Assets written to: /mnt/e/ML/cafa-5-protein-function-prediction/model_MFO_epoch_23_valF1Score0.6273/assets\n"
     ]
    },
    {
     "name": "stdout",
     "output_type": "stream",
     "text": [
      "\n",
      "Start of epoch 25\n",
      "Epoch 25/Step 0, Loss: -0.37948, Accuracy: 0.99960, F1: 0.7572, Prec: 0.6499, Rec: 0.9069, lr: 0.00030\n",
      "Epoch 25/Step 20, Loss: -0.35120, Accuracy: 0.99949, F1: 0.7097, Prec: 0.5891, Rec: 0.8946, lr: 0.00030\n",
      "Epoch 25/Step 40, Loss: -0.36005, Accuracy: 0.99949, F1: 0.7070, Prec: 0.5850, Rec: 0.8955, lr: 0.00030\n",
      "Epoch 25/Step 60, Loss: -0.36658, Accuracy: 0.99949, F1: 0.7078, Prec: 0.5875, Rec: 0.8926, lr: 0.00030\n",
      "Epoch 25/Step 80, Loss: -0.35518, Accuracy: 0.99948, F1: 0.7041, Prec: 0.5834, Rec: 0.8915, lr: 0.00030\n",
      "Epoch 25/Step 100, Loss: -0.36041, Accuracy: 0.99949, F1: 0.7030, Prec: 0.5824, Rec: 0.8904, lr: 0.00030\n",
      "Epoch 25/Step 120, Loss: -0.32534, Accuracy: 0.99948, F1: 0.7030, Prec: 0.5822, Rec: 0.8911, lr: 0.00030\n",
      "Epoch 25/Step 140, Loss: -0.35080, Accuracy: 0.99948, F1: 0.7043, Prec: 0.5833, Rec: 0.8922, lr: 0.00030\n",
      "Epoch 25/Step 160, Loss: -0.35645, Accuracy: 0.99948, F1: 0.7041, Prec: 0.5834, Rec: 0.8918, lr: 0.00030\n",
      "Epoch 25/Step 180, Loss: -0.37051, Accuracy: 0.99948, F1: 0.7052, Prec: 0.5841, Rec: 0.8933, lr: 0.00030\n",
      "Epoch 25/Step 200, Loss: -0.37209, Accuracy: 0.99948, F1: 0.7050, Prec: 0.5837, Rec: 0.8936, lr: 0.00030\n",
      "Epoch 25/Step 220, Loss: -0.35789, Accuracy: 0.99948, F1: 0.7063, Prec: 0.5862, Rec: 0.8923, lr: 0.00030\n",
      "Epoch 25/Step 240, Loss: -0.37579, Accuracy: 0.99948, F1: 0.7067, Prec: 0.5872, Rec: 0.8911, lr: 0.00030\n",
      "Epoch 25/Step 260, Loss: -0.35823, Accuracy: 0.99948, F1: 0.7073, Prec: 0.5877, Rec: 0.8917, lr: 0.00030\n",
      "Epoch 25/Step 280, Loss: -0.38057, Accuracy: 0.99948, F1: 0.7066, Prec: 0.5873, Rec: 0.8903, lr: 0.00030\n",
      "Epoch 25/Step 300, Loss: -0.36912, Accuracy: 0.99948, F1: 0.7067, Prec: 0.5874, Rec: 0.8903, lr: 0.00030\n",
      "Epoch 25/Step 320, Loss: -0.37090, Accuracy: 0.99948, F1: 0.7073, Prec: 0.5883, Rec: 0.8903, lr: 0.00030\n",
      "Epoch 25/Step 340, Loss: -0.37991, Accuracy: 0.99948, F1: 0.7079, Prec: 0.5889, Rec: 0.8909, lr: 0.00030\n",
      "Epoch 25/Step 360, Loss: -0.34901, Accuracy: 0.99948, F1: 0.7090, Prec: 0.5900, Rec: 0.8915, lr: 0.00030\n",
      "Epoch 25/Step 380, Loss: -0.38642, Accuracy: 0.99948, F1: 0.7090, Prec: 0.5901, Rec: 0.8916, lr: 0.00030\n",
      "Epoch 25/Step 400, Loss: -0.36718, Accuracy: 0.99948, F1: 0.7091, Prec: 0.5903, Rec: 0.8912, lr: 0.00030\n",
      "Epoch 25/Step 420, Loss: -0.35410, Accuracy: 0.99948, F1: 0.7092, Prec: 0.5905, Rec: 0.8911, lr: 0.00030\n",
      "Epoch 25/Step 440, Loss: -0.34615, Accuracy: 0.99948, F1: 0.7092, Prec: 0.5904, Rec: 0.8912, lr: 0.00030\n",
      "Epoch 25/Step 460, Loss: -0.37679, Accuracy: 0.99948, F1: 0.7090, Prec: 0.5904, Rec: 0.8908, lr: 0.00030\n",
      "Epoch 25/Step 480, Loss: -0.39472, Accuracy: 0.99949, F1: 0.7096, Prec: 0.5910, Rec: 0.8912, lr: 0.00030\n",
      "Epoch 25/Step 500, Loss: -0.33429, Accuracy: 0.99949, F1: 0.7103, Prec: 0.5919, Rec: 0.8912, lr: 0.00030\n",
      "Epoch 25/Step 520, Loss: -0.34721, Accuracy: 0.99949, F1: 0.7099, Prec: 0.5916, Rec: 0.8909, lr: 0.00030\n",
      "Epoch 25/Step 540, Loss: -0.37453, Accuracy: 0.99949, F1: 0.7100, Prec: 0.5916, Rec: 0.8910, lr: 0.00030\n",
      "Epoch 25/Step 560, Loss: -0.36426, Accuracy: 0.99949, F1: 0.7099, Prec: 0.5913, Rec: 0.8916, lr: 0.00030\n",
      "Epoch 25/Step 580, Loss: -0.35962, Accuracy: 0.99949, F1: 0.7101, Prec: 0.5913, Rec: 0.8921, lr: 0.00030\n",
      "Epoch 25/Step 600, Loss: -0.33439, Accuracy: 0.99949, F1: 0.7101, Prec: 0.5912, Rec: 0.8922, lr: 0.00030\n",
      "Epoch 25/Step 620, Loss: -0.36739, Accuracy: 0.99949, F1: 0.7101, Prec: 0.5914, Rec: 0.8920, lr: 0.00030\n",
      "Epoch 25/Step 640, Loss: -0.37383, Accuracy: 0.99949, F1: 0.7102, Prec: 0.5914, Rec: 0.8922, lr: 0.00030\n",
      "Epoch 25/Step 660, Loss: -0.36035, Accuracy: 0.99949, F1: 0.7099, Prec: 0.5909, Rec: 0.8923, lr: 0.00030\n",
      "Epoch 25/Step 680, Loss: -0.36051, Accuracy: 0.99949, F1: 0.7099, Prec: 0.5908, Rec: 0.8924, lr: 0.00030\n",
      "Epoch 25/Step 700, Loss: -0.34513, Accuracy: 0.99949, F1: 0.7098, Prec: 0.5908, Rec: 0.8921, lr: 0.00030\n",
      "Epoch 25/Step 720, Loss: -0.32300, Accuracy: 0.99949, F1: 0.7099, Prec: 0.5911, Rec: 0.8918, lr: 0.00030\n",
      "Epoch 25/Step 740, Loss: -0.37127, Accuracy: 0.99949, F1: 0.7100, Prec: 0.5911, Rec: 0.8923, lr: 0.00030\n",
      "Epoch 25/Step 760, Loss: -0.37584, Accuracy: 0.99949, F1: 0.7099, Prec: 0.5908, Rec: 0.8924, lr: 0.00030\n",
      "Epoch 25/Step 780, Loss: -0.36905, Accuracy: 0.99949, F1: 0.7101, Prec: 0.5912, Rec: 0.8923, lr: 0.00030\n",
      "Epoch 25/Step 800, Loss: -0.36347, Accuracy: 0.99949, F1: 0.7100, Prec: 0.5910, Rec: 0.8923, lr: 0.00030\n",
      "Epoch 25/Step 820, Loss: -0.38026, Accuracy: 0.99949, F1: 0.7098, Prec: 0.5906, Rec: 0.8924, lr: 0.00030\n",
      "Epoch 25/Step 840, Loss: -0.34920, Accuracy: 0.99949, F1: 0.7096, Prec: 0.5905, Rec: 0.8922, lr: 0.00030\n",
      "Epoch 25/Step 860, Loss: -0.37280, Accuracy: 0.99949, F1: 0.7098, Prec: 0.5907, Rec: 0.8923, lr: 0.00030\n",
      "Epoch finished. Start validation\n",
      "Validation acc: 0.9994\n",
      "Validation f1: 0.6286\n",
      "Validation precision: 0.5204\n",
      "Validation recall: 0.7987\n",
      "WARNING:tensorflow:Compiled the loaded model, but the compiled metrics have yet to be built. `model.compile_metrics` will be empty until you train or evaluate the model.\n"
     ]
    },
    {
     "name": "stderr",
     "output_type": "stream",
     "text": [
      "WARNING:tensorflow:Compiled the loaded model, but the compiled metrics have yet to be built. `model.compile_metrics` will be empty until you train or evaluate the model.\n"
     ]
    },
    {
     "name": "stdout",
     "output_type": "stream",
     "text": [
      "INFO:tensorflow:Assets written to: /mnt/e/ML/cafa-5-protein-function-prediction/model_MFO_epoch_24_valF1Score0.6286/assets\n"
     ]
    },
    {
     "name": "stderr",
     "output_type": "stream",
     "text": [
      "INFO:tensorflow:Assets written to: /mnt/e/ML/cafa-5-protein-function-prediction/model_MFO_epoch_24_valF1Score0.6286/assets\n"
     ]
    },
    {
     "name": "stdout",
     "output_type": "stream",
     "text": [
      "\n",
      "Start of epoch 26\n",
      "Epoch 26/Step 0, Loss: -0.38249, Accuracy: 0.99960, F1: 0.7568, Prec: 0.6502, Rec: 0.9053, lr: 0.00030\n",
      "Epoch 26/Step 20, Loss: -0.35100, Accuracy: 0.99950, F1: 0.7114, Prec: 0.5917, Rec: 0.8942, lr: 0.00030\n",
      "Epoch 26/Step 40, Loss: -0.36371, Accuracy: 0.99950, F1: 0.7098, Prec: 0.5888, Rec: 0.8957, lr: 0.00030\n",
      "Epoch 26/Step 60, Loss: -0.36963, Accuracy: 0.99950, F1: 0.7108, Prec: 0.5911, Rec: 0.8937, lr: 0.00030\n",
      "Epoch 26/Step 80, Loss: -0.35712, Accuracy: 0.99949, F1: 0.7072, Prec: 0.5871, Rec: 0.8924, lr: 0.00030\n",
      "Epoch 26/Step 100, Loss: -0.36559, Accuracy: 0.99949, F1: 0.7067, Prec: 0.5866, Rec: 0.8922, lr: 0.00030\n",
      "Epoch 26/Step 120, Loss: -0.32713, Accuracy: 0.99948, F1: 0.7065, Prec: 0.5860, Rec: 0.8931, lr: 0.00030\n",
      "Epoch 26/Step 140, Loss: -0.34536, Accuracy: 0.99949, F1: 0.7077, Prec: 0.5870, Rec: 0.8943, lr: 0.00030\n",
      "Epoch 26/Step 160, Loss: -0.35443, Accuracy: 0.99948, F1: 0.7075, Prec: 0.5867, Rec: 0.8946, lr: 0.00030\n",
      "Epoch 26/Step 180, Loss: -0.37227, Accuracy: 0.99948, F1: 0.7087, Prec: 0.5877, Rec: 0.8958, lr: 0.00030\n",
      "Epoch 26/Step 200, Loss: -0.37327, Accuracy: 0.99948, F1: 0.7085, Prec: 0.5872, Rec: 0.8964, lr: 0.00030\n",
      "Epoch 26/Step 220, Loss: -0.36116, Accuracy: 0.99948, F1: 0.7098, Prec: 0.5895, Rec: 0.8954, lr: 0.00030\n",
      "Epoch 26/Step 240, Loss: -0.37800, Accuracy: 0.99949, F1: 0.7102, Prec: 0.5904, Rec: 0.8944, lr: 0.00030\n",
      "Epoch 26/Step 260, Loss: -0.36493, Accuracy: 0.99949, F1: 0.7109, Prec: 0.5911, Rec: 0.8951, lr: 0.00030\n",
      "Epoch 26/Step 280, Loss: -0.38318, Accuracy: 0.99949, F1: 0.7104, Prec: 0.5909, Rec: 0.8939, lr: 0.00030\n",
      "Epoch 26/Step 300, Loss: -0.37325, Accuracy: 0.99948, F1: 0.7101, Prec: 0.5907, Rec: 0.8934, lr: 0.00030\n",
      "Epoch 26/Step 320, Loss: -0.37038, Accuracy: 0.99948, F1: 0.7107, Prec: 0.5915, Rec: 0.8935, lr: 0.00030\n",
      "Epoch 26/Step 340, Loss: -0.37640, Accuracy: 0.99949, F1: 0.7112, Prec: 0.5920, Rec: 0.8939, lr: 0.00030\n",
      "Epoch 26/Step 360, Loss: -0.35378, Accuracy: 0.99949, F1: 0.7123, Prec: 0.5932, Rec: 0.8946, lr: 0.00030\n",
      "Epoch 26/Step 380, Loss: -0.38889, Accuracy: 0.99949, F1: 0.7124, Prec: 0.5933, Rec: 0.8946, lr: 0.00030\n",
      "Epoch 26/Step 400, Loss: -0.36877, Accuracy: 0.99949, F1: 0.7124, Prec: 0.5934, Rec: 0.8943, lr: 0.00030\n",
      "Epoch 26/Step 420, Loss: -0.35985, Accuracy: 0.99949, F1: 0.7127, Prec: 0.5938, Rec: 0.8946, lr: 0.00030\n",
      "Epoch 26/Step 440, Loss: -0.35400, Accuracy: 0.99949, F1: 0.7126, Prec: 0.5936, Rec: 0.8947, lr: 0.00030\n",
      "Epoch 26/Step 460, Loss: -0.38647, Accuracy: 0.99949, F1: 0.7125, Prec: 0.5935, Rec: 0.8946, lr: 0.00030\n",
      "Epoch 26/Step 480, Loss: -0.39735, Accuracy: 0.99949, F1: 0.7129, Prec: 0.5940, Rec: 0.8948, lr: 0.00030\n",
      "Epoch 26/Step 500, Loss: -0.33809, Accuracy: 0.99949, F1: 0.7134, Prec: 0.5948, Rec: 0.8943, lr: 0.00030\n",
      "Epoch 26/Step 520, Loss: -0.35409, Accuracy: 0.99949, F1: 0.7131, Prec: 0.5946, Rec: 0.8941, lr: 0.00030\n",
      "Epoch 26/Step 540, Loss: -0.37730, Accuracy: 0.99949, F1: 0.7131, Prec: 0.5945, Rec: 0.8942, lr: 0.00030\n",
      "Epoch 26/Step 560, Loss: -0.37174, Accuracy: 0.99949, F1: 0.7130, Prec: 0.5941, Rec: 0.8947, lr: 0.00030\n",
      "Epoch 26/Step 580, Loss: -0.36147, Accuracy: 0.99949, F1: 0.7131, Prec: 0.5941, Rec: 0.8951, lr: 0.00030\n",
      "Epoch 26/Step 600, Loss: -0.33758, Accuracy: 0.99949, F1: 0.7132, Prec: 0.5942, Rec: 0.8952, lr: 0.00030\n",
      "Epoch 26/Step 620, Loss: -0.37000, Accuracy: 0.99949, F1: 0.7133, Prec: 0.5943, Rec: 0.8950, lr: 0.00030\n",
      "Epoch 26/Step 640, Loss: -0.37670, Accuracy: 0.99949, F1: 0.7133, Prec: 0.5944, Rec: 0.8950, lr: 0.00030\n",
      "Epoch 26/Step 660, Loss: -0.35762, Accuracy: 0.99949, F1: 0.7130, Prec: 0.5940, Rec: 0.8952, lr: 0.00030\n",
      "Epoch 26/Step 680, Loss: -0.36930, Accuracy: 0.99949, F1: 0.7130, Prec: 0.5939, Rec: 0.8952, lr: 0.00030\n",
      "Epoch 26/Step 700, Loss: -0.34406, Accuracy: 0.99949, F1: 0.7129, Prec: 0.5939, Rec: 0.8949, lr: 0.00030\n",
      "Epoch 26/Step 720, Loss: -0.32288, Accuracy: 0.99949, F1: 0.7130, Prec: 0.5942, Rec: 0.8944, lr: 0.00030\n",
      "Epoch 26/Step 740, Loss: -0.37171, Accuracy: 0.99949, F1: 0.7132, Prec: 0.5942, Rec: 0.8950, lr: 0.00030\n",
      "Epoch 26/Step 760, Loss: -0.37632, Accuracy: 0.99949, F1: 0.7131, Prec: 0.5940, Rec: 0.8951, lr: 0.00030\n",
      "Epoch 26/Step 780, Loss: -0.37639, Accuracy: 0.99949, F1: 0.7133, Prec: 0.5944, Rec: 0.8950, lr: 0.00030\n",
      "Epoch 26/Step 800, Loss: -0.36923, Accuracy: 0.99949, F1: 0.7132, Prec: 0.5943, Rec: 0.8949, lr: 0.00030\n",
      "Epoch 26/Step 820, Loss: -0.38005, Accuracy: 0.99949, F1: 0.7130, Prec: 0.5939, Rec: 0.8950, lr: 0.00030\n",
      "Epoch 26/Step 840, Loss: -0.35594, Accuracy: 0.99949, F1: 0.7129, Prec: 0.5939, Rec: 0.8948, lr: 0.00030\n",
      "Epoch 26/Step 860, Loss: -0.37591, Accuracy: 0.99949, F1: 0.7131, Prec: 0.5941, Rec: 0.8950, lr: 0.00030\n",
      "Epoch finished. Start validation\n",
      "Validation acc: 0.9994\n",
      "Validation f1: 0.6299\n",
      "Validation precision: 0.5208\n",
      "Validation recall: 0.8016\n",
      "WARNING:tensorflow:Compiled the loaded model, but the compiled metrics have yet to be built. `model.compile_metrics` will be empty until you train or evaluate the model.\n"
     ]
    },
    {
     "name": "stderr",
     "output_type": "stream",
     "text": [
      "WARNING:tensorflow:Compiled the loaded model, but the compiled metrics have yet to be built. `model.compile_metrics` will be empty until you train or evaluate the model.\n"
     ]
    },
    {
     "name": "stdout",
     "output_type": "stream",
     "text": [
      "INFO:tensorflow:Assets written to: /mnt/e/ML/cafa-5-protein-function-prediction/model_MFO_epoch_25_valF1Score0.6299/assets\n"
     ]
    },
    {
     "name": "stderr",
     "output_type": "stream",
     "text": [
      "INFO:tensorflow:Assets written to: /mnt/e/ML/cafa-5-protein-function-prediction/model_MFO_epoch_25_valF1Score0.6299/assets\n"
     ]
    },
    {
     "name": "stdout",
     "output_type": "stream",
     "text": [
      "\n",
      "Start of epoch 27\n",
      "Epoch 27/Step 0, Loss: -0.38035, Accuracy: 0.99960, F1: 0.7617, Prec: 0.6603, Rec: 0.8998, lr: 0.00030\n",
      "Epoch 27/Step 20, Loss: -0.34904, Accuracy: 0.99950, F1: 0.7162, Prec: 0.5958, Rec: 0.8999, lr: 0.00030\n",
      "Epoch 27/Step 40, Loss: -0.36834, Accuracy: 0.99950, F1: 0.7133, Prec: 0.5917, Rec: 0.9000, lr: 0.00030\n",
      "Epoch 27/Step 60, Loss: -0.37287, Accuracy: 0.99950, F1: 0.7140, Prec: 0.5949, Rec: 0.8952, lr: 0.00030\n",
      "Epoch 27/Step 80, Loss: -0.35591, Accuracy: 0.99949, F1: 0.7099, Prec: 0.5902, Rec: 0.8936, lr: 0.00030\n",
      "Epoch 27/Step 100, Loss: -0.36889, Accuracy: 0.99949, F1: 0.7091, Prec: 0.5896, Rec: 0.8930, lr: 0.00030\n",
      "Epoch 27/Step 120, Loss: -0.32654, Accuracy: 0.99949, F1: 0.7094, Prec: 0.5899, Rec: 0.8930, lr: 0.00030\n",
      "Epoch 27/Step 140, Loss: -0.34718, Accuracy: 0.99949, F1: 0.7104, Prec: 0.5909, Rec: 0.8937, lr: 0.00030\n",
      "Epoch 27/Step 160, Loss: -0.36352, Accuracy: 0.99949, F1: 0.7101, Prec: 0.5907, Rec: 0.8937, lr: 0.00030\n",
      "Epoch 27/Step 180, Loss: -0.38183, Accuracy: 0.99949, F1: 0.7115, Prec: 0.5916, Rec: 0.8955, lr: 0.00030\n",
      "Epoch 27/Step 200, Loss: -0.37699, Accuracy: 0.99949, F1: 0.7114, Prec: 0.5910, Rec: 0.8966, lr: 0.00030\n",
      "Epoch 27/Step 220, Loss: -0.36282, Accuracy: 0.99949, F1: 0.7127, Prec: 0.5932, Rec: 0.8959, lr: 0.00030\n",
      "Epoch 27/Step 240, Loss: -0.37613, Accuracy: 0.99949, F1: 0.7131, Prec: 0.5943, Rec: 0.8948, lr: 0.00030\n",
      "Epoch 27/Step 260, Loss: -0.36349, Accuracy: 0.99949, F1: 0.7140, Prec: 0.5952, Rec: 0.8956, lr: 0.00030\n",
      "Epoch 27/Step 280, Loss: -0.37876, Accuracy: 0.99949, F1: 0.7134, Prec: 0.5950, Rec: 0.8941, lr: 0.00030\n",
      "Epoch 27/Step 300, Loss: -0.37040, Accuracy: 0.99949, F1: 0.7132, Prec: 0.5948, Rec: 0.8936, lr: 0.00030\n",
      "Epoch 27/Step 320, Loss: -0.37572, Accuracy: 0.99949, F1: 0.7138, Prec: 0.5957, Rec: 0.8934, lr: 0.00030\n",
      "Epoch 27/Step 340, Loss: -0.37948, Accuracy: 0.99949, F1: 0.7142, Prec: 0.5962, Rec: 0.8938, lr: 0.00030\n",
      "Epoch 27/Step 360, Loss: -0.35280, Accuracy: 0.99949, F1: 0.7154, Prec: 0.5974, Rec: 0.8947, lr: 0.00030\n",
      "Epoch 27/Step 380, Loss: -0.38741, Accuracy: 0.99949, F1: 0.7154, Prec: 0.5975, Rec: 0.8948, lr: 0.00030\n",
      "Epoch 27/Step 400, Loss: -0.37089, Accuracy: 0.99949, F1: 0.7155, Prec: 0.5977, Rec: 0.8944, lr: 0.00030\n",
      "Epoch 27/Step 420, Loss: -0.35962, Accuracy: 0.99949, F1: 0.7157, Prec: 0.5980, Rec: 0.8944, lr: 0.00030\n",
      "Epoch 27/Step 440, Loss: -0.35724, Accuracy: 0.99949, F1: 0.7158, Prec: 0.5979, Rec: 0.8948, lr: 0.00030\n",
      "Epoch 27/Step 460, Loss: -0.38650, Accuracy: 0.99949, F1: 0.7157, Prec: 0.5979, Rec: 0.8946, lr: 0.00030\n",
      "Epoch 27/Step 480, Loss: -0.40038, Accuracy: 0.99950, F1: 0.7163, Prec: 0.5985, Rec: 0.8950, lr: 0.00030\n",
      "Epoch 27/Step 500, Loss: -0.33867, Accuracy: 0.99950, F1: 0.7168, Prec: 0.5994, Rec: 0.8947, lr: 0.00030\n",
      "Epoch 27/Step 520, Loss: -0.35354, Accuracy: 0.99950, F1: 0.7165, Prec: 0.5991, Rec: 0.8946, lr: 0.00030\n",
      "Epoch 27/Step 540, Loss: -0.38012, Accuracy: 0.99949, F1: 0.7164, Prec: 0.5989, Rec: 0.8945, lr: 0.00030\n",
      "Epoch 27/Step 560, Loss: -0.37361, Accuracy: 0.99949, F1: 0.7163, Prec: 0.5986, Rec: 0.8949, lr: 0.00030\n",
      "Epoch 27/Step 580, Loss: -0.36089, Accuracy: 0.99949, F1: 0.7163, Prec: 0.5986, Rec: 0.8950, lr: 0.00030\n",
      "Epoch 27/Step 600, Loss: -0.34356, Accuracy: 0.99950, F1: 0.7164, Prec: 0.5986, Rec: 0.8951, lr: 0.00030\n",
      "Epoch 27/Step 620, Loss: -0.37137, Accuracy: 0.99950, F1: 0.7164, Prec: 0.5987, Rec: 0.8949, lr: 0.00030\n",
      "Epoch 27/Step 640, Loss: -0.36729, Accuracy: 0.99950, F1: 0.7164, Prec: 0.5987, Rec: 0.8949, lr: 0.00030\n",
      "Epoch 27/Step 660, Loss: -0.36037, Accuracy: 0.99950, F1: 0.7161, Prec: 0.5982, Rec: 0.8951, lr: 0.00030\n",
      "Epoch 27/Step 680, Loss: -0.36769, Accuracy: 0.99950, F1: 0.7161, Prec: 0.5981, Rec: 0.8953, lr: 0.00030\n",
      "Epoch 27/Step 700, Loss: -0.35203, Accuracy: 0.99950, F1: 0.7161, Prec: 0.5982, Rec: 0.8951, lr: 0.00030\n",
      "Epoch 27/Step 720, Loss: -0.32382, Accuracy: 0.99950, F1: 0.7161, Prec: 0.5985, Rec: 0.8947, lr: 0.00030\n",
      "Epoch 27/Step 740, Loss: -0.37680, Accuracy: 0.99950, F1: 0.7163, Prec: 0.5985, Rec: 0.8952, lr: 0.00030\n",
      "Epoch 27/Step 760, Loss: -0.37602, Accuracy: 0.99950, F1: 0.7162, Prec: 0.5983, Rec: 0.8952, lr: 0.00030\n",
      "Epoch 27/Step 780, Loss: -0.38083, Accuracy: 0.99950, F1: 0.7165, Prec: 0.5986, Rec: 0.8952, lr: 0.00030\n",
      "Epoch 27/Step 800, Loss: -0.36579, Accuracy: 0.99950, F1: 0.7163, Prec: 0.5985, Rec: 0.8951, lr: 0.00030\n",
      "Epoch 27/Step 820, Loss: -0.37949, Accuracy: 0.99950, F1: 0.7160, Prec: 0.5981, Rec: 0.8951, lr: 0.00030\n",
      "Epoch 27/Step 840, Loss: -0.35725, Accuracy: 0.99950, F1: 0.7159, Prec: 0.5980, Rec: 0.8950, lr: 0.00030\n",
      "Epoch 27/Step 860, Loss: -0.37643, Accuracy: 0.99950, F1: 0.7161, Prec: 0.5981, Rec: 0.8952, lr: 0.00030\n",
      "Epoch finished. Start validation\n",
      "Validation acc: 0.9994\n",
      "Validation f1: 0.6288\n",
      "Validation precision: 0.5191\n",
      "Validation recall: 0.8023\n",
      "WARNING:tensorflow:Compiled the loaded model, but the compiled metrics have yet to be built. `model.compile_metrics` will be empty until you train or evaluate the model.\n"
     ]
    },
    {
     "name": "stderr",
     "output_type": "stream",
     "text": [
      "WARNING:tensorflow:Compiled the loaded model, but the compiled metrics have yet to be built. `model.compile_metrics` will be empty until you train or evaluate the model.\n"
     ]
    },
    {
     "name": "stdout",
     "output_type": "stream",
     "text": [
      "INFO:tensorflow:Assets written to: /mnt/e/ML/cafa-5-protein-function-prediction/model_MFO_epoch_26_valF1Score0.6288/assets\n"
     ]
    },
    {
     "name": "stderr",
     "output_type": "stream",
     "text": [
      "INFO:tensorflow:Assets written to: /mnt/e/ML/cafa-5-protein-function-prediction/model_MFO_epoch_26_valF1Score0.6288/assets\n"
     ]
    },
    {
     "name": "stdout",
     "output_type": "stream",
     "text": [
      "\n",
      "Start of epoch 28\n",
      "Epoch 28/Step 0, Loss: -0.38606, Accuracy: 0.99961, F1: 0.7649, Prec: 0.6607, Rec: 0.9082, lr: 0.00030\n",
      "Epoch 28/Step 20, Loss: -0.35405, Accuracy: 0.99951, F1: 0.7183, Prec: 0.6009, Rec: 0.8952, lr: 0.00030\n",
      "Epoch 28/Step 40, Loss: -0.37305, Accuracy: 0.99951, F1: 0.7157, Prec: 0.5947, Rec: 0.9013, lr: 0.00030\n",
      "Epoch 28/Step 60, Loss: -0.37404, Accuracy: 0.99951, F1: 0.7172, Prec: 0.5978, Rec: 0.8990, lr: 0.00030\n",
      "Epoch 28/Step 80, Loss: -0.35722, Accuracy: 0.99950, F1: 0.7133, Prec: 0.5935, Rec: 0.8971, lr: 0.00030\n",
      "Epoch 28/Step 100, Loss: -0.37142, Accuracy: 0.99950, F1: 0.7126, Prec: 0.5929, Rec: 0.8962, lr: 0.00030\n",
      "Epoch 28/Step 120, Loss: -0.32713, Accuracy: 0.99949, F1: 0.7124, Prec: 0.5927, Rec: 0.8965, lr: 0.00030\n",
      "Epoch 28/Step 140, Loss: -0.34845, Accuracy: 0.99950, F1: 0.7135, Prec: 0.5937, Rec: 0.8972, lr: 0.00030\n",
      "Epoch 28/Step 160, Loss: -0.36166, Accuracy: 0.99949, F1: 0.7131, Prec: 0.5933, Rec: 0.8974, lr: 0.00030\n",
      "Epoch 28/Step 180, Loss: -0.37140, Accuracy: 0.99949, F1: 0.7144, Prec: 0.5943, Rec: 0.8988, lr: 0.00030\n",
      "Epoch 28/Step 200, Loss: -0.37387, Accuracy: 0.99949, F1: 0.7142, Prec: 0.5938, Rec: 0.8994, lr: 0.00030\n",
      "Epoch 28/Step 220, Loss: -0.36293, Accuracy: 0.99949, F1: 0.7158, Prec: 0.5963, Rec: 0.8988, lr: 0.00030\n",
      "Epoch 28/Step 240, Loss: -0.37930, Accuracy: 0.99949, F1: 0.7164, Prec: 0.5973, Rec: 0.8983, lr: 0.00030\n",
      "Epoch 28/Step 260, Loss: -0.36371, Accuracy: 0.99950, F1: 0.7170, Prec: 0.5979, Rec: 0.8991, lr: 0.00030\n",
      "Epoch 28/Step 280, Loss: -0.37975, Accuracy: 0.99949, F1: 0.7163, Prec: 0.5975, Rec: 0.8975, lr: 0.00030\n",
      "Epoch 28/Step 300, Loss: -0.37332, Accuracy: 0.99949, F1: 0.7162, Prec: 0.5975, Rec: 0.8971, lr: 0.00030\n",
      "Epoch 28/Step 320, Loss: -0.37742, Accuracy: 0.99949, F1: 0.7168, Prec: 0.5983, Rec: 0.8972, lr: 0.00030\n",
      "Epoch 28/Step 340, Loss: -0.38376, Accuracy: 0.99949, F1: 0.7171, Prec: 0.5987, Rec: 0.8976, lr: 0.00030\n",
      "Epoch 28/Step 360, Loss: -0.35906, Accuracy: 0.99950, F1: 0.7182, Prec: 0.5999, Rec: 0.8980, lr: 0.00030\n",
      "Epoch 28/Step 380, Loss: -0.38649, Accuracy: 0.99950, F1: 0.7183, Prec: 0.6001, Rec: 0.8980, lr: 0.00030\n",
      "Epoch 28/Step 400, Loss: -0.36818, Accuracy: 0.99950, F1: 0.7183, Prec: 0.6002, Rec: 0.8976, lr: 0.00030\n",
      "Epoch 28/Step 420, Loss: -0.36470, Accuracy: 0.99950, F1: 0.7185, Prec: 0.6004, Rec: 0.8978, lr: 0.00030\n",
      "Epoch 28/Step 440, Loss: -0.35895, Accuracy: 0.99950, F1: 0.7184, Prec: 0.6003, Rec: 0.8979, lr: 0.00030\n",
      "Epoch 28/Step 460, Loss: -0.38804, Accuracy: 0.99950, F1: 0.7184, Prec: 0.6002, Rec: 0.8979, lr: 0.00030\n",
      "Epoch 28/Step 480, Loss: -0.40187, Accuracy: 0.99950, F1: 0.7189, Prec: 0.6008, Rec: 0.8982, lr: 0.00030\n",
      "Epoch 28/Step 500, Loss: -0.34224, Accuracy: 0.99950, F1: 0.7194, Prec: 0.6017, Rec: 0.8978, lr: 0.00030\n",
      "Epoch 28/Step 520, Loss: -0.36063, Accuracy: 0.99950, F1: 0.7191, Prec: 0.6013, Rec: 0.8978, lr: 0.00030\n",
      "Epoch 28/Step 540, Loss: -0.38412, Accuracy: 0.99950, F1: 0.7191, Prec: 0.6013, Rec: 0.8978, lr: 0.00030\n",
      "Epoch 28/Step 560, Loss: -0.37163, Accuracy: 0.99950, F1: 0.7190, Prec: 0.6010, Rec: 0.8981, lr: 0.00030\n",
      "Epoch 28/Step 580, Loss: -0.36237, Accuracy: 0.99950, F1: 0.7191, Prec: 0.6010, Rec: 0.8984, lr: 0.00030\n",
      "Epoch 28/Step 600, Loss: -0.34051, Accuracy: 0.99950, F1: 0.7192, Prec: 0.6010, Rec: 0.8984, lr: 0.00030\n",
      "Epoch 28/Step 620, Loss: -0.37116, Accuracy: 0.99950, F1: 0.7192, Prec: 0.6011, Rec: 0.8982, lr: 0.00030\n",
      "Epoch 28/Step 640, Loss: -0.37230, Accuracy: 0.99950, F1: 0.7191, Prec: 0.6011, Rec: 0.8983, lr: 0.00030\n",
      "Epoch 28/Step 660, Loss: -0.36339, Accuracy: 0.99950, F1: 0.7188, Prec: 0.6006, Rec: 0.8983, lr: 0.00030\n",
      "Epoch 28/Step 680, Loss: -0.36572, Accuracy: 0.99950, F1: 0.7188, Prec: 0.6005, Rec: 0.8984, lr: 0.00030\n",
      "Epoch 28/Step 700, Loss: -0.35109, Accuracy: 0.99950, F1: 0.7188, Prec: 0.6005, Rec: 0.8982, lr: 0.00030\n",
      "Epoch 28/Step 720, Loss: -0.32839, Accuracy: 0.99950, F1: 0.7189, Prec: 0.6009, Rec: 0.8978, lr: 0.00030\n",
      "Epoch 28/Step 740, Loss: -0.37855, Accuracy: 0.99950, F1: 0.7191, Prec: 0.6009, Rec: 0.8984, lr: 0.00030\n",
      "Epoch 28/Step 760, Loss: -0.38090, Accuracy: 0.99950, F1: 0.7190, Prec: 0.6007, Rec: 0.8986, lr: 0.00030\n",
      "Epoch 28/Step 780, Loss: -0.37962, Accuracy: 0.99950, F1: 0.7192, Prec: 0.6010, Rec: 0.8985, lr: 0.00030\n",
      "Epoch 28/Step 800, Loss: -0.37366, Accuracy: 0.99950, F1: 0.7191, Prec: 0.6009, Rec: 0.8984, lr: 0.00030\n",
      "Epoch 28/Step 820, Loss: -0.38481, Accuracy: 0.99950, F1: 0.7189, Prec: 0.6005, Rec: 0.8985, lr: 0.00030\n",
      "Epoch 28/Step 840, Loss: -0.35502, Accuracy: 0.99950, F1: 0.7187, Prec: 0.6004, Rec: 0.8984, lr: 0.00030\n",
      "Epoch 28/Step 860, Loss: -0.37993, Accuracy: 0.99950, F1: 0.7188, Prec: 0.6005, Rec: 0.8986, lr: 0.00030\n",
      "Epoch finished. Start validation\n",
      "Validation acc: 0.9994\n",
      "Validation f1: 0.6324\n",
      "Validation precision: 0.5243\n",
      "Validation recall: 0.8014\n",
      "WARNING:tensorflow:Compiled the loaded model, but the compiled metrics have yet to be built. `model.compile_metrics` will be empty until you train or evaluate the model.\n"
     ]
    },
    {
     "name": "stderr",
     "output_type": "stream",
     "text": [
      "WARNING:tensorflow:Compiled the loaded model, but the compiled metrics have yet to be built. `model.compile_metrics` will be empty until you train or evaluate the model.\n"
     ]
    },
    {
     "name": "stdout",
     "output_type": "stream",
     "text": [
      "INFO:tensorflow:Assets written to: /mnt/e/ML/cafa-5-protein-function-prediction/model_MFO_epoch_27_valF1Score0.6324/assets\n"
     ]
    },
    {
     "name": "stderr",
     "output_type": "stream",
     "text": [
      "INFO:tensorflow:Assets written to: /mnt/e/ML/cafa-5-protein-function-prediction/model_MFO_epoch_27_valF1Score0.6324/assets\n"
     ]
    },
    {
     "name": "stdout",
     "output_type": "stream",
     "text": [
      "\n",
      "Start of epoch 29\n",
      "Epoch 29/Step 0, Loss: -0.38822, Accuracy: 0.99961, F1: 0.7701, Prec: 0.6668, Rec: 0.9112, lr: 0.00030\n",
      "Epoch 29/Step 20, Loss: -0.35754, Accuracy: 0.99951, F1: 0.7207, Prec: 0.6026, Rec: 0.8988, lr: 0.00030\n",
      "Epoch 29/Step 40, Loss: -0.37628, Accuracy: 0.99951, F1: 0.7179, Prec: 0.5973, Rec: 0.9022, lr: 0.00030\n",
      "Epoch 29/Step 60, Loss: -0.37482, Accuracy: 0.99951, F1: 0.7190, Prec: 0.5994, Rec: 0.9006, lr: 0.00030\n",
      "Epoch 29/Step 80, Loss: -0.35901, Accuracy: 0.99950, F1: 0.7149, Prec: 0.5948, Rec: 0.8991, lr: 0.00030\n",
      "Epoch 29/Step 100, Loss: -0.37189, Accuracy: 0.99950, F1: 0.7142, Prec: 0.5941, Rec: 0.8984, lr: 0.00030\n",
      "Epoch 29/Step 120, Loss: -0.32644, Accuracy: 0.99950, F1: 0.7146, Prec: 0.5943, Rec: 0.8992, lr: 0.00030\n",
      "Epoch 29/Step 140, Loss: -0.35113, Accuracy: 0.99950, F1: 0.7153, Prec: 0.5951, Rec: 0.8996, lr: 0.00030\n",
      "Epoch 29/Step 160, Loss: -0.36187, Accuracy: 0.99949, F1: 0.7152, Prec: 0.5949, Rec: 0.9001, lr: 0.00030\n",
      "Epoch 29/Step 180, Loss: -0.37993, Accuracy: 0.99949, F1: 0.7164, Prec: 0.5959, Rec: 0.9013, lr: 0.00030\n",
      "Epoch 29/Step 200, Loss: -0.37316, Accuracy: 0.99949, F1: 0.7161, Prec: 0.5953, Rec: 0.9015, lr: 0.00030\n",
      "Epoch 29/Step 220, Loss: -0.36062, Accuracy: 0.99950, F1: 0.7173, Prec: 0.5975, Rec: 0.9008, lr: 0.00030\n",
      "Epoch 29/Step 240, Loss: -0.38055, Accuracy: 0.99950, F1: 0.7178, Prec: 0.5986, Rec: 0.8996, lr: 0.00030\n",
      "Epoch 29/Step 260, Loss: -0.36613, Accuracy: 0.99950, F1: 0.7185, Prec: 0.5994, Rec: 0.9001, lr: 0.00030\n",
      "Epoch 29/Step 280, Loss: -0.38662, Accuracy: 0.99950, F1: 0.7178, Prec: 0.5989, Rec: 0.8987, lr: 0.00030\n",
      "Epoch 29/Step 300, Loss: -0.37814, Accuracy: 0.99949, F1: 0.7175, Prec: 0.5987, Rec: 0.8983, lr: 0.00030\n",
      "Epoch 29/Step 320, Loss: -0.37675, Accuracy: 0.99949, F1: 0.7182, Prec: 0.5996, Rec: 0.8985, lr: 0.00030\n",
      "Epoch 29/Step 340, Loss: -0.38300, Accuracy: 0.99950, F1: 0.7187, Prec: 0.6001, Rec: 0.8990, lr: 0.00030\n",
      "Epoch 29/Step 360, Loss: -0.36125, Accuracy: 0.99950, F1: 0.7197, Prec: 0.6012, Rec: 0.8997, lr: 0.00030\n",
      "Epoch 29/Step 380, Loss: -0.38772, Accuracy: 0.99950, F1: 0.7197, Prec: 0.6012, Rec: 0.8995, lr: 0.00030\n",
      "Epoch 29/Step 400, Loss: -0.37316, Accuracy: 0.99950, F1: 0.7198, Prec: 0.6015, Rec: 0.8992, lr: 0.00030\n",
      "Epoch 29/Step 420, Loss: -0.36447, Accuracy: 0.99950, F1: 0.7200, Prec: 0.6018, Rec: 0.8991, lr: 0.00030\n",
      "Epoch 29/Step 440, Loss: -0.36303, Accuracy: 0.99950, F1: 0.7201, Prec: 0.6018, Rec: 0.8994, lr: 0.00030\n",
      "Epoch 29/Step 460, Loss: -0.38749, Accuracy: 0.99950, F1: 0.7201, Prec: 0.6018, Rec: 0.8995, lr: 0.00030\n",
      "Epoch 29/Step 480, Loss: -0.39590, Accuracy: 0.99950, F1: 0.7206, Prec: 0.6023, Rec: 0.8998, lr: 0.00030\n",
      "Epoch 29/Step 500, Loss: -0.34144, Accuracy: 0.99950, F1: 0.7210, Prec: 0.6031, Rec: 0.8996, lr: 0.00030\n",
      "Epoch 29/Step 520, Loss: -0.36056, Accuracy: 0.99950, F1: 0.7208, Prec: 0.6027, Rec: 0.8996, lr: 0.00030\n",
      "Epoch 29/Step 540, Loss: -0.38159, Accuracy: 0.99950, F1: 0.7208, Prec: 0.6026, Rec: 0.8998, lr: 0.00030\n",
      "Epoch 29/Step 560, Loss: -0.37367, Accuracy: 0.99950, F1: 0.7207, Prec: 0.6023, Rec: 0.9002, lr: 0.00030\n",
      "Epoch 29/Step 580, Loss: -0.36411, Accuracy: 0.99950, F1: 0.7208, Prec: 0.6023, Rec: 0.9004, lr: 0.00030\n",
      "Epoch 29/Step 600, Loss: -0.34332, Accuracy: 0.99950, F1: 0.7208, Prec: 0.6023, Rec: 0.9005, lr: 0.00030\n",
      "Epoch 29/Step 620, Loss: -0.37317, Accuracy: 0.99950, F1: 0.7207, Prec: 0.6024, Rec: 0.9002, lr: 0.00030\n",
      "Epoch 29/Step 640, Loss: -0.36745, Accuracy: 0.99950, F1: 0.7207, Prec: 0.6023, Rec: 0.9001, lr: 0.00030\n",
      "Epoch 29/Step 660, Loss: -0.36520, Accuracy: 0.99950, F1: 0.7204, Prec: 0.6019, Rec: 0.9002, lr: 0.00030\n",
      "Epoch 29/Step 680, Loss: -0.36724, Accuracy: 0.99950, F1: 0.7204, Prec: 0.6018, Rec: 0.9003, lr: 0.00030\n",
      "Epoch 29/Step 700, Loss: -0.35073, Accuracy: 0.99950, F1: 0.7203, Prec: 0.6018, Rec: 0.9001, lr: 0.00030\n",
      "Epoch 29/Step 720, Loss: -0.33297, Accuracy: 0.99950, F1: 0.7204, Prec: 0.6021, Rec: 0.8997, lr: 0.00030\n",
      "Epoch 29/Step 740, Loss: -0.37714, Accuracy: 0.99950, F1: 0.7206, Prec: 0.6021, Rec: 0.9002, lr: 0.00030\n",
      "Epoch 29/Step 760, Loss: -0.37796, Accuracy: 0.99950, F1: 0.7205, Prec: 0.6019, Rec: 0.9003, lr: 0.00030\n",
      "Epoch 29/Step 780, Loss: -0.38288, Accuracy: 0.99950, F1: 0.7207, Prec: 0.6023, Rec: 0.9002, lr: 0.00030\n",
      "Epoch 29/Step 800, Loss: -0.37354, Accuracy: 0.99950, F1: 0.7206, Prec: 0.6022, Rec: 0.9001, lr: 0.00030\n",
      "Epoch 29/Step 820, Loss: -0.38757, Accuracy: 0.99950, F1: 0.7203, Prec: 0.6018, Rec: 0.9001, lr: 0.00030\n",
      "Epoch 29/Step 840, Loss: -0.35723, Accuracy: 0.99950, F1: 0.7202, Prec: 0.6017, Rec: 0.9000, lr: 0.00030\n",
      "Epoch 29/Step 860, Loss: -0.37587, Accuracy: 0.99950, F1: 0.7203, Prec: 0.6018, Rec: 0.9001, lr: 0.00030\n",
      "Epoch finished. Start validation\n",
      "Validation acc: 0.9994\n",
      "Validation f1: 0.6302\n",
      "Validation precision: 0.5226\n",
      "Validation recall: 0.7984\n",
      "WARNING:tensorflow:Compiled the loaded model, but the compiled metrics have yet to be built. `model.compile_metrics` will be empty until you train or evaluate the model.\n"
     ]
    },
    {
     "name": "stderr",
     "output_type": "stream",
     "text": [
      "WARNING:tensorflow:Compiled the loaded model, but the compiled metrics have yet to be built. `model.compile_metrics` will be empty until you train or evaluate the model.\n"
     ]
    },
    {
     "name": "stdout",
     "output_type": "stream",
     "text": [
      "INFO:tensorflow:Assets written to: /mnt/e/ML/cafa-5-protein-function-prediction/model_MFO_epoch_28_valF1Score0.6302/assets\n"
     ]
    },
    {
     "name": "stderr",
     "output_type": "stream",
     "text": [
      "INFO:tensorflow:Assets written to: /mnt/e/ML/cafa-5-protein-function-prediction/model_MFO_epoch_28_valF1Score0.6302/assets\n"
     ]
    },
    {
     "name": "stdout",
     "output_type": "stream",
     "text": [
      "\n",
      "Start of epoch 30\n",
      "Epoch 30/Step 0, Loss: -0.38699, Accuracy: 0.99961, F1: 0.7652, Prec: 0.6611, Rec: 0.9083, lr: 0.00030\n",
      "Epoch 30/Step 20, Loss: -0.35987, Accuracy: 0.99951, F1: 0.7215, Prec: 0.6025, Rec: 0.9015, lr: 0.00030\n",
      "Epoch 30/Step 40, Loss: -0.37723, Accuracy: 0.99951, F1: 0.7194, Prec: 0.5986, Rec: 0.9036, lr: 0.00030\n",
      "Epoch 30/Step 60, Loss: -0.37407, Accuracy: 0.99951, F1: 0.7207, Prec: 0.6012, Rec: 0.9017, lr: 0.00030\n",
      "Epoch 30/Step 80, Loss: -0.35790, Accuracy: 0.99950, F1: 0.7171, Prec: 0.5968, Rec: 0.9012, lr: 0.00030\n",
      "Epoch 30/Step 100, Loss: -0.37553, Accuracy: 0.99950, F1: 0.7165, Prec: 0.5963, Rec: 0.9006, lr: 0.00030\n",
      "Epoch 30/Step 120, Loss: -0.32805, Accuracy: 0.99950, F1: 0.7165, Prec: 0.5963, Rec: 0.9004, lr: 0.00030\n",
      "Epoch 30/Step 140, Loss: -0.35145, Accuracy: 0.99950, F1: 0.7173, Prec: 0.5973, Rec: 0.9008, lr: 0.00030\n",
      "Epoch 30/Step 160, Loss: -0.36288, Accuracy: 0.99950, F1: 0.7172, Prec: 0.5970, Rec: 0.9016, lr: 0.00030\n",
      "Epoch 30/Step 180, Loss: -0.38134, Accuracy: 0.99950, F1: 0.7184, Prec: 0.5978, Rec: 0.9034, lr: 0.00030\n",
      "Epoch 30/Step 200, Loss: -0.37711, Accuracy: 0.99950, F1: 0.7181, Prec: 0.5971, Rec: 0.9038, lr: 0.00030\n",
      "Epoch 30/Step 220, Loss: -0.36435, Accuracy: 0.99950, F1: 0.7194, Prec: 0.5995, Rec: 0.9029, lr: 0.00030\n",
      "Epoch 30/Step 240, Loss: -0.37885, Accuracy: 0.99950, F1: 0.7201, Prec: 0.6007, Rec: 0.9023, lr: 0.00030\n",
      "Epoch 30/Step 260, Loss: -0.36858, Accuracy: 0.99950, F1: 0.7208, Prec: 0.6015, Rec: 0.9026, lr: 0.00030\n",
      "Epoch 30/Step 280, Loss: -0.38893, Accuracy: 0.99950, F1: 0.7200, Prec: 0.6011, Rec: 0.9011, lr: 0.00030\n",
      "Epoch 30/Step 300, Loss: -0.37829, Accuracy: 0.99950, F1: 0.7200, Prec: 0.6010, Rec: 0.9009, lr: 0.00030\n",
      "Epoch 30/Step 320, Loss: -0.37927, Accuracy: 0.99950, F1: 0.7208, Prec: 0.6019, Rec: 0.9014, lr: 0.00030\n",
      "Epoch 30/Step 340, Loss: -0.38727, Accuracy: 0.99950, F1: 0.7212, Prec: 0.6023, Rec: 0.9018, lr: 0.00030\n",
      "Epoch 30/Step 360, Loss: -0.36251, Accuracy: 0.99950, F1: 0.7223, Prec: 0.6035, Rec: 0.9024, lr: 0.00030\n",
      "Epoch 30/Step 380, Loss: -0.38241, Accuracy: 0.99950, F1: 0.7221, Prec: 0.6034, Rec: 0.9022, lr: 0.00030\n",
      "Epoch 30/Step 400, Loss: -0.37685, Accuracy: 0.99950, F1: 0.7222, Prec: 0.6036, Rec: 0.9020, lr: 0.00030\n",
      "Epoch 30/Step 420, Loss: -0.36707, Accuracy: 0.99950, F1: 0.7224, Prec: 0.6038, Rec: 0.9019, lr: 0.00030\n",
      "Epoch 30/Step 440, Loss: -0.36677, Accuracy: 0.99950, F1: 0.7224, Prec: 0.6037, Rec: 0.9022, lr: 0.00030\n",
      "Epoch 30/Step 460, Loss: -0.39164, Accuracy: 0.99950, F1: 0.7224, Prec: 0.6037, Rec: 0.9022, lr: 0.00030\n",
      "Epoch 30/Step 480, Loss: -0.40020, Accuracy: 0.99951, F1: 0.7229, Prec: 0.6044, Rec: 0.9026, lr: 0.00030\n",
      "Epoch 30/Step 500, Loss: -0.34083, Accuracy: 0.99951, F1: 0.7234, Prec: 0.6052, Rec: 0.9023, lr: 0.00030\n",
      "Epoch 30/Step 520, Loss: -0.36202, Accuracy: 0.99951, F1: 0.7231, Prec: 0.6048, Rec: 0.9021, lr: 0.00030\n",
      "Epoch 30/Step 540, Loss: -0.38179, Accuracy: 0.99951, F1: 0.7231, Prec: 0.6047, Rec: 0.9022, lr: 0.00030\n",
      "Epoch 30/Step 560, Loss: -0.37736, Accuracy: 0.99951, F1: 0.7230, Prec: 0.6044, Rec: 0.9025, lr: 0.00030\n",
      "Epoch 30/Step 580, Loss: -0.36904, Accuracy: 0.99951, F1: 0.7231, Prec: 0.6045, Rec: 0.9027, lr: 0.00030\n",
      "Epoch 30/Step 600, Loss: -0.34583, Accuracy: 0.99951, F1: 0.7230, Prec: 0.6044, Rec: 0.9026, lr: 0.00030\n",
      "Epoch 30/Step 620, Loss: -0.36954, Accuracy: 0.99951, F1: 0.7230, Prec: 0.6044, Rec: 0.9024, lr: 0.00030\n",
      "Epoch 30/Step 640, Loss: -0.37688, Accuracy: 0.99951, F1: 0.7230, Prec: 0.6044, Rec: 0.9026, lr: 0.00030\n",
      "Epoch 30/Step 660, Loss: -0.37041, Accuracy: 0.99951, F1: 0.7228, Prec: 0.6040, Rec: 0.9028, lr: 0.00030\n",
      "Epoch 30/Step 680, Loss: -0.37097, Accuracy: 0.99951, F1: 0.7227, Prec: 0.6040, Rec: 0.9028, lr: 0.00030\n",
      "Epoch 30/Step 700, Loss: -0.34737, Accuracy: 0.99951, F1: 0.7227, Prec: 0.6040, Rec: 0.9025, lr: 0.00030\n",
      "Epoch 30/Step 720, Loss: -0.33941, Accuracy: 0.99951, F1: 0.7228, Prec: 0.6043, Rec: 0.9021, lr: 0.00030\n",
      "Epoch 30/Step 740, Loss: -0.37536, Accuracy: 0.99951, F1: 0.7230, Prec: 0.6043, Rec: 0.9026, lr: 0.00030\n",
      "Epoch 30/Step 760, Loss: -0.37565, Accuracy: 0.99951, F1: 0.7229, Prec: 0.6042, Rec: 0.9026, lr: 0.00030\n",
      "Epoch 30/Step 780, Loss: -0.38307, Accuracy: 0.99951, F1: 0.7231, Prec: 0.6045, Rec: 0.9026, lr: 0.00030\n",
      "Epoch 30/Step 800, Loss: -0.37615, Accuracy: 0.99951, F1: 0.7230, Prec: 0.6043, Rec: 0.9026, lr: 0.00030\n",
      "Epoch 30/Step 820, Loss: -0.38574, Accuracy: 0.99951, F1: 0.7228, Prec: 0.6040, Rec: 0.9027, lr: 0.00030\n",
      "Epoch 30/Step 840, Loss: -0.36033, Accuracy: 0.99951, F1: 0.7227, Prec: 0.6039, Rec: 0.9027, lr: 0.00030\n",
      "Epoch 30/Step 860, Loss: -0.37771, Accuracy: 0.99951, F1: 0.7228, Prec: 0.6040, Rec: 0.9028, lr: 0.00030\n",
      "Epoch finished. Start validation\n",
      "Validation acc: 0.9994\n",
      "Validation f1: 0.6312\n",
      "Validation precision: 0.5234\n",
      "Validation recall: 0.7998\n",
      "WARNING:tensorflow:Compiled the loaded model, but the compiled metrics have yet to be built. `model.compile_metrics` will be empty until you train or evaluate the model.\n"
     ]
    },
    {
     "name": "stderr",
     "output_type": "stream",
     "text": [
      "WARNING:tensorflow:Compiled the loaded model, but the compiled metrics have yet to be built. `model.compile_metrics` will be empty until you train or evaluate the model.\n"
     ]
    },
    {
     "name": "stdout",
     "output_type": "stream",
     "text": [
      "INFO:tensorflow:Assets written to: /mnt/e/ML/cafa-5-protein-function-prediction/model_MFO_epoch_29_valF1Score0.6312/assets\n"
     ]
    },
    {
     "name": "stderr",
     "output_type": "stream",
     "text": [
      "INFO:tensorflow:Assets written to: /mnt/e/ML/cafa-5-protein-function-prediction/model_MFO_epoch_29_valF1Score0.6312/assets\n"
     ]
    }
   ],
   "source": [
    "\n",
    "BATCH_SIZE=64\n",
    "LOG_INTERVAL=20\n",
    "epochs = 100\n",
    "saveModel=True\n",
    "\n",
    "\n",
    "log_dir = \"./logs/\"+model.name+\"/\" + datetime.datetime.now().strftime(\"%Y%m%d-%H%M%S\")+\"_\"+SO\n",
    "tensorboard_callback = tf.keras.callbacks.TensorBoard(log_dir=log_dir, histogram_freq=1,\n",
    "                                                      write_graph=True, update_freq=5)\n",
    "\n",
    "\n",
    "summary_writer = tf.summary.create_file_writer(log_dir)\n",
    "\n",
    "# Instantiate an optimizer .\n",
    "# optimizer = tf.keras.optimizers.SGD(learning_rate=lr_schedule)\n",
    "# optimizer = tf.keras.optimizers.SGD(learning_rate=1e-3)\n",
    "optimizer = tf.keras.optimizers.AdamW(learning_rate=3e-4)\n",
    "\n",
    "# Instantiate a loss function.\n",
    "# loss_fn = tf.keras.losses.BinaryCrossentropy()\n",
    "# loss_fn = WeightedBinaryCE(np.ones(len(mlb.classes_)))\n",
    "# loss_fn = WeightedBinaryCE(labelWeightsCorr)\n",
    "# loss_fn = WeightedComboLoss(labelWeightsCorr, alpha=0.5, beta=0.5, labelSmoothing=0.05)\n",
    "loss_fn = WeightedComboLoss(labelWeightsCorr/np.max(labelWeightsCorr)+occurenceScores, alpha=0.5, beta=0.5, labelSmoothing=0.1)\n",
    "# loss_fn = tf.keras.losses.BinaryFocalCrossentropy(apply_class_balancing=True, gamma=2)\n",
    "\n",
    "train_acc_metric = WeightedAccuracy(classWeights=labelWeightsCorr)\n",
    "train_f1_metric = WeightedF1(classWeights=labelWeightsCorr, threshold=0.5)\n",
    "train_prec = WeightedPrecision(classWeights=labelWeightsCorr)\n",
    "train_rec = WeightedRecall(classWeights=labelWeightsCorr)\n",
    "\n",
    "val_acc_metric = WeightedAccuracy(classWeights=labelWeightsCorr)\n",
    "val_f1_metric = WeightedF1(classWeights=labelWeightsCorr, threshold=0.5)\n",
    "val_prec = WeightedPrecision(classWeights=labelWeightsCorr)\n",
    "val_rec = WeightedRecall(classWeights=labelWeightsCorr)\n",
    "\n",
    "batchedDataset = dataset.batch(BATCH_SIZE, drop_remainder=False).prefetch(tf.data.AUTOTUNE)\n",
    "batchedDatasetVal = datasetVal.batch(BATCH_SIZE, drop_remainder=False).prefetch(tf.data.AUTOTUNE)\n",
    "\n",
    "# batchedDataset = batchedDataset.cache(os.path.join(DATA_PATH, \"datasetCache\"+SO))\n",
    "# batchedDatasetVal = batchedDatasetVal.cache(os.path.join(DATA_PATH, \"datasetCacheVal\"+SO))\n",
    "\n",
    "@tf.function()\n",
    "def trainStep(x_batch_train, y_batch_train):\n",
    "    with tf.GradientTape() as tape:\n",
    "        probs = model(x_batch_train, training=True) \n",
    "\n",
    "        #Add all ancestor GOs based on the predictions\n",
    "        # probsNew = tf.TensorArray(tf.float32, size=probs.shape[0])\n",
    "        # for probsIdx in range(probs.shape[0]):\n",
    "        #     predictedIdx = tf.where(tf.math.greater(probs[probsIdx], 0.5))\n",
    "        #     predictedProbs = tf.gather_nd(probs[probsIdx], predictedIdx)\n",
    "        #     # print(predictedIdx.numpy(), predictedProbs.numpy())\n",
    "        #     vectToAdd = tf.TensorArray(tf.float32, size=predictedIdx.shape[0])\n",
    "        #     for addingIdx, predIdx in enumerate(predictedIdx):\n",
    "        #         ancestorsArr = ancestorDict[goIdxTensors[predIdx.numpy()[0]].ref()]\n",
    "        #         vectToAdd.write(addingIdx, tf.math.multiply(tf.cast(ancestorsArr, tf.float32), predictedProbs[addingIdx])).mark_used()\n",
    "        #     vectToAddTensors = vectToAdd.stack()\n",
    "            # print(vectToAddTensors.numpy())\n",
    "            # probsNew.write(probsIdx, tf.math.reduce_max(vectToAddTensors,axis=0)).mark_used()\n",
    "        # probsNewTensor = probsNew.stack()\n",
    "        \n",
    "        loss_value = loss_fn(y_batch_train, probs)\n",
    "\n",
    "    grads = tape.gradient(loss_value, model.trainable_weights)\n",
    "\n",
    "    #Gradient clipping\n",
    "    # grads = [tf.clip_by_norm(g, 2.0) for g in grads]\n",
    "\n",
    "    train_acc_metric.update_state(y_batch_train, probs)\n",
    "    train_f1_metric.update_state(y_batch_train, probs)\n",
    "    train_prec.update_state(y_batch_train, probs)\n",
    "    train_rec.update_state(y_batch_train, probs)\n",
    "\n",
    "    optimizer.apply_gradients(zip(grads, model.trainable_weights)) \n",
    "    return loss_value\n",
    "\n",
    "@tf.function()\n",
    "def valStep(x_batch_val, y_batch_val):\n",
    "    valProbs = model(x_batch_val, training=False)\n",
    "    # Update val metrics\n",
    "    val_acc_metric.update_state(y_batch_val, valProbs)\n",
    "    val_f1_metric.update_state(y_batch_val, valProbs)\n",
    "    val_prec.update_state(y_batch_val, valProbs)\n",
    "    val_rec.update_state(y_batch_val, valProbs)\n",
    "\n",
    "maxStep=0\n",
    "\n",
    "for epoch in range(epochs):\n",
    "    print(\"\\nStart of epoch %d\" % (epoch+1,))\n",
    "\n",
    "    # Iterate over the batches of the dataset.\n",
    "    for step, (x_batch_trainPC, x_batch_trainIP, x_batch_trainKmer, x_batch_trainT5, y_batch_train) in enumerate(batchedDataset):\n",
    "        loss_value =trainStep((x_batch_trainPC, x_batch_trainIP, x_batch_trainKmer, x_batch_trainT5),y_batch_train)\n",
    "\n",
    "        # Log \n",
    "        if step % LOG_INTERVAL == 0:\n",
    "            template = 'Epoch {}/Step {}, Loss: {:.5f}, Accuracy: {:.5f}, F1: {:.4f}, Prec: {:.4f}, Rec: {:.4f}, lr: {:.5f}'\n",
    "            print(template.format(epoch+1, step,loss_value.numpy(), \n",
    "                                    train_acc_metric.result(),train_f1_metric.result(),\n",
    "                                    train_prec.result(), train_rec.result(), optimizer.learning_rate.numpy()))\n",
    "            \n",
    "            with summary_writer.as_default():\n",
    "                tf.summary.scalar('loss', loss_value, step=maxStep*epoch+step)\n",
    "                tf.summary.scalar('accuracy', train_acc_metric.result(), step=maxStep*epoch+step)\n",
    "                tf.summary.scalar('f1', train_f1_metric.result(), step=maxStep*epoch+step)\n",
    "                tf.summary.scalar('prec', train_prec.result(), step=maxStep*epoch+step)\n",
    "                tf.summary.scalar('rec', train_rec.result(), step=maxStep*epoch+step)\n",
    "                tf.summary.scalar('learning rate', optimizer.learning_rate.numpy(), step=maxStep*epoch+step)\n",
    "                summary_writer.flush()\n",
    "\n",
    "    \n",
    "    train_acc_metric.reset_states()\n",
    "    train_f1_metric.reset_states()\n",
    "    train_prec.reset_states()\n",
    "    train_rec.reset_states()\n",
    "\n",
    "    maxStep=step\n",
    "\n",
    "    print(\"Epoch finished. Start validation\")\n",
    "    for x_batch_valPC, x_batch_valIP, x_batch_valKmer, x_batchVal_trainT5, y_batch_val in batchedDatasetVal:\n",
    "        valStep((x_batch_valPC, x_batch_valIP, x_batch_valKmer, x_batchVal_trainT5), y_batch_val)\n",
    "    val_acc = val_acc_metric.result()\n",
    "    val_acc_metric.reset_states()\n",
    "    val_f1 = val_f1_metric.result()\n",
    "    val_f1_metric.reset_states()\n",
    "    val_precision = val_prec.result()\n",
    "    val_prec.reset_states()\n",
    "    val_recall = val_rec.result()\n",
    "    val_rec.reset_states()\n",
    "    print(\"Validation acc: %.4f\" % (float(val_acc),))\n",
    "    print(\"Validation f1: %.4f\" % (float(val_f1),))\n",
    "    print(\"Validation precision: %.4f\" % (float(val_precision),))\n",
    "    print(\"Validation recall: %.4f\" % (float(val_recall),))\n",
    "    with summary_writer.as_default():\n",
    "        tf.summary.scalar('valAcc', float(val_acc), step=epoch)\n",
    "        tf.summary.scalar('valF1', float(val_f1), step=epoch)\n",
    "        tf.summary.scalar('valPrecision', float(val_precision), step=epoch)\n",
    "        tf.summary.scalar('valRecall', float(val_recall), step=epoch)\n",
    "        summary_writer.flush()\n",
    "    if saveModel:\n",
    "      model.save(os.path.join(DATA_PATH, \"model_\"+SO+\"_epoch_{}_valF1Score{:.4f}\".format(epoch, float(val_f1))))\n",
    "\n"
   ]
  },
  {
   "cell_type": "code",
   "execution_count": null,
   "id": "374f7234",
   "metadata": {},
   "outputs": [],
   "source": [
    "\n",
    "# model.save(os.path.join(DATA_PATH, \"model_\"+SO+\"_epoch_{}_valf1Score{:.3f}\".format(epoch, float(val_f1))))"
   ]
  },
  {
   "cell_type": "markdown",
   "id": "e389b420",
   "metadata": {},
   "source": [
    "## Error analysis"
   ]
  },
  {
   "cell_type": "markdown",
   "id": "a64376b1",
   "metadata": {},
   "source": [
    "Which GO classes are most misclassified? Is it correlated with the class imbalance?"
   ]
  },
  {
   "cell_type": "code",
   "execution_count": 38,
   "id": "9271f722",
   "metadata": {},
   "outputs": [],
   "source": [
    "layerGOs={}\n",
    "for layer, nodes in enumerate(networkx.topological_generations(graph)):\n",
    "    # layerGOs[layer] = nodes\n",
    "    for n in nodes:\n",
    "        layerGOs[n] = layer\n"
   ]
  },
  {
   "cell_type": "code",
   "execution_count": 100,
   "id": "cefc1f6a",
   "metadata": {},
   "outputs": [
    {
     "name": "stderr",
     "output_type": "stream",
     "text": [
      "101it [01:07,  1.49it/s]\n"
     ]
    }
   ],
   "source": [
    "\n",
    "\n",
    "tp=[]\n",
    "fp=[]\n",
    "fn=[]\n",
    "\n",
    "predictionArr=[]\n",
    "trueClassesArr=[]\n",
    "\n",
    "for i, (xPC, xIP, xKmer,xt5, y) in enumerate(tqdm(batchedDatasetVal)):\n",
    "    probsArr = model((xPC, xIP, xKmer, xt5), training=False)\n",
    "    for idxProbs, probs in enumerate(probsArr):\n",
    "        probs = probs.numpy()\n",
    "        prediction= [1 if p > 0.5 else 0 for p in probs]\n",
    "        predictionArr.append(probs)\n",
    "        trueClassesArr.append(y[idxProbs,:])\n",
    "        predClasses = mlb.inverse_transform(np.array([prediction]))[0]\n",
    "        trueClasses = mlb.inverse_transform(np.array([y[idxProbs,:]]))[0]\n",
    "        for pred in predClasses:\n",
    "            if pred in trueClasses:\n",
    "                tp.append(pred)\n",
    "            else:\n",
    "                fp.append(pred)\n",
    "        for trueClass in trueClasses:\n",
    "            if not trueClass in predClasses:\n",
    "                fn.append(trueClass)\n",
    "    \n",
    "    if i>100:\n",
    "        break\n",
    "\n",
    "tpValues, tpCounts = np.unique(tp, return_counts=True)\n",
    "fpValues, fpCounts = np.unique(fp, return_counts=True)\n",
    "fnValues, fnCounts = np.unique(fn, return_counts=True)\n",
    "    "
   ]
  },
  {
   "cell_type": "markdown",
   "id": "153b30cc",
   "metadata": {},
   "source": [
    "### Find best threshold for f1 score"
   ]
  },
  {
   "cell_type": "code",
   "execution_count": 101,
   "id": "7e3cec89",
   "metadata": {},
   "outputs": [
    {
     "name": "stdout",
     "output_type": "stream",
     "text": [
      "(6528, 2055)\n",
      "(6528, 2055)\n",
      "[0.01 0.04 0.07 0.1  0.13 0.16 0.19 0.22 0.25 0.28 0.31 0.34 0.37 0.4\n",
      " 0.43 0.46 0.49 0.52 0.55 0.58 0.61 0.64 0.67 0.7  0.73 0.76 0.79 0.82\n",
      " 0.85 0.88 0.91 0.94 0.97]\n"
     ]
    }
   ],
   "source": [
    "predictionArr=np.array(predictionArr)\n",
    "trueClassesArr=np.array(trueClassesArr)\n",
    "print(trueClassesArr.shape)\n",
    "print(predictionArr.shape)\n",
    "\n",
    "\n",
    "thresholds=np.arange(0.01, 0.99, 0.02)\n",
    "print(thresholds)\n",
    "f1Values=[]\n",
    "\n",
    "for t in thresholds:\n",
    "    f1ThreshTest = WeightedF1(classWeights=labelWeightsCorr, threshold=t)\n",
    "    f1ThreshTest.update_state(trueClassesArr, predictionArr)\n",
    "    f1Value = f1ThreshTest.result()\n",
    "    f1Values.append(f1Value.numpy())\n"
   ]
  },
  {
   "cell_type": "code",
   "execution_count": 102,
   "id": "cec0e46c",
   "metadata": {},
   "outputs": [
    {
     "name": "stdout",
     "output_type": "stream",
     "text": [
      "Best Threshold:  0.01\n"
     ]
    },
    {
     "data": {
      "text/plain": [
       "[<matplotlib.lines.Line2D at 0x7f2001ee2310>]"
      ]
     },
     "execution_count": 102,
     "metadata": {},
     "output_type": "execute_result"
    },
    {
     "data": {
      "image/png": "[encoded data removed]",
      "text/plain": [
       "<Figure size 640x480 with 1 Axes>"
      ]
     },
     "metadata": {},
     "output_type": "display_data"
    }
   ],
   "source": [
    "print(\"Best Threshold: \",thresholds[np.argmax(f1Values)])\n",
    "plt.plot(thresholds, f1Values)"
   ]
  },
  {
   "cell_type": "markdown",
   "id": "895466f3",
   "metadata": {},
   "source": [
    "### Find GOs with highest tp, tn and tp rate"
   ]
  },
  {
   "cell_type": "code",
   "execution_count": null,
   "id": "13486ea8",
   "metadata": {},
   "outputs": [],
   "source": [
    "for n in tpValues[tpCounts>600]:\n",
    "    try:\n",
    "        print(n, \": \", layerGOs[n])\n",
    "    except:\n",
    "        print(\"failed for \", n)\n",
    "    \n",
    "plt.figure(figsize=(12,6))\n",
    "plt.bar(tpValues[tpCounts>600], tpCounts[tpCounts>600])\n",
    "plt.xticks(rotation=90)\n",
    "plt.title(\"True Positives\")\n",
    "plt.show()\n",
    "\n",
    "plt.figure(figsize=(12,6))\n",
    "plt.hist([layerGOs[tpVal] for tpVal in tpValues])\n",
    "plt.xticks(rotation=45)\n",
    "plt.title(\"Histogram of layer depth of True Positives\")\n",
    "plt.show()\n",
    "\n",
    "plt.figure(figsize=(12,6))\n",
    "plt.hist([occurenceDict[tpVal] for tpVal in tpValues], bins=50, range=(0,10000))\n",
    "plt.xticks(rotation=45)\n",
    "plt.title(\"Histogram of occurence count of True Positives\")\n",
    "plt.show()\n"
   ]
  },
  {
   "cell_type": "code",
   "execution_count": null,
   "id": "514e24dc",
   "metadata": {},
   "outputs": [],
   "source": [
    "for n in fpValues[fpCounts > 200]:\n",
    "    print(n, \": \", layerGOs[n])\n",
    "\n",
    "plt.figure(figsize=(12, 6))\n",
    "plt.bar(fpValues[fpCounts > 200], fpCounts[fpCounts > 200])\n",
    "plt.xticks(rotation=90)\n",
    "plt.title(\"False Positives\")\n",
    "plt.show()\n",
    "\n",
    "plt.figure(figsize=(12, 6))\n",
    "plt.hist([layerGOs[fpVal] for fpVal in fpValues[fpCounts > 10]])\n",
    "plt.xticks(rotation=45)\n",
    "plt.title(\"Histogram of layer depth of False Positives with more than 10 occurences\")\n",
    "plt.show()\n",
    "\n",
    "plt.figure(figsize=(12, 6))\n",
    "plt.hist([occurenceDict[fpVal] for fpVal in fpValues], bins=50, range=(0,10000))\n",
    "plt.xticks(rotation=45)\n",
    "plt.title(\n",
    "    \"Histogram of occurence counts of False Positives\"\n",
    ")\n",
    "plt.show()"
   ]
  },
  {
   "cell_type": "code",
   "execution_count": null,
   "id": "a0d4186a",
   "metadata": {},
   "outputs": [],
   "source": [
    "for n in fnValues[fnCounts>200]:\n",
    "    print(n, \": \", layerGOs[n])\n",
    "    \n",
    "plt.figure(figsize=(12,6))\n",
    "plt.bar(fnValues[fnCounts>200], fnCounts[fnCounts>200])\n",
    "plt.xticks(rotation=90)\n",
    "plt.title(\"False Negatives\")\n",
    "plt.show()\n",
    "\n",
    "plt.figure(figsize=(12,6))\n",
    "plt.hist([layerGOs[fnVal] for fnVal in fnValues[fnCounts>10] ])\n",
    "plt.xticks(rotation=45)\n",
    "plt.title(\"Histogram of layer depth of False Negatives with more than 10 occurences\")\n",
    "plt.show()\n",
    "\n",
    "plt.figure(figsize=(12,6))\n",
    "plt.hist([occurenceDict[fnVal] for fnVal in fnValues], bins=50, range=(0,10000))\n",
    "plt.xticks(rotation=45)\n",
    "plt.title(\"Histogram of occurence count of False Negatives\")\n",
    "plt.show()\n"
   ]
  },
  {
   "cell_type": "markdown",
   "id": "c2168ef4",
   "metadata": {},
   "source": [
    "- The GO terms that are true positives most of the time are from different layers in the GO graph. There is no tendency that the model is better at classifying GOs at a higher layer, i.e. are more general.\n",
    "- The GO terms that are true positive have different frequencies in the dataset. But there is a tendency that true positives are the less common GOs, which is not an expected behavior.\n",
    "- The GO terms that are false positives or false negatives show a clear tendency to occur in a lower layer of the GO graph (which is more specific). But there are also some errors in the higher layers.\n",
    "- The GO terms that are false positives or false negatives show a clear tendency to occur in the classes that are less common in the dataset. So this is an indicator that class imbalance is a problem here."
   ]
  }
 ],
 "metadata": {
  "kernelspec": {
   "display_name": "Python 3 (ipykernel)",
   "language": "python",
   "name": "python3"
  },
  "language_info": {
   "codemirror_mode": {
    "name": "ipython",
    "version": 3
   },
   "file_extension": ".py",
   "mimetype": "text/x-python",
   "name": "python",
   "nbconvert_exporter": "python",
   "pygments_lexer": "ipython3",
   "version": "3.9.16"
  }
 },
 "nbformat": 4,
 "nbformat_minor": 5
}
